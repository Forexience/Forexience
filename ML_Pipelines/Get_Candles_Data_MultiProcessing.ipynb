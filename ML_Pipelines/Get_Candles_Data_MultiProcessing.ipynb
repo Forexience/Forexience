{
 "cells": [
  {
   "cell_type": "code",
   "execution_count": 1,
   "id": "bc3bf81d",
   "metadata": {},
   "outputs": [],
   "source": [
    "import requests\n",
    "import calendar\n",
    "import dateutil.parser as parser\n",
    "import yaml\n",
    "import time\n",
    "import pandas as pd\n",
    "import warnings\n",
    "import concurrent.futures\n",
    "warnings.filterwarnings('ignore')"
   ]
  },
  {
   "cell_type": "code",
   "execution_count": 2,
   "id": "4310c310",
   "metadata": {},
   "outputs": [],
   "source": [
    "def convert_date(utc_time): \n",
    "    parsed_date = parser.parse(utc_time)\n",
    "    var_date=parsed_date.date()\n",
    "    var_time=parsed_date.time()\n",
    "    var_f_time=var_time.hour\n",
    "    var_julian_date=parsed_date.timetuple().tm_yday\n",
    "    var_weekday=parsed_date.weekday()\n",
    "    var_weekday_name=calendar.day_name[parsed_date.weekday()]\n",
    "    return var_date, var_time, var_f_time, var_julian_date, var_weekday, var_weekday_name"
   ]
  },
  {
   "cell_type": "code",
   "execution_count": 3,
   "id": "7af1d542",
   "metadata": {},
   "outputs": [],
   "source": [
    "with open ('config.yml') as ymlfile:\n",
    "    cfg = yaml.safe_load(ymlfile)\n",
    "    oanda_api_key = cfg['creds']['oanda_api']\n",
    "    account_number = cfg['creds']['account_number']"
   ]
  },
  {
   "cell_type": "code",
   "execution_count": 4,
   "id": "591fe094",
   "metadata": {},
   "outputs": [],
   "source": [
    "currency_pairs = ['EUR_USD','USD_CAD','EUR_GBP','EUR_AUD','EUR_CHF',\n",
    "                  'GBP_USD','GBP_CHF','GBP_NZD','GBP_AUD','GBP_CAD',\n",
    "                  'AUD_CAD','AUD_CHF','AUD_NZD','NZD_USD','EUR_CAD',\n",
    "                  'USD_CHF','CAD_CHF','NZD_CAD','AUD_USD','EUR_NZD',\n",
    "                  'NZD_CHF']\n",
    "\n",
    "\n",
    "timeframe = \"H4\"\n",
    "price_char = \"M\"\n",
    "price_com = \"mid\"\n",
    "candles_count = 5000\n",
    "\n",
    "params_count = (\n",
    "    ('price', price_char),\n",
    "    ('count', candles_count),\n",
    "    ('granularity', timeframe),\n",
    ")"
   ]
  },
  {
   "cell_type": "code",
   "execution_count": 5,
   "id": "923cb325",
   "metadata": {},
   "outputs": [],
   "source": [
    "provider_api_url = 'https://api-fxpractice.oanda.com/v3/accounts/{}/orders'.format(account_number)\n",
    "request_headers = {\n",
    "    \"Authorization\": oanda_api_key,\n",
    "    \"Accept-Datetime-Format\": \"RFC3339\",\n",
    "    \"Connection\": \"Keep-Alive\",\n",
    "    \"Content-Type\": \"application/json;charset=UTF-8\"\n",
    "}\n",
    "\n",
    "provider_authorization = 'Bearer {0}'.format(oanda_api_key)\n",
    "\n",
    "headers = {\n",
    "    'Content-Type': 'application/json',\n",
    "    'Authorization': provider_authorization,\n",
    "}"
   ]
  },
  {
   "cell_type": "code",
   "execution_count": 6,
   "id": "288843f1",
   "metadata": {},
   "outputs": [],
   "source": [
    "def get_candles(pair):\n",
    "    output = []\n",
    "    filename = \"{}_{}.csv\".format(pair, timeframe)\n",
    "    first_response = requests.get('https://api-fxpractice.oanda.com/v3/instruments/{}/candles'.format(pair), \n",
    "                            headers=headers,\n",
    "                            params=params_count).json()\n",
    "\n",
    "    response=first_response['candles']    \n",
    "    all_candlesticks = response\n",
    "\n",
    "    for i in range (len(all_candlesticks)):\n",
    "        result= (convert_date(response[i]['time']))\n",
    "        output.append([(result[0]),(result[1]),\n",
    "                    (result[2]),(result[3]),\n",
    "                    (result[4]),(result[5]),\n",
    "                        response[i]['time'],\n",
    "                        response[i]['volume'], \n",
    "                        response[i][price_com]['o'],\n",
    "                        response[i][price_com]['h'],\n",
    "                        response[i][price_com]['l'],\n",
    "                        response[i][price_com]['c']])\n",
    "        \n",
    "    output = pd.DataFrame(output)\n",
    "    output.columns = ['Date','Time',\n",
    "                    'f_time','julian_date',\n",
    "                    'Weekday','Weekday_Name',\n",
    "                    'UTC_Time', 'Volume',\n",
    "                    'Open', 'High', 'Low', 'Close']\n",
    "    output.to_csv(filename, header = True, index = False)"
   ]
  },
  {
   "cell_type": "code",
   "execution_count": 7,
   "id": "dd71d052",
   "metadata": {},
   "outputs": [
    {
     "name": "stdout",
     "output_type": "stream",
     "text": [
      "Finished in 2.1080649600044126 seconds\n"
     ]
    }
   ],
   "source": [
    "t1 = time.perf_counter()\n",
    "\n",
    "with concurrent.futures.ProcessPoolExecutor() as executor:\n",
    "    executor.map(get_candles, currency_pairs)\n",
    "\n",
    "t2 = time.perf_counter()\n",
    "\n",
    "print(f'Finished in {t2-t1} seconds')"
   ]
  },
  {
   "cell_type": "code",
   "execution_count": null,
   "id": "1c6873a5",
   "metadata": {},
   "outputs": [],
   "source": []
  }
 ],
 "metadata": {
  "kernelspec": {
   "display_name": "Python 3 (ipykernel)",
   "language": "python",
   "name": "python3"
  },
  "language_info": {
   "codemirror_mode": {
    "name": "ipython",
    "version": 3
   },
   "file_extension": ".py",
   "mimetype": "text/x-python",
   "name": "python",
   "nbconvert_exporter": "python",
   "pygments_lexer": "ipython3",
   "version": "3.8.10"
  }
 },
 "nbformat": 4,
 "nbformat_minor": 5
}
