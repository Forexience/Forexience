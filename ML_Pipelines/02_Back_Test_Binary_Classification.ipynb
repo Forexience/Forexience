{
 "cells": [
  {
   "cell_type": "markdown",
   "id": "21718585",
   "metadata": {},
   "source": [
    "## Back Test Results Binary Classification"
   ]
  },
  {
   "cell_type": "code",
   "execution_count": null,
   "id": "5c799242",
   "metadata": {},
   "outputs": [],
   "source": [
    "import pandas as pd\n",
    "from datetime import datetime, timezone\n",
    "from pycaret.datasets import get_data\n",
    "from pycaret.classification import *\n",
    "import yaml\n",
    "import time\n",
    "import warnings\n",
    "warnings.filterwarnings('ignore')"
   ]
  },
  {
   "cell_type": "code",
   "execution_count": null,
   "id": "5cf01435",
   "metadata": {},
   "outputs": [],
   "source": [
    "with open ('back_test_pipeline_settings.yaml') as ymlfile:\n",
    "    cfg = yaml.safe_load(ymlfile)\n",
    "    pair = cfg['currency']['pair']\n",
    "    frac = cfg['model']['frac']\n",
    "    random_state = cfg['model']['random_state']"
   ]
  },
  {
   "cell_type": "code",
   "execution_count": null,
   "id": "4a55f2ac",
   "metadata": {},
   "outputs": [],
   "source": [
    "print('Pair:', pair)\n",
    "print('Fraction:', frac)\n",
    "print('Random State:', random_state)"
   ]
  },
  {
   "cell_type": "code",
   "execution_count": null,
   "id": "ebe5a5a8",
   "metadata": {},
   "outputs": [],
   "source": [
    "now = datetime.now()\n",
    "today = now.strftime(\"%d-%m-%Y_%I-%M_%p\")"
   ]
  },
  {
   "cell_type": "code",
   "execution_count": null,
   "id": "255553be",
   "metadata": {},
   "outputs": [],
   "source": [
    "dataset = pd.read_csv('01_Back_Test_Data.csv')\n",
    "dataset.shape"
   ]
  },
  {
   "cell_type": "code",
   "execution_count": null,
   "id": "64166a4e",
   "metadata": {},
   "outputs": [],
   "source": [
    "dataset.head()"
   ]
  },
  {
   "cell_type": "code",
   "execution_count": null,
   "id": "1f7255e1",
   "metadata": {},
   "outputs": [],
   "source": [
    "dataset.describe()"
   ]
  },
  {
   "cell_type": "code",
   "execution_count": null,
   "id": "8a207f63",
   "metadata": {},
   "outputs": [],
   "source": [
    "dataset['Rec1_Close_Score'] = dataset['Rec1_Close_Score'].round()\n",
    "dataset['Rec1_High_Score'] = dataset['Rec1_High_Score'].round()\n",
    "dataset['Rec1_Low_Score'] = dataset['Rec1_Low_Score'].round()\n",
    "\n",
    "dataset['Rec2_Close_Score'] = dataset['Rec2_Close_Score'].round()\n",
    "dataset['Rec2_High_Score'] = dataset['Rec2_High_Score'].round()\n",
    "dataset['Rec2_Low_Score'] = dataset['Rec2_Low_Score'].round()\n",
    "\n",
    "dataset['Rec3_Close_Score'] = dataset['Rec3_Close_Score'].round()\n",
    "dataset['Rec3_High_Score'] = dataset['Rec3_High_Score'].round()\n",
    "dataset['Rec3_Low_Score'] = dataset['Rec3_Low_Score'].round()\n",
    "\n",
    "dataset['Rec4_Close_Score'] = dataset['Rec4_Close_Score'].round()\n",
    "dataset['Rec4_High_Score'] = dataset['Rec4_High_Score'].round()\n",
    "dataset['Rec4_Low_Score'] = dataset['Rec4_Low_Score'].round()"
   ]
  },
  {
   "cell_type": "raw",
   "id": "87ac91bb",
   "metadata": {},
   "source": [
    "dataset['Rec1_Close_Score'] = abs(dataset['Rec1_Close_Score'])\n",
    "dataset['Rec1_High_Score'] = abs(dataset['Rec1_High_Score'])\n",
    "dataset['Rec1_Low_Score'] = abs(dataset['Rec1_Low_Score'])\n",
    "\n",
    "dataset['Rec2_Close_Score'] = abs(dataset['Rec2_Close_Score'])\n",
    "dataset['Rec2_High_Score'] = abs(dataset['Rec2_High_Score'])\n",
    "dataset['Rec2_Low_Score'] = abs(dataset['Rec2_Low_Score'])\n",
    "\n",
    "dataset['Rec3_Close_Score'] = abs(dataset['Rec3_Close_Score'])\n",
    "dataset['Rec3_High_Score'] = abs(dataset['Rec3_High_Score'])\n",
    "dataset['Rec3_Low_Score'] = abs(dataset['Rec3_Low_Score'])\n",
    "\n",
    "dataset['Rec4_Close_Score'] = abs(dataset['Rec4_Close_Score'])\n",
    "dataset['Rec4_High_Score'] = abs(dataset['Rec4_High_Score'])\n",
    "dataset['Rec4_Low_Score'] = abs(dataset['Rec4_Low_Score'])"
   ]
  },
  {
   "cell_type": "code",
   "execution_count": null,
   "id": "ed630edf",
   "metadata": {},
   "outputs": [],
   "source": [
    "dataset['Rec1_HH'] = abs(dataset['Rec1_HH'])\n",
    "dataset['Rec1_LL'] = abs(dataset['Rec1_LL'])\n",
    "dataset['Rec2_HH'] = abs(dataset['Rec2_HH'])\n",
    "dataset['Rec2_LL'] = abs(dataset['Rec2_LL'])\n",
    "dataset['Rec3_HH'] = abs(dataset['Rec3_HH'])\n",
    "dataset['Rec3_LL'] = abs(dataset['Rec3_LL'])\n",
    "dataset['Rec4_HH'] = abs(dataset['Rec4_HH'])\n",
    "dataset['Rec4_LL'] = abs(dataset['Rec4_LL'])"
   ]
  },
  {
   "cell_type": "code",
   "execution_count": null,
   "id": "cfd5b84d",
   "metadata": {},
   "outputs": [],
   "source": [
    "dataset.head(10)"
   ]
  },
  {
   "cell_type": "markdown",
   "id": "1ddf92df",
   "metadata": {},
   "source": [
    "## Drop Predictions with Less than n% LR Fit"
   ]
  },
  {
   "cell_type": "code",
   "execution_count": null,
   "id": "fb45e5e2",
   "metadata": {},
   "outputs": [],
   "source": [
    "dataset = dataset[dataset['Current_Market_Fit'] > 16]\n",
    "dataset = dataset.reset_index()\n",
    "del dataset['index']"
   ]
  },
  {
   "cell_type": "code",
   "execution_count": null,
   "id": "901c4850",
   "metadata": {},
   "outputs": [],
   "source": [
    "dataset.shape"
   ]
  },
  {
   "cell_type": "code",
   "execution_count": null,
   "id": "5de967d8",
   "metadata": {},
   "outputs": [],
   "source": [
    "dataset.columns"
   ]
  },
  {
   "cell_type": "code",
   "execution_count": null,
   "id": "d2ede005",
   "metadata": {},
   "outputs": [],
   "source": [
    "dataset = dataset.drop([\n",
    "    'Candle_No',\n",
    "    'Current_Market_Fit',\n",
    "#    'Rec1_Close_Score',\n",
    "    'Rec1_High_Score',\n",
    "    'Rec1_Low_Score',\n",
    "    'Rec1_HH',\n",
    "    'Rec1_LL',\n",
    "#    'Rec2_Close_Score',\n",
    "    'Rec2_High_Score',\n",
    "    'Rec2_Low_Score',\n",
    "    'Rec2_HH',\n",
    "    'Rec2_LL',\n",
    "#    'Rec3_Close_Score',\n",
    "    'Rec3_High_Score',\n",
    "    'Rec3_Low_Score',\n",
    "    'Rec3_HH',\n",
    "    'Rec3_LL',\n",
    "#    'Rec4_Close_Score',\n",
    "    'Rec4_High_Score',\n",
    "    'Rec4_Low_Score',\n",
    "    'Rec4_HH',\n",
    "    'Rec4_LL',\n",
    "], axis=1)"
   ]
  },
  {
   "cell_type": "code",
   "execution_count": null,
   "id": "f04d710f",
   "metadata": {},
   "outputs": [],
   "source": [
    "dataset.head(20)"
   ]
  },
  {
   "cell_type": "code",
   "execution_count": null,
   "id": "fea176e5",
   "metadata": {},
   "outputs": [],
   "source": [
    "data = dataset.sample(frac=frac, random_state=random_state).reset_index(drop=True)\n",
    "data_unseen = dataset.drop(data.index).reset_index(drop=True)\n",
    "\n",
    "print('Data for Modeling: ' + str(data.shape))\n",
    "print('Unseen Data For Predictions: ' + str(data_unseen.shape))\n",
    "print('Fraction: ' + str(frac))\n",
    "#print('Random State: ', str(random_state))"
   ]
  },
  {
   "cell_type": "markdown",
   "id": "e52d7302",
   "metadata": {},
   "source": [
    "# Create Unseen DataFrame"
   ]
  },
  {
   "cell_type": "code",
   "execution_count": null,
   "id": "b794b868",
   "metadata": {},
   "outputs": [],
   "source": [
    "data_unseen.shape"
   ]
  },
  {
   "cell_type": "code",
   "execution_count": null,
   "id": "c359fa55",
   "metadata": {},
   "outputs": [],
   "source": [
    "data_unseen.head()"
   ]
  },
  {
   "cell_type": "code",
   "execution_count": null,
   "id": "18415ef6",
   "metadata": {
    "scrolled": false
   },
   "outputs": [],
   "source": [
    "exp_name = setup(data = data,\n",
    "                 target = 'Current_Market',\n",
    "#                 fold_shuffle=True,\n",
    "                 session_id=123,\n",
    "                 silent=True,\n",
    "#                 n_jobs = 64,\n",
    "#                 imputation_type='iterative'\n",
    "                ) "
   ]
  },
  {
   "cell_type": "code",
   "execution_count": null,
   "id": "ddcde149",
   "metadata": {
    "scrolled": false
   },
   "outputs": [],
   "source": [
    "compare_models()"
   ]
  },
  {
   "cell_type": "code",
   "execution_count": null,
   "id": "9776c884",
   "metadata": {},
   "outputs": [],
   "source": [
    "break"
   ]
  },
  {
   "cell_type": "code",
   "execution_count": null,
   "id": "5af39c9c",
   "metadata": {},
   "outputs": [],
   "source": [
    "with open ('back_test_pipeline_settings.yaml') as ymlfile:\n",
    "    cfg = yaml.safe_load(ymlfile)\n",
    "    model = cfg['model']['name']\n",
    "    \n",
    "print('Model Name:', model)"
   ]
  },
  {
   "cell_type": "code",
   "execution_count": null,
   "id": "5abe4938",
   "metadata": {},
   "outputs": [],
   "source": [
    "MODEL = create_model(model)"
   ]
  },
  {
   "cell_type": "code",
   "execution_count": null,
   "id": "74b183f5",
   "metadata": {},
   "outputs": [],
   "source": [
    "plot_model(MODEL, plot = 'confusion_matrix')"
   ]
  },
  {
   "cell_type": "code",
   "execution_count": null,
   "id": "d582a4a6",
   "metadata": {},
   "outputs": [],
   "source": [
    "TUNED_MODEL = tune_model(MODEL)"
   ]
  },
  {
   "cell_type": "code",
   "execution_count": null,
   "id": "9bf3836d",
   "metadata": {},
   "outputs": [],
   "source": [
    "plot_model(TUNED_MODEL, plot = 'auc')"
   ]
  },
  {
   "cell_type": "code",
   "execution_count": null,
   "id": "315d0763",
   "metadata": {},
   "outputs": [],
   "source": [
    "plot_model(TUNED_MODEL, plot = 'pr')"
   ]
  },
  {
   "cell_type": "code",
   "execution_count": null,
   "id": "2361d808",
   "metadata": {},
   "outputs": [],
   "source": [
    "plot_model(TUNED_MODEL, plot='feature')"
   ]
  },
  {
   "cell_type": "code",
   "execution_count": null,
   "id": "eb8e2b11",
   "metadata": {},
   "outputs": [],
   "source": [
    "plot_model(TUNED_MODEL, plot = 'confusion_matrix')"
   ]
  },
  {
   "cell_type": "code",
   "execution_count": null,
   "id": "bb4aef5f",
   "metadata": {},
   "outputs": [],
   "source": [
    "predict_model(TUNED_MODEL);"
   ]
  },
  {
   "cell_type": "code",
   "execution_count": null,
   "id": "f2f62ddc",
   "metadata": {},
   "outputs": [],
   "source": [
    "FINAL_MODEL = finalize_model(TUNED_MODEL)"
   ]
  },
  {
   "cell_type": "code",
   "execution_count": null,
   "id": "951b021a",
   "metadata": {},
   "outputs": [],
   "source": [
    "print(FINAL_MODEL)"
   ]
  },
  {
   "cell_type": "code",
   "execution_count": null,
   "id": "4eaf9115",
   "metadata": {},
   "outputs": [],
   "source": [
    "predict_model(FINAL_MODEL);"
   ]
  },
  {
   "cell_type": "code",
   "execution_count": null,
   "id": "c565409a",
   "metadata": {},
   "outputs": [],
   "source": [
    "unseen_predictions = predict_model(FINAL_MODEL, data=data_unseen)\n",
    "unseen_predictions.head()"
   ]
  },
  {
   "cell_type": "code",
   "execution_count": null,
   "id": "8da349a7",
   "metadata": {},
   "outputs": [],
   "source": [
    "plot_model(FINAL_MODEL, plot = 'auc')"
   ]
  },
  {
   "cell_type": "code",
   "execution_count": null,
   "id": "56a90418",
   "metadata": {},
   "outputs": [],
   "source": [
    "pkl_name = (today + \"_\" + model + \"_\" + pair)"
   ]
  },
  {
   "cell_type": "code",
   "execution_count": null,
   "id": "274d0352",
   "metadata": {},
   "outputs": [],
   "source": [
    "save_model(FINAL_MODEL, pkl_name)"
   ]
  },
  {
   "cell_type": "code",
   "execution_count": null,
   "id": "8534240f",
   "metadata": {},
   "outputs": [],
   "source": [
    "SAVED_FINAL_MODEL = load_model(pkl_name)"
   ]
  },
  {
   "cell_type": "code",
   "execution_count": null,
   "id": "946466bb",
   "metadata": {},
   "outputs": [],
   "source": [
    "new_prediction = predict_model(SAVED_FINAL_MODEL, data=data_unseen)"
   ]
  },
  {
   "cell_type": "code",
   "execution_count": null,
   "id": "c90c036a",
   "metadata": {},
   "outputs": [],
   "source": [
    "data_unseen.shape"
   ]
  },
  {
   "cell_type": "code",
   "execution_count": null,
   "id": "afb4fabc",
   "metadata": {
    "scrolled": false
   },
   "outputs": [],
   "source": [
    "new_prediction.head(20)"
   ]
  },
  {
   "cell_type": "code",
   "execution_count": null,
   "id": "7341c0f6",
   "metadata": {},
   "outputs": [],
   "source": [
    "file = open(today + \"_\" + model + \"_binary_classification_log_\" + pair + \".txt\", \"w\")\n",
    "file.write (\"Date: \" + today + \"\\n\" + \\\n",
    "            \"Currency Pair: \" + pair + \"\\n\" + \\\n",
    "            \"Model: \" + model + \"\\n\" + \\\n",
    "            \"Frac: \" + str(frac) + \"\\n\" + \\\n",
    "            \"Random State: \" + str(random_state) + \"\\n\" + \\\n",
    "            \"Model Input: \" + str(dataset.columns) + \"\\n\"  + \\\n",
    "            \"Training Data Size: \" + str(data.shape) + \"\\n\" + \\\n",
    "            \"Test Data Size: \" + str(data_unseen.shape) + \"\\n\"\n",
    "           )\n",
    "file.close()"
   ]
  },
  {
   "cell_type": "code",
   "execution_count": null,
   "id": "fcd384e7",
   "metadata": {},
   "outputs": [],
   "source": []
  }
 ],
 "metadata": {
  "kernelspec": {
   "display_name": "Python 3 (ipykernel)",
   "language": "python",
   "name": "python3"
  },
  "language_info": {
   "codemirror_mode": {
    "name": "ipython",
    "version": 3
   },
   "file_extension": ".py",
   "mimetype": "text/x-python",
   "name": "python",
   "nbconvert_exporter": "python",
   "pygments_lexer": "ipython3",
   "version": "3.8.10"
  }
 },
 "nbformat": 4,
 "nbformat_minor": 5
}
