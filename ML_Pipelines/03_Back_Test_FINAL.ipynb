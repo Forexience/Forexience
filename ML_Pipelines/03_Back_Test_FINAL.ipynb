{
 "cells": [
  {
   "cell_type": "markdown",
   "metadata": {},
   "source": [
    "## Back Test Data Generation"
   ]
  },
  {
   "cell_type": "code",
   "execution_count": null,
   "metadata": {},
   "outputs": [],
   "source": [
    "import requests\n",
    "import time\n",
    "import calendar\n",
    "import dateutil.parser as parser\n",
    "from dateutil.relativedelta import relativedelta\n",
    "from datetime import datetime, timezone\n",
    "import pandas as pd\n",
    "import numpy as np\n",
    "import yaml\n",
    "import warnings\n",
    "warnings.filterwarnings('ignore')\n",
    "from sklearn.neighbors import NearestNeighbors\n",
    "from sklearn.linear_model import LinearRegression\n",
    "from sklearn import linear_model\n",
    "from sklearn.metrics import r2_score\n",
    "from sklearn.metrics import mean_squared_error\n",
    "from pycaret.classification import *"
   ]
  },
  {
   "cell_type": "code",
   "execution_count": null,
   "metadata": {},
   "outputs": [],
   "source": [
    "now = datetime.now()\n",
    "today = now.strftime(\"%d-%m-%Y_%I-%M_%p\")"
   ]
  },
  {
   "cell_type": "code",
   "execution_count": null,
   "metadata": {},
   "outputs": [],
   "source": [
    "with open ('back_test_pipeline_settings.yaml') as ymlfile:\n",
    "    cfg = yaml.safe_load(ymlfile)\n",
    "    k_number = cfg['knn']['k_number']\n",
    "    metric = cfg['knn']['metric']\n",
    "    algorithm = cfg['knn']['algorithm']\n",
    "    feature_1 = cfg['knn']['feature_1']\n",
    "    feature_2 = cfg['knn']['feature_2']\n",
    "    feature_3 = cfg['knn']['feature_3']\n",
    "    feature_7 = cfg['knn']['feature_7']\n",
    "    feature_8 = cfg['knn']['feature_8']\n",
    "    feature_15 = cfg['knn']['feature_15']\n",
    "    volume = cfg['feature']['volume']\n",
    "    volume_size = cfg['sample']['volume_size']\n",
    "    sample_count = cfg['sample']['count']\n",
    "    candles = cfg['recommendation']['candle_count']\n",
    "    pair = cfg['currency']['pair']\n",
    "    instrument = cfg['currency']['instrument']\n",
    "    model = cfg['model']['name']"
   ]
  },
  {
   "cell_type": "code",
   "execution_count": null,
   "metadata": {},
   "outputs": [],
   "source": [
    "print('K Number:',k_number)\n",
    "print('Metric:', metric)\n",
    "print('Algorithm:', algorithm)\n",
    "print('Candle Volume Size:', volume_size)\n",
    "print('Random Sample Count:', sample_count)\n",
    "print('Future Candle Count:', candles)\n",
    "print('Pair:', pair)\n",
    "print('Instrument:', instrument)\n",
    "print('Model:', model)"
   ]
  },
  {
   "cell_type": "code",
   "execution_count": null,
   "metadata": {},
   "outputs": [],
   "source": [
    "def convert_date(utc_time): \n",
    "    parsed_date = parser.parse(utc_time)\n",
    "    var_date=parsed_date.date()\n",
    "    var_time=parsed_date.time()\n",
    "    var_f_time=var_time.hour\n",
    "    var_julian_date=parsed_date.timetuple().tm_yday\n",
    "    var_weekday=parsed_date.weekday()\n",
    "    var_weekday_name=calendar.day_name[parsed_date.weekday()]\n",
    "    return var_date, var_time, var_f_time, var_julian_date, var_weekday, var_weekday_name"
   ]
  },
  {
   "cell_type": "code",
   "execution_count": null,
   "metadata": {},
   "outputs": [],
   "source": [
    "def find_k_similar_candles(candle_id, dataset, k=k_number):\n",
    "    indices=[]\n",
    "    distances = []\n",
    "    output = []\n",
    "    model_knn = NearestNeighbors(metric = metric, algorithm = algorithm) \n",
    "    model_knn.fit(dataset)\n",
    "    \n",
    "    #metric = 'euclidean' or 'cosine' or 'manhattan' or 'mahalanobis'\n",
    "    \n",
    "    distances, indices = model_knn.kneighbors(dataset.iloc[candle_id,:].values.reshape(1,-1),\n",
    "                                              n_neighbors = k)\n",
    "\n",
    "    for i in range(0,len(distances.flatten())):\n",
    "        if i!=0:\n",
    "            \n",
    "            output.append ([dataset.index[indices.flatten()[i]],\n",
    "                            distances.flatten()[i],\n",
    "                            dataset.iloc[indices.flatten()[i]][feature_1],\n",
    "                            dataset.iloc[indices.flatten()[i]][feature_2],\n",
    "                            dataset.iloc[indices.flatten()[i]][feature_3],\n",
    "                            dataset.iloc[indices.flatten()[i]][feature_7],\n",
    "                            dataset.iloc[indices.flatten()[i]][feature_8],\n",
    "                           ])\n",
    "    \n",
    "    output = pd.DataFrame(output)\n",
    "    output.columns = ['Indice','Distance',\n",
    "                      feature_1,\n",
    "                      feature_2,\n",
    "                      feature_3,\n",
    "                      feature_7,\n",
    "                      feature_8,\n",
    "                     ]\n",
    "   # display (output)\n",
    "    \n",
    "    return indices, distances"
   ]
  },
  {
   "cell_type": "markdown",
   "metadata": {},
   "source": [
    "# <font color='red'>Test Configs</font>"
   ]
  },
  {
   "cell_type": "code",
   "execution_count": null,
   "metadata": {},
   "outputs": [],
   "source": [
    "filename = '{}_H4.csv'.format(instrument)\n",
    "data = pd.read_csv(filename)"
   ]
  },
  {
   "cell_type": "code",
   "execution_count": null,
   "metadata": {},
   "outputs": [],
   "source": [
    "data.columns"
   ]
  },
  {
   "cell_type": "code",
   "execution_count": null,
   "metadata": {},
   "outputs": [],
   "source": [
    "data.head()"
   ]
  },
  {
   "cell_type": "markdown",
   "metadata": {},
   "source": [
    "## Selecting 1000 Random Candles"
   ]
  },
  {
   "cell_type": "code",
   "execution_count": null,
   "metadata": {},
   "outputs": [],
   "source": [
    "random_samples = data[data[volume] > volume_size].sample(n = sample_count)\n",
    "Test_Candle = list(random_samples.index.values)"
   ]
  },
  {
   "cell_type": "code",
   "execution_count": null,
   "metadata": {},
   "outputs": [],
   "source": [
    "Test_Candle[0:10]"
   ]
  },
  {
   "cell_type": "code",
   "execution_count": null,
   "metadata": {},
   "outputs": [],
   "source": [
    "data.head()"
   ]
  },
  {
   "cell_type": "markdown",
   "metadata": {},
   "source": [
    "# <font color='red'>CANDLE LOOP</font>"
   ]
  },
  {
   "cell_type": "code",
   "execution_count": null,
   "metadata": {},
   "outputs": [],
   "source": [
    "FINAL_MODEL = load_model('USDCHF/KNN/02/14-03-2022_03-38_AM_knn_USDCHF')"
   ]
  },
  {
   "cell_type": "code",
   "execution_count": null,
   "metadata": {},
   "outputs": [],
   "source": [
    "%%time\n",
    "print ('Today: ' + today)\n",
    "\n",
    "result_output = pd.DataFrame({'Candle_No':[],\n",
    "                              'Current_Market_Fit':[],\n",
    "                              'Current_Market':[],\n",
    "                              '{}_Label'.format(model):[],\n",
    "                              '{}_Score'.format(model):[],                            \n",
    "                             })\n",
    "\n",
    "for candle_no in Test_Candle:\n",
    "    data = pd.read_csv(filename)\n",
    "    data = data.iloc[candle_no:candle_no+candles]\n",
    "    data['candleno'] = range (1, len(data) + 1)\n",
    "    X = data['candleno'].values.reshape(-1, 1)\n",
    "    Y = data['Close'].values.reshape(-1, 1)\n",
    "    linear_regressor = LinearRegression()\n",
    "    linear_regressor.fit(X, Y)\n",
    "    y_pred = linear_regressor.predict(X) \n",
    "    \n",
    "    Current_Market_Fit = r2_score(Y, y_pred)*100\n",
    "    coeficient = (linear_regressor.coef_)\n",
    "\n",
    "    if coeficient > 0:\n",
    "        Current_Market= 1\n",
    "\n",
    "    else:\n",
    "        Current_Market = 0\n",
    "\n",
    "    data = pd.read_csv(filename)\n",
    "    data = data[[feature_1,\n",
    "                 feature_2,\n",
    "                 feature_3,\n",
    "                 feature_7,\n",
    "                 feature_8,\n",
    "                ]]\n",
    "\n",
    "    indices, distances = find_k_similar_candles (candle_no,data)\n",
    "    indices = indices[0:1][0]\n",
    "    \n",
    "    L_L = []\n",
    "    H_H = []\n",
    "    predicted_output_1 = []\n",
    "    predicted_output_2 = []\n",
    "    predicted_output_3 = []\n",
    "        \n",
    "    for indice in indices[1:5]:\n",
    "        #print(indice)\n",
    "        data = pd.read_csv(filename) \n",
    "        data = data.iloc[indice:indice+candles]\n",
    "        \n",
    "        HH = data.iloc[0]['Close'] - data['High'].max()\n",
    "        LL = data.iloc[0]['Close'] - data['Low'].min()\n",
    "        \n",
    "        L_L.append([LL])\n",
    "        H_H.append([HH])\n",
    "\n",
    "        data['candleno'] = range (1, len(data) + 1)\n",
    "        X = data['candleno'].values.reshape(-1, 1)\n",
    "        \n",
    "        Y_Close = data['Close'].values.reshape(-1, 1)\n",
    "        linear_regressor = LinearRegression()\n",
    "        linear_regressor.fit(X, Y_Close)\n",
    "        y_pred = linear_regressor.predict(X)\n",
    "        Predicted_Market_Fit_Close = r2_score(Y_Close, y_pred)*100\n",
    "        coeficient_close = (linear_regressor.coef_)\n",
    "        if coeficient_close > 0:\n",
    "            Predicted_Trade_Close = 1    ## Buy ##\n",
    "        else:\n",
    "            Predicted_Trade_Close = -1   ## Sell ##\n",
    "        \n",
    "        predicted_output_1.append([Predicted_Market_Fit_Close * Predicted_Trade_Close])\n",
    "        \n",
    "        \n",
    "        Y_High = data['High'].values.reshape(-1, 1)\n",
    "        linear_regressor.fit(X, Y_High)\n",
    "        y_pred = linear_regressor.predict(X)\n",
    "        Predicted_Market_Fit_High= r2_score(Y_High, y_pred)*100\n",
    "        coeficient_high = (linear_regressor.coef_)\n",
    "        \n",
    "        if coeficient_high > 0:\n",
    "            Predicted_Trade_High = 1    ## Buy ##\n",
    "        else:\n",
    "            Predicted_Trade_High = -1   ## Sell ##            \n",
    "        \n",
    "        predicted_output_2.append([Predicted_Market_Fit_High * Predicted_Trade_High])\n",
    "        \n",
    "        \n",
    "        Y_Low = data['Low'].values.reshape(-1, 1)\n",
    "        linear_regressor.fit(X, Y_Low)\n",
    "        y_pred = linear_regressor.predict(X)\n",
    "        Predicted_Market_Fit_Low= r2_score(Y_Low, y_pred)*100\n",
    "        coeficient_low = (linear_regressor.coef_)\n",
    "        if coeficient_low > 0:\n",
    "            Predicted_Trade_Low = 1    ## Buy ##\n",
    "        else:\n",
    "            Predicted_Trade_Low = -1   ## Sell ##\n",
    "        \n",
    "        predicted_output_3.append([Predicted_Market_Fit_Low * Predicted_Trade_Low])\n",
    "        \n",
    "        \n",
    "    data_unseen = pd.DataFrame ({\n",
    "        'Rec1_Close_Score': [predicted_output_1[0][0]],\n",
    "#        'Rec1_High_Score': [predicted_output_2[0][0]],\n",
    "#        'Rec1_Low_Score': [predicted_output_3[0][0]],\n",
    "#        'Rec1_HH': [H_H[0][0]],\n",
    "#        'Rec1_LL': [L_L[0][0]],\n",
    "              \n",
    "        'Rec2_Close_Score': [predicted_output_1[1][0]],\n",
    "#        'Rec2_High_Score': [predicted_output_2[1][0]],\n",
    "#        'Rec2_Low_Score': [predicted_output_3[1][0]],\n",
    "#        'Rec2_HH': [H_H[1][0]],\n",
    "#        'Rec2_LL': [L_L[1][0]],\n",
    "              \n",
    "        'Rec3_Close_Score': [predicted_output_1[2][0]],\n",
    "#        'Rec3_High_Score': [predicted_output_2[2][0]],\n",
    "#        'Rec3_Low_Score': [predicted_output_3[2][0]],\n",
    "#        'Rec3_HH': [H_H[2][0]],\n",
    "#        'Rec3_LL': [L_L[2][0]],\n",
    "              \n",
    "        'Rec4_Close_Score': [predicted_output_1[3][0]],\n",
    "#        'Rec4_High_Score': [predicted_output_2[3][0]],\n",
    "#        'Rec4_Low_Score': [predicted_output_3[3][0]],\n",
    "#        'Rec4_HH': [H_H[3][0]],\n",
    "#        'Rec4_LL': [L_L[3][0]]\n",
    "    })\n",
    "        \n",
    "    model_prediction = predict_model(FINAL_MODEL, data=data_unseen)\n",
    "    MODEL_Label = model_prediction['Label']\n",
    "    MODEL_Score = model_prediction['Score']\n",
    "  \n",
    "    result = {'Candle_No': candle_no,\n",
    "              'Current_Market_Fit': Current_Market_Fit,\n",
    "              'Current_Market': Current_Market,\n",
    "              '{}_Label'.format(model): MODEL_Label[0],\n",
    "              '{}_Score'.format(model): MODEL_Score[0],\n",
    "             }\n",
    "    \n",
    "    result_output = result_output.append(result, ignore_index = True)"
   ]
  },
  {
   "cell_type": "code",
   "execution_count": null,
   "metadata": {},
   "outputs": [],
   "source": [
    "result_output.to_csv('03_Back_Test_Final_Result_' + today + '.csv', header = True, index = False)\n",
    "result_output = pd.read_csv('03_Back_Test_Final_Result_' + today + '.csv')"
   ]
  },
  {
   "cell_type": "code",
   "execution_count": null,
   "metadata": {},
   "outputs": [],
   "source": [
    "result_output = result_output[result_output['Current_Market_Fit'] > 16]\n",
    "result_output = result_output.reset_index()\n",
    "del result_output['index']"
   ]
  },
  {
   "cell_type": "code",
   "execution_count": null,
   "metadata": {},
   "outputs": [],
   "source": [
    "result_output.shape"
   ]
  },
  {
   "cell_type": "code",
   "execution_count": null,
   "metadata": {},
   "outputs": [],
   "source": [
    "result_output.to_csv('03_Back_Test_Final_Result_' + today + '.csv', header = True, index = False)\n",
    "result_output = pd.read_csv('03_Back_Test_Final_Result_' + today + '.csv')"
   ]
  },
  {
   "cell_type": "code",
   "execution_count": null,
   "metadata": {},
   "outputs": [],
   "source": [
    "result_output['MODEL_Prediction'] = result_output['Current_Market'] - result_output['{}_Label'.format(model)]"
   ]
  },
  {
   "cell_type": "code",
   "execution_count": null,
   "metadata": {},
   "outputs": [],
   "source": [
    "result_output.head(30)"
   ]
  },
  {
   "cell_type": "code",
   "execution_count": null,
   "metadata": {},
   "outputs": [],
   "source": [
    "MODEL_Result = pd.DataFrame(result_output['MODEL_Prediction'].value_counts())\n",
    "MODEL_Result[\"Score\"] = (MODEL_Result['MODEL_Prediction'] * 100 / len(result_output)).round(2)"
   ]
  },
  {
   "cell_type": "code",
   "execution_count": null,
   "metadata": {},
   "outputs": [],
   "source": [
    "result = pd.concat([\n",
    "    MODEL_Result,\n",
    "], axis=1)\n",
    "result"
   ]
  },
  {
   "cell_type": "code",
   "execution_count": null,
   "metadata": {},
   "outputs": [],
   "source": [
    "file = open(today + \"_\" + model + \"_final_test_log_\" + pair + \".txt\", \"w\")\n",
    "file.write (\"Date: \" + today + \"\\n\" + \\\n",
    "            \"Currency Pair: \" + pair + \"\\n\" + \\\n",
    "            \"Model: \" + model + \"\\n\" + \\\n",
    "            \"Model Input: \" + str(data_unseen.columns) + \"\\n\" + \\\n",
    "            \"Final Result: \" + str(result) + \"\\n\"\n",
    "           )\n",
    "file.close()"
   ]
  }
 ],
 "metadata": {
  "kernelspec": {
   "display_name": "Python 3 (ipykernel)",
   "language": "python",
   "name": "python3"
  },
  "language_info": {
   "codemirror_mode": {
    "name": "ipython",
    "version": 3
   },
   "file_extension": ".py",
   "mimetype": "text/x-python",
   "name": "python",
   "nbconvert_exporter": "python",
   "pygments_lexer": "ipython3",
   "version": "3.8.10"
  }
 },
 "nbformat": 4,
 "nbformat_minor": 2
}
