{
 "cells": [
  {
   "cell_type": "markdown",
   "metadata": {},
   "source": [
    "## Back Test Data Generation"
   ]
  },
  {
   "cell_type": "code",
   "execution_count": null,
   "metadata": {},
   "outputs": [],
   "source": [
    "import requests\n",
    "import time\n",
    "import calendar\n",
    "import dateutil.parser as parser\n",
    "from dateutil.relativedelta import relativedelta\n",
    "from datetime import datetime, timezone\n",
    "import pandas as pd\n",
    "import numpy as np\n",
    "import yaml\n",
    "import warnings\n",
    "warnings.filterwarnings('ignore')\n",
    "from sklearn.neighbors import NearestNeighbors\n",
    "from sklearn.linear_model import LinearRegression\n",
    "from sklearn import linear_model\n",
    "from sklearn.metrics import r2_score\n",
    "from sklearn.metrics import mean_squared_error\n",
    "from pycaret.classification import *"
   ]
  },
  {
   "cell_type": "code",
   "execution_count": null,
   "metadata": {},
   "outputs": [],
   "source": [
    "now = datetime.now()\n",
    "today = now.strftime(\"%d-%m-%Y_%I-%M_%p\")"
   ]
  },
  {
   "cell_type": "code",
   "execution_count": null,
   "metadata": {},
   "outputs": [],
   "source": [
    "with open ('back_test_pipeline_settings.yaml') as ymlfile:\n",
    "    cfg = yaml.safe_load(ymlfile)\n",
    "    k_number = cfg['knn']['k_number']\n",
    "    metric = cfg['knn']['metric']\n",
    "    algorithm = cfg['knn']['algorithm']\n",
    "    feature_1 = cfg['knn']['feature_1']\n",
    "    feature_2 = cfg['knn']['feature_2']\n",
    "    feature_3 = cfg['knn']['feature_3']\n",
    "    feature_7 = cfg['knn']['feature_7']\n",
    "    feature_8 = cfg['knn']['feature_8']   \n",
    "    volume = cfg['feature']['volume']\n",
    "    volume_size = cfg['sample']['volume_size']\n",
    "    sample_count = cfg['sample']['count']\n",
    "    candles = cfg['recommendation']['candle_count']\n",
    "    pair = cfg['currency']['pair']"
   ]
  },
  {
   "cell_type": "code",
   "execution_count": null,
   "metadata": {},
   "outputs": [],
   "source": [
    "print('K Number:',k_number)\n",
    "print('Metric:', metric)\n",
    "print('Algorithm:', algorithm)\n",
    "print('Candle Volume Size:', volume_size)\n",
    "print('Random Sample Count:', sample_count)\n",
    "print('Future Candle Count:', candles)\n",
    "print('Pair:', pair)"
   ]
  },
  {
   "cell_type": "code",
   "execution_count": null,
   "metadata": {},
   "outputs": [],
   "source": [
    "def convert_date(utc_time): \n",
    "    parsed_date = parser.parse(utc_time)\n",
    "    var_date=parsed_date.date()\n",
    "    var_time=parsed_date.time()\n",
    "    var_f_time=var_time.hour\n",
    "    var_julian_date=parsed_date.timetuple().tm_yday\n",
    "    var_weekday=parsed_date.weekday()\n",
    "    var_weekday_name=calendar.day_name[parsed_date.weekday()]\n",
    "    return var_date, var_time, var_f_time, var_julian_date, var_weekday, var_weekday_name"
   ]
  },
  {
   "cell_type": "code",
   "execution_count": null,
   "metadata": {},
   "outputs": [],
   "source": [
    "def find_k_similar_candles(candle_id, dataset, k=k_number):\n",
    "    indices=[]\n",
    "    distances = []\n",
    "    output = []\n",
    "    model_knn = NearestNeighbors(metric = metric, algorithm = algorithm) \n",
    "    model_knn.fit(dataset)\n",
    "    \n",
    "    #metric = 'euclidean' or 'cosine' or 'manhattan' or 'mahalanobis'\n",
    "    \n",
    "    distances, indices = model_knn.kneighbors(dataset.iloc[candle_id,:].values.reshape(1,-1),\n",
    "                                              n_neighbors = k)\n",
    "\n",
    "    for i in range(0,len(distances.flatten())):\n",
    "        if i!=0:\n",
    "            \n",
    "            output.append ([dataset.index[indices.flatten()[i]],\n",
    "                            distances.flatten()[i],\n",
    "                            dataset.iloc[indices.flatten()[i]][feature_1],\n",
    "                            dataset.iloc[indices.flatten()[i]][feature_2],\n",
    "                            dataset.iloc[indices.flatten()[i]][feature_3],\n",
    "                            dataset.iloc[indices.flatten()[i]][feature_7],\n",
    "                            dataset.iloc[indices.flatten()[i]][feature_8],\n",
    "                           ])\n",
    "    \n",
    "    output = pd.DataFrame(output)\n",
    "    output.columns = ['Indice','Distance',\n",
    "                      feature_1,\n",
    "                      feature_2,\n",
    "                      feature_3,\n",
    "                      feature_7,\n",
    "                      feature_8,\n",
    "                     ]\n",
    "   # display (output)\n",
    "    \n",
    "    return indices, distances"
   ]
  },
  {
   "cell_type": "markdown",
   "metadata": {},
   "source": [
    "# <font color='red'>Test Configs</font>"
   ]
  },
  {
   "cell_type": "code",
   "execution_count": null,
   "metadata": {},
   "outputs": [],
   "source": [
    "filename = 'EUR_USD_H4.csv'\n",
    "data = pd.read_csv(filename)"
   ]
  },
  {
   "cell_type": "code",
   "execution_count": null,
   "metadata": {},
   "outputs": [],
   "source": [
    "data.columns"
   ]
  },
  {
   "cell_type": "code",
   "execution_count": null,
   "metadata": {},
   "outputs": [],
   "source": [
    "data.head()"
   ]
  },
  {
   "cell_type": "markdown",
   "metadata": {},
   "source": [
    "## Selecting 1000 Random Candles"
   ]
  },
  {
   "cell_type": "code",
   "execution_count": null,
   "metadata": {},
   "outputs": [],
   "source": [
    "random_samples = data[data[volume] > volume_size].sample(n = sample_count)\n",
    "Test_Candle = list(random_samples.index.values)"
   ]
  },
  {
   "cell_type": "code",
   "execution_count": null,
   "metadata": {},
   "outputs": [],
   "source": [
    "Test_Candle[0:10]"
   ]
  },
  {
   "cell_type": "code",
   "execution_count": null,
   "metadata": {},
   "outputs": [],
   "source": [
    "data.head()"
   ]
  },
  {
   "cell_type": "markdown",
   "metadata": {},
   "source": [
    "# <font color='red'>CANDLE LOOP</font>"
   ]
  },
  {
   "cell_type": "code",
   "execution_count": null,
   "metadata": {},
   "outputs": [],
   "source": [
    "#LR_FINAL_MODEL = load_model('FINAL_MODELS/EURUSD/FINAL_LR_25Nov2021_EURUSD')\n",
    "#ET_FINAL_MODEL = load_model('FINAL_MODELS/EURUSD/FINAL_ET_25Nov2021_EURUSD')\n",
    "#KNN_FINAL_MODEL = load_model('FINAL_MODELS/USDCAD/23-01-2022_01-24_AM_knn_USDCAD')\n",
    "#DT_FINAL_MODEL = load_model('FINAL_MODELS/USDCAD/10-01-2022_06-15_AM_dt_USDCAD')\n",
    "GBC_FINAL_MODEL = load_model('05-03-2022_02-19_AM_gbc_EURUSD')\n",
    "#LIGHTGBM_FINAL_MODEL = load_model('04-03-2022_11-31_PM_lightgbm_EURUSD')"
   ]
  },
  {
   "cell_type": "code",
   "execution_count": null,
   "metadata": {},
   "outputs": [],
   "source": [
    "%%time\n",
    "print ('Today: ' + today)\n",
    "\n",
    "result_output = pd.DataFrame({'Candle_No':[],\n",
    "                              'Current_Market_Fit':[],\n",
    "                              'Current_Market':[],\n",
    "#                              'Rec1':[],\n",
    "#                              'Rec1_P':[],\n",
    "#                              'Rec2':[],\n",
    "#                              'Rec2_P':[],\n",
    "#                              'Rec3':[],\n",
    "#                              'Rec3_P':[],\n",
    "#                              'LR_Label':[],\n",
    "#                              'LR_Score':[],\n",
    "#                              'ET_Label':[],\n",
    "#                              'ET_Score':[],\n",
    "#                              'KNN_Label':[],\n",
    "#                              'KNN_Score':[],\n",
    "#                              'DT_Label':[],\n",
    "#                              'DT_Score':[],\n",
    "#                              'LIGHTGBM_Label':[],\n",
    "#                              'LIGHTGBM_Score':[],\n",
    "                              'GBC_Label':[],\n",
    "                              'GBC_Score':[],                              \n",
    "                             })\n",
    "\n",
    "for candle_no in Test_Candle:\n",
    "    data = pd.read_csv(filename)\n",
    "    data = data.iloc[candle_no:candle_no+candles]\n",
    "    data['candleno'] = range (1, len(data) + 1)\n",
    "    X = data['candleno'].values.reshape(-1, 1)\n",
    "    Y = data['Close'].values.reshape(-1, 1)\n",
    "    linear_regressor = LinearRegression()\n",
    "    linear_regressor.fit(X, Y)\n",
    "    y_pred = linear_regressor.predict(X) \n",
    "    \n",
    "    Current_Market_Fit = r2_score(Y, y_pred)*100\n",
    "    coeficient = (linear_regressor.coef_)\n",
    "\n",
    "    if coeficient > 0:\n",
    "        Current_Market= 1\n",
    "\n",
    "    else:\n",
    "        Current_Market = 0\n",
    "\n",
    "    data = pd.read_csv(filename)\n",
    "    data = data[[feature_1,\n",
    "                 feature_2,\n",
    "                 feature_3,\n",
    "                 feature_7,\n",
    "                 feature_8,\n",
    "                ]]\n",
    "\n",
    "    indices, distances = find_k_similar_candles (candle_no,data)\n",
    "    indices = indices[0:1][0]\n",
    "    \n",
    "    predicted_output_1 = []\n",
    "    predicted_output_2 = []\n",
    "    predicted_output_3 = []\n",
    "        \n",
    "    for indice in indices[1:5]:\n",
    "             \n",
    "        Predicted_Market_Fit =0\n",
    "        Predicted_Trade=''\n",
    "    \n",
    "        data = pd.read_csv(filename) \n",
    "        data = data.iloc[indice:indice+candles]\n",
    "        \n",
    "        HH = data.iloc[0]['Close'] - data['High'].max()\n",
    "        LL = data.iloc[0]['Close'] - data['Low'].min()\n",
    "\n",
    "        data['candleno'] = range (1, len(data) + 1)\n",
    "        X = data['candleno'].values.reshape(-1, 1)\n",
    "        \n",
    "        Y = data['Close'].values.reshape(-1, 1)\n",
    "        linear_regressor = LinearRegression()\n",
    "        linear_regressor.fit(X, Y)\n",
    "        y_pred = linear_regressor.predict(X)\n",
    "        Predicted_Market_Fit= r2_score(Y, y_pred)*100\n",
    "        coeficient = (linear_regressor.coef_)\n",
    "        if coeficient > 0:\n",
    "            Predicted_Trade = 1    ## Buy ##\n",
    "        else:\n",
    "            Predicted_Trade = -1   ## Sell ##\n",
    "            \n",
    "        predicted_output_1.append([Predicted_Market_Fit * Predicted_Trade, HH.round(4), LL.round(4)])\n",
    "        \n",
    "        \n",
    "        Y = data['High'].values.reshape(-1, 1)\n",
    "        linear_regressor = LinearRegression()\n",
    "        linear_regressor.fit(X, Y)\n",
    "        y_pred = linear_regressor.predict(X)\n",
    "        Predicted_Market_Fit= r2_score(Y, y_pred)*100\n",
    "        coeficient = (linear_regressor.coef_)\n",
    "        if coeficient > 0:\n",
    "            Predicted_Trade = 1    ## Buy ##\n",
    "        else:\n",
    "            Predicted_Trade = -1   ## Sell ##            \n",
    "        \n",
    "        predicted_output_2.append([Predicted_Market_Fit * Predicted_Trade])\n",
    "        \n",
    "        \n",
    "        Y = data['Low'].values.reshape(-1, 1)\n",
    "        linear_regressor = LinearRegression()\n",
    "        linear_regressor.fit(X, Y)\n",
    "        y_pred = linear_regressor.predict(X)\n",
    "        Predicted_Market_Fit= r2_score(Y, y_pred)*100\n",
    "        coeficient = (linear_regressor.coef_)\n",
    "        if coeficient > 0:\n",
    "            Predicted_Trade = 1    ## Buy ##\n",
    "        else:\n",
    "            Predicted_Trade = -1   ## Sell ##\n",
    "        \n",
    "        predicted_output_3.append([Predicted_Market_Fit * Predicted_Trade])\n",
    "        \n",
    "        \n",
    "    data_unseen = pd.DataFrame ({\n",
    "        'Rec1_Close_Score': [predicted_output_1[0][0]],\n",
    "        'Rec1_High_Score': [predicted_output_2[0][0]],\n",
    "        'Rec1_Low_Score': [predicted_output_3[0][0]],\n",
    "        'Rec1_HH': [predicted_output_1[0][1]],\n",
    "        'Rec1_LL': [predicted_output_1[0][2]],\n",
    "              \n",
    "        'Rec2_Close_Score': [predicted_output_1[0][0]],\n",
    "        'Rec2_High_Score': [predicted_output_2[0][0]],\n",
    "        'Rec2_Low_Score': [predicted_output_3[0][0]],\n",
    "        'Rec2_HH': [predicted_output_1[1][1]],\n",
    "        'Rec2_LL': [predicted_output_1[1][2]],\n",
    "              \n",
    "        'Rec3_Close_Score': [predicted_output_1[0][0]],\n",
    "        'Rec3_High_Score': [predicted_output_2[0][0]],\n",
    "        'Rec3_Low_Score': [predicted_output_3[0][0]],\n",
    "        'Rec3_HH': [predicted_output_1[2][1]],\n",
    "        'Rec3_LL': [predicted_output_1[2][2]],\n",
    "              \n",
    "        'Rec4_Close_Score': [predicted_output_1[0][0]],\n",
    "        'Rec4_High_Score': [predicted_output_2[0][0]],\n",
    "        'Rec4_Low_Score': [predicted_output_3[0][0]],\n",
    "        'Rec4_HH': [predicted_output_1[3][1]],\n",
    "        'Rec4_LL': [predicted_output_1[3][2]],\n",
    "    })\n",
    "        \n",
    "    \n",
    "#    lr_prediction = predict_model(LR_FINAL_MODEL, data=data_unseen)\n",
    "#    LR_Label = lr_prediction['Label']\n",
    "#    LR_Score = lr_prediction['Score']\n",
    "    \n",
    "#    et_prediction = predict_model(ET_FINAL_MODEL, data=data_unseen)\n",
    "#    ET_Label = et_prediction['Label']\n",
    "#    ET_Score = et_prediction['Score']\n",
    "    \n",
    "#    knn_prediction = predict_model(KNN_FINAL_MODEL, data=data_unseen)\n",
    "#    KNN_Label = knn_prediction['Label']\n",
    "#    KNN_Score = knn_prediction['Score']\n",
    "    \n",
    "#    dt_prediction = predict_model(DT_FINAL_MODEL, data=data_unseen)\n",
    "#    DT_Label = dt_prediction['Label']\n",
    "#    DT_Score = dt_prediction['Score']\n",
    "    \n",
    "#    lightgbm_prediction = predict_model(LIGHTGBM_FINAL_MODEL, data=data_unseen)\n",
    "#    LIGHTGBM_Label = lightgbm_prediction['Label']\n",
    "#    LIGHTGBM_Score = lightgbm_prediction['Score']\n",
    "\n",
    "    gbc_prediction = predict_model(GBC_FINAL_MODEL, data=data_unseen)\n",
    "    GBC_Label = gbc_prediction['Label']\n",
    "    GBC_Score = gbc_prediction['Score']    \n",
    "    \n",
    "    result = {'Candle_No': candle_no,\n",
    "              'Current_Market_Fit': Current_Market_Fit,\n",
    "              'Current_Market': Current_Market,\n",
    "#              'Rec1': predicted_output[0][0],\n",
    "#              'Rec1_P': predicted_output[0][1],\n",
    "#              'Rec2': predicted_output[1][0],\n",
    "#              'Rec2_P': predicted_output[1][1],\n",
    "#              'Rec3': predicted_output[2][0],\n",
    "#              'Rec3_P': predicted_output[2][1],\n",
    "#              'LR_Label': LR_Label[0],\n",
    "#              'LR_Score': LR_Score[0],\n",
    "#              'ET_Label': ET_Label[0],\n",
    "#              'ET_Score': ET_Score[0],\n",
    "#              'KNN_Label': KNN_Label[0],\n",
    "#              'KNN_Score': KNN_Score[0],\n",
    "#              'DT_Label': DT_Label[0],\n",
    "#              'DT_Score': DT_Score[0],\n",
    "#              'LIGHTGBM_Label': LIGHTGBM_Label[0],\n",
    "#              'LIGHTGBM_Score': LIGHTGBM_Score[0],\n",
    "              'GBC_Label': GBC_Label[0],\n",
    "              'GBC_Score': GBC_Score[0],\n",
    "             }\n",
    "    \n",
    "    result_output = result_output.append(result, ignore_index = True)"
   ]
  },
  {
   "cell_type": "code",
   "execution_count": null,
   "metadata": {},
   "outputs": [],
   "source": [
    "result_output.to_csv('03_Back_Test_Final_Result_' + today + '.csv', header = True, index = False)\n",
    "result_output = pd.read_csv('03_Back_Test_Final_Result_' + today + '.csv')"
   ]
  },
  {
   "cell_type": "code",
   "execution_count": null,
   "metadata": {},
   "outputs": [],
   "source": [
    "result_output = result_output[result_output['Current_Market_Fit'] > 20]\n",
    "result_output = result_output.reset_index()\n",
    "del result_output['index']"
   ]
  },
  {
   "cell_type": "code",
   "execution_count": null,
   "metadata": {},
   "outputs": [],
   "source": [
    "result_output.shape"
   ]
  },
  {
   "cell_type": "code",
   "execution_count": null,
   "metadata": {},
   "outputs": [],
   "source": [
    "result_output.to_csv('03_Back_Test_Final_Result_' + today + '.csv', header = True, index = False)\n",
    "result_output = pd.read_csv('03_Back_Test_Final_Result_' + today + '.csv')"
   ]
  },
  {
   "cell_type": "code",
   "execution_count": null,
   "metadata": {},
   "outputs": [],
   "source": [
    "#result_output['LR_Prediction'] = result_output['Current_Market'] - result_output['LR_Label']\n",
    "#result_output['ET_Prediction'] = result_output['Current_Market'] - result_output['ET_Label']\n",
    "#result_output['KNN_Prediction'] = result_output['Current_Market'] - result_output['KNN_Label']\n",
    "#result_output['DT_Prediction'] = result_output['Current_Market'] - result_output['DT_Label']\n",
    "#result_output['LIGHTGBM_Prediction'] = result_output['Current_Market'] - result_output['LIGHTGBM_Label']\n",
    "result_output['GBC_Prediction'] = result_output['Current_Market'] - result_output['GBC_Label']"
   ]
  },
  {
   "cell_type": "code",
   "execution_count": null,
   "metadata": {},
   "outputs": [],
   "source": [
    "result_output.head(30)"
   ]
  },
  {
   "cell_type": "raw",
   "metadata": {},
   "source": [
    "LR_Result = pd.DataFrame(result_output['LR_Prediction'].value_counts())\n",
    "LR_Result[\"Score\"] = (LR_Result['LR_Prediction'] * 100 / len(result_output)).round(2)"
   ]
  },
  {
   "cell_type": "raw",
   "metadata": {},
   "source": [
    "ET_Result = pd.DataFrame(result_output['ET_Prediction'].value_counts())\n",
    "ET_Result[\"Score\"] = (ET_Result['ET_Prediction'] * 100 / len(result_output)).round(2)"
   ]
  },
  {
   "cell_type": "raw",
   "metadata": {},
   "source": [
    "DT_Result = pd.DataFrame(result_output['DT_Prediction'].value_counts())\n",
    "DT_Result[\"Score\"] = (DT_Result['DT_Prediction'] * 100 / len(result_output)).round(2)"
   ]
  },
  {
   "cell_type": "raw",
   "metadata": {},
   "source": [
    "LIGHTGBM_Result = pd.DataFrame(result_output['LIGHTGBM_Prediction'].value_counts())\n",
    "LIGHTGBM_Result[\"Score\"] = (LIGHTGBM_Result['LIGHTGBM_Prediction'] * 100 / len(result_output)).round(2)"
   ]
  },
  {
   "cell_type": "raw",
   "metadata": {},
   "source": [
    "KNN_Result = pd.DataFrame(result_output['KNN_Prediction'].value_counts())\n",
    "KNN_Result[\"Score\"] = (KNN_Result['KNN_Prediction'] * 100 / len(result_output)).round(2)"
   ]
  },
  {
   "cell_type": "code",
   "execution_count": null,
   "metadata": {},
   "outputs": [],
   "source": [
    "GBC_Result = pd.DataFrame(result_output['GBC_Prediction'].value_counts())\n",
    "GBC_Result[\"Score\"] = (GBC_Result['GBC_Prediction'] * 100 / len(result_output)).round(2)"
   ]
  },
  {
   "cell_type": "code",
   "execution_count": null,
   "metadata": {},
   "outputs": [],
   "source": [
    "result = pd.concat([\n",
    "#    LR_Result,\n",
    "#    ET_Result,\n",
    "#    KNN_Result,\n",
    "#    DT_Result,\n",
    "    GBC_Result,\n",
    "#    LIGHTGBM_Result,\n",
    "], axis=1)\n",
    "result"
   ]
  },
  {
   "cell_type": "code",
   "execution_count": null,
   "metadata": {},
   "outputs": [],
   "source": []
  }
 ],
 "metadata": {
  "kernelspec": {
   "display_name": "Python 3 (ipykernel)",
   "language": "python",
   "name": "python3"
  },
  "language_info": {
   "codemirror_mode": {
    "name": "ipython",
    "version": 3
   },
   "file_extension": ".py",
   "mimetype": "text/x-python",
   "name": "python",
   "nbconvert_exporter": "python",
   "pygments_lexer": "ipython3",
   "version": "3.9.7"
  }
 },
 "nbformat": 4,
 "nbformat_minor": 2
}
