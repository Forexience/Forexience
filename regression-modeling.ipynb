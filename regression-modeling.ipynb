{
 "cells": [
  {
   "cell_type": "code",
   "execution_count": 1,
   "metadata": {},
   "outputs": [],
   "source": [
    "import pandas as pd\n",
    "import numpy as np\n",
    "from sklearn.linear_model import LinearRegression\n",
    "import plotly.graph_objects as go\n",
    "import seaborn as sns\n",
    "import matplotlib.pyplot as plt\n",
    "import datetime\n",
    "from sklearn import linear_model\n",
    "from sklearn.metrics import r2_score\n",
    "from sklearn.metrics import mean_squared_error"
   ]
  },
  {
   "cell_type": "code",
   "execution_count": 2,
   "metadata": {},
   "outputs": [],
   "source": [
    "data = pd.read_csv('07-10-2021_10-21_PM_EUR_USD/5671_data.csv')"
   ]
  },
  {
   "cell_type": "code",
   "execution_count": 3,
   "metadata": {},
   "outputs": [
    {
     "data": {
      "text/plain": [
       "(50, 22)"
      ]
     },
     "execution_count": 3,
     "metadata": {},
     "output_type": "execute_result"
    }
   ],
   "source": [
    "data.shape"
   ]
  },
  {
   "cell_type": "code",
   "execution_count": 4,
   "metadata": {},
   "outputs": [
    {
     "data": {
      "text/html": [
       "<div>\n",
       "<style scoped>\n",
       "    .dataframe tbody tr th:only-of-type {\n",
       "        vertical-align: middle;\n",
       "    }\n",
       "\n",
       "    .dataframe tbody tr th {\n",
       "        vertical-align: top;\n",
       "    }\n",
       "\n",
       "    .dataframe thead th {\n",
       "        text-align: right;\n",
       "    }\n",
       "</style>\n",
       "<table border=\"1\" class=\"dataframe\">\n",
       "  <thead>\n",
       "    <tr style=\"text-align: right;\">\n",
       "      <th></th>\n",
       "      <th>x</th>\n",
       "      <th>y</th>\n",
       "      <th>Date</th>\n",
       "      <th>Time</th>\n",
       "      <th>Weekday</th>\n",
       "      <th>Weekday_Name</th>\n",
       "      <th>UTC_Time</th>\n",
       "      <th>Volume</th>\n",
       "      <th>Open</th>\n",
       "      <th>High</th>\n",
       "      <th>...</th>\n",
       "      <th>O-H</th>\n",
       "      <th>O-L</th>\n",
       "      <th>O-C</th>\n",
       "      <th>H-L</th>\n",
       "      <th>H-C</th>\n",
       "      <th>L-C</th>\n",
       "      <th>Direction</th>\n",
       "      <th>col_1</th>\n",
       "      <th>col_2</th>\n",
       "      <th>col_3</th>\n",
       "    </tr>\n",
       "  </thead>\n",
       "  <tbody>\n",
       "    <tr>\n",
       "      <th>0</th>\n",
       "      <td>1</td>\n",
       "      <td>1.13394</td>\n",
       "      <td>3/18/19</td>\n",
       "      <td>17:00:00</td>\n",
       "      <td>0</td>\n",
       "      <td>Monday</td>\n",
       "      <td>2019-03-18T17:00:00.000000000Z</td>\n",
       "      <td>1278</td>\n",
       "      <td>1.13294</td>\n",
       "      <td>1.13430</td>\n",
       "      <td>...</td>\n",
       "      <td>-0.00136</td>\n",
       "      <td>0.00046</td>\n",
       "      <td>-0.00100</td>\n",
       "      <td>0.00182</td>\n",
       "      <td>0.00036</td>\n",
       "      <td>-0.00146</td>\n",
       "      <td>1</td>\n",
       "      <td>-0.00100</td>\n",
       "      <td>0.00136</td>\n",
       "      <td>0.00146</td>\n",
       "    </tr>\n",
       "    <tr>\n",
       "      <th>1</th>\n",
       "      <td>2</td>\n",
       "      <td>1.13380</td>\n",
       "      <td>3/18/19</td>\n",
       "      <td>21:00:00</td>\n",
       "      <td>0</td>\n",
       "      <td>Monday</td>\n",
       "      <td>2019-03-18T21:00:00.000000000Z</td>\n",
       "      <td>647</td>\n",
       "      <td>1.13354</td>\n",
       "      <td>1.13401</td>\n",
       "      <td>...</td>\n",
       "      <td>-0.00047</td>\n",
       "      <td>0.00016</td>\n",
       "      <td>-0.00026</td>\n",
       "      <td>0.00063</td>\n",
       "      <td>0.00021</td>\n",
       "      <td>-0.00042</td>\n",
       "      <td>1</td>\n",
       "      <td>-0.00026</td>\n",
       "      <td>0.00047</td>\n",
       "      <td>0.00042</td>\n",
       "    </tr>\n",
       "    <tr>\n",
       "      <th>2</th>\n",
       "      <td>3</td>\n",
       "      <td>1.13460</td>\n",
       "      <td>3/19/19</td>\n",
       "      <td>1:00:00</td>\n",
       "      <td>1</td>\n",
       "      <td>Tuesday</td>\n",
       "      <td>2019-03-19T01:00:00.000000000Z</td>\n",
       "      <td>695</td>\n",
       "      <td>1.13382</td>\n",
       "      <td>1.13489</td>\n",
       "      <td>...</td>\n",
       "      <td>-0.00107</td>\n",
       "      <td>0.00014</td>\n",
       "      <td>-0.00078</td>\n",
       "      <td>0.00121</td>\n",
       "      <td>0.00029</td>\n",
       "      <td>-0.00092</td>\n",
       "      <td>1</td>\n",
       "      <td>-0.00078</td>\n",
       "      <td>0.00107</td>\n",
       "      <td>0.00092</td>\n",
       "    </tr>\n",
       "    <tr>\n",
       "      <th>3</th>\n",
       "      <td>4</td>\n",
       "      <td>1.13546</td>\n",
       "      <td>3/19/19</td>\n",
       "      <td>5:00:00</td>\n",
       "      <td>1</td>\n",
       "      <td>Tuesday</td>\n",
       "      <td>2019-03-19T05:00:00.000000000Z</td>\n",
       "      <td>1720</td>\n",
       "      <td>1.13458</td>\n",
       "      <td>1.13574</td>\n",
       "      <td>...</td>\n",
       "      <td>-0.00116</td>\n",
       "      <td>0.00034</td>\n",
       "      <td>-0.00088</td>\n",
       "      <td>0.00150</td>\n",
       "      <td>0.00028</td>\n",
       "      <td>-0.00122</td>\n",
       "      <td>1</td>\n",
       "      <td>-0.00088</td>\n",
       "      <td>0.00116</td>\n",
       "      <td>0.00122</td>\n",
       "    </tr>\n",
       "    <tr>\n",
       "      <th>4</th>\n",
       "      <td>5</td>\n",
       "      <td>1.13522</td>\n",
       "      <td>3/19/19</td>\n",
       "      <td>9:00:00</td>\n",
       "      <td>1</td>\n",
       "      <td>Tuesday</td>\n",
       "      <td>2019-03-19T09:00:00.000000000Z</td>\n",
       "      <td>2569</td>\n",
       "      <td>1.13543</td>\n",
       "      <td>1.13616</td>\n",
       "      <td>...</td>\n",
       "      <td>-0.00073</td>\n",
       "      <td>0.00070</td>\n",
       "      <td>0.00021</td>\n",
       "      <td>0.00143</td>\n",
       "      <td>0.00094</td>\n",
       "      <td>-0.00049</td>\n",
       "      <td>0</td>\n",
       "      <td>0.00021</td>\n",
       "      <td>0.00073</td>\n",
       "      <td>0.00049</td>\n",
       "    </tr>\n",
       "    <tr>\n",
       "      <th>5</th>\n",
       "      <td>6</td>\n",
       "      <td>1.13496</td>\n",
       "      <td>3/19/19</td>\n",
       "      <td>13:00:00</td>\n",
       "      <td>1</td>\n",
       "      <td>Tuesday</td>\n",
       "      <td>2019-03-19T13:00:00.000000000Z</td>\n",
       "      <td>3773</td>\n",
       "      <td>1.13520</td>\n",
       "      <td>1.13614</td>\n",
       "      <td>...</td>\n",
       "      <td>-0.00094</td>\n",
       "      <td>0.00132</td>\n",
       "      <td>0.00024</td>\n",
       "      <td>0.00226</td>\n",
       "      <td>0.00118</td>\n",
       "      <td>-0.00108</td>\n",
       "      <td>0</td>\n",
       "      <td>0.00024</td>\n",
       "      <td>0.00094</td>\n",
       "      <td>0.00108</td>\n",
       "    </tr>\n",
       "    <tr>\n",
       "      <th>6</th>\n",
       "      <td>7</td>\n",
       "      <td>1.13507</td>\n",
       "      <td>3/19/19</td>\n",
       "      <td>17:00:00</td>\n",
       "      <td>1</td>\n",
       "      <td>Tuesday</td>\n",
       "      <td>2019-03-19T17:00:00.000000000Z</td>\n",
       "      <td>1232</td>\n",
       "      <td>1.13498</td>\n",
       "      <td>1.13592</td>\n",
       "      <td>...</td>\n",
       "      <td>-0.00094</td>\n",
       "      <td>0.00022</td>\n",
       "      <td>-0.00009</td>\n",
       "      <td>0.00116</td>\n",
       "      <td>0.00085</td>\n",
       "      <td>-0.00031</td>\n",
       "      <td>1</td>\n",
       "      <td>-0.00009</td>\n",
       "      <td>0.00094</td>\n",
       "      <td>0.00031</td>\n",
       "    </tr>\n",
       "    <tr>\n",
       "      <th>7</th>\n",
       "      <td>8</td>\n",
       "      <td>1.13473</td>\n",
       "      <td>3/19/19</td>\n",
       "      <td>21:00:00</td>\n",
       "      <td>1</td>\n",
       "      <td>Tuesday</td>\n",
       "      <td>2019-03-19T21:00:00.000000000Z</td>\n",
       "      <td>654</td>\n",
       "      <td>1.13521</td>\n",
       "      <td>1.13569</td>\n",
       "      <td>...</td>\n",
       "      <td>-0.00048</td>\n",
       "      <td>0.00048</td>\n",
       "      <td>0.00048</td>\n",
       "      <td>0.00096</td>\n",
       "      <td>0.00096</td>\n",
       "      <td>0.00000</td>\n",
       "      <td>0</td>\n",
       "      <td>0.00048</td>\n",
       "      <td>0.00048</td>\n",
       "      <td>0.00000</td>\n",
       "    </tr>\n",
       "    <tr>\n",
       "      <th>8</th>\n",
       "      <td>9</td>\n",
       "      <td>1.13462</td>\n",
       "      <td>3/20/19</td>\n",
       "      <td>1:00:00</td>\n",
       "      <td>2</td>\n",
       "      <td>Wednesday</td>\n",
       "      <td>2019-03-20T01:00:00.000000000Z</td>\n",
       "      <td>717</td>\n",
       "      <td>1.13470</td>\n",
       "      <td>1.13504</td>\n",
       "      <td>...</td>\n",
       "      <td>-0.00034</td>\n",
       "      <td>0.00040</td>\n",
       "      <td>0.00008</td>\n",
       "      <td>0.00074</td>\n",
       "      <td>0.00042</td>\n",
       "      <td>-0.00032</td>\n",
       "      <td>0</td>\n",
       "      <td>0.00008</td>\n",
       "      <td>0.00034</td>\n",
       "      <td>0.00032</td>\n",
       "    </tr>\n",
       "    <tr>\n",
       "      <th>9</th>\n",
       "      <td>10</td>\n",
       "      <td>1.13430</td>\n",
       "      <td>3/20/19</td>\n",
       "      <td>5:00:00</td>\n",
       "      <td>2</td>\n",
       "      <td>Wednesday</td>\n",
       "      <td>2019-03-20T05:00:00.000000000Z</td>\n",
       "      <td>1738</td>\n",
       "      <td>1.13459</td>\n",
       "      <td>1.13535</td>\n",
       "      <td>...</td>\n",
       "      <td>-0.00076</td>\n",
       "      <td>0.00101</td>\n",
       "      <td>0.00029</td>\n",
       "      <td>0.00177</td>\n",
       "      <td>0.00105</td>\n",
       "      <td>-0.00072</td>\n",
       "      <td>0</td>\n",
       "      <td>0.00029</td>\n",
       "      <td>0.00076</td>\n",
       "      <td>0.00072</td>\n",
       "    </tr>\n",
       "    <tr>\n",
       "      <th>10</th>\n",
       "      <td>11</td>\n",
       "      <td>1.13546</td>\n",
       "      <td>3/20/19</td>\n",
       "      <td>9:00:00</td>\n",
       "      <td>2</td>\n",
       "      <td>Wednesday</td>\n",
       "      <td>2019-03-20T09:00:00.000000000Z</td>\n",
       "      <td>2708</td>\n",
       "      <td>1.13432</td>\n",
       "      <td>1.13662</td>\n",
       "      <td>...</td>\n",
       "      <td>-0.00230</td>\n",
       "      <td>0.00010</td>\n",
       "      <td>-0.00114</td>\n",
       "      <td>0.00240</td>\n",
       "      <td>0.00116</td>\n",
       "      <td>-0.00124</td>\n",
       "      <td>1</td>\n",
       "      <td>-0.00114</td>\n",
       "      <td>0.00230</td>\n",
       "      <td>0.00124</td>\n",
       "    </tr>\n",
       "    <tr>\n",
       "      <th>11</th>\n",
       "      <td>12</td>\n",
       "      <td>1.13500</td>\n",
       "      <td>3/20/19</td>\n",
       "      <td>13:00:00</td>\n",
       "      <td>2</td>\n",
       "      <td>Wednesday</td>\n",
       "      <td>2019-03-20T13:00:00.000000000Z</td>\n",
       "      <td>3605</td>\n",
       "      <td>1.13548</td>\n",
       "      <td>1.13644</td>\n",
       "      <td>...</td>\n",
       "      <td>-0.00096</td>\n",
       "      <td>0.00086</td>\n",
       "      <td>0.00048</td>\n",
       "      <td>0.00182</td>\n",
       "      <td>0.00144</td>\n",
       "      <td>-0.00038</td>\n",
       "      <td>0</td>\n",
       "      <td>0.00048</td>\n",
       "      <td>0.00096</td>\n",
       "      <td>0.00038</td>\n",
       "    </tr>\n",
       "    <tr>\n",
       "      <th>12</th>\n",
       "      <td>13</td>\n",
       "      <td>1.14128</td>\n",
       "      <td>3/20/19</td>\n",
       "      <td>17:00:00</td>\n",
       "      <td>2</td>\n",
       "      <td>Wednesday</td>\n",
       "      <td>2019-03-20T17:00:00.000000000Z</td>\n",
       "      <td>10030</td>\n",
       "      <td>1.13498</td>\n",
       "      <td>1.14482</td>\n",
       "      <td>...</td>\n",
       "      <td>-0.00984</td>\n",
       "      <td>0.00024</td>\n",
       "      <td>-0.00630</td>\n",
       "      <td>0.01008</td>\n",
       "      <td>0.00354</td>\n",
       "      <td>-0.00654</td>\n",
       "      <td>1</td>\n",
       "      <td>-0.00630</td>\n",
       "      <td>0.00984</td>\n",
       "      <td>0.00654</td>\n",
       "    </tr>\n",
       "    <tr>\n",
       "      <th>13</th>\n",
       "      <td>14</td>\n",
       "      <td>1.14320</td>\n",
       "      <td>3/20/19</td>\n",
       "      <td>21:00:00</td>\n",
       "      <td>2</td>\n",
       "      <td>Wednesday</td>\n",
       "      <td>2019-03-20T21:00:00.000000000Z</td>\n",
       "      <td>1502</td>\n",
       "      <td>1.14128</td>\n",
       "      <td>1.14345</td>\n",
       "      <td>...</td>\n",
       "      <td>-0.00217</td>\n",
       "      <td>0.00002</td>\n",
       "      <td>-0.00192</td>\n",
       "      <td>0.00219</td>\n",
       "      <td>0.00025</td>\n",
       "      <td>-0.00194</td>\n",
       "      <td>1</td>\n",
       "      <td>-0.00192</td>\n",
       "      <td>0.00217</td>\n",
       "      <td>0.00194</td>\n",
       "    </tr>\n",
       "    <tr>\n",
       "      <th>14</th>\n",
       "      <td>15</td>\n",
       "      <td>1.14260</td>\n",
       "      <td>3/21/19</td>\n",
       "      <td>1:00:00</td>\n",
       "      <td>3</td>\n",
       "      <td>Thursday</td>\n",
       "      <td>2019-03-21T01:00:00.000000000Z</td>\n",
       "      <td>1023</td>\n",
       "      <td>1.14323</td>\n",
       "      <td>1.14376</td>\n",
       "      <td>...</td>\n",
       "      <td>-0.00053</td>\n",
       "      <td>0.00108</td>\n",
       "      <td>0.00063</td>\n",
       "      <td>0.00161</td>\n",
       "      <td>0.00116</td>\n",
       "      <td>-0.00045</td>\n",
       "      <td>0</td>\n",
       "      <td>0.00063</td>\n",
       "      <td>0.00053</td>\n",
       "      <td>0.00045</td>\n",
       "    </tr>\n",
       "    <tr>\n",
       "      <th>15</th>\n",
       "      <td>16</td>\n",
       "      <td>1.13986</td>\n",
       "      <td>3/21/19</td>\n",
       "      <td>5:00:00</td>\n",
       "      <td>3</td>\n",
       "      <td>Thursday</td>\n",
       "      <td>2019-03-21T05:00:00.000000000Z</td>\n",
       "      <td>2962</td>\n",
       "      <td>1.14258</td>\n",
       "      <td>1.14294</td>\n",
       "      <td>...</td>\n",
       "      <td>-0.00036</td>\n",
       "      <td>0.00330</td>\n",
       "      <td>0.00272</td>\n",
       "      <td>0.00366</td>\n",
       "      <td>0.00308</td>\n",
       "      <td>-0.00058</td>\n",
       "      <td>0</td>\n",
       "      <td>0.00272</td>\n",
       "      <td>0.00036</td>\n",
       "      <td>0.00058</td>\n",
       "    </tr>\n",
       "    <tr>\n",
       "      <th>16</th>\n",
       "      <td>17</td>\n",
       "      <td>1.13854</td>\n",
       "      <td>3/21/19</td>\n",
       "      <td>9:00:00</td>\n",
       "      <td>3</td>\n",
       "      <td>Thursday</td>\n",
       "      <td>2019-03-21T09:00:00.000000000Z</td>\n",
       "      <td>3912</td>\n",
       "      <td>1.13988</td>\n",
       "      <td>1.14071</td>\n",
       "      <td>...</td>\n",
       "      <td>-0.00083</td>\n",
       "      <td>0.00146</td>\n",
       "      <td>0.00134</td>\n",
       "      <td>0.00229</td>\n",
       "      <td>0.00217</td>\n",
       "      <td>-0.00012</td>\n",
       "      <td>0</td>\n",
       "      <td>0.00134</td>\n",
       "      <td>0.00083</td>\n",
       "      <td>0.00012</td>\n",
       "    </tr>\n",
       "    <tr>\n",
       "      <th>17</th>\n",
       "      <td>18</td>\n",
       "      <td>1.13523</td>\n",
       "      <td>3/21/19</td>\n",
       "      <td>13:00:00</td>\n",
       "      <td>3</td>\n",
       "      <td>Thursday</td>\n",
       "      <td>2019-03-21T13:00:00.000000000Z</td>\n",
       "      <td>6450</td>\n",
       "      <td>1.13856</td>\n",
       "      <td>1.13953</td>\n",
       "      <td>...</td>\n",
       "      <td>-0.00097</td>\n",
       "      <td>0.00426</td>\n",
       "      <td>0.00333</td>\n",
       "      <td>0.00523</td>\n",
       "      <td>0.00430</td>\n",
       "      <td>-0.00093</td>\n",
       "      <td>0</td>\n",
       "      <td>0.00333</td>\n",
       "      <td>0.00097</td>\n",
       "      <td>0.00093</td>\n",
       "    </tr>\n",
       "    <tr>\n",
       "      <th>18</th>\n",
       "      <td>19</td>\n",
       "      <td>1.13754</td>\n",
       "      <td>3/21/19</td>\n",
       "      <td>17:00:00</td>\n",
       "      <td>3</td>\n",
       "      <td>Thursday</td>\n",
       "      <td>2019-03-21T17:00:00.000000000Z</td>\n",
       "      <td>3795</td>\n",
       "      <td>1.13520</td>\n",
       "      <td>1.13772</td>\n",
       "      <td>...</td>\n",
       "      <td>-0.00252</td>\n",
       "      <td>0.00092</td>\n",
       "      <td>-0.00234</td>\n",
       "      <td>0.00344</td>\n",
       "      <td>0.00018</td>\n",
       "      <td>-0.00326</td>\n",
       "      <td>1</td>\n",
       "      <td>-0.00234</td>\n",
       "      <td>0.00252</td>\n",
       "      <td>0.00326</td>\n",
       "    </tr>\n",
       "    <tr>\n",
       "      <th>19</th>\n",
       "      <td>20</td>\n",
       "      <td>1.13672</td>\n",
       "      <td>3/21/19</td>\n",
       "      <td>21:00:00</td>\n",
       "      <td>3</td>\n",
       "      <td>Thursday</td>\n",
       "      <td>2019-03-21T21:00:00.000000000Z</td>\n",
       "      <td>1025</td>\n",
       "      <td>1.13749</td>\n",
       "      <td>1.13792</td>\n",
       "      <td>...</td>\n",
       "      <td>-0.00043</td>\n",
       "      <td>0.00132</td>\n",
       "      <td>0.00077</td>\n",
       "      <td>0.00175</td>\n",
       "      <td>0.00120</td>\n",
       "      <td>-0.00055</td>\n",
       "      <td>0</td>\n",
       "      <td>0.00077</td>\n",
       "      <td>0.00043</td>\n",
       "      <td>0.00055</td>\n",
       "    </tr>\n",
       "    <tr>\n",
       "      <th>20</th>\n",
       "      <td>21</td>\n",
       "      <td>1.13775</td>\n",
       "      <td>3/22/19</td>\n",
       "      <td>1:00:00</td>\n",
       "      <td>4</td>\n",
       "      <td>Friday</td>\n",
       "      <td>2019-03-22T01:00:00.000000000Z</td>\n",
       "      <td>844</td>\n",
       "      <td>1.13674</td>\n",
       "      <td>1.13775</td>\n",
       "      <td>...</td>\n",
       "      <td>-0.00101</td>\n",
       "      <td>0.00022</td>\n",
       "      <td>-0.00101</td>\n",
       "      <td>0.00123</td>\n",
       "      <td>0.00000</td>\n",
       "      <td>-0.00123</td>\n",
       "      <td>1</td>\n",
       "      <td>-0.00101</td>\n",
       "      <td>0.00101</td>\n",
       "      <td>0.00123</td>\n",
       "    </tr>\n",
       "    <tr>\n",
       "      <th>21</th>\n",
       "      <td>22</td>\n",
       "      <td>1.13034</td>\n",
       "      <td>3/22/19</td>\n",
       "      <td>5:00:00</td>\n",
       "      <td>4</td>\n",
       "      <td>Friday</td>\n",
       "      <td>2019-03-22T05:00:00.000000000Z</td>\n",
       "      <td>6249</td>\n",
       "      <td>1.13772</td>\n",
       "      <td>1.13906</td>\n",
       "      <td>...</td>\n",
       "      <td>-0.00134</td>\n",
       "      <td>0.00887</td>\n",
       "      <td>0.00738</td>\n",
       "      <td>0.01021</td>\n",
       "      <td>0.00872</td>\n",
       "      <td>-0.00149</td>\n",
       "      <td>0</td>\n",
       "      <td>0.00738</td>\n",
       "      <td>0.00134</td>\n",
       "      <td>0.00149</td>\n",
       "    </tr>\n",
       "    <tr>\n",
       "      <th>22</th>\n",
       "      <td>23</td>\n",
       "      <td>1.13058</td>\n",
       "      <td>3/22/19</td>\n",
       "      <td>9:00:00</td>\n",
       "      <td>4</td>\n",
       "      <td>Friday</td>\n",
       "      <td>2019-03-22T09:00:00.000000000Z</td>\n",
       "      <td>6836</td>\n",
       "      <td>1.13031</td>\n",
       "      <td>1.13196</td>\n",
       "      <td>...</td>\n",
       "      <td>-0.00165</td>\n",
       "      <td>0.00101</td>\n",
       "      <td>-0.00027</td>\n",
       "      <td>0.00266</td>\n",
       "      <td>0.00138</td>\n",
       "      <td>-0.00128</td>\n",
       "      <td>1</td>\n",
       "      <td>-0.00027</td>\n",
       "      <td>0.00165</td>\n",
       "      <td>0.00128</td>\n",
       "    </tr>\n",
       "    <tr>\n",
       "      <th>23</th>\n",
       "      <td>24</td>\n",
       "      <td>1.12843</td>\n",
       "      <td>3/22/19</td>\n",
       "      <td>13:00:00</td>\n",
       "      <td>4</td>\n",
       "      <td>Friday</td>\n",
       "      <td>2019-03-22T13:00:00.000000000Z</td>\n",
       "      <td>8108</td>\n",
       "      <td>1.13056</td>\n",
       "      <td>1.13154</td>\n",
       "      <td>...</td>\n",
       "      <td>-0.00098</td>\n",
       "      <td>0.00320</td>\n",
       "      <td>0.00213</td>\n",
       "      <td>0.00418</td>\n",
       "      <td>0.00311</td>\n",
       "      <td>-0.00107</td>\n",
       "      <td>0</td>\n",
       "      <td>0.00213</td>\n",
       "      <td>0.00098</td>\n",
       "      <td>0.00107</td>\n",
       "    </tr>\n",
       "    <tr>\n",
       "      <th>24</th>\n",
       "      <td>25</td>\n",
       "      <td>1.13014</td>\n",
       "      <td>3/22/19</td>\n",
       "      <td>17:00:00</td>\n",
       "      <td>4</td>\n",
       "      <td>Friday</td>\n",
       "      <td>2019-03-22T17:00:00.000000000Z</td>\n",
       "      <td>2189</td>\n",
       "      <td>1.12841</td>\n",
       "      <td>1.13020</td>\n",
       "      <td>...</td>\n",
       "      <td>-0.00179</td>\n",
       "      <td>0.00018</td>\n",
       "      <td>-0.00173</td>\n",
       "      <td>0.00197</td>\n",
       "      <td>0.00006</td>\n",
       "      <td>-0.00191</td>\n",
       "      <td>1</td>\n",
       "      <td>-0.00173</td>\n",
       "      <td>0.00179</td>\n",
       "      <td>0.00191</td>\n",
       "    </tr>\n",
       "    <tr>\n",
       "      <th>25</th>\n",
       "      <td>26</td>\n",
       "      <td>1.12900</td>\n",
       "      <td>3/24/19</td>\n",
       "      <td>21:00:00</td>\n",
       "      <td>6</td>\n",
       "      <td>Sunday</td>\n",
       "      <td>2019-03-24T21:00:00.000000000Z</td>\n",
       "      <td>1157</td>\n",
       "      <td>1.12930</td>\n",
       "      <td>1.13002</td>\n",
       "      <td>...</td>\n",
       "      <td>-0.00072</td>\n",
       "      <td>0.00038</td>\n",
       "      <td>0.00030</td>\n",
       "      <td>0.00110</td>\n",
       "      <td>0.00102</td>\n",
       "      <td>-0.00008</td>\n",
       "      <td>0</td>\n",
       "      <td>0.00030</td>\n",
       "      <td>0.00072</td>\n",
       "      <td>0.00008</td>\n",
       "    </tr>\n",
       "    <tr>\n",
       "      <th>26</th>\n",
       "      <td>27</td>\n",
       "      <td>1.12981</td>\n",
       "      <td>3/25/19</td>\n",
       "      <td>1:00:00</td>\n",
       "      <td>0</td>\n",
       "      <td>Monday</td>\n",
       "      <td>2019-03-25T01:00:00.000000000Z</td>\n",
       "      <td>803</td>\n",
       "      <td>1.12903</td>\n",
       "      <td>1.13006</td>\n",
       "      <td>...</td>\n",
       "      <td>-0.00103</td>\n",
       "      <td>0.00000</td>\n",
       "      <td>-0.00078</td>\n",
       "      <td>0.00103</td>\n",
       "      <td>0.00025</td>\n",
       "      <td>-0.00078</td>\n",
       "      <td>1</td>\n",
       "      <td>-0.00078</td>\n",
       "      <td>0.00103</td>\n",
       "      <td>0.00078</td>\n",
       "    </tr>\n",
       "    <tr>\n",
       "      <th>27</th>\n",
       "      <td>28</td>\n",
       "      <td>1.13086</td>\n",
       "      <td>3/25/19</td>\n",
       "      <td>5:00:00</td>\n",
       "      <td>0</td>\n",
       "      <td>Monday</td>\n",
       "      <td>2019-03-25T05:00:00.000000000Z</td>\n",
       "      <td>2413</td>\n",
       "      <td>1.12984</td>\n",
       "      <td>1.13142</td>\n",
       "      <td>...</td>\n",
       "      <td>-0.00158</td>\n",
       "      <td>0.00037</td>\n",
       "      <td>-0.00102</td>\n",
       "      <td>0.00195</td>\n",
       "      <td>0.00056</td>\n",
       "      <td>-0.00139</td>\n",
       "      <td>1</td>\n",
       "      <td>-0.00102</td>\n",
       "      <td>0.00158</td>\n",
       "      <td>0.00139</td>\n",
       "    </tr>\n",
       "    <tr>\n",
       "      <th>28</th>\n",
       "      <td>29</td>\n",
       "      <td>1.13186</td>\n",
       "      <td>3/25/19</td>\n",
       "      <td>9:00:00</td>\n",
       "      <td>0</td>\n",
       "      <td>Monday</td>\n",
       "      <td>2019-03-25T09:00:00.000000000Z</td>\n",
       "      <td>3993</td>\n",
       "      <td>1.13089</td>\n",
       "      <td>1.13248</td>\n",
       "      <td>...</td>\n",
       "      <td>-0.00159</td>\n",
       "      <td>0.00049</td>\n",
       "      <td>-0.00097</td>\n",
       "      <td>0.00208</td>\n",
       "      <td>0.00062</td>\n",
       "      <td>-0.00146</td>\n",
       "      <td>1</td>\n",
       "      <td>-0.00097</td>\n",
       "      <td>0.00159</td>\n",
       "      <td>0.00146</td>\n",
       "    </tr>\n",
       "    <tr>\n",
       "      <th>29</th>\n",
       "      <td>30</td>\n",
       "      <td>1.13116</td>\n",
       "      <td>3/25/19</td>\n",
       "      <td>13:00:00</td>\n",
       "      <td>0</td>\n",
       "      <td>Monday</td>\n",
       "      <td>2019-03-25T13:00:00.000000000Z</td>\n",
       "      <td>5259</td>\n",
       "      <td>1.13188</td>\n",
       "      <td>1.13314</td>\n",
       "      <td>...</td>\n",
       "      <td>-0.00126</td>\n",
       "      <td>0.00080</td>\n",
       "      <td>0.00072</td>\n",
       "      <td>0.00206</td>\n",
       "      <td>0.00198</td>\n",
       "      <td>-0.00008</td>\n",
       "      <td>0</td>\n",
       "      <td>0.00072</td>\n",
       "      <td>0.00126</td>\n",
       "      <td>0.00008</td>\n",
       "    </tr>\n",
       "  </tbody>\n",
       "</table>\n",
       "<p>30 rows × 22 columns</p>\n",
       "</div>"
      ],
      "text/plain": [
       "     x        y     Date      Time  Weekday Weekday_Name  \\\n",
       "0    1  1.13394  3/18/19  17:00:00        0       Monday   \n",
       "1    2  1.13380  3/18/19  21:00:00        0       Monday   \n",
       "2    3  1.13460  3/19/19   1:00:00        1      Tuesday   \n",
       "3    4  1.13546  3/19/19   5:00:00        1      Tuesday   \n",
       "4    5  1.13522  3/19/19   9:00:00        1      Tuesday   \n",
       "5    6  1.13496  3/19/19  13:00:00        1      Tuesday   \n",
       "6    7  1.13507  3/19/19  17:00:00        1      Tuesday   \n",
       "7    8  1.13473  3/19/19  21:00:00        1      Tuesday   \n",
       "8    9  1.13462  3/20/19   1:00:00        2    Wednesday   \n",
       "9   10  1.13430  3/20/19   5:00:00        2    Wednesday   \n",
       "10  11  1.13546  3/20/19   9:00:00        2    Wednesday   \n",
       "11  12  1.13500  3/20/19  13:00:00        2    Wednesday   \n",
       "12  13  1.14128  3/20/19  17:00:00        2    Wednesday   \n",
       "13  14  1.14320  3/20/19  21:00:00        2    Wednesday   \n",
       "14  15  1.14260  3/21/19   1:00:00        3     Thursday   \n",
       "15  16  1.13986  3/21/19   5:00:00        3     Thursday   \n",
       "16  17  1.13854  3/21/19   9:00:00        3     Thursday   \n",
       "17  18  1.13523  3/21/19  13:00:00        3     Thursday   \n",
       "18  19  1.13754  3/21/19  17:00:00        3     Thursday   \n",
       "19  20  1.13672  3/21/19  21:00:00        3     Thursday   \n",
       "20  21  1.13775  3/22/19   1:00:00        4       Friday   \n",
       "21  22  1.13034  3/22/19   5:00:00        4       Friday   \n",
       "22  23  1.13058  3/22/19   9:00:00        4       Friday   \n",
       "23  24  1.12843  3/22/19  13:00:00        4       Friday   \n",
       "24  25  1.13014  3/22/19  17:00:00        4       Friday   \n",
       "25  26  1.12900  3/24/19  21:00:00        6       Sunday   \n",
       "26  27  1.12981  3/25/19   1:00:00        0       Monday   \n",
       "27  28  1.13086  3/25/19   5:00:00        0       Monday   \n",
       "28  29  1.13186  3/25/19   9:00:00        0       Monday   \n",
       "29  30  1.13116  3/25/19  13:00:00        0       Monday   \n",
       "\n",
       "                          UTC_Time  Volume     Open     High  ...      O-H  \\\n",
       "0   2019-03-18T17:00:00.000000000Z    1278  1.13294  1.13430  ... -0.00136   \n",
       "1   2019-03-18T21:00:00.000000000Z     647  1.13354  1.13401  ... -0.00047   \n",
       "2   2019-03-19T01:00:00.000000000Z     695  1.13382  1.13489  ... -0.00107   \n",
       "3   2019-03-19T05:00:00.000000000Z    1720  1.13458  1.13574  ... -0.00116   \n",
       "4   2019-03-19T09:00:00.000000000Z    2569  1.13543  1.13616  ... -0.00073   \n",
       "5   2019-03-19T13:00:00.000000000Z    3773  1.13520  1.13614  ... -0.00094   \n",
       "6   2019-03-19T17:00:00.000000000Z    1232  1.13498  1.13592  ... -0.00094   \n",
       "7   2019-03-19T21:00:00.000000000Z     654  1.13521  1.13569  ... -0.00048   \n",
       "8   2019-03-20T01:00:00.000000000Z     717  1.13470  1.13504  ... -0.00034   \n",
       "9   2019-03-20T05:00:00.000000000Z    1738  1.13459  1.13535  ... -0.00076   \n",
       "10  2019-03-20T09:00:00.000000000Z    2708  1.13432  1.13662  ... -0.00230   \n",
       "11  2019-03-20T13:00:00.000000000Z    3605  1.13548  1.13644  ... -0.00096   \n",
       "12  2019-03-20T17:00:00.000000000Z   10030  1.13498  1.14482  ... -0.00984   \n",
       "13  2019-03-20T21:00:00.000000000Z    1502  1.14128  1.14345  ... -0.00217   \n",
       "14  2019-03-21T01:00:00.000000000Z    1023  1.14323  1.14376  ... -0.00053   \n",
       "15  2019-03-21T05:00:00.000000000Z    2962  1.14258  1.14294  ... -0.00036   \n",
       "16  2019-03-21T09:00:00.000000000Z    3912  1.13988  1.14071  ... -0.00083   \n",
       "17  2019-03-21T13:00:00.000000000Z    6450  1.13856  1.13953  ... -0.00097   \n",
       "18  2019-03-21T17:00:00.000000000Z    3795  1.13520  1.13772  ... -0.00252   \n",
       "19  2019-03-21T21:00:00.000000000Z    1025  1.13749  1.13792  ... -0.00043   \n",
       "20  2019-03-22T01:00:00.000000000Z     844  1.13674  1.13775  ... -0.00101   \n",
       "21  2019-03-22T05:00:00.000000000Z    6249  1.13772  1.13906  ... -0.00134   \n",
       "22  2019-03-22T09:00:00.000000000Z    6836  1.13031  1.13196  ... -0.00165   \n",
       "23  2019-03-22T13:00:00.000000000Z    8108  1.13056  1.13154  ... -0.00098   \n",
       "24  2019-03-22T17:00:00.000000000Z    2189  1.12841  1.13020  ... -0.00179   \n",
       "25  2019-03-24T21:00:00.000000000Z    1157  1.12930  1.13002  ... -0.00072   \n",
       "26  2019-03-25T01:00:00.000000000Z     803  1.12903  1.13006  ... -0.00103   \n",
       "27  2019-03-25T05:00:00.000000000Z    2413  1.12984  1.13142  ... -0.00158   \n",
       "28  2019-03-25T09:00:00.000000000Z    3993  1.13089  1.13248  ... -0.00159   \n",
       "29  2019-03-25T13:00:00.000000000Z    5259  1.13188  1.13314  ... -0.00126   \n",
       "\n",
       "        O-L      O-C      H-L      H-C      L-C  Direction    col_1    col_2  \\\n",
       "0   0.00046 -0.00100  0.00182  0.00036 -0.00146          1 -0.00100  0.00136   \n",
       "1   0.00016 -0.00026  0.00063  0.00021 -0.00042          1 -0.00026  0.00047   \n",
       "2   0.00014 -0.00078  0.00121  0.00029 -0.00092          1 -0.00078  0.00107   \n",
       "3   0.00034 -0.00088  0.00150  0.00028 -0.00122          1 -0.00088  0.00116   \n",
       "4   0.00070  0.00021  0.00143  0.00094 -0.00049          0  0.00021  0.00073   \n",
       "5   0.00132  0.00024  0.00226  0.00118 -0.00108          0  0.00024  0.00094   \n",
       "6   0.00022 -0.00009  0.00116  0.00085 -0.00031          1 -0.00009  0.00094   \n",
       "7   0.00048  0.00048  0.00096  0.00096  0.00000          0  0.00048  0.00048   \n",
       "8   0.00040  0.00008  0.00074  0.00042 -0.00032          0  0.00008  0.00034   \n",
       "9   0.00101  0.00029  0.00177  0.00105 -0.00072          0  0.00029  0.00076   \n",
       "10  0.00010 -0.00114  0.00240  0.00116 -0.00124          1 -0.00114  0.00230   \n",
       "11  0.00086  0.00048  0.00182  0.00144 -0.00038          0  0.00048  0.00096   \n",
       "12  0.00024 -0.00630  0.01008  0.00354 -0.00654          1 -0.00630  0.00984   \n",
       "13  0.00002 -0.00192  0.00219  0.00025 -0.00194          1 -0.00192  0.00217   \n",
       "14  0.00108  0.00063  0.00161  0.00116 -0.00045          0  0.00063  0.00053   \n",
       "15  0.00330  0.00272  0.00366  0.00308 -0.00058          0  0.00272  0.00036   \n",
       "16  0.00146  0.00134  0.00229  0.00217 -0.00012          0  0.00134  0.00083   \n",
       "17  0.00426  0.00333  0.00523  0.00430 -0.00093          0  0.00333  0.00097   \n",
       "18  0.00092 -0.00234  0.00344  0.00018 -0.00326          1 -0.00234  0.00252   \n",
       "19  0.00132  0.00077  0.00175  0.00120 -0.00055          0  0.00077  0.00043   \n",
       "20  0.00022 -0.00101  0.00123  0.00000 -0.00123          1 -0.00101  0.00101   \n",
       "21  0.00887  0.00738  0.01021  0.00872 -0.00149          0  0.00738  0.00134   \n",
       "22  0.00101 -0.00027  0.00266  0.00138 -0.00128          1 -0.00027  0.00165   \n",
       "23  0.00320  0.00213  0.00418  0.00311 -0.00107          0  0.00213  0.00098   \n",
       "24  0.00018 -0.00173  0.00197  0.00006 -0.00191          1 -0.00173  0.00179   \n",
       "25  0.00038  0.00030  0.00110  0.00102 -0.00008          0  0.00030  0.00072   \n",
       "26  0.00000 -0.00078  0.00103  0.00025 -0.00078          1 -0.00078  0.00103   \n",
       "27  0.00037 -0.00102  0.00195  0.00056 -0.00139          1 -0.00102  0.00158   \n",
       "28  0.00049 -0.00097  0.00208  0.00062 -0.00146          1 -0.00097  0.00159   \n",
       "29  0.00080  0.00072  0.00206  0.00198 -0.00008          0  0.00072  0.00126   \n",
       "\n",
       "      col_3  \n",
       "0   0.00146  \n",
       "1   0.00042  \n",
       "2   0.00092  \n",
       "3   0.00122  \n",
       "4   0.00049  \n",
       "5   0.00108  \n",
       "6   0.00031  \n",
       "7   0.00000  \n",
       "8   0.00032  \n",
       "9   0.00072  \n",
       "10  0.00124  \n",
       "11  0.00038  \n",
       "12  0.00654  \n",
       "13  0.00194  \n",
       "14  0.00045  \n",
       "15  0.00058  \n",
       "16  0.00012  \n",
       "17  0.00093  \n",
       "18  0.00326  \n",
       "19  0.00055  \n",
       "20  0.00123  \n",
       "21  0.00149  \n",
       "22  0.00128  \n",
       "23  0.00107  \n",
       "24  0.00191  \n",
       "25  0.00008  \n",
       "26  0.00078  \n",
       "27  0.00139  \n",
       "28  0.00146  \n",
       "29  0.00008  \n",
       "\n",
       "[30 rows x 22 columns]"
      ]
     },
     "execution_count": 4,
     "metadata": {},
     "output_type": "execute_result"
    }
   ],
   "source": [
    "data.head(30)"
   ]
  },
  {
   "cell_type": "code",
   "execution_count": 5,
   "metadata": {
    "scrolled": true
   },
   "outputs": [
    {
     "data": {
      "text/plain": [
       "<AxesSubplot:xlabel='x', ylabel='y'>"
      ]
     },
     "execution_count": 5,
     "metadata": {},
     "output_type": "execute_result"
    },
    {
     "data": {
      "image/png": "[encoded data removed]",
      "text/plain": [
       "<Figure size 432x288 with 1 Axes>"
      ]
     },
     "metadata": {
      "needs_background": "light"
     },
     "output_type": "display_data"
    }
   ],
   "source": [
    "data.plot(kind='scatter',x='x',y='y') # scatter plot"
   ]
  },
  {
   "cell_type": "code",
   "execution_count": 6,
   "metadata": {},
   "outputs": [],
   "source": [
    "x = data.iloc[0:18,0].values.reshape(-1, 1)\n",
    "y = data.iloc[0:18,1].values.reshape(-1, 1)"
   ]
  },
  {
   "cell_type": "code",
   "execution_count": 7,
   "metadata": {},
   "outputs": [],
   "source": [
    "linear_regressor = LinearRegression()\n",
    "linear_regressor.fit(x, y)\n",
    "y_pred = linear_regressor.predict(x)"
   ]
  },
  {
   "cell_type": "code",
   "execution_count": 8,
   "metadata": {},
   "outputs": [
    {
     "data": {
      "image/png": "[encoded data removed]",
      "text/plain": [
       "<Figure size 432x288 with 1 Axes>"
      ]
     },
     "metadata": {
      "needs_background": "light"
     },
     "output_type": "display_data"
    }
   ],
   "source": [
    "plt.scatter(x, y)\n",
    "plt.plot(x, y_pred, color='red')\n",
    "plt.show()"
   ]
  },
  {
   "cell_type": "code",
   "execution_count": 10,
   "metadata": {
    "scrolled": true
   },
   "outputs": [
    {
     "name": "stdout",
     "output_type": "stream",
     "text": [
      "\"Goodness of Fit\" is 41.0 %\n"
     ]
    }
   ],
   "source": [
    "print('\"Goodness of Fit\" is', r2_score(y, y_pred).round(2)*100, '%')"
   ]
  },
  {
   "cell_type": "code",
   "execution_count": 11,
   "metadata": {},
   "outputs": [
    {
     "name": "stdout",
     "output_type": "stream",
     "text": [
      "Buy baby!!\n"
     ]
    }
   ],
   "source": [
    "coeficient = (linear_regressor.coef_)\n",
    "if coeficient > 0:\n",
    "    print('Buy baby!!')\n",
    "else:\n",
    "    print('Sell baby!!')"
   ]
  },
  {
   "cell_type": "code",
   "execution_count": null,
   "metadata": {},
   "outputs": [],
   "source": []
  },
  {
   "cell_type": "code",
   "execution_count": 24,
   "metadata": {},
   "outputs": [],
   "source": [
    "def viz(data):\n",
    "    fig = go.Figure(data=[go.Candlestick(x=data['UTC_Time'],\n",
    "                open=data['Open'],\n",
    "                high=data['High'],\n",
    "                low=data['Low'],\n",
    "                close=data['Close'])])\n",
    "\n",
    "    fig.update_layout(xaxis_rangeslider_visible=False,\n",
    "                      title=pair,\n",
    "                      title_font_color=\"blue\",\n",
    "                      title_font_size = 20)\n",
    "    \n",
    "    fig.update_xaxes(rangebreaks=[dict(bounds=[\"sat\", \"mon\"])])\n",
    "    \n",
    "    fig.show()"
   ]
  },
  {
   "cell_type": "code",
   "execution_count": 16,
   "metadata": {},
   "outputs": [],
   "source": [
    "pair = \"EURUSD\"\n",
    "timeframe = \"H4\""
   ]
  },
  {
   "cell_type": "code",
   "execution_count": 17,
   "metadata": {
    "scrolled": false
   },
   "outputs": [
    {
     "data": {
      "application/vnd.plotly.v1+json": {
       "config": {
        "plotlyServerURL": "https://plot.ly"
       },
       "data": [
        {
         "close": [
          1.10002,
          1.10448,
          1.09869,
          1.1001299999999998,
          1.10277,
          1.10566,
          1.10433,
          1.10796,
          1.1122,
          1.11797,
          1.11327,
          1.11322,
          1.11451,
          1.11268,
          1.11192,
          1.1159,
          1.1172799999999998,
          1.11664,
          1.1157,
          1.11569,
          1.11254,
          1.11236,
          1.11356,
          1.1137,
          1.1134700000000002,
          1.11734,
          1.11868,
          1.12142,
          1.12362,
          1.12457,
          1.12285,
          1.1294,
          1.13228,
          1.13054,
          1.12839,
          1.13599,
          1.14012,
          1.14024,
          1.1435799999999998,
          1.14708,
          1.1440000000000001,
          1.13854,
          1.13753,
          1.13602,
          1.13802,
          1.13061,
          1.12808,
          1.1318700000000002,
          1.13376,
          1.13134
         ],
         "high": [
          1.10046,
          1.10532,
          1.1045,
          1.10089,
          1.1046200000000002,
          1.1074,
          1.10635,
          1.10931,
          1.11648,
          1.11848,
          1.11837,
          1.11478,
          1.11556,
          1.11512,
          1.1139,
          1.12139,
          1.11952,
          1.11853,
          1.11712,
          1.11876,
          1.1167200000000002,
          1.11454,
          1.1142299999999998,
          1.11427,
          1.11437,
          1.11742,
          1.12002,
          1.1216700000000002,
          1.1245,
          1.12464,
          1.12488,
          1.12956,
          1.13408,
          1.1354799999999998,
          1.1326,
          1.13964,
          1.14963,
          1.14756,
          1.14392,
          1.14847,
          1.1479,
          1.14584,
          1.14146,
          1.14014,
          1.13898,
          1.13944,
          1.13311,
          1.13256,
          1.13388,
          1.13667
         ],
         "low": [
          1.09824,
          1.09914,
          1.09684,
          1.0951,
          1.09903,
          1.10364,
          1.1042,
          1.10384,
          1.10774,
          1.11079,
          1.11238,
          1.11204,
          1.11288,
          1.11002,
          1.10954,
          1.11156,
          1.11585,
          1.11622,
          1.11554,
          1.11434,
          1.11096,
          1.10955,
          1.11234,
          1.11313,
          1.1134,
          1.11196,
          1.11566,
          1.1167,
          1.1192,
          1.12116,
          1.1226200000000002,
          1.12192,
          1.12929,
          1.12874,
          1.12835,
          1.13356,
          1.1356,
          1.13812,
          1.13655,
          1.13763,
          1.14273,
          1.1377,
          1.13719,
          1.13323,
          1.1336,
          1.12966,
          1.12749,
          1.12781,
          1.13098,
          1.13093
         ],
         "open": [
          1.0988,
          1.10002,
          1.10446,
          1.0987,
          1.10012,
          1.10446,
          1.10568,
          1.10433,
          1.10796,
          1.11221,
          1.11796,
          1.11334,
          1.11321,
          1.1145,
          1.11266,
          1.11193,
          1.11591,
          1.1172799999999998,
          1.11666,
          1.1157,
          1.1156700000000002,
          1.11255,
          1.11236,
          1.11362,
          1.1137,
          1.11346,
          1.11733,
          1.11866,
          1.12143,
          1.12399,
          1.12458,
          1.12286,
          1.12941,
          1.13229,
          1.13056,
          1.1351,
          1.13601,
          1.14011,
          1.14023,
          1.14357,
          1.14707,
          1.1440000000000001,
          1.13852,
          1.13755,
          1.13604,
          1.138,
          1.13059,
          1.12808,
          1.13188,
          1.1337700000000002
         ],
         "type": "candlestick",
         "x": [
          "2020-02-28T02:00:00.000000000Z",
          "2020-02-28T06:00:00.000000000Z",
          "2020-02-28T10:00:00.000000000Z",
          "2020-02-28T14:00:00.000000000Z",
          "2020-02-28T18:00:00.000000000Z",
          "2020-03-01T22:00:00.000000000Z",
          "2020-03-02T02:00:00.000000000Z",
          "2020-03-02T06:00:00.000000000Z",
          "2020-03-02T10:00:00.000000000Z",
          "2020-03-02T14:00:00.000000000Z",
          "2020-03-02T18:00:00.000000000Z",
          "2020-03-02T22:00:00.000000000Z",
          "2020-03-03T02:00:00.000000000Z",
          "2020-03-03T06:00:00.000000000Z",
          "2020-03-03T10:00:00.000000000Z",
          "2020-03-03T14:00:00.000000000Z",
          "2020-03-03T18:00:00.000000000Z",
          "2020-03-03T22:00:00.000000000Z",
          "2020-03-04T02:00:00.000000000Z",
          "2020-03-04T06:00:00.000000000Z",
          "2020-03-04T10:00:00.000000000Z",
          "2020-03-04T14:00:00.000000000Z",
          "2020-03-04T18:00:00.000000000Z",
          "2020-03-04T22:00:00.000000000Z",
          "2020-03-05T02:00:00.000000000Z",
          "2020-03-05T06:00:00.000000000Z",
          "2020-03-05T10:00:00.000000000Z",
          "2020-03-05T14:00:00.000000000Z",
          "2020-03-05T18:00:00.000000000Z",
          "2020-03-05T22:00:00.000000000Z",
          "2020-03-06T02:00:00.000000000Z",
          "2020-03-06T06:00:00.000000000Z",
          "2020-03-06T10:00:00.000000000Z",
          "2020-03-06T14:00:00.000000000Z",
          "2020-03-06T18:00:00.000000000Z",
          "2020-03-08T21:00:00.000000000Z",
          "2020-03-09T01:00:00.000000000Z",
          "2020-03-09T05:00:00.000000000Z",
          "2020-03-09T09:00:00.000000000Z",
          "2020-03-09T13:00:00.000000000Z",
          "2020-03-09T17:00:00.000000000Z",
          "2020-03-09T21:00:00.000000000Z",
          "2020-03-10T01:00:00.000000000Z",
          "2020-03-10T05:00:00.000000000Z",
          "2020-03-10T09:00:00.000000000Z",
          "2020-03-10T13:00:00.000000000Z",
          "2020-03-10T17:00:00.000000000Z",
          "2020-03-10T21:00:00.000000000Z",
          "2020-03-11T01:00:00.000000000Z",
          "2020-03-11T05:00:00.000000000Z"
         ]
        }
       ],
       "layout": {
        "template": {
         "data": {
          "bar": [
           {
            "error_x": {
             "color": "#2a3f5f"
            },
            "error_y": {
             "color": "#2a3f5f"
            },
            "marker": {
             "line": {
              "color": "#E5ECF6",
              "width": 0.5
             },
             "pattern": {
              "fillmode": "overlay",
              "size": 10,
              "solidity": 0.2
             }
            },
            "type": "bar"
           }
          ],
          "barpolar": [
           {
            "marker": {
             "line": {
              "color": "#E5ECF6",
              "width": 0.5
             },
             "pattern": {
              "fillmode": "overlay",
              "size": 10,
              "solidity": 0.2
             }
            },
            "type": "barpolar"
           }
          ],
          "carpet": [
           {
            "aaxis": {
             "endlinecolor": "#2a3f5f",
             "gridcolor": "white",
             "linecolor": "white",
             "minorgridcolor": "white",
             "startlinecolor": "#2a3f5f"
            },
            "baxis": {
             "endlinecolor": "#2a3f5f",
             "gridcolor": "white",
             "linecolor": "white",
             "minorgridcolor": "white",
             "startlinecolor": "#2a3f5f"
            },
            "type": "carpet"
           }
          ],
          "choropleth": [
           {
            "colorbar": {
             "outlinewidth": 0,
             "ticks": ""
            },
            "type": "choropleth"
           }
          ],
          "contour": [
           {
            "colorbar": {
             "outlinewidth": 0,
             "ticks": ""
            },
            "colorscale": [
             [
              0,
              "#0d0887"
             ],
             [
              0.1111111111111111,
              "#46039f"
             ],
             [
              0.2222222222222222,
              "#7201a8"
             ],
             [
              0.3333333333333333,
              "#9c179e"
             ],
             [
              0.4444444444444444,
              "#bd3786"
             ],
             [
              0.5555555555555556,
              "#d8576b"
             ],
             [
              0.6666666666666666,
              "#ed7953"
             ],
             [
              0.7777777777777778,
              "#fb9f3a"
             ],
             [
              0.8888888888888888,
              "#fdca26"
             ],
             [
              1,
              "#f0f921"
             ]
            ],
            "type": "contour"
           }
          ],
          "contourcarpet": [
           {
            "colorbar": {
             "outlinewidth": 0,
             "ticks": ""
            },
            "type": "contourcarpet"
           }
          ],
          "heatmap": [
           {
            "colorbar": {
             "outlinewidth": 0,
             "ticks": ""
            },
            "colorscale": [
             [
              0,
              "#0d0887"
             ],
             [
              0.1111111111111111,
              "#46039f"
             ],
             [
              0.2222222222222222,
              "#7201a8"
             ],
             [
              0.3333333333333333,
              "#9c179e"
             ],
             [
              0.4444444444444444,
              "#bd3786"
             ],
             [
              0.5555555555555556,
              "#d8576b"
             ],
             [
              0.6666666666666666,
              "#ed7953"
             ],
             [
              0.7777777777777778,
              "#fb9f3a"
             ],
             [
              0.8888888888888888,
              "#fdca26"
             ],
             [
              1,
              "#f0f921"
             ]
            ],
            "type": "heatmap"
           }
          ],
          "heatmapgl": [
           {
            "colorbar": {
             "outlinewidth": 0,
             "ticks": ""
            },
            "colorscale": [
             [
              0,
              "#0d0887"
             ],
             [
              0.1111111111111111,
              "#46039f"
             ],
             [
              0.2222222222222222,
              "#7201a8"
             ],
             [
              0.3333333333333333,
              "#9c179e"
             ],
             [
              0.4444444444444444,
              "#bd3786"
             ],
             [
              0.5555555555555556,
              "#d8576b"
             ],
             [
              0.6666666666666666,
              "#ed7953"
             ],
             [
              0.7777777777777778,
              "#fb9f3a"
             ],
             [
              0.8888888888888888,
              "#fdca26"
             ],
             [
              1,
              "#f0f921"
             ]
            ],
            "type": "heatmapgl"
           }
          ],
          "histogram": [
           {
            "marker": {
             "pattern": {
              "fillmode": "overlay",
              "size": 10,
              "solidity": 0.2
             }
            },
            "type": "histogram"
           }
          ],
          "histogram2d": [
           {
            "colorbar": {
             "outlinewidth": 0,
             "ticks": ""
            },
            "colorscale": [
             [
              0,
              "#0d0887"
             ],
             [
              0.1111111111111111,
              "#46039f"
             ],
             [
              0.2222222222222222,
              "#7201a8"
             ],
             [
              0.3333333333333333,
              "#9c179e"
             ],
             [
              0.4444444444444444,
              "#bd3786"
             ],
             [
              0.5555555555555556,
              "#d8576b"
             ],
             [
              0.6666666666666666,
              "#ed7953"
             ],
             [
              0.7777777777777778,
              "#fb9f3a"
             ],
             [
              0.8888888888888888,
              "#fdca26"
             ],
             [
              1,
              "#f0f921"
             ]
            ],
            "type": "histogram2d"
           }
          ],
          "histogram2dcontour": [
           {
            "colorbar": {
             "outlinewidth": 0,
             "ticks": ""
            },
            "colorscale": [
             [
              0,
              "#0d0887"
             ],
             [
              0.1111111111111111,
              "#46039f"
             ],
             [
              0.2222222222222222,
              "#7201a8"
             ],
             [
              0.3333333333333333,
              "#9c179e"
             ],
             [
              0.4444444444444444,
              "#bd3786"
             ],
             [
              0.5555555555555556,
              "#d8576b"
             ],
             [
              0.6666666666666666,
              "#ed7953"
             ],
             [
              0.7777777777777778,
              "#fb9f3a"
             ],
             [
              0.8888888888888888,
              "#fdca26"
             ],
             [
              1,
              "#f0f921"
             ]
            ],
            "type": "histogram2dcontour"
           }
          ],
          "mesh3d": [
           {
            "colorbar": {
             "outlinewidth": 0,
             "ticks": ""
            },
            "type": "mesh3d"
           }
          ],
          "parcoords": [
           {
            "line": {
             "colorbar": {
              "outlinewidth": 0,
              "ticks": ""
             }
            },
            "type": "parcoords"
           }
          ],
          "pie": [
           {
            "automargin": true,
            "type": "pie"
           }
          ],
          "scatter": [
           {
            "marker": {
             "colorbar": {
              "outlinewidth": 0,
              "ticks": ""
             }
            },
            "type": "scatter"
           }
          ],
          "scatter3d": [
           {
            "line": {
             "colorbar": {
              "outlinewidth": 0,
              "ticks": ""
             }
            },
            "marker": {
             "colorbar": {
              "outlinewidth": 0,
              "ticks": ""
             }
            },
            "type": "scatter3d"
           }
          ],
          "scattercarpet": [
           {
            "marker": {
             "colorbar": {
              "outlinewidth": 0,
              "ticks": ""
             }
            },
            "type": "scattercarpet"
           }
          ],
          "scattergeo": [
           {
            "marker": {
             "colorbar": {
              "outlinewidth": 0,
              "ticks": ""
             }
            },
            "type": "scattergeo"
           }
          ],
          "scattergl": [
           {
            "marker": {
             "colorbar": {
              "outlinewidth": 0,
              "ticks": ""
             }
            },
            "type": "scattergl"
           }
          ],
          "scattermapbox": [
           {
            "marker": {
             "colorbar": {
              "outlinewidth": 0,
              "ticks": ""
             }
            },
            "type": "scattermapbox"
           }
          ],
          "scatterpolar": [
           {
            "marker": {
             "colorbar": {
              "outlinewidth": 0,
              "ticks": ""
             }
            },
            "type": "scatterpolar"
           }
          ],
          "scatterpolargl": [
           {
            "marker": {
             "colorbar": {
              "outlinewidth": 0,
              "ticks": ""
             }
            },
            "type": "scatterpolargl"
           }
          ],
          "scatterternary": [
           {
            "marker": {
             "colorbar": {
              "outlinewidth": 0,
              "ticks": ""
             }
            },
            "type": "scatterternary"
           }
          ],
          "surface": [
           {
            "colorbar": {
             "outlinewidth": 0,
             "ticks": ""
            },
            "colorscale": [
             [
              0,
              "#0d0887"
             ],
             [
              0.1111111111111111,
              "#46039f"
             ],
             [
              0.2222222222222222,
              "#7201a8"
             ],
             [
              0.3333333333333333,
              "#9c179e"
             ],
             [
              0.4444444444444444,
              "#bd3786"
             ],
             [
              0.5555555555555556,
              "#d8576b"
             ],
             [
              0.6666666666666666,
              "#ed7953"
             ],
             [
              0.7777777777777778,
              "#fb9f3a"
             ],
             [
              0.8888888888888888,
              "#fdca26"
             ],
             [
              1,
              "#f0f921"
             ]
            ],
            "type": "surface"
           }
          ],
          "table": [
           {
            "cells": {
             "fill": {
              "color": "#EBF0F8"
             },
             "line": {
              "color": "white"
             }
            },
            "header": {
             "fill": {
              "color": "#C8D4E3"
             },
             "line": {
              "color": "white"
             }
            },
            "type": "table"
           }
          ]
         },
         "layout": {
          "annotationdefaults": {
           "arrowcolor": "#2a3f5f",
           "arrowhead": 0,
           "arrowwidth": 1
          },
          "autotypenumbers": "strict",
          "coloraxis": {
           "colorbar": {
            "outlinewidth": 0,
            "ticks": ""
           }
          },
          "colorscale": {
           "diverging": [
            [
             0,
             "#8e0152"
            ],
            [
             0.1,
             "#c51b7d"
            ],
            [
             0.2,
             "#de77ae"
            ],
            [
             0.3,
             "#f1b6da"
            ],
            [
             0.4,
             "#fde0ef"
            ],
            [
             0.5,
             "#f7f7f7"
            ],
            [
             0.6,
             "#e6f5d0"
            ],
            [
             0.7,
             "#b8e186"
            ],
            [
             0.8,
             "#7fbc41"
            ],
            [
             0.9,
             "#4d9221"
            ],
            [
             1,
             "#276419"
            ]
           ],
           "sequential": [
            [
             0,
             "#0d0887"
            ],
            [
             0.1111111111111111,
             "#46039f"
            ],
            [
             0.2222222222222222,
             "#7201a8"
            ],
            [
             0.3333333333333333,
             "#9c179e"
            ],
            [
             0.4444444444444444,
             "#bd3786"
            ],
            [
             0.5555555555555556,
             "#d8576b"
            ],
            [
             0.6666666666666666,
             "#ed7953"
            ],
            [
             0.7777777777777778,
             "#fb9f3a"
            ],
            [
             0.8888888888888888,
             "#fdca26"
            ],
            [
             1,
             "#f0f921"
            ]
           ],
           "sequentialminus": [
            [
             0,
             "#0d0887"
            ],
            [
             0.1111111111111111,
             "#46039f"
            ],
            [
             0.2222222222222222,
             "#7201a8"
            ],
            [
             0.3333333333333333,
             "#9c179e"
            ],
            [
             0.4444444444444444,
             "#bd3786"
            ],
            [
             0.5555555555555556,
             "#d8576b"
            ],
            [
             0.6666666666666666,
             "#ed7953"
            ],
            [
             0.7777777777777778,
             "#fb9f3a"
            ],
            [
             0.8888888888888888,
             "#fdca26"
            ],
            [
             1,
             "#f0f921"
            ]
           ]
          },
          "colorway": [
           "#636efa",
           "#EF553B",
           "#00cc96",
           "#ab63fa",
           "#FFA15A",
           "#19d3f3",
           "#FF6692",
           "#B6E880",
           "#FF97FF",
           "#FECB52"
          ],
          "font": {
           "color": "#2a3f5f"
          },
          "geo": {
           "bgcolor": "white",
           "lakecolor": "white",
           "landcolor": "#E5ECF6",
           "showlakes": true,
           "showland": true,
           "subunitcolor": "white"
          },
          "hoverlabel": {
           "align": "left"
          },
          "hovermode": "closest",
          "mapbox": {
           "style": "light"
          },
          "paper_bgcolor": "white",
          "plot_bgcolor": "#E5ECF6",
          "polar": {
           "angularaxis": {
            "gridcolor": "white",
            "linecolor": "white",
            "ticks": ""
           },
           "bgcolor": "#E5ECF6",
           "radialaxis": {
            "gridcolor": "white",
            "linecolor": "white",
            "ticks": ""
           }
          },
          "scene": {
           "xaxis": {
            "backgroundcolor": "#E5ECF6",
            "gridcolor": "white",
            "gridwidth": 2,
            "linecolor": "white",
            "showbackground": true,
            "ticks": "",
            "zerolinecolor": "white"
           },
           "yaxis": {
            "backgroundcolor": "#E5ECF6",
            "gridcolor": "white",
            "gridwidth": 2,
            "linecolor": "white",
            "showbackground": true,
            "ticks": "",
            "zerolinecolor": "white"
           },
           "zaxis": {
            "backgroundcolor": "#E5ECF6",
            "gridcolor": "white",
            "gridwidth": 2,
            "linecolor": "white",
            "showbackground": true,
            "ticks": "",
            "zerolinecolor": "white"
           }
          },
          "shapedefaults": {
           "line": {
            "color": "#2a3f5f"
           }
          },
          "ternary": {
           "aaxis": {
            "gridcolor": "white",
            "linecolor": "white",
            "ticks": ""
           },
           "baxis": {
            "gridcolor": "white",
            "linecolor": "white",
            "ticks": ""
           },
           "bgcolor": "#E5ECF6",
           "caxis": {
            "gridcolor": "white",
            "linecolor": "white",
            "ticks": ""
           }
          },
          "title": {
           "x": 0.05
          },
          "xaxis": {
           "automargin": true,
           "gridcolor": "white",
           "linecolor": "white",
           "ticks": "",
           "title": {
            "standoff": 15
           },
           "zerolinecolor": "white",
           "zerolinewidth": 2
          },
          "yaxis": {
           "automargin": true,
           "gridcolor": "white",
           "linecolor": "white",
           "ticks": "",
           "title": {
            "standoff": 15
           },
           "zerolinecolor": "white",
           "zerolinewidth": 2
          }
         }
        },
        "title": {
         "font": {
          "color": "blue",
          "size": 20
         },
         "text": "EURUSD"
        },
        "xaxis": {
         "rangebreaks": [
          {
           "bounds": [
            "sat",
            "mon"
           ]
          }
         ],
         "rangeslider": {
          "visible": false
         }
        }
       }
      },
      "text/html": [
       "<div>                            <div id=\"7eafb143-a2ec-401e-a7ff-cb13053151de\" class=\"plotly-graph-div\" style=\"height:525px; width:100%;\"></div>            <script type=\"text/javascript\">                require([\"plotly\"], function(Plotly) {                    window.PLOTLYENV=window.PLOTLYENV || {};                                    if (document.getElementById(\"7eafb143-a2ec-401e-a7ff-cb13053151de\")) {                    Plotly.newPlot(                        \"7eafb143-a2ec-401e-a7ff-cb13053151de\",                        [{\"close\":[1.10002,1.10448,1.09869,1.1001299999999998,1.10277,1.10566,1.10433,1.10796,1.1122,1.11797,1.11327,1.11322,1.11451,1.11268,1.11192,1.1159,1.1172799999999998,1.11664,1.1157,1.11569,1.11254,1.11236,1.11356,1.1137,1.1134700000000002,1.11734,1.11868,1.12142,1.12362,1.12457,1.12285,1.1294,1.13228,1.13054,1.12839,1.13599,1.14012,1.14024,1.1435799999999998,1.14708,1.1440000000000001,1.13854,1.13753,1.13602,1.13802,1.13061,1.12808,1.1318700000000002,1.13376,1.13134],\"high\":[1.10046,1.10532,1.1045,1.10089,1.1046200000000002,1.1074,1.10635,1.10931,1.11648,1.11848,1.11837,1.11478,1.11556,1.11512,1.1139,1.12139,1.11952,1.11853,1.11712,1.11876,1.1167200000000002,1.11454,1.1142299999999998,1.11427,1.11437,1.11742,1.12002,1.1216700000000002,1.1245,1.12464,1.12488,1.12956,1.13408,1.1354799999999998,1.1326,1.13964,1.14963,1.14756,1.14392,1.14847,1.1479,1.14584,1.14146,1.14014,1.13898,1.13944,1.13311,1.13256,1.13388,1.13667],\"low\":[1.09824,1.09914,1.09684,1.0951,1.09903,1.10364,1.1042,1.10384,1.10774,1.11079,1.11238,1.11204,1.11288,1.11002,1.10954,1.11156,1.11585,1.11622,1.11554,1.11434,1.11096,1.10955,1.11234,1.11313,1.1134,1.11196,1.11566,1.1167,1.1192,1.12116,1.1226200000000002,1.12192,1.12929,1.12874,1.12835,1.13356,1.1356,1.13812,1.13655,1.13763,1.14273,1.1377,1.13719,1.13323,1.1336,1.12966,1.12749,1.12781,1.13098,1.13093],\"open\":[1.0988,1.10002,1.10446,1.0987,1.10012,1.10446,1.10568,1.10433,1.10796,1.11221,1.11796,1.11334,1.11321,1.1145,1.11266,1.11193,1.11591,1.1172799999999998,1.11666,1.1157,1.1156700000000002,1.11255,1.11236,1.11362,1.1137,1.11346,1.11733,1.11866,1.12143,1.12399,1.12458,1.12286,1.12941,1.13229,1.13056,1.1351,1.13601,1.14011,1.14023,1.14357,1.14707,1.1440000000000001,1.13852,1.13755,1.13604,1.138,1.13059,1.12808,1.13188,1.1337700000000002],\"type\":\"candlestick\",\"x\":[\"2020-02-28T02:00:00.000000000Z\",\"2020-02-28T06:00:00.000000000Z\",\"2020-02-28T10:00:00.000000000Z\",\"2020-02-28T14:00:00.000000000Z\",\"2020-02-28T18:00:00.000000000Z\",\"2020-03-01T22:00:00.000000000Z\",\"2020-03-02T02:00:00.000000000Z\",\"2020-03-02T06:00:00.000000000Z\",\"2020-03-02T10:00:00.000000000Z\",\"2020-03-02T14:00:00.000000000Z\",\"2020-03-02T18:00:00.000000000Z\",\"2020-03-02T22:00:00.000000000Z\",\"2020-03-03T02:00:00.000000000Z\",\"2020-03-03T06:00:00.000000000Z\",\"2020-03-03T10:00:00.000000000Z\",\"2020-03-03T14:00:00.000000000Z\",\"2020-03-03T18:00:00.000000000Z\",\"2020-03-03T22:00:00.000000000Z\",\"2020-03-04T02:00:00.000000000Z\",\"2020-03-04T06:00:00.000000000Z\",\"2020-03-04T10:00:00.000000000Z\",\"2020-03-04T14:00:00.000000000Z\",\"2020-03-04T18:00:00.000000000Z\",\"2020-03-04T22:00:00.000000000Z\",\"2020-03-05T02:00:00.000000000Z\",\"2020-03-05T06:00:00.000000000Z\",\"2020-03-05T10:00:00.000000000Z\",\"2020-03-05T14:00:00.000000000Z\",\"2020-03-05T18:00:00.000000000Z\",\"2020-03-05T22:00:00.000000000Z\",\"2020-03-06T02:00:00.000000000Z\",\"2020-03-06T06:00:00.000000000Z\",\"2020-03-06T10:00:00.000000000Z\",\"2020-03-06T14:00:00.000000000Z\",\"2020-03-06T18:00:00.000000000Z\",\"2020-03-08T21:00:00.000000000Z\",\"2020-03-09T01:00:00.000000000Z\",\"2020-03-09T05:00:00.000000000Z\",\"2020-03-09T09:00:00.000000000Z\",\"2020-03-09T13:00:00.000000000Z\",\"2020-03-09T17:00:00.000000000Z\",\"2020-03-09T21:00:00.000000000Z\",\"2020-03-10T01:00:00.000000000Z\",\"2020-03-10T05:00:00.000000000Z\",\"2020-03-10T09:00:00.000000000Z\",\"2020-03-10T13:00:00.000000000Z\",\"2020-03-10T17:00:00.000000000Z\",\"2020-03-10T21:00:00.000000000Z\",\"2020-03-11T01:00:00.000000000Z\",\"2020-03-11T05:00:00.000000000Z\"]}],                        {\"template\":{\"data\":{\"bar\":[{\"error_x\":{\"color\":\"#2a3f5f\"},\"error_y\":{\"color\":\"#2a3f5f\"},\"marker\":{\"line\":{\"color\":\"#E5ECF6\",\"width\":0.5},\"pattern\":{\"fillmode\":\"overlay\",\"size\":10,\"solidity\":0.2}},\"type\":\"bar\"}],\"barpolar\":[{\"marker\":{\"line\":{\"color\":\"#E5ECF6\",\"width\":0.5},\"pattern\":{\"fillmode\":\"overlay\",\"size\":10,\"solidity\":0.2}},\"type\":\"barpolar\"}],\"carpet\":[{\"aaxis\":{\"endlinecolor\":\"#2a3f5f\",\"gridcolor\":\"white\",\"linecolor\":\"white\",\"minorgridcolor\":\"white\",\"startlinecolor\":\"#2a3f5f\"},\"baxis\":{\"endlinecolor\":\"#2a3f5f\",\"gridcolor\":\"white\",\"linecolor\":\"white\",\"minorgridcolor\":\"white\",\"startlinecolor\":\"#2a3f5f\"},\"type\":\"carpet\"}],\"choropleth\":[{\"colorbar\":{\"outlinewidth\":0,\"ticks\":\"\"},\"type\":\"choropleth\"}],\"contour\":[{\"colorbar\":{\"outlinewidth\":0,\"ticks\":\"\"},\"colorscale\":[[0.0,\"#0d0887\"],[0.1111111111111111,\"#46039f\"],[0.2222222222222222,\"#7201a8\"],[0.3333333333333333,\"#9c179e\"],[0.4444444444444444,\"#bd3786\"],[0.5555555555555556,\"#d8576b\"],[0.6666666666666666,\"#ed7953\"],[0.7777777777777778,\"#fb9f3a\"],[0.8888888888888888,\"#fdca26\"],[1.0,\"#f0f921\"]],\"type\":\"contour\"}],\"contourcarpet\":[{\"colorbar\":{\"outlinewidth\":0,\"ticks\":\"\"},\"type\":\"contourcarpet\"}],\"heatmap\":[{\"colorbar\":{\"outlinewidth\":0,\"ticks\":\"\"},\"colorscale\":[[0.0,\"#0d0887\"],[0.1111111111111111,\"#46039f\"],[0.2222222222222222,\"#7201a8\"],[0.3333333333333333,\"#9c179e\"],[0.4444444444444444,\"#bd3786\"],[0.5555555555555556,\"#d8576b\"],[0.6666666666666666,\"#ed7953\"],[0.7777777777777778,\"#fb9f3a\"],[0.8888888888888888,\"#fdca26\"],[1.0,\"#f0f921\"]],\"type\":\"heatmap\"}],\"heatmapgl\":[{\"colorbar\":{\"outlinewidth\":0,\"ticks\":\"\"},\"colorscale\":[[0.0,\"#0d0887\"],[0.1111111111111111,\"#46039f\"],[0.2222222222222222,\"#7201a8\"],[0.3333333333333333,\"#9c179e\"],[0.4444444444444444,\"#bd3786\"],[0.5555555555555556,\"#d8576b\"],[0.6666666666666666,\"#ed7953\"],[0.7777777777777778,\"#fb9f3a\"],[0.8888888888888888,\"#fdca26\"],[1.0,\"#f0f921\"]],\"type\":\"heatmapgl\"}],\"histogram\":[{\"marker\":{\"pattern\":{\"fillmode\":\"overlay\",\"size\":10,\"solidity\":0.2}},\"type\":\"histogram\"}],\"histogram2d\":[{\"colorbar\":{\"outlinewidth\":0,\"ticks\":\"\"},\"colorscale\":[[0.0,\"#0d0887\"],[0.1111111111111111,\"#46039f\"],[0.2222222222222222,\"#7201a8\"],[0.3333333333333333,\"#9c179e\"],[0.4444444444444444,\"#bd3786\"],[0.5555555555555556,\"#d8576b\"],[0.6666666666666666,\"#ed7953\"],[0.7777777777777778,\"#fb9f3a\"],[0.8888888888888888,\"#fdca26\"],[1.0,\"#f0f921\"]],\"type\":\"histogram2d\"}],\"histogram2dcontour\":[{\"colorbar\":{\"outlinewidth\":0,\"ticks\":\"\"},\"colorscale\":[[0.0,\"#0d0887\"],[0.1111111111111111,\"#46039f\"],[0.2222222222222222,\"#7201a8\"],[0.3333333333333333,\"#9c179e\"],[0.4444444444444444,\"#bd3786\"],[0.5555555555555556,\"#d8576b\"],[0.6666666666666666,\"#ed7953\"],[0.7777777777777778,\"#fb9f3a\"],[0.8888888888888888,\"#fdca26\"],[1.0,\"#f0f921\"]],\"type\":\"histogram2dcontour\"}],\"mesh3d\":[{\"colorbar\":{\"outlinewidth\":0,\"ticks\":\"\"},\"type\":\"mesh3d\"}],\"parcoords\":[{\"line\":{\"colorbar\":{\"outlinewidth\":0,\"ticks\":\"\"}},\"type\":\"parcoords\"}],\"pie\":[{\"automargin\":true,\"type\":\"pie\"}],\"scatter\":[{\"marker\":{\"colorbar\":{\"outlinewidth\":0,\"ticks\":\"\"}},\"type\":\"scatter\"}],\"scatter3d\":[{\"line\":{\"colorbar\":{\"outlinewidth\":0,\"ticks\":\"\"}},\"marker\":{\"colorbar\":{\"outlinewidth\":0,\"ticks\":\"\"}},\"type\":\"scatter3d\"}],\"scattercarpet\":[{\"marker\":{\"colorbar\":{\"outlinewidth\":0,\"ticks\":\"\"}},\"type\":\"scattercarpet\"}],\"scattergeo\":[{\"marker\":{\"colorbar\":{\"outlinewidth\":0,\"ticks\":\"\"}},\"type\":\"scattergeo\"}],\"scattergl\":[{\"marker\":{\"colorbar\":{\"outlinewidth\":0,\"ticks\":\"\"}},\"type\":\"scattergl\"}],\"scattermapbox\":[{\"marker\":{\"colorbar\":{\"outlinewidth\":0,\"ticks\":\"\"}},\"type\":\"scattermapbox\"}],\"scatterpolar\":[{\"marker\":{\"colorbar\":{\"outlinewidth\":0,\"ticks\":\"\"}},\"type\":\"scatterpolar\"}],\"scatterpolargl\":[{\"marker\":{\"colorbar\":{\"outlinewidth\":0,\"ticks\":\"\"}},\"type\":\"scatterpolargl\"}],\"scatterternary\":[{\"marker\":{\"colorbar\":{\"outlinewidth\":0,\"ticks\":\"\"}},\"type\":\"scatterternary\"}],\"surface\":[{\"colorbar\":{\"outlinewidth\":0,\"ticks\":\"\"},\"colorscale\":[[0.0,\"#0d0887\"],[0.1111111111111111,\"#46039f\"],[0.2222222222222222,\"#7201a8\"],[0.3333333333333333,\"#9c179e\"],[0.4444444444444444,\"#bd3786\"],[0.5555555555555556,\"#d8576b\"],[0.6666666666666666,\"#ed7953\"],[0.7777777777777778,\"#fb9f3a\"],[0.8888888888888888,\"#fdca26\"],[1.0,\"#f0f921\"]],\"type\":\"surface\"}],\"table\":[{\"cells\":{\"fill\":{\"color\":\"#EBF0F8\"},\"line\":{\"color\":\"white\"}},\"header\":{\"fill\":{\"color\":\"#C8D4E3\"},\"line\":{\"color\":\"white\"}},\"type\":\"table\"}]},\"layout\":{\"annotationdefaults\":{\"arrowcolor\":\"#2a3f5f\",\"arrowhead\":0,\"arrowwidth\":1},\"autotypenumbers\":\"strict\",\"coloraxis\":{\"colorbar\":{\"outlinewidth\":0,\"ticks\":\"\"}},\"colorscale\":{\"diverging\":[[0,\"#8e0152\"],[0.1,\"#c51b7d\"],[0.2,\"#de77ae\"],[0.3,\"#f1b6da\"],[0.4,\"#fde0ef\"],[0.5,\"#f7f7f7\"],[0.6,\"#e6f5d0\"],[0.7,\"#b8e186\"],[0.8,\"#7fbc41\"],[0.9,\"#4d9221\"],[1,\"#276419\"]],\"sequential\":[[0.0,\"#0d0887\"],[0.1111111111111111,\"#46039f\"],[0.2222222222222222,\"#7201a8\"],[0.3333333333333333,\"#9c179e\"],[0.4444444444444444,\"#bd3786\"],[0.5555555555555556,\"#d8576b\"],[0.6666666666666666,\"#ed7953\"],[0.7777777777777778,\"#fb9f3a\"],[0.8888888888888888,\"#fdca26\"],[1.0,\"#f0f921\"]],\"sequentialminus\":[[0.0,\"#0d0887\"],[0.1111111111111111,\"#46039f\"],[0.2222222222222222,\"#7201a8\"],[0.3333333333333333,\"#9c179e\"],[0.4444444444444444,\"#bd3786\"],[0.5555555555555556,\"#d8576b\"],[0.6666666666666666,\"#ed7953\"],[0.7777777777777778,\"#fb9f3a\"],[0.8888888888888888,\"#fdca26\"],[1.0,\"#f0f921\"]]},\"colorway\":[\"#636efa\",\"#EF553B\",\"#00cc96\",\"#ab63fa\",\"#FFA15A\",\"#19d3f3\",\"#FF6692\",\"#B6E880\",\"#FF97FF\",\"#FECB52\"],\"font\":{\"color\":\"#2a3f5f\"},\"geo\":{\"bgcolor\":\"white\",\"lakecolor\":\"white\",\"landcolor\":\"#E5ECF6\",\"showlakes\":true,\"showland\":true,\"subunitcolor\":\"white\"},\"hoverlabel\":{\"align\":\"left\"},\"hovermode\":\"closest\",\"mapbox\":{\"style\":\"light\"},\"paper_bgcolor\":\"white\",\"plot_bgcolor\":\"#E5ECF6\",\"polar\":{\"angularaxis\":{\"gridcolor\":\"white\",\"linecolor\":\"white\",\"ticks\":\"\"},\"bgcolor\":\"#E5ECF6\",\"radialaxis\":{\"gridcolor\":\"white\",\"linecolor\":\"white\",\"ticks\":\"\"}},\"scene\":{\"xaxis\":{\"backgroundcolor\":\"#E5ECF6\",\"gridcolor\":\"white\",\"gridwidth\":2,\"linecolor\":\"white\",\"showbackground\":true,\"ticks\":\"\",\"zerolinecolor\":\"white\"},\"yaxis\":{\"backgroundcolor\":\"#E5ECF6\",\"gridcolor\":\"white\",\"gridwidth\":2,\"linecolor\":\"white\",\"showbackground\":true,\"ticks\":\"\",\"zerolinecolor\":\"white\"},\"zaxis\":{\"backgroundcolor\":\"#E5ECF6\",\"gridcolor\":\"white\",\"gridwidth\":2,\"linecolor\":\"white\",\"showbackground\":true,\"ticks\":\"\",\"zerolinecolor\":\"white\"}},\"shapedefaults\":{\"line\":{\"color\":\"#2a3f5f\"}},\"ternary\":{\"aaxis\":{\"gridcolor\":\"white\",\"linecolor\":\"white\",\"ticks\":\"\"},\"baxis\":{\"gridcolor\":\"white\",\"linecolor\":\"white\",\"ticks\":\"\"},\"bgcolor\":\"#E5ECF6\",\"caxis\":{\"gridcolor\":\"white\",\"linecolor\":\"white\",\"ticks\":\"\"}},\"title\":{\"x\":0.05},\"xaxis\":{\"automargin\":true,\"gridcolor\":\"white\",\"linecolor\":\"white\",\"ticks\":\"\",\"title\":{\"standoff\":15},\"zerolinecolor\":\"white\",\"zerolinewidth\":2},\"yaxis\":{\"automargin\":true,\"gridcolor\":\"white\",\"linecolor\":\"white\",\"ticks\":\"\",\"title\":{\"standoff\":15},\"zerolinecolor\":\"white\",\"zerolinewidth\":2}}},\"title\":{\"font\":{\"color\":\"blue\",\"size\":20},\"text\":\"EURUSD\"},\"xaxis\":{\"rangebreaks\":[{\"bounds\":[\"sat\",\"mon\"]}],\"rangeslider\":{\"visible\":false}}},                        {\"responsive\": true}                    ).then(function(){\n",
       "                            \n",
       "var gd = document.getElementById('7eafb143-a2ec-401e-a7ff-cb13053151de');\n",
       "var x = new MutationObserver(function (mutations, observer) {{\n",
       "        var display = window.getComputedStyle(gd).display;\n",
       "        if (!display || display === 'none') {{\n",
       "            console.log([gd, 'removed!']);\n",
       "            Plotly.purge(gd);\n",
       "            observer.disconnect();\n",
       "        }}\n",
       "}});\n",
       "\n",
       "// Listen for the removal of the full notebook cells\n",
       "var notebookContainer = gd.closest('#notebook-container');\n",
       "if (notebookContainer) {{\n",
       "    x.observe(notebookContainer, {childList: true});\n",
       "}}\n",
       "\n",
       "// Listen for the clearing of the current output cell\n",
       "var outputEl = gd.closest('.output');\n",
       "if (outputEl) {{\n",
       "    x.observe(outputEl, {childList: true});\n",
       "}}\n",
       "\n",
       "                        })                };                });            </script>        </div>"
      ]
     },
     "metadata": {},
     "output_type": "display_data"
    }
   ],
   "source": [
    "viz(data)"
   ]
  },
  {
   "cell_type": "code",
   "execution_count": 9,
   "metadata": {},
   "outputs": [],
   "source": [
    "# LinearRegression is a machine learning library for linear regression\n",
    "from sklearn.linear_model import LinearRegression\n",
    "\n",
    "# pandas and numpy are used for data manipulation\n",
    "import pandas as pd\n",
    "import numpy as np\n",
    "\n",
    "# matplotlib and seaborn are used for plotting graphs\n",
    "import matplotlib.pyplot as plt\n",
    "%matplotlib inline\n",
    "plt.style.use('seaborn-darkgrid')\n",
    "\n",
    "# yahoo finance is used to fetch data\n",
    "import yfinance as yf"
   ]
  },
  {
   "cell_type": "code",
   "execution_count": 10,
   "metadata": {},
   "outputs": [
    {
     "name": "stdout",
     "output_type": "stream",
     "text": [
      "[*********************100%***********************]  1 of 1 completed\n"
     ]
    },
    {
     "data": {
      "text/html": [
       "<div>\n",
       "<style scoped>\n",
       "    .dataframe tbody tr th:only-of-type {\n",
       "        vertical-align: middle;\n",
       "    }\n",
       "\n",
       "    .dataframe tbody tr th {\n",
       "        vertical-align: top;\n",
       "    }\n",
       "\n",
       "    .dataframe thead th {\n",
       "        text-align: right;\n",
       "    }\n",
       "</style>\n",
       "<table border=\"1\" class=\"dataframe\">\n",
       "  <thead>\n",
       "    <tr style=\"text-align: right;\">\n",
       "      <th></th>\n",
       "      <th>Open</th>\n",
       "      <th>High</th>\n",
       "      <th>Low</th>\n",
       "      <th>Close</th>\n",
       "      <th>Volume</th>\n",
       "    </tr>\n",
       "    <tr>\n",
       "      <th>Date</th>\n",
       "      <th></th>\n",
       "      <th></th>\n",
       "      <th></th>\n",
       "      <th></th>\n",
       "      <th></th>\n",
       "    </tr>\n",
       "  </thead>\n",
       "  <tbody>\n",
       "    <tr>\n",
       "      <th>2008-01-02</th>\n",
       "      <td>83.559998</td>\n",
       "      <td>85.139999</td>\n",
       "      <td>83.440002</td>\n",
       "      <td>84.860001</td>\n",
       "      <td>12291100</td>\n",
       "    </tr>\n",
       "    <tr>\n",
       "      <th>2008-01-03</th>\n",
       "      <td>84.870003</td>\n",
       "      <td>85.940002</td>\n",
       "      <td>84.599998</td>\n",
       "      <td>85.570000</td>\n",
       "      <td>9553900</td>\n",
       "    </tr>\n",
       "    <tr>\n",
       "      <th>2008-01-04</th>\n",
       "      <td>85.339996</td>\n",
       "      <td>85.550003</td>\n",
       "      <td>84.430000</td>\n",
       "      <td>85.129997</td>\n",
       "      <td>8402200</td>\n",
       "    </tr>\n",
       "    <tr>\n",
       "      <th>2008-01-07</th>\n",
       "      <td>85.239998</td>\n",
       "      <td>85.260002</td>\n",
       "      <td>84.570000</td>\n",
       "      <td>84.769997</td>\n",
       "      <td>6944300</td>\n",
       "    </tr>\n",
       "    <tr>\n",
       "      <th>2008-01-08</th>\n",
       "      <td>86.279999</td>\n",
       "      <td>87.129997</td>\n",
       "      <td>86.160004</td>\n",
       "      <td>86.779999</td>\n",
       "      <td>9567900</td>\n",
       "    </tr>\n",
       "  </tbody>\n",
       "</table>\n",
       "</div>"
      ],
      "text/plain": [
       "                 Open       High        Low      Close    Volume\n",
       "Date                                                            \n",
       "2008-01-02  83.559998  85.139999  83.440002  84.860001  12291100\n",
       "2008-01-03  84.870003  85.940002  84.599998  85.570000   9553900\n",
       "2008-01-04  85.339996  85.550003  84.430000  85.129997   8402200\n",
       "2008-01-07  85.239998  85.260002  84.570000  84.769997   6944300\n",
       "2008-01-08  86.279999  87.129997  86.160004  86.779999   9567900"
      ]
     },
     "execution_count": 10,
     "metadata": {},
     "output_type": "execute_result"
    }
   ],
   "source": [
    "# Read data\n",
    "Df = yf.download('GLD', '2008-01-01', '2020-6-22', auto_adjust=True)\n",
    "\n",
    "Df.head(5)"
   ]
  },
  {
   "cell_type": "code",
   "execution_count": 11,
   "metadata": {},
   "outputs": [
    {
     "data": {
      "image/png": "[encoded data removed]",
      "text/plain": [
       "<Figure size 720x504 with 1 Axes>"
      ]
     },
     "metadata": {},
     "output_type": "display_data"
    }
   ],
   "source": [
    "# Only keep close columns\n",
    "Df = Df[['Close']]\n",
    "\n",
    "# Drop rows with missing values\n",
    "Df = Df.dropna()\n",
    "\n",
    "# Plot the closing price of GLD\n",
    "Df.Close.plot(figsize=(10, 7),color='r')\n",
    "plt.ylabel(\"Gold ETF Prices\")\n",
    "plt.title(\"Gold ETF Price Series\")\n",
    "plt.show()"
   ]
  },
  {
   "cell_type": "code",
   "execution_count": 12,
   "metadata": {},
   "outputs": [
    {
     "data": {
      "text/html": [
       "<div>\n",
       "<style scoped>\n",
       "    .dataframe tbody tr th:only-of-type {\n",
       "        vertical-align: middle;\n",
       "    }\n",
       "\n",
       "    .dataframe tbody tr th {\n",
       "        vertical-align: top;\n",
       "    }\n",
       "\n",
       "    .dataframe thead th {\n",
       "        text-align: right;\n",
       "    }\n",
       "</style>\n",
       "<table border=\"1\" class=\"dataframe\">\n",
       "  <thead>\n",
       "    <tr style=\"text-align: right;\">\n",
       "      <th></th>\n",
       "      <th>Close</th>\n",
       "      <th>S_3</th>\n",
       "      <th>S_9</th>\n",
       "      <th>next_day_price</th>\n",
       "    </tr>\n",
       "    <tr>\n",
       "      <th>Date</th>\n",
       "      <th></th>\n",
       "      <th></th>\n",
       "      <th></th>\n",
       "      <th></th>\n",
       "    </tr>\n",
       "  </thead>\n",
       "  <tbody>\n",
       "    <tr>\n",
       "      <th>2008-01-02</th>\n",
       "      <td>84.860001</td>\n",
       "      <td>NaN</td>\n",
       "      <td>NaN</td>\n",
       "      <td>85.570000</td>\n",
       "    </tr>\n",
       "    <tr>\n",
       "      <th>2008-01-03</th>\n",
       "      <td>85.570000</td>\n",
       "      <td>NaN</td>\n",
       "      <td>NaN</td>\n",
       "      <td>85.129997</td>\n",
       "    </tr>\n",
       "    <tr>\n",
       "      <th>2008-01-04</th>\n",
       "      <td>85.129997</td>\n",
       "      <td>85.186666</td>\n",
       "      <td>NaN</td>\n",
       "      <td>84.769997</td>\n",
       "    </tr>\n",
       "    <tr>\n",
       "      <th>2008-01-07</th>\n",
       "      <td>84.769997</td>\n",
       "      <td>85.156665</td>\n",
       "      <td>NaN</td>\n",
       "      <td>86.779999</td>\n",
       "    </tr>\n",
       "    <tr>\n",
       "      <th>2008-01-08</th>\n",
       "      <td>86.779999</td>\n",
       "      <td>85.559998</td>\n",
       "      <td>NaN</td>\n",
       "      <td>86.550003</td>\n",
       "    </tr>\n",
       "  </tbody>\n",
       "</table>\n",
       "</div>"
      ],
      "text/plain": [
       "                Close        S_3  S_9  next_day_price\n",
       "Date                                                 \n",
       "2008-01-02  84.860001        NaN  NaN       85.570000\n",
       "2008-01-03  85.570000        NaN  NaN       85.129997\n",
       "2008-01-04  85.129997  85.186666  NaN       84.769997\n",
       "2008-01-07  84.769997  85.156665  NaN       86.779999\n",
       "2008-01-08  86.779999  85.559998  NaN       86.550003"
      ]
     },
     "execution_count": 12,
     "metadata": {},
     "output_type": "execute_result"
    }
   ],
   "source": [
    "# Define explanatory variables\n",
    "Df['S_3'] = Df['Close'].rolling(window=3).mean()\n",
    "Df['S_9'] = Df['Close'].rolling(window=9).mean()\n",
    "Df['next_day_price'] = Df['Close'].shift(-1)\n",
    "Df.head()"
   ]
  },
  {
   "cell_type": "code",
   "execution_count": 13,
   "metadata": {},
   "outputs": [
    {
     "data": {
      "text/html": [
       "<div>\n",
       "<style scoped>\n",
       "    .dataframe tbody tr th:only-of-type {\n",
       "        vertical-align: middle;\n",
       "    }\n",
       "\n",
       "    .dataframe tbody tr th {\n",
       "        vertical-align: top;\n",
       "    }\n",
       "\n",
       "    .dataframe thead th {\n",
       "        text-align: right;\n",
       "    }\n",
       "</style>\n",
       "<table border=\"1\" class=\"dataframe\">\n",
       "  <thead>\n",
       "    <tr style=\"text-align: right;\">\n",
       "      <th></th>\n",
       "      <th>S_3</th>\n",
       "      <th>S_9</th>\n",
       "    </tr>\n",
       "    <tr>\n",
       "      <th>Date</th>\n",
       "      <th></th>\n",
       "      <th></th>\n",
       "    </tr>\n",
       "  </thead>\n",
       "  <tbody>\n",
       "    <tr>\n",
       "      <th>2008-01-14</th>\n",
       "      <td>88.790001</td>\n",
       "      <td>86.670000</td>\n",
       "    </tr>\n",
       "    <tr>\n",
       "      <th>2008-01-15</th>\n",
       "      <td>88.703334</td>\n",
       "      <td>87.017777</td>\n",
       "    </tr>\n",
       "    <tr>\n",
       "      <th>2008-01-16</th>\n",
       "      <td>88.076665</td>\n",
       "      <td>87.143333</td>\n",
       "    </tr>\n",
       "    <tr>\n",
       "      <th>2008-01-17</th>\n",
       "      <td>87.063332</td>\n",
       "      <td>87.295555</td>\n",
       "    </tr>\n",
       "    <tr>\n",
       "      <th>2008-01-18</th>\n",
       "      <td>86.873332</td>\n",
       "      <td>87.590000</td>\n",
       "    </tr>\n",
       "    <tr>\n",
       "      <th>...</th>\n",
       "      <td>...</td>\n",
       "      <td>...</td>\n",
       "    </tr>\n",
       "    <tr>\n",
       "      <th>2020-06-12</th>\n",
       "      <td>162.860001</td>\n",
       "      <td>161.227778</td>\n",
       "    </tr>\n",
       "    <tr>\n",
       "      <th>2020-06-15</th>\n",
       "      <td>162.446665</td>\n",
       "      <td>161.197778</td>\n",
       "    </tr>\n",
       "    <tr>\n",
       "      <th>2020-06-16</th>\n",
       "      <td>162.399999</td>\n",
       "      <td>161.492221</td>\n",
       "    </tr>\n",
       "    <tr>\n",
       "      <th>2020-06-17</th>\n",
       "      <td>162.380000</td>\n",
       "      <td>161.634443</td>\n",
       "    </tr>\n",
       "    <tr>\n",
       "      <th>2020-06-18</th>\n",
       "      <td>162.350001</td>\n",
       "      <td>162.104445</td>\n",
       "    </tr>\n",
       "  </tbody>\n",
       "</table>\n",
       "<p>3130 rows × 2 columns</p>\n",
       "</div>"
      ],
      "text/plain": [
       "                   S_3         S_9\n",
       "Date                              \n",
       "2008-01-14   88.790001   86.670000\n",
       "2008-01-15   88.703334   87.017777\n",
       "2008-01-16   88.076665   87.143333\n",
       "2008-01-17   87.063332   87.295555\n",
       "2008-01-18   86.873332   87.590000\n",
       "...                ...         ...\n",
       "2020-06-12  162.860001  161.227778\n",
       "2020-06-15  162.446665  161.197778\n",
       "2020-06-16  162.399999  161.492221\n",
       "2020-06-17  162.380000  161.634443\n",
       "2020-06-18  162.350001  162.104445\n",
       "\n",
       "[3130 rows x 2 columns]"
      ]
     },
     "execution_count": 13,
     "metadata": {},
     "output_type": "execute_result"
    }
   ],
   "source": [
    "\n",
    "Df = Df.dropna()\n",
    "X = Df[['S_3', 'S_9']]\n",
    "X\n"
   ]
  },
  {
   "cell_type": "code",
   "execution_count": 14,
   "metadata": {},
   "outputs": [
    {
     "data": {
      "text/plain": [
       "Date\n",
       "2008-01-14     87.989998\n",
       "2008-01-15     86.699997\n",
       "2008-01-16     86.500000\n",
       "2008-01-17     87.419998\n",
       "2008-01-18     88.169998\n",
       "                 ...    \n",
       "2020-06-12    162.330002\n",
       "2020-06-15    162.250000\n",
       "2020-06-16    162.559998\n",
       "2020-06-17    162.240005\n",
       "2020-06-18    164.029999\n",
       "Name: next_day_price, Length: 3130, dtype: float64"
      ]
     },
     "execution_count": 14,
     "metadata": {},
     "output_type": "execute_result"
    }
   ],
   "source": [
    "# Define dependent variable\n",
    "y = Df['next_day_price']\n",
    "y"
   ]
  },
  {
   "cell_type": "code",
   "execution_count": 15,
   "metadata": {},
   "outputs": [],
   "source": [
    "# Split the data into train and test dataset\n",
    "t = .8\n",
    "t = int(t*len(Df))\n",
    "\n",
    "# Train dataset\n",
    "X_train = X[:t]\n",
    "y_train = y[:t]\n",
    "\n",
    "# Test dataset\n",
    "X_test = X[t:]\n",
    "y_test = y[t:]"
   ]
  },
  {
   "cell_type": "code",
   "execution_count": 16,
   "metadata": {},
   "outputs": [],
   "source": [
    "#Y = m1 * X1 + m2 * X2 + C\n",
    "#Gold ETF price = m1 * 3 days moving average + m2 * 15 days moving average + c"
   ]
  },
  {
   "cell_type": "code",
   "execution_count": 17,
   "metadata": {},
   "outputs": [
    {
     "name": "stdout",
     "output_type": "stream",
     "text": [
      "Linear Regression model\n",
      "Gold ETF Price (y) = 1.20 * 3 Days Moving Average (x1) + -0.21 * 9 Days Moving Average (x2) + 0.43 (constant)\n"
     ]
    }
   ],
   "source": [
    "# Create a linear regression model\n",
    "linear = LinearRegression().fit(X_train, y_train)\n",
    "print(\"Linear Regression model\")\n",
    "print(\"Gold ETF Price (y) = %.2f * 3 Days Moving Average (x1) \\\n",
    "+ %.2f * 9 Days Moving Average (x2) \\\n",
    "+ %.2f (constant)\" % (linear.coef_[0], linear.coef_[1], linear.intercept_))"
   ]
  },
  {
   "cell_type": "code",
   "execution_count": 18,
   "metadata": {},
   "outputs": [
    {
     "data": {
      "text/plain": [
       "Text(0, 0.5, 'Gold ETF Price')"
      ]
     },
     "execution_count": 18,
     "metadata": {},
     "output_type": "execute_result"
    },
    {
     "data": {
      "image/png": "[encoded data removed]",
      "text/plain": [
       "<Figure size 720x504 with 1 Axes>"
      ]
     },
     "metadata": {},
     "output_type": "display_data"
    }
   ],
   "source": [
    "# Predicting the Gold ETF prices\n",
    "predicted_price = linear.predict(X_test)\n",
    "predicted_price = pd.DataFrame(\n",
    "    predicted_price, index=y_test.index, columns=['price'])\n",
    "predicted_price.plot(figsize=(10, 7))\n",
    "y_test.plot()\n",
    "plt.legend(['predicted_price', 'actual_price'])\n",
    "plt.ylabel(\"Gold ETF Price\")"
   ]
  },
  {
   "cell_type": "code",
   "execution_count": 19,
   "metadata": {},
   "outputs": [
    {
     "data": {
      "text/plain": [
       "98.85"
      ]
     },
     "execution_count": 19,
     "metadata": {},
     "output_type": "execute_result"
    }
   ],
   "source": [
    "# R square\n",
    "r2_score = linear.score(X[t:], y[t:])*100\n",
    "float(\"{0:.2f}\".format(r2_score))"
   ]
  },
  {
   "cell_type": "code",
   "execution_count": 20,
   "metadata": {},
   "outputs": [
    {
     "data": {
      "image/png": "[encoded data removed]",
      "text/plain": [
       "<Figure size 720x504 with 1 Axes>"
      ]
     },
     "metadata": {},
     "output_type": "display_data"
    }
   ],
   "source": [
    "gold = pd.DataFrame()\n",
    "\n",
    "gold['price'] = Df[t:]['Close']\n",
    "gold['predicted_price_next_day'] = predicted_price\n",
    "gold['actual_price_next_day'] = y_test\n",
    "gold['gold_returns'] = gold['price'].pct_change().shift(-1)\n",
    "\n",
    "gold['signal'] = np.where(gold.predicted_price_next_day.shift(1) < gold.predicted_price_next_day,1,0)\n",
    "\n",
    "gold['strategy_returns'] = gold.signal * gold['gold_returns']\n",
    "((gold['strategy_returns']+1).cumprod()).plot(figsize=(10,7),color='g')\n",
    "plt.ylabel('Cumulative Returns')\n",
    "plt.show()"
   ]
  },
  {
   "cell_type": "code",
   "execution_count": 21,
   "metadata": {},
   "outputs": [
    {
     "data": {
      "text/plain": [
       "'Sharpe Ratio 0.73'"
      ]
     },
     "execution_count": 21,
     "metadata": {},
     "output_type": "execute_result"
    }
   ],
   "source": [
    "# Calculate sharpe ratio\n",
    "sharpe = gold['strategy_returns'].mean()/gold['strategy_returns'].std()*(252**0.5)\n",
    "'Sharpe Ratio %.2f' % (sharpe)"
   ]
  },
  {
   "cell_type": "code",
   "execution_count": 22,
   "metadata": {},
   "outputs": [
    {
     "name": "stdout",
     "output_type": "stream",
     "text": [
      "[*********************100%***********************]  1 of 1 completed\n"
     ]
    },
    {
     "name": "stderr",
     "output_type": "stream",
     "text": [
      "<ipython-input-22-5b97dcdb0a42>:12: SettingWithCopyWarning:\n",
      "\n",
      "\n",
      "A value is trying to be set on a copy of a slice from a DataFrame.\n",
      "Try using .loc[row_indexer,col_indexer] = value instead\n",
      "\n",
      "See the caveats in the documentation: https://pandas.pydata.org/pandas-docs/stable/user_guide/indexing.html#returning-a-view-versus-a-copy\n",
      "\n",
      "<ipython-input-22-5b97dcdb0a42>:13: SettingWithCopyWarning:\n",
      "\n",
      "\n",
      "A value is trying to be set on a copy of a slice from a DataFrame.\n",
      "Try using .loc[row_indexer,col_indexer] = value instead\n",
      "\n",
      "See the caveats in the documentation: https://pandas.pydata.org/pandas-docs/stable/user_guide/indexing.html#returning-a-view-versus-a-copy\n",
      "\n"
     ]
    },
    {
     "data": {
      "text/html": [
       "<div>\n",
       "<style scoped>\n",
       "    .dataframe tbody tr th:only-of-type {\n",
       "        vertical-align: middle;\n",
       "    }\n",
       "\n",
       "    .dataframe tbody tr th {\n",
       "        vertical-align: top;\n",
       "    }\n",
       "\n",
       "    .dataframe thead th {\n",
       "        text-align: right;\n",
       "    }\n",
       "</style>\n",
       "<table border=\"1\" class=\"dataframe\">\n",
       "  <thead>\n",
       "    <tr style=\"text-align: right;\">\n",
       "      <th>Date</th>\n",
       "      <th>2021-09-22</th>\n",
       "    </tr>\n",
       "  </thead>\n",
       "  <tbody>\n",
       "    <tr>\n",
       "      <th>signal</th>\n",
       "      <td>Buy</td>\n",
       "    </tr>\n",
       "    <tr>\n",
       "      <th>predicted_gold_price</th>\n",
       "      <td>165.188</td>\n",
       "    </tr>\n",
       "  </tbody>\n",
       "</table>\n",
       "</div>"
      ],
      "text/plain": [
       "Date                 2021-09-22\n",
       "signal                      Buy\n",
       "predicted_gold_price    165.188"
      ]
     },
     "execution_count": 22,
     "metadata": {},
     "output_type": "execute_result"
    }
   ],
   "source": [
    "# import datetime and get today's date\n",
    "import datetime as dt\n",
    "current_date = dt.datetime.now()\n",
    "\n",
    "# Get the data\n",
    "data = yf.download('GLD', '2008-06-01', current_date, auto_adjust=True)\n",
    "data['S_3'] = data['Close'].rolling(window=3).mean()\n",
    "data['S_9'] = data['Close'].rolling(window=9).mean()\n",
    "data = data.dropna()\n",
    "\n",
    "# Forecast the price\n",
    "data['predicted_gold_price'] = linear.predict(data[['S_3', 'S_9']])\n",
    "data['signal'] = np.where(data.predicted_gold_price.shift(1) < data.predicted_gold_price,\"Buy\",\"No Position\")\n",
    "\n",
    "# Print the forecast\n",
    "data.tail(1)[['signal','predicted_gold_price']].T"
   ]
  },
  {
   "cell_type": "code",
   "execution_count": null,
   "metadata": {},
   "outputs": [],
   "source": []
  }
 ],
 "metadata": {
  "kernelspec": {
   "display_name": "Python 3",
   "language": "python",
   "name": "python3"
  },
  "language_info": {
   "codemirror_mode": {
    "name": "ipython",
    "version": 3
   },
   "file_extension": ".py",
   "mimetype": "text/x-python",
   "name": "python",
   "nbconvert_exporter": "python",
   "pygments_lexer": "ipython3",
   "version": "3.8.5"
  }
 },
 "nbformat": 4,
 "nbformat_minor": 4
}
