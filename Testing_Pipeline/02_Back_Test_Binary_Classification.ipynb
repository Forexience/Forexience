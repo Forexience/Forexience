{
 "cells": [
  {
   "cell_type": "markdown",
   "id": "21718585",
   "metadata": {},
   "source": [
    "## Back Test Results Binary Classification"
   ]
  },
  {
   "cell_type": "code",
   "execution_count": null,
   "id": "5c799242",
   "metadata": {},
   "outputs": [],
   "source": [
    "import pandas as pd\n",
    "from datetime import datetime, timezone\n",
    "from pycaret.datasets import get_data\n",
    "from pycaret.classification import *\n",
    "import yaml\n",
    "import time\n",
    "import warnings\n",
    "warnings.filterwarnings('ignore')"
   ]
  },
  {
   "cell_type": "code",
   "execution_count": null,
   "id": "5cf01435",
   "metadata": {},
   "outputs": [],
   "source": [
    "with open ('back_test_pipeline_settings.yaml') as ymlfile:\n",
    "    cfg = yaml.safe_load(ymlfile)\n",
    "    pair = cfg['currency']['pair_2']\n",
    "    dt = cfg['model']['dt']\n",
    "    et = cfg['model']['et']\n",
    "    knn = cfg['model']['knn'] \n",
    "    rf = cfg['model']['rf']\n",
    "    ada = cfg['model']['ada']\n",
    "    gbc = cfg['model']['gbc']\n",
    "    svm = cfg['model']['svm']\n",
    "    lightgbm = cfg['model']['lightgbm']\n",
    "    lr = cfg['model']['lr']\n",
    "    ridge = cfg['model']['ridge']\n",
    "    lda = cfg['model']['lda']\n",
    "    qda = cfg['model']['qda']\n",
    "    nb = cfg['model']['nb']\n",
    "    frac = cfg['model']['frac']\n",
    "    random_state = cfg['model']['random_state']"
   ]
  },
  {
   "cell_type": "code",
   "execution_count": null,
   "id": "ebe5a5a8",
   "metadata": {},
   "outputs": [],
   "source": [
    "now = datetime.now()\n",
    "today = now.strftime(\"%d-%m-%Y_%I-%M_%p\")"
   ]
  },
  {
   "cell_type": "code",
   "execution_count": null,
   "id": "255553be",
   "metadata": {},
   "outputs": [],
   "source": [
    "dataset = pd.read_csv('Back_Test_Result.csv')\n",
    "dataset.shape"
   ]
  },
  {
   "cell_type": "code",
   "execution_count": null,
   "id": "cfd5b84d",
   "metadata": {},
   "outputs": [],
   "source": [
    "dataset.head()"
   ]
  },
  {
   "cell_type": "markdown",
   "id": "1ddf92df",
   "metadata": {},
   "source": [
    "## Drop Predictions with Less than 20% LR Fit"
   ]
  },
  {
   "cell_type": "code",
   "execution_count": null,
   "id": "fb45e5e2",
   "metadata": {},
   "outputs": [],
   "source": [
    "dataset = dataset[dataset['Current_Market_Fit'] > 20]\n",
    "dataset = dataset.reset_index()\n",
    "del dataset['index']"
   ]
  },
  {
   "cell_type": "code",
   "execution_count": null,
   "id": "901c4850",
   "metadata": {},
   "outputs": [],
   "source": [
    "dataset.shape"
   ]
  },
  {
   "cell_type": "markdown",
   "id": "ae1e4743",
   "metadata": {},
   "source": [
    "## One-Hot Encoding"
   ]
  },
  {
   "cell_type": "code",
   "execution_count": null,
   "id": "197788cf",
   "metadata": {},
   "outputs": [],
   "source": [
    "dataset['Current_Market'] = dataset['Current_Market'].replace(['Bullish','Bearish'],[1,0])\n",
    "dataset['Rec1_Prediction'] = dataset['Rec1_Prediction'].replace(['BUY','SELL'],[1,-1])\n",
    "dataset['Rec2_Prediction'] = dataset['Rec2_Prediction'].replace(['BUY','SELL'],[1,-1])\n",
    "dataset['Rec3_Prediction'] = dataset['Rec3_Prediction'].replace(['BUY','SELL'],[1,-1])\n",
    "dataset['Rec4_Prediction'] = dataset['Rec4_Prediction'].replace(['BUY','SELL'],[1,-1])"
   ]
  },
  {
   "cell_type": "code",
   "execution_count": null,
   "id": "10f2acb3",
   "metadata": {},
   "outputs": [],
   "source": [
    "dataset['Rec1_Score'] = dataset['Rec1_Score'] * dataset['Rec1_Prediction']\n",
    "dataset['Rec2_Score'] = dataset['Rec2_Score'] * dataset['Rec2_Prediction']\n",
    "dataset['Rec3_Score'] = dataset['Rec3_Score'] * dataset['Rec3_Prediction']\n",
    "dataset['Rec4_Score'] = dataset['Rec4_Score'] * dataset['Rec4_Prediction']"
   ]
  },
  {
   "cell_type": "code",
   "execution_count": null,
   "id": "d2ede005",
   "metadata": {},
   "outputs": [],
   "source": [
    "dataset = dataset.drop([\n",
    "    'Candle_No',\n",
    "    'Current_Market_Fit',\n",
    "    'Rec1_Prediction',\n",
    "    'Rec2_Prediction',\n",
    "    'Rec3_Prediction',\n",
    "    'Rec4_Prediction',\n",
    "], axis=1)"
   ]
  },
  {
   "cell_type": "code",
   "execution_count": null,
   "id": "f04d710f",
   "metadata": {},
   "outputs": [],
   "source": [
    "dataset.head()"
   ]
  },
  {
   "cell_type": "code",
   "execution_count": null,
   "id": "fea176e5",
   "metadata": {},
   "outputs": [],
   "source": [
    "data = dataset.sample(frac=frac, random_state=random_state).reset_index(drop=True)\n",
    "data_unseen = dataset.drop(data.index).reset_index(drop=True)\n",
    "\n",
    "print('Data for Modeling: ' + str(data.shape))\n",
    "print('Unseen Data For Predictions: ' + str(data_unseen.shape))\n",
    "print('Fraction: ' + str(frac))\n",
    "print('Random State: ', str(random_state))"
   ]
  },
  {
   "cell_type": "markdown",
   "id": "e52d7302",
   "metadata": {},
   "source": [
    "# Create Unseen DataFrame"
   ]
  },
  {
   "cell_type": "code",
   "execution_count": null,
   "id": "c359fa55",
   "metadata": {},
   "outputs": [],
   "source": [
    "data_unseen.head()"
   ]
  },
  {
   "cell_type": "code",
   "execution_count": null,
   "id": "18415ef6",
   "metadata": {},
   "outputs": [],
   "source": [
    "exp_clf101 = setup(data = data, target = 'Current_Market', session_id=123, silent=True) "
   ]
  },
  {
   "cell_type": "code",
   "execution_count": null,
   "id": "ddcde149",
   "metadata": {
    "scrolled": false
   },
   "outputs": [],
   "source": [
    "compare_models()"
   ]
  },
  {
   "cell_type": "code",
   "execution_count": null,
   "id": "a6954ddc",
   "metadata": {},
   "outputs": [],
   "source": [
    "best_model = gbc"
   ]
  },
  {
   "cell_type": "code",
   "execution_count": null,
   "id": "5abe4938",
   "metadata": {},
   "outputs": [],
   "source": [
    "MODEL = create_model(best_model)"
   ]
  },
  {
   "cell_type": "code",
   "execution_count": null,
   "id": "d582a4a6",
   "metadata": {},
   "outputs": [],
   "source": [
    "TUNED_MODEL = tune_model(MODEL)"
   ]
  },
  {
   "cell_type": "code",
   "execution_count": null,
   "id": "9bf3836d",
   "metadata": {},
   "outputs": [],
   "source": [
    "plot_model(TUNED_MODEL, plot = 'auc')"
   ]
  },
  {
   "cell_type": "code",
   "execution_count": null,
   "id": "315d0763",
   "metadata": {},
   "outputs": [],
   "source": [
    "plot_model(TUNED_MODEL, plot = 'pr')"
   ]
  },
  {
   "cell_type": "code",
   "execution_count": null,
   "id": "2361d808",
   "metadata": {},
   "outputs": [],
   "source": [
    "plot_model(TUNED_MODEL, plot='feature')"
   ]
  },
  {
   "cell_type": "code",
   "execution_count": null,
   "id": "eb8e2b11",
   "metadata": {},
   "outputs": [],
   "source": [
    "plot_model(TUNED_MODEL, plot = 'confusion_matrix')"
   ]
  },
  {
   "cell_type": "code",
   "execution_count": null,
   "id": "bb4aef5f",
   "metadata": {},
   "outputs": [],
   "source": [
    "predict_model(TUNED_MODEL);"
   ]
  },
  {
   "cell_type": "code",
   "execution_count": null,
   "id": "f2f62ddc",
   "metadata": {},
   "outputs": [],
   "source": [
    "FINAL_MODEL = finalize_model(TUNED_MODEL)"
   ]
  },
  {
   "cell_type": "code",
   "execution_count": null,
   "id": "951b021a",
   "metadata": {},
   "outputs": [],
   "source": [
    "print(FINAL_MODEL)"
   ]
  },
  {
   "cell_type": "code",
   "execution_count": null,
   "id": "4eaf9115",
   "metadata": {},
   "outputs": [],
   "source": [
    "predict_model(FINAL_MODEL);"
   ]
  },
  {
   "cell_type": "code",
   "execution_count": null,
   "id": "c565409a",
   "metadata": {},
   "outputs": [],
   "source": [
    "unseen_predictions = predict_model(FINAL_MODEL, data=data_unseen)\n",
    "unseen_predictions.head()"
   ]
  },
  {
   "cell_type": "code",
   "execution_count": null,
   "id": "8da349a7",
   "metadata": {},
   "outputs": [],
   "source": [
    "plot_model(FINAL_MODEL, plot = 'auc')"
   ]
  },
  {
   "cell_type": "code",
   "execution_count": null,
   "id": "56a90418",
   "metadata": {},
   "outputs": [],
   "source": [
    "pkl_name = (today + \"_\" + best_model + \"_\" + pair)"
   ]
  },
  {
   "cell_type": "code",
   "execution_count": null,
   "id": "274d0352",
   "metadata": {},
   "outputs": [],
   "source": [
    "save_model(FINAL_MODEL, pkl_name)"
   ]
  },
  {
   "cell_type": "code",
   "execution_count": null,
   "id": "8534240f",
   "metadata": {},
   "outputs": [],
   "source": [
    "SAVED_FINAL_MODEL = load_model(pkl_name)"
   ]
  },
  {
   "cell_type": "code",
   "execution_count": null,
   "id": "946466bb",
   "metadata": {},
   "outputs": [],
   "source": [
    "new_prediction = predict_model(SAVED_FINAL_MODEL, data=data_unseen)"
   ]
  },
  {
   "cell_type": "code",
   "execution_count": null,
   "id": "afb4fabc",
   "metadata": {
    "scrolled": false
   },
   "outputs": [],
   "source": [
    "new_prediction.head(20)"
   ]
  },
  {
   "cell_type": "code",
   "execution_count": null,
   "id": "7341c0f6",
   "metadata": {},
   "outputs": [],
   "source": [
    "file = open(today + \"_\" + \"binary_classification_log.txt\", \"w\")\n",
    "file.write (\"Date: \" + today + \"\\n\" + \\\n",
    "            \"Currency Pair: \" + pair + \"\\n\" + \\\n",
    "            \"Model: \" + best_model + \"\\n\" + \\\n",
    "            \"Frac: \" + str(frac) + \"\\n\" + \\\n",
    "            \"Random State: \" + str(random_state) + \"\\n\" )\n",
    "file.close()"
   ]
  },
  {
   "cell_type": "code",
   "execution_count": null,
   "id": "80df11bd",
   "metadata": {},
   "outputs": [],
   "source": []
  }
 ],
 "metadata": {
  "kernelspec": {
   "display_name": "Python 3 (ipykernel)",
   "language": "python",
   "name": "python3"
  },
  "language_info": {
   "codemirror_mode": {
    "name": "ipython",
    "version": 3
   },
   "file_extension": ".py",
   "mimetype": "text/x-python",
   "name": "python",
   "nbconvert_exporter": "python",
   "pygments_lexer": "ipython3",
   "version": "3.8.10"
  }
 },
 "nbformat": 4,
 "nbformat_minor": 5
}
