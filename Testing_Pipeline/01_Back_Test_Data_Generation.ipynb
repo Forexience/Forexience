{
 "cells": [
  {
   "cell_type": "markdown",
   "metadata": {},
   "source": [
    "## Back Test Data Generation"
   ]
  },
  {
   "cell_type": "code",
   "execution_count": 1,
   "metadata": {},
   "outputs": [],
   "source": [
    "import requests\n",
    "import time\n",
    "import calendar\n",
    "import dateutil.parser as parser\n",
    "from dateutil.relativedelta import relativedelta\n",
    "from datetime import datetime, timezone\n",
    "import pandas as pd\n",
    "import numpy as np\n",
    "import warnings\n",
    "import yaml\n",
    "from sklearn.neighbors import NearestNeighbors\n",
    "from sklearn.linear_model import LinearRegression\n",
    "from sklearn import linear_model\n",
    "from sklearn.metrics import r2_score\n",
    "from sklearn.metrics import mean_squared_error\n",
    "warnings.filterwarnings('ignore')"
   ]
  },
  {
   "cell_type": "markdown",
   "metadata": {},
   "source": [
    "### Settings"
   ]
  },
  {
   "cell_type": "code",
   "execution_count": 2,
   "metadata": {},
   "outputs": [],
   "source": [
    "with open ('back_test_pipeline_settings.yaml') as ymlfile:\n",
    "    cfg = yaml.safe_load(ymlfile)\n",
    "    k_number = cfg['knn']['k_number']\n",
    "    metric = cfg['knn']['metric']\n",
    "    algorithm = cfg['knn']['algorithm']\n",
    "    feature_1 = cfg['knn']['feature_1']\n",
    "    feature_2 = cfg['knn']['feature_2']\n",
    "    feature_3 = cfg['knn']['feature_3']\n",
    "    feature_7 = cfg['knn']['feature_7']\n",
    "    feature_8 = cfg['knn']['feature_8']   \n",
    "    volume = cfg['feature']['volume']\n",
    "    volume_size = cfg['sample']['volume_size']\n",
    "    sample_count = cfg['sample']['count']\n",
    "    candles = cfg['recommendation']['candle_count']\n",
    "    pair = cfg['currency']['pair']\n",
    "    instrument = cfg['currency']['instrument']"
   ]
  },
  {
   "cell_type": "code",
   "execution_count": 3,
   "metadata": {},
   "outputs": [
    {
     "name": "stdout",
     "output_type": "stream",
     "text": [
      "K Number: 5\n",
      "Metric: euclidean\n",
      "Algorithm: brute\n",
      "Candle Volume Size: 5000\n",
      "Random Sample Count: 8000\n",
      "Future Candle Count: 7\n",
      "Pair: USDCAD\n",
      "Instrument: USD_CAD\n"
     ]
    }
   ],
   "source": [
    "print('K Number:',k_number)\n",
    "print('Metric:', metric)\n",
    "print('Algorithm:', algorithm)\n",
    "print('Candle Volume Size:', volume_size)\n",
    "print('Random Sample Count:', sample_count)\n",
    "print('Future Candle Count:', candles)\n",
    "print('Pair:', pair)\n",
    "print('Instrument:', instrument)"
   ]
  },
  {
   "cell_type": "code",
   "execution_count": 4,
   "metadata": {},
   "outputs": [],
   "source": [
    "def convert_date(utc_time): \n",
    "    parsed_date = parser.parse(utc_time)\n",
    "    var_date=parsed_date.date()\n",
    "    var_time=parsed_date.time()\n",
    "    var_f_time=var_time.hour\n",
    "    var_julian_date=parsed_date.timetuple().tm_yday\n",
    "    var_weekday=parsed_date.weekday()\n",
    "    var_weekday_name=calendar.day_name[parsed_date.weekday()]\n",
    "    return var_date, var_time, var_f_time, var_julian_date, var_weekday, var_weekday_name"
   ]
  },
  {
   "cell_type": "code",
   "execution_count": 5,
   "metadata": {},
   "outputs": [],
   "source": [
    "def find_k_similar_candles(candle_id, dataset, k = k_number):\n",
    "    indices=[]\n",
    "    distances = []\n",
    "    output = []\n",
    "    model_knn = NearestNeighbors(metric = metric, algorithm = algorithm) \n",
    "    model_knn.fit(dataset)\n",
    "    \n",
    "    #metric = 'euclidean' or 'cosine' or 'manhattan' or 'mahalanobis'\n",
    "    \n",
    "    distances, indices = model_knn.kneighbors(dataset.iloc[candle_id,:].values.reshape(1,-1),\n",
    "                                              n_neighbors = k)\n",
    "\n",
    "    for i in range(0,len(distances.flatten())):\n",
    "        if i!=0:\n",
    "            \n",
    "            output.append ([dataset.index[indices.flatten()[i]],\n",
    "                            distances.flatten()[i],\n",
    "                            dataset.iloc[indices.flatten()[i]][feature_1],\n",
    "                            dataset.iloc[indices.flatten()[i]][feature_2],\n",
    "                            dataset.iloc[indices.flatten()[i]][feature_3],\n",
    "                            dataset.iloc[indices.flatten()[i]][feature_7],\n",
    "                            dataset.iloc[indices.flatten()[i]][feature_8],                            \n",
    "                           ])\n",
    "    \n",
    "    output = pd.DataFrame(output)\n",
    "    output.columns = ['Indice','Distance',\n",
    "                      feature_1,\n",
    "                      feature_2,\n",
    "                      feature_3,\n",
    "                      feature_7,\n",
    "                      feature_8,\n",
    "                     ]\n",
    "   # display (output)\n",
    "    \n",
    "    return indices, distances"
   ]
  },
  {
   "cell_type": "markdown",
   "metadata": {},
   "source": [
    "# <font color='red'>Test Configs</font>"
   ]
  },
  {
   "cell_type": "code",
   "execution_count": 6,
   "metadata": {},
   "outputs": [],
   "source": [
    "filename = 'USD_CAD_H4.csv'\n",
    "data = pd.read_csv(filename)"
   ]
  },
  {
   "cell_type": "code",
   "execution_count": 7,
   "metadata": {},
   "outputs": [
    {
     "data": {
      "text/plain": [
       "Index(['Date', 'Time', 'f_time', 'julian_date', 'Weekday', 'Weekday_Name',\n",
       "       'UTC_Time', 'Volume', 'Open', 'High', 'Low', 'Close', 'SMA_5', 'SMA_10',\n",
       "       'SMA_20', 'F_SMA_5', 'F_SMA_10', 'F_SMA_20', 'O-H', 'O-L', 'O-C', 'H-L',\n",
       "       'H-C', 'L-C', 'Direction', 'col_1', 'col_2', 'col_3', 'col_4', 'col_5'],\n",
       "      dtype='object')"
      ]
     },
     "execution_count": 7,
     "metadata": {},
     "output_type": "execute_result"
    }
   ],
   "source": [
    "data.columns"
   ]
  },
  {
   "cell_type": "code",
   "execution_count": 8,
   "metadata": {},
   "outputs": [
    {
     "data": {
      "text/plain": [
       "(19323, 30)"
      ]
     },
     "execution_count": 8,
     "metadata": {},
     "output_type": "execute_result"
    }
   ],
   "source": [
    "data.shape"
   ]
  },
  {
   "cell_type": "code",
   "execution_count": 9,
   "metadata": {},
   "outputs": [
    {
     "data": {
      "text/html": [
       "<div>\n",
       "<style scoped>\n",
       "    .dataframe tbody tr th:only-of-type {\n",
       "        vertical-align: middle;\n",
       "    }\n",
       "\n",
       "    .dataframe tbody tr th {\n",
       "        vertical-align: top;\n",
       "    }\n",
       "\n",
       "    .dataframe thead th {\n",
       "        text-align: right;\n",
       "    }\n",
       "</style>\n",
       "<table border=\"1\" class=\"dataframe\">\n",
       "  <thead>\n",
       "    <tr style=\"text-align: right;\">\n",
       "      <th></th>\n",
       "      <th>Date</th>\n",
       "      <th>Time</th>\n",
       "      <th>f_time</th>\n",
       "      <th>julian_date</th>\n",
       "      <th>Weekday</th>\n",
       "      <th>Weekday_Name</th>\n",
       "      <th>UTC_Time</th>\n",
       "      <th>Volume</th>\n",
       "      <th>Open</th>\n",
       "      <th>High</th>\n",
       "      <th>...</th>\n",
       "      <th>O-C</th>\n",
       "      <th>H-L</th>\n",
       "      <th>H-C</th>\n",
       "      <th>L-C</th>\n",
       "      <th>Direction</th>\n",
       "      <th>col_1</th>\n",
       "      <th>col_2</th>\n",
       "      <th>col_3</th>\n",
       "      <th>col_4</th>\n",
       "      <th>col_5</th>\n",
       "    </tr>\n",
       "  </thead>\n",
       "  <tbody>\n",
       "    <tr>\n",
       "      <th>0</th>\n",
       "      <td>2009-11-16</td>\n",
       "      <td>14:00:00</td>\n",
       "      <td>14</td>\n",
       "      <td>320</td>\n",
       "      <td>0</td>\n",
       "      <td>Monday</td>\n",
       "      <td>2009-11-16T14:00:00.000000000Z</td>\n",
       "      <td>8441</td>\n",
       "      <td>1.04497</td>\n",
       "      <td>1.05234</td>\n",
       "      <td>...</td>\n",
       "      <td>-0.00261</td>\n",
       "      <td>0.00962</td>\n",
       "      <td>0.00476</td>\n",
       "      <td>-0.00486</td>\n",
       "      <td>1</td>\n",
       "      <td>-0.00261</td>\n",
       "      <td>0.00476</td>\n",
       "      <td>0.00225</td>\n",
       "      <td>0.00214</td>\n",
       "      <td>0.00076</td>\n",
       "    </tr>\n",
       "    <tr>\n",
       "      <th>1</th>\n",
       "      <td>2009-11-16</td>\n",
       "      <td>18:00:00</td>\n",
       "      <td>18</td>\n",
       "      <td>320</td>\n",
       "      <td>0</td>\n",
       "      <td>Monday</td>\n",
       "      <td>2009-11-16T18:00:00.000000000Z</td>\n",
       "      <td>4828</td>\n",
       "      <td>1.04760</td>\n",
       "      <td>1.04970</td>\n",
       "      <td>...</td>\n",
       "      <td>0.00008</td>\n",
       "      <td>0.00579</td>\n",
       "      <td>0.00218</td>\n",
       "      <td>-0.00361</td>\n",
       "      <td>0</td>\n",
       "      <td>0.00008</td>\n",
       "      <td>0.00218</td>\n",
       "      <td>0.00369</td>\n",
       "      <td>-0.00261</td>\n",
       "      <td>0.00214</td>\n",
       "    </tr>\n",
       "    <tr>\n",
       "      <th>2</th>\n",
       "      <td>2009-11-16</td>\n",
       "      <td>22:00:00</td>\n",
       "      <td>22</td>\n",
       "      <td>320</td>\n",
       "      <td>0</td>\n",
       "      <td>Monday</td>\n",
       "      <td>2009-11-16T22:00:00.000000000Z</td>\n",
       "      <td>1616</td>\n",
       "      <td>1.04841</td>\n",
       "      <td>1.04841</td>\n",
       "      <td>...</td>\n",
       "      <td>0.00082</td>\n",
       "      <td>0.00182</td>\n",
       "      <td>0.00082</td>\n",
       "      <td>-0.00100</td>\n",
       "      <td>0</td>\n",
       "      <td>0.00082</td>\n",
       "      <td>0.00082</td>\n",
       "      <td>0.00182</td>\n",
       "      <td>0.00008</td>\n",
       "      <td>-0.00261</td>\n",
       "    </tr>\n",
       "    <tr>\n",
       "      <th>3</th>\n",
       "      <td>2009-11-17</td>\n",
       "      <td>02:00:00</td>\n",
       "      <td>2</td>\n",
       "      <td>321</td>\n",
       "      <td>1</td>\n",
       "      <td>Tuesday</td>\n",
       "      <td>2009-11-17T02:00:00.000000000Z</td>\n",
       "      <td>1222</td>\n",
       "      <td>1.04757</td>\n",
       "      <td>1.04906</td>\n",
       "      <td>...</td>\n",
       "      <td>-0.00066</td>\n",
       "      <td>0.00176</td>\n",
       "      <td>0.00083</td>\n",
       "      <td>-0.00093</td>\n",
       "      <td>1</td>\n",
       "      <td>-0.00066</td>\n",
       "      <td>0.00083</td>\n",
       "      <td>0.00027</td>\n",
       "      <td>0.00082</td>\n",
       "      <td>0.00008</td>\n",
       "    </tr>\n",
       "    <tr>\n",
       "      <th>4</th>\n",
       "      <td>2009-11-17</td>\n",
       "      <td>06:00:00</td>\n",
       "      <td>6</td>\n",
       "      <td>321</td>\n",
       "      <td>1</td>\n",
       "      <td>Tuesday</td>\n",
       "      <td>2009-11-17T06:00:00.000000000Z</td>\n",
       "      <td>4928</td>\n",
       "      <td>1.04821</td>\n",
       "      <td>1.05526</td>\n",
       "      <td>...</td>\n",
       "      <td>-0.00641</td>\n",
       "      <td>0.00866</td>\n",
       "      <td>0.00064</td>\n",
       "      <td>-0.00802</td>\n",
       "      <td>1</td>\n",
       "      <td>-0.00641</td>\n",
       "      <td>0.00064</td>\n",
       "      <td>0.00161</td>\n",
       "      <td>-0.00066</td>\n",
       "      <td>0.00082</td>\n",
       "    </tr>\n",
       "  </tbody>\n",
       "</table>\n",
       "<p>5 rows × 30 columns</p>\n",
       "</div>"
      ],
      "text/plain": [
       "         Date      Time  f_time  julian_date  Weekday Weekday_Name  \\\n",
       "0  2009-11-16  14:00:00      14          320        0       Monday   \n",
       "1  2009-11-16  18:00:00      18          320        0       Monday   \n",
       "2  2009-11-16  22:00:00      22          320        0       Monday   \n",
       "3  2009-11-17  02:00:00       2          321        1      Tuesday   \n",
       "4  2009-11-17  06:00:00       6          321        1      Tuesday   \n",
       "\n",
       "                         UTC_Time  Volume     Open     High  ...      O-C  \\\n",
       "0  2009-11-16T14:00:00.000000000Z    8441  1.04497  1.05234  ... -0.00261   \n",
       "1  2009-11-16T18:00:00.000000000Z    4828  1.04760  1.04970  ...  0.00008   \n",
       "2  2009-11-16T22:00:00.000000000Z    1616  1.04841  1.04841  ...  0.00082   \n",
       "3  2009-11-17T02:00:00.000000000Z    1222  1.04757  1.04906  ... -0.00066   \n",
       "4  2009-11-17T06:00:00.000000000Z    4928  1.04821  1.05526  ... -0.00641   \n",
       "\n",
       "       H-L      H-C      L-C  Direction    col_1    col_2    col_3    col_4  \\\n",
       "0  0.00962  0.00476 -0.00486          1 -0.00261  0.00476  0.00225  0.00214   \n",
       "1  0.00579  0.00218 -0.00361          0  0.00008  0.00218  0.00369 -0.00261   \n",
       "2  0.00182  0.00082 -0.00100          0  0.00082  0.00082  0.00182  0.00008   \n",
       "3  0.00176  0.00083 -0.00093          1 -0.00066  0.00083  0.00027  0.00082   \n",
       "4  0.00866  0.00064 -0.00802          1 -0.00641  0.00064  0.00161 -0.00066   \n",
       "\n",
       "     col_5  \n",
       "0  0.00076  \n",
       "1  0.00214  \n",
       "2 -0.00261  \n",
       "3  0.00008  \n",
       "4  0.00082  \n",
       "\n",
       "[5 rows x 30 columns]"
      ]
     },
     "execution_count": 9,
     "metadata": {},
     "output_type": "execute_result"
    }
   ],
   "source": [
    "data.head()"
   ]
  },
  {
   "cell_type": "markdown",
   "metadata": {},
   "source": [
    "## Selecting n random candles where their volume is more than 5000"
   ]
  },
  {
   "cell_type": "code",
   "execution_count": 10,
   "metadata": {},
   "outputs": [],
   "source": [
    "random_samples = data[data[volume] > volume_size].sample(n = sample_count)"
   ]
  },
  {
   "cell_type": "code",
   "execution_count": 11,
   "metadata": {},
   "outputs": [],
   "source": [
    "#Random_Candles = np.random.randint(low=1, high=len(data)-40, size=1000)\n",
    "Random_Candles = list(random_samples.index.values)"
   ]
  },
  {
   "cell_type": "code",
   "execution_count": 12,
   "metadata": {},
   "outputs": [
    {
     "data": {
      "text/plain": [
       "[9194, 5507, 2777, 10079, 3476, 1662, 3478, 7460, 17064, 18731]"
      ]
     },
     "execution_count": 12,
     "metadata": {},
     "output_type": "execute_result"
    }
   ],
   "source": [
    "#show the fisrt 10 random generated candle numbers\n",
    "Random_Candles[0:10]"
   ]
  },
  {
   "cell_type": "markdown",
   "metadata": {},
   "source": [
    "# <font color='red'>CANDLE LOOP</font>"
   ]
  },
  {
   "cell_type": "code",
   "execution_count": 13,
   "metadata": {},
   "outputs": [],
   "source": [
    "now = datetime.now()\n",
    "today = now.strftime(\"%d-%m-%Y_%I-%M_%p\")"
   ]
  },
  {
   "cell_type": "code",
   "execution_count": null,
   "metadata": {},
   "outputs": [
    {
     "name": "stdout",
     "output_type": "stream",
     "text": [
      "Today: 22-01-2022_09-43_PM\n"
     ]
    }
   ],
   "source": [
    "%%time\n",
    "print ('Today: ' + today)\n",
    "\n",
    "result_output = pd.DataFrame({'Candle_No':[],\n",
    "                              'Current_Market_Fit':[],\n",
    "                              'Current_Market':[],\n",
    "                              'Rec1_Score':[],\n",
    "                              'Rec1_Prediction':[],\n",
    "                              'Rec2_Score':[],\n",
    "                              'Rec2_Prediction':[],\n",
    "                              'Rec3_Score':[],\n",
    "                              'Rec3_Prediction':[],\n",
    "                              'Rec4_Score':[],\n",
    "                              'Rec4_Prediction':[]\n",
    "                             })\n",
    "\n",
    "for candle_no in Random_Candles:\n",
    "    data = pd.read_csv(filename)\n",
    "    data = data.iloc[candle_no:candle_no+candles]\n",
    "    data['candleno'] = range (1, len(data) + 1)\n",
    "    X = data['candleno'].values.reshape(-1, 1)\n",
    "    Y = data['Close'].values.reshape(-1, 1)\n",
    "    linear_regressor = LinearRegression()\n",
    "    linear_regressor.fit(X, Y)\n",
    "    y_pred = linear_regressor.predict(X) \n",
    "    \n",
    "    Current_Market_Fit = r2_score(Y, y_pred).round(2)*100\n",
    "    #print(Current_Market_Fit)\n",
    "    coeficient = (linear_regressor.coef_)\n",
    "\n",
    "    if coeficient > 0:\n",
    "        Current_Market='Bullish'\n",
    "    else:\n",
    "        Current_Market = 'Bearish'\n",
    "    \n",
    "    data = pd.read_csv(filename)\n",
    "    data = data[[feature_1,\n",
    "                 feature_2,\n",
    "                 feature_3,\n",
    "                 feature_7,\n",
    "                 feature_8,\n",
    "                ]]\n",
    "\n",
    "    indices, distances = find_k_similar_candles (candle_no,data)\n",
    "    indices = indices[0:1][0]\n",
    "    \n",
    "    predicted_output = []\n",
    "    recs = []\n",
    "    for indice in indices[1:5]:\n",
    "             \n",
    "        Predicted_Market_Fit =0\n",
    "        Predicted_Trade=''\n",
    "    \n",
    "        data = pd.read_csv(filename) \n",
    "        data = data.iloc[indice:indice+candles]\n",
    "\n",
    "        data['candleno'] = range (1, len(data) + 1)\n",
    "        X = data['candleno'].values.reshape(-1, 1)\n",
    "        Y = data['Close'].values.reshape(-1, 1)\n",
    "        linear_regressor = LinearRegression()\n",
    "        linear_regressor.fit(X, Y)\n",
    "        y_pred = linear_regressor.predict(X)\n",
    "\n",
    "        Predicted_Market_Fit= r2_score(Y, y_pred)*100\n",
    "        coeficient = (linear_regressor.coef_)\n",
    "\n",
    "        if coeficient > 0:\n",
    "            Predicted_Trade= 'BUY'\n",
    "        else:\n",
    "            Predicted_Trade = 'SELL'\n",
    "        \n",
    "        predicted_output.append([Predicted_Market_Fit,Predicted_Trade])\n",
    "        \n",
    "    result = {'Candle_No': candle_no,\n",
    "              'Current_Market_Fit': Current_Market_Fit,\n",
    "              'Current_Market': Current_Market,\n",
    "              'Rec1_Score': predicted_output[0][0],\n",
    "              'Rec1_Prediction': predicted_output[0][1],\n",
    "              'Rec2_Score': predicted_output[1][0],\n",
    "              'Rec2_Prediction': predicted_output[1][1],\n",
    "              'Rec3_Score': predicted_output[2][0],\n",
    "              'Rec3_Prediction': predicted_output[2][1],\n",
    "              'Rec4_Score': predicted_output[3][0],\n",
    "              'Rec4_Prediction': predicted_output[3][1],\n",
    "             }\n",
    "    \n",
    "    result_output = result_output.append(result, ignore_index = True)"
   ]
  },
  {
   "cell_type": "code",
   "execution_count": null,
   "metadata": {},
   "outputs": [],
   "source": [
    "result_output.to_csv('01_Back_Test_Data.csv', header = True, index = False)\n",
    "result_output.to_csv(today + \"_\" + \"Back_Test_Data_\" + pair + '.csv', header = True, index = False)\n",
    "result_output = pd.read_csv(today + \"_\" + \"Back_Test_Data_\" + pair + '.csv')\n",
    "result_output.head()"
   ]
  },
  {
   "cell_type": "markdown",
   "metadata": {},
   "source": [
    "#### Generating Log File"
   ]
  },
  {
   "cell_type": "code",
   "execution_count": null,
   "metadata": {},
   "outputs": [],
   "source": [
    "file = open(today + \"_\" + \"data_generation_log_\" + pair + '.txt', \"w\")\n",
    "file.write (\"Date: \" + today + \"\\n\" + \\\n",
    "            \"Currency Pair: \" + pair + \"\\n\" + \\\n",
    "            \"K_Number: \" + str(k_number) + \"\\n\" + \\\n",
    "            \"KNN_Metric: \" + metric + \"\\n\" + \\\n",
    "            \"KNN_Algorithm: \" + algorithm + \"\\n\" + \\\n",
    "            \"Feature: \" + feature_1 + \"\\n\" + \\\n",
    "            \"Feature: \" + feature_2 + \"\\n\" + \\\n",
    "            \"Feature: \" + feature_3 + \"\\n\" + \\\n",
    "            \"Feature: \" + feature_7 + \"\\n\" + \\\n",
    "            \"Feature: \" + feature_8 + \"\\n\" + \\\n",
    "            \"Volume Size: \" + str(volume_size) + \"\\n\" + \\\n",
    "            \"Sample Count: \" + str(sample_count) + \"\\n\" + \\\n",
    "            \"Candle Counts: \" + str(candles) + \"\\n\"\n",
    "           )\n",
    "file.close()"
   ]
  },
  {
   "cell_type": "code",
   "execution_count": null,
   "metadata": {},
   "outputs": [],
   "source": []
  }
 ],
 "metadata": {
  "kernelspec": {
   "display_name": "Python 3 (ipykernel)",
   "language": "python",
   "name": "python3"
  },
  "language_info": {
   "codemirror_mode": {
    "name": "ipython",
    "version": 3
   },
   "file_extension": ".py",
   "mimetype": "text/x-python",
   "name": "python",
   "nbconvert_exporter": "python",
   "pygments_lexer": "ipython3",
   "version": "3.8.10"
  }
 },
 "nbformat": 4,
 "nbformat_minor": 2
}
