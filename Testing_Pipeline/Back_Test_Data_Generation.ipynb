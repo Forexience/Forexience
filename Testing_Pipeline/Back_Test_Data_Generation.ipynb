{
 "cells": [
  {
   "cell_type": "markdown",
   "metadata": {},
   "source": [
    "## Back Test Data Generation"
   ]
  },
  {
   "cell_type": "code",
   "execution_count": 1,
   "metadata": {},
   "outputs": [],
   "source": [
    "import requests\n",
    "import time\n",
    "import calendar\n",
    "import dateutil.parser as parser\n",
    "from dateutil.relativedelta import relativedelta\n",
    "from datetime import datetime, timezone\n",
    "import pandas as pd\n",
    "import numpy as np\n",
    "import warnings\n",
    "warnings.filterwarnings('ignore')\n",
    "from sklearn.neighbors import NearestNeighbors\n",
    "from sklearn.linear_model import LinearRegression\n",
    "from sklearn import linear_model\n",
    "from sklearn.metrics import r2_score\n",
    "from sklearn.metrics import mean_squared_error"
   ]
  },
  {
   "cell_type": "code",
   "execution_count": 2,
   "metadata": {},
   "outputs": [
    {
     "data": {
      "text/plain": [
       "20"
      ]
     },
     "execution_count": 2,
     "metadata": {},
     "output_type": "execute_result"
    }
   ],
   "source": [
    "pd.get_option(\"display.max_columns\", None)"
   ]
  },
  {
   "cell_type": "code",
   "execution_count": 3,
   "metadata": {},
   "outputs": [],
   "source": [
    "def convert_date(utc_time): \n",
    "    parsed_date = parser.parse(utc_time)\n",
    "    var_date=parsed_date.date()\n",
    "    var_time=parsed_date.time()\n",
    "    var_f_time=var_time.hour\n",
    "    var_julian_date=parsed_date.timetuple().tm_yday\n",
    "    var_weekday=parsed_date.weekday()\n",
    "    var_weekday_name=calendar.day_name[parsed_date.weekday()]\n",
    "    return var_date, var_time, var_f_time, var_julian_date, var_weekday, var_weekday_name"
   ]
  },
  {
   "cell_type": "code",
   "execution_count": 4,
   "metadata": {},
   "outputs": [],
   "source": [
    "def find_k_similar_candles(candle_id, dataset, k=5):\n",
    "    indices=[]\n",
    "    distances = []\n",
    "    output = []\n",
    "    model_knn = NearestNeighbors(metric = 'euclidean', algorithm = 'brute') \n",
    "    model_knn.fit(dataset)\n",
    "    \n",
    "    #metric = 'euclidean' or 'cosine' or 'manhattan' or 'mahalanobis'\n",
    "    \n",
    "    distances, indices = model_knn.kneighbors(dataset.iloc[candle_id,:].values.reshape(1,-1),\n",
    "                                              n_neighbors = k)\n",
    "\n",
    "    for i in range(0,len(distances.flatten())):\n",
    "        if i!=0:\n",
    "            \n",
    "            output.append ([dataset.index[indices.flatten()[i]],\n",
    "                            distances.flatten()[i],\n",
    "                            dataset.iloc[indices.flatten()[i]]['col_1'],\n",
    "                            dataset.iloc[indices.flatten()[i]]['col_2'],\n",
    "                            dataset.iloc[indices.flatten()[i]]['col_3'],\n",
    "                            dataset.iloc[indices.flatten()[i]]['F_SMA_10'],\n",
    "                            dataset.iloc[indices.flatten()[i]]['F_SMA_20'],\n",
    "                           ])\n",
    "    \n",
    "    output = pd.DataFrame(output)\n",
    "    output.columns = ['Indice','Distance',\n",
    "                      'col_1',\n",
    "                      'col_2',\n",
    "                      'col_3',\n",
    "                      'F_SMA_10',\n",
    "                      'F_SMA_20',\n",
    "                     ]\n",
    "   # display (output)\n",
    "    \n",
    "    return indices, distances"
   ]
  },
  {
   "cell_type": "markdown",
   "metadata": {},
   "source": [
    "# <font color='red'>Test Configs</font>"
   ]
  },
  {
   "cell_type": "code",
   "execution_count": 5,
   "metadata": {},
   "outputs": [],
   "source": [
    "filename = 'EUR_USD_H4.csv'\n",
    "data = pd.read_csv(filename)"
   ]
  },
  {
   "cell_type": "code",
   "execution_count": 6,
   "metadata": {},
   "outputs": [
    {
     "data": {
      "text/plain": [
       "(9651, 30)"
      ]
     },
     "execution_count": 6,
     "metadata": {},
     "output_type": "execute_result"
    }
   ],
   "source": [
    "data.shape"
   ]
  },
  {
   "cell_type": "code",
   "execution_count": 7,
   "metadata": {},
   "outputs": [
    {
     "data": {
      "text/plain": [
       "Index(['Date', 'Time', 'f_time', 'julian_date', 'Weekday', 'Weekday_Name',\n",
       "       'UTC_Time', 'Volume', 'Open', 'High', 'Low', 'Close', 'SMA_5', 'SMA_10',\n",
       "       'SMA_20', 'F_SMA_5', 'F_SMA_10', 'F_SMA_20', 'O-H', 'O-L', 'O-C', 'H-L',\n",
       "       'H-C', 'L-C', 'Direction', 'col_1', 'col_2', 'col_3', 'col_4', 'col_5'],\n",
       "      dtype='object')"
      ]
     },
     "execution_count": 7,
     "metadata": {},
     "output_type": "execute_result"
    }
   ],
   "source": [
    "data.columns"
   ]
  },
  {
   "cell_type": "code",
   "execution_count": 8,
   "metadata": {},
   "outputs": [
    {
     "data": {
      "text/html": [
       "<div>\n",
       "<style scoped>\n",
       "    .dataframe tbody tr th:only-of-type {\n",
       "        vertical-align: middle;\n",
       "    }\n",
       "\n",
       "    .dataframe tbody tr th {\n",
       "        vertical-align: top;\n",
       "    }\n",
       "\n",
       "    .dataframe thead th {\n",
       "        text-align: right;\n",
       "    }\n",
       "</style>\n",
       "<table border=\"1\" class=\"dataframe\">\n",
       "  <thead>\n",
       "    <tr style=\"text-align: right;\">\n",
       "      <th></th>\n",
       "      <th>Date</th>\n",
       "      <th>Time</th>\n",
       "      <th>f_time</th>\n",
       "      <th>julian_date</th>\n",
       "      <th>Weekday</th>\n",
       "      <th>Weekday_Name</th>\n",
       "      <th>UTC_Time</th>\n",
       "      <th>Volume</th>\n",
       "      <th>Open</th>\n",
       "      <th>High</th>\n",
       "      <th>...</th>\n",
       "      <th>O-C</th>\n",
       "      <th>H-L</th>\n",
       "      <th>H-C</th>\n",
       "      <th>L-C</th>\n",
       "      <th>Direction</th>\n",
       "      <th>col_1</th>\n",
       "      <th>col_2</th>\n",
       "      <th>col_3</th>\n",
       "      <th>col_4</th>\n",
       "      <th>col_5</th>\n",
       "    </tr>\n",
       "  </thead>\n",
       "  <tbody>\n",
       "    <tr>\n",
       "      <th>0</th>\n",
       "      <td>2015-09-10</td>\n",
       "      <td>21:00:00</td>\n",
       "      <td>21</td>\n",
       "      <td>253</td>\n",
       "      <td>3</td>\n",
       "      <td>Thursday</td>\n",
       "      <td>2015-09-10T21:00:00.000000000Z</td>\n",
       "      <td>3801</td>\n",
       "      <td>1.12787</td>\n",
       "      <td>1.13019</td>\n",
       "      <td>...</td>\n",
       "      <td>0.00005</td>\n",
       "      <td>0.00287</td>\n",
       "      <td>0.00237</td>\n",
       "      <td>-0.00050</td>\n",
       "      <td>0</td>\n",
       "      <td>0.00005</td>\n",
       "      <td>0.00232</td>\n",
       "      <td>0.00050</td>\n",
       "      <td>-0.00151</td>\n",
       "      <td>-0.00523</td>\n",
       "    </tr>\n",
       "    <tr>\n",
       "      <th>1</th>\n",
       "      <td>2015-09-11</td>\n",
       "      <td>01:00:00</td>\n",
       "      <td>1</td>\n",
       "      <td>254</td>\n",
       "      <td>4</td>\n",
       "      <td>Friday</td>\n",
       "      <td>2015-09-11T01:00:00.000000000Z</td>\n",
       "      <td>1574</td>\n",
       "      <td>1.12786</td>\n",
       "      <td>1.12877</td>\n",
       "      <td>...</td>\n",
       "      <td>-0.00084</td>\n",
       "      <td>0.00117</td>\n",
       "      <td>0.00007</td>\n",
       "      <td>-0.00110</td>\n",
       "      <td>1</td>\n",
       "      <td>-0.00084</td>\n",
       "      <td>0.00091</td>\n",
       "      <td>0.00110</td>\n",
       "      <td>0.00005</td>\n",
       "      <td>-0.00151</td>\n",
       "    </tr>\n",
       "    <tr>\n",
       "      <th>2</th>\n",
       "      <td>2015-09-11</td>\n",
       "      <td>05:00:00</td>\n",
       "      <td>5</td>\n",
       "      <td>254</td>\n",
       "      <td>4</td>\n",
       "      <td>Friday</td>\n",
       "      <td>2015-09-11T05:00:00.000000000Z</td>\n",
       "      <td>7657</td>\n",
       "      <td>1.12872</td>\n",
       "      <td>1.13100</td>\n",
       "      <td>...</td>\n",
       "      <td>-0.00035</td>\n",
       "      <td>0.00349</td>\n",
       "      <td>0.00193</td>\n",
       "      <td>-0.00156</td>\n",
       "      <td>1</td>\n",
       "      <td>-0.00035</td>\n",
       "      <td>0.00228</td>\n",
       "      <td>0.00156</td>\n",
       "      <td>-0.00084</td>\n",
       "      <td>0.00005</td>\n",
       "    </tr>\n",
       "    <tr>\n",
       "      <th>3</th>\n",
       "      <td>2015-09-11</td>\n",
       "      <td>09:00:00</td>\n",
       "      <td>9</td>\n",
       "      <td>254</td>\n",
       "      <td>4</td>\n",
       "      <td>Friday</td>\n",
       "      <td>2015-09-11T09:00:00.000000000Z</td>\n",
       "      <td>6992</td>\n",
       "      <td>1.12910</td>\n",
       "      <td>1.12935</td>\n",
       "      <td>...</td>\n",
       "      <td>0.00124</td>\n",
       "      <td>0.00391</td>\n",
       "      <td>0.00149</td>\n",
       "      <td>-0.00242</td>\n",
       "      <td>0</td>\n",
       "      <td>0.00124</td>\n",
       "      <td>0.00025</td>\n",
       "      <td>0.00242</td>\n",
       "      <td>-0.00035</td>\n",
       "      <td>-0.00084</td>\n",
       "    </tr>\n",
       "    <tr>\n",
       "      <th>4</th>\n",
       "      <td>2015-09-11</td>\n",
       "      <td>13:00:00</td>\n",
       "      <td>13</td>\n",
       "      <td>254</td>\n",
       "      <td>4</td>\n",
       "      <td>Friday</td>\n",
       "      <td>2015-09-11T13:00:00.000000000Z</td>\n",
       "      <td>10077</td>\n",
       "      <td>1.12790</td>\n",
       "      <td>1.13486</td>\n",
       "      <td>...</td>\n",
       "      <td>-0.00658</td>\n",
       "      <td>0.00742</td>\n",
       "      <td>0.00038</td>\n",
       "      <td>-0.00704</td>\n",
       "      <td>1</td>\n",
       "      <td>-0.00658</td>\n",
       "      <td>0.00696</td>\n",
       "      <td>0.00704</td>\n",
       "      <td>0.00124</td>\n",
       "      <td>-0.00035</td>\n",
       "    </tr>\n",
       "  </tbody>\n",
       "</table>\n",
       "<p>5 rows × 30 columns</p>\n",
       "</div>"
      ],
      "text/plain": [
       "         Date      Time  f_time  julian_date  Weekday Weekday_Name  \\\n",
       "0  2015-09-10  21:00:00      21          253        3     Thursday   \n",
       "1  2015-09-11  01:00:00       1          254        4       Friday   \n",
       "2  2015-09-11  05:00:00       5          254        4       Friday   \n",
       "3  2015-09-11  09:00:00       9          254        4       Friday   \n",
       "4  2015-09-11  13:00:00      13          254        4       Friday   \n",
       "\n",
       "                         UTC_Time  Volume     Open     High  ...      O-C  \\\n",
       "0  2015-09-10T21:00:00.000000000Z    3801  1.12787  1.13019  ...  0.00005   \n",
       "1  2015-09-11T01:00:00.000000000Z    1574  1.12786  1.12877  ... -0.00084   \n",
       "2  2015-09-11T05:00:00.000000000Z    7657  1.12872  1.13100  ... -0.00035   \n",
       "3  2015-09-11T09:00:00.000000000Z    6992  1.12910  1.12935  ...  0.00124   \n",
       "4  2015-09-11T13:00:00.000000000Z   10077  1.12790  1.13486  ... -0.00658   \n",
       "\n",
       "       H-L      H-C      L-C  Direction    col_1    col_2    col_3    col_4  \\\n",
       "0  0.00287  0.00237 -0.00050          0  0.00005  0.00232  0.00050 -0.00151   \n",
       "1  0.00117  0.00007 -0.00110          1 -0.00084  0.00091  0.00110  0.00005   \n",
       "2  0.00349  0.00193 -0.00156          1 -0.00035  0.00228  0.00156 -0.00084   \n",
       "3  0.00391  0.00149 -0.00242          0  0.00124  0.00025  0.00242 -0.00035   \n",
       "4  0.00742  0.00038 -0.00704          1 -0.00658  0.00696  0.00704  0.00124   \n",
       "\n",
       "     col_5  \n",
       "0 -0.00523  \n",
       "1 -0.00151  \n",
       "2  0.00005  \n",
       "3 -0.00084  \n",
       "4 -0.00035  \n",
       "\n",
       "[5 rows x 30 columns]"
      ]
     },
     "execution_count": 8,
     "metadata": {},
     "output_type": "execute_result"
    }
   ],
   "source": [
    "data.head()"
   ]
  },
  {
   "cell_type": "markdown",
   "metadata": {},
   "source": [
    "## Selecting n random candles where their volume is more than 5000"
   ]
  },
  {
   "cell_type": "code",
   "execution_count": 9,
   "metadata": {},
   "outputs": [],
   "source": [
    "random_samples = data[data['Volume'] > 5000].sample(n = 4000)"
   ]
  },
  {
   "cell_type": "code",
   "execution_count": 10,
   "metadata": {},
   "outputs": [],
   "source": [
    "#Test_Candle = np.random.randint(low=1, high=len(data)-40, size=1000)\n",
    "Test_Candle = list(random_samples.index.values)"
   ]
  },
  {
   "cell_type": "markdown",
   "metadata": {},
   "source": [
    "# <font color='red'>CANDLE LOOP</font>"
   ]
  },
  {
   "cell_type": "code",
   "execution_count": null,
   "metadata": {},
   "outputs": [],
   "source": [
    "%%time\n",
    "\n",
    "result_output = pd.DataFrame({'Candle_No':[],\n",
    "                              'Current_Market_Fit':[],\n",
    "                              'Current_Market':[],\n",
    "                              'Rec1_Score':[],\n",
    "                              'Rec1_Prediction':[],\n",
    "                              'Rec2_Score':[],\n",
    "                              'Rec2_Prediction':[],\n",
    "                              'Rec3_Score':[],\n",
    "                              'Rec3_Prediction':[],\n",
    "                              'Rec4_Score':[],\n",
    "                              'Rec4_Prediction':[]\n",
    "                             })\n",
    "\n",
    "for candle_no in Test_Candle:\n",
    "    data = pd.read_csv(filename)\n",
    "    data = data.iloc[candle_no:candle_no+7]\n",
    "    data['candleno'] = range (1, len(data) + 1)\n",
    "    X = data['candleno'].values.reshape(-1, 1)\n",
    "    Y = data['Close'].values.reshape(-1, 1)\n",
    "    linear_regressor = LinearRegression()\n",
    "    linear_regressor.fit(X, Y)\n",
    "    y_pred = linear_regressor.predict(X) \n",
    "    \n",
    "    Current_Market_Fit = r2_score(Y, y_pred).round(2)*100\n",
    "    #print(Current_Market_Fit)\n",
    "    coeficient = (linear_regressor.coef_)\n",
    "\n",
    "    if coeficient > 0:\n",
    "        Current_Market='Bullish'\n",
    "    else:\n",
    "        Current_Market = 'Bearish'\n",
    "    \n",
    "    data = pd.read_csv(filename)\n",
    "    data = data[['col_1',\n",
    "                 'col_2',\n",
    "                 'col_3',\n",
    "                 'F_SMA_10',\n",
    "                 'F_SMA_20'\n",
    "                ]]\n",
    "\n",
    "    indices, distances = find_k_similar_candles (candle_no,data)\n",
    "    indices = indices[0:1][0]\n",
    "    \n",
    "    predicted_output = []\n",
    "    recs = []\n",
    "    for indice in indices[1:5]:\n",
    "             \n",
    "        Predicted_Market_Fit =0\n",
    "        Predicted_Trade=''\n",
    "    \n",
    "        data = pd.read_csv(filename) \n",
    "        data = data.iloc[indice:indice+7]\n",
    "\n",
    "        data['candleno'] = range (1, len(data) + 1)\n",
    "        X = data['candleno'].values.reshape(-1, 1)\n",
    "        Y = data['Close'].values.reshape(-1, 1)\n",
    "        linear_regressor = LinearRegression()\n",
    "        linear_regressor.fit(X, Y)\n",
    "        y_pred = linear_regressor.predict(X)\n",
    "\n",
    "        Predicted_Market_Fit= r2_score(Y, y_pred).round(2)*100\n",
    "        coeficient = (linear_regressor.coef_)\n",
    "\n",
    "        if coeficient > 0:\n",
    "            Predicted_Trade= 'BUY'\n",
    "        else:\n",
    "            Predicted_Trade = 'SELL'\n",
    "        \n",
    "        predicted_output.append([Predicted_Market_Fit,Predicted_Trade])\n",
    "        \n",
    "    result = {'Candle_No': candle_no,\n",
    "              'Current_Market_Fit': Current_Market_Fit,\n",
    "              'Current_Market': Current_Market,\n",
    "              'Rec1_Score': predicted_output[0][0],\n",
    "              'Rec1_Prediction': predicted_output[0][1],\n",
    "              'Rec2_Score': predicted_output[1][0],\n",
    "              'Rec2_Prediction': predicted_output[1][1],\n",
    "              'Rec3_Score': predicted_output[2][0],\n",
    "              'Rec3_Prediction': predicted_output[2][1],\n",
    "              'Rec4_Score': predicted_output[3][0],\n",
    "              'Rec4_Prediction': predicted_output[3][1],\n",
    "             }\n",
    "    \n",
    "    result_output = result_output.append(result, ignore_index = True)"
   ]
  },
  {
   "cell_type": "code",
   "execution_count": null,
   "metadata": {},
   "outputs": [],
   "source": [
    "result_output.to_csv('Back_Test_Result.csv', header = True, index = False)\n",
    "result_output = pd.read_csv('Back_Test_Result.csv')"
   ]
  },
  {
   "cell_type": "code",
   "execution_count": null,
   "metadata": {},
   "outputs": [],
   "source": [
    "result_output.head(50)"
   ]
  },
  {
   "cell_type": "code",
   "execution_count": null,
   "metadata": {},
   "outputs": [],
   "source": []
  }
 ],
 "metadata": {
  "kernelspec": {
   "display_name": "Python 3 (ipykernel)",
   "language": "python",
   "name": "python3"
  },
  "language_info": {
   "codemirror_mode": {
    "name": "ipython",
    "version": 3
   },
   "file_extension": ".py",
   "mimetype": "text/x-python",
   "name": "python",
   "nbconvert_exporter": "python",
   "pygments_lexer": "ipython3",
   "version": "3.9.7"
  }
 },
 "nbformat": 4,
 "nbformat_minor": 2
}
