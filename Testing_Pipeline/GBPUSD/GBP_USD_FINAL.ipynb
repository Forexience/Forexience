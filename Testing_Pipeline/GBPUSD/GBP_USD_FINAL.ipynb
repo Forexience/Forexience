{
 "cells": [
  {
   "cell_type": "code",
   "execution_count": 1,
   "metadata": {},
   "outputs": [],
   "source": [
    "import requests\n",
    "import time\n",
    "import calendar\n",
    "import dateutil.parser as parser\n",
    "from dateutil.relativedelta import relativedelta\n",
    "from datetime import datetime, timezone\n",
    "import pandas as pd\n",
    "import numpy as np\n",
    "import warnings\n",
    "import yaml\n",
    "from sklearn.neighbors import NearestNeighbors\n",
    "from sklearn.linear_model import LinearRegression\n",
    "from sklearn import linear_model\n",
    "from sklearn.metrics import r2_score\n",
    "from sklearn.metrics import mean_squared_error\n",
    "warnings.filterwarnings('ignore')\n",
    "from pycaret.datasets import get_data\n",
    "from pycaret.classification import *"
   ]
  },
  {
   "cell_type": "markdown",
   "metadata": {},
   "source": [
    "### Get Candlestick Data"
   ]
  },
  {
   "cell_type": "code",
   "execution_count": 2,
   "metadata": {},
   "outputs": [],
   "source": [
    "now = datetime.now()"
   ]
  },
  {
   "cell_type": "code",
   "execution_count": 3,
   "metadata": {},
   "outputs": [],
   "source": [
    "with open ('back_test_pipeline_settings.yaml') as ymlfile:\n",
    "    cfg = yaml.safe_load(ymlfile)\n",
    "    k_number = cfg['knn']['k_number']\n",
    "    metric = cfg['knn']['metric']\n",
    "    algorithm = cfg['knn']['algorithm']\n",
    "    feature_1 = cfg['knn']['feature_1']\n",
    "    feature_2 = cfg['knn']['feature_2']\n",
    "    feature_3 = cfg['knn']['feature_3']\n",
    "    feature_7 = cfg['knn']['feature_7']\n",
    "    feature_8 = cfg['knn']['feature_8']   \n",
    "    volume = cfg['feature']['volume']\n",
    "    volume_size = cfg['sample']['volume_size']\n",
    "    sample_count = cfg['sample']['count']\n",
    "    candles = cfg['recommendation']['candle_count']\n",
    "    pair = cfg['currency']['pair']\n",
    "    instrument = cfg['currency']['instrument']\n",
    "    frac = cfg['model']['frac']\n",
    "    random_state = cfg['model']['random_state']\n",
    "    model = cfg['model']['name']"
   ]
  },
  {
   "cell_type": "code",
   "execution_count": 4,
   "metadata": {},
   "outputs": [
    {
     "name": "stdout",
     "output_type": "stream",
     "text": [
      "K Number: 5\n",
      "Metric: euclidean\n",
      "Algorithm: brute\n",
      "Candle Volume Size: 2500\n",
      "Random Sample Count: 10000\n",
      "Future Candle Count: 7\n",
      "Pair: GBPUSD\n"
     ]
    }
   ],
   "source": [
    "print('K Number:',k_number)\n",
    "print('Metric:', metric)\n",
    "print('Algorithm:', algorithm)\n",
    "print('Candle Volume Size:', volume_size)\n",
    "print('Random Sample Count:', sample_count)\n",
    "print('Future Candle Count:', candles)\n",
    "print('Pair:', pair)"
   ]
  },
  {
   "cell_type": "code",
   "execution_count": 5,
   "metadata": {},
   "outputs": [],
   "source": [
    "with open ('config.yml') as ymlfile:\n",
    "    cfg = yaml.safe_load(ymlfile)\n",
    "    oanda_api_key = cfg['creds']['oanda_api']\n",
    "    account_number = cfg['creds']['account_number'] "
   ]
  },
  {
   "cell_type": "code",
   "execution_count": 6,
   "metadata": {},
   "outputs": [],
   "source": [
    "def convert_date(utc_time): \n",
    "    parsed_date = parser.parse(utc_time)\n",
    "    var_date=parsed_date.date()\n",
    "    var_time=parsed_date.time()\n",
    "    var_f_time=var_time.hour\n",
    "    var_julian_date=parsed_date.timetuple().tm_yday\n",
    "    var_weekday=parsed_date.weekday()\n",
    "    var_weekday_name=calendar.day_name[parsed_date.weekday()]\n",
    "    return var_date, var_time, var_f_time, var_julian_date, var_weekday, var_weekday_name"
   ]
  },
  {
   "cell_type": "code",
   "execution_count": 7,
   "metadata": {},
   "outputs": [
    {
     "name": "stdout",
     "output_type": "stream",
     "text": [
      "Instrument: GBP_USD\n"
     ]
    }
   ],
   "source": [
    "print('Instrument:', instrument)"
   ]
  },
  {
   "cell_type": "code",
   "execution_count": 8,
   "metadata": {},
   "outputs": [],
   "source": [
    "Load_10K_Records=True\n",
    "Load_20K_Records=True\n",
    "\n",
    "currency_pairs = [instrument]\n",
    "\n",
    "\n",
    "timeframe = \"H4\"\n",
    "#D #H1 #H4 M30\n",
    "# https://developer.oanda.com/rest-live-v20/instrument-df/#CandlestickGranularity\n",
    "price_char = \"M\"\n",
    "#M(midpoint candles) #B(bid candles) #A(ask candles) #BA\n",
    "price_com = \"mid\"\n",
    "#mid #bid #ask\n",
    "\n",
    "# def of OANDA request variable\n",
    "provider_api_url = 'https://api-fxpractice.oanda.com/v3/accounts/{}/orders'.format(account_number)\n",
    "request_headers = {\n",
    "    \"Authorization\": oanda_api_key,\n",
    "    \"Accept-Datetime-Format\": \"RFC3339\",\n",
    "    \"Connection\": \"Keep-Alive\",\n",
    "    \"Content-Type\": \"application/json;charset=UTF-8\"\n",
    "}\n"
   ]
  },
  {
   "cell_type": "code",
   "execution_count": 9,
   "metadata": {},
   "outputs": [],
   "source": [
    "provider_authorization = 'Bearer {0}'.format(oanda_api_key)\n",
    "\n",
    "headers = {\n",
    "    'Content-Type': 'application/json',\n",
    "    'Authorization': provider_authorization,\n",
    "}"
   ]
  },
  {
   "cell_type": "code",
   "execution_count": 10,
   "metadata": {},
   "outputs": [],
   "source": [
    "params_count = (\n",
    "    ('price', price_char),\n",
    "    ('count', '5000'),\n",
    "    ('granularity', timeframe),\n",
    ")\n"
   ]
  },
  {
   "cell_type": "code",
   "execution_count": 11,
   "metadata": {},
   "outputs": [],
   "source": [
    "for pair in currency_pairs:\n",
    "    first_response = requests.get('https://api-fxpractice.oanda.com/v3/instruments/{}/candles'.format(pair), \n",
    "                            headers=headers,\n",
    "                            params=params_count).json()"
   ]
  },
  {
   "cell_type": "code",
   "execution_count": 12,
   "metadata": {},
   "outputs": [],
   "source": [
    "if Load_10K_Records:\n",
    "    \n",
    "    #### Load 10K data\n",
    "        \n",
    "    datetime_object = parser.parse(first_response['candles'][0]['time'])\n",
    "    date= datetime_object - relativedelta(years=3)  \n",
    "    from_date = date.replace(tzinfo=timezone.utc).timestamp()\n",
    "    params_date = (\n",
    "        ('count', '5000'),\n",
    "        ('price', price_char),\n",
    "        ('from', from_date),\n",
    "        ('granularity', timeframe),)\n",
    "\n",
    "    second_response = requests.get('https://api-fxpractice.oanda.com/v3/instruments/{}/candles'.format(pair),\n",
    "                                   headers=headers,\n",
    "                                   params=params_date).json()\n",
    "    datetime_object_15K = parser.parse(second_response['candles'][0]['time'])\n",
    "    first_response= first_response['candles']  \n",
    "    second_response= second_response['candles']\n",
    "    second_response.extend(first_response)\n",
    "    \n",
    "    if Load_20K_Records:\n",
    "\n",
    "        #### Load 15K data\n",
    "\n",
    "        date= datetime_object_15K - relativedelta(years=3)  \n",
    "        from_date = date.replace(tzinfo=timezone.utc).timestamp()\n",
    "        params_date = (\n",
    "            ('count', '5000'),\n",
    "            ('price', price_char),\n",
    "            ('from', from_date),\n",
    "            ('granularity', timeframe),)\n",
    "\n",
    "        third_response = requests.get('https://api-fxpractice.oanda.com/v3/instruments/{}/candles'.format(pair),\n",
    "                                       headers=headers,\n",
    "                                       params=params_date).json()\n",
    "        datetime_object_20K = parser.parse(third_response['candles'][0]['time'])\n",
    "        third_response= third_response['candles']\n",
    "        third_response.extend(second_response)\n",
    "\n",
    "        #### Load 20K data\n",
    "\n",
    "        date= datetime_object_20K - relativedelta(years=3)  \n",
    "        from_date = date.replace(tzinfo=timezone.utc).timestamp()\n",
    "        params_date = (\n",
    "            ('count', '5000'),\n",
    "            ('price', price_char),\n",
    "            ('from', from_date),\n",
    "            ('granularity', timeframe),)\n",
    "\n",
    "        fourth_response = requests.get('https://api-fxpractice.oanda.com/v3/instruments/{}/candles'.format(pair),\n",
    "                                       headers=headers,\n",
    "                                       params=params_date).json()\n",
    "        datetime_object_20K = parser.parse(fourth_response['candles'][0]['time'])\n",
    "        fourth_response= fourth_response['candles']\n",
    "        fourth_response.extend(third_response)\n",
    "\n",
    "        response=fourth_response\n",
    "    else:\n",
    "       response=second_response \n",
    "else:\n",
    "    response=first_response['candles']"
   ]
  },
  {
   "cell_type": "code",
   "execution_count": 13,
   "metadata": {},
   "outputs": [],
   "source": [
    "filename = \"{}_{}.csv\".format(pair, timeframe)\n",
    "output = []\n",
    "all_candlesticks = response\n",
    "\n",
    "for i in range (len(all_candlesticks)):\n",
    "    result= (convert_date(response[i]['time']))\n",
    "    output.append([(result[0]),(result[1]),(result[2]),(result[3]),(result[4]),(result[5]),\n",
    "                    response[i]['time'],\n",
    "                    response[i]['volume'], \n",
    "                    response[i][price_com]['o'],\n",
    "                    response[i][price_com]['h'],\n",
    "                    response[i][price_com]['l'],\n",
    "                    response[i][price_com]['c']])\n",
    "    \n",
    "output = pd.DataFrame(output)\n",
    "output.columns = ['Date','Time','f_time','julian_date','Weekday','Weekday_Name','UTC_Time', 'Volume', 'Open', 'High', 'Low', 'Close']\n",
    "data = output.to_csv(filename, header = True, index = False)\n",
    "data = pd.read_csv(filename)"
   ]
  },
  {
   "cell_type": "code",
   "execution_count": 14,
   "metadata": {},
   "outputs": [],
   "source": [
    "data = data.drop_duplicates()\n",
    "data = data.to_csv(filename, header = True, index = False)\n",
    "data = pd.read_csv(filename)"
   ]
  },
  {
   "cell_type": "code",
   "execution_count": 15,
   "metadata": {},
   "outputs": [
    {
     "data": {
      "text/plain": [
       "(19339, 12)"
      ]
     },
     "execution_count": 15,
     "metadata": {},
     "output_type": "execute_result"
    }
   ],
   "source": [
    "data.shape"
   ]
  },
  {
   "cell_type": "raw",
   "metadata": {},
   "source": [
    "data.head(5)"
   ]
  },
  {
   "cell_type": "raw",
   "metadata": {},
   "source": [
    "data.tail(5)"
   ]
  },
  {
   "cell_type": "code",
   "execution_count": 16,
   "metadata": {},
   "outputs": [],
   "source": [
    "data['SMA_5'] = data['Close'].rolling(window=5).mean().round(4)\n",
    "data['SMA_10'] = data['Close'].rolling(window=10).mean().round(4)\n",
    "data['SMA_20'] = data['Close'].rolling(window=20).mean().round(4)"
   ]
  },
  {
   "cell_type": "code",
   "execution_count": 17,
   "metadata": {},
   "outputs": [],
   "source": [
    "data['F_SMA_5'] = data['Close'] - data['SMA_5']\n",
    "data['F_SMA_10'] = data['Close'] - data['SMA_10']\n",
    "data['F_SMA_20'] = data['Close'] - data['SMA_20']"
   ]
  },
  {
   "cell_type": "code",
   "execution_count": 18,
   "metadata": {},
   "outputs": [],
   "source": [
    "data = data.drop_duplicates()\n",
    "data = data.to_csv(filename, header = True, index = False)\n",
    "data = pd.read_csv(filename)"
   ]
  },
  {
   "cell_type": "code",
   "execution_count": 19,
   "metadata": {},
   "outputs": [],
   "source": [
    "data['O-H'] = data['Open'] - data['High']\n",
    "data['O-L'] = data['Open'] - data['Low']\n",
    "data['O-C'] = data['Open'] - data['Close']\n",
    "data['H-L'] = data['High'] - data['Low']\n",
    "data['H-C'] = data['High'] - data['Close']\n",
    "data['L-C'] = data['Low'] - data['Close']\n",
    "\n",
    "data['Direction'] = data['O-C'].apply(lambda x: 1 if x<0 else 0)\n",
    "\n",
    "data['col_1'] = data['Open'] - data['Close']\n",
    "\n",
    "for value in data['col_1']:   \n",
    "    if value > 0:\n",
    "        data['col_2'] = data['High'] - data['Open']\n",
    "        data['col_3'] = data['Close'] - data['Low']\n",
    "    else:\n",
    "        data['col_2'] = data['High'] - data['Close']\n",
    "        data['col_3'] = data['Open'] - data['Low']\n",
    "\n",
    "#Two Previous Candlesticks \n",
    "data['col_4'] = data['col_1'].shift(1)\n",
    "data['col_5'] = data['col_1'].shift(2)"
   ]
  },
  {
   "cell_type": "code",
   "execution_count": 20,
   "metadata": {},
   "outputs": [],
   "source": [
    "data = data.dropna()\n",
    "data = data.to_csv(filename, header = True, index = False)\n",
    "data = pd.read_csv(filename)"
   ]
  },
  {
   "cell_type": "code",
   "execution_count": 21,
   "metadata": {},
   "outputs": [
    {
     "data": {
      "text/plain": [
       "(19320, 30)"
      ]
     },
     "execution_count": 21,
     "metadata": {},
     "output_type": "execute_result"
    }
   ],
   "source": [
    "data.shape"
   ]
  },
  {
   "cell_type": "markdown",
   "metadata": {},
   "source": [
    "### Generating Training Data"
   ]
  },
  {
   "cell_type": "code",
   "execution_count": 22,
   "metadata": {},
   "outputs": [],
   "source": [
    "def convert_date(utc_time): \n",
    "    parsed_date = parser.parse(utc_time)\n",
    "    var_date=parsed_date.date()\n",
    "    var_time=parsed_date.time()\n",
    "    var_f_time=var_time.hour\n",
    "    var_julian_date=parsed_date.timetuple().tm_yday\n",
    "    var_weekday=parsed_date.weekday()\n",
    "    var_weekday_name=calendar.day_name[parsed_date.weekday()]\n",
    "    return var_date, var_time, var_f_time, var_julian_date, var_weekday, var_weekday_name"
   ]
  },
  {
   "cell_type": "code",
   "execution_count": 23,
   "metadata": {},
   "outputs": [
    {
     "name": "stdout",
     "output_type": "stream",
     "text": [
      "K Number: 5\n",
      "Metric: euclidean\n",
      "Algorithm: brute\n"
     ]
    }
   ],
   "source": [
    "print('K Number:',k_number)\n",
    "print('Metric:', metric)\n",
    "print('Algorithm:', algorithm)"
   ]
  },
  {
   "cell_type": "code",
   "execution_count": 24,
   "metadata": {},
   "outputs": [],
   "source": [
    "def find_k_similar_candles(candle_id, dataset, k = k_number):\n",
    "    indices=[]\n",
    "    distances = []\n",
    "    output = []\n",
    "    model_knn = NearestNeighbors(metric = metric, algorithm = algorithm) \n",
    "    model_knn.fit(dataset)\n",
    "    \n",
    "    #metric = 'euclidean' or 'cosine' or 'manhattan' or 'mahalanobis'\n",
    "    \n",
    "    distances, indices = model_knn.kneighbors(dataset.iloc[candle_id,:].values.reshape(1,-1),\n",
    "                                              n_neighbors = k)\n",
    "\n",
    "    for i in range(0,len(distances.flatten())):\n",
    "        if i!=0:\n",
    "            \n",
    "            output.append ([dataset.index[indices.flatten()[i]],\n",
    "                            distances.flatten()[i],\n",
    "                            dataset.iloc[indices.flatten()[i]][feature_1],\n",
    "                            dataset.iloc[indices.flatten()[i]][feature_2],\n",
    "                            dataset.iloc[indices.flatten()[i]][feature_3],\n",
    "                            dataset.iloc[indices.flatten()[i]][feature_7],\n",
    "                            dataset.iloc[indices.flatten()[i]][feature_8],                            \n",
    "                           ])\n",
    "    \n",
    "    output = pd.DataFrame(output)\n",
    "    output.columns = ['Indice','Distance',\n",
    "                      feature_1,\n",
    "                      feature_2,\n",
    "                      feature_3,\n",
    "                      feature_7,\n",
    "                      feature_8,\n",
    "                     ]\n",
    "   # display (output)\n",
    "    \n",
    "    return indices, distances"
   ]
  },
  {
   "cell_type": "markdown",
   "metadata": {},
   "source": [
    "# <font color='red'>Test Configs</font>"
   ]
  },
  {
   "cell_type": "code",
   "execution_count": 25,
   "metadata": {},
   "outputs": [],
   "source": [
    "filename = '{}_H4.csv'.format(instrument)\n",
    "data = pd.read_csv(filename)"
   ]
  },
  {
   "cell_type": "code",
   "execution_count": 26,
   "metadata": {},
   "outputs": [
    {
     "data": {
      "text/plain": [
       "Index(['Date', 'Time', 'f_time', 'julian_date', 'Weekday', 'Weekday_Name',\n",
       "       'UTC_Time', 'Volume', 'Open', 'High', 'Low', 'Close', 'SMA_5', 'SMA_10',\n",
       "       'SMA_20', 'F_SMA_5', 'F_SMA_10', 'F_SMA_20', 'O-H', 'O-L', 'O-C', 'H-L',\n",
       "       'H-C', 'L-C', 'Direction', 'col_1', 'col_2', 'col_3', 'col_4', 'col_5'],\n",
       "      dtype='object')"
      ]
     },
     "execution_count": 26,
     "metadata": {},
     "output_type": "execute_result"
    }
   ],
   "source": [
    "data.columns"
   ]
  },
  {
   "cell_type": "markdown",
   "metadata": {},
   "source": [
    "## Selecting n random candles where their volume is more than x"
   ]
  },
  {
   "cell_type": "code",
   "execution_count": 27,
   "metadata": {},
   "outputs": [
    {
     "name": "stdout",
     "output_type": "stream",
     "text": [
      "Candle Volume Size: 2500\n",
      "Random Sample Count: 10000\n"
     ]
    }
   ],
   "source": [
    "print('Candle Volume Size:', volume_size)\n",
    "print('Random Sample Count:', sample_count)"
   ]
  },
  {
   "cell_type": "code",
   "execution_count": 28,
   "metadata": {},
   "outputs": [],
   "source": [
    "random_samples = data[data[volume] > volume_size].sample(n = sample_count)"
   ]
  },
  {
   "cell_type": "code",
   "execution_count": 29,
   "metadata": {},
   "outputs": [],
   "source": [
    "#Random_Candles = np.random.randint(low=1, high=len(data)-40, size=1000)\n",
    "Random_Candles = list(random_samples.index.values)"
   ]
  },
  {
   "cell_type": "raw",
   "metadata": {},
   "source": [
    "#show the fisrt 10 random generated candle numbers\n",
    "Random_Candles[0:10]"
   ]
  },
  {
   "cell_type": "markdown",
   "metadata": {},
   "source": [
    "# <font color='red'>CANDLE LOOP</font>"
   ]
  },
  {
   "cell_type": "code",
   "execution_count": 30,
   "metadata": {},
   "outputs": [],
   "source": [
    "now = datetime.now()\n",
    "today = now.strftime(\"%d-%m-%Y_%I-%M_%p\")"
   ]
  },
  {
   "cell_type": "code",
   "execution_count": 31,
   "metadata": {},
   "outputs": [
    {
     "name": "stdout",
     "output_type": "stream",
     "text": [
      "Today: 01-02-2022_11-28_PM\n",
      "CPU times: user 7h 6min 16s, sys: 9h 13min 14s, total: 16h 19min 31s\n",
      "Wall time: 2h 15min 6s\n"
     ]
    }
   ],
   "source": [
    "%%time\n",
    "print ('Today: ' + today)\n",
    "\n",
    "result_output = pd.DataFrame({'Candle_No':[],\n",
    "                              'Current_Market_Fit':[],\n",
    "                              'Current_Market':[],\n",
    "                              'Rec1_Score':[],\n",
    "                              'Rec1_Prediction':[],\n",
    "                              'Rec2_Score':[],\n",
    "                              'Rec2_Prediction':[],\n",
    "                              'Rec3_Score':[],\n",
    "                              'Rec3_Prediction':[],\n",
    "                              'Rec4_Score':[],\n",
    "                              'Rec4_Prediction':[]\n",
    "                             })\n",
    "\n",
    "for candle_no in Random_Candles:\n",
    "    data = pd.read_csv(filename)\n",
    "    data = data.iloc[candle_no:candle_no+candles]\n",
    "    data['candleno'] = range (1, len(data) + 1)\n",
    "    X = data['candleno'].values.reshape(-1, 1)\n",
    "    Y = data['Close'].values.reshape(-1, 1)\n",
    "    linear_regressor = LinearRegression()\n",
    "    linear_regressor.fit(X, Y)\n",
    "    y_pred = linear_regressor.predict(X) \n",
    "    \n",
    "    Current_Market_Fit = r2_score(Y, y_pred)*100\n",
    "    #print(Current_Market_Fit)\n",
    "    coeficient = (linear_regressor.coef_)\n",
    "\n",
    "    if coeficient > 0:\n",
    "        Current_Market='Bullish'\n",
    "    else:\n",
    "        Current_Market = 'Bearish'\n",
    "    \n",
    "    data = pd.read_csv(filename)\n",
    "    data = data[[feature_1,\n",
    "                 feature_2,\n",
    "                 feature_3,\n",
    "                 feature_7,\n",
    "                 feature_8,\n",
    "                ]]\n",
    "\n",
    "    indices, distances = find_k_similar_candles (candle_no,data)\n",
    "    indices = indices[0:1][0]\n",
    "    \n",
    "    predicted_output = []\n",
    "    recs = []\n",
    "    for indice in indices[1:5]:\n",
    "             \n",
    "        Predicted_Market_Fit =0\n",
    "        Predicted_Trade=''\n",
    "    \n",
    "        data = pd.read_csv(filename) \n",
    "        data = data.iloc[indice:indice+candles]\n",
    "\n",
    "        data['candleno'] = range (1, len(data) + 1)\n",
    "        X = data['candleno'].values.reshape(-1, 1)\n",
    "        Y = data['Close'].values.reshape(-1, 1)\n",
    "        linear_regressor = LinearRegression()\n",
    "        linear_regressor.fit(X, Y)\n",
    "        y_pred = linear_regressor.predict(X)\n",
    "\n",
    "        Predicted_Market_Fit= r2_score(Y, y_pred)*100\n",
    "        coeficient = (linear_regressor.coef_)\n",
    "\n",
    "        if coeficient > 0:\n",
    "            Predicted_Trade= 'BUY'\n",
    "        else:\n",
    "            Predicted_Trade = 'SELL'\n",
    "        \n",
    "        predicted_output.append([Predicted_Market_Fit,Predicted_Trade])\n",
    "        \n",
    "    result = {'Candle_No': candle_no,\n",
    "              'Current_Market_Fit': Current_Market_Fit,\n",
    "              'Current_Market': Current_Market,\n",
    "              'Rec1_Score': predicted_output[0][0],\n",
    "              'Rec1_Prediction': predicted_output[0][1],\n",
    "              'Rec2_Score': predicted_output[1][0],\n",
    "              'Rec2_Prediction': predicted_output[1][1],\n",
    "              'Rec3_Score': predicted_output[2][0],\n",
    "              'Rec3_Prediction': predicted_output[2][1],\n",
    "              'Rec4_Score': predicted_output[3][0],\n",
    "              'Rec4_Prediction': predicted_output[3][1],\n",
    "             }\n",
    "    \n",
    "    result_output = result_output.append(result, ignore_index = True)"
   ]
  },
  {
   "cell_type": "code",
   "execution_count": 32,
   "metadata": {},
   "outputs": [
    {
     "data": {
      "text/html": [
       "<div>\n",
       "<style scoped>\n",
       "    .dataframe tbody tr th:only-of-type {\n",
       "        vertical-align: middle;\n",
       "    }\n",
       "\n",
       "    .dataframe tbody tr th {\n",
       "        vertical-align: top;\n",
       "    }\n",
       "\n",
       "    .dataframe thead th {\n",
       "        text-align: right;\n",
       "    }\n",
       "</style>\n",
       "<table border=\"1\" class=\"dataframe\">\n",
       "  <thead>\n",
       "    <tr style=\"text-align: right;\">\n",
       "      <th></th>\n",
       "      <th>Candle_No</th>\n",
       "      <th>Current_Market_Fit</th>\n",
       "      <th>Current_Market</th>\n",
       "      <th>Rec1_Score</th>\n",
       "      <th>Rec1_Prediction</th>\n",
       "      <th>Rec2_Score</th>\n",
       "      <th>Rec2_Prediction</th>\n",
       "      <th>Rec3_Score</th>\n",
       "      <th>Rec3_Prediction</th>\n",
       "      <th>Rec4_Score</th>\n",
       "      <th>Rec4_Prediction</th>\n",
       "    </tr>\n",
       "  </thead>\n",
       "  <tbody>\n",
       "    <tr>\n",
       "      <th>0</th>\n",
       "      <td>3643.0</td>\n",
       "      <td>75.357486</td>\n",
       "      <td>Bullish</td>\n",
       "      <td>24.578347</td>\n",
       "      <td>SELL</td>\n",
       "      <td>0.045639</td>\n",
       "      <td>BUY</td>\n",
       "      <td>44.177927</td>\n",
       "      <td>BUY</td>\n",
       "      <td>74.616442</td>\n",
       "      <td>BUY</td>\n",
       "    </tr>\n",
       "    <tr>\n",
       "      <th>1</th>\n",
       "      <td>2979.0</td>\n",
       "      <td>11.223252</td>\n",
       "      <td>Bearish</td>\n",
       "      <td>86.759899</td>\n",
       "      <td>BUY</td>\n",
       "      <td>0.423415</td>\n",
       "      <td>BUY</td>\n",
       "      <td>96.981869</td>\n",
       "      <td>SELL</td>\n",
       "      <td>11.565232</td>\n",
       "      <td>BUY</td>\n",
       "    </tr>\n",
       "    <tr>\n",
       "      <th>2</th>\n",
       "      <td>5923.0</td>\n",
       "      <td>15.045813</td>\n",
       "      <td>Bullish</td>\n",
       "      <td>86.545420</td>\n",
       "      <td>SELL</td>\n",
       "      <td>59.233254</td>\n",
       "      <td>SELL</td>\n",
       "      <td>62.815330</td>\n",
       "      <td>BUY</td>\n",
       "      <td>24.155977</td>\n",
       "      <td>BUY</td>\n",
       "    </tr>\n",
       "    <tr>\n",
       "      <th>3</th>\n",
       "      <td>16456.0</td>\n",
       "      <td>3.059902</td>\n",
       "      <td>Bullish</td>\n",
       "      <td>7.055918</td>\n",
       "      <td>BUY</td>\n",
       "      <td>51.689581</td>\n",
       "      <td>BUY</td>\n",
       "      <td>23.910735</td>\n",
       "      <td>SELL</td>\n",
       "      <td>66.936500</td>\n",
       "      <td>SELL</td>\n",
       "    </tr>\n",
       "    <tr>\n",
       "      <th>4</th>\n",
       "      <td>15565.0</td>\n",
       "      <td>81.850890</td>\n",
       "      <td>Bullish</td>\n",
       "      <td>85.080597</td>\n",
       "      <td>BUY</td>\n",
       "      <td>70.445031</td>\n",
       "      <td>BUY</td>\n",
       "      <td>61.266984</td>\n",
       "      <td>SELL</td>\n",
       "      <td>33.250507</td>\n",
       "      <td>SELL</td>\n",
       "    </tr>\n",
       "  </tbody>\n",
       "</table>\n",
       "</div>"
      ],
      "text/plain": [
       "   Candle_No  Current_Market_Fit Current_Market  Rec1_Score Rec1_Prediction  \\\n",
       "0     3643.0           75.357486        Bullish   24.578347            SELL   \n",
       "1     2979.0           11.223252        Bearish   86.759899             BUY   \n",
       "2     5923.0           15.045813        Bullish   86.545420            SELL   \n",
       "3    16456.0            3.059902        Bullish    7.055918             BUY   \n",
       "4    15565.0           81.850890        Bullish   85.080597             BUY   \n",
       "\n",
       "   Rec2_Score Rec2_Prediction  Rec3_Score Rec3_Prediction  Rec4_Score  \\\n",
       "0    0.045639             BUY   44.177927             BUY   74.616442   \n",
       "1    0.423415             BUY   96.981869            SELL   11.565232   \n",
       "2   59.233254            SELL   62.815330             BUY   24.155977   \n",
       "3   51.689581             BUY   23.910735            SELL   66.936500   \n",
       "4   70.445031             BUY   61.266984            SELL   33.250507   \n",
       "\n",
       "  Rec4_Prediction  \n",
       "0             BUY  \n",
       "1             BUY  \n",
       "2             BUY  \n",
       "3            SELL  \n",
       "4            SELL  "
      ]
     },
     "execution_count": 32,
     "metadata": {},
     "output_type": "execute_result"
    }
   ],
   "source": [
    "result_output.to_csv('01_Back_Test_Data.csv', header = True, index = False)\n",
    "result_output.to_csv(today + \"_\" + \"Back_Test_Data_\" + pair + '.csv', header = True, index = False)\n",
    "result_output = pd.read_csv(today + \"_\" + \"Back_Test_Data_\" + pair + '.csv')\n",
    "result_output.head()"
   ]
  },
  {
   "cell_type": "code",
   "execution_count": 33,
   "metadata": {},
   "outputs": [
    {
     "data": {
      "text/plain": [
       "(10000, 11)"
      ]
     },
     "execution_count": 33,
     "metadata": {},
     "output_type": "execute_result"
    }
   ],
   "source": [
    "result_output.shape"
   ]
  },
  {
   "cell_type": "markdown",
   "metadata": {},
   "source": [
    "#### Generating Log File"
   ]
  },
  {
   "cell_type": "code",
   "execution_count": 34,
   "metadata": {},
   "outputs": [],
   "source": [
    "file = open(today + \"_\" + \"data_generation_log_\" + pair + '.txt', \"w\")\n",
    "file.write (\"Date: \" + today + \"\\n\" + \\\n",
    "            \"Currency Pair: \" + pair + \"\\n\" + \\\n",
    "            \"K_Number: \" + str(k_number) + \"\\n\" + \\\n",
    "            \"KNN_Metric: \" + metric + \"\\n\" + \\\n",
    "            \"KNN_Algorithm: \" + algorithm + \"\\n\" + \\\n",
    "            \"Feature: \" + feature_1 + \"\\n\" + \\\n",
    "            \"Feature: \" + feature_2 + \"\\n\" + \\\n",
    "            \"Feature: \" + feature_3 + \"\\n\" + \\\n",
    "            \"Feature: \" + feature_7 + \"\\n\" + \\\n",
    "            \"Feature: \" + feature_8 + \"\\n\" + \\\n",
    "            \"Volume Size: \" + str(volume_size) + \"\\n\" + \\\n",
    "            \"Sample Count: \" + str(sample_count) + \"\\n\" + \\\n",
    "            \"Candle Counts: \" + str(candles) + \"\\n\"\n",
    "           )\n",
    "file.close()"
   ]
  },
  {
   "cell_type": "markdown",
   "metadata": {},
   "source": [
    "### Modeling"
   ]
  },
  {
   "cell_type": "code",
   "execution_count": 52,
   "metadata": {},
   "outputs": [],
   "source": [
    "with open ('back_test_pipeline_settings.yaml') as ymlfile:\n",
    "    cfg = yaml.safe_load(ymlfile)\n",
    "    random_state = cfg['model']['random_state']"
   ]
  },
  {
   "cell_type": "code",
   "execution_count": 35,
   "metadata": {},
   "outputs": [
    {
     "name": "stdout",
     "output_type": "stream",
     "text": [
      "Pair: GBP_USD\n",
      "Fraction: 0.7\n",
      "Random State: 800\n"
     ]
    }
   ],
   "source": [
    "print('Pair:', pair)\n",
    "print('Fraction:', frac)\n",
    "print('Random State:', random_state)"
   ]
  },
  {
   "cell_type": "code",
   "execution_count": 36,
   "metadata": {},
   "outputs": [],
   "source": [
    "now = datetime.now()\n",
    "today = now.strftime(\"%d-%m-%Y_%I-%M_%p\")"
   ]
  },
  {
   "cell_type": "code",
   "execution_count": 37,
   "metadata": {},
   "outputs": [
    {
     "data": {
      "text/plain": [
       "(10000, 11)"
      ]
     },
     "execution_count": 37,
     "metadata": {},
     "output_type": "execute_result"
    }
   ],
   "source": [
    "dataset = pd.read_csv('01_Back_Test_Data.csv')\n",
    "dataset.shape"
   ]
  },
  {
   "cell_type": "raw",
   "metadata": {},
   "source": [
    "dataset.head()"
   ]
  },
  {
   "cell_type": "code",
   "execution_count": 38,
   "metadata": {},
   "outputs": [],
   "source": [
    "dataset = dataset[dataset['Current_Market_Fit'] > 20]\n",
    "dataset = dataset.reset_index()\n",
    "del dataset['index']"
   ]
  },
  {
   "cell_type": "code",
   "execution_count": 39,
   "metadata": {},
   "outputs": [
    {
     "data": {
      "text/plain": [
       "(7391, 11)"
      ]
     },
     "execution_count": 39,
     "metadata": {},
     "output_type": "execute_result"
    }
   ],
   "source": [
    "dataset.shape"
   ]
  },
  {
   "cell_type": "code",
   "execution_count": 40,
   "metadata": {},
   "outputs": [],
   "source": [
    "dataset['Current_Market'] = dataset['Current_Market'].replace(['Bullish','Bearish'],[1,0])\n",
    "dataset['Rec1_Prediction'] = dataset['Rec1_Prediction'].replace(['BUY','SELL'],[1,-1])\n",
    "dataset['Rec2_Prediction'] = dataset['Rec2_Prediction'].replace(['BUY','SELL'],[1,-1])\n",
    "dataset['Rec3_Prediction'] = dataset['Rec3_Prediction'].replace(['BUY','SELL'],[1,-1])\n",
    "dataset['Rec4_Prediction'] = dataset['Rec4_Prediction'].replace(['BUY','SELL'],[1,-1])"
   ]
  },
  {
   "cell_type": "code",
   "execution_count": 41,
   "metadata": {},
   "outputs": [],
   "source": [
    "dataset['Rec1_Score'] = dataset['Rec1_Score'] * dataset['Rec1_Prediction']\n",
    "dataset['Rec2_Score'] = dataset['Rec2_Score'] * dataset['Rec2_Prediction']\n",
    "dataset['Rec3_Score'] = dataset['Rec3_Score'] * dataset['Rec3_Prediction']\n",
    "dataset['Rec4_Score'] = dataset['Rec4_Score'] * dataset['Rec4_Prediction']"
   ]
  },
  {
   "cell_type": "code",
   "execution_count": 42,
   "metadata": {},
   "outputs": [],
   "source": [
    "dataset['Rec1_Score'] = dataset['Rec1_Score'].round(2)\n",
    "dataset['Rec2_Score'] = dataset['Rec2_Score'].round(2)\n",
    "dataset['Rec3_Score'] = dataset['Rec3_Score'].round(2)\n",
    "dataset['Rec4_Score'] = dataset['Rec4_Score'].round(2)"
   ]
  },
  {
   "cell_type": "code",
   "execution_count": 43,
   "metadata": {},
   "outputs": [],
   "source": [
    "dataset = dataset.drop([\n",
    "    'Candle_No',\n",
    "    'Current_Market_Fit',\n",
    "    'Rec1_Prediction',\n",
    "    'Rec2_Prediction',\n",
    "    'Rec3_Prediction',\n",
    "    'Rec4_Prediction',\n",
    "], axis=1)"
   ]
  },
  {
   "cell_type": "code",
   "execution_count": 44,
   "metadata": {},
   "outputs": [
    {
     "data": {
      "text/html": [
       "<div>\n",
       "<style scoped>\n",
       "    .dataframe tbody tr th:only-of-type {\n",
       "        vertical-align: middle;\n",
       "    }\n",
       "\n",
       "    .dataframe tbody tr th {\n",
       "        vertical-align: top;\n",
       "    }\n",
       "\n",
       "    .dataframe thead th {\n",
       "        text-align: right;\n",
       "    }\n",
       "</style>\n",
       "<table border=\"1\" class=\"dataframe\">\n",
       "  <thead>\n",
       "    <tr style=\"text-align: right;\">\n",
       "      <th></th>\n",
       "      <th>Current_Market</th>\n",
       "      <th>Rec1_Score</th>\n",
       "      <th>Rec2_Score</th>\n",
       "      <th>Rec3_Score</th>\n",
       "      <th>Rec4_Score</th>\n",
       "    </tr>\n",
       "  </thead>\n",
       "  <tbody>\n",
       "    <tr>\n",
       "      <th>0</th>\n",
       "      <td>1</td>\n",
       "      <td>-24.58</td>\n",
       "      <td>0.05</td>\n",
       "      <td>44.18</td>\n",
       "      <td>74.62</td>\n",
       "    </tr>\n",
       "    <tr>\n",
       "      <th>1</th>\n",
       "      <td>1</td>\n",
       "      <td>85.08</td>\n",
       "      <td>70.45</td>\n",
       "      <td>-61.27</td>\n",
       "      <td>-33.25</td>\n",
       "    </tr>\n",
       "    <tr>\n",
       "      <th>2</th>\n",
       "      <td>1</td>\n",
       "      <td>63.00</td>\n",
       "      <td>-77.65</td>\n",
       "      <td>-47.87</td>\n",
       "      <td>5.33</td>\n",
       "    </tr>\n",
       "    <tr>\n",
       "      <th>3</th>\n",
       "      <td>1</td>\n",
       "      <td>-65.04</td>\n",
       "      <td>67.66</td>\n",
       "      <td>18.07</td>\n",
       "      <td>-80.00</td>\n",
       "    </tr>\n",
       "    <tr>\n",
       "      <th>4</th>\n",
       "      <td>0</td>\n",
       "      <td>-31.21</td>\n",
       "      <td>23.83</td>\n",
       "      <td>-91.79</td>\n",
       "      <td>68.14</td>\n",
       "    </tr>\n",
       "  </tbody>\n",
       "</table>\n",
       "</div>"
      ],
      "text/plain": [
       "   Current_Market  Rec1_Score  Rec2_Score  Rec3_Score  Rec4_Score\n",
       "0               1      -24.58        0.05       44.18       74.62\n",
       "1               1       85.08       70.45      -61.27      -33.25\n",
       "2               1       63.00      -77.65      -47.87        5.33\n",
       "3               1      -65.04       67.66       18.07      -80.00\n",
       "4               0      -31.21       23.83      -91.79       68.14"
      ]
     },
     "execution_count": 44,
     "metadata": {},
     "output_type": "execute_result"
    }
   ],
   "source": [
    "dataset.head()"
   ]
  },
  {
   "cell_type": "code",
   "execution_count": 45,
   "metadata": {},
   "outputs": [
    {
     "name": "stdout",
     "output_type": "stream",
     "text": [
      "Data for Modeling: (5174, 5)\n",
      "Unseen Data For Predictions: (2217, 5)\n",
      "Fraction: 0.7\n"
     ]
    }
   ],
   "source": [
    "data = dataset.sample(frac=frac, random_state=random_state).reset_index(drop=True)\n",
    "data_unseen = dataset.drop(data.index).reset_index(drop=True)\n",
    "\n",
    "print('Data for Modeling: ' + str(data.shape))\n",
    "print('Unseen Data For Predictions: ' + str(data_unseen.shape))\n",
    "print('Fraction: ' + str(frac))\n",
    "#print('Random State: ', str(random_state))"
   ]
  },
  {
   "cell_type": "code",
   "execution_count": 46,
   "metadata": {},
   "outputs": [
    {
     "data": {
      "text/plain": [
       "(2217, 5)"
      ]
     },
     "execution_count": 46,
     "metadata": {},
     "output_type": "execute_result"
    }
   ],
   "source": [
    "data_unseen.shape"
   ]
  },
  {
   "cell_type": "code",
   "execution_count": 47,
   "metadata": {},
   "outputs": [
    {
     "data": {
      "text/html": [
       "<div>\n",
       "<style scoped>\n",
       "    .dataframe tbody tr th:only-of-type {\n",
       "        vertical-align: middle;\n",
       "    }\n",
       "\n",
       "    .dataframe tbody tr th {\n",
       "        vertical-align: top;\n",
       "    }\n",
       "\n",
       "    .dataframe thead th {\n",
       "        text-align: right;\n",
       "    }\n",
       "</style>\n",
       "<table border=\"1\" class=\"dataframe\">\n",
       "  <thead>\n",
       "    <tr style=\"text-align: right;\">\n",
       "      <th></th>\n",
       "      <th>Current_Market</th>\n",
       "      <th>Rec1_Score</th>\n",
       "      <th>Rec2_Score</th>\n",
       "      <th>Rec3_Score</th>\n",
       "      <th>Rec4_Score</th>\n",
       "    </tr>\n",
       "  </thead>\n",
       "  <tbody>\n",
       "    <tr>\n",
       "      <th>0</th>\n",
       "      <td>1</td>\n",
       "      <td>-3.44</td>\n",
       "      <td>73.19</td>\n",
       "      <td>-72.11</td>\n",
       "      <td>-81.48</td>\n",
       "    </tr>\n",
       "    <tr>\n",
       "      <th>1</th>\n",
       "      <td>1</td>\n",
       "      <td>-30.35</td>\n",
       "      <td>62.53</td>\n",
       "      <td>0.07</td>\n",
       "      <td>41.39</td>\n",
       "    </tr>\n",
       "    <tr>\n",
       "      <th>2</th>\n",
       "      <td>1</td>\n",
       "      <td>-2.95</td>\n",
       "      <td>-21.27</td>\n",
       "      <td>-70.30</td>\n",
       "      <td>-73.13</td>\n",
       "    </tr>\n",
       "    <tr>\n",
       "      <th>3</th>\n",
       "      <td>1</td>\n",
       "      <td>-87.57</td>\n",
       "      <td>-28.47</td>\n",
       "      <td>59.06</td>\n",
       "      <td>-58.45</td>\n",
       "    </tr>\n",
       "    <tr>\n",
       "      <th>4</th>\n",
       "      <td>1</td>\n",
       "      <td>33.89</td>\n",
       "      <td>46.88</td>\n",
       "      <td>-46.33</td>\n",
       "      <td>89.20</td>\n",
       "    </tr>\n",
       "  </tbody>\n",
       "</table>\n",
       "</div>"
      ],
      "text/plain": [
       "   Current_Market  Rec1_Score  Rec2_Score  Rec3_Score  Rec4_Score\n",
       "0               1       -3.44       73.19      -72.11      -81.48\n",
       "1               1      -30.35       62.53        0.07       41.39\n",
       "2               1       -2.95      -21.27      -70.30      -73.13\n",
       "3               1      -87.57      -28.47       59.06      -58.45\n",
       "4               1       33.89       46.88      -46.33       89.20"
      ]
     },
     "execution_count": 47,
     "metadata": {},
     "output_type": "execute_result"
    }
   ],
   "source": [
    "data_unseen.head()"
   ]
  },
  {
   "cell_type": "code",
   "execution_count": 48,
   "metadata": {
    "scrolled": true
   },
   "outputs": [
    {
     "data": {
      "text/html": [
       "<style type=\"text/css\">\n",
       "#T_db788_row5_col1, #T_db788_row44_col1 {\n",
       "  background-color: lightgreen;\n",
       "}\n",
       "</style>\n",
       "<table id=\"T_db788_\">\n",
       "  <thead>\n",
       "    <tr>\n",
       "      <th class=\"blank level0\" >&nbsp;</th>\n",
       "      <th class=\"col_heading level0 col0\" >Description</th>\n",
       "      <th class=\"col_heading level0 col1\" >Value</th>\n",
       "    </tr>\n",
       "  </thead>\n",
       "  <tbody>\n",
       "    <tr>\n",
       "      <th id=\"T_db788_level0_row0\" class=\"row_heading level0 row0\" >0</th>\n",
       "      <td id=\"T_db788_row0_col0\" class=\"data row0 col0\" >session_id</td>\n",
       "      <td id=\"T_db788_row0_col1\" class=\"data row0 col1\" >123</td>\n",
       "    </tr>\n",
       "    <tr>\n",
       "      <th id=\"T_db788_level0_row1\" class=\"row_heading level0 row1\" >1</th>\n",
       "      <td id=\"T_db788_row1_col0\" class=\"data row1 col0\" >Target</td>\n",
       "      <td id=\"T_db788_row1_col1\" class=\"data row1 col1\" >Current_Market</td>\n",
       "    </tr>\n",
       "    <tr>\n",
       "      <th id=\"T_db788_level0_row2\" class=\"row_heading level0 row2\" >2</th>\n",
       "      <td id=\"T_db788_row2_col0\" class=\"data row2 col0\" >Target Type</td>\n",
       "      <td id=\"T_db788_row2_col1\" class=\"data row2 col1\" >Binary</td>\n",
       "    </tr>\n",
       "    <tr>\n",
       "      <th id=\"T_db788_level0_row3\" class=\"row_heading level0 row3\" >3</th>\n",
       "      <td id=\"T_db788_row3_col0\" class=\"data row3 col0\" >Label Encoded</td>\n",
       "      <td id=\"T_db788_row3_col1\" class=\"data row3 col1\" >None</td>\n",
       "    </tr>\n",
       "    <tr>\n",
       "      <th id=\"T_db788_level0_row4\" class=\"row_heading level0 row4\" >4</th>\n",
       "      <td id=\"T_db788_row4_col0\" class=\"data row4 col0\" >Original Data</td>\n",
       "      <td id=\"T_db788_row4_col1\" class=\"data row4 col1\" >(5174, 5)</td>\n",
       "    </tr>\n",
       "    <tr>\n",
       "      <th id=\"T_db788_level0_row5\" class=\"row_heading level0 row5\" >5</th>\n",
       "      <td id=\"T_db788_row5_col0\" class=\"data row5 col0\" >Missing Values</td>\n",
       "      <td id=\"T_db788_row5_col1\" class=\"data row5 col1\" >True</td>\n",
       "    </tr>\n",
       "    <tr>\n",
       "      <th id=\"T_db788_level0_row6\" class=\"row_heading level0 row6\" >6</th>\n",
       "      <td id=\"T_db788_row6_col0\" class=\"data row6 col0\" >Numeric Features</td>\n",
       "      <td id=\"T_db788_row6_col1\" class=\"data row6 col1\" >4</td>\n",
       "    </tr>\n",
       "    <tr>\n",
       "      <th id=\"T_db788_level0_row7\" class=\"row_heading level0 row7\" >7</th>\n",
       "      <td id=\"T_db788_row7_col0\" class=\"data row7 col0\" >Categorical Features</td>\n",
       "      <td id=\"T_db788_row7_col1\" class=\"data row7 col1\" >0</td>\n",
       "    </tr>\n",
       "    <tr>\n",
       "      <th id=\"T_db788_level0_row8\" class=\"row_heading level0 row8\" >8</th>\n",
       "      <td id=\"T_db788_row8_col0\" class=\"data row8 col0\" >Ordinal Features</td>\n",
       "      <td id=\"T_db788_row8_col1\" class=\"data row8 col1\" >False</td>\n",
       "    </tr>\n",
       "    <tr>\n",
       "      <th id=\"T_db788_level0_row9\" class=\"row_heading level0 row9\" >9</th>\n",
       "      <td id=\"T_db788_row9_col0\" class=\"data row9 col0\" >High Cardinality Features</td>\n",
       "      <td id=\"T_db788_row9_col1\" class=\"data row9 col1\" >False</td>\n",
       "    </tr>\n",
       "    <tr>\n",
       "      <th id=\"T_db788_level0_row10\" class=\"row_heading level0 row10\" >10</th>\n",
       "      <td id=\"T_db788_row10_col0\" class=\"data row10 col0\" >High Cardinality Method</td>\n",
       "      <td id=\"T_db788_row10_col1\" class=\"data row10 col1\" >None</td>\n",
       "    </tr>\n",
       "    <tr>\n",
       "      <th id=\"T_db788_level0_row11\" class=\"row_heading level0 row11\" >11</th>\n",
       "      <td id=\"T_db788_row11_col0\" class=\"data row11 col0\" >Transformed Train Set</td>\n",
       "      <td id=\"T_db788_row11_col1\" class=\"data row11 col1\" >(3621, 4)</td>\n",
       "    </tr>\n",
       "    <tr>\n",
       "      <th id=\"T_db788_level0_row12\" class=\"row_heading level0 row12\" >12</th>\n",
       "      <td id=\"T_db788_row12_col0\" class=\"data row12 col0\" >Transformed Test Set</td>\n",
       "      <td id=\"T_db788_row12_col1\" class=\"data row12 col1\" >(1553, 4)</td>\n",
       "    </tr>\n",
       "    <tr>\n",
       "      <th id=\"T_db788_level0_row13\" class=\"row_heading level0 row13\" >13</th>\n",
       "      <td id=\"T_db788_row13_col0\" class=\"data row13 col0\" >Shuffle Train-Test</td>\n",
       "      <td id=\"T_db788_row13_col1\" class=\"data row13 col1\" >True</td>\n",
       "    </tr>\n",
       "    <tr>\n",
       "      <th id=\"T_db788_level0_row14\" class=\"row_heading level0 row14\" >14</th>\n",
       "      <td id=\"T_db788_row14_col0\" class=\"data row14 col0\" >Stratify Train-Test</td>\n",
       "      <td id=\"T_db788_row14_col1\" class=\"data row14 col1\" >False</td>\n",
       "    </tr>\n",
       "    <tr>\n",
       "      <th id=\"T_db788_level0_row15\" class=\"row_heading level0 row15\" >15</th>\n",
       "      <td id=\"T_db788_row15_col0\" class=\"data row15 col0\" >Fold Generator</td>\n",
       "      <td id=\"T_db788_row15_col1\" class=\"data row15 col1\" >StratifiedKFold</td>\n",
       "    </tr>\n",
       "    <tr>\n",
       "      <th id=\"T_db788_level0_row16\" class=\"row_heading level0 row16\" >16</th>\n",
       "      <td id=\"T_db788_row16_col0\" class=\"data row16 col0\" >Fold Number</td>\n",
       "      <td id=\"T_db788_row16_col1\" class=\"data row16 col1\" >10</td>\n",
       "    </tr>\n",
       "    <tr>\n",
       "      <th id=\"T_db788_level0_row17\" class=\"row_heading level0 row17\" >17</th>\n",
       "      <td id=\"T_db788_row17_col0\" class=\"data row17 col0\" >CPU Jobs</td>\n",
       "      <td id=\"T_db788_row17_col1\" class=\"data row17 col1\" >-1</td>\n",
       "    </tr>\n",
       "    <tr>\n",
       "      <th id=\"T_db788_level0_row18\" class=\"row_heading level0 row18\" >18</th>\n",
       "      <td id=\"T_db788_row18_col0\" class=\"data row18 col0\" >Use GPU</td>\n",
       "      <td id=\"T_db788_row18_col1\" class=\"data row18 col1\" >False</td>\n",
       "    </tr>\n",
       "    <tr>\n",
       "      <th id=\"T_db788_level0_row19\" class=\"row_heading level0 row19\" >19</th>\n",
       "      <td id=\"T_db788_row19_col0\" class=\"data row19 col0\" >Log Experiment</td>\n",
       "      <td id=\"T_db788_row19_col1\" class=\"data row19 col1\" >False</td>\n",
       "    </tr>\n",
       "    <tr>\n",
       "      <th id=\"T_db788_level0_row20\" class=\"row_heading level0 row20\" >20</th>\n",
       "      <td id=\"T_db788_row20_col0\" class=\"data row20 col0\" >Experiment Name</td>\n",
       "      <td id=\"T_db788_row20_col1\" class=\"data row20 col1\" >clf-default-name</td>\n",
       "    </tr>\n",
       "    <tr>\n",
       "      <th id=\"T_db788_level0_row21\" class=\"row_heading level0 row21\" >21</th>\n",
       "      <td id=\"T_db788_row21_col0\" class=\"data row21 col0\" >USI</td>\n",
       "      <td id=\"T_db788_row21_col1\" class=\"data row21 col1\" >bad0</td>\n",
       "    </tr>\n",
       "    <tr>\n",
       "      <th id=\"T_db788_level0_row22\" class=\"row_heading level0 row22\" >22</th>\n",
       "      <td id=\"T_db788_row22_col0\" class=\"data row22 col0\" >Imputation Type</td>\n",
       "      <td id=\"T_db788_row22_col1\" class=\"data row22 col1\" >simple</td>\n",
       "    </tr>\n",
       "    <tr>\n",
       "      <th id=\"T_db788_level0_row23\" class=\"row_heading level0 row23\" >23</th>\n",
       "      <td id=\"T_db788_row23_col0\" class=\"data row23 col0\" >Iterative Imputation Iteration</td>\n",
       "      <td id=\"T_db788_row23_col1\" class=\"data row23 col1\" >None</td>\n",
       "    </tr>\n",
       "    <tr>\n",
       "      <th id=\"T_db788_level0_row24\" class=\"row_heading level0 row24\" >24</th>\n",
       "      <td id=\"T_db788_row24_col0\" class=\"data row24 col0\" >Numeric Imputer</td>\n",
       "      <td id=\"T_db788_row24_col1\" class=\"data row24 col1\" >mean</td>\n",
       "    </tr>\n",
       "    <tr>\n",
       "      <th id=\"T_db788_level0_row25\" class=\"row_heading level0 row25\" >25</th>\n",
       "      <td id=\"T_db788_row25_col0\" class=\"data row25 col0\" >Iterative Imputation Numeric Model</td>\n",
       "      <td id=\"T_db788_row25_col1\" class=\"data row25 col1\" >None</td>\n",
       "    </tr>\n",
       "    <tr>\n",
       "      <th id=\"T_db788_level0_row26\" class=\"row_heading level0 row26\" >26</th>\n",
       "      <td id=\"T_db788_row26_col0\" class=\"data row26 col0\" >Categorical Imputer</td>\n",
       "      <td id=\"T_db788_row26_col1\" class=\"data row26 col1\" >constant</td>\n",
       "    </tr>\n",
       "    <tr>\n",
       "      <th id=\"T_db788_level0_row27\" class=\"row_heading level0 row27\" >27</th>\n",
       "      <td id=\"T_db788_row27_col0\" class=\"data row27 col0\" >Iterative Imputation Categorical Model</td>\n",
       "      <td id=\"T_db788_row27_col1\" class=\"data row27 col1\" >None</td>\n",
       "    </tr>\n",
       "    <tr>\n",
       "      <th id=\"T_db788_level0_row28\" class=\"row_heading level0 row28\" >28</th>\n",
       "      <td id=\"T_db788_row28_col0\" class=\"data row28 col0\" >Unknown Categoricals Handling</td>\n",
       "      <td id=\"T_db788_row28_col1\" class=\"data row28 col1\" >least_frequent</td>\n",
       "    </tr>\n",
       "    <tr>\n",
       "      <th id=\"T_db788_level0_row29\" class=\"row_heading level0 row29\" >29</th>\n",
       "      <td id=\"T_db788_row29_col0\" class=\"data row29 col0\" >Normalize</td>\n",
       "      <td id=\"T_db788_row29_col1\" class=\"data row29 col1\" >False</td>\n",
       "    </tr>\n",
       "    <tr>\n",
       "      <th id=\"T_db788_level0_row30\" class=\"row_heading level0 row30\" >30</th>\n",
       "      <td id=\"T_db788_row30_col0\" class=\"data row30 col0\" >Normalize Method</td>\n",
       "      <td id=\"T_db788_row30_col1\" class=\"data row30 col1\" >None</td>\n",
       "    </tr>\n",
       "    <tr>\n",
       "      <th id=\"T_db788_level0_row31\" class=\"row_heading level0 row31\" >31</th>\n",
       "      <td id=\"T_db788_row31_col0\" class=\"data row31 col0\" >Transformation</td>\n",
       "      <td id=\"T_db788_row31_col1\" class=\"data row31 col1\" >False</td>\n",
       "    </tr>\n",
       "    <tr>\n",
       "      <th id=\"T_db788_level0_row32\" class=\"row_heading level0 row32\" >32</th>\n",
       "      <td id=\"T_db788_row32_col0\" class=\"data row32 col0\" >Transformation Method</td>\n",
       "      <td id=\"T_db788_row32_col1\" class=\"data row32 col1\" >None</td>\n",
       "    </tr>\n",
       "    <tr>\n",
       "      <th id=\"T_db788_level0_row33\" class=\"row_heading level0 row33\" >33</th>\n",
       "      <td id=\"T_db788_row33_col0\" class=\"data row33 col0\" >PCA</td>\n",
       "      <td id=\"T_db788_row33_col1\" class=\"data row33 col1\" >False</td>\n",
       "    </tr>\n",
       "    <tr>\n",
       "      <th id=\"T_db788_level0_row34\" class=\"row_heading level0 row34\" >34</th>\n",
       "      <td id=\"T_db788_row34_col0\" class=\"data row34 col0\" >PCA Method</td>\n",
       "      <td id=\"T_db788_row34_col1\" class=\"data row34 col1\" >None</td>\n",
       "    </tr>\n",
       "    <tr>\n",
       "      <th id=\"T_db788_level0_row35\" class=\"row_heading level0 row35\" >35</th>\n",
       "      <td id=\"T_db788_row35_col0\" class=\"data row35 col0\" >PCA Components</td>\n",
       "      <td id=\"T_db788_row35_col1\" class=\"data row35 col1\" >None</td>\n",
       "    </tr>\n",
       "    <tr>\n",
       "      <th id=\"T_db788_level0_row36\" class=\"row_heading level0 row36\" >36</th>\n",
       "      <td id=\"T_db788_row36_col0\" class=\"data row36 col0\" >Ignore Low Variance</td>\n",
       "      <td id=\"T_db788_row36_col1\" class=\"data row36 col1\" >False</td>\n",
       "    </tr>\n",
       "    <tr>\n",
       "      <th id=\"T_db788_level0_row37\" class=\"row_heading level0 row37\" >37</th>\n",
       "      <td id=\"T_db788_row37_col0\" class=\"data row37 col0\" >Combine Rare Levels</td>\n",
       "      <td id=\"T_db788_row37_col1\" class=\"data row37 col1\" >False</td>\n",
       "    </tr>\n",
       "    <tr>\n",
       "      <th id=\"T_db788_level0_row38\" class=\"row_heading level0 row38\" >38</th>\n",
       "      <td id=\"T_db788_row38_col0\" class=\"data row38 col0\" >Rare Level Threshold</td>\n",
       "      <td id=\"T_db788_row38_col1\" class=\"data row38 col1\" >None</td>\n",
       "    </tr>\n",
       "    <tr>\n",
       "      <th id=\"T_db788_level0_row39\" class=\"row_heading level0 row39\" >39</th>\n",
       "      <td id=\"T_db788_row39_col0\" class=\"data row39 col0\" >Numeric Binning</td>\n",
       "      <td id=\"T_db788_row39_col1\" class=\"data row39 col1\" >False</td>\n",
       "    </tr>\n",
       "    <tr>\n",
       "      <th id=\"T_db788_level0_row40\" class=\"row_heading level0 row40\" >40</th>\n",
       "      <td id=\"T_db788_row40_col0\" class=\"data row40 col0\" >Remove Outliers</td>\n",
       "      <td id=\"T_db788_row40_col1\" class=\"data row40 col1\" >False</td>\n",
       "    </tr>\n",
       "    <tr>\n",
       "      <th id=\"T_db788_level0_row41\" class=\"row_heading level0 row41\" >41</th>\n",
       "      <td id=\"T_db788_row41_col0\" class=\"data row41 col0\" >Outliers Threshold</td>\n",
       "      <td id=\"T_db788_row41_col1\" class=\"data row41 col1\" >None</td>\n",
       "    </tr>\n",
       "    <tr>\n",
       "      <th id=\"T_db788_level0_row42\" class=\"row_heading level0 row42\" >42</th>\n",
       "      <td id=\"T_db788_row42_col0\" class=\"data row42 col0\" >Remove Multicollinearity</td>\n",
       "      <td id=\"T_db788_row42_col1\" class=\"data row42 col1\" >False</td>\n",
       "    </tr>\n",
       "    <tr>\n",
       "      <th id=\"T_db788_level0_row43\" class=\"row_heading level0 row43\" >43</th>\n",
       "      <td id=\"T_db788_row43_col0\" class=\"data row43 col0\" >Multicollinearity Threshold</td>\n",
       "      <td id=\"T_db788_row43_col1\" class=\"data row43 col1\" >None</td>\n",
       "    </tr>\n",
       "    <tr>\n",
       "      <th id=\"T_db788_level0_row44\" class=\"row_heading level0 row44\" >44</th>\n",
       "      <td id=\"T_db788_row44_col0\" class=\"data row44 col0\" >Remove Perfect Collinearity</td>\n",
       "      <td id=\"T_db788_row44_col1\" class=\"data row44 col1\" >True</td>\n",
       "    </tr>\n",
       "    <tr>\n",
       "      <th id=\"T_db788_level0_row45\" class=\"row_heading level0 row45\" >45</th>\n",
       "      <td id=\"T_db788_row45_col0\" class=\"data row45 col0\" >Clustering</td>\n",
       "      <td id=\"T_db788_row45_col1\" class=\"data row45 col1\" >False</td>\n",
       "    </tr>\n",
       "    <tr>\n",
       "      <th id=\"T_db788_level0_row46\" class=\"row_heading level0 row46\" >46</th>\n",
       "      <td id=\"T_db788_row46_col0\" class=\"data row46 col0\" >Clustering Iteration</td>\n",
       "      <td id=\"T_db788_row46_col1\" class=\"data row46 col1\" >None</td>\n",
       "    </tr>\n",
       "    <tr>\n",
       "      <th id=\"T_db788_level0_row47\" class=\"row_heading level0 row47\" >47</th>\n",
       "      <td id=\"T_db788_row47_col0\" class=\"data row47 col0\" >Polynomial Features</td>\n",
       "      <td id=\"T_db788_row47_col1\" class=\"data row47 col1\" >False</td>\n",
       "    </tr>\n",
       "    <tr>\n",
       "      <th id=\"T_db788_level0_row48\" class=\"row_heading level0 row48\" >48</th>\n",
       "      <td id=\"T_db788_row48_col0\" class=\"data row48 col0\" >Polynomial Degree</td>\n",
       "      <td id=\"T_db788_row48_col1\" class=\"data row48 col1\" >None</td>\n",
       "    </tr>\n",
       "    <tr>\n",
       "      <th id=\"T_db788_level0_row49\" class=\"row_heading level0 row49\" >49</th>\n",
       "      <td id=\"T_db788_row49_col0\" class=\"data row49 col0\" >Trignometry Features</td>\n",
       "      <td id=\"T_db788_row49_col1\" class=\"data row49 col1\" >False</td>\n",
       "    </tr>\n",
       "    <tr>\n",
       "      <th id=\"T_db788_level0_row50\" class=\"row_heading level0 row50\" >50</th>\n",
       "      <td id=\"T_db788_row50_col0\" class=\"data row50 col0\" >Polynomial Threshold</td>\n",
       "      <td id=\"T_db788_row50_col1\" class=\"data row50 col1\" >None</td>\n",
       "    </tr>\n",
       "    <tr>\n",
       "      <th id=\"T_db788_level0_row51\" class=\"row_heading level0 row51\" >51</th>\n",
       "      <td id=\"T_db788_row51_col0\" class=\"data row51 col0\" >Group Features</td>\n",
       "      <td id=\"T_db788_row51_col1\" class=\"data row51 col1\" >False</td>\n",
       "    </tr>\n",
       "    <tr>\n",
       "      <th id=\"T_db788_level0_row52\" class=\"row_heading level0 row52\" >52</th>\n",
       "      <td id=\"T_db788_row52_col0\" class=\"data row52 col0\" >Feature Selection</td>\n",
       "      <td id=\"T_db788_row52_col1\" class=\"data row52 col1\" >False</td>\n",
       "    </tr>\n",
       "    <tr>\n",
       "      <th id=\"T_db788_level0_row53\" class=\"row_heading level0 row53\" >53</th>\n",
       "      <td id=\"T_db788_row53_col0\" class=\"data row53 col0\" >Feature Selection Method</td>\n",
       "      <td id=\"T_db788_row53_col1\" class=\"data row53 col1\" >classic</td>\n",
       "    </tr>\n",
       "    <tr>\n",
       "      <th id=\"T_db788_level0_row54\" class=\"row_heading level0 row54\" >54</th>\n",
       "      <td id=\"T_db788_row54_col0\" class=\"data row54 col0\" >Features Selection Threshold</td>\n",
       "      <td id=\"T_db788_row54_col1\" class=\"data row54 col1\" >None</td>\n",
       "    </tr>\n",
       "    <tr>\n",
       "      <th id=\"T_db788_level0_row55\" class=\"row_heading level0 row55\" >55</th>\n",
       "      <td id=\"T_db788_row55_col0\" class=\"data row55 col0\" >Feature Interaction</td>\n",
       "      <td id=\"T_db788_row55_col1\" class=\"data row55 col1\" >False</td>\n",
       "    </tr>\n",
       "    <tr>\n",
       "      <th id=\"T_db788_level0_row56\" class=\"row_heading level0 row56\" >56</th>\n",
       "      <td id=\"T_db788_row56_col0\" class=\"data row56 col0\" >Feature Ratio</td>\n",
       "      <td id=\"T_db788_row56_col1\" class=\"data row56 col1\" >False</td>\n",
       "    </tr>\n",
       "    <tr>\n",
       "      <th id=\"T_db788_level0_row57\" class=\"row_heading level0 row57\" >57</th>\n",
       "      <td id=\"T_db788_row57_col0\" class=\"data row57 col0\" >Interaction Threshold</td>\n",
       "      <td id=\"T_db788_row57_col1\" class=\"data row57 col1\" >None</td>\n",
       "    </tr>\n",
       "    <tr>\n",
       "      <th id=\"T_db788_level0_row58\" class=\"row_heading level0 row58\" >58</th>\n",
       "      <td id=\"T_db788_row58_col0\" class=\"data row58 col0\" >Fix Imbalance</td>\n",
       "      <td id=\"T_db788_row58_col1\" class=\"data row58 col1\" >False</td>\n",
       "    </tr>\n",
       "    <tr>\n",
       "      <th id=\"T_db788_level0_row59\" class=\"row_heading level0 row59\" >59</th>\n",
       "      <td id=\"T_db788_row59_col0\" class=\"data row59 col0\" >Fix Imbalance Method</td>\n",
       "      <td id=\"T_db788_row59_col1\" class=\"data row59 col1\" >SMOTE</td>\n",
       "    </tr>\n",
       "  </tbody>\n",
       "</table>\n"
      ],
      "text/plain": [
       "<pandas.io.formats.style.Styler at 0x7fbec8a11a30>"
      ]
     },
     "metadata": {},
     "output_type": "display_data"
    }
   ],
   "source": [
    "exp_name = setup(data = data,\n",
    "                 target = 'Current_Market',\n",
    "#                 fold_shuffle=True,\n",
    "                 session_id=123,\n",
    "                 silent=True,\n",
    "#                 n_jobs = 64,\n",
    "#                 imputation_type='iterative'\n",
    "                ) "
   ]
  },
  {
   "cell_type": "code",
   "execution_count": 49,
   "metadata": {},
   "outputs": [
    {
     "data": {
      "text/html": [
       "<style type=\"text/css\">\n",
       "#T_088f7_ th {\n",
       "  text-align: left;\n",
       "}\n",
       "#T_088f7_row0_col0, #T_088f7_row0_col3, #T_088f7_row0_col5, #T_088f7_row1_col0, #T_088f7_row1_col1, #T_088f7_row1_col2, #T_088f7_row1_col3, #T_088f7_row1_col4, #T_088f7_row1_col5, #T_088f7_row1_col6, #T_088f7_row1_col7, #T_088f7_row2_col0, #T_088f7_row2_col1, #T_088f7_row2_col2, #T_088f7_row2_col3, #T_088f7_row2_col4, #T_088f7_row2_col5, #T_088f7_row2_col6, #T_088f7_row2_col7, #T_088f7_row3_col0, #T_088f7_row3_col1, #T_088f7_row3_col2, #T_088f7_row3_col3, #T_088f7_row3_col4, #T_088f7_row3_col5, #T_088f7_row3_col6, #T_088f7_row3_col7, #T_088f7_row4_col0, #T_088f7_row4_col1, #T_088f7_row4_col2, #T_088f7_row4_col3, #T_088f7_row4_col4, #T_088f7_row4_col5, #T_088f7_row4_col6, #T_088f7_row4_col7, #T_088f7_row5_col0, #T_088f7_row5_col1, #T_088f7_row5_col2, #T_088f7_row5_col3, #T_088f7_row5_col4, #T_088f7_row5_col5, #T_088f7_row5_col6, #T_088f7_row5_col7, #T_088f7_row6_col0, #T_088f7_row6_col1, #T_088f7_row6_col2, #T_088f7_row6_col3, #T_088f7_row6_col4, #T_088f7_row6_col5, #T_088f7_row6_col6, #T_088f7_row6_col7, #T_088f7_row7_col0, #T_088f7_row7_col1, #T_088f7_row7_col2, #T_088f7_row7_col3, #T_088f7_row7_col4, #T_088f7_row7_col5, #T_088f7_row7_col6, #T_088f7_row7_col7, #T_088f7_row8_col0, #T_088f7_row8_col1, #T_088f7_row8_col2, #T_088f7_row8_col4, #T_088f7_row8_col6, #T_088f7_row8_col7, #T_088f7_row9_col0, #T_088f7_row9_col1, #T_088f7_row9_col2, #T_088f7_row9_col4, #T_088f7_row9_col6, #T_088f7_row9_col7, #T_088f7_row10_col0, #T_088f7_row10_col1, #T_088f7_row10_col2, #T_088f7_row10_col4, #T_088f7_row10_col6, #T_088f7_row10_col7, #T_088f7_row11_col0, #T_088f7_row11_col1, #T_088f7_row11_col2, #T_088f7_row11_col3, #T_088f7_row11_col4, #T_088f7_row11_col5, #T_088f7_row11_col6, #T_088f7_row11_col7, #T_088f7_row12_col0, #T_088f7_row12_col1, #T_088f7_row12_col2, #T_088f7_row12_col3, #T_088f7_row12_col4, #T_088f7_row12_col5, #T_088f7_row12_col6, #T_088f7_row12_col7 {\n",
       "  text-align: left;\n",
       "}\n",
       "#T_088f7_row0_col1, #T_088f7_row0_col2, #T_088f7_row0_col4, #T_088f7_row0_col6, #T_088f7_row0_col7, #T_088f7_row8_col3, #T_088f7_row8_col5, #T_088f7_row9_col3, #T_088f7_row9_col5, #T_088f7_row10_col3, #T_088f7_row10_col5 {\n",
       "  text-align: left;\n",
       "  background-color: yellow;\n",
       "}\n",
       "#T_088f7_row0_col8 {\n",
       "  text-align: left;\n",
       "  background-color: yellow;\n",
       "  background-color: lightgrey;\n",
       "}\n",
       "#T_088f7_row1_col8, #T_088f7_row2_col8, #T_088f7_row3_col8, #T_088f7_row4_col8, #T_088f7_row5_col8, #T_088f7_row6_col8, #T_088f7_row7_col8, #T_088f7_row8_col8, #T_088f7_row9_col8, #T_088f7_row10_col8, #T_088f7_row11_col8, #T_088f7_row12_col8 {\n",
       "  text-align: left;\n",
       "  background-color: lightgrey;\n",
       "}\n",
       "</style>\n",
       "<table id=\"T_088f7_\">\n",
       "  <thead>\n",
       "    <tr>\n",
       "      <th class=\"blank level0\" >&nbsp;</th>\n",
       "      <th class=\"col_heading level0 col0\" >Model</th>\n",
       "      <th class=\"col_heading level0 col1\" >Accuracy</th>\n",
       "      <th class=\"col_heading level0 col2\" >AUC</th>\n",
       "      <th class=\"col_heading level0 col3\" >Recall</th>\n",
       "      <th class=\"col_heading level0 col4\" >Prec.</th>\n",
       "      <th class=\"col_heading level0 col5\" >F1</th>\n",
       "      <th class=\"col_heading level0 col6\" >Kappa</th>\n",
       "      <th class=\"col_heading level0 col7\" >MCC</th>\n",
       "      <th class=\"col_heading level0 col8\" >TT (Sec)</th>\n",
       "    </tr>\n",
       "  </thead>\n",
       "  <tbody>\n",
       "    <tr>\n",
       "      <th id=\"T_088f7_level0_row0\" class=\"row_heading level0 row0\" >qda</th>\n",
       "      <td id=\"T_088f7_row0_col0\" class=\"data row0 col0\" >Quadratic Discriminant Analysis</td>\n",
       "      <td id=\"T_088f7_row0_col1\" class=\"data row0 col1\" >0.5101</td>\n",
       "      <td id=\"T_088f7_row0_col2\" class=\"data row0 col2\" >0.5266</td>\n",
       "      <td id=\"T_088f7_row0_col3\" class=\"data row0 col3\" >0.5047</td>\n",
       "      <td id=\"T_088f7_row0_col4\" class=\"data row0 col4\" >0.5141</td>\n",
       "      <td id=\"T_088f7_row0_col5\" class=\"data row0 col5\" >0.5088</td>\n",
       "      <td id=\"T_088f7_row0_col6\" class=\"data row0 col6\" >0.0204</td>\n",
       "      <td id=\"T_088f7_row0_col7\" class=\"data row0 col7\" >0.0204</td>\n",
       "      <td id=\"T_088f7_row0_col8\" class=\"data row0 col8\" >0.0050</td>\n",
       "    </tr>\n",
       "    <tr>\n",
       "      <th id=\"T_088f7_level0_row1\" class=\"row_heading level0 row1\" >knn</th>\n",
       "      <td id=\"T_088f7_row1_col0\" class=\"data row1 col0\" >K Neighbors Classifier</td>\n",
       "      <td id=\"T_088f7_row1_col1\" class=\"data row1 col1\" >0.5018</td>\n",
       "      <td id=\"T_088f7_row1_col2\" class=\"data row1 col2\" >0.4926</td>\n",
       "      <td id=\"T_088f7_row1_col3\" class=\"data row1 col3\" >0.5227</td>\n",
       "      <td id=\"T_088f7_row1_col4\" class=\"data row1 col4\" >0.5054</td>\n",
       "      <td id=\"T_088f7_row1_col5\" class=\"data row1 col5\" >0.5137</td>\n",
       "      <td id=\"T_088f7_row1_col6\" class=\"data row1 col6\" >0.0032</td>\n",
       "      <td id=\"T_088f7_row1_col7\" class=\"data row1 col7\" >0.0032</td>\n",
       "      <td id=\"T_088f7_row1_col8\" class=\"data row1 col8\" >0.1890</td>\n",
       "    </tr>\n",
       "    <tr>\n",
       "      <th id=\"T_088f7_level0_row2\" class=\"row_heading level0 row2\" >et</th>\n",
       "      <td id=\"T_088f7_row2_col0\" class=\"data row2 col0\" >Extra Trees Classifier</td>\n",
       "      <td id=\"T_088f7_row2_col1\" class=\"data row2 col1\" >0.5010</td>\n",
       "      <td id=\"T_088f7_row2_col2\" class=\"data row2 col2\" >0.4972</td>\n",
       "      <td id=\"T_088f7_row2_col3\" class=\"data row2 col3\" >0.5014</td>\n",
       "      <td id=\"T_088f7_row2_col4\" class=\"data row2 col4\" >0.5051</td>\n",
       "      <td id=\"T_088f7_row2_col5\" class=\"data row2 col5\" >0.5031</td>\n",
       "      <td id=\"T_088f7_row2_col6\" class=\"data row2 col6\" >0.0019</td>\n",
       "      <td id=\"T_088f7_row2_col7\" class=\"data row2 col7\" >0.0019</td>\n",
       "      <td id=\"T_088f7_row2_col8\" class=\"data row2 col8\" >0.0880</td>\n",
       "    </tr>\n",
       "    <tr>\n",
       "      <th id=\"T_088f7_level0_row3\" class=\"row_heading level0 row3\" >dt</th>\n",
       "      <td id=\"T_088f7_row3_col0\" class=\"data row3 col0\" >Decision Tree Classifier</td>\n",
       "      <td id=\"T_088f7_row3_col1\" class=\"data row3 col1\" >0.5001</td>\n",
       "      <td id=\"T_088f7_row3_col2\" class=\"data row3 col2\" >0.5000</td>\n",
       "      <td id=\"T_088f7_row3_col3\" class=\"data row3 col3\" >0.5102</td>\n",
       "      <td id=\"T_088f7_row3_col4\" class=\"data row3 col4\" >0.5041</td>\n",
       "      <td id=\"T_088f7_row3_col5\" class=\"data row3 col5\" >0.5070</td>\n",
       "      <td id=\"T_088f7_row3_col6\" class=\"data row3 col6\" >0.0001</td>\n",
       "      <td id=\"T_088f7_row3_col7\" class=\"data row3 col7\" >0.0001</td>\n",
       "      <td id=\"T_088f7_row3_col8\" class=\"data row3 col8\" >0.1710</td>\n",
       "    </tr>\n",
       "    <tr>\n",
       "      <th id=\"T_088f7_level0_row4\" class=\"row_heading level0 row4\" >ada</th>\n",
       "      <td id=\"T_088f7_row4_col0\" class=\"data row4 col0\" >Ada Boost Classifier</td>\n",
       "      <td id=\"T_088f7_row4_col1\" class=\"data row4 col1\" >0.4990</td>\n",
       "      <td id=\"T_088f7_row4_col2\" class=\"data row4 col2\" >0.4943</td>\n",
       "      <td id=\"T_088f7_row4_col3\" class=\"data row4 col3\" >0.5080</td>\n",
       "      <td id=\"T_088f7_row4_col4\" class=\"data row4 col4\" >0.5034</td>\n",
       "      <td id=\"T_088f7_row4_col5\" class=\"data row4 col5\" >0.5053</td>\n",
       "      <td id=\"T_088f7_row4_col6\" class=\"data row4 col6\" >-0.0021</td>\n",
       "      <td id=\"T_088f7_row4_col7\" class=\"data row4 col7\" >-0.0021</td>\n",
       "      <td id=\"T_088f7_row4_col8\" class=\"data row4 col8\" >0.0290</td>\n",
       "    </tr>\n",
       "    <tr>\n",
       "      <th id=\"T_088f7_level0_row5\" class=\"row_heading level0 row5\" >gbc</th>\n",
       "      <td id=\"T_088f7_row5_col0\" class=\"data row5 col0\" >Gradient Boosting Classifier</td>\n",
       "      <td id=\"T_088f7_row5_col1\" class=\"data row5 col1\" >0.4982</td>\n",
       "      <td id=\"T_088f7_row5_col2\" class=\"data row5 col2\" >0.5027</td>\n",
       "      <td id=\"T_088f7_row5_col3\" class=\"data row5 col3\" >0.5129</td>\n",
       "      <td id=\"T_088f7_row5_col4\" class=\"data row5 col4\" >0.5019</td>\n",
       "      <td id=\"T_088f7_row5_col5\" class=\"data row5 col5\" >0.5070</td>\n",
       "      <td id=\"T_088f7_row5_col6\" class=\"data row5 col6\" >-0.0038</td>\n",
       "      <td id=\"T_088f7_row5_col7\" class=\"data row5 col7\" >-0.0038</td>\n",
       "      <td id=\"T_088f7_row5_col8\" class=\"data row5 col8\" >0.0700</td>\n",
       "    </tr>\n",
       "    <tr>\n",
       "      <th id=\"T_088f7_level0_row6\" class=\"row_heading level0 row6\" >lightgbm</th>\n",
       "      <td id=\"T_088f7_row6_col0\" class=\"data row6 col0\" >Light Gradient Boosting Machine</td>\n",
       "      <td id=\"T_088f7_row6_col1\" class=\"data row6 col1\" >0.4982</td>\n",
       "      <td id=\"T_088f7_row6_col2\" class=\"data row6 col2\" >0.4993</td>\n",
       "      <td id=\"T_088f7_row6_col3\" class=\"data row6 col3\" >0.5063</td>\n",
       "      <td id=\"T_088f7_row6_col4\" class=\"data row6 col4\" >0.5023</td>\n",
       "      <td id=\"T_088f7_row6_col5\" class=\"data row6 col5\" >0.5039</td>\n",
       "      <td id=\"T_088f7_row6_col6\" class=\"data row6 col6\" >-0.0037</td>\n",
       "      <td id=\"T_088f7_row6_col7\" class=\"data row6 col7\" >-0.0037</td>\n",
       "      <td id=\"T_088f7_row6_col8\" class=\"data row6 col8\" >0.0220</td>\n",
       "    </tr>\n",
       "    <tr>\n",
       "      <th id=\"T_088f7_level0_row7\" class=\"row_heading level0 row7\" >nb</th>\n",
       "      <td id=\"T_088f7_row7_col0\" class=\"data row7 col0\" >Naive Bayes</td>\n",
       "      <td id=\"T_088f7_row7_col1\" class=\"data row7 col1\" >0.4949</td>\n",
       "      <td id=\"T_088f7_row7_col2\" class=\"data row7 col2\" >0.5018</td>\n",
       "      <td id=\"T_088f7_row7_col3\" class=\"data row7 col3\" >0.5463</td>\n",
       "      <td id=\"T_088f7_row7_col4\" class=\"data row7 col4\" >0.4990</td>\n",
       "      <td id=\"T_088f7_row7_col5\" class=\"data row7 col5\" >0.5212</td>\n",
       "      <td id=\"T_088f7_row7_col6\" class=\"data row7 col6\" >-0.0110</td>\n",
       "      <td id=\"T_088f7_row7_col7\" class=\"data row7 col7\" >-0.0111</td>\n",
       "      <td id=\"T_088f7_row7_col8\" class=\"data row7 col8\" >0.1610</td>\n",
       "    </tr>\n",
       "    <tr>\n",
       "      <th id=\"T_088f7_level0_row8\" class=\"row_heading level0 row8\" >lr</th>\n",
       "      <td id=\"T_088f7_row8_col0\" class=\"data row8 col0\" >Logistic Regression</td>\n",
       "      <td id=\"T_088f7_row8_col1\" class=\"data row8 col1\" >0.4943</td>\n",
       "      <td id=\"T_088f7_row8_col2\" class=\"data row8 col2\" >0.4953</td>\n",
       "      <td id=\"T_088f7_row8_col3\" class=\"data row8 col3\" >0.6094</td>\n",
       "      <td id=\"T_088f7_row8_col4\" class=\"data row8 col4\" >0.4978</td>\n",
       "      <td id=\"T_088f7_row8_col5\" class=\"data row8 col5\" >0.5473</td>\n",
       "      <td id=\"T_088f7_row8_col6\" class=\"data row8 col6\" >-0.0131</td>\n",
       "      <td id=\"T_088f7_row8_col7\" class=\"data row8 col7\" >-0.0128</td>\n",
       "      <td id=\"T_088f7_row8_col8\" class=\"data row8 col8\" >0.2770</td>\n",
       "    </tr>\n",
       "    <tr>\n",
       "      <th id=\"T_088f7_level0_row9\" class=\"row_heading level0 row9\" >ridge</th>\n",
       "      <td id=\"T_088f7_row9_col0\" class=\"data row9 col0\" >Ridge Classifier</td>\n",
       "      <td id=\"T_088f7_row9_col1\" class=\"data row9 col1\" >0.4943</td>\n",
       "      <td id=\"T_088f7_row9_col2\" class=\"data row9 col2\" >0.0000</td>\n",
       "      <td id=\"T_088f7_row9_col3\" class=\"data row9 col3\" >0.6094</td>\n",
       "      <td id=\"T_088f7_row9_col4\" class=\"data row9 col4\" >0.4978</td>\n",
       "      <td id=\"T_088f7_row9_col5\" class=\"data row9 col5\" >0.5473</td>\n",
       "      <td id=\"T_088f7_row9_col6\" class=\"data row9 col6\" >-0.0131</td>\n",
       "      <td id=\"T_088f7_row9_col7\" class=\"data row9 col7\" >-0.0128</td>\n",
       "      <td id=\"T_088f7_row9_col8\" class=\"data row9 col8\" >0.1680</td>\n",
       "    </tr>\n",
       "    <tr>\n",
       "      <th id=\"T_088f7_level0_row10\" class=\"row_heading level0 row10\" >lda</th>\n",
       "      <td id=\"T_088f7_row10_col0\" class=\"data row10 col0\" >Linear Discriminant Analysis</td>\n",
       "      <td id=\"T_088f7_row10_col1\" class=\"data row10 col1\" >0.4943</td>\n",
       "      <td id=\"T_088f7_row10_col2\" class=\"data row10 col2\" >0.4953</td>\n",
       "      <td id=\"T_088f7_row10_col3\" class=\"data row10 col3\" >0.6094</td>\n",
       "      <td id=\"T_088f7_row10_col4\" class=\"data row10 col4\" >0.4978</td>\n",
       "      <td id=\"T_088f7_row10_col5\" class=\"data row10 col5\" >0.5473</td>\n",
       "      <td id=\"T_088f7_row10_col6\" class=\"data row10 col6\" >-0.0131</td>\n",
       "      <td id=\"T_088f7_row10_col7\" class=\"data row10 col7\" >-0.0128</td>\n",
       "      <td id=\"T_088f7_row10_col8\" class=\"data row10 col8\" >0.0060</td>\n",
       "    </tr>\n",
       "    <tr>\n",
       "      <th id=\"T_088f7_level0_row11\" class=\"row_heading level0 row11\" >svm</th>\n",
       "      <td id=\"T_088f7_row11_col0\" class=\"data row11 col0\" >SVM - Linear Kernel</td>\n",
       "      <td id=\"T_088f7_row11_col1\" class=\"data row11 col1\" >0.4899</td>\n",
       "      <td id=\"T_088f7_row11_col2\" class=\"data row11 col2\" >0.0000</td>\n",
       "      <td id=\"T_088f7_row11_col3\" class=\"data row11 col3\" >0.4970</td>\n",
       "      <td id=\"T_088f7_row11_col4\" class=\"data row11 col4\" >0.4945</td>\n",
       "      <td id=\"T_088f7_row11_col5\" class=\"data row11 col5\" >0.4955</td>\n",
       "      <td id=\"T_088f7_row11_col6\" class=\"data row11 col6\" >-0.0202</td>\n",
       "      <td id=\"T_088f7_row11_col7\" class=\"data row11 col7\" >-0.0202</td>\n",
       "      <td id=\"T_088f7_row11_col8\" class=\"data row11 col8\" >0.1750</td>\n",
       "    </tr>\n",
       "    <tr>\n",
       "      <th id=\"T_088f7_level0_row12\" class=\"row_heading level0 row12\" >rf</th>\n",
       "      <td id=\"T_088f7_row12_col0\" class=\"data row12 col0\" >Random Forest Classifier</td>\n",
       "      <td id=\"T_088f7_row12_col1\" class=\"data row12 col1\" >0.4838</td>\n",
       "      <td id=\"T_088f7_row12_col2\" class=\"data row12 col2\" >0.4874</td>\n",
       "      <td id=\"T_088f7_row12_col3\" class=\"data row12 col3\" >0.4811</td>\n",
       "      <td id=\"T_088f7_row12_col4\" class=\"data row12 col4\" >0.4877</td>\n",
       "      <td id=\"T_088f7_row12_col5\" class=\"data row12 col5\" >0.4841</td>\n",
       "      <td id=\"T_088f7_row12_col6\" class=\"data row12 col6\" >-0.0322</td>\n",
       "      <td id=\"T_088f7_row12_col7\" class=\"data row12 col7\" >-0.0323</td>\n",
       "      <td id=\"T_088f7_row12_col8\" class=\"data row12 col8\" >0.2590</td>\n",
       "    </tr>\n",
       "  </tbody>\n",
       "</table>\n"
      ],
      "text/plain": [
       "<pandas.io.formats.style.Styler at 0x7fbec8a11df0>"
      ]
     },
     "metadata": {},
     "output_type": "display_data"
    },
    {
     "data": {
      "text/plain": [
       "QuadraticDiscriminantAnalysis(priors=None, reg_param=0.0,\n",
       "                              store_covariance=False, tol=0.0001)"
      ]
     },
     "execution_count": 49,
     "metadata": {},
     "output_type": "execute_result"
    }
   ],
   "source": [
    "compare_models()"
   ]
  },
  {
   "cell_type": "code",
   "execution_count": 50,
   "metadata": {},
   "outputs": [],
   "source": [
    "with open ('back_test_pipeline_settings.yaml') as ymlfile:\n",
    "    cfg = yaml.safe_load(ymlfile)\n",
    "    model = cfg['model']['name']"
   ]
  },
  {
   "cell_type": "code",
   "execution_count": 51,
   "metadata": {},
   "outputs": [
    {
     "name": "stdout",
     "output_type": "stream",
     "text": [
      "Model Name: knn\n"
     ]
    }
   ],
   "source": [
    "print('Model Name:', model)"
   ]
  },
  {
   "cell_type": "code",
   "execution_count": 53,
   "metadata": {},
   "outputs": [
    {
     "data": {
      "text/html": [
       "<style type=\"text/css\">\n",
       "#T_7795e_row10_col0, #T_7795e_row10_col1, #T_7795e_row10_col2, #T_7795e_row10_col3, #T_7795e_row10_col4, #T_7795e_row10_col5, #T_7795e_row10_col6 {\n",
       "  background: yellow;\n",
       "}\n",
       "</style>\n",
       "<table id=\"T_7795e_\">\n",
       "  <thead>\n",
       "    <tr>\n",
       "      <th class=\"blank level0\" >&nbsp;</th>\n",
       "      <th class=\"col_heading level0 col0\" >Accuracy</th>\n",
       "      <th class=\"col_heading level0 col1\" >AUC</th>\n",
       "      <th class=\"col_heading level0 col2\" >Recall</th>\n",
       "      <th class=\"col_heading level0 col3\" >Prec.</th>\n",
       "      <th class=\"col_heading level0 col4\" >F1</th>\n",
       "      <th class=\"col_heading level0 col5\" >Kappa</th>\n",
       "      <th class=\"col_heading level0 col6\" >MCC</th>\n",
       "    </tr>\n",
       "  </thead>\n",
       "  <tbody>\n",
       "    <tr>\n",
       "      <th id=\"T_7795e_level0_row0\" class=\"row_heading level0 row0\" >0</th>\n",
       "      <td id=\"T_7795e_row0_col0\" class=\"data row0 col0\" >0.5096</td>\n",
       "      <td id=\"T_7795e_row0_col1\" class=\"data row0 col1\" >0.4767</td>\n",
       "      <td id=\"T_7795e_row0_col2\" class=\"data row0 col2\" >0.5574</td>\n",
       "      <td id=\"T_7795e_row0_col3\" class=\"data row0 col3\" >0.5126</td>\n",
       "      <td id=\"T_7795e_row0_col4\" class=\"data row0 col4\" >0.5340</td>\n",
       "      <td id=\"T_7795e_row0_col5\" class=\"data row0 col5\" >0.0185</td>\n",
       "      <td id=\"T_7795e_row0_col6\" class=\"data row0 col6\" >0.0186</td>\n",
       "    </tr>\n",
       "    <tr>\n",
       "      <th id=\"T_7795e_level0_row1\" class=\"row_heading level0 row1\" >1</th>\n",
       "      <td id=\"T_7795e_row1_col0\" class=\"data row1 col0\" >0.4669</td>\n",
       "      <td id=\"T_7795e_row1_col1\" class=\"data row1 col1\" >0.4533</td>\n",
       "      <td id=\"T_7795e_row1_col2\" class=\"data row1 col2\" >0.4754</td>\n",
       "      <td id=\"T_7795e_row1_col3\" class=\"data row1 col3\" >0.4728</td>\n",
       "      <td id=\"T_7795e_row1_col4\" class=\"data row1 col4\" >0.4741</td>\n",
       "      <td id=\"T_7795e_row1_col5\" class=\"data row1 col5\" >-0.0665</td>\n",
       "      <td id=\"T_7795e_row1_col6\" class=\"data row1 col6\" >-0.0665</td>\n",
       "    </tr>\n",
       "    <tr>\n",
       "      <th id=\"T_7795e_level0_row2\" class=\"row_heading level0 row2\" >2</th>\n",
       "      <td id=\"T_7795e_row2_col0\" class=\"data row2 col0\" >0.5000</td>\n",
       "      <td id=\"T_7795e_row2_col1\" class=\"data row2 col1\" >0.5054</td>\n",
       "      <td id=\"T_7795e_row2_col2\" class=\"data row2 col2\" >0.5355</td>\n",
       "      <td id=\"T_7795e_row2_col3\" class=\"data row2 col3\" >0.5052</td>\n",
       "      <td id=\"T_7795e_row2_col4\" class=\"data row2 col4\" >0.5199</td>\n",
       "      <td id=\"T_7795e_row2_col5\" class=\"data row2 col5\" >-0.0008</td>\n",
       "      <td id=\"T_7795e_row2_col6\" class=\"data row2 col6\" >-0.0008</td>\n",
       "    </tr>\n",
       "    <tr>\n",
       "      <th id=\"T_7795e_level0_row3\" class=\"row_heading level0 row3\" >3</th>\n",
       "      <td id=\"T_7795e_row3_col0\" class=\"data row3 col0\" >0.5331</td>\n",
       "      <td id=\"T_7795e_row3_col1\" class=\"data row3 col1\" >0.5222</td>\n",
       "      <td id=\"T_7795e_row3_col2\" class=\"data row3 col2\" >0.5574</td>\n",
       "      <td id=\"T_7795e_row3_col3\" class=\"data row3 col3\" >0.5368</td>\n",
       "      <td id=\"T_7795e_row3_col4\" class=\"data row3 col4\" >0.5469</td>\n",
       "      <td id=\"T_7795e_row3_col5\" class=\"data row3 col5\" >0.0658</td>\n",
       "      <td id=\"T_7795e_row3_col6\" class=\"data row3 col6\" >0.0658</td>\n",
       "    </tr>\n",
       "    <tr>\n",
       "      <th id=\"T_7795e_level0_row4\" class=\"row_heading level0 row4\" >4</th>\n",
       "      <td id=\"T_7795e_row4_col0\" class=\"data row4 col0\" >0.5000</td>\n",
       "      <td id=\"T_7795e_row4_col1\" class=\"data row4 col1\" >0.4926</td>\n",
       "      <td id=\"T_7795e_row4_col2\" class=\"data row4 col2\" >0.5410</td>\n",
       "      <td id=\"T_7795e_row4_col3\" class=\"data row4 col3\" >0.5051</td>\n",
       "      <td id=\"T_7795e_row4_col4\" class=\"data row4 col4\" >0.5224</td>\n",
       "      <td id=\"T_7795e_row4_col5\" class=\"data row4 col5\" >-0.0009</td>\n",
       "      <td id=\"T_7795e_row4_col6\" class=\"data row4 col6\" >-0.0009</td>\n",
       "    </tr>\n",
       "    <tr>\n",
       "      <th id=\"T_7795e_level0_row5\" class=\"row_heading level0 row5\" >5</th>\n",
       "      <td id=\"T_7795e_row5_col0\" class=\"data row5 col0\" >0.5138</td>\n",
       "      <td id=\"T_7795e_row5_col1\" class=\"data row5 col1\" >0.5132</td>\n",
       "      <td id=\"T_7795e_row5_col2\" class=\"data row5 col2\" >0.5165</td>\n",
       "      <td id=\"T_7795e_row5_col3\" class=\"data row5 col3\" >0.5165</td>\n",
       "      <td id=\"T_7795e_row5_col4\" class=\"data row5 col4\" >0.5165</td>\n",
       "      <td id=\"T_7795e_row5_col5\" class=\"data row5 col5\" >0.0276</td>\n",
       "      <td id=\"T_7795e_row5_col6\" class=\"data row5 col6\" >0.0276</td>\n",
       "    </tr>\n",
       "    <tr>\n",
       "      <th id=\"T_7795e_level0_row6\" class=\"row_heading level0 row6\" >6</th>\n",
       "      <td id=\"T_7795e_row6_col0\" class=\"data row6 col0\" >0.4972</td>\n",
       "      <td id=\"T_7795e_row6_col1\" class=\"data row6 col1\" >0.4904</td>\n",
       "      <td id=\"T_7795e_row6_col2\" class=\"data row6 col2\" >0.5330</td>\n",
       "      <td id=\"T_7795e_row6_col3\" class=\"data row6 col3\" >0.5000</td>\n",
       "      <td id=\"T_7795e_row6_col4\" class=\"data row6 col4\" >0.5160</td>\n",
       "      <td id=\"T_7795e_row6_col5\" class=\"data row6 col5\" >-0.0059</td>\n",
       "      <td id=\"T_7795e_row6_col6\" class=\"data row6 col6\" >-0.0059</td>\n",
       "    </tr>\n",
       "    <tr>\n",
       "      <th id=\"T_7795e_level0_row7\" class=\"row_heading level0 row7\" >7</th>\n",
       "      <td id=\"T_7795e_row7_col0\" class=\"data row7 col0\" >0.4779</td>\n",
       "      <td id=\"T_7795e_row7_col1\" class=\"data row7 col1\" >0.4690</td>\n",
       "      <td id=\"T_7795e_row7_col2\" class=\"data row7 col2\" >0.4835</td>\n",
       "      <td id=\"T_7795e_row7_col3\" class=\"data row7 col3\" >0.4809</td>\n",
       "      <td id=\"T_7795e_row7_col4\" class=\"data row7 col4\" >0.4822</td>\n",
       "      <td id=\"T_7795e_row7_col5\" class=\"data row7 col5\" >-0.0443</td>\n",
       "      <td id=\"T_7795e_row7_col6\" class=\"data row7 col6\" >-0.0443</td>\n",
       "    </tr>\n",
       "    <tr>\n",
       "      <th id=\"T_7795e_level0_row8\" class=\"row_heading level0 row8\" >8</th>\n",
       "      <td id=\"T_7795e_row8_col0\" class=\"data row8 col0\" >0.5359</td>\n",
       "      <td id=\"T_7795e_row8_col1\" class=\"data row8 col1\" >0.5237</td>\n",
       "      <td id=\"T_7795e_row8_col2\" class=\"data row8 col2\" >0.5495</td>\n",
       "      <td id=\"T_7795e_row8_col3\" class=\"data row8 col3\" >0.5376</td>\n",
       "      <td id=\"T_7795e_row8_col4\" class=\"data row8 col4\" >0.5435</td>\n",
       "      <td id=\"T_7795e_row8_col5\" class=\"data row8 col5\" >0.0717</td>\n",
       "      <td id=\"T_7795e_row8_col6\" class=\"data row8 col6\" >0.0717</td>\n",
       "    </tr>\n",
       "    <tr>\n",
       "      <th id=\"T_7795e_level0_row9\" class=\"row_heading level0 row9\" >9</th>\n",
       "      <td id=\"T_7795e_row9_col0\" class=\"data row9 col0\" >0.4834</td>\n",
       "      <td id=\"T_7795e_row9_col1\" class=\"data row9 col1\" >0.4790</td>\n",
       "      <td id=\"T_7795e_row9_col2\" class=\"data row9 col2\" >0.4780</td>\n",
       "      <td id=\"T_7795e_row9_col3\" class=\"data row9 col3\" >0.4860</td>\n",
       "      <td id=\"T_7795e_row9_col4\" class=\"data row9 col4\" >0.4820</td>\n",
       "      <td id=\"T_7795e_row9_col5\" class=\"data row9 col5\" >-0.0331</td>\n",
       "      <td id=\"T_7795e_row9_col6\" class=\"data row9 col6\" >-0.0331</td>\n",
       "    </tr>\n",
       "    <tr>\n",
       "      <th id=\"T_7795e_level0_row10\" class=\"row_heading level0 row10\" >Mean</th>\n",
       "      <td id=\"T_7795e_row10_col0\" class=\"data row10 col0\" >0.5018</td>\n",
       "      <td id=\"T_7795e_row10_col1\" class=\"data row10 col1\" >0.4926</td>\n",
       "      <td id=\"T_7795e_row10_col2\" class=\"data row10 col2\" >0.5227</td>\n",
       "      <td id=\"T_7795e_row10_col3\" class=\"data row10 col3\" >0.5054</td>\n",
       "      <td id=\"T_7795e_row10_col4\" class=\"data row10 col4\" >0.5137</td>\n",
       "      <td id=\"T_7795e_row10_col5\" class=\"data row10 col5\" >0.0032</td>\n",
       "      <td id=\"T_7795e_row10_col6\" class=\"data row10 col6\" >0.0032</td>\n",
       "    </tr>\n",
       "    <tr>\n",
       "      <th id=\"T_7795e_level0_row11\" class=\"row_heading level0 row11\" >SD</th>\n",
       "      <td id=\"T_7795e_row11_col0\" class=\"data row11 col0\" >0.0212</td>\n",
       "      <td id=\"T_7795e_row11_col1\" class=\"data row11 col1\" >0.0223</td>\n",
       "      <td id=\"T_7795e_row11_col2\" class=\"data row11 col2\" >0.0309</td>\n",
       "      <td id=\"T_7795e_row11_col3\" class=\"data row11 col3\" >0.0207</td>\n",
       "      <td id=\"T_7795e_row11_col4\" class=\"data row11 col4\" >0.0247</td>\n",
       "      <td id=\"T_7795e_row11_col5\" class=\"data row11 col5\" >0.0424</td>\n",
       "      <td id=\"T_7795e_row11_col6\" class=\"data row11 col6\" >0.0424</td>\n",
       "    </tr>\n",
       "  </tbody>\n",
       "</table>\n"
      ],
      "text/plain": [
       "<pandas.io.formats.style.Styler at 0x7fbec893c340>"
      ]
     },
     "metadata": {},
     "output_type": "display_data"
    }
   ],
   "source": [
    "MODEL = create_model(model)"
   ]
  },
  {
   "cell_type": "code",
   "execution_count": 54,
   "metadata": {},
   "outputs": [
    {
     "name": "stderr",
     "output_type": "stream",
     "text": [
      "findfont: Font family ['sans-serif'] not found. Falling back to DejaVu Sans.\n",
      "findfont: Generic family 'sans-serif' not found because none of the following families were found: Arial, Liberation Sans, Bitstream Vera Sans, sans-serif\n",
      "findfont: Font family ['sans-serif'] not found. Falling back to DejaVu Sans.\n",
      "findfont: Generic family 'sans-serif' not found because none of the following families were found: Arial, Liberation Sans, Bitstream Vera Sans, sans-serif\n",
      "findfont: Font family ['sans-serif'] not found. Falling back to DejaVu Sans.\n",
      "findfont: Generic family 'sans-serif' not found because none of the following families were found: Arial, Liberation Sans, Bitstream Vera Sans, sans-serif\n"
     ]
    },
    {
     "data": {
      "image/png": "[encoded data removed]",
      "text/plain": [
       "<Figure size 576x396 with 1 Axes>"
      ]
     },
     "metadata": {},
     "output_type": "display_data"
    }
   ],
   "source": [
    "plot_model(MODEL, plot = 'confusion_matrix')"
   ]
  },
  {
   "cell_type": "code",
   "execution_count": 55,
   "metadata": {},
   "outputs": [
    {
     "data": {
      "text/html": [
       "<style type=\"text/css\">\n",
       "#T_03cfe_row10_col0, #T_03cfe_row10_col1, #T_03cfe_row10_col2, #T_03cfe_row10_col3, #T_03cfe_row10_col4, #T_03cfe_row10_col5, #T_03cfe_row10_col6 {\n",
       "  background: yellow;\n",
       "}\n",
       "</style>\n",
       "<table id=\"T_03cfe_\">\n",
       "  <thead>\n",
       "    <tr>\n",
       "      <th class=\"blank level0\" >&nbsp;</th>\n",
       "      <th class=\"col_heading level0 col0\" >Accuracy</th>\n",
       "      <th class=\"col_heading level0 col1\" >AUC</th>\n",
       "      <th class=\"col_heading level0 col2\" >Recall</th>\n",
       "      <th class=\"col_heading level0 col3\" >Prec.</th>\n",
       "      <th class=\"col_heading level0 col4\" >F1</th>\n",
       "      <th class=\"col_heading level0 col5\" >Kappa</th>\n",
       "      <th class=\"col_heading level0 col6\" >MCC</th>\n",
       "    </tr>\n",
       "  </thead>\n",
       "  <tbody>\n",
       "    <tr>\n",
       "      <th id=\"T_03cfe_level0_row0\" class=\"row_heading level0 row0\" >0</th>\n",
       "      <td id=\"T_03cfe_row0_col0\" class=\"data row0 col0\" >0.4904</td>\n",
       "      <td id=\"T_03cfe_row0_col1\" class=\"data row0 col1\" >0.4809</td>\n",
       "      <td id=\"T_03cfe_row0_col2\" class=\"data row0 col2\" >0.5191</td>\n",
       "      <td id=\"T_03cfe_row0_col3\" class=\"data row0 col3\" >0.4948</td>\n",
       "      <td id=\"T_03cfe_row0_col4\" class=\"data row0 col4\" >0.5067</td>\n",
       "      <td id=\"T_03cfe_row0_col5\" class=\"data row0 col5\" >-0.0198</td>\n",
       "      <td id=\"T_03cfe_row0_col6\" class=\"data row0 col6\" >-0.0198</td>\n",
       "    </tr>\n",
       "    <tr>\n",
       "      <th id=\"T_03cfe_level0_row1\" class=\"row_heading level0 row1\" >1</th>\n",
       "      <td id=\"T_03cfe_row1_col0\" class=\"data row1 col0\" >0.5055</td>\n",
       "      <td id=\"T_03cfe_row1_col1\" class=\"data row1 col1\" >0.4759</td>\n",
       "      <td id=\"T_03cfe_row1_col2\" class=\"data row1 col2\" >0.5027</td>\n",
       "      <td id=\"T_03cfe_row1_col3\" class=\"data row1 col3\" >0.5111</td>\n",
       "      <td id=\"T_03cfe_row1_col4\" class=\"data row1 col4\" >0.5069</td>\n",
       "      <td id=\"T_03cfe_row1_col5\" class=\"data row1 col5\" >0.0111</td>\n",
       "      <td id=\"T_03cfe_row1_col6\" class=\"data row1 col6\" >0.0111</td>\n",
       "    </tr>\n",
       "    <tr>\n",
       "      <th id=\"T_03cfe_level0_row2\" class=\"row_heading level0 row2\" >2</th>\n",
       "      <td id=\"T_03cfe_row2_col0\" class=\"data row2 col0\" >0.4807</td>\n",
       "      <td id=\"T_03cfe_row2_col1\" class=\"data row2 col1\" >0.4754</td>\n",
       "      <td id=\"T_03cfe_row2_col2\" class=\"data row2 col2\" >0.5246</td>\n",
       "      <td id=\"T_03cfe_row2_col3\" class=\"data row2 col3\" >0.4873</td>\n",
       "      <td id=\"T_03cfe_row2_col4\" class=\"data row2 col4\" >0.5053</td>\n",
       "      <td id=\"T_03cfe_row2_col5\" class=\"data row2 col5\" >-0.0397</td>\n",
       "      <td id=\"T_03cfe_row2_col6\" class=\"data row2 col6\" >-0.0398</td>\n",
       "    </tr>\n",
       "    <tr>\n",
       "      <th id=\"T_03cfe_level0_row3\" class=\"row_heading level0 row3\" >3</th>\n",
       "      <td id=\"T_03cfe_row3_col0\" class=\"data row3 col0\" >0.5110</td>\n",
       "      <td id=\"T_03cfe_row3_col1\" class=\"data row3 col1\" >0.5164</td>\n",
       "      <td id=\"T_03cfe_row3_col2\" class=\"data row3 col2\" >0.4973</td>\n",
       "      <td id=\"T_03cfe_row3_col3\" class=\"data row3 col3\" >0.5170</td>\n",
       "      <td id=\"T_03cfe_row3_col4\" class=\"data row3 col4\" >0.5070</td>\n",
       "      <td id=\"T_03cfe_row3_col5\" class=\"data row3 col5\" >0.0224</td>\n",
       "      <td id=\"T_03cfe_row3_col6\" class=\"data row3 col6\" >0.0224</td>\n",
       "    </tr>\n",
       "    <tr>\n",
       "      <th id=\"T_03cfe_level0_row4\" class=\"row_heading level0 row4\" >4</th>\n",
       "      <td id=\"T_03cfe_row4_col0\" class=\"data row4 col0\" >0.5083</td>\n",
       "      <td id=\"T_03cfe_row4_col1\" class=\"data row4 col1\" >0.5124</td>\n",
       "      <td id=\"T_03cfe_row4_col2\" class=\"data row4 col2\" >0.4863</td>\n",
       "      <td id=\"T_03cfe_row4_col3\" class=\"data row4 col3\" >0.5145</td>\n",
       "      <td id=\"T_03cfe_row4_col4\" class=\"data row4 col4\" >0.5000</td>\n",
       "      <td id=\"T_03cfe_row4_col5\" class=\"data row4 col5\" >0.0171</td>\n",
       "      <td id=\"T_03cfe_row4_col6\" class=\"data row4 col6\" >0.0171</td>\n",
       "    </tr>\n",
       "    <tr>\n",
       "      <th id=\"T_03cfe_level0_row5\" class=\"row_heading level0 row5\" >5</th>\n",
       "      <td id=\"T_03cfe_row5_col0\" class=\"data row5 col0\" >0.4945</td>\n",
       "      <td id=\"T_03cfe_row5_col1\" class=\"data row5 col1\" >0.4937</td>\n",
       "      <td id=\"T_03cfe_row5_col2\" class=\"data row5 col2\" >0.4835</td>\n",
       "      <td id=\"T_03cfe_row5_col3\" class=\"data row5 col3\" >0.4972</td>\n",
       "      <td id=\"T_03cfe_row5_col4\" class=\"data row5 col4\" >0.4903</td>\n",
       "      <td id=\"T_03cfe_row5_col5\" class=\"data row5 col5\" >-0.0109</td>\n",
       "      <td id=\"T_03cfe_row5_col6\" class=\"data row5 col6\" >-0.0109</td>\n",
       "    </tr>\n",
       "    <tr>\n",
       "      <th id=\"T_03cfe_level0_row6\" class=\"row_heading level0 row6\" >6</th>\n",
       "      <td id=\"T_03cfe_row6_col0\" class=\"data row6 col0\" >0.5138</td>\n",
       "      <td id=\"T_03cfe_row6_col1\" class=\"data row6 col1\" >0.4894</td>\n",
       "      <td id=\"T_03cfe_row6_col2\" class=\"data row6 col2\" >0.5330</td>\n",
       "      <td id=\"T_03cfe_row6_col3\" class=\"data row6 col3\" >0.5160</td>\n",
       "      <td id=\"T_03cfe_row6_col4\" class=\"data row6 col4\" >0.5243</td>\n",
       "      <td id=\"T_03cfe_row6_col5\" class=\"data row6 col5\" >0.0274</td>\n",
       "      <td id=\"T_03cfe_row6_col6\" class=\"data row6 col6\" >0.0274</td>\n",
       "    </tr>\n",
       "    <tr>\n",
       "      <th id=\"T_03cfe_level0_row7\" class=\"row_heading level0 row7\" >7</th>\n",
       "      <td id=\"T_03cfe_row7_col0\" class=\"data row7 col0\" >0.5359</td>\n",
       "      <td id=\"T_03cfe_row7_col1\" class=\"data row7 col1\" >0.5240</td>\n",
       "      <td id=\"T_03cfe_row7_col2\" class=\"data row7 col2\" >0.5385</td>\n",
       "      <td id=\"T_03cfe_row7_col3\" class=\"data row7 col3\" >0.5385</td>\n",
       "      <td id=\"T_03cfe_row7_col4\" class=\"data row7 col4\" >0.5385</td>\n",
       "      <td id=\"T_03cfe_row7_col5\" class=\"data row7 col5\" >0.0718</td>\n",
       "      <td id=\"T_03cfe_row7_col6\" class=\"data row7 col6\" >0.0718</td>\n",
       "    </tr>\n",
       "    <tr>\n",
       "      <th id=\"T_03cfe_level0_row8\" class=\"row_heading level0 row8\" >8</th>\n",
       "      <td id=\"T_03cfe_row8_col0\" class=\"data row8 col0\" >0.5249</td>\n",
       "      <td id=\"T_03cfe_row8_col1\" class=\"data row8 col1\" >0.5367</td>\n",
       "      <td id=\"T_03cfe_row8_col2\" class=\"data row8 col2\" >0.5275</td>\n",
       "      <td id=\"T_03cfe_row8_col3\" class=\"data row8 col3\" >0.5275</td>\n",
       "      <td id=\"T_03cfe_row8_col4\" class=\"data row8 col4\" >0.5275</td>\n",
       "      <td id=\"T_03cfe_row8_col5\" class=\"data row8 col5\" >0.0497</td>\n",
       "      <td id=\"T_03cfe_row8_col6\" class=\"data row8 col6\" >0.0497</td>\n",
       "    </tr>\n",
       "    <tr>\n",
       "      <th id=\"T_03cfe_level0_row9\" class=\"row_heading level0 row9\" >9</th>\n",
       "      <td id=\"T_03cfe_row9_col0\" class=\"data row9 col0\" >0.5110</td>\n",
       "      <td id=\"T_03cfe_row9_col1\" class=\"data row9 col1\" >0.5024</td>\n",
       "      <td id=\"T_03cfe_row9_col2\" class=\"data row9 col2\" >0.5000</td>\n",
       "      <td id=\"T_03cfe_row9_col3\" class=\"data row9 col3\" >0.5141</td>\n",
       "      <td id=\"T_03cfe_row9_col4\" class=\"data row9 col4\" >0.5070</td>\n",
       "      <td id=\"T_03cfe_row9_col5\" class=\"data row9 col5\" >0.0222</td>\n",
       "      <td id=\"T_03cfe_row9_col6\" class=\"data row9 col6\" >0.0222</td>\n",
       "    </tr>\n",
       "    <tr>\n",
       "      <th id=\"T_03cfe_level0_row10\" class=\"row_heading level0 row10\" >Mean</th>\n",
       "      <td id=\"T_03cfe_row10_col0\" class=\"data row10 col0\" >0.5076</td>\n",
       "      <td id=\"T_03cfe_row10_col1\" class=\"data row10 col1\" >0.5007</td>\n",
       "      <td id=\"T_03cfe_row10_col2\" class=\"data row10 col2\" >0.5112</td>\n",
       "      <td id=\"T_03cfe_row10_col3\" class=\"data row10 col3\" >0.5118</td>\n",
       "      <td id=\"T_03cfe_row10_col4\" class=\"data row10 col4\" >0.5113</td>\n",
       "      <td id=\"T_03cfe_row10_col5\" class=\"data row10 col5\" >0.0151</td>\n",
       "      <td id=\"T_03cfe_row10_col6\" class=\"data row10 col6\" >0.0151</td>\n",
       "    </tr>\n",
       "    <tr>\n",
       "      <th id=\"T_03cfe_level0_row11\" class=\"row_heading level0 row11\" >SD</th>\n",
       "      <td id=\"T_03cfe_row11_col0\" class=\"data row11 col0\" >0.0154</td>\n",
       "      <td id=\"T_03cfe_row11_col1\" class=\"data row11 col1\" >0.0201</td>\n",
       "      <td id=\"T_03cfe_row11_col2\" class=\"data row11 col2\" >0.0187</td>\n",
       "      <td id=\"T_03cfe_row11_col3\" class=\"data row11 col3\" >0.0146</td>\n",
       "      <td id=\"T_03cfe_row11_col4\" class=\"data row11 col4\" >0.0136</td>\n",
       "      <td id=\"T_03cfe_row11_col5\" class=\"data row11 col5\" >0.0310</td>\n",
       "      <td id=\"T_03cfe_row11_col6\" class=\"data row11 col6\" >0.0310</td>\n",
       "    </tr>\n",
       "  </tbody>\n",
       "</table>\n"
      ],
      "text/plain": [
       "<pandas.io.formats.style.Styler at 0x7fbec8a11f40>"
      ]
     },
     "metadata": {},
     "output_type": "display_data"
    }
   ],
   "source": [
    "TUNED_MODEL = tune_model(MODEL)"
   ]
  },
  {
   "cell_type": "code",
   "execution_count": 56,
   "metadata": {},
   "outputs": [
    {
     "name": "stderr",
     "output_type": "stream",
     "text": [
      "findfont: Font family ['sans-serif'] not found. Falling back to DejaVu Sans.\n",
      "findfont: Generic family 'sans-serif' not found because none of the following families were found: Arial, Liberation Sans, Bitstream Vera Sans, sans-serif\n"
     ]
    },
    {
     "data": {
      "image/png": "[encoded data removed]",
      "text/plain": [
       "<Figure size 576x396 with 1 Axes>"
      ]
     },
     "metadata": {},
     "output_type": "display_data"
    }
   ],
   "source": [
    "plot_model(TUNED_MODEL, plot = 'auc')"
   ]
  },
  {
   "cell_type": "code",
   "execution_count": 57,
   "metadata": {},
   "outputs": [
    {
     "data": {
      "image/png": "[encoded data removed]",
      "text/plain": [
       "<Figure size 576x396 with 1 Axes>"
      ]
     },
     "metadata": {},
     "output_type": "display_data"
    }
   ],
   "source": [
    "plot_model(TUNED_MODEL, plot = 'pr')"
   ]
  },
  {
   "cell_type": "code",
   "execution_count": 58,
   "metadata": {},
   "outputs": [
    {
     "ename": "TypeError",
     "evalue": "Feature Importance and RFE plots not available for estimators that doesnt support coef_ or feature_importances_ attribute.",
     "output_type": "error",
     "traceback": [
      "\u001b[0;31m---------------------------------------------------------------------------\u001b[0m",
      "\u001b[0;31mTypeError\u001b[0m                                 Traceback (most recent call last)",
      "\u001b[0;32m/tmp/ipykernel_1433781/4038538239.py\u001b[0m in \u001b[0;36m<module>\u001b[0;34m\u001b[0m\n\u001b[0;32m----> 1\u001b[0;31m \u001b[0mplot_model\u001b[0m\u001b[0;34m(\u001b[0m\u001b[0mTUNED_MODEL\u001b[0m\u001b[0;34m,\u001b[0m \u001b[0mplot\u001b[0m\u001b[0;34m=\u001b[0m\u001b[0;34m'feature'\u001b[0m\u001b[0;34m)\u001b[0m\u001b[0;34m\u001b[0m\u001b[0;34m\u001b[0m\u001b[0m\n\u001b[0m",
      "\u001b[0;32m~/Data/Forexience/venv/lib/python3.8/site-packages/pycaret/classification.py\u001b[0m in \u001b[0;36mplot_model\u001b[0;34m(estimator, plot, scale, save, fold, fit_kwargs, groups, use_train_data, verbose, display_format)\u001b[0m\n\u001b[1;32m   1538\u001b[0m     \"\"\"\n\u001b[1;32m   1539\u001b[0m \u001b[0;34m\u001b[0m\u001b[0m\n\u001b[0;32m-> 1540\u001b[0;31m     return pycaret.internal.tabular.plot_model(\n\u001b[0m\u001b[1;32m   1541\u001b[0m         \u001b[0mestimator\u001b[0m\u001b[0;34m=\u001b[0m\u001b[0mestimator\u001b[0m\u001b[0;34m,\u001b[0m\u001b[0;34m\u001b[0m\u001b[0;34m\u001b[0m\u001b[0m\n\u001b[1;32m   1542\u001b[0m         \u001b[0mplot\u001b[0m\u001b[0;34m=\u001b[0m\u001b[0mplot\u001b[0m\u001b[0;34m,\u001b[0m\u001b[0;34m\u001b[0m\u001b[0;34m\u001b[0m\u001b[0m\n",
      "\u001b[0;32m~/Data/Forexience/venv/lib/python3.8/site-packages/pycaret/internal/tabular.py\u001b[0m in \u001b[0;36mplot_model\u001b[0;34m(estimator, plot, scale, save, fold, fit_kwargs, groups, feature_name, label, use_train_data, verbose, system, display, display_format, is_in_evaluate)\u001b[0m\n\u001b[1;32m   5864\u001b[0m         \u001b[0mhasattr\u001b[0m\u001b[0;34m(\u001b[0m\u001b[0mestimator\u001b[0m\u001b[0;34m,\u001b[0m \u001b[0;34m\"coef_\"\u001b[0m\u001b[0;34m)\u001b[0m \u001b[0;32mor\u001b[0m \u001b[0mhasattr\u001b[0m\u001b[0;34m(\u001b[0m\u001b[0mestimator\u001b[0m\u001b[0;34m,\u001b[0m \u001b[0;34m\"feature_importances_\"\u001b[0m\u001b[0;34m)\u001b[0m\u001b[0;34m\u001b[0m\u001b[0;34m\u001b[0m\u001b[0m\n\u001b[1;32m   5865\u001b[0m     ) and (plot == \"feature\" or plot == \"feature_all\" or plot == \"rfe\"):\n\u001b[0;32m-> 5866\u001b[0;31m         raise TypeError(\n\u001b[0m\u001b[1;32m   5867\u001b[0m             \u001b[0;34m\"Feature Importance and RFE plots not available for estimators that doesnt support coef_ or feature_importances_ attribute.\"\u001b[0m\u001b[0;34m\u001b[0m\u001b[0;34m\u001b[0m\u001b[0m\n\u001b[1;32m   5868\u001b[0m         )\n",
      "\u001b[0;31mTypeError\u001b[0m: Feature Importance and RFE plots not available for estimators that doesnt support coef_ or feature_importances_ attribute."
     ]
    }
   ],
   "source": [
    "plot_model(TUNED_MODEL, plot='feature')"
   ]
  },
  {
   "cell_type": "code",
   "execution_count": 59,
   "metadata": {},
   "outputs": [
    {
     "data": {
      "image/png": "[encoded data removed]",
      "text/plain": [
       "<Figure size 576x396 with 1 Axes>"
      ]
     },
     "metadata": {},
     "output_type": "display_data"
    }
   ],
   "source": [
    "plot_model(TUNED_MODEL, plot = 'confusion_matrix')"
   ]
  },
  {
   "cell_type": "code",
   "execution_count": 60,
   "metadata": {},
   "outputs": [
    {
     "data": {
      "text/html": [
       "<style type=\"text/css\">\n",
       "</style>\n",
       "<table id=\"T_9b4ea_\">\n",
       "  <thead>\n",
       "    <tr>\n",
       "      <th class=\"blank level0\" >&nbsp;</th>\n",
       "      <th class=\"col_heading level0 col0\" >Model</th>\n",
       "      <th class=\"col_heading level0 col1\" >Accuracy</th>\n",
       "      <th class=\"col_heading level0 col2\" >AUC</th>\n",
       "      <th class=\"col_heading level0 col3\" >Recall</th>\n",
       "      <th class=\"col_heading level0 col4\" >Prec.</th>\n",
       "      <th class=\"col_heading level0 col5\" >F1</th>\n",
       "      <th class=\"col_heading level0 col6\" >Kappa</th>\n",
       "      <th class=\"col_heading level0 col7\" >MCC</th>\n",
       "    </tr>\n",
       "  </thead>\n",
       "  <tbody>\n",
       "    <tr>\n",
       "      <th id=\"T_9b4ea_level0_row0\" class=\"row_heading level0 row0\" >0</th>\n",
       "      <td id=\"T_9b4ea_row0_col0\" class=\"data row0 col0\" >K Neighbors Classifier</td>\n",
       "      <td id=\"T_9b4ea_row0_col1\" class=\"data row0 col1\" >0.4894</td>\n",
       "      <td id=\"T_9b4ea_row0_col2\" class=\"data row0 col2\" >0.4806</td>\n",
       "      <td id=\"T_9b4ea_row0_col3\" class=\"data row0 col3\" >0.4820</td>\n",
       "      <td id=\"T_9b4ea_row0_col4\" class=\"data row0 col4\" >0.5092</td>\n",
       "      <td id=\"T_9b4ea_row0_col5\" class=\"data row0 col5\" >0.4952</td>\n",
       "      <td id=\"T_9b4ea_row0_col6\" class=\"data row0 col6\" >-0.0206</td>\n",
       "      <td id=\"T_9b4ea_row0_col7\" class=\"data row0 col7\" >-0.0206</td>\n",
       "    </tr>\n",
       "  </tbody>\n",
       "</table>\n"
      ],
      "text/plain": [
       "<pandas.io.formats.style.Styler at 0x7fbf91f4ec40>"
      ]
     },
     "metadata": {},
     "output_type": "display_data"
    }
   ],
   "source": [
    "predict_model(TUNED_MODEL);"
   ]
  },
  {
   "cell_type": "code",
   "execution_count": 61,
   "metadata": {},
   "outputs": [],
   "source": [
    "FINAL_MODEL = finalize_model(TUNED_MODEL)"
   ]
  },
  {
   "cell_type": "code",
   "execution_count": 62,
   "metadata": {},
   "outputs": [
    {
     "name": "stdout",
     "output_type": "stream",
     "text": [
      "KNeighborsClassifier(algorithm='auto', leaf_size=30, metric='minkowski',\n",
      "                     metric_params=None, n_jobs=-1, n_neighbors=42, p=2,\n",
      "                     weights='distance')\n"
     ]
    }
   ],
   "source": [
    "print(FINAL_MODEL)"
   ]
  },
  {
   "cell_type": "code",
   "execution_count": 63,
   "metadata": {},
   "outputs": [
    {
     "data": {
      "text/html": [
       "<style type=\"text/css\">\n",
       "</style>\n",
       "<table id=\"T_81e56_\">\n",
       "  <thead>\n",
       "    <tr>\n",
       "      <th class=\"blank level0\" >&nbsp;</th>\n",
       "      <th class=\"col_heading level0 col0\" >Model</th>\n",
       "      <th class=\"col_heading level0 col1\" >Accuracy</th>\n",
       "      <th class=\"col_heading level0 col2\" >AUC</th>\n",
       "      <th class=\"col_heading level0 col3\" >Recall</th>\n",
       "      <th class=\"col_heading level0 col4\" >Prec.</th>\n",
       "      <th class=\"col_heading level0 col5\" >F1</th>\n",
       "      <th class=\"col_heading level0 col6\" >Kappa</th>\n",
       "      <th class=\"col_heading level0 col7\" >MCC</th>\n",
       "    </tr>\n",
       "  </thead>\n",
       "  <tbody>\n",
       "    <tr>\n",
       "      <th id=\"T_81e56_level0_row0\" class=\"row_heading level0 row0\" >0</th>\n",
       "      <td id=\"T_81e56_row0_col0\" class=\"data row0 col0\" >K Neighbors Classifier</td>\n",
       "      <td id=\"T_81e56_row0_col1\" class=\"data row0 col1\" >1.0000</td>\n",
       "      <td id=\"T_81e56_row0_col2\" class=\"data row0 col2\" >1.0000</td>\n",
       "      <td id=\"T_81e56_row0_col3\" class=\"data row0 col3\" >1.0000</td>\n",
       "      <td id=\"T_81e56_row0_col4\" class=\"data row0 col4\" >1.0000</td>\n",
       "      <td id=\"T_81e56_row0_col5\" class=\"data row0 col5\" >1.0000</td>\n",
       "      <td id=\"T_81e56_row0_col6\" class=\"data row0 col6\" >1.0000</td>\n",
       "      <td id=\"T_81e56_row0_col7\" class=\"data row0 col7\" >1.0000</td>\n",
       "    </tr>\n",
       "  </tbody>\n",
       "</table>\n"
      ],
      "text/plain": [
       "<pandas.io.formats.style.Styler at 0x7fc1ad724c40>"
      ]
     },
     "metadata": {},
     "output_type": "display_data"
    }
   ],
   "source": [
    "predict_model(FINAL_MODEL);"
   ]
  },
  {
   "cell_type": "code",
   "execution_count": 64,
   "metadata": {},
   "outputs": [
    {
     "data": {
      "text/html": [
       "<div>\n",
       "<style scoped>\n",
       "    .dataframe tbody tr th:only-of-type {\n",
       "        vertical-align: middle;\n",
       "    }\n",
       "\n",
       "    .dataframe tbody tr th {\n",
       "        vertical-align: top;\n",
       "    }\n",
       "\n",
       "    .dataframe thead th {\n",
       "        text-align: right;\n",
       "    }\n",
       "</style>\n",
       "<table border=\"1\" class=\"dataframe\">\n",
       "  <thead>\n",
       "    <tr style=\"text-align: right;\">\n",
       "      <th></th>\n",
       "      <th>Current_Market</th>\n",
       "      <th>Rec1_Score</th>\n",
       "      <th>Rec2_Score</th>\n",
       "      <th>Rec3_Score</th>\n",
       "      <th>Rec4_Score</th>\n",
       "      <th>Label</th>\n",
       "      <th>Score</th>\n",
       "    </tr>\n",
       "  </thead>\n",
       "  <tbody>\n",
       "    <tr>\n",
       "      <th>0</th>\n",
       "      <td>1</td>\n",
       "      <td>-3.44</td>\n",
       "      <td>73.19</td>\n",
       "      <td>-72.11</td>\n",
       "      <td>-81.48</td>\n",
       "      <td>0</td>\n",
       "      <td>0.5714</td>\n",
       "    </tr>\n",
       "    <tr>\n",
       "      <th>1</th>\n",
       "      <td>1</td>\n",
       "      <td>-30.35</td>\n",
       "      <td>62.53</td>\n",
       "      <td>0.07</td>\n",
       "      <td>41.39</td>\n",
       "      <td>1</td>\n",
       "      <td>1.0000</td>\n",
       "    </tr>\n",
       "    <tr>\n",
       "      <th>2</th>\n",
       "      <td>1</td>\n",
       "      <td>-2.95</td>\n",
       "      <td>-21.27</td>\n",
       "      <td>-70.30</td>\n",
       "      <td>-73.13</td>\n",
       "      <td>1</td>\n",
       "      <td>0.5443</td>\n",
       "    </tr>\n",
       "    <tr>\n",
       "      <th>3</th>\n",
       "      <td>1</td>\n",
       "      <td>-87.57</td>\n",
       "      <td>-28.47</td>\n",
       "      <td>59.06</td>\n",
       "      <td>-58.45</td>\n",
       "      <td>1</td>\n",
       "      <td>0.5181</td>\n",
       "    </tr>\n",
       "    <tr>\n",
       "      <th>4</th>\n",
       "      <td>1</td>\n",
       "      <td>33.89</td>\n",
       "      <td>46.88</td>\n",
       "      <td>-46.33</td>\n",
       "      <td>89.20</td>\n",
       "      <td>1</td>\n",
       "      <td>1.0000</td>\n",
       "    </tr>\n",
       "  </tbody>\n",
       "</table>\n",
       "</div>"
      ],
      "text/plain": [
       "   Current_Market  Rec1_Score  Rec2_Score  Rec3_Score  Rec4_Score  Label  \\\n",
       "0               1       -3.44       73.19      -72.11      -81.48      0   \n",
       "1               1      -30.35       62.53        0.07       41.39      1   \n",
       "2               1       -2.95      -21.27      -70.30      -73.13      1   \n",
       "3               1      -87.57      -28.47       59.06      -58.45      1   \n",
       "4               1       33.89       46.88      -46.33       89.20      1   \n",
       "\n",
       "    Score  \n",
       "0  0.5714  \n",
       "1  1.0000  \n",
       "2  0.5443  \n",
       "3  0.5181  \n",
       "4  1.0000  "
      ]
     },
     "execution_count": 64,
     "metadata": {},
     "output_type": "execute_result"
    }
   ],
   "source": [
    "unseen_predictions = predict_model(FINAL_MODEL, data=data_unseen)\n",
    "unseen_predictions.head()"
   ]
  },
  {
   "cell_type": "code",
   "execution_count": 65,
   "metadata": {},
   "outputs": [
    {
     "data": {
      "image/png": "[encoded data removed]",
      "text/plain": [
       "<Figure size 576x396 with 1 Axes>"
      ]
     },
     "metadata": {},
     "output_type": "display_data"
    }
   ],
   "source": [
    "plot_model(FINAL_MODEL, plot = 'auc')"
   ]
  },
  {
   "cell_type": "code",
   "execution_count": 66,
   "metadata": {},
   "outputs": [],
   "source": [
    "pkl_name = (today + \"_\" + model + \"_\" + pair)"
   ]
  },
  {
   "cell_type": "code",
   "execution_count": 67,
   "metadata": {},
   "outputs": [
    {
     "name": "stdout",
     "output_type": "stream",
     "text": [
      "Transformation Pipeline and Model Successfully Saved\n"
     ]
    },
    {
     "data": {
      "text/plain": [
       "(Pipeline(memory=None,\n",
       "          steps=[('dtypes',\n",
       "                  DataTypes_Auto_infer(categorical_features=[],\n",
       "                                       display_types=False, features_todrop=[],\n",
       "                                       id_columns=[],\n",
       "                                       ml_usecase='classification',\n",
       "                                       numerical_features=[],\n",
       "                                       target='Current_Market',\n",
       "                                       time_features=[])),\n",
       "                 ('imputer',\n",
       "                  Simple_Imputer(categorical_strategy='not_available',\n",
       "                                 fill_value_categorical=None,\n",
       "                                 fill_value_numerical=None,\n",
       "                                 nume...\n",
       "                 ('fix_perfect', Remove_100(target='Current_Market')),\n",
       "                 ('clean_names', Clean_Colum_Names()),\n",
       "                 ('feature_select', 'passthrough'), ('fix_multi', 'passthrough'),\n",
       "                 ('dfs', 'passthrough'), ('pca', 'passthrough'),\n",
       "                 ['trained_model',\n",
       "                  KNeighborsClassifier(algorithm='auto', leaf_size=30,\n",
       "                                       metric='minkowski', metric_params=None,\n",
       "                                       n_jobs=-1, n_neighbors=42, p=2,\n",
       "                                       weights='distance')]],\n",
       "          verbose=False),\n",
       " '02-02-2022_03-29_AM_knn_GBP_USD.pkl')"
      ]
     },
     "execution_count": 67,
     "metadata": {},
     "output_type": "execute_result"
    }
   ],
   "source": [
    "save_model(FINAL_MODEL, pkl_name)"
   ]
  },
  {
   "cell_type": "code",
   "execution_count": 68,
   "metadata": {},
   "outputs": [
    {
     "name": "stdout",
     "output_type": "stream",
     "text": [
      "Transformation Pipeline and Model Successfully Loaded\n"
     ]
    }
   ],
   "source": [
    "SAVED_FINAL_MODEL = load_model(pkl_name)"
   ]
  },
  {
   "cell_type": "code",
   "execution_count": 69,
   "metadata": {},
   "outputs": [],
   "source": [
    "new_prediction = predict_model(SAVED_FINAL_MODEL, data=data_unseen)"
   ]
  },
  {
   "cell_type": "code",
   "execution_count": 70,
   "metadata": {},
   "outputs": [
    {
     "data": {
      "text/plain": [
       "(2217, 5)"
      ]
     },
     "execution_count": 70,
     "metadata": {},
     "output_type": "execute_result"
    }
   ],
   "source": [
    "data_unseen.shape"
   ]
  },
  {
   "cell_type": "code",
   "execution_count": 71,
   "metadata": {},
   "outputs": [
    {
     "data": {
      "text/html": [
       "<div>\n",
       "<style scoped>\n",
       "    .dataframe tbody tr th:only-of-type {\n",
       "        vertical-align: middle;\n",
       "    }\n",
       "\n",
       "    .dataframe tbody tr th {\n",
       "        vertical-align: top;\n",
       "    }\n",
       "\n",
       "    .dataframe thead th {\n",
       "        text-align: right;\n",
       "    }\n",
       "</style>\n",
       "<table border=\"1\" class=\"dataframe\">\n",
       "  <thead>\n",
       "    <tr style=\"text-align: right;\">\n",
       "      <th></th>\n",
       "      <th>Current_Market</th>\n",
       "      <th>Rec1_Score</th>\n",
       "      <th>Rec2_Score</th>\n",
       "      <th>Rec3_Score</th>\n",
       "      <th>Rec4_Score</th>\n",
       "      <th>Label</th>\n",
       "      <th>Score</th>\n",
       "    </tr>\n",
       "  </thead>\n",
       "  <tbody>\n",
       "    <tr>\n",
       "      <th>0</th>\n",
       "      <td>1</td>\n",
       "      <td>-3.44</td>\n",
       "      <td>73.19</td>\n",
       "      <td>-72.11</td>\n",
       "      <td>-81.48</td>\n",
       "      <td>0</td>\n",
       "      <td>0.5714</td>\n",
       "    </tr>\n",
       "    <tr>\n",
       "      <th>1</th>\n",
       "      <td>1</td>\n",
       "      <td>-30.35</td>\n",
       "      <td>62.53</td>\n",
       "      <td>0.07</td>\n",
       "      <td>41.39</td>\n",
       "      <td>1</td>\n",
       "      <td>1.0000</td>\n",
       "    </tr>\n",
       "    <tr>\n",
       "      <th>2</th>\n",
       "      <td>1</td>\n",
       "      <td>-2.95</td>\n",
       "      <td>-21.27</td>\n",
       "      <td>-70.30</td>\n",
       "      <td>-73.13</td>\n",
       "      <td>1</td>\n",
       "      <td>0.5443</td>\n",
       "    </tr>\n",
       "    <tr>\n",
       "      <th>3</th>\n",
       "      <td>1</td>\n",
       "      <td>-87.57</td>\n",
       "      <td>-28.47</td>\n",
       "      <td>59.06</td>\n",
       "      <td>-58.45</td>\n",
       "      <td>1</td>\n",
       "      <td>0.5181</td>\n",
       "    </tr>\n",
       "    <tr>\n",
       "      <th>4</th>\n",
       "      <td>1</td>\n",
       "      <td>33.89</td>\n",
       "      <td>46.88</td>\n",
       "      <td>-46.33</td>\n",
       "      <td>89.20</td>\n",
       "      <td>1</td>\n",
       "      <td>1.0000</td>\n",
       "    </tr>\n",
       "    <tr>\n",
       "      <th>5</th>\n",
       "      <td>1</td>\n",
       "      <td>-66.80</td>\n",
       "      <td>-0.05</td>\n",
       "      <td>77.08</td>\n",
       "      <td>58.13</td>\n",
       "      <td>1</td>\n",
       "      <td>1.0000</td>\n",
       "    </tr>\n",
       "    <tr>\n",
       "      <th>6</th>\n",
       "      <td>0</td>\n",
       "      <td>8.81</td>\n",
       "      <td>28.71</td>\n",
       "      <td>3.39</td>\n",
       "      <td>53.50</td>\n",
       "      <td>0</td>\n",
       "      <td>1.0000</td>\n",
       "    </tr>\n",
       "    <tr>\n",
       "      <th>7</th>\n",
       "      <td>0</td>\n",
       "      <td>76.76</td>\n",
       "      <td>-0.00</td>\n",
       "      <td>-69.95</td>\n",
       "      <td>-73.13</td>\n",
       "      <td>0</td>\n",
       "      <td>1.0000</td>\n",
       "    </tr>\n",
       "    <tr>\n",
       "      <th>8</th>\n",
       "      <td>0</td>\n",
       "      <td>-52.62</td>\n",
       "      <td>-14.59</td>\n",
       "      <td>64.35</td>\n",
       "      <td>41.10</td>\n",
       "      <td>0</td>\n",
       "      <td>1.0000</td>\n",
       "    </tr>\n",
       "    <tr>\n",
       "      <th>9</th>\n",
       "      <td>0</td>\n",
       "      <td>64.50</td>\n",
       "      <td>9.06</td>\n",
       "      <td>6.42</td>\n",
       "      <td>-6.44</td>\n",
       "      <td>0</td>\n",
       "      <td>1.0000</td>\n",
       "    </tr>\n",
       "    <tr>\n",
       "      <th>10</th>\n",
       "      <td>1</td>\n",
       "      <td>36.48</td>\n",
       "      <td>20.21</td>\n",
       "      <td>32.21</td>\n",
       "      <td>-41.38</td>\n",
       "      <td>1</td>\n",
       "      <td>1.0000</td>\n",
       "    </tr>\n",
       "    <tr>\n",
       "      <th>11</th>\n",
       "      <td>0</td>\n",
       "      <td>76.76</td>\n",
       "      <td>-66.72</td>\n",
       "      <td>-2.41</td>\n",
       "      <td>0.01</td>\n",
       "      <td>1</td>\n",
       "      <td>0.5023</td>\n",
       "    </tr>\n",
       "    <tr>\n",
       "      <th>12</th>\n",
       "      <td>1</td>\n",
       "      <td>6.06</td>\n",
       "      <td>-63.53</td>\n",
       "      <td>0.54</td>\n",
       "      <td>-37.69</td>\n",
       "      <td>1</td>\n",
       "      <td>1.0000</td>\n",
       "    </tr>\n",
       "    <tr>\n",
       "      <th>13</th>\n",
       "      <td>0</td>\n",
       "      <td>50.01</td>\n",
       "      <td>-57.24</td>\n",
       "      <td>-92.66</td>\n",
       "      <td>0.16</td>\n",
       "      <td>0</td>\n",
       "      <td>1.0000</td>\n",
       "    </tr>\n",
       "    <tr>\n",
       "      <th>14</th>\n",
       "      <td>0</td>\n",
       "      <td>-35.48</td>\n",
       "      <td>51.88</td>\n",
       "      <td>-42.96</td>\n",
       "      <td>1.60</td>\n",
       "      <td>0</td>\n",
       "      <td>1.0000</td>\n",
       "    </tr>\n",
       "    <tr>\n",
       "      <th>15</th>\n",
       "      <td>0</td>\n",
       "      <td>16.40</td>\n",
       "      <td>96.16</td>\n",
       "      <td>80.77</td>\n",
       "      <td>30.14</td>\n",
       "      <td>0</td>\n",
       "      <td>0.5718</td>\n",
       "    </tr>\n",
       "    <tr>\n",
       "      <th>16</th>\n",
       "      <td>1</td>\n",
       "      <td>70.94</td>\n",
       "      <td>-65.87</td>\n",
       "      <td>94.91</td>\n",
       "      <td>-67.22</td>\n",
       "      <td>1</td>\n",
       "      <td>1.0000</td>\n",
       "    </tr>\n",
       "    <tr>\n",
       "      <th>17</th>\n",
       "      <td>1</td>\n",
       "      <td>70.53</td>\n",
       "      <td>46.76</td>\n",
       "      <td>-76.48</td>\n",
       "      <td>-0.20</td>\n",
       "      <td>1</td>\n",
       "      <td>1.0000</td>\n",
       "    </tr>\n",
       "    <tr>\n",
       "      <th>18</th>\n",
       "      <td>1</td>\n",
       "      <td>70.74</td>\n",
       "      <td>-5.63</td>\n",
       "      <td>-3.37</td>\n",
       "      <td>0.43</td>\n",
       "      <td>1</td>\n",
       "      <td>1.0000</td>\n",
       "    </tr>\n",
       "    <tr>\n",
       "      <th>19</th>\n",
       "      <td>1</td>\n",
       "      <td>-62.35</td>\n",
       "      <td>-0.08</td>\n",
       "      <td>27.74</td>\n",
       "      <td>18.65</td>\n",
       "      <td>0</td>\n",
       "      <td>0.5238</td>\n",
       "    </tr>\n",
       "  </tbody>\n",
       "</table>\n",
       "</div>"
      ],
      "text/plain": [
       "    Current_Market  Rec1_Score  Rec2_Score  Rec3_Score  Rec4_Score  Label  \\\n",
       "0                1       -3.44       73.19      -72.11      -81.48      0   \n",
       "1                1      -30.35       62.53        0.07       41.39      1   \n",
       "2                1       -2.95      -21.27      -70.30      -73.13      1   \n",
       "3                1      -87.57      -28.47       59.06      -58.45      1   \n",
       "4                1       33.89       46.88      -46.33       89.20      1   \n",
       "5                1      -66.80       -0.05       77.08       58.13      1   \n",
       "6                0        8.81       28.71        3.39       53.50      0   \n",
       "7                0       76.76       -0.00      -69.95      -73.13      0   \n",
       "8                0      -52.62      -14.59       64.35       41.10      0   \n",
       "9                0       64.50        9.06        6.42       -6.44      0   \n",
       "10               1       36.48       20.21       32.21      -41.38      1   \n",
       "11               0       76.76      -66.72       -2.41        0.01      1   \n",
       "12               1        6.06      -63.53        0.54      -37.69      1   \n",
       "13               0       50.01      -57.24      -92.66        0.16      0   \n",
       "14               0      -35.48       51.88      -42.96        1.60      0   \n",
       "15               0       16.40       96.16       80.77       30.14      0   \n",
       "16               1       70.94      -65.87       94.91      -67.22      1   \n",
       "17               1       70.53       46.76      -76.48       -0.20      1   \n",
       "18               1       70.74       -5.63       -3.37        0.43      1   \n",
       "19               1      -62.35       -0.08       27.74       18.65      0   \n",
       "\n",
       "     Score  \n",
       "0   0.5714  \n",
       "1   1.0000  \n",
       "2   0.5443  \n",
       "3   0.5181  \n",
       "4   1.0000  \n",
       "5   1.0000  \n",
       "6   1.0000  \n",
       "7   1.0000  \n",
       "8   1.0000  \n",
       "9   1.0000  \n",
       "10  1.0000  \n",
       "11  0.5023  \n",
       "12  1.0000  \n",
       "13  1.0000  \n",
       "14  1.0000  \n",
       "15  0.5718  \n",
       "16  1.0000  \n",
       "17  1.0000  \n",
       "18  1.0000  \n",
       "19  0.5238  "
      ]
     },
     "execution_count": 71,
     "metadata": {},
     "output_type": "execute_result"
    }
   ],
   "source": [
    "new_prediction.head(20)"
   ]
  },
  {
   "cell_type": "code",
   "execution_count": 72,
   "metadata": {},
   "outputs": [],
   "source": [
    "file = open(today + \"_\" + model + \"_binary_classification_log_\" + pair + \".txt\", \"w\")\n",
    "file.write (\"Date: \" + today + \"\\n\" + \\\n",
    "            \"Currency Pair: \" + pair + \"\\n\" + \\\n",
    "            \"Model: \" + model + \"\\n\" + \\\n",
    "            \"Frac: \" + str(frac) + \"\\n\" + \\\n",
    "            \"Random State: \" + str(random_state) + \"\\n\" )\n",
    "file.close()"
   ]
  },
  {
   "cell_type": "markdown",
   "metadata": {},
   "source": [
    "### Final Test"
   ]
  },
  {
   "cell_type": "code",
   "execution_count": 73,
   "metadata": {},
   "outputs": [],
   "source": [
    "filename = '{}_H4.csv'.format(instrument)\n",
    "data = pd.read_csv(filename)"
   ]
  },
  {
   "cell_type": "code",
   "execution_count": 74,
   "metadata": {},
   "outputs": [],
   "source": [
    "random_samples = data[data[volume] > volume_size].sample(n = sample_count)\n",
    "Test_Candle = list(random_samples.index.values)"
   ]
  },
  {
   "cell_type": "code",
   "execution_count": 75,
   "metadata": {},
   "outputs": [
    {
     "name": "stdout",
     "output_type": "stream",
     "text": [
      "Transformation Pipeline and Model Successfully Loaded\n"
     ]
    }
   ],
   "source": [
    "#LR_FINAL_MODEL = load_model('FINAL_MODELS/EURUSD/FINAL_LR_25Nov2021_EURUSD')\n",
    "#ET_FINAL_MODEL = load_model('FINAL_MODELS/EURUSD/FINAL_ET_25Nov2021_EURUSD')\n",
    "KNN_FINAL_MODEL = load_model('02-02-2022_03-29_AM_knn_GBP_USD')\n",
    "#DT_FINAL_MODEL = load_model('FINAL_MODELS/USDCAD/10-01-2022_06-15_AM_dt_USDCAD')\n",
    "#GBC_FINAL_MODEL = load_model('FINAL_MODELS/USDCAD/10-01-2022_07-12_AM_gbc_USDCAD')\n",
    "#LIGHTGBM_FINAL_MODEL = load_model('FINAL_MODELS/GBPUSD/09-01-2022_10-58_PM_lightgbm_GBPUSD')"
   ]
  },
  {
   "cell_type": "code",
   "execution_count": 76,
   "metadata": {},
   "outputs": [
    {
     "name": "stdout",
     "output_type": "stream",
     "text": [
      "Today: 02-02-2022_03-29_AM\n"
     ]
    },
    {
     "name": "stderr",
     "output_type": "stream",
     "text": [
      "/home/mladmin/Data/Forexience/venv/lib/python3.8/site-packages/sklearn/utils/deprecation.py:101: FutureWarning: Attribute standard_coef_ was deprecated in version 0.23 and will be removed in 0.25.\n",
      "  warnings.warn(msg, category=FutureWarning)\n",
      "/home/mladmin/Data/Forexience/venv/lib/python3.8/site-packages/sklearn/utils/deprecation.py:101: FutureWarning: Attribute standard_intercept_ was deprecated in version 0.23 and will be removed in 0.25.\n",
      "  warnings.warn(msg, category=FutureWarning)\n",
      "/home/mladmin/Data/Forexience/venv/lib/python3.8/site-packages/sklearn/utils/deprecation.py:101: FutureWarning: Attribute average_coef_ was deprecated in version 0.23 and will be removed in 0.25.\n",
      "  warnings.warn(msg, category=FutureWarning)\n",
      "/home/mladmin/Data/Forexience/venv/lib/python3.8/site-packages/sklearn/utils/deprecation.py:101: FutureWarning: Attribute average_intercept_ was deprecated in version 0.23 and will be removed in 0.25.\n",
      "  warnings.warn(msg, category=FutureWarning)\n",
      "/home/mladmin/Data/Forexience/venv/lib/python3.8/site-packages/sklearn/utils/deprecation.py:101: FutureWarning: Attribute standard_coef_ was deprecated in version 0.23 and will be removed in 0.25.\n",
      "  warnings.warn(msg, category=FutureWarning)\n",
      "/home/mladmin/Data/Forexience/venv/lib/python3.8/site-packages/sklearn/utils/deprecation.py:101: FutureWarning: Attribute standard_intercept_ was deprecated in version 0.23 and will be removed in 0.25.\n",
      "  warnings.warn(msg, category=FutureWarning)\n",
      "/home/mladmin/Data/Forexience/venv/lib/python3.8/site-packages/sklearn/utils/deprecation.py:101: FutureWarning: Attribute average_coef_ was deprecated in version 0.23 and will be removed in 0.25.\n",
      "  warnings.warn(msg, category=FutureWarning)\n",
      "/home/mladmin/Data/Forexience/venv/lib/python3.8/site-packages/sklearn/utils/deprecation.py:101: FutureWarning: Attribute average_intercept_ was deprecated in version 0.23 and will be removed in 0.25.\n",
      "  warnings.warn(msg, category=FutureWarning)\n",
      "/home/mladmin/Data/Forexience/venv/lib/python3.8/site-packages/sklearn/utils/deprecation.py:101: FutureWarning: Attribute standard_coef_ was deprecated in version 0.23 and will be removed in 0.25.\n",
      "  warnings.warn(msg, category=FutureWarning)\n",
      "/home/mladmin/Data/Forexience/venv/lib/python3.8/site-packages/sklearn/utils/deprecation.py:101: FutureWarning: Attribute standard_intercept_ was deprecated in version 0.23 and will be removed in 0.25.\n",
      "  warnings.warn(msg, category=FutureWarning)\n",
      "/home/mladmin/Data/Forexience/venv/lib/python3.8/site-packages/sklearn/utils/deprecation.py:101: FutureWarning: Attribute average_coef_ was deprecated in version 0.23 and will be removed in 0.25.\n",
      "  warnings.warn(msg, category=FutureWarning)\n",
      "/home/mladmin/Data/Forexience/venv/lib/python3.8/site-packages/sklearn/utils/deprecation.py:101: FutureWarning: Attribute average_intercept_ was deprecated in version 0.23 and will be removed in 0.25.\n",
      "  warnings.warn(msg, category=FutureWarning)\n",
      "/home/mladmin/Data/Forexience/venv/lib/python3.8/site-packages/sklearn/utils/deprecation.py:101: FutureWarning: Attribute standard_coef_ was deprecated in version 0.23 and will be removed in 0.25.\n",
      "  warnings.warn(msg, category=FutureWarning)\n",
      "/home/mladmin/Data/Forexience/venv/lib/python3.8/site-packages/sklearn/utils/deprecation.py:101: FutureWarning: Attribute standard_intercept_ was deprecated in version 0.23 and will be removed in 0.25.\n",
      "  warnings.warn(msg, category=FutureWarning)\n",
      "/home/mladmin/Data/Forexience/venv/lib/python3.8/site-packages/sklearn/utils/deprecation.py:101: FutureWarning: Attribute average_coef_ was deprecated in version 0.23 and will be removed in 0.25.\n",
      "  warnings.warn(msg, category=FutureWarning)\n",
      "/home/mladmin/Data/Forexience/venv/lib/python3.8/site-packages/sklearn/utils/deprecation.py:101: FutureWarning: Attribute average_intercept_ was deprecated in version 0.23 and will be removed in 0.25.\n",
      "  warnings.warn(msg, category=FutureWarning)\n",
      "/home/mladmin/Data/Forexience/venv/lib/python3.8/site-packages/sklearn/utils/deprecation.py:101: FutureWarning: Attribute standard_coef_ was deprecated in version 0.23 and will be removed in 0.25.\n",
      "  warnings.warn(msg, category=FutureWarning)\n",
      "/home/mladmin/Data/Forexience/venv/lib/python3.8/site-packages/sklearn/utils/deprecation.py:101: FutureWarning: Attribute standard_intercept_ was deprecated in version 0.23 and will be removed in 0.25.\n",
      "  warnings.warn(msg, category=FutureWarning)\n",
      "/home/mladmin/Data/Forexience/venv/lib/python3.8/site-packages/sklearn/utils/deprecation.py:101: FutureWarning: Attribute average_coef_ was deprecated in version 0.23 and will be removed in 0.25.\n",
      "  warnings.warn(msg, category=FutureWarning)\n",
      "/home/mladmin/Data/Forexience/venv/lib/python3.8/site-packages/sklearn/utils/deprecation.py:101: FutureWarning: Attribute average_intercept_ was deprecated in version 0.23 and will be removed in 0.25.\n",
      "  warnings.warn(msg, category=FutureWarning)\n",
      "/home/mladmin/Data/Forexience/venv/lib/python3.8/site-packages/sklearn/utils/deprecation.py:101: FutureWarning: Attribute standard_coef_ was deprecated in version 0.23 and will be removed in 0.25.\n",
      "  warnings.warn(msg, category=FutureWarning)\n",
      "/home/mladmin/Data/Forexience/venv/lib/python3.8/site-packages/sklearn/utils/deprecation.py:101: FutureWarning: Attribute standard_intercept_ was deprecated in version 0.23 and will be removed in 0.25.\n",
      "  warnings.warn(msg, category=FutureWarning)\n",
      "/home/mladmin/Data/Forexience/venv/lib/python3.8/site-packages/sklearn/utils/deprecation.py:101: FutureWarning: Attribute average_coef_ was deprecated in version 0.23 and will be removed in 0.25.\n",
      "  warnings.warn(msg, category=FutureWarning)\n",
      "/home/mladmin/Data/Forexience/venv/lib/python3.8/site-packages/sklearn/utils/deprecation.py:101: FutureWarning: Attribute average_intercept_ was deprecated in version 0.23 and will be removed in 0.25.\n",
      "  warnings.warn(msg, category=FutureWarning)\n",
      "/home/mladmin/Data/Forexience/venv/lib/python3.8/site-packages/sklearn/utils/deprecation.py:101: FutureWarning: Attribute standard_coef_ was deprecated in version 0.23 and will be removed in 0.25.\n",
      "  warnings.warn(msg, category=FutureWarning)\n",
      "/home/mladmin/Data/Forexience/venv/lib/python3.8/site-packages/sklearn/utils/deprecation.py:101: FutureWarning: Attribute standard_intercept_ was deprecated in version 0.23 and will be removed in 0.25.\n",
      "  warnings.warn(msg, category=FutureWarning)\n",
      "/home/mladmin/Data/Forexience/venv/lib/python3.8/site-packages/sklearn/utils/deprecation.py:101: FutureWarning: Attribute average_coef_ was deprecated in version 0.23 and will be removed in 0.25.\n",
      "  warnings.warn(msg, category=FutureWarning)\n",
      "/home/mladmin/Data/Forexience/venv/lib/python3.8/site-packages/sklearn/utils/deprecation.py:101: FutureWarning: Attribute average_intercept_ was deprecated in version 0.23 and will be removed in 0.25.\n",
      "  warnings.warn(msg, category=FutureWarning)\n",
      "/home/mladmin/Data/Forexience/venv/lib/python3.8/site-packages/sklearn/utils/deprecation.py:101: FutureWarning: Attribute standard_coef_ was deprecated in version 0.23 and will be removed in 0.25.\n",
      "  warnings.warn(msg, category=FutureWarning)\n",
      "/home/mladmin/Data/Forexience/venv/lib/python3.8/site-packages/sklearn/utils/deprecation.py:101: FutureWarning: Attribute standard_intercept_ was deprecated in version 0.23 and will be removed in 0.25.\n",
      "  warnings.warn(msg, category=FutureWarning)\n",
      "/home/mladmin/Data/Forexience/venv/lib/python3.8/site-packages/sklearn/utils/deprecation.py:101: FutureWarning: Attribute average_coef_ was deprecated in version 0.23 and will be removed in 0.25.\n",
      "  warnings.warn(msg, category=FutureWarning)\n",
      "/home/mladmin/Data/Forexience/venv/lib/python3.8/site-packages/sklearn/utils/deprecation.py:101: FutureWarning: Attribute average_intercept_ was deprecated in version 0.23 and will be removed in 0.25.\n",
      "  warnings.warn(msg, category=FutureWarning)\n",
      "/home/mladmin/Data/Forexience/venv/lib/python3.8/site-packages/sklearn/utils/deprecation.py:101: FutureWarning: Attribute standard_coef_ was deprecated in version 0.23 and will be removed in 0.25.\n",
      "  warnings.warn(msg, category=FutureWarning)\n",
      "/home/mladmin/Data/Forexience/venv/lib/python3.8/site-packages/sklearn/utils/deprecation.py:101: FutureWarning: Attribute standard_intercept_ was deprecated in version 0.23 and will be removed in 0.25.\n",
      "  warnings.warn(msg, category=FutureWarning)\n",
      "/home/mladmin/Data/Forexience/venv/lib/python3.8/site-packages/sklearn/utils/deprecation.py:101: FutureWarning: Attribute average_coef_ was deprecated in version 0.23 and will be removed in 0.25.\n",
      "  warnings.warn(msg, category=FutureWarning)\n",
      "/home/mladmin/Data/Forexience/venv/lib/python3.8/site-packages/sklearn/utils/deprecation.py:101: FutureWarning: Attribute average_intercept_ was deprecated in version 0.23 and will be removed in 0.25.\n",
      "  warnings.warn(msg, category=FutureWarning)\n"
     ]
    },
    {
     "name": "stderr",
     "output_type": "stream",
     "text": [
      "/home/mladmin/Data/Forexience/venv/lib/python3.8/site-packages/sklearn/utils/deprecation.py:101: FutureWarning: Attribute standard_coef_ was deprecated in version 0.23 and will be removed in 0.25.\n",
      "  warnings.warn(msg, category=FutureWarning)\n",
      "/home/mladmin/Data/Forexience/venv/lib/python3.8/site-packages/sklearn/utils/deprecation.py:101: FutureWarning: Attribute standard_intercept_ was deprecated in version 0.23 and will be removed in 0.25.\n",
      "  warnings.warn(msg, category=FutureWarning)\n",
      "/home/mladmin/Data/Forexience/venv/lib/python3.8/site-packages/sklearn/utils/deprecation.py:101: FutureWarning: Attribute average_coef_ was deprecated in version 0.23 and will be removed in 0.25.\n",
      "  warnings.warn(msg, category=FutureWarning)\n",
      "/home/mladmin/Data/Forexience/venv/lib/python3.8/site-packages/sklearn/utils/deprecation.py:101: FutureWarning: Attribute average_intercept_ was deprecated in version 0.23 and will be removed in 0.25.\n",
      "  warnings.warn(msg, category=FutureWarning)\n"
     ]
    },
    {
     "name": "stdout",
     "output_type": "stream",
     "text": [
      "CPU times: user 7h 56min 2s, sys: 9h 27min 49s, total: 17h 23min 51s\n",
      "Wall time: 2h 56min 29s\n"
     ]
    }
   ],
   "source": [
    "%%time\n",
    "print ('Today: ' + today)\n",
    "\n",
    "result_output = pd.DataFrame({'Candle_No':[],\n",
    "                              'Current_Market_Fit':[],\n",
    "                              'Current_Market':[],\n",
    "#                              'Rec1':[],\n",
    "#                              'Rec1_P':[],\n",
    "#                              'Rec2':[],\n",
    "#                              'Rec2_P':[],\n",
    "#                              'Rec3':[],\n",
    "#                              'Rec3_P':[],\n",
    "#                              'LR_Label':[],\n",
    "#                              'LR_Score':[],\n",
    "#                              'ET_Label':[],\n",
    "#                              'ET_Score':[],\n",
    "                              'KNN_Label':[],\n",
    "                              'KNN_Score':[],\n",
    "#                              'DT_Label':[],\n",
    "#                              'DT_Score':[],\n",
    "#                              'LIGHTGBM_Label':[],\n",
    "#                              'LIGHTGBM_Score':[],\n",
    "#                              'GBC_Label':[],\n",
    "#                              'GBC_Score':[],                              \n",
    "                             })\n",
    "\n",
    "for candle_no in Test_Candle:\n",
    "    data = pd.read_csv(filename)\n",
    "    data = data.iloc[candle_no:candle_no+candles]\n",
    "    data['candleno'] = range (1, len(data) + 1)\n",
    "    X = data['candleno'].values.reshape(-1, 1)\n",
    "    Y = data['Close'].values.reshape(-1, 1)\n",
    "    linear_regressor = LinearRegression()\n",
    "    linear_regressor.fit(X, Y)\n",
    "    y_pred = linear_regressor.predict(X) \n",
    "    \n",
    "    Current_Market_Fit = r2_score(Y, y_pred)*100\n",
    "    coeficient = (linear_regressor.coef_)\n",
    "\n",
    "    if coeficient > 0:\n",
    "        Current_Market= 1\n",
    "\n",
    "    else:\n",
    "        Current_Market = 0\n",
    "\n",
    "    data = pd.read_csv(filename)\n",
    "    data = data[[feature_1,\n",
    "                 feature_2,\n",
    "                 feature_3,\n",
    "                 feature_7,\n",
    "                 feature_8,\n",
    "                ]]\n",
    "\n",
    "    indices, distances = find_k_similar_candles (candle_no,data)\n",
    "    indices = indices[0:1][0]\n",
    "    \n",
    "    predicted_output = []\n",
    "    recs = []\n",
    "    for indice in indices[1:5]:\n",
    "             \n",
    "        Predicted_Market_Fit =0\n",
    "        Predicted_Trade=''\n",
    "    \n",
    "        data = pd.read_csv(filename) \n",
    "        data = data.iloc[indice:indice+candles]\n",
    "\n",
    "        data['candleno'] = range (1, len(data) + 1)\n",
    "        X = data['candleno'].values.reshape(-1, 1)\n",
    "        Y = data['Close'].values.reshape(-1, 1)\n",
    "        linear_regressor = LinearRegression()\n",
    "        linear_regressor.fit(X, Y)\n",
    "        y_pred = linear_regressor.predict(X)\n",
    "\n",
    "        Predicted_Market_Fit= r2_score(Y, y_pred)*100\n",
    "        coeficient = (linear_regressor.coef_)\n",
    "\n",
    "        if coeficient > 0:\n",
    "            Predicted_Trade = 'BUY'\n",
    "            recs.append((r2_score(Y, y_pred)*100))\n",
    "        else:\n",
    "            Predicted_Trade = 'SELL'\n",
    "            recs.append((r2_score(Y, y_pred)*100) * -1)\n",
    "        \n",
    "        predicted_output.append([Predicted_Market_Fit,Predicted_Trade])\n",
    "        \n",
    "        \n",
    "    data_unseen = pd.DataFrame ({\n",
    "        'Rec1_Score': [recs[0]],\n",
    "        'Rec2_Score': [recs[1]],\n",
    "        'Rec3_Score': [recs[2]],\n",
    "        'Rec4_Score': [recs[3]],\n",
    "    })\n",
    "    \n",
    "#    lr_prediction = predict_model(LR_FINAL_MODEL, data=data_unseen)\n",
    "#    LR_Label = lr_prediction['Label']\n",
    "#    LR_Score = lr_prediction['Score']\n",
    "    \n",
    "#    et_prediction = predict_model(ET_FINAL_MODEL, data=data_unseen)\n",
    "#    ET_Label = et_prediction['Label']\n",
    "#    ET_Score = et_prediction['Score']\n",
    "    \n",
    "    knn_prediction = predict_model(KNN_FINAL_MODEL, data=data_unseen)\n",
    "    KNN_Label = knn_prediction['Label']\n",
    "    KNN_Score = knn_prediction['Score']\n",
    "    \n",
    "#    dt_prediction = predict_model(DT_FINAL_MODEL, data=data_unseen)\n",
    "#    DT_Label = dt_prediction['Label']\n",
    "#    DT_Score = dt_prediction['Score']\n",
    "    \n",
    "#    lightgbm_prediction = predict_model(LIGHTGBM_FINAL_MODEL, data=data_unseen)\n",
    "#    LIGHTGBM_Label = lightgbm_prediction['Label']\n",
    "#    LIGHTGBM_Score = lightgbm_prediction['Score']\n",
    "\n",
    "#    gbc_prediction = predict_model(GBC_FINAL_MODEL, data=data_unseen)\n",
    "#    GBC_Label = gbc_prediction['Label']\n",
    "#    GBC_Score = gbc_prediction['Score']    \n",
    "    \n",
    "    result = {'Candle_No': candle_no,\n",
    "              'Current_Market_Fit': Current_Market_Fit,\n",
    "              'Current_Market': Current_Market,\n",
    "#              'Rec1': predicted_output[0][0],\n",
    "#              'Rec1_P': predicted_output[0][1],\n",
    "#              'Rec2': predicted_output[1][0],\n",
    "#              'Rec2_P': predicted_output[1][1],\n",
    "#              'Rec3': predicted_output[2][0],\n",
    "#              'Rec3_P': predicted_output[2][1],\n",
    "#              'LR_Label': LR_Label[0],\n",
    "#              'LR_Score': LR_Score[0],\n",
    "#              'ET_Label': ET_Label[0],\n",
    "#              'ET_Score': ET_Score[0],\n",
    "              'KNN_Label': KNN_Label[0],\n",
    "              'KNN_Score': KNN_Score[0],\n",
    "#              'DT_Label': DT_Label[0],\n",
    "#              'DT_Score': DT_Score[0],\n",
    "#              'LIGHTGBM_Label': LIGHTGBM_Label[0],\n",
    "#              'LIGHTGBM_Score': LIGHTGBM_Score[0],\n",
    "#              'GBC_Label': GBC_Label[0],\n",
    "#              'GBC_Score': GBC_Score[0],              \n",
    "             }\n",
    "    \n",
    "    result_output = result_output.append(result, ignore_index = True)"
   ]
  },
  {
   "cell_type": "code",
   "execution_count": 77,
   "metadata": {},
   "outputs": [],
   "source": [
    "result_output.to_csv('03_Back_Test_Final_Result_' + today + '.csv', header = True, index = False)\n",
    "result_output = pd.read_csv('03_Back_Test_Final_Result_' + today + '.csv')"
   ]
  },
  {
   "cell_type": "code",
   "execution_count": 78,
   "metadata": {},
   "outputs": [],
   "source": [
    "result_output = result_output[result_output['Current_Market_Fit'] > 20]\n",
    "result_output = result_output.reset_index()\n",
    "del result_output['index']"
   ]
  },
  {
   "cell_type": "code",
   "execution_count": 79,
   "metadata": {},
   "outputs": [
    {
     "data": {
      "text/plain": [
       "(7348, 5)"
      ]
     },
     "execution_count": 79,
     "metadata": {},
     "output_type": "execute_result"
    }
   ],
   "source": [
    "result_output.shape"
   ]
  },
  {
   "cell_type": "code",
   "execution_count": 80,
   "metadata": {},
   "outputs": [],
   "source": [
    "result_output.to_csv('03_Back_Test_Final_Result_' + today + '.csv', header = True, index = False)\n",
    "result_output = pd.read_csv('03_Back_Test_Final_Result_' + today + '.csv')"
   ]
  },
  {
   "cell_type": "code",
   "execution_count": 81,
   "metadata": {},
   "outputs": [],
   "source": [
    "#result_output['LR_Prediction'] = result_output['Current_Market'] - result_output['LR_Label']\n",
    "#result_output['ET_Prediction'] = result_output['Current_Market'] - result_output['ET_Label']\n",
    "result_output['KNN_Prediction'] = result_output['Current_Market'] - result_output['KNN_Label']\n",
    "#result_output['DT_Prediction'] = result_output['Current_Market'] - result_output['DT_Label']\n",
    "#result_output['LIGHTGBM_Prediction'] = result_output['Current_Market'] - result_output['LIGHTGBM_Label']\n",
    "#result_output['GBC_Prediction'] = result_output['Current_Market'] - result_output['GBC_Label']"
   ]
  },
  {
   "cell_type": "code",
   "execution_count": 82,
   "metadata": {},
   "outputs": [],
   "source": [
    "KNN_Result = pd.DataFrame(result_output['KNN_Prediction'].value_counts())\n",
    "KNN_Result[\"Score\"] = (KNN_Result['KNN_Prediction'] * 100 / len(result_output)).round(2)"
   ]
  },
  {
   "cell_type": "raw",
   "metadata": {},
   "source": [
    "GBC_Result = pd.DataFrame(result_output['GBC_Prediction'].value_counts())\n",
    "GBC_Result[\"Score\"] = (GBC_Result['GBC_Prediction'] * 100 / len(result_output)).round(2)"
   ]
  },
  {
   "cell_type": "code",
   "execution_count": 83,
   "metadata": {},
   "outputs": [
    {
     "data": {
      "text/html": [
       "<div>\n",
       "<style scoped>\n",
       "    .dataframe tbody tr th:only-of-type {\n",
       "        vertical-align: middle;\n",
       "    }\n",
       "\n",
       "    .dataframe tbody tr th {\n",
       "        vertical-align: top;\n",
       "    }\n",
       "\n",
       "    .dataframe thead th {\n",
       "        text-align: right;\n",
       "    }\n",
       "</style>\n",
       "<table border=\"1\" class=\"dataframe\">\n",
       "  <thead>\n",
       "    <tr style=\"text-align: right;\">\n",
       "      <th></th>\n",
       "      <th>KNN_Prediction</th>\n",
       "      <th>Score</th>\n",
       "    </tr>\n",
       "  </thead>\n",
       "  <tbody>\n",
       "    <tr>\n",
       "      <th>0.0</th>\n",
       "      <td>5497</td>\n",
       "      <td>74.81</td>\n",
       "    </tr>\n",
       "    <tr>\n",
       "      <th>-1.0</th>\n",
       "      <td>1019</td>\n",
       "      <td>13.87</td>\n",
       "    </tr>\n",
       "    <tr>\n",
       "      <th>1.0</th>\n",
       "      <td>832</td>\n",
       "      <td>11.32</td>\n",
       "    </tr>\n",
       "  </tbody>\n",
       "</table>\n",
       "</div>"
      ],
      "text/plain": [
       "      KNN_Prediction  Score\n",
       " 0.0            5497  74.81\n",
       "-1.0            1019  13.87\n",
       " 1.0             832  11.32"
      ]
     },
     "execution_count": 83,
     "metadata": {},
     "output_type": "execute_result"
    }
   ],
   "source": [
    "result = pd.concat([\n",
    "#    LR_Result,\n",
    "#    ET_Result,\n",
    "    KNN_Result,\n",
    "#    DT_Result,\n",
    "#    GBC_Result,\n",
    "#    LIGHTGBM_Result,\n",
    "], axis=1)\n",
    "result"
   ]
  },
  {
   "cell_type": "code",
   "execution_count": null,
   "metadata": {},
   "outputs": [],
   "source": []
  }
 ],
 "metadata": {
  "kernelspec": {
   "display_name": "Python 3 (ipykernel)",
   "language": "python",
   "name": "python3"
  },
  "language_info": {
   "codemirror_mode": {
    "name": "ipython",
    "version": 3
   },
   "file_extension": ".py",
   "mimetype": "text/x-python",
   "name": "python",
   "nbconvert_exporter": "python",
   "pygments_lexer": "ipython3",
   "version": "3.8.10"
  }
 },
 "nbformat": 4,
 "nbformat_minor": 2
}
