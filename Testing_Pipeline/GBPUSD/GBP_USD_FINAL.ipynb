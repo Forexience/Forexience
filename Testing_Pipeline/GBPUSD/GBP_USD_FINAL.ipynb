{
 "cells": [
  {
   "cell_type": "code",
   "execution_count": 4,
   "metadata": {},
   "outputs": [],
   "source": [
    "import requests\n",
    "import time\n",
    "import calendar\n",
    "import dateutil.parser as parser\n",
    "from dateutil.relativedelta import relativedelta\n",
    "from datetime import datetime, timezone\n",
    "import pandas as pd\n",
    "import numpy as np\n",
    "import warnings\n",
    "import yaml\n",
    "from sklearn.neighbors import NearestNeighbors\n",
    "from sklearn.linear_model import LinearRegression\n",
    "from sklearn import linear_model\n",
    "from sklearn.metrics import r2_score\n",
    "from sklearn.metrics import mean_squared_error\n",
    "warnings.filterwarnings('ignore')\n",
    "from pycaret.datasets import get_data\n",
    "from pycaret.classification import *"
   ]
  },
  {
   "cell_type": "markdown",
   "metadata": {},
   "source": [
    "### Get Candlestick Data"
   ]
  },
  {
   "cell_type": "code",
   "execution_count": 5,
   "metadata": {},
   "outputs": [],
   "source": [
    "now = datetime.now()"
   ]
  },
  {
   "cell_type": "code",
   "execution_count": 6,
   "metadata": {},
   "outputs": [],
   "source": [
    "with open ('back_test_pipeline_settings.yaml') as ymlfile:\n",
    "    cfg = yaml.safe_load(ymlfile)\n",
    "    k_number = cfg['knn']['k_number']\n",
    "    metric = cfg['knn']['metric']\n",
    "    algorithm = cfg['knn']['algorithm']\n",
    "    feature_1 = cfg['knn']['feature_1']\n",
    "    feature_2 = cfg['knn']['feature_2']\n",
    "    feature_3 = cfg['knn']['feature_3']\n",
    "    feature_7 = cfg['knn']['feature_7']\n",
    "    feature_8 = cfg['knn']['feature_8']\n",
    "    feature_9 = cfg['knn']['feature_9']\n",
    "    feature_10 = cfg['knn']['feature_10']\n",
    "    feature_11 = cfg['knn']['feature_11']\n",
    "    feature_12 = cfg['knn']['feature_12']\n",
    "    feature_13 = cfg['knn']['feature_13']\n",
    "    feature_14 = cfg['knn']['feature_14']\n",
    "    volume = cfg['feature']['volume']\n",
    "    volume_size = cfg['sample']['volume_size']\n",
    "    sample_count = cfg['sample']['count']\n",
    "    candles = cfg['recommendation']['candle_count']\n",
    "    pair = cfg['currency']['pair']\n",
    "    instrument = cfg['currency']['instrument']\n",
    "    frac = cfg['model']['frac']\n",
    "    random_state = cfg['model']['random_state']\n",
    "    model = cfg['model']['name']"
   ]
  },
  {
   "cell_type": "code",
   "execution_count": 7,
   "metadata": {},
   "outputs": [
    {
     "name": "stdout",
     "output_type": "stream",
     "text": [
      "K Number: 5\n",
      "Metric: euclidean\n",
      "Algorithm: brute\n",
      "Candle Volume Size: 2500\n",
      "Random Sample Count: 10000\n",
      "Future Candle Count: 7\n",
      "Pair: GBPUSD\n"
     ]
    }
   ],
   "source": [
    "print('K Number:',k_number)\n",
    "print('Metric:', metric)\n",
    "print('Algorithm:', algorithm)\n",
    "print('Candle Volume Size:', volume_size)\n",
    "print('Random Sample Count:', sample_count)\n",
    "print('Future Candle Count:', candles)\n",
    "print('Pair:', pair)"
   ]
  },
  {
   "cell_type": "code",
   "execution_count": 8,
   "metadata": {},
   "outputs": [],
   "source": [
    "with open ('config.yml') as ymlfile:\n",
    "    cfg = yaml.safe_load(ymlfile)\n",
    "    oanda_api_key = cfg['creds']['oanda_api']\n",
    "    account_number = cfg['creds']['account_number'] "
   ]
  },
  {
   "cell_type": "code",
   "execution_count": 9,
   "metadata": {},
   "outputs": [],
   "source": [
    "def convert_date(utc_time): \n",
    "    parsed_date = parser.parse(utc_time)\n",
    "    var_date=parsed_date.date()\n",
    "    var_time=parsed_date.time()\n",
    "    var_f_time=var_time.hour\n",
    "    var_julian_date=parsed_date.timetuple().tm_yday\n",
    "    var_weekday=parsed_date.weekday()\n",
    "    var_weekday_name=calendar.day_name[parsed_date.weekday()]\n",
    "    return var_date, var_time, var_f_time, var_julian_date, var_weekday, var_weekday_name"
   ]
  },
  {
   "cell_type": "code",
   "execution_count": 10,
   "metadata": {},
   "outputs": [
    {
     "name": "stdout",
     "output_type": "stream",
     "text": [
      "Instrument: GBP_USD\n"
     ]
    }
   ],
   "source": [
    "print('Instrument:', instrument)"
   ]
  },
  {
   "cell_type": "code",
   "execution_count": 8,
   "metadata": {},
   "outputs": [],
   "source": [
    "Load_10K_Records=True\n",
    "Load_20K_Records=True\n",
    "\n",
    "currency_pairs = [instrument]\n",
    "\n",
    "\n",
    "timeframe = \"H4\"\n",
    "#D #H1 #H4 M30\n",
    "# https://developer.oanda.com/rest-live-v20/instrument-df/#CandlestickGranularity\n",
    "price_char = \"M\"\n",
    "#M(midpoint candles) #B(bid candles) #A(ask candles) #BA\n",
    "price_com = \"mid\"\n",
    "#mid #bid #ask\n",
    "\n",
    "# def of OANDA request variable\n",
    "provider_api_url = 'https://api-fxpractice.oanda.com/v3/accounts/{}/orders'.format(account_number)\n",
    "request_headers = {\n",
    "    \"Authorization\": oanda_api_key,\n",
    "    \"Accept-Datetime-Format\": \"RFC3339\",\n",
    "    \"Connection\": \"Keep-Alive\",\n",
    "    \"Content-Type\": \"application/json;charset=UTF-8\"\n",
    "}\n"
   ]
  },
  {
   "cell_type": "code",
   "execution_count": 9,
   "metadata": {},
   "outputs": [],
   "source": [
    "provider_authorization = 'Bearer {0}'.format(oanda_api_key)\n",
    "\n",
    "headers = {\n",
    "    'Content-Type': 'application/json',\n",
    "    'Authorization': provider_authorization,\n",
    "}"
   ]
  },
  {
   "cell_type": "code",
   "execution_count": 10,
   "metadata": {},
   "outputs": [],
   "source": [
    "params_count = (\n",
    "    ('price', price_char),\n",
    "    ('count', '5000'),\n",
    "    ('granularity', timeframe),\n",
    ")\n"
   ]
  },
  {
   "cell_type": "code",
   "execution_count": 11,
   "metadata": {},
   "outputs": [],
   "source": [
    "for pair in currency_pairs:\n",
    "    first_response = requests.get('https://api-fxpractice.oanda.com/v3/instruments/{}/candles'.format(pair), \n",
    "                            headers=headers,\n",
    "                            params=params_count).json()"
   ]
  },
  {
   "cell_type": "code",
   "execution_count": 12,
   "metadata": {},
   "outputs": [],
   "source": [
    "if Load_10K_Records:\n",
    "    \n",
    "    #### Load 10K data\n",
    "        \n",
    "    datetime_object = parser.parse(first_response['candles'][0]['time'])\n",
    "    date= datetime_object - relativedelta(years=3)  \n",
    "    from_date = date.replace(tzinfo=timezone.utc).timestamp()\n",
    "    params_date = (\n",
    "        ('count', '5000'),\n",
    "        ('price', price_char),\n",
    "        ('from', from_date),\n",
    "        ('granularity', timeframe),)\n",
    "\n",
    "    second_response = requests.get('https://api-fxpractice.oanda.com/v3/instruments/{}/candles'.format(pair),\n",
    "                                   headers=headers,\n",
    "                                   params=params_date).json()\n",
    "    datetime_object_15K = parser.parse(second_response['candles'][0]['time'])\n",
    "    first_response= first_response['candles']  \n",
    "    second_response= second_response['candles']\n",
    "    second_response.extend(first_response)\n",
    "    \n",
    "    if Load_20K_Records:\n",
    "\n",
    "        #### Load 15K data\n",
    "\n",
    "        date= datetime_object_15K - relativedelta(years=3)  \n",
    "        from_date = date.replace(tzinfo=timezone.utc).timestamp()\n",
    "        params_date = (\n",
    "            ('count', '5000'),\n",
    "            ('price', price_char),\n",
    "            ('from', from_date),\n",
    "            ('granularity', timeframe),)\n",
    "\n",
    "        third_response = requests.get('https://api-fxpractice.oanda.com/v3/instruments/{}/candles'.format(pair),\n",
    "                                       headers=headers,\n",
    "                                       params=params_date).json()\n",
    "        datetime_object_20K = parser.parse(third_response['candles'][0]['time'])\n",
    "        third_response= third_response['candles']\n",
    "        third_response.extend(second_response)\n",
    "\n",
    "        #### Load 20K data\n",
    "\n",
    "        date= datetime_object_20K - relativedelta(years=3)  \n",
    "        from_date = date.replace(tzinfo=timezone.utc).timestamp()\n",
    "        params_date = (\n",
    "            ('count', '5000'),\n",
    "            ('price', price_char),\n",
    "            ('from', from_date),\n",
    "            ('granularity', timeframe),)\n",
    "\n",
    "        fourth_response = requests.get('https://api-fxpractice.oanda.com/v3/instruments/{}/candles'.format(pair),\n",
    "                                       headers=headers,\n",
    "                                       params=params_date).json()\n",
    "        datetime_object_20K = parser.parse(fourth_response['candles'][0]['time'])\n",
    "        fourth_response= fourth_response['candles']\n",
    "        fourth_response.extend(third_response)\n",
    "\n",
    "        response=fourth_response\n",
    "    else:\n",
    "       response=second_response \n",
    "else:\n",
    "    response=first_response['candles']"
   ]
  },
  {
   "cell_type": "code",
   "execution_count": 13,
   "metadata": {},
   "outputs": [],
   "source": [
    "filename = \"{}_{}.csv\".format(pair, timeframe)\n",
    "output = []\n",
    "all_candlesticks = response\n",
    "\n",
    "for i in range (len(all_candlesticks)):\n",
    "    result= (convert_date(response[i]['time']))\n",
    "    output.append([(result[0]),(result[1]),(result[2]),(result[3]),(result[4]),(result[5]),\n",
    "                    response[i]['time'],\n",
    "                    response[i]['volume'], \n",
    "                    response[i][price_com]['o'],\n",
    "                    response[i][price_com]['h'],\n",
    "                    response[i][price_com]['l'],\n",
    "                    response[i][price_com]['c']])\n",
    "    \n",
    "output = pd.DataFrame(output)\n",
    "output.columns = ['Date','Time','f_time','julian_date','Weekday','Weekday_Name','UTC_Time', 'Volume', 'Open', 'High', 'Low', 'Close']\n",
    "data = output.to_csv(filename, header = True, index = False)\n",
    "data = pd.read_csv(filename)"
   ]
  },
  {
   "cell_type": "code",
   "execution_count": 14,
   "metadata": {},
   "outputs": [],
   "source": [
    "data = data.drop_duplicates()\n",
    "data = data.to_csv(filename, header = True, index = False)\n",
    "data = pd.read_csv(filename)"
   ]
  },
  {
   "cell_type": "code",
   "execution_count": 15,
   "metadata": {},
   "outputs": [
    {
     "data": {
      "text/plain": [
       "(19341, 12)"
      ]
     },
     "execution_count": 15,
     "metadata": {},
     "output_type": "execute_result"
    }
   ],
   "source": [
    "data.shape"
   ]
  },
  {
   "cell_type": "raw",
   "metadata": {},
   "source": [
    "data.head(5)"
   ]
  },
  {
   "cell_type": "raw",
   "metadata": {},
   "source": [
    "data.tail(5)"
   ]
  },
  {
   "cell_type": "code",
   "execution_count": 16,
   "metadata": {},
   "outputs": [],
   "source": [
    "data['SMA_5'] = data['Close'].rolling(window=5).mean().round(4)\n",
    "data['SMA_10'] = data['Close'].rolling(window=10).mean().round(4)\n",
    "data['SMA_20'] = data['Close'].rolling(window=20).mean().round(4)"
   ]
  },
  {
   "cell_type": "code",
   "execution_count": 17,
   "metadata": {},
   "outputs": [],
   "source": [
    "data['F_SMA_5'] = data['Close'] - data['SMA_5']\n",
    "data['F_SMA_10'] = data['Close'] - data['SMA_10']\n",
    "data['F_SMA_20'] = data['Close'] - data['SMA_20']"
   ]
  },
  {
   "cell_type": "code",
   "execution_count": 18,
   "metadata": {},
   "outputs": [],
   "source": [
    "data = data.drop_duplicates()\n",
    "data = data.to_csv(filename, header = True, index = False)\n",
    "data = pd.read_csv(filename)"
   ]
  },
  {
   "cell_type": "code",
   "execution_count": 19,
   "metadata": {},
   "outputs": [],
   "source": [
    "data['O-H'] = data['Open'] - data['High']\n",
    "data['O-L'] = data['Open'] - data['Low']\n",
    "data['O-C'] = data['Open'] - data['Close']\n",
    "data['H-L'] = data['High'] - data['Low']\n",
    "data['H-C'] = data['High'] - data['Close']\n",
    "data['L-C'] = data['Low'] - data['Close']\n",
    "\n",
    "data['Direction'] = data['O-C'].apply(lambda x: 1 if x<0 else 0)\n",
    "\n",
    "data['col_1'] = data['Open'] - data['Close']\n",
    "\n",
    "for value in data['col_1']:   \n",
    "    if value > 0:\n",
    "        data['col_2'] = data['High'] - data['Open']\n",
    "        data['col_3'] = data['Close'] - data['Low']\n",
    "    else:\n",
    "        data['col_2'] = data['High'] - data['Close']\n",
    "        data['col_3'] = data['Open'] - data['Low']\n",
    "\n",
    "#Two Previous Candlesticks \n",
    "data['col_4'] = data['col_1'].shift(1)\n",
    "data['col_5'] = data['col_1'].shift(2)"
   ]
  },
  {
   "cell_type": "code",
   "execution_count": 20,
   "metadata": {},
   "outputs": [],
   "source": [
    "data = data.dropna()\n",
    "data = data.to_csv(filename, header = True, index = False)\n",
    "data = pd.read_csv(filename)"
   ]
  },
  {
   "cell_type": "code",
   "execution_count": 21,
   "metadata": {},
   "outputs": [
    {
     "data": {
      "text/plain": [
       "(19322, 30)"
      ]
     },
     "execution_count": 21,
     "metadata": {},
     "output_type": "execute_result"
    }
   ],
   "source": [
    "data.shape"
   ]
  },
  {
   "cell_type": "markdown",
   "metadata": {},
   "source": [
    "### Generating Training Data"
   ]
  },
  {
   "cell_type": "code",
   "execution_count": 22,
   "metadata": {},
   "outputs": [],
   "source": [
    "def convert_date(utc_time): \n",
    "    parsed_date = parser.parse(utc_time)\n",
    "    var_date=parsed_date.date()\n",
    "    var_time=parsed_date.time()\n",
    "    var_f_time=var_time.hour\n",
    "    var_julian_date=parsed_date.timetuple().tm_yday\n",
    "    var_weekday=parsed_date.weekday()\n",
    "    var_weekday_name=calendar.day_name[parsed_date.weekday()]\n",
    "    return var_date, var_time, var_f_time, var_julian_date, var_weekday, var_weekday_name"
   ]
  },
  {
   "cell_type": "code",
   "execution_count": 23,
   "metadata": {},
   "outputs": [
    {
     "name": "stdout",
     "output_type": "stream",
     "text": [
      "K Number: 5\n",
      "Metric: euclidean\n",
      "Algorithm: brute\n"
     ]
    }
   ],
   "source": [
    "print('K Number:',k_number)\n",
    "print('Metric:', metric)\n",
    "print('Algorithm:', algorithm)"
   ]
  },
  {
   "cell_type": "code",
   "execution_count": 11,
   "metadata": {},
   "outputs": [],
   "source": [
    "def find_k_similar_candles(candle_id, dataset, k = k_number):\n",
    "    indices=[]\n",
    "    distances = []\n",
    "    output = []\n",
    "    model_knn = NearestNeighbors(metric = metric, algorithm = algorithm) \n",
    "    model_knn.fit(dataset)\n",
    "    \n",
    "    #metric = 'euclidean' or 'cosine' or 'manhattan' or 'mahalanobis'\n",
    "    \n",
    "    distances, indices = model_knn.kneighbors(dataset.iloc[candle_id,:].values.reshape(1,-1),\n",
    "                                              n_neighbors = k)\n",
    "\n",
    "    for i in range(0,len(distances.flatten())):\n",
    "        if i!=0:\n",
    "            \n",
    "            output.append ([dataset.index[indices.flatten()[i]],\n",
    "                            distances.flatten()[i],\n",
    "                            dataset.iloc[indices.flatten()[i]][feature_9],\n",
    "                            dataset.iloc[indices.flatten()[i]][feature_10],\n",
    "                            dataset.iloc[indices.flatten()[i]][feature_11],\n",
    "                            dataset.iloc[indices.flatten()[i]][feature_12],\n",
    "                            dataset.iloc[indices.flatten()[i]][feature_13],\n",
    "                            dataset.iloc[indices.flatten()[i]][feature_14],\n",
    "                           ])\n",
    "    \n",
    "    output = pd.DataFrame(output)\n",
    "    output.columns = ['Indice','Distance',\n",
    "                      feature_9,\n",
    "                      feature_10,\n",
    "                      feature_11,\n",
    "                      feature_12,\n",
    "                      feature_13,\n",
    "                      feature_14,\n",
    "                     ]\n",
    "   # display (output)\n",
    "    \n",
    "    return indices, distances"
   ]
  },
  {
   "cell_type": "markdown",
   "metadata": {},
   "source": [
    "# <font color='red'>Test Configs</font>"
   ]
  },
  {
   "cell_type": "code",
   "execution_count": 25,
   "metadata": {},
   "outputs": [],
   "source": [
    "filename = '{}_H4.csv'.format(instrument)\n",
    "data = pd.read_csv(filename)"
   ]
  },
  {
   "cell_type": "code",
   "execution_count": 26,
   "metadata": {},
   "outputs": [
    {
     "data": {
      "text/plain": [
       "Index(['Date', 'Time', 'f_time', 'julian_date', 'Weekday', 'Weekday_Name',\n",
       "       'UTC_Time', 'Volume', 'Open', 'High', 'Low', 'Close', 'SMA_5', 'SMA_10',\n",
       "       'SMA_20', 'F_SMA_5', 'F_SMA_10', 'F_SMA_20', 'O-H', 'O-L', 'O-C', 'H-L',\n",
       "       'H-C', 'L-C', 'Direction', 'col_1', 'col_2', 'col_3', 'col_4', 'col_5'],\n",
       "      dtype='object')"
      ]
     },
     "execution_count": 26,
     "metadata": {},
     "output_type": "execute_result"
    }
   ],
   "source": [
    "data.columns"
   ]
  },
  {
   "cell_type": "markdown",
   "metadata": {},
   "source": [
    "## Selecting n random candles where their volume is more than x"
   ]
  },
  {
   "cell_type": "code",
   "execution_count": 27,
   "metadata": {},
   "outputs": [
    {
     "name": "stdout",
     "output_type": "stream",
     "text": [
      "Candle Volume Size: 2500\n",
      "Random Sample Count: 10000\n"
     ]
    }
   ],
   "source": [
    "print('Candle Volume Size:', volume_size)\n",
    "print('Random Sample Count:', sample_count)"
   ]
  },
  {
   "cell_type": "code",
   "execution_count": 28,
   "metadata": {},
   "outputs": [],
   "source": [
    "random_samples = data[data[volume] > volume_size].sample(n = sample_count)"
   ]
  },
  {
   "cell_type": "code",
   "execution_count": 29,
   "metadata": {},
   "outputs": [],
   "source": [
    "#Random_Candles = np.random.randint(low=1, high=len(data)-40, size=1000)\n",
    "Random_Candles = list(random_samples.index.values)"
   ]
  },
  {
   "cell_type": "raw",
   "metadata": {},
   "source": [
    "#show the fisrt 10 random generated candle numbers\n",
    "Random_Candles[0:10]"
   ]
  },
  {
   "cell_type": "markdown",
   "metadata": {},
   "source": [
    "# <font color='red'>CANDLE LOOP</font>"
   ]
  },
  {
   "cell_type": "code",
   "execution_count": 30,
   "metadata": {},
   "outputs": [],
   "source": [
    "now = datetime.now()\n",
    "today = now.strftime(\"%d-%m-%Y_%I-%M_%p\")"
   ]
  },
  {
   "cell_type": "code",
   "execution_count": 31,
   "metadata": {},
   "outputs": [
    {
     "name": "stdout",
     "output_type": "stream",
     "text": [
      "Today: 03-02-2022_05-51_AM\n",
      "CPU times: user 5h 32min 47s, sys: 6h 22min 24s, total: 11h 55min 11s\n",
      "Wall time: 2h 21min 41s\n"
     ]
    }
   ],
   "source": [
    "%%time\n",
    "print ('Today: ' + today)\n",
    "\n",
    "result_output = pd.DataFrame({'Candle_No':[],\n",
    "                              'Current_Market_Fit':[],\n",
    "                              'Current_Market':[],\n",
    "                              'Rec1_Score':[],\n",
    "                              'Rec1_Prediction':[],\n",
    "                              'Rec2_Score':[],\n",
    "                              'Rec2_Prediction':[],\n",
    "                              'Rec3_Score':[],\n",
    "                              'Rec3_Prediction':[],\n",
    "                              'Rec4_Score':[],\n",
    "                              'Rec4_Prediction':[]\n",
    "                             })\n",
    "\n",
    "for candle_no in Random_Candles:\n",
    "    data = pd.read_csv(filename)\n",
    "    data = data.iloc[candle_no:candle_no+candles]\n",
    "    data['candleno'] = range (1, len(data) + 1)\n",
    "    X = data['candleno'].values.reshape(-1, 1)\n",
    "    Y = data['Close'].values.reshape(-1, 1)\n",
    "    linear_regressor = LinearRegression()\n",
    "    linear_regressor.fit(X, Y)\n",
    "    y_pred = linear_regressor.predict(X) \n",
    "    \n",
    "    Current_Market_Fit = r2_score(Y, y_pred)*100\n",
    "    #print(Current_Market_Fit)\n",
    "    coeficient = (linear_regressor.coef_)\n",
    "\n",
    "    if coeficient > 0:\n",
    "        Current_Market='Bullish'\n",
    "    else:\n",
    "        Current_Market = 'Bearish'\n",
    "    \n",
    "    data = pd.read_csv(filename)\n",
    "    data = data[[feature_9,\n",
    "                 feature_10,\n",
    "                 feature_11,\n",
    "                 feature_12,\n",
    "                 feature_13,\n",
    "                 feature_14,\n",
    "                ]]\n",
    "\n",
    "    indices, distances = find_k_similar_candles (candle_no,data)\n",
    "    indices = indices[0:1][0]\n",
    "    \n",
    "    predicted_output = []\n",
    "    recs = []\n",
    "    for indice in indices[1:5]:\n",
    "             \n",
    "        Predicted_Market_Fit =0\n",
    "        Predicted_Trade=''\n",
    "    \n",
    "        data = pd.read_csv(filename) \n",
    "        data = data.iloc[indice:indice+candles]\n",
    "\n",
    "        data['candleno'] = range (1, len(data) + 1)\n",
    "        X = data['candleno'].values.reshape(-1, 1)\n",
    "        Y = data['Close'].values.reshape(-1, 1)\n",
    "        linear_regressor = LinearRegression()\n",
    "        linear_regressor.fit(X, Y)\n",
    "        y_pred = linear_regressor.predict(X)\n",
    "\n",
    "        Predicted_Market_Fit= r2_score(Y, y_pred)*100\n",
    "        coeficient = (linear_regressor.coef_)\n",
    "\n",
    "        if coeficient > 0:\n",
    "            Predicted_Trade= 'BUY'\n",
    "        else:\n",
    "            Predicted_Trade = 'SELL'\n",
    "        \n",
    "        predicted_output.append([Predicted_Market_Fit,Predicted_Trade])\n",
    "        \n",
    "    result = {'Candle_No': candle_no,\n",
    "              'Current_Market_Fit': Current_Market_Fit,\n",
    "              'Current_Market': Current_Market,\n",
    "              'Rec1_Score': predicted_output[0][0],\n",
    "              'Rec1_Prediction': predicted_output[0][1],\n",
    "              'Rec2_Score': predicted_output[1][0],\n",
    "              'Rec2_Prediction': predicted_output[1][1],\n",
    "              'Rec3_Score': predicted_output[2][0],\n",
    "              'Rec3_Prediction': predicted_output[2][1],\n",
    "              'Rec4_Score': predicted_output[3][0],\n",
    "              'Rec4_Prediction': predicted_output[3][1],\n",
    "             }\n",
    "    \n",
    "    result_output = result_output.append(result, ignore_index = True)"
   ]
  },
  {
   "cell_type": "code",
   "execution_count": 32,
   "metadata": {},
   "outputs": [
    {
     "data": {
      "text/html": [
       "<div>\n",
       "<style scoped>\n",
       "    .dataframe tbody tr th:only-of-type {\n",
       "        vertical-align: middle;\n",
       "    }\n",
       "\n",
       "    .dataframe tbody tr th {\n",
       "        vertical-align: top;\n",
       "    }\n",
       "\n",
       "    .dataframe thead th {\n",
       "        text-align: right;\n",
       "    }\n",
       "</style>\n",
       "<table border=\"1\" class=\"dataframe\">\n",
       "  <thead>\n",
       "    <tr style=\"text-align: right;\">\n",
       "      <th></th>\n",
       "      <th>Candle_No</th>\n",
       "      <th>Current_Market_Fit</th>\n",
       "      <th>Current_Market</th>\n",
       "      <th>Rec1_Score</th>\n",
       "      <th>Rec1_Prediction</th>\n",
       "      <th>Rec2_Score</th>\n",
       "      <th>Rec2_Prediction</th>\n",
       "      <th>Rec3_Score</th>\n",
       "      <th>Rec3_Prediction</th>\n",
       "      <th>Rec4_Score</th>\n",
       "      <th>Rec4_Prediction</th>\n",
       "    </tr>\n",
       "  </thead>\n",
       "  <tbody>\n",
       "    <tr>\n",
       "      <th>0</th>\n",
       "      <td>12956.0</td>\n",
       "      <td>87.449041</td>\n",
       "      <td>Bearish</td>\n",
       "      <td>24.985983</td>\n",
       "      <td>BUY</td>\n",
       "      <td>1.488966</td>\n",
       "      <td>SELL</td>\n",
       "      <td>0.149132</td>\n",
       "      <td>SELL</td>\n",
       "      <td>33.857127</td>\n",
       "      <td>BUY</td>\n",
       "    </tr>\n",
       "    <tr>\n",
       "      <th>1</th>\n",
       "      <td>880.0</td>\n",
       "      <td>14.436734</td>\n",
       "      <td>Bearish</td>\n",
       "      <td>18.712769</td>\n",
       "      <td>SELL</td>\n",
       "      <td>6.846646</td>\n",
       "      <td>SELL</td>\n",
       "      <td>3.224931</td>\n",
       "      <td>BUY</td>\n",
       "      <td>77.957872</td>\n",
       "      <td>BUY</td>\n",
       "    </tr>\n",
       "    <tr>\n",
       "      <th>2</th>\n",
       "      <td>8851.0</td>\n",
       "      <td>78.626368</td>\n",
       "      <td>Bullish</td>\n",
       "      <td>22.777211</td>\n",
       "      <td>SELL</td>\n",
       "      <td>39.367987</td>\n",
       "      <td>SELL</td>\n",
       "      <td>17.343891</td>\n",
       "      <td>BUY</td>\n",
       "      <td>74.705353</td>\n",
       "      <td>SELL</td>\n",
       "    </tr>\n",
       "    <tr>\n",
       "      <th>3</th>\n",
       "      <td>6869.0</td>\n",
       "      <td>77.424760</td>\n",
       "      <td>Bearish</td>\n",
       "      <td>34.783707</td>\n",
       "      <td>SELL</td>\n",
       "      <td>84.780967</td>\n",
       "      <td>BUY</td>\n",
       "      <td>94.006875</td>\n",
       "      <td>BUY</td>\n",
       "      <td>44.915927</td>\n",
       "      <td>SELL</td>\n",
       "    </tr>\n",
       "    <tr>\n",
       "      <th>4</th>\n",
       "      <td>15500.0</td>\n",
       "      <td>33.126348</td>\n",
       "      <td>Bullish</td>\n",
       "      <td>3.434084</td>\n",
       "      <td>SELL</td>\n",
       "      <td>84.667021</td>\n",
       "      <td>BUY</td>\n",
       "      <td>62.781371</td>\n",
       "      <td>BUY</td>\n",
       "      <td>84.750654</td>\n",
       "      <td>BUY</td>\n",
       "    </tr>\n",
       "  </tbody>\n",
       "</table>\n",
       "</div>"
      ],
      "text/plain": [
       "   Candle_No  Current_Market_Fit Current_Market  Rec1_Score Rec1_Prediction  \\\n",
       "0    12956.0           87.449041        Bearish   24.985983             BUY   \n",
       "1      880.0           14.436734        Bearish   18.712769            SELL   \n",
       "2     8851.0           78.626368        Bullish   22.777211            SELL   \n",
       "3     6869.0           77.424760        Bearish   34.783707            SELL   \n",
       "4    15500.0           33.126348        Bullish    3.434084            SELL   \n",
       "\n",
       "   Rec2_Score Rec2_Prediction  Rec3_Score Rec3_Prediction  Rec4_Score  \\\n",
       "0    1.488966            SELL    0.149132            SELL   33.857127   \n",
       "1    6.846646            SELL    3.224931             BUY   77.957872   \n",
       "2   39.367987            SELL   17.343891             BUY   74.705353   \n",
       "3   84.780967             BUY   94.006875             BUY   44.915927   \n",
       "4   84.667021             BUY   62.781371             BUY   84.750654   \n",
       "\n",
       "  Rec4_Prediction  \n",
       "0             BUY  \n",
       "1             BUY  \n",
       "2            SELL  \n",
       "3            SELL  \n",
       "4             BUY  "
      ]
     },
     "execution_count": 32,
     "metadata": {},
     "output_type": "execute_result"
    }
   ],
   "source": [
    "result_output.to_csv('01_Back_Test_Data.csv', header = True, index = False)\n",
    "result_output.to_csv(today + \"_\" + \"Back_Test_Data_\" + pair + '.csv', header = True, index = False)\n",
    "result_output = pd.read_csv(today + \"_\" + \"Back_Test_Data_\" + pair + '.csv')\n",
    "result_output.head()"
   ]
  },
  {
   "cell_type": "code",
   "execution_count": 33,
   "metadata": {},
   "outputs": [
    {
     "data": {
      "text/plain": [
       "(10000, 11)"
      ]
     },
     "execution_count": 33,
     "metadata": {},
     "output_type": "execute_result"
    }
   ],
   "source": [
    "result_output.shape"
   ]
  },
  {
   "cell_type": "markdown",
   "metadata": {},
   "source": [
    "#### Generating Log File"
   ]
  },
  {
   "cell_type": "code",
   "execution_count": 34,
   "metadata": {},
   "outputs": [],
   "source": [
    "file = open(today + \"_\" + \"data_generation_log_\" + pair + '.txt', \"w\")\n",
    "file.write (\"Date: \" + today + \"\\n\" + \\\n",
    "            \"Currency Pair: \" + pair + \"\\n\" + \\\n",
    "            \"K_Number: \" + str(k_number) + \"\\n\" + \\\n",
    "            \"KNN_Metric: \" + metric + \"\\n\" + \\\n",
    "            \"KNN_Algorithm: \" + algorithm + \"\\n\" + \\\n",
    "            \"Feature: \" + feature_9 + \"\\n\" + \\\n",
    "            \"Feature: \" + feature_10 + \"\\n\" + \\\n",
    "            \"Feature: \" + feature_11 + \"\\n\" + \\\n",
    "            \"Feature: \" + feature_12 + \"\\n\" + \\\n",
    "            \"Feature: \" + feature_13 + \"\\n\" + \\\n",
    "            \"Feature: \" + feature_14 + \"\\n\" + \\\n",
    "            \"Volume Size: \" + str(volume_size) + \"\\n\" + \\\n",
    "            \"Sample Count: \" + str(sample_count) + \"\\n\" + \\\n",
    "            \"Candle Counts: \" + str(candles) + \"\\n\"\n",
    "           )\n",
    "file.close()"
   ]
  },
  {
   "cell_type": "markdown",
   "metadata": {},
   "source": [
    "### Modeling"
   ]
  },
  {
   "cell_type": "code",
   "execution_count": 41,
   "metadata": {},
   "outputs": [],
   "source": [
    "with open ('back_test_pipeline_settings.yaml') as ymlfile:\n",
    "    cfg = yaml.safe_load(ymlfile)\n",
    "    random_state = cfg['model']['random_state']"
   ]
  },
  {
   "cell_type": "code",
   "execution_count": 42,
   "metadata": {},
   "outputs": [
    {
     "name": "stdout",
     "output_type": "stream",
     "text": [
      "Pair: GBPUSD\n",
      "Fraction: 0.7\n",
      "Random State: 700\n"
     ]
    }
   ],
   "source": [
    "print('Pair:', pair)\n",
    "print('Fraction:', frac)\n",
    "print('Random State:', random_state)"
   ]
  },
  {
   "cell_type": "code",
   "execution_count": 43,
   "metadata": {},
   "outputs": [],
   "source": [
    "now = datetime.now()\n",
    "today = now.strftime(\"%d-%m-%Y_%I-%M_%p\")"
   ]
  },
  {
   "cell_type": "code",
   "execution_count": 44,
   "metadata": {},
   "outputs": [
    {
     "data": {
      "text/plain": [
       "(10000, 11)"
      ]
     },
     "execution_count": 44,
     "metadata": {},
     "output_type": "execute_result"
    }
   ],
   "source": [
    "dataset = pd.read_csv('01_Back_Test_Data.csv')\n",
    "dataset.shape"
   ]
  },
  {
   "cell_type": "raw",
   "metadata": {},
   "source": [
    "dataset.head()"
   ]
  },
  {
   "cell_type": "code",
   "execution_count": 45,
   "metadata": {},
   "outputs": [],
   "source": [
    "dataset = dataset[dataset['Current_Market_Fit'] > 20]\n",
    "dataset = dataset.reset_index()\n",
    "del dataset['index']"
   ]
  },
  {
   "cell_type": "code",
   "execution_count": 46,
   "metadata": {},
   "outputs": [
    {
     "data": {
      "text/plain": [
       "(7291, 11)"
      ]
     },
     "execution_count": 46,
     "metadata": {},
     "output_type": "execute_result"
    }
   ],
   "source": [
    "dataset.shape"
   ]
  },
  {
   "cell_type": "code",
   "execution_count": 47,
   "metadata": {},
   "outputs": [],
   "source": [
    "dataset['Current_Market'] = dataset['Current_Market'].replace(['Bullish','Bearish'],[1,0])\n",
    "dataset['Rec1_Prediction'] = dataset['Rec1_Prediction'].replace(['BUY','SELL'],[1,-1])\n",
    "dataset['Rec2_Prediction'] = dataset['Rec2_Prediction'].replace(['BUY','SELL'],[1,-1])\n",
    "dataset['Rec3_Prediction'] = dataset['Rec3_Prediction'].replace(['BUY','SELL'],[1,-1])\n",
    "dataset['Rec4_Prediction'] = dataset['Rec4_Prediction'].replace(['BUY','SELL'],[1,-1])"
   ]
  },
  {
   "cell_type": "code",
   "execution_count": 48,
   "metadata": {},
   "outputs": [],
   "source": [
    "dataset['Rec1_Score'] = dataset['Rec1_Score'] * dataset['Rec1_Prediction']\n",
    "dataset['Rec2_Score'] = dataset['Rec2_Score'] * dataset['Rec2_Prediction']\n",
    "dataset['Rec3_Score'] = dataset['Rec3_Score'] * dataset['Rec3_Prediction']\n",
    "dataset['Rec4_Score'] = dataset['Rec4_Score'] * dataset['Rec4_Prediction']"
   ]
  },
  {
   "cell_type": "code",
   "execution_count": 49,
   "metadata": {},
   "outputs": [],
   "source": [
    "dataset['Rec1_Score'] = dataset['Rec1_Score'].round(2)\n",
    "dataset['Rec2_Score'] = dataset['Rec2_Score'].round(2)\n",
    "dataset['Rec3_Score'] = dataset['Rec3_Score'].round(2)\n",
    "dataset['Rec4_Score'] = dataset['Rec4_Score'].round(2)"
   ]
  },
  {
   "cell_type": "code",
   "execution_count": 50,
   "metadata": {},
   "outputs": [],
   "source": [
    "dataset = dataset.drop([\n",
    "    'Candle_No',\n",
    "    'Current_Market_Fit',\n",
    "    'Rec1_Prediction',\n",
    "    'Rec2_Prediction',\n",
    "    'Rec3_Prediction',\n",
    "    'Rec4_Prediction',\n",
    "], axis=1)"
   ]
  },
  {
   "cell_type": "code",
   "execution_count": 51,
   "metadata": {},
   "outputs": [
    {
     "data": {
      "text/html": [
       "<div>\n",
       "<style scoped>\n",
       "    .dataframe tbody tr th:only-of-type {\n",
       "        vertical-align: middle;\n",
       "    }\n",
       "\n",
       "    .dataframe tbody tr th {\n",
       "        vertical-align: top;\n",
       "    }\n",
       "\n",
       "    .dataframe thead th {\n",
       "        text-align: right;\n",
       "    }\n",
       "</style>\n",
       "<table border=\"1\" class=\"dataframe\">\n",
       "  <thead>\n",
       "    <tr style=\"text-align: right;\">\n",
       "      <th></th>\n",
       "      <th>Current_Market</th>\n",
       "      <th>Rec1_Score</th>\n",
       "      <th>Rec2_Score</th>\n",
       "      <th>Rec3_Score</th>\n",
       "      <th>Rec4_Score</th>\n",
       "    </tr>\n",
       "  </thead>\n",
       "  <tbody>\n",
       "    <tr>\n",
       "      <th>0</th>\n",
       "      <td>0</td>\n",
       "      <td>24.99</td>\n",
       "      <td>-1.49</td>\n",
       "      <td>-0.15</td>\n",
       "      <td>33.86</td>\n",
       "    </tr>\n",
       "    <tr>\n",
       "      <th>1</th>\n",
       "      <td>1</td>\n",
       "      <td>-22.78</td>\n",
       "      <td>-39.37</td>\n",
       "      <td>17.34</td>\n",
       "      <td>-74.71</td>\n",
       "    </tr>\n",
       "    <tr>\n",
       "      <th>2</th>\n",
       "      <td>0</td>\n",
       "      <td>-34.78</td>\n",
       "      <td>84.78</td>\n",
       "      <td>94.01</td>\n",
       "      <td>-44.92</td>\n",
       "    </tr>\n",
       "    <tr>\n",
       "      <th>3</th>\n",
       "      <td>1</td>\n",
       "      <td>-3.43</td>\n",
       "      <td>84.67</td>\n",
       "      <td>62.78</td>\n",
       "      <td>84.75</td>\n",
       "    </tr>\n",
       "    <tr>\n",
       "      <th>4</th>\n",
       "      <td>1</td>\n",
       "      <td>-61.78</td>\n",
       "      <td>-38.34</td>\n",
       "      <td>71.94</td>\n",
       "      <td>1.75</td>\n",
       "    </tr>\n",
       "  </tbody>\n",
       "</table>\n",
       "</div>"
      ],
      "text/plain": [
       "   Current_Market  Rec1_Score  Rec2_Score  Rec3_Score  Rec4_Score\n",
       "0               0       24.99       -1.49       -0.15       33.86\n",
       "1               1      -22.78      -39.37       17.34      -74.71\n",
       "2               0      -34.78       84.78       94.01      -44.92\n",
       "3               1       -3.43       84.67       62.78       84.75\n",
       "4               1      -61.78      -38.34       71.94        1.75"
      ]
     },
     "execution_count": 51,
     "metadata": {},
     "output_type": "execute_result"
    }
   ],
   "source": [
    "dataset.head()"
   ]
  },
  {
   "cell_type": "code",
   "execution_count": 52,
   "metadata": {},
   "outputs": [
    {
     "name": "stdout",
     "output_type": "stream",
     "text": [
      "Data for Modeling: (5104, 5)\n",
      "Unseen Data For Predictions: (2187, 5)\n",
      "Fraction: 0.7\n"
     ]
    }
   ],
   "source": [
    "data = dataset.sample(frac=frac, random_state=random_state).reset_index(drop=True)\n",
    "data_unseen = dataset.drop(data.index).reset_index(drop=True)\n",
    "\n",
    "print('Data for Modeling: ' + str(data.shape))\n",
    "print('Unseen Data For Predictions: ' + str(data_unseen.shape))\n",
    "print('Fraction: ' + str(frac))\n",
    "#print('Random State: ', str(random_state))"
   ]
  },
  {
   "cell_type": "code",
   "execution_count": 53,
   "metadata": {},
   "outputs": [
    {
     "data": {
      "text/plain": [
       "(2187, 5)"
      ]
     },
     "execution_count": 53,
     "metadata": {},
     "output_type": "execute_result"
    }
   ],
   "source": [
    "data_unseen.shape"
   ]
  },
  {
   "cell_type": "code",
   "execution_count": 54,
   "metadata": {},
   "outputs": [
    {
     "data": {
      "text/html": [
       "<div>\n",
       "<style scoped>\n",
       "    .dataframe tbody tr th:only-of-type {\n",
       "        vertical-align: middle;\n",
       "    }\n",
       "\n",
       "    .dataframe tbody tr th {\n",
       "        vertical-align: top;\n",
       "    }\n",
       "\n",
       "    .dataframe thead th {\n",
       "        text-align: right;\n",
       "    }\n",
       "</style>\n",
       "<table border=\"1\" class=\"dataframe\">\n",
       "  <thead>\n",
       "    <tr style=\"text-align: right;\">\n",
       "      <th></th>\n",
       "      <th>Current_Market</th>\n",
       "      <th>Rec1_Score</th>\n",
       "      <th>Rec2_Score</th>\n",
       "      <th>Rec3_Score</th>\n",
       "      <th>Rec4_Score</th>\n",
       "    </tr>\n",
       "  </thead>\n",
       "  <tbody>\n",
       "    <tr>\n",
       "      <th>0</th>\n",
       "      <td>1</td>\n",
       "      <td>-75.84</td>\n",
       "      <td>-88.64</td>\n",
       "      <td>25.69</td>\n",
       "      <td>90.84</td>\n",
       "    </tr>\n",
       "    <tr>\n",
       "      <th>1</th>\n",
       "      <td>1</td>\n",
       "      <td>-60.72</td>\n",
       "      <td>-51.10</td>\n",
       "      <td>76.91</td>\n",
       "      <td>65.25</td>\n",
       "    </tr>\n",
       "    <tr>\n",
       "      <th>2</th>\n",
       "      <td>1</td>\n",
       "      <td>-58.15</td>\n",
       "      <td>-93.60</td>\n",
       "      <td>-20.17</td>\n",
       "      <td>51.07</td>\n",
       "    </tr>\n",
       "    <tr>\n",
       "      <th>3</th>\n",
       "      <td>1</td>\n",
       "      <td>-77.52</td>\n",
       "      <td>75.17</td>\n",
       "      <td>47.83</td>\n",
       "      <td>-79.61</td>\n",
       "    </tr>\n",
       "    <tr>\n",
       "      <th>4</th>\n",
       "      <td>1</td>\n",
       "      <td>-79.26</td>\n",
       "      <td>-52.43</td>\n",
       "      <td>-74.46</td>\n",
       "      <td>59.59</td>\n",
       "    </tr>\n",
       "  </tbody>\n",
       "</table>\n",
       "</div>"
      ],
      "text/plain": [
       "   Current_Market  Rec1_Score  Rec2_Score  Rec3_Score  Rec4_Score\n",
       "0               1      -75.84      -88.64       25.69       90.84\n",
       "1               1      -60.72      -51.10       76.91       65.25\n",
       "2               1      -58.15      -93.60      -20.17       51.07\n",
       "3               1      -77.52       75.17       47.83      -79.61\n",
       "4               1      -79.26      -52.43      -74.46       59.59"
      ]
     },
     "execution_count": 54,
     "metadata": {},
     "output_type": "execute_result"
    }
   ],
   "source": [
    "data_unseen.head()"
   ]
  },
  {
   "cell_type": "code",
   "execution_count": 55,
   "metadata": {
    "scrolled": true
   },
   "outputs": [
    {
     "data": {
      "text/html": [
       "<style type=\"text/css\">\n",
       "#T_c4562_row5_col1, #T_c4562_row44_col1 {\n",
       "  background-color: lightgreen;\n",
       "}\n",
       "</style>\n",
       "<table id=\"T_c4562_\">\n",
       "  <thead>\n",
       "    <tr>\n",
       "      <th class=\"blank level0\" >&nbsp;</th>\n",
       "      <th class=\"col_heading level0 col0\" >Description</th>\n",
       "      <th class=\"col_heading level0 col1\" >Value</th>\n",
       "    </tr>\n",
       "  </thead>\n",
       "  <tbody>\n",
       "    <tr>\n",
       "      <th id=\"T_c4562_level0_row0\" class=\"row_heading level0 row0\" >0</th>\n",
       "      <td id=\"T_c4562_row0_col0\" class=\"data row0 col0\" >session_id</td>\n",
       "      <td id=\"T_c4562_row0_col1\" class=\"data row0 col1\" >123</td>\n",
       "    </tr>\n",
       "    <tr>\n",
       "      <th id=\"T_c4562_level0_row1\" class=\"row_heading level0 row1\" >1</th>\n",
       "      <td id=\"T_c4562_row1_col0\" class=\"data row1 col0\" >Target</td>\n",
       "      <td id=\"T_c4562_row1_col1\" class=\"data row1 col1\" >Current_Market</td>\n",
       "    </tr>\n",
       "    <tr>\n",
       "      <th id=\"T_c4562_level0_row2\" class=\"row_heading level0 row2\" >2</th>\n",
       "      <td id=\"T_c4562_row2_col0\" class=\"data row2 col0\" >Target Type</td>\n",
       "      <td id=\"T_c4562_row2_col1\" class=\"data row2 col1\" >Binary</td>\n",
       "    </tr>\n",
       "    <tr>\n",
       "      <th id=\"T_c4562_level0_row3\" class=\"row_heading level0 row3\" >3</th>\n",
       "      <td id=\"T_c4562_row3_col0\" class=\"data row3 col0\" >Label Encoded</td>\n",
       "      <td id=\"T_c4562_row3_col1\" class=\"data row3 col1\" >None</td>\n",
       "    </tr>\n",
       "    <tr>\n",
       "      <th id=\"T_c4562_level0_row4\" class=\"row_heading level0 row4\" >4</th>\n",
       "      <td id=\"T_c4562_row4_col0\" class=\"data row4 col0\" >Original Data</td>\n",
       "      <td id=\"T_c4562_row4_col1\" class=\"data row4 col1\" >(5104, 5)</td>\n",
       "    </tr>\n",
       "    <tr>\n",
       "      <th id=\"T_c4562_level0_row5\" class=\"row_heading level0 row5\" >5</th>\n",
       "      <td id=\"T_c4562_row5_col0\" class=\"data row5 col0\" >Missing Values</td>\n",
       "      <td id=\"T_c4562_row5_col1\" class=\"data row5 col1\" >True</td>\n",
       "    </tr>\n",
       "    <tr>\n",
       "      <th id=\"T_c4562_level0_row6\" class=\"row_heading level0 row6\" >6</th>\n",
       "      <td id=\"T_c4562_row6_col0\" class=\"data row6 col0\" >Numeric Features</td>\n",
       "      <td id=\"T_c4562_row6_col1\" class=\"data row6 col1\" >4</td>\n",
       "    </tr>\n",
       "    <tr>\n",
       "      <th id=\"T_c4562_level0_row7\" class=\"row_heading level0 row7\" >7</th>\n",
       "      <td id=\"T_c4562_row7_col0\" class=\"data row7 col0\" >Categorical Features</td>\n",
       "      <td id=\"T_c4562_row7_col1\" class=\"data row7 col1\" >0</td>\n",
       "    </tr>\n",
       "    <tr>\n",
       "      <th id=\"T_c4562_level0_row8\" class=\"row_heading level0 row8\" >8</th>\n",
       "      <td id=\"T_c4562_row8_col0\" class=\"data row8 col0\" >Ordinal Features</td>\n",
       "      <td id=\"T_c4562_row8_col1\" class=\"data row8 col1\" >False</td>\n",
       "    </tr>\n",
       "    <tr>\n",
       "      <th id=\"T_c4562_level0_row9\" class=\"row_heading level0 row9\" >9</th>\n",
       "      <td id=\"T_c4562_row9_col0\" class=\"data row9 col0\" >High Cardinality Features</td>\n",
       "      <td id=\"T_c4562_row9_col1\" class=\"data row9 col1\" >False</td>\n",
       "    </tr>\n",
       "    <tr>\n",
       "      <th id=\"T_c4562_level0_row10\" class=\"row_heading level0 row10\" >10</th>\n",
       "      <td id=\"T_c4562_row10_col0\" class=\"data row10 col0\" >High Cardinality Method</td>\n",
       "      <td id=\"T_c4562_row10_col1\" class=\"data row10 col1\" >None</td>\n",
       "    </tr>\n",
       "    <tr>\n",
       "      <th id=\"T_c4562_level0_row11\" class=\"row_heading level0 row11\" >11</th>\n",
       "      <td id=\"T_c4562_row11_col0\" class=\"data row11 col0\" >Transformed Train Set</td>\n",
       "      <td id=\"T_c4562_row11_col1\" class=\"data row11 col1\" >(3572, 4)</td>\n",
       "    </tr>\n",
       "    <tr>\n",
       "      <th id=\"T_c4562_level0_row12\" class=\"row_heading level0 row12\" >12</th>\n",
       "      <td id=\"T_c4562_row12_col0\" class=\"data row12 col0\" >Transformed Test Set</td>\n",
       "      <td id=\"T_c4562_row12_col1\" class=\"data row12 col1\" >(1532, 4)</td>\n",
       "    </tr>\n",
       "    <tr>\n",
       "      <th id=\"T_c4562_level0_row13\" class=\"row_heading level0 row13\" >13</th>\n",
       "      <td id=\"T_c4562_row13_col0\" class=\"data row13 col0\" >Shuffle Train-Test</td>\n",
       "      <td id=\"T_c4562_row13_col1\" class=\"data row13 col1\" >True</td>\n",
       "    </tr>\n",
       "    <tr>\n",
       "      <th id=\"T_c4562_level0_row14\" class=\"row_heading level0 row14\" >14</th>\n",
       "      <td id=\"T_c4562_row14_col0\" class=\"data row14 col0\" >Stratify Train-Test</td>\n",
       "      <td id=\"T_c4562_row14_col1\" class=\"data row14 col1\" >False</td>\n",
       "    </tr>\n",
       "    <tr>\n",
       "      <th id=\"T_c4562_level0_row15\" class=\"row_heading level0 row15\" >15</th>\n",
       "      <td id=\"T_c4562_row15_col0\" class=\"data row15 col0\" >Fold Generator</td>\n",
       "      <td id=\"T_c4562_row15_col1\" class=\"data row15 col1\" >StratifiedKFold</td>\n",
       "    </tr>\n",
       "    <tr>\n",
       "      <th id=\"T_c4562_level0_row16\" class=\"row_heading level0 row16\" >16</th>\n",
       "      <td id=\"T_c4562_row16_col0\" class=\"data row16 col0\" >Fold Number</td>\n",
       "      <td id=\"T_c4562_row16_col1\" class=\"data row16 col1\" >10</td>\n",
       "    </tr>\n",
       "    <tr>\n",
       "      <th id=\"T_c4562_level0_row17\" class=\"row_heading level0 row17\" >17</th>\n",
       "      <td id=\"T_c4562_row17_col0\" class=\"data row17 col0\" >CPU Jobs</td>\n",
       "      <td id=\"T_c4562_row17_col1\" class=\"data row17 col1\" >-1</td>\n",
       "    </tr>\n",
       "    <tr>\n",
       "      <th id=\"T_c4562_level0_row18\" class=\"row_heading level0 row18\" >18</th>\n",
       "      <td id=\"T_c4562_row18_col0\" class=\"data row18 col0\" >Use GPU</td>\n",
       "      <td id=\"T_c4562_row18_col1\" class=\"data row18 col1\" >False</td>\n",
       "    </tr>\n",
       "    <tr>\n",
       "      <th id=\"T_c4562_level0_row19\" class=\"row_heading level0 row19\" >19</th>\n",
       "      <td id=\"T_c4562_row19_col0\" class=\"data row19 col0\" >Log Experiment</td>\n",
       "      <td id=\"T_c4562_row19_col1\" class=\"data row19 col1\" >False</td>\n",
       "    </tr>\n",
       "    <tr>\n",
       "      <th id=\"T_c4562_level0_row20\" class=\"row_heading level0 row20\" >20</th>\n",
       "      <td id=\"T_c4562_row20_col0\" class=\"data row20 col0\" >Experiment Name</td>\n",
       "      <td id=\"T_c4562_row20_col1\" class=\"data row20 col1\" >clf-default-name</td>\n",
       "    </tr>\n",
       "    <tr>\n",
       "      <th id=\"T_c4562_level0_row21\" class=\"row_heading level0 row21\" >21</th>\n",
       "      <td id=\"T_c4562_row21_col0\" class=\"data row21 col0\" >USI</td>\n",
       "      <td id=\"T_c4562_row21_col1\" class=\"data row21 col1\" >b541</td>\n",
       "    </tr>\n",
       "    <tr>\n",
       "      <th id=\"T_c4562_level0_row22\" class=\"row_heading level0 row22\" >22</th>\n",
       "      <td id=\"T_c4562_row22_col0\" class=\"data row22 col0\" >Imputation Type</td>\n",
       "      <td id=\"T_c4562_row22_col1\" class=\"data row22 col1\" >simple</td>\n",
       "    </tr>\n",
       "    <tr>\n",
       "      <th id=\"T_c4562_level0_row23\" class=\"row_heading level0 row23\" >23</th>\n",
       "      <td id=\"T_c4562_row23_col0\" class=\"data row23 col0\" >Iterative Imputation Iteration</td>\n",
       "      <td id=\"T_c4562_row23_col1\" class=\"data row23 col1\" >None</td>\n",
       "    </tr>\n",
       "    <tr>\n",
       "      <th id=\"T_c4562_level0_row24\" class=\"row_heading level0 row24\" >24</th>\n",
       "      <td id=\"T_c4562_row24_col0\" class=\"data row24 col0\" >Numeric Imputer</td>\n",
       "      <td id=\"T_c4562_row24_col1\" class=\"data row24 col1\" >mean</td>\n",
       "    </tr>\n",
       "    <tr>\n",
       "      <th id=\"T_c4562_level0_row25\" class=\"row_heading level0 row25\" >25</th>\n",
       "      <td id=\"T_c4562_row25_col0\" class=\"data row25 col0\" >Iterative Imputation Numeric Model</td>\n",
       "      <td id=\"T_c4562_row25_col1\" class=\"data row25 col1\" >None</td>\n",
       "    </tr>\n",
       "    <tr>\n",
       "      <th id=\"T_c4562_level0_row26\" class=\"row_heading level0 row26\" >26</th>\n",
       "      <td id=\"T_c4562_row26_col0\" class=\"data row26 col0\" >Categorical Imputer</td>\n",
       "      <td id=\"T_c4562_row26_col1\" class=\"data row26 col1\" >constant</td>\n",
       "    </tr>\n",
       "    <tr>\n",
       "      <th id=\"T_c4562_level0_row27\" class=\"row_heading level0 row27\" >27</th>\n",
       "      <td id=\"T_c4562_row27_col0\" class=\"data row27 col0\" >Iterative Imputation Categorical Model</td>\n",
       "      <td id=\"T_c4562_row27_col1\" class=\"data row27 col1\" >None</td>\n",
       "    </tr>\n",
       "    <tr>\n",
       "      <th id=\"T_c4562_level0_row28\" class=\"row_heading level0 row28\" >28</th>\n",
       "      <td id=\"T_c4562_row28_col0\" class=\"data row28 col0\" >Unknown Categoricals Handling</td>\n",
       "      <td id=\"T_c4562_row28_col1\" class=\"data row28 col1\" >least_frequent</td>\n",
       "    </tr>\n",
       "    <tr>\n",
       "      <th id=\"T_c4562_level0_row29\" class=\"row_heading level0 row29\" >29</th>\n",
       "      <td id=\"T_c4562_row29_col0\" class=\"data row29 col0\" >Normalize</td>\n",
       "      <td id=\"T_c4562_row29_col1\" class=\"data row29 col1\" >False</td>\n",
       "    </tr>\n",
       "    <tr>\n",
       "      <th id=\"T_c4562_level0_row30\" class=\"row_heading level0 row30\" >30</th>\n",
       "      <td id=\"T_c4562_row30_col0\" class=\"data row30 col0\" >Normalize Method</td>\n",
       "      <td id=\"T_c4562_row30_col1\" class=\"data row30 col1\" >None</td>\n",
       "    </tr>\n",
       "    <tr>\n",
       "      <th id=\"T_c4562_level0_row31\" class=\"row_heading level0 row31\" >31</th>\n",
       "      <td id=\"T_c4562_row31_col0\" class=\"data row31 col0\" >Transformation</td>\n",
       "      <td id=\"T_c4562_row31_col1\" class=\"data row31 col1\" >False</td>\n",
       "    </tr>\n",
       "    <tr>\n",
       "      <th id=\"T_c4562_level0_row32\" class=\"row_heading level0 row32\" >32</th>\n",
       "      <td id=\"T_c4562_row32_col0\" class=\"data row32 col0\" >Transformation Method</td>\n",
       "      <td id=\"T_c4562_row32_col1\" class=\"data row32 col1\" >None</td>\n",
       "    </tr>\n",
       "    <tr>\n",
       "      <th id=\"T_c4562_level0_row33\" class=\"row_heading level0 row33\" >33</th>\n",
       "      <td id=\"T_c4562_row33_col0\" class=\"data row33 col0\" >PCA</td>\n",
       "      <td id=\"T_c4562_row33_col1\" class=\"data row33 col1\" >False</td>\n",
       "    </tr>\n",
       "    <tr>\n",
       "      <th id=\"T_c4562_level0_row34\" class=\"row_heading level0 row34\" >34</th>\n",
       "      <td id=\"T_c4562_row34_col0\" class=\"data row34 col0\" >PCA Method</td>\n",
       "      <td id=\"T_c4562_row34_col1\" class=\"data row34 col1\" >None</td>\n",
       "    </tr>\n",
       "    <tr>\n",
       "      <th id=\"T_c4562_level0_row35\" class=\"row_heading level0 row35\" >35</th>\n",
       "      <td id=\"T_c4562_row35_col0\" class=\"data row35 col0\" >PCA Components</td>\n",
       "      <td id=\"T_c4562_row35_col1\" class=\"data row35 col1\" >None</td>\n",
       "    </tr>\n",
       "    <tr>\n",
       "      <th id=\"T_c4562_level0_row36\" class=\"row_heading level0 row36\" >36</th>\n",
       "      <td id=\"T_c4562_row36_col0\" class=\"data row36 col0\" >Ignore Low Variance</td>\n",
       "      <td id=\"T_c4562_row36_col1\" class=\"data row36 col1\" >False</td>\n",
       "    </tr>\n",
       "    <tr>\n",
       "      <th id=\"T_c4562_level0_row37\" class=\"row_heading level0 row37\" >37</th>\n",
       "      <td id=\"T_c4562_row37_col0\" class=\"data row37 col0\" >Combine Rare Levels</td>\n",
       "      <td id=\"T_c4562_row37_col1\" class=\"data row37 col1\" >False</td>\n",
       "    </tr>\n",
       "    <tr>\n",
       "      <th id=\"T_c4562_level0_row38\" class=\"row_heading level0 row38\" >38</th>\n",
       "      <td id=\"T_c4562_row38_col0\" class=\"data row38 col0\" >Rare Level Threshold</td>\n",
       "      <td id=\"T_c4562_row38_col1\" class=\"data row38 col1\" >None</td>\n",
       "    </tr>\n",
       "    <tr>\n",
       "      <th id=\"T_c4562_level0_row39\" class=\"row_heading level0 row39\" >39</th>\n",
       "      <td id=\"T_c4562_row39_col0\" class=\"data row39 col0\" >Numeric Binning</td>\n",
       "      <td id=\"T_c4562_row39_col1\" class=\"data row39 col1\" >False</td>\n",
       "    </tr>\n",
       "    <tr>\n",
       "      <th id=\"T_c4562_level0_row40\" class=\"row_heading level0 row40\" >40</th>\n",
       "      <td id=\"T_c4562_row40_col0\" class=\"data row40 col0\" >Remove Outliers</td>\n",
       "      <td id=\"T_c4562_row40_col1\" class=\"data row40 col1\" >False</td>\n",
       "    </tr>\n",
       "    <tr>\n",
       "      <th id=\"T_c4562_level0_row41\" class=\"row_heading level0 row41\" >41</th>\n",
       "      <td id=\"T_c4562_row41_col0\" class=\"data row41 col0\" >Outliers Threshold</td>\n",
       "      <td id=\"T_c4562_row41_col1\" class=\"data row41 col1\" >None</td>\n",
       "    </tr>\n",
       "    <tr>\n",
       "      <th id=\"T_c4562_level0_row42\" class=\"row_heading level0 row42\" >42</th>\n",
       "      <td id=\"T_c4562_row42_col0\" class=\"data row42 col0\" >Remove Multicollinearity</td>\n",
       "      <td id=\"T_c4562_row42_col1\" class=\"data row42 col1\" >False</td>\n",
       "    </tr>\n",
       "    <tr>\n",
       "      <th id=\"T_c4562_level0_row43\" class=\"row_heading level0 row43\" >43</th>\n",
       "      <td id=\"T_c4562_row43_col0\" class=\"data row43 col0\" >Multicollinearity Threshold</td>\n",
       "      <td id=\"T_c4562_row43_col1\" class=\"data row43 col1\" >None</td>\n",
       "    </tr>\n",
       "    <tr>\n",
       "      <th id=\"T_c4562_level0_row44\" class=\"row_heading level0 row44\" >44</th>\n",
       "      <td id=\"T_c4562_row44_col0\" class=\"data row44 col0\" >Remove Perfect Collinearity</td>\n",
       "      <td id=\"T_c4562_row44_col1\" class=\"data row44 col1\" >True</td>\n",
       "    </tr>\n",
       "    <tr>\n",
       "      <th id=\"T_c4562_level0_row45\" class=\"row_heading level0 row45\" >45</th>\n",
       "      <td id=\"T_c4562_row45_col0\" class=\"data row45 col0\" >Clustering</td>\n",
       "      <td id=\"T_c4562_row45_col1\" class=\"data row45 col1\" >False</td>\n",
       "    </tr>\n",
       "    <tr>\n",
       "      <th id=\"T_c4562_level0_row46\" class=\"row_heading level0 row46\" >46</th>\n",
       "      <td id=\"T_c4562_row46_col0\" class=\"data row46 col0\" >Clustering Iteration</td>\n",
       "      <td id=\"T_c4562_row46_col1\" class=\"data row46 col1\" >None</td>\n",
       "    </tr>\n",
       "    <tr>\n",
       "      <th id=\"T_c4562_level0_row47\" class=\"row_heading level0 row47\" >47</th>\n",
       "      <td id=\"T_c4562_row47_col0\" class=\"data row47 col0\" >Polynomial Features</td>\n",
       "      <td id=\"T_c4562_row47_col1\" class=\"data row47 col1\" >False</td>\n",
       "    </tr>\n",
       "    <tr>\n",
       "      <th id=\"T_c4562_level0_row48\" class=\"row_heading level0 row48\" >48</th>\n",
       "      <td id=\"T_c4562_row48_col0\" class=\"data row48 col0\" >Polynomial Degree</td>\n",
       "      <td id=\"T_c4562_row48_col1\" class=\"data row48 col1\" >None</td>\n",
       "    </tr>\n",
       "    <tr>\n",
       "      <th id=\"T_c4562_level0_row49\" class=\"row_heading level0 row49\" >49</th>\n",
       "      <td id=\"T_c4562_row49_col0\" class=\"data row49 col0\" >Trignometry Features</td>\n",
       "      <td id=\"T_c4562_row49_col1\" class=\"data row49 col1\" >False</td>\n",
       "    </tr>\n",
       "    <tr>\n",
       "      <th id=\"T_c4562_level0_row50\" class=\"row_heading level0 row50\" >50</th>\n",
       "      <td id=\"T_c4562_row50_col0\" class=\"data row50 col0\" >Polynomial Threshold</td>\n",
       "      <td id=\"T_c4562_row50_col1\" class=\"data row50 col1\" >None</td>\n",
       "    </tr>\n",
       "    <tr>\n",
       "      <th id=\"T_c4562_level0_row51\" class=\"row_heading level0 row51\" >51</th>\n",
       "      <td id=\"T_c4562_row51_col0\" class=\"data row51 col0\" >Group Features</td>\n",
       "      <td id=\"T_c4562_row51_col1\" class=\"data row51 col1\" >False</td>\n",
       "    </tr>\n",
       "    <tr>\n",
       "      <th id=\"T_c4562_level0_row52\" class=\"row_heading level0 row52\" >52</th>\n",
       "      <td id=\"T_c4562_row52_col0\" class=\"data row52 col0\" >Feature Selection</td>\n",
       "      <td id=\"T_c4562_row52_col1\" class=\"data row52 col1\" >False</td>\n",
       "    </tr>\n",
       "    <tr>\n",
       "      <th id=\"T_c4562_level0_row53\" class=\"row_heading level0 row53\" >53</th>\n",
       "      <td id=\"T_c4562_row53_col0\" class=\"data row53 col0\" >Feature Selection Method</td>\n",
       "      <td id=\"T_c4562_row53_col1\" class=\"data row53 col1\" >classic</td>\n",
       "    </tr>\n",
       "    <tr>\n",
       "      <th id=\"T_c4562_level0_row54\" class=\"row_heading level0 row54\" >54</th>\n",
       "      <td id=\"T_c4562_row54_col0\" class=\"data row54 col0\" >Features Selection Threshold</td>\n",
       "      <td id=\"T_c4562_row54_col1\" class=\"data row54 col1\" >None</td>\n",
       "    </tr>\n",
       "    <tr>\n",
       "      <th id=\"T_c4562_level0_row55\" class=\"row_heading level0 row55\" >55</th>\n",
       "      <td id=\"T_c4562_row55_col0\" class=\"data row55 col0\" >Feature Interaction</td>\n",
       "      <td id=\"T_c4562_row55_col1\" class=\"data row55 col1\" >False</td>\n",
       "    </tr>\n",
       "    <tr>\n",
       "      <th id=\"T_c4562_level0_row56\" class=\"row_heading level0 row56\" >56</th>\n",
       "      <td id=\"T_c4562_row56_col0\" class=\"data row56 col0\" >Feature Ratio</td>\n",
       "      <td id=\"T_c4562_row56_col1\" class=\"data row56 col1\" >False</td>\n",
       "    </tr>\n",
       "    <tr>\n",
       "      <th id=\"T_c4562_level0_row57\" class=\"row_heading level0 row57\" >57</th>\n",
       "      <td id=\"T_c4562_row57_col0\" class=\"data row57 col0\" >Interaction Threshold</td>\n",
       "      <td id=\"T_c4562_row57_col1\" class=\"data row57 col1\" >None</td>\n",
       "    </tr>\n",
       "    <tr>\n",
       "      <th id=\"T_c4562_level0_row58\" class=\"row_heading level0 row58\" >58</th>\n",
       "      <td id=\"T_c4562_row58_col0\" class=\"data row58 col0\" >Fix Imbalance</td>\n",
       "      <td id=\"T_c4562_row58_col1\" class=\"data row58 col1\" >False</td>\n",
       "    </tr>\n",
       "    <tr>\n",
       "      <th id=\"T_c4562_level0_row59\" class=\"row_heading level0 row59\" >59</th>\n",
       "      <td id=\"T_c4562_row59_col0\" class=\"data row59 col0\" >Fix Imbalance Method</td>\n",
       "      <td id=\"T_c4562_row59_col1\" class=\"data row59 col1\" >SMOTE</td>\n",
       "    </tr>\n",
       "  </tbody>\n",
       "</table>\n"
      ],
      "text/plain": [
       "<pandas.io.formats.style.Styler at 0x7f7f2c5d9df0>"
      ]
     },
     "metadata": {},
     "output_type": "display_data"
    }
   ],
   "source": [
    "exp_name = setup(data = data,\n",
    "                 target = 'Current_Market',\n",
    "#                 fold_shuffle=True,\n",
    "                 session_id=123,\n",
    "                 silent=True,\n",
    "#                 n_jobs = 64,\n",
    "#                 imputation_type='iterative'\n",
    "                ) "
   ]
  },
  {
   "cell_type": "code",
   "execution_count": 56,
   "metadata": {},
   "outputs": [
    {
     "data": {
      "text/html": [
       "<style type=\"text/css\">\n",
       "#T_db26b_ th {\n",
       "  text-align: left;\n",
       "}\n",
       "#T_db26b_row0_col0, #T_db26b_row0_col3, #T_db26b_row0_col5, #T_db26b_row1_col0, #T_db26b_row1_col1, #T_db26b_row1_col2, #T_db26b_row1_col3, #T_db26b_row1_col4, #T_db26b_row1_col5, #T_db26b_row1_col6, #T_db26b_row1_col7, #T_db26b_row2_col0, #T_db26b_row2_col1, #T_db26b_row2_col2, #T_db26b_row2_col3, #T_db26b_row2_col4, #T_db26b_row2_col5, #T_db26b_row2_col6, #T_db26b_row2_col7, #T_db26b_row3_col0, #T_db26b_row3_col1, #T_db26b_row3_col2, #T_db26b_row3_col3, #T_db26b_row3_col4, #T_db26b_row3_col5, #T_db26b_row3_col6, #T_db26b_row3_col7, #T_db26b_row4_col0, #T_db26b_row4_col1, #T_db26b_row4_col2, #T_db26b_row4_col4, #T_db26b_row4_col6, #T_db26b_row4_col7, #T_db26b_row5_col0, #T_db26b_row5_col1, #T_db26b_row5_col2, #T_db26b_row5_col4, #T_db26b_row5_col6, #T_db26b_row5_col7, #T_db26b_row6_col0, #T_db26b_row6_col1, #T_db26b_row6_col2, #T_db26b_row6_col4, #T_db26b_row6_col6, #T_db26b_row6_col7, #T_db26b_row7_col0, #T_db26b_row7_col1, #T_db26b_row7_col2, #T_db26b_row7_col3, #T_db26b_row7_col4, #T_db26b_row7_col5, #T_db26b_row7_col6, #T_db26b_row7_col7, #T_db26b_row8_col0, #T_db26b_row8_col1, #T_db26b_row8_col2, #T_db26b_row8_col3, #T_db26b_row8_col4, #T_db26b_row8_col5, #T_db26b_row8_col6, #T_db26b_row8_col7, #T_db26b_row9_col0, #T_db26b_row9_col1, #T_db26b_row9_col2, #T_db26b_row9_col3, #T_db26b_row9_col4, #T_db26b_row9_col5, #T_db26b_row9_col6, #T_db26b_row9_col7, #T_db26b_row10_col0, #T_db26b_row10_col1, #T_db26b_row10_col2, #T_db26b_row10_col3, #T_db26b_row10_col4, #T_db26b_row10_col5, #T_db26b_row10_col6, #T_db26b_row10_col7, #T_db26b_row11_col0, #T_db26b_row11_col1, #T_db26b_row11_col2, #T_db26b_row11_col3, #T_db26b_row11_col4, #T_db26b_row11_col5, #T_db26b_row11_col6, #T_db26b_row11_col7, #T_db26b_row12_col0, #T_db26b_row12_col1, #T_db26b_row12_col2, #T_db26b_row12_col3, #T_db26b_row12_col4, #T_db26b_row12_col5, #T_db26b_row12_col6, #T_db26b_row12_col7 {\n",
       "  text-align: left;\n",
       "}\n",
       "#T_db26b_row0_col1, #T_db26b_row0_col2, #T_db26b_row0_col4, #T_db26b_row0_col6, #T_db26b_row0_col7, #T_db26b_row4_col3, #T_db26b_row4_col5, #T_db26b_row5_col3, #T_db26b_row5_col5, #T_db26b_row6_col3, #T_db26b_row6_col5 {\n",
       "  text-align: left;\n",
       "  background-color: yellow;\n",
       "}\n",
       "#T_db26b_row0_col8, #T_db26b_row1_col8, #T_db26b_row2_col8, #T_db26b_row3_col8, #T_db26b_row4_col8, #T_db26b_row6_col8, #T_db26b_row7_col8, #T_db26b_row8_col8, #T_db26b_row9_col8, #T_db26b_row10_col8, #T_db26b_row11_col8, #T_db26b_row12_col8 {\n",
       "  text-align: left;\n",
       "  background-color: lightgrey;\n",
       "}\n",
       "#T_db26b_row5_col8 {\n",
       "  text-align: left;\n",
       "  background-color: yellow;\n",
       "  background-color: lightgrey;\n",
       "}\n",
       "</style>\n",
       "<table id=\"T_db26b_\">\n",
       "  <thead>\n",
       "    <tr>\n",
       "      <th class=\"blank level0\" >&nbsp;</th>\n",
       "      <th class=\"col_heading level0 col0\" >Model</th>\n",
       "      <th class=\"col_heading level0 col1\" >Accuracy</th>\n",
       "      <th class=\"col_heading level0 col2\" >AUC</th>\n",
       "      <th class=\"col_heading level0 col3\" >Recall</th>\n",
       "      <th class=\"col_heading level0 col4\" >Prec.</th>\n",
       "      <th class=\"col_heading level0 col5\" >F1</th>\n",
       "      <th class=\"col_heading level0 col6\" >Kappa</th>\n",
       "      <th class=\"col_heading level0 col7\" >MCC</th>\n",
       "      <th class=\"col_heading level0 col8\" >TT (Sec)</th>\n",
       "    </tr>\n",
       "  </thead>\n",
       "  <tbody>\n",
       "    <tr>\n",
       "      <th id=\"T_db26b_level0_row0\" class=\"row_heading level0 row0\" >et</th>\n",
       "      <td id=\"T_db26b_row0_col0\" class=\"data row0 col0\" >Extra Trees Classifier</td>\n",
       "      <td id=\"T_db26b_row0_col1\" class=\"data row0 col1\" >0.5235</td>\n",
       "      <td id=\"T_db26b_row0_col2\" class=\"data row0 col2\" >0.5254</td>\n",
       "      <td id=\"T_db26b_row0_col3\" class=\"data row0 col3\" >0.5398</td>\n",
       "      <td id=\"T_db26b_row0_col4\" class=\"data row0 col4\" >0.5329</td>\n",
       "      <td id=\"T_db26b_row0_col5\" class=\"data row0 col5\" >0.5361</td>\n",
       "      <td id=\"T_db26b_row0_col6\" class=\"data row0 col6\" >0.0464</td>\n",
       "      <td id=\"T_db26b_row0_col7\" class=\"data row0 col7\" >0.0464</td>\n",
       "      <td id=\"T_db26b_row0_col8\" class=\"data row0 col8\" >0.0890</td>\n",
       "    </tr>\n",
       "    <tr>\n",
       "      <th id=\"T_db26b_level0_row1\" class=\"row_heading level0 row1\" >rf</th>\n",
       "      <td id=\"T_db26b_row1_col0\" class=\"data row1 col0\" >Random Forest Classifier</td>\n",
       "      <td id=\"T_db26b_row1_col1\" class=\"data row1 col1\" >0.5154</td>\n",
       "      <td id=\"T_db26b_row1_col2\" class=\"data row1 col2\" >0.5194</td>\n",
       "      <td id=\"T_db26b_row1_col3\" class=\"data row1 col3\" >0.5310</td>\n",
       "      <td id=\"T_db26b_row1_col4\" class=\"data row1 col4\" >0.5248</td>\n",
       "      <td id=\"T_db26b_row1_col5\" class=\"data row1 col5\" >0.5278</td>\n",
       "      <td id=\"T_db26b_row1_col6\" class=\"data row1 col6\" >0.0302</td>\n",
       "      <td id=\"T_db26b_row1_col7\" class=\"data row1 col7\" >0.0302</td>\n",
       "      <td id=\"T_db26b_row1_col8\" class=\"data row1 col8\" >0.1120</td>\n",
       "    </tr>\n",
       "    <tr>\n",
       "      <th id=\"T_db26b_level0_row2\" class=\"row_heading level0 row2\" >lightgbm</th>\n",
       "      <td id=\"T_db26b_row2_col0\" class=\"data row2 col0\" >Light Gradient Boosting Machine</td>\n",
       "      <td id=\"T_db26b_row2_col1\" class=\"data row2 col1\" >0.5140</td>\n",
       "      <td id=\"T_db26b_row2_col2\" class=\"data row2 col2\" >0.5225</td>\n",
       "      <td id=\"T_db26b_row2_col3\" class=\"data row2 col3\" >0.5211</td>\n",
       "      <td id=\"T_db26b_row2_col4\" class=\"data row2 col4\" >0.5240</td>\n",
       "      <td id=\"T_db26b_row2_col5\" class=\"data row2 col5\" >0.5222</td>\n",
       "      <td id=\"T_db26b_row2_col6\" class=\"data row2 col6\" >0.0277</td>\n",
       "      <td id=\"T_db26b_row2_col7\" class=\"data row2 col7\" >0.0278</td>\n",
       "      <td id=\"T_db26b_row2_col8\" class=\"data row2 col8\" >0.0190</td>\n",
       "    </tr>\n",
       "    <tr>\n",
       "      <th id=\"T_db26b_level0_row3\" class=\"row_heading level0 row3\" >ada</th>\n",
       "      <td id=\"T_db26b_row3_col0\" class=\"data row3 col0\" >Ada Boost Classifier</td>\n",
       "      <td id=\"T_db26b_row3_col1\" class=\"data row3 col1\" >0.5025</td>\n",
       "      <td id=\"T_db26b_row3_col2\" class=\"data row3 col2\" >0.5059</td>\n",
       "      <td id=\"T_db26b_row3_col3\" class=\"data row3 col3\" >0.5535</td>\n",
       "      <td id=\"T_db26b_row3_col4\" class=\"data row3 col4\" >0.5111</td>\n",
       "      <td id=\"T_db26b_row3_col5\" class=\"data row3 col5\" >0.5306</td>\n",
       "      <td id=\"T_db26b_row3_col6\" class=\"data row3 col6\" >0.0029</td>\n",
       "      <td id=\"T_db26b_row3_col7\" class=\"data row3 col7\" >0.0031</td>\n",
       "      <td id=\"T_db26b_row3_col8\" class=\"data row3 col8\" >0.0280</td>\n",
       "    </tr>\n",
       "    <tr>\n",
       "      <th id=\"T_db26b_level0_row4\" class=\"row_heading level0 row4\" >lr</th>\n",
       "      <td id=\"T_db26b_row4_col0\" class=\"data row4 col0\" >Logistic Regression</td>\n",
       "      <td id=\"T_db26b_row4_col1\" class=\"data row4 col1\" >0.5017</td>\n",
       "      <td id=\"T_db26b_row4_col2\" class=\"data row4 col2\" >0.4910</td>\n",
       "      <td id=\"T_db26b_row4_col3\" class=\"data row4 col3\" >0.7630</td>\n",
       "      <td id=\"T_db26b_row4_col4\" class=\"data row4 col4\" >0.5076</td>\n",
       "      <td id=\"T_db26b_row4_col5\" class=\"data row4 col5\" >0.6092</td>\n",
       "      <td id=\"T_db26b_row4_col6\" class=\"data row4 col6\" >-0.0078</td>\n",
       "      <td id=\"T_db26b_row4_col7\" class=\"data row4 col7\" >-0.0081</td>\n",
       "      <td id=\"T_db26b_row4_col8\" class=\"data row4 col8\" >0.0050</td>\n",
       "    </tr>\n",
       "    <tr>\n",
       "      <th id=\"T_db26b_level0_row5\" class=\"row_heading level0 row5\" >ridge</th>\n",
       "      <td id=\"T_db26b_row5_col0\" class=\"data row5 col0\" >Ridge Classifier</td>\n",
       "      <td id=\"T_db26b_row5_col1\" class=\"data row5 col1\" >0.5017</td>\n",
       "      <td id=\"T_db26b_row5_col2\" class=\"data row5 col2\" >0.0000</td>\n",
       "      <td id=\"T_db26b_row5_col3\" class=\"data row5 col3\" >0.7630</td>\n",
       "      <td id=\"T_db26b_row5_col4\" class=\"data row5 col4\" >0.5076</td>\n",
       "      <td id=\"T_db26b_row5_col5\" class=\"data row5 col5\" >0.6092</td>\n",
       "      <td id=\"T_db26b_row5_col6\" class=\"data row5 col6\" >-0.0078</td>\n",
       "      <td id=\"T_db26b_row5_col7\" class=\"data row5 col7\" >-0.0081</td>\n",
       "      <td id=\"T_db26b_row5_col8\" class=\"data row5 col8\" >0.0040</td>\n",
       "    </tr>\n",
       "    <tr>\n",
       "      <th id=\"T_db26b_level0_row6\" class=\"row_heading level0 row6\" >lda</th>\n",
       "      <td id=\"T_db26b_row6_col0\" class=\"data row6 col0\" >Linear Discriminant Analysis</td>\n",
       "      <td id=\"T_db26b_row6_col1\" class=\"data row6 col1\" >0.5017</td>\n",
       "      <td id=\"T_db26b_row6_col2\" class=\"data row6 col2\" >0.4910</td>\n",
       "      <td id=\"T_db26b_row6_col3\" class=\"data row6 col3\" >0.7630</td>\n",
       "      <td id=\"T_db26b_row6_col4\" class=\"data row6 col4\" >0.5076</td>\n",
       "      <td id=\"T_db26b_row6_col5\" class=\"data row6 col5\" >0.6092</td>\n",
       "      <td id=\"T_db26b_row6_col6\" class=\"data row6 col6\" >-0.0078</td>\n",
       "      <td id=\"T_db26b_row6_col7\" class=\"data row6 col7\" >-0.0081</td>\n",
       "      <td id=\"T_db26b_row6_col8\" class=\"data row6 col8\" >0.0050</td>\n",
       "    </tr>\n",
       "    <tr>\n",
       "      <th id=\"T_db26b_level0_row7\" class=\"row_heading level0 row7\" >nb</th>\n",
       "      <td id=\"T_db26b_row7_col0\" class=\"data row7 col0\" >Naive Bayes</td>\n",
       "      <td id=\"T_db26b_row7_col1\" class=\"data row7 col1\" >0.5000</td>\n",
       "      <td id=\"T_db26b_row7_col2\" class=\"data row7 col2\" >0.4915</td>\n",
       "      <td id=\"T_db26b_row7_col3\" class=\"data row7 col3\" >0.7115</td>\n",
       "      <td id=\"T_db26b_row7_col4\" class=\"data row7 col4\" >0.5071</td>\n",
       "      <td id=\"T_db26b_row7_col5\" class=\"data row7 col5\" >0.5917</td>\n",
       "      <td id=\"T_db26b_row7_col6\" class=\"data row7 col6\" >-0.0090</td>\n",
       "      <td id=\"T_db26b_row7_col7\" class=\"data row7 col7\" >-0.0097</td>\n",
       "      <td id=\"T_db26b_row7_col8\" class=\"data row7 col8\" >0.0050</td>\n",
       "    </tr>\n",
       "    <tr>\n",
       "      <th id=\"T_db26b_level0_row8\" class=\"row_heading level0 row8\" >knn</th>\n",
       "      <td id=\"T_db26b_row8_col0\" class=\"data row8 col0\" >K Neighbors Classifier</td>\n",
       "      <td id=\"T_db26b_row8_col1\" class=\"data row8 col1\" >0.4992</td>\n",
       "      <td id=\"T_db26b_row8_col2\" class=\"data row8 col2\" >0.4976</td>\n",
       "      <td id=\"T_db26b_row8_col3\" class=\"data row8 col3\" >0.5118</td>\n",
       "      <td id=\"T_db26b_row8_col4\" class=\"data row8 col4\" >0.5093</td>\n",
       "      <td id=\"T_db26b_row8_col5\" class=\"data row8 col5\" >0.5102</td>\n",
       "      <td id=\"T_db26b_row8_col6\" class=\"data row8 col6\" >-0.0022</td>\n",
       "      <td id=\"T_db26b_row8_col7\" class=\"data row8 col7\" >-0.0022</td>\n",
       "      <td id=\"T_db26b_row8_col8\" class=\"data row8 col8\" >0.0190</td>\n",
       "    </tr>\n",
       "    <tr>\n",
       "      <th id=\"T_db26b_level0_row9\" class=\"row_heading level0 row9\" >dt</th>\n",
       "      <td id=\"T_db26b_row9_col0\" class=\"data row9 col0\" >Decision Tree Classifier</td>\n",
       "      <td id=\"T_db26b_row9_col1\" class=\"data row9 col1\" >0.4978</td>\n",
       "      <td id=\"T_db26b_row9_col2\" class=\"data row9 col2\" >0.4977</td>\n",
       "      <td id=\"T_db26b_row9_col3\" class=\"data row9 col3\" >0.4991</td>\n",
       "      <td id=\"T_db26b_row9_col4\" class=\"data row9 col4\" >0.5081</td>\n",
       "      <td id=\"T_db26b_row9_col5\" class=\"data row9 col5\" >0.5032</td>\n",
       "      <td id=\"T_db26b_row9_col6\" class=\"data row9 col6\" >-0.0046</td>\n",
       "      <td id=\"T_db26b_row9_col7\" class=\"data row9 col7\" >-0.0046</td>\n",
       "      <td id=\"T_db26b_row9_col8\" class=\"data row9 col8\" >0.0120</td>\n",
       "    </tr>\n",
       "    <tr>\n",
       "      <th id=\"T_db26b_level0_row10\" class=\"row_heading level0 row10\" >gbc</th>\n",
       "      <td id=\"T_db26b_row10_col0\" class=\"data row10 col0\" >Gradient Boosting Classifier</td>\n",
       "      <td id=\"T_db26b_row10_col1\" class=\"data row10 col1\" >0.4958</td>\n",
       "      <td id=\"T_db26b_row10_col2\" class=\"data row10 col2\" >0.5003</td>\n",
       "      <td id=\"T_db26b_row10_col3\" class=\"data row10 col3\" >0.5771</td>\n",
       "      <td id=\"T_db26b_row10_col4\" class=\"data row10 col4\" >0.5046</td>\n",
       "      <td id=\"T_db26b_row10_col5\" class=\"data row10 col5\" >0.5380</td>\n",
       "      <td id=\"T_db26b_row10_col6\" class=\"data row10 col6\" >-0.0118</td>\n",
       "      <td id=\"T_db26b_row10_col7\" class=\"data row10 col7\" >-0.0117</td>\n",
       "      <td id=\"T_db26b_row10_col8\" class=\"data row10 col8\" >0.0670</td>\n",
       "    </tr>\n",
       "    <tr>\n",
       "      <th id=\"T_db26b_level0_row11\" class=\"row_heading level0 row11\" >svm</th>\n",
       "      <td id=\"T_db26b_row11_col0\" class=\"data row11 col0\" >SVM - Linear Kernel</td>\n",
       "      <td id=\"T_db26b_row11_col1\" class=\"data row11 col1\" >0.4894</td>\n",
       "      <td id=\"T_db26b_row11_col2\" class=\"data row11 col2\" >0.0000</td>\n",
       "      <td id=\"T_db26b_row11_col3\" class=\"data row11 col3\" >0.5151</td>\n",
       "      <td id=\"T_db26b_row11_col4\" class=\"data row11 col4\" >0.4999</td>\n",
       "      <td id=\"T_db26b_row11_col5\" class=\"data row11 col5\" >0.5073</td>\n",
       "      <td id=\"T_db26b_row11_col6\" class=\"data row11 col6\" >-0.0224</td>\n",
       "      <td id=\"T_db26b_row11_col7\" class=\"data row11 col7\" >-0.0224</td>\n",
       "      <td id=\"T_db26b_row11_col8\" class=\"data row11 col8\" >0.0100</td>\n",
       "    </tr>\n",
       "    <tr>\n",
       "      <th id=\"T_db26b_level0_row12\" class=\"row_heading level0 row12\" >qda</th>\n",
       "      <td id=\"T_db26b_row12_col0\" class=\"data row12 col0\" >Quadratic Discriminant Analysis</td>\n",
       "      <td id=\"T_db26b_row12_col1\" class=\"data row12 col1\" >0.4885</td>\n",
       "      <td id=\"T_db26b_row12_col2\" class=\"data row12 col2\" >0.4892</td>\n",
       "      <td id=\"T_db26b_row12_col3\" class=\"data row12 col3\" >0.6424</td>\n",
       "      <td id=\"T_db26b_row12_col4\" class=\"data row12 col4\" >0.4987</td>\n",
       "      <td id=\"T_db26b_row12_col5\" class=\"data row12 col5\" >0.5611</td>\n",
       "      <td id=\"T_db26b_row12_col6\" class=\"data row12 col6\" >-0.0296</td>\n",
       "      <td id=\"T_db26b_row12_col7\" class=\"data row12 col7\" >-0.0305</td>\n",
       "      <td id=\"T_db26b_row12_col8\" class=\"data row12 col8\" >0.0050</td>\n",
       "    </tr>\n",
       "  </tbody>\n",
       "</table>\n"
      ],
      "text/plain": [
       "<pandas.io.formats.style.Styler at 0x7f7c4557c3d0>"
      ]
     },
     "metadata": {},
     "output_type": "display_data"
    },
    {
     "data": {
      "text/plain": [
       "ExtraTreesClassifier(bootstrap=False, ccp_alpha=0.0, class_weight=None,\n",
       "                     criterion='gini', max_depth=None, max_features='auto',\n",
       "                     max_leaf_nodes=None, max_samples=None,\n",
       "                     min_impurity_decrease=0.0, min_impurity_split=None,\n",
       "                     min_samples_leaf=1, min_samples_split=2,\n",
       "                     min_weight_fraction_leaf=0.0, n_estimators=100, n_jobs=-1,\n",
       "                     oob_score=False, random_state=123, verbose=0,\n",
       "                     warm_start=False)"
      ]
     },
     "execution_count": 56,
     "metadata": {},
     "output_type": "execute_result"
    }
   ],
   "source": [
    "compare_models()"
   ]
  },
  {
   "cell_type": "code",
   "execution_count": 57,
   "metadata": {},
   "outputs": [],
   "source": [
    "with open ('back_test_pipeline_settings.yaml') as ymlfile:\n",
    "    cfg = yaml.safe_load(ymlfile)\n",
    "    model = cfg['model']['name']"
   ]
  },
  {
   "cell_type": "code",
   "execution_count": 58,
   "metadata": {},
   "outputs": [
    {
     "name": "stdout",
     "output_type": "stream",
     "text": [
      "Model Name: lightgbm\n"
     ]
    }
   ],
   "source": [
    "print('Model Name:', model)"
   ]
  },
  {
   "cell_type": "code",
   "execution_count": 59,
   "metadata": {},
   "outputs": [
    {
     "data": {
      "text/html": [
       "<style type=\"text/css\">\n",
       "#T_a4ce8_row10_col0, #T_a4ce8_row10_col1, #T_a4ce8_row10_col2, #T_a4ce8_row10_col3, #T_a4ce8_row10_col4, #T_a4ce8_row10_col5, #T_a4ce8_row10_col6 {\n",
       "  background: yellow;\n",
       "}\n",
       "</style>\n",
       "<table id=\"T_a4ce8_\">\n",
       "  <thead>\n",
       "    <tr>\n",
       "      <th class=\"blank level0\" >&nbsp;</th>\n",
       "      <th class=\"col_heading level0 col0\" >Accuracy</th>\n",
       "      <th class=\"col_heading level0 col1\" >AUC</th>\n",
       "      <th class=\"col_heading level0 col2\" >Recall</th>\n",
       "      <th class=\"col_heading level0 col3\" >Prec.</th>\n",
       "      <th class=\"col_heading level0 col4\" >F1</th>\n",
       "      <th class=\"col_heading level0 col5\" >Kappa</th>\n",
       "      <th class=\"col_heading level0 col6\" >MCC</th>\n",
       "    </tr>\n",
       "  </thead>\n",
       "  <tbody>\n",
       "    <tr>\n",
       "      <th id=\"T_a4ce8_level0_row0\" class=\"row_heading level0 row0\" >0</th>\n",
       "      <td id=\"T_a4ce8_row0_col0\" class=\"data row0 col0\" >0.5279</td>\n",
       "      <td id=\"T_a4ce8_row0_col1\" class=\"data row0 col1\" >0.5192</td>\n",
       "      <td id=\"T_a4ce8_row0_col2\" class=\"data row0 col2\" >0.5519</td>\n",
       "      <td id=\"T_a4ce8_row0_col3\" class=\"data row0 col3\" >0.5372</td>\n",
       "      <td id=\"T_a4ce8_row0_col4\" class=\"data row0 col4\" >0.5445</td>\n",
       "      <td id=\"T_a4ce8_row0_col5\" class=\"data row0 col5\" >0.0548</td>\n",
       "      <td id=\"T_a4ce8_row0_col6\" class=\"data row0 col6\" >0.0548</td>\n",
       "    </tr>\n",
       "    <tr>\n",
       "      <th id=\"T_a4ce8_level0_row1\" class=\"row_heading level0 row1\" >1</th>\n",
       "      <td id=\"T_a4ce8_row1_col0\" class=\"data row1 col0\" >0.5196</td>\n",
       "      <td id=\"T_a4ce8_row1_col1\" class=\"data row1 col1\" >0.5078</td>\n",
       "      <td id=\"T_a4ce8_row1_col2\" class=\"data row1 col2\" >0.5137</td>\n",
       "      <td id=\"T_a4ce8_row1_col3\" class=\"data row1 col3\" >0.5311</td>\n",
       "      <td id=\"T_a4ce8_row1_col4\" class=\"data row1 col4\" >0.5222</td>\n",
       "      <td id=\"T_a4ce8_row1_col5\" class=\"data row1 col5\" >0.0393</td>\n",
       "      <td id=\"T_a4ce8_row1_col6\" class=\"data row1 col6\" >0.0394</td>\n",
       "    </tr>\n",
       "    <tr>\n",
       "      <th id=\"T_a4ce8_level0_row2\" class=\"row_heading level0 row2\" >2</th>\n",
       "      <td id=\"T_a4ce8_row2_col0\" class=\"data row2 col0\" >0.4846</td>\n",
       "      <td id=\"T_a4ce8_row2_col1\" class=\"data row2 col1\" >0.5182</td>\n",
       "      <td id=\"T_a4ce8_row2_col2\" class=\"data row2 col2\" >0.4754</td>\n",
       "      <td id=\"T_a4ce8_row2_col3\" class=\"data row2 col3\" >0.4971</td>\n",
       "      <td id=\"T_a4ce8_row2_col4\" class=\"data row2 col4\" >0.4860</td>\n",
       "      <td id=\"T_a4ce8_row2_col5\" class=\"data row2 col5\" >-0.0303</td>\n",
       "      <td id=\"T_a4ce8_row2_col6\" class=\"data row2 col6\" >-0.0303</td>\n",
       "    </tr>\n",
       "    <tr>\n",
       "      <th id=\"T_a4ce8_level0_row3\" class=\"row_heading level0 row3\" >3</th>\n",
       "      <td id=\"T_a4ce8_row3_col0\" class=\"data row3 col0\" >0.4622</td>\n",
       "      <td id=\"T_a4ce8_row3_col1\" class=\"data row3 col1\" >0.4643</td>\n",
       "      <td id=\"T_a4ce8_row3_col2\" class=\"data row3 col2\" >0.4670</td>\n",
       "      <td id=\"T_a4ce8_row3_col3\" class=\"data row3 col3\" >0.4722</td>\n",
       "      <td id=\"T_a4ce8_row3_col4\" class=\"data row3 col4\" >0.4696</td>\n",
       "      <td id=\"T_a4ce8_row3_col5\" class=\"data row3 col5\" >-0.0758</td>\n",
       "      <td id=\"T_a4ce8_row3_col6\" class=\"data row3 col6\" >-0.0758</td>\n",
       "    </tr>\n",
       "    <tr>\n",
       "      <th id=\"T_a4ce8_level0_row4\" class=\"row_heading level0 row4\" >4</th>\n",
       "      <td id=\"T_a4ce8_row4_col0\" class=\"data row4 col0\" >0.5490</td>\n",
       "      <td id=\"T_a4ce8_row4_col1\" class=\"data row4 col1\" >0.5776</td>\n",
       "      <td id=\"T_a4ce8_row4_col2\" class=\"data row4 col2\" >0.6209</td>\n",
       "      <td id=\"T_a4ce8_row4_col3\" class=\"data row4 col3\" >0.5512</td>\n",
       "      <td id=\"T_a4ce8_row4_col4\" class=\"data row4 col4\" >0.5840</td>\n",
       "      <td id=\"T_a4ce8_row4_col5\" class=\"data row4 col5\" >0.0954</td>\n",
       "      <td id=\"T_a4ce8_row4_col6\" class=\"data row4 col6\" >0.0962</td>\n",
       "    </tr>\n",
       "    <tr>\n",
       "      <th id=\"T_a4ce8_level0_row5\" class=\"row_heading level0 row5\" >5</th>\n",
       "      <td id=\"T_a4ce8_row5_col0\" class=\"data row5 col0\" >0.4818</td>\n",
       "      <td id=\"T_a4ce8_row5_col1\" class=\"data row5 col1\" >0.4870</td>\n",
       "      <td id=\"T_a4ce8_row5_col2\" class=\"data row5 col2\" >0.4945</td>\n",
       "      <td id=\"T_a4ce8_row5_col3\" class=\"data row5 col3\" >0.4918</td>\n",
       "      <td id=\"T_a4ce8_row5_col4\" class=\"data row5 col4\" >0.4932</td>\n",
       "      <td id=\"T_a4ce8_row5_col5\" class=\"data row5 col5\" >-0.0369</td>\n",
       "      <td id=\"T_a4ce8_row5_col6\" class=\"data row5 col6\" >-0.0369</td>\n",
       "    </tr>\n",
       "    <tr>\n",
       "      <th id=\"T_a4ce8_level0_row6\" class=\"row_heading level0 row6\" >6</th>\n",
       "      <td id=\"T_a4ce8_row6_col0\" class=\"data row6 col0\" >0.5686</td>\n",
       "      <td id=\"T_a4ce8_row6_col1\" class=\"data row6 col1\" >0.5774</td>\n",
       "      <td id=\"T_a4ce8_row6_col2\" class=\"data row6 col2\" >0.5385</td>\n",
       "      <td id=\"T_a4ce8_row6_col3\" class=\"data row6 col3\" >0.5833</td>\n",
       "      <td id=\"T_a4ce8_row6_col4\" class=\"data row6 col4\" >0.5600</td>\n",
       "      <td id=\"T_a4ce8_row6_col5\" class=\"data row6 col5\" >0.1382</td>\n",
       "      <td id=\"T_a4ce8_row6_col6\" class=\"data row6 col6\" >0.1387</td>\n",
       "    </tr>\n",
       "    <tr>\n",
       "      <th id=\"T_a4ce8_level0_row7\" class=\"row_heading level0 row7\" >7</th>\n",
       "      <td id=\"T_a4ce8_row7_col0\" class=\"data row7 col0\" >0.4930</td>\n",
       "      <td id=\"T_a4ce8_row7_col1\" class=\"data row7 col1\" >0.4880</td>\n",
       "      <td id=\"T_a4ce8_row7_col2\" class=\"data row7 col2\" >0.5000</td>\n",
       "      <td id=\"T_a4ce8_row7_col3\" class=\"data row7 col3\" >0.5028</td>\n",
       "      <td id=\"T_a4ce8_row7_col4\" class=\"data row7 col4\" >0.5014</td>\n",
       "      <td id=\"T_a4ce8_row7_col5\" class=\"data row7 col5\" >-0.0143</td>\n",
       "      <td id=\"T_a4ce8_row7_col6\" class=\"data row7 col6\" >-0.0143</td>\n",
       "    </tr>\n",
       "    <tr>\n",
       "      <th id=\"T_a4ce8_level0_row8\" class=\"row_heading level0 row8\" >8</th>\n",
       "      <td id=\"T_a4ce8_row8_col0\" class=\"data row8 col0\" >0.5322</td>\n",
       "      <td id=\"T_a4ce8_row8_col1\" class=\"data row8 col1\" >0.5452</td>\n",
       "      <td id=\"T_a4ce8_row8_col2\" class=\"data row8 col2\" >0.5440</td>\n",
       "      <td id=\"T_a4ce8_row8_col3\" class=\"data row8 col3\" >0.5410</td>\n",
       "      <td id=\"T_a4ce8_row8_col4\" class=\"data row8 col4\" >0.5425</td>\n",
       "      <td id=\"T_a4ce8_row8_col5\" class=\"data row8 col5\" >0.0640</td>\n",
       "      <td id=\"T_a4ce8_row8_col6\" class=\"data row8 col6\" >0.0640</td>\n",
       "    </tr>\n",
       "    <tr>\n",
       "      <th id=\"T_a4ce8_level0_row9\" class=\"row_heading level0 row9\" >9</th>\n",
       "      <td id=\"T_a4ce8_row9_col0\" class=\"data row9 col0\" >0.5210</td>\n",
       "      <td id=\"T_a4ce8_row9_col1\" class=\"data row9 col1\" >0.5398</td>\n",
       "      <td id=\"T_a4ce8_row9_col2\" class=\"data row9 col2\" >0.5055</td>\n",
       "      <td id=\"T_a4ce8_row9_col3\" class=\"data row9 col3\" >0.5318</td>\n",
       "      <td id=\"T_a4ce8_row9_col4\" class=\"data row9 col4\" >0.5183</td>\n",
       "      <td id=\"T_a4ce8_row9_col5\" class=\"data row9 col5\" >0.0426</td>\n",
       "      <td id=\"T_a4ce8_row9_col6\" class=\"data row9 col6\" >0.0426</td>\n",
       "    </tr>\n",
       "    <tr>\n",
       "      <th id=\"T_a4ce8_level0_row10\" class=\"row_heading level0 row10\" >Mean</th>\n",
       "      <td id=\"T_a4ce8_row10_col0\" class=\"data row10 col0\" >0.5140</td>\n",
       "      <td id=\"T_a4ce8_row10_col1\" class=\"data row10 col1\" >0.5225</td>\n",
       "      <td id=\"T_a4ce8_row10_col2\" class=\"data row10 col2\" >0.5211</td>\n",
       "      <td id=\"T_a4ce8_row10_col3\" class=\"data row10 col3\" >0.5240</td>\n",
       "      <td id=\"T_a4ce8_row10_col4\" class=\"data row10 col4\" >0.5222</td>\n",
       "      <td id=\"T_a4ce8_row10_col5\" class=\"data row10 col5\" >0.0277</td>\n",
       "      <td id=\"T_a4ce8_row10_col6\" class=\"data row10 col6\" >0.0278</td>\n",
       "    </tr>\n",
       "    <tr>\n",
       "      <th id=\"T_a4ce8_level0_row11\" class=\"row_heading level0 row11\" >SD</th>\n",
       "      <td id=\"T_a4ce8_row11_col0\" class=\"data row11 col0\" >0.0314</td>\n",
       "      <td id=\"T_a4ce8_row11_col1\" class=\"data row11 col1\" >0.0360</td>\n",
       "      <td id=\"T_a4ce8_row11_col2\" class=\"data row11 col2\" >0.0427</td>\n",
       "      <td id=\"T_a4ce8_row11_col3\" class=\"data row11 col3\" >0.0312</td>\n",
       "      <td id=\"T_a4ce8_row11_col4\" class=\"data row11 col4\" >0.0339</td>\n",
       "      <td id=\"T_a4ce8_row11_col5\" class=\"data row11 col5\" >0.0626</td>\n",
       "      <td id=\"T_a4ce8_row11_col6\" class=\"data row11 col6\" >0.0628</td>\n",
       "    </tr>\n",
       "  </tbody>\n",
       "</table>\n"
      ],
      "text/plain": [
       "<pandas.io.formats.style.Styler at 0x7f7f2c5f47f0>"
      ]
     },
     "metadata": {},
     "output_type": "display_data"
    }
   ],
   "source": [
    "MODEL = create_model(model)"
   ]
  },
  {
   "cell_type": "code",
   "execution_count": 60,
   "metadata": {},
   "outputs": [
    {
     "data": {
      "image/png": "[encoded data removed]",
      "text/plain": [
       "<Figure size 576x396 with 1 Axes>"
      ]
     },
     "metadata": {},
     "output_type": "display_data"
    }
   ],
   "source": [
    "plot_model(MODEL, plot = 'confusion_matrix')"
   ]
  },
  {
   "cell_type": "code",
   "execution_count": 61,
   "metadata": {},
   "outputs": [
    {
     "data": {
      "text/html": [
       "<style type=\"text/css\">\n",
       "#T_957d8_row10_col0, #T_957d8_row10_col1, #T_957d8_row10_col2, #T_957d8_row10_col3, #T_957d8_row10_col4, #T_957d8_row10_col5, #T_957d8_row10_col6 {\n",
       "  background: yellow;\n",
       "}\n",
       "</style>\n",
       "<table id=\"T_957d8_\">\n",
       "  <thead>\n",
       "    <tr>\n",
       "      <th class=\"blank level0\" >&nbsp;</th>\n",
       "      <th class=\"col_heading level0 col0\" >Accuracy</th>\n",
       "      <th class=\"col_heading level0 col1\" >AUC</th>\n",
       "      <th class=\"col_heading level0 col2\" >Recall</th>\n",
       "      <th class=\"col_heading level0 col3\" >Prec.</th>\n",
       "      <th class=\"col_heading level0 col4\" >F1</th>\n",
       "      <th class=\"col_heading level0 col5\" >Kappa</th>\n",
       "      <th class=\"col_heading level0 col6\" >MCC</th>\n",
       "    </tr>\n",
       "  </thead>\n",
       "  <tbody>\n",
       "    <tr>\n",
       "      <th id=\"T_957d8_level0_row0\" class=\"row_heading level0 row0\" >0</th>\n",
       "      <td id=\"T_957d8_row0_col0\" class=\"data row0 col0\" >0.5782</td>\n",
       "      <td id=\"T_957d8_row0_col1\" class=\"data row0 col1\" >0.5619</td>\n",
       "      <td id=\"T_957d8_row0_col2\" class=\"data row0 col2\" >0.5847</td>\n",
       "      <td id=\"T_957d8_row0_col3\" class=\"data row0 col3\" >0.5879</td>\n",
       "      <td id=\"T_957d8_row0_col4\" class=\"data row0 col4\" >0.5863</td>\n",
       "      <td id=\"T_957d8_row0_col5\" class=\"data row0 col5\" >0.1561</td>\n",
       "      <td id=\"T_957d8_row0_col6\" class=\"data row0 col6\" >0.1561</td>\n",
       "    </tr>\n",
       "    <tr>\n",
       "      <th id=\"T_957d8_level0_row1\" class=\"row_heading level0 row1\" >1</th>\n",
       "      <td id=\"T_957d8_row1_col0\" class=\"data row1 col0\" >0.4581</td>\n",
       "      <td id=\"T_957d8_row1_col1\" class=\"data row1 col1\" >0.4449</td>\n",
       "      <td id=\"T_957d8_row1_col2\" class=\"data row1 col2\" >0.4973</td>\n",
       "      <td id=\"T_957d8_row1_col3\" class=\"data row1 col3\" >0.4715</td>\n",
       "      <td id=\"T_957d8_row1_col4\" class=\"data row1 col4\" >0.4840</td>\n",
       "      <td id=\"T_957d8_row1_col5\" class=\"data row1 col5\" >-0.0857</td>\n",
       "      <td id=\"T_957d8_row1_col6\" class=\"data row1 col6\" >-0.0858</td>\n",
       "    </tr>\n",
       "    <tr>\n",
       "      <th id=\"T_957d8_level0_row2\" class=\"row_heading level0 row2\" >2</th>\n",
       "      <td id=\"T_957d8_row2_col0\" class=\"data row2 col0\" >0.4846</td>\n",
       "      <td id=\"T_957d8_row2_col1\" class=\"data row2 col1\" >0.4764</td>\n",
       "      <td id=\"T_957d8_row2_col2\" class=\"data row2 col2\" >0.5082</td>\n",
       "      <td id=\"T_957d8_row2_col3\" class=\"data row2 col3\" >0.4973</td>\n",
       "      <td id=\"T_957d8_row2_col4\" class=\"data row2 col4\" >0.5027</td>\n",
       "      <td id=\"T_957d8_row2_col5\" class=\"data row2 col5\" >-0.0321</td>\n",
       "      <td id=\"T_957d8_row2_col6\" class=\"data row2 col6\" >-0.0321</td>\n",
       "    </tr>\n",
       "    <tr>\n",
       "      <th id=\"T_957d8_level0_row3\" class=\"row_heading level0 row3\" >3</th>\n",
       "      <td id=\"T_957d8_row3_col0\" class=\"data row3 col0\" >0.4846</td>\n",
       "      <td id=\"T_957d8_row3_col1\" class=\"data row3 col1\" >0.4872</td>\n",
       "      <td id=\"T_957d8_row3_col2\" class=\"data row3 col2\" >0.5330</td>\n",
       "      <td id=\"T_957d8_row3_col3\" class=\"data row3 col3\" >0.4949</td>\n",
       "      <td id=\"T_957d8_row3_col4\" class=\"data row3 col4\" >0.5132</td>\n",
       "      <td id=\"T_957d8_row3_col5\" class=\"data row3 col5\" >-0.0328</td>\n",
       "      <td id=\"T_957d8_row3_col6\" class=\"data row3 col6\" >-0.0329</td>\n",
       "    </tr>\n",
       "    <tr>\n",
       "      <th id=\"T_957d8_level0_row4\" class=\"row_heading level0 row4\" >4</th>\n",
       "      <td id=\"T_957d8_row4_col0\" class=\"data row4 col0\" >0.5574</td>\n",
       "      <td id=\"T_957d8_row4_col1\" class=\"data row4 col1\" >0.5624</td>\n",
       "      <td id=\"T_957d8_row4_col2\" class=\"data row4 col2\" >0.6044</td>\n",
       "      <td id=\"T_957d8_row4_col3\" class=\"data row4 col3\" >0.5612</td>\n",
       "      <td id=\"T_957d8_row4_col4\" class=\"data row4 col4\" >0.5820</td>\n",
       "      <td id=\"T_957d8_row4_col5\" class=\"data row4 col5\" >0.1131</td>\n",
       "      <td id=\"T_957d8_row4_col6\" class=\"data row4 col6\" >0.1135</td>\n",
       "    </tr>\n",
       "    <tr>\n",
       "      <th id=\"T_957d8_level0_row5\" class=\"row_heading level0 row5\" >5</th>\n",
       "      <td id=\"T_957d8_row5_col0\" class=\"data row5 col0\" >0.5126</td>\n",
       "      <td id=\"T_957d8_row5_col1\" class=\"data row5 col1\" >0.5214</td>\n",
       "      <td id=\"T_957d8_row5_col2\" class=\"data row5 col2\" >0.5879</td>\n",
       "      <td id=\"T_957d8_row5_col3\" class=\"data row5 col3\" >0.5194</td>\n",
       "      <td id=\"T_957d8_row5_col4\" class=\"data row5 col4\" >0.5515</td>\n",
       "      <td id=\"T_957d8_row5_col5\" class=\"data row5 col5\" >0.0223</td>\n",
       "      <td id=\"T_957d8_row5_col6\" class=\"data row5 col6\" >0.0225</td>\n",
       "    </tr>\n",
       "    <tr>\n",
       "      <th id=\"T_957d8_level0_row6\" class=\"row_heading level0 row6\" >6</th>\n",
       "      <td id=\"T_957d8_row6_col0\" class=\"data row6 col0\" >0.5994</td>\n",
       "      <td id=\"T_957d8_row6_col1\" class=\"data row6 col1\" >0.6132</td>\n",
       "      <td id=\"T_957d8_row6_col2\" class=\"data row6 col2\" >0.5934</td>\n",
       "      <td id=\"T_957d8_row6_col3\" class=\"data row6 col3\" >0.6102</td>\n",
       "      <td id=\"T_957d8_row6_col4\" class=\"data row6 col4\" >0.6017</td>\n",
       "      <td id=\"T_957d8_row6_col5\" class=\"data row6 col5\" >0.1990</td>\n",
       "      <td id=\"T_957d8_row6_col6\" class=\"data row6 col6\" >0.1991</td>\n",
       "    </tr>\n",
       "    <tr>\n",
       "      <th id=\"T_957d8_level0_row7\" class=\"row_heading level0 row7\" >7</th>\n",
       "      <td id=\"T_957d8_row7_col0\" class=\"data row7 col0\" >0.4986</td>\n",
       "      <td id=\"T_957d8_row7_col1\" class=\"data row7 col1\" >0.5009</td>\n",
       "      <td id=\"T_957d8_row7_col2\" class=\"data row7 col2\" >0.5000</td>\n",
       "      <td id=\"T_957d8_row7_col3\" class=\"data row7 col3\" >0.5084</td>\n",
       "      <td id=\"T_957d8_row7_col4\" class=\"data row7 col4\" >0.5042</td>\n",
       "      <td id=\"T_957d8_row7_col5\" class=\"data row7 col5\" >-0.0029</td>\n",
       "      <td id=\"T_957d8_row7_col6\" class=\"data row7 col6\" >-0.0029</td>\n",
       "    </tr>\n",
       "    <tr>\n",
       "      <th id=\"T_957d8_level0_row8\" class=\"row_heading level0 row8\" >8</th>\n",
       "      <td id=\"T_957d8_row8_col0\" class=\"data row8 col0\" >0.5378</td>\n",
       "      <td id=\"T_957d8_row8_col1\" class=\"data row8 col1\" >0.5505</td>\n",
       "      <td id=\"T_957d8_row8_col2\" class=\"data row8 col2\" >0.5275</td>\n",
       "      <td id=\"T_957d8_row8_col3\" class=\"data row8 col3\" >0.5486</td>\n",
       "      <td id=\"T_957d8_row8_col4\" class=\"data row8 col4\" >0.5378</td>\n",
       "      <td id=\"T_957d8_row8_col5\" class=\"data row8 col5\" >0.0760</td>\n",
       "      <td id=\"T_957d8_row8_col6\" class=\"data row8 col6\" >0.0760</td>\n",
       "    </tr>\n",
       "    <tr>\n",
       "      <th id=\"T_957d8_level0_row9\" class=\"row_heading level0 row9\" >9</th>\n",
       "      <td id=\"T_957d8_row9_col0\" class=\"data row9 col0\" >0.5070</td>\n",
       "      <td id=\"T_957d8_row9_col1\" class=\"data row9 col1\" >0.5001</td>\n",
       "      <td id=\"T_957d8_row9_col2\" class=\"data row9 col2\" >0.5220</td>\n",
       "      <td id=\"T_957d8_row9_col3\" class=\"data row9 col3\" >0.5163</td>\n",
       "      <td id=\"T_957d8_row9_col4\" class=\"data row9 col4\" >0.5191</td>\n",
       "      <td id=\"T_957d8_row9_col5\" class=\"data row9 col5\" >0.0134</td>\n",
       "      <td id=\"T_957d8_row9_col6\" class=\"data row9 col6\" >0.0134</td>\n",
       "    </tr>\n",
       "    <tr>\n",
       "      <th id=\"T_957d8_level0_row10\" class=\"row_heading level0 row10\" >Mean</th>\n",
       "      <td id=\"T_957d8_row10_col0\" class=\"data row10 col0\" >0.5218</td>\n",
       "      <td id=\"T_957d8_row10_col1\" class=\"data row10 col1\" >0.5219</td>\n",
       "      <td id=\"T_957d8_row10_col2\" class=\"data row10 col2\" >0.5458</td>\n",
       "      <td id=\"T_957d8_row10_col3\" class=\"data row10 col3\" >0.5316</td>\n",
       "      <td id=\"T_957d8_row10_col4\" class=\"data row10 col4\" >0.5383</td>\n",
       "      <td id=\"T_957d8_row10_col5\" class=\"data row10 col5\" >0.0427</td>\n",
       "      <td id=\"T_957d8_row10_col6\" class=\"data row10 col6\" >0.0427</td>\n",
       "    </tr>\n",
       "    <tr>\n",
       "      <th id=\"T_957d8_level0_row11\" class=\"row_heading level0 row11\" >SD</th>\n",
       "      <td id=\"T_957d8_row11_col0\" class=\"data row11 col0\" >0.0429</td>\n",
       "      <td id=\"T_957d8_row11_col1\" class=\"data row11 col1\" >0.0475</td>\n",
       "      <td id=\"T_957d8_row11_col2\" class=\"data row11 col2\" >0.0399</td>\n",
       "      <td id=\"T_957d8_row11_col3\" class=\"data row11 col3\" >0.0419</td>\n",
       "      <td id=\"T_957d8_row11_col4\" class=\"data row11 col4\" >0.0384</td>\n",
       "      <td id=\"T_957d8_row11_col5\" class=\"data row11 col5\" >0.0863</td>\n",
       "      <td id=\"T_957d8_row11_col6\" class=\"data row11 col6\" >0.0864</td>\n",
       "    </tr>\n",
       "  </tbody>\n",
       "</table>\n"
      ],
      "text/plain": [
       "<pandas.io.formats.style.Styler at 0x7f7f2d4924c0>"
      ]
     },
     "metadata": {},
     "output_type": "display_data"
    }
   ],
   "source": [
    "TUNED_MODEL = tune_model(MODEL)"
   ]
  },
  {
   "cell_type": "code",
   "execution_count": 62,
   "metadata": {},
   "outputs": [
    {
     "data": {
      "image/png": "[encoded data removed]",
      "text/plain": [
       "<Figure size 576x396 with 1 Axes>"
      ]
     },
     "metadata": {},
     "output_type": "display_data"
    }
   ],
   "source": [
    "plot_model(TUNED_MODEL, plot = 'auc')"
   ]
  },
  {
   "cell_type": "code",
   "execution_count": 63,
   "metadata": {},
   "outputs": [
    {
     "data": {
      "image/png": "[encoded data removed]",
      "text/plain": [
       "<Figure size 576x396 with 1 Axes>"
      ]
     },
     "metadata": {},
     "output_type": "display_data"
    }
   ],
   "source": [
    "plot_model(TUNED_MODEL, plot = 'pr')"
   ]
  },
  {
   "cell_type": "code",
   "execution_count": 64,
   "metadata": {},
   "outputs": [
    {
     "data": {
      "image/png": "[encoded data removed]",
      "text/plain": [
       "<Figure size 800x500 with 1 Axes>"
      ]
     },
     "metadata": {},
     "output_type": "display_data"
    }
   ],
   "source": [
    "plot_model(TUNED_MODEL, plot='feature')"
   ]
  },
  {
   "cell_type": "code",
   "execution_count": 65,
   "metadata": {},
   "outputs": [
    {
     "data": {
      "image/png": "[encoded data removed]",
      "text/plain": [
       "<Figure size 576x396 with 1 Axes>"
      ]
     },
     "metadata": {},
     "output_type": "display_data"
    }
   ],
   "source": [
    "plot_model(TUNED_MODEL, plot = 'confusion_matrix')"
   ]
  },
  {
   "cell_type": "code",
   "execution_count": 66,
   "metadata": {},
   "outputs": [
    {
     "data": {
      "text/html": [
       "<style type=\"text/css\">\n",
       "</style>\n",
       "<table id=\"T_3b029_\">\n",
       "  <thead>\n",
       "    <tr>\n",
       "      <th class=\"blank level0\" >&nbsp;</th>\n",
       "      <th class=\"col_heading level0 col0\" >Model</th>\n",
       "      <th class=\"col_heading level0 col1\" >Accuracy</th>\n",
       "      <th class=\"col_heading level0 col2\" >AUC</th>\n",
       "      <th class=\"col_heading level0 col3\" >Recall</th>\n",
       "      <th class=\"col_heading level0 col4\" >Prec.</th>\n",
       "      <th class=\"col_heading level0 col5\" >F1</th>\n",
       "      <th class=\"col_heading level0 col6\" >Kappa</th>\n",
       "      <th class=\"col_heading level0 col7\" >MCC</th>\n",
       "    </tr>\n",
       "  </thead>\n",
       "  <tbody>\n",
       "    <tr>\n",
       "      <th id=\"T_3b029_level0_row0\" class=\"row_heading level0 row0\" >0</th>\n",
       "      <td id=\"T_3b029_row0_col0\" class=\"data row0 col0\" >Light Gradient Boosting Machine</td>\n",
       "      <td id=\"T_3b029_row0_col1\" class=\"data row0 col1\" >0.5007</td>\n",
       "      <td id=\"T_3b029_row0_col2\" class=\"data row0 col2\" >0.5012</td>\n",
       "      <td id=\"T_3b029_row0_col3\" class=\"data row0 col3\" >0.5344</td>\n",
       "      <td id=\"T_3b029_row0_col4\" class=\"data row0 col4\" >0.4945</td>\n",
       "      <td id=\"T_3b029_row0_col5\" class=\"data row0 col5\" >0.5137</td>\n",
       "      <td id=\"T_3b029_row0_col6\" class=\"data row0 col6\" >0.0022</td>\n",
       "      <td id=\"T_3b029_row0_col7\" class=\"data row0 col7\" >0.0022</td>\n",
       "    </tr>\n",
       "  </tbody>\n",
       "</table>\n"
      ],
      "text/plain": [
       "<pandas.io.formats.style.Styler at 0x7f7f2c55beb0>"
      ]
     },
     "metadata": {},
     "output_type": "display_data"
    }
   ],
   "source": [
    "predict_model(TUNED_MODEL);"
   ]
  },
  {
   "cell_type": "code",
   "execution_count": 67,
   "metadata": {},
   "outputs": [],
   "source": [
    "FINAL_MODEL = finalize_model(TUNED_MODEL)"
   ]
  },
  {
   "cell_type": "code",
   "execution_count": 68,
   "metadata": {},
   "outputs": [
    {
     "name": "stdout",
     "output_type": "stream",
     "text": [
      "LGBMClassifier(bagging_fraction=0.9, bagging_freq=3, boosting_type='gbdt',\n",
      "               class_weight=None, colsample_bytree=1.0, feature_fraction=0.5,\n",
      "               importance_type='split', learning_rate=0.4, max_depth=-1,\n",
      "               min_child_samples=6, min_child_weight=0.001, min_split_gain=0.3,\n",
      "               n_estimators=20, n_jobs=-1, num_leaves=150, objective=None,\n",
      "               random_state=123, reg_alpha=0.005, reg_lambda=0.0005,\n",
      "               silent='warn', subsample=1.0, subsample_for_bin=200000,\n",
      "               subsample_freq=0)\n"
     ]
    }
   ],
   "source": [
    "print(FINAL_MODEL)"
   ]
  },
  {
   "cell_type": "code",
   "execution_count": 69,
   "metadata": {},
   "outputs": [
    {
     "data": {
      "text/html": [
       "<style type=\"text/css\">\n",
       "</style>\n",
       "<table id=\"T_c3335_\">\n",
       "  <thead>\n",
       "    <tr>\n",
       "      <th class=\"blank level0\" >&nbsp;</th>\n",
       "      <th class=\"col_heading level0 col0\" >Model</th>\n",
       "      <th class=\"col_heading level0 col1\" >Accuracy</th>\n",
       "      <th class=\"col_heading level0 col2\" >AUC</th>\n",
       "      <th class=\"col_heading level0 col3\" >Recall</th>\n",
       "      <th class=\"col_heading level0 col4\" >Prec.</th>\n",
       "      <th class=\"col_heading level0 col5\" >F1</th>\n",
       "      <th class=\"col_heading level0 col6\" >Kappa</th>\n",
       "      <th class=\"col_heading level0 col7\" >MCC</th>\n",
       "    </tr>\n",
       "  </thead>\n",
       "  <tbody>\n",
       "    <tr>\n",
       "      <th id=\"T_c3335_level0_row0\" class=\"row_heading level0 row0\" >0</th>\n",
       "      <td id=\"T_c3335_row0_col0\" class=\"data row0 col0\" >Light Gradient Boosting Machine</td>\n",
       "      <td id=\"T_c3335_row0_col1\" class=\"data row0 col1\" >0.9138</td>\n",
       "      <td id=\"T_c3335_row0_col2\" class=\"data row0 col2\" >0.9764</td>\n",
       "      <td id=\"T_c3335_row0_col3\" class=\"data row0 col3\" >0.9087</td>\n",
       "      <td id=\"T_c3335_row0_col4\" class=\"data row0 col4\" >0.9160</td>\n",
       "      <td id=\"T_c3335_row0_col5\" class=\"data row0 col5\" >0.9124</td>\n",
       "      <td id=\"T_c3335_row0_col6\" class=\"data row0 col6\" >0.8276</td>\n",
       "      <td id=\"T_c3335_row0_col7\" class=\"data row0 col7\" >0.8277</td>\n",
       "    </tr>\n",
       "  </tbody>\n",
       "</table>\n"
      ],
      "text/plain": [
       "<pandas.io.formats.style.Styler at 0x7f7c4d622130>"
      ]
     },
     "metadata": {},
     "output_type": "display_data"
    }
   ],
   "source": [
    "predict_model(FINAL_MODEL);"
   ]
  },
  {
   "cell_type": "code",
   "execution_count": 70,
   "metadata": {},
   "outputs": [
    {
     "data": {
      "text/html": [
       "<div>\n",
       "<style scoped>\n",
       "    .dataframe tbody tr th:only-of-type {\n",
       "        vertical-align: middle;\n",
       "    }\n",
       "\n",
       "    .dataframe tbody tr th {\n",
       "        vertical-align: top;\n",
       "    }\n",
       "\n",
       "    .dataframe thead th {\n",
       "        text-align: right;\n",
       "    }\n",
       "</style>\n",
       "<table border=\"1\" class=\"dataframe\">\n",
       "  <thead>\n",
       "    <tr style=\"text-align: right;\">\n",
       "      <th></th>\n",
       "      <th>Current_Market</th>\n",
       "      <th>Rec1_Score</th>\n",
       "      <th>Rec2_Score</th>\n",
       "      <th>Rec3_Score</th>\n",
       "      <th>Rec4_Score</th>\n",
       "      <th>Label</th>\n",
       "      <th>Score</th>\n",
       "    </tr>\n",
       "  </thead>\n",
       "  <tbody>\n",
       "    <tr>\n",
       "      <th>0</th>\n",
       "      <td>1</td>\n",
       "      <td>-75.84</td>\n",
       "      <td>-88.64</td>\n",
       "      <td>25.69</td>\n",
       "      <td>90.84</td>\n",
       "      <td>1</td>\n",
       "      <td>0.8958</td>\n",
       "    </tr>\n",
       "    <tr>\n",
       "      <th>1</th>\n",
       "      <td>1</td>\n",
       "      <td>-60.72</td>\n",
       "      <td>-51.10</td>\n",
       "      <td>76.91</td>\n",
       "      <td>65.25</td>\n",
       "      <td>1</td>\n",
       "      <td>0.6759</td>\n",
       "    </tr>\n",
       "    <tr>\n",
       "      <th>2</th>\n",
       "      <td>1</td>\n",
       "      <td>-58.15</td>\n",
       "      <td>-93.60</td>\n",
       "      <td>-20.17</td>\n",
       "      <td>51.07</td>\n",
       "      <td>0</td>\n",
       "      <td>0.6719</td>\n",
       "    </tr>\n",
       "    <tr>\n",
       "      <th>3</th>\n",
       "      <td>1</td>\n",
       "      <td>-77.52</td>\n",
       "      <td>75.17</td>\n",
       "      <td>47.83</td>\n",
       "      <td>-79.61</td>\n",
       "      <td>0</td>\n",
       "      <td>0.5146</td>\n",
       "    </tr>\n",
       "    <tr>\n",
       "      <th>4</th>\n",
       "      <td>1</td>\n",
       "      <td>-79.26</td>\n",
       "      <td>-52.43</td>\n",
       "      <td>-74.46</td>\n",
       "      <td>59.59</td>\n",
       "      <td>1</td>\n",
       "      <td>0.8430</td>\n",
       "    </tr>\n",
       "  </tbody>\n",
       "</table>\n",
       "</div>"
      ],
      "text/plain": [
       "   Current_Market  Rec1_Score  Rec2_Score  Rec3_Score  Rec4_Score  Label  \\\n",
       "0               1      -75.84      -88.64       25.69       90.84      1   \n",
       "1               1      -60.72      -51.10       76.91       65.25      1   \n",
       "2               1      -58.15      -93.60      -20.17       51.07      0   \n",
       "3               1      -77.52       75.17       47.83      -79.61      0   \n",
       "4               1      -79.26      -52.43      -74.46       59.59      1   \n",
       "\n",
       "    Score  \n",
       "0  0.8958  \n",
       "1  0.6759  \n",
       "2  0.6719  \n",
       "3  0.5146  \n",
       "4  0.8430  "
      ]
     },
     "execution_count": 70,
     "metadata": {},
     "output_type": "execute_result"
    }
   ],
   "source": [
    "unseen_predictions = predict_model(FINAL_MODEL, data=data_unseen)\n",
    "unseen_predictions.head()"
   ]
  },
  {
   "cell_type": "code",
   "execution_count": 71,
   "metadata": {},
   "outputs": [
    {
     "data": {
      "image/png": "[encoded data removed]",
      "text/plain": [
       "<Figure size 576x396 with 1 Axes>"
      ]
     },
     "metadata": {},
     "output_type": "display_data"
    }
   ],
   "source": [
    "plot_model(FINAL_MODEL, plot = 'auc')"
   ]
  },
  {
   "cell_type": "code",
   "execution_count": 72,
   "metadata": {},
   "outputs": [],
   "source": [
    "pkl_name = (today + \"_\" + model + \"_\" + pair)"
   ]
  },
  {
   "cell_type": "code",
   "execution_count": 73,
   "metadata": {},
   "outputs": [
    {
     "name": "stdout",
     "output_type": "stream",
     "text": [
      "Transformation Pipeline and Model Successfully Saved\n"
     ]
    },
    {
     "data": {
      "text/plain": [
       "(Pipeline(memory=None,\n",
       "          steps=[('dtypes',\n",
       "                  DataTypes_Auto_infer(categorical_features=[],\n",
       "                                       display_types=False, features_todrop=[],\n",
       "                                       id_columns=[],\n",
       "                                       ml_usecase='classification',\n",
       "                                       numerical_features=[],\n",
       "                                       target='Current_Market',\n",
       "                                       time_features=[])),\n",
       "                 ('imputer',\n",
       "                  Simple_Imputer(categorical_strategy='not_available',\n",
       "                                 fill_value_categorical=None,\n",
       "                                 fill_value_numerical=None,\n",
       "                                 nume...\n",
       "                                 colsample_bytree=1.0, feature_fraction=0.5,\n",
       "                                 importance_type='split', learning_rate=0.4,\n",
       "                                 max_depth=-1, min_child_samples=6,\n",
       "                                 min_child_weight=0.001, min_split_gain=0.3,\n",
       "                                 n_estimators=20, n_jobs=-1, num_leaves=150,\n",
       "                                 objective=None, random_state=123,\n",
       "                                 reg_alpha=0.005, reg_lambda=0.0005,\n",
       "                                 silent='warn', subsample=1.0,\n",
       "                                 subsample_for_bin=200000, subsample_freq=0)]],\n",
       "          verbose=False),\n",
       " '03-02-2022_08-05_PM_lightgbm_GBPUSD.pkl')"
      ]
     },
     "execution_count": 73,
     "metadata": {},
     "output_type": "execute_result"
    }
   ],
   "source": [
    "save_model(FINAL_MODEL, pkl_name)"
   ]
  },
  {
   "cell_type": "code",
   "execution_count": 74,
   "metadata": {},
   "outputs": [
    {
     "name": "stdout",
     "output_type": "stream",
     "text": [
      "Transformation Pipeline and Model Successfully Loaded\n"
     ]
    }
   ],
   "source": [
    "SAVED_FINAL_MODEL = load_model(pkl_name)"
   ]
  },
  {
   "cell_type": "code",
   "execution_count": 75,
   "metadata": {},
   "outputs": [],
   "source": [
    "new_prediction = predict_model(SAVED_FINAL_MODEL, data=data_unseen)"
   ]
  },
  {
   "cell_type": "code",
   "execution_count": 76,
   "metadata": {},
   "outputs": [
    {
     "data": {
      "text/plain": [
       "(2187, 5)"
      ]
     },
     "execution_count": 76,
     "metadata": {},
     "output_type": "execute_result"
    }
   ],
   "source": [
    "data_unseen.shape"
   ]
  },
  {
   "cell_type": "code",
   "execution_count": 77,
   "metadata": {},
   "outputs": [
    {
     "data": {
      "text/html": [
       "<div>\n",
       "<style scoped>\n",
       "    .dataframe tbody tr th:only-of-type {\n",
       "        vertical-align: middle;\n",
       "    }\n",
       "\n",
       "    .dataframe tbody tr th {\n",
       "        vertical-align: top;\n",
       "    }\n",
       "\n",
       "    .dataframe thead th {\n",
       "        text-align: right;\n",
       "    }\n",
       "</style>\n",
       "<table border=\"1\" class=\"dataframe\">\n",
       "  <thead>\n",
       "    <tr style=\"text-align: right;\">\n",
       "      <th></th>\n",
       "      <th>Current_Market</th>\n",
       "      <th>Rec1_Score</th>\n",
       "      <th>Rec2_Score</th>\n",
       "      <th>Rec3_Score</th>\n",
       "      <th>Rec4_Score</th>\n",
       "      <th>Label</th>\n",
       "      <th>Score</th>\n",
       "    </tr>\n",
       "  </thead>\n",
       "  <tbody>\n",
       "    <tr>\n",
       "      <th>0</th>\n",
       "      <td>1</td>\n",
       "      <td>-75.84</td>\n",
       "      <td>-88.64</td>\n",
       "      <td>25.69</td>\n",
       "      <td>90.84</td>\n",
       "      <td>1</td>\n",
       "      <td>0.8958</td>\n",
       "    </tr>\n",
       "    <tr>\n",
       "      <th>1</th>\n",
       "      <td>1</td>\n",
       "      <td>-60.72</td>\n",
       "      <td>-51.10</td>\n",
       "      <td>76.91</td>\n",
       "      <td>65.25</td>\n",
       "      <td>1</td>\n",
       "      <td>0.6759</td>\n",
       "    </tr>\n",
       "    <tr>\n",
       "      <th>2</th>\n",
       "      <td>1</td>\n",
       "      <td>-58.15</td>\n",
       "      <td>-93.60</td>\n",
       "      <td>-20.17</td>\n",
       "      <td>51.07</td>\n",
       "      <td>0</td>\n",
       "      <td>0.6719</td>\n",
       "    </tr>\n",
       "    <tr>\n",
       "      <th>3</th>\n",
       "      <td>1</td>\n",
       "      <td>-77.52</td>\n",
       "      <td>75.17</td>\n",
       "      <td>47.83</td>\n",
       "      <td>-79.61</td>\n",
       "      <td>0</td>\n",
       "      <td>0.5146</td>\n",
       "    </tr>\n",
       "    <tr>\n",
       "      <th>4</th>\n",
       "      <td>1</td>\n",
       "      <td>-79.26</td>\n",
       "      <td>-52.43</td>\n",
       "      <td>-74.46</td>\n",
       "      <td>59.59</td>\n",
       "      <td>1</td>\n",
       "      <td>0.8430</td>\n",
       "    </tr>\n",
       "    <tr>\n",
       "      <th>5</th>\n",
       "      <td>0</td>\n",
       "      <td>84.44</td>\n",
       "      <td>-53.91</td>\n",
       "      <td>18.96</td>\n",
       "      <td>-51.43</td>\n",
       "      <td>0</td>\n",
       "      <td>0.6459</td>\n",
       "    </tr>\n",
       "    <tr>\n",
       "      <th>6</th>\n",
       "      <td>0</td>\n",
       "      <td>-35.38</td>\n",
       "      <td>87.23</td>\n",
       "      <td>72.84</td>\n",
       "      <td>24.53</td>\n",
       "      <td>1</td>\n",
       "      <td>0.7036</td>\n",
       "    </tr>\n",
       "    <tr>\n",
       "      <th>7</th>\n",
       "      <td>0</td>\n",
       "      <td>77.00</td>\n",
       "      <td>74.01</td>\n",
       "      <td>-45.07</td>\n",
       "      <td>-46.22</td>\n",
       "      <td>0</td>\n",
       "      <td>0.6227</td>\n",
       "    </tr>\n",
       "    <tr>\n",
       "      <th>8</th>\n",
       "      <td>1</td>\n",
       "      <td>11.70</td>\n",
       "      <td>-69.06</td>\n",
       "      <td>66.79</td>\n",
       "      <td>-24.77</td>\n",
       "      <td>1</td>\n",
       "      <td>0.6573</td>\n",
       "    </tr>\n",
       "    <tr>\n",
       "      <th>9</th>\n",
       "      <td>0</td>\n",
       "      <td>-1.59</td>\n",
       "      <td>-77.94</td>\n",
       "      <td>3.21</td>\n",
       "      <td>66.32</td>\n",
       "      <td>1</td>\n",
       "      <td>0.9657</td>\n",
       "    </tr>\n",
       "    <tr>\n",
       "      <th>10</th>\n",
       "      <td>0</td>\n",
       "      <td>35.09</td>\n",
       "      <td>-46.79</td>\n",
       "      <td>76.59</td>\n",
       "      <td>11.48</td>\n",
       "      <td>0</td>\n",
       "      <td>0.7687</td>\n",
       "    </tr>\n",
       "    <tr>\n",
       "      <th>11</th>\n",
       "      <td>0</td>\n",
       "      <td>86.72</td>\n",
       "      <td>-85.32</td>\n",
       "      <td>-47.69</td>\n",
       "      <td>-43.29</td>\n",
       "      <td>1</td>\n",
       "      <td>0.5046</td>\n",
       "    </tr>\n",
       "    <tr>\n",
       "      <th>12</th>\n",
       "      <td>0</td>\n",
       "      <td>0.15</td>\n",
       "      <td>91.92</td>\n",
       "      <td>82.71</td>\n",
       "      <td>52.57</td>\n",
       "      <td>0</td>\n",
       "      <td>0.8187</td>\n",
       "    </tr>\n",
       "    <tr>\n",
       "      <th>13</th>\n",
       "      <td>0</td>\n",
       "      <td>47.58</td>\n",
       "      <td>43.04</td>\n",
       "      <td>-78.27</td>\n",
       "      <td>80.17</td>\n",
       "      <td>0</td>\n",
       "      <td>0.7423</td>\n",
       "    </tr>\n",
       "    <tr>\n",
       "      <th>14</th>\n",
       "      <td>0</td>\n",
       "      <td>95.82</td>\n",
       "      <td>57.46</td>\n",
       "      <td>-82.18</td>\n",
       "      <td>-25.52</td>\n",
       "      <td>0</td>\n",
       "      <td>0.6079</td>\n",
       "    </tr>\n",
       "    <tr>\n",
       "      <th>15</th>\n",
       "      <td>1</td>\n",
       "      <td>73.48</td>\n",
       "      <td>-25.49</td>\n",
       "      <td>60.84</td>\n",
       "      <td>94.33</td>\n",
       "      <td>1</td>\n",
       "      <td>0.9396</td>\n",
       "    </tr>\n",
       "    <tr>\n",
       "      <th>16</th>\n",
       "      <td>1</td>\n",
       "      <td>-40.60</td>\n",
       "      <td>0.47</td>\n",
       "      <td>36.33</td>\n",
       "      <td>-81.13</td>\n",
       "      <td>1</td>\n",
       "      <td>0.7151</td>\n",
       "    </tr>\n",
       "    <tr>\n",
       "      <th>17</th>\n",
       "      <td>1</td>\n",
       "      <td>-45.34</td>\n",
       "      <td>65.37</td>\n",
       "      <td>43.42</td>\n",
       "      <td>40.34</td>\n",
       "      <td>1</td>\n",
       "      <td>0.5113</td>\n",
       "    </tr>\n",
       "    <tr>\n",
       "      <th>18</th>\n",
       "      <td>0</td>\n",
       "      <td>36.35</td>\n",
       "      <td>16.26</td>\n",
       "      <td>33.09</td>\n",
       "      <td>19.14</td>\n",
       "      <td>0</td>\n",
       "      <td>0.9369</td>\n",
       "    </tr>\n",
       "    <tr>\n",
       "      <th>19</th>\n",
       "      <td>1</td>\n",
       "      <td>-28.78</td>\n",
       "      <td>-22.52</td>\n",
       "      <td>89.90</td>\n",
       "      <td>-58.21</td>\n",
       "      <td>1</td>\n",
       "      <td>0.7298</td>\n",
       "    </tr>\n",
       "  </tbody>\n",
       "</table>\n",
       "</div>"
      ],
      "text/plain": [
       "    Current_Market  Rec1_Score  Rec2_Score  Rec3_Score  Rec4_Score  Label  \\\n",
       "0                1      -75.84      -88.64       25.69       90.84      1   \n",
       "1                1      -60.72      -51.10       76.91       65.25      1   \n",
       "2                1      -58.15      -93.60      -20.17       51.07      0   \n",
       "3                1      -77.52       75.17       47.83      -79.61      0   \n",
       "4                1      -79.26      -52.43      -74.46       59.59      1   \n",
       "5                0       84.44      -53.91       18.96      -51.43      0   \n",
       "6                0      -35.38       87.23       72.84       24.53      1   \n",
       "7                0       77.00       74.01      -45.07      -46.22      0   \n",
       "8                1       11.70      -69.06       66.79      -24.77      1   \n",
       "9                0       -1.59      -77.94        3.21       66.32      1   \n",
       "10               0       35.09      -46.79       76.59       11.48      0   \n",
       "11               0       86.72      -85.32      -47.69      -43.29      1   \n",
       "12               0        0.15       91.92       82.71       52.57      0   \n",
       "13               0       47.58       43.04      -78.27       80.17      0   \n",
       "14               0       95.82       57.46      -82.18      -25.52      0   \n",
       "15               1       73.48      -25.49       60.84       94.33      1   \n",
       "16               1      -40.60        0.47       36.33      -81.13      1   \n",
       "17               1      -45.34       65.37       43.42       40.34      1   \n",
       "18               0       36.35       16.26       33.09       19.14      0   \n",
       "19               1      -28.78      -22.52       89.90      -58.21      1   \n",
       "\n",
       "     Score  \n",
       "0   0.8958  \n",
       "1   0.6759  \n",
       "2   0.6719  \n",
       "3   0.5146  \n",
       "4   0.8430  \n",
       "5   0.6459  \n",
       "6   0.7036  \n",
       "7   0.6227  \n",
       "8   0.6573  \n",
       "9   0.9657  \n",
       "10  0.7687  \n",
       "11  0.5046  \n",
       "12  0.8187  \n",
       "13  0.7423  \n",
       "14  0.6079  \n",
       "15  0.9396  \n",
       "16  0.7151  \n",
       "17  0.5113  \n",
       "18  0.9369  \n",
       "19  0.7298  "
      ]
     },
     "execution_count": 77,
     "metadata": {},
     "output_type": "execute_result"
    }
   ],
   "source": [
    "new_prediction.head(20)"
   ]
  },
  {
   "cell_type": "code",
   "execution_count": 78,
   "metadata": {},
   "outputs": [],
   "source": [
    "file = open(today + \"_\" + model + \"_binary_classification_log_\" + pair + \".txt\", \"w\")\n",
    "file.write (\"Date: \" + today + \"\\n\" + \\\n",
    "            \"Currency Pair: \" + pair + \"\\n\" + \\\n",
    "            \"Model: \" + model + \"\\n\" + \\\n",
    "            \"Frac: \" + str(frac) + \"\\n\" + \\\n",
    "            \"Random State: \" + str(random_state) + \"\\n\" )\n",
    "file.close()"
   ]
  },
  {
   "cell_type": "markdown",
   "metadata": {},
   "source": [
    "### Final Test"
   ]
  },
  {
   "cell_type": "code",
   "execution_count": 79,
   "metadata": {},
   "outputs": [],
   "source": [
    "filename = '{}_H4.csv'.format(instrument)\n",
    "data = pd.read_csv(filename)"
   ]
  },
  {
   "cell_type": "code",
   "execution_count": 80,
   "metadata": {},
   "outputs": [],
   "source": [
    "random_samples = data[data[volume] > volume_size].sample(n = sample_count)\n",
    "Test_Candle = list(random_samples.index.values)"
   ]
  },
  {
   "cell_type": "code",
   "execution_count": 81,
   "metadata": {},
   "outputs": [
    {
     "name": "stdout",
     "output_type": "stream",
     "text": [
      "Transformation Pipeline and Model Successfully Loaded\n",
      "[LightGBM] [Warning] bagging_fraction is set=0.5, subsample=1.0 will be ignored. Current value: bagging_fraction=0.5\n",
      "[LightGBM] [Warning] feature_fraction is set=0.9, colsample_bytree=1.0 will be ignored. Current value: feature_fraction=0.9\n",
      "[LightGBM] [Warning] bagging_freq is set=0, subsample_freq=0 will be ignored. Current value: bagging_freq=0\n",
      "[LightGBM] [Warning] bagging_fraction is set=0.7, subsample=1.0 will be ignored. Current value: bagging_fraction=0.7\n",
      "[LightGBM] [Warning] feature_fraction is set=0.5, colsample_bytree=1.0 will be ignored. Current value: feature_fraction=0.5\n",
      "[LightGBM] [Warning] bagging_freq is set=6, subsample_freq=0 will be ignored. Current value: bagging_freq=6\n",
      "[LightGBM] [Warning] bagging_fraction is set=0.9, subsample=1.0 will be ignored. Current value: bagging_fraction=0.9\n",
      "[LightGBM] [Warning] feature_fraction is set=1.0, colsample_bytree=1.0 will be ignored. Current value: feature_fraction=1.0\n",
      "[LightGBM] [Warning] bagging_freq is set=3, subsample_freq=0 will be ignored. Current value: bagging_freq=3\n",
      "[LightGBM] [Warning] bagging_fraction is set=0.6, subsample=1.0 will be ignored. Current value: bagging_fraction=0.6\n",
      "[LightGBM] [Warning] feature_fraction is set=1.0, colsample_bytree=1.0 will be ignored. Current value: feature_fraction=1.0\n",
      "[LightGBM] [Warning] bagging_freq is set=1, subsample_freq=0 will be ignored. Current value: bagging_freq=1\n",
      "[LightGBM] [Warning] bagging_fraction is set=0.7, subsample=1.0 will be ignored. Current value: bagging_fraction=0.7\n",
      "[LightGBM] [Warning] feature_fraction is set=0.5, colsample_bytree=1.0 will be ignored. Current value: feature_fraction=0.5\n",
      "[LightGBM] [Warning] bagging_freq is set=6, subsample_freq=0 will be ignored. Current value: bagging_freq=6\n",
      "[LightGBM] [Warning] bagging_fraction is set=0.6, subsample=1.0 will be ignored. Current value: bagging_fraction=0.6\n",
      "[LightGBM] [Warning] feature_fraction is set=0.9, colsample_bytree=1.0 will be ignored. Current value: feature_fraction=0.9\n",
      "[LightGBM] [Warning] bagging_freq is set=4, subsample_freq=0 will be ignored. Current value: bagging_freq=4\n",
      "[LightGBM] [Warning] bagging_fraction is set=0.7, subsample=1.0 will be ignored. Current value: bagging_fraction=0.7\n",
      "[LightGBM] [Warning] feature_fraction is set=0.5, colsample_bytree=1.0 will be ignored. Current value: feature_fraction=0.5\n",
      "[LightGBM] [Warning] bagging_freq is set=6, subsample_freq=0 will be ignored. Current value: bagging_freq=6\n"
     ]
    },
    {
     "name": "stderr",
     "output_type": "stream",
     "text": [
      "/home/mladmin/Data/Forexience/venv/lib/python3.8/site-packages/sklearn/utils/deprecation.py:101: FutureWarning: Attribute standard_coef_ was deprecated in version 0.23 and will be removed in 0.25.\n",
      "  warnings.warn(msg, category=FutureWarning)\n",
      "/home/mladmin/Data/Forexience/venv/lib/python3.8/site-packages/sklearn/utils/deprecation.py:101: FutureWarning: Attribute standard_intercept_ was deprecated in version 0.23 and will be removed in 0.25.\n",
      "  warnings.warn(msg, category=FutureWarning)\n",
      "/home/mladmin/Data/Forexience/venv/lib/python3.8/site-packages/sklearn/utils/deprecation.py:101: FutureWarning: Attribute average_coef_ was deprecated in version 0.23 and will be removed in 0.25.\n",
      "  warnings.warn(msg, category=FutureWarning)\n",
      "/home/mladmin/Data/Forexience/venv/lib/python3.8/site-packages/sklearn/utils/deprecation.py:101: FutureWarning: Attribute average_intercept_ was deprecated in version 0.23 and will be removed in 0.25.\n",
      "  warnings.warn(msg, category=FutureWarning)\n"
     ]
    },
    {
     "name": "stdout",
     "output_type": "stream",
     "text": [
      "[LightGBM] [Warning] bagging_fraction is set=0.9, subsample=1.0 will be ignored. Current value: bagging_fraction=0.9\n",
      "[LightGBM] [Warning] feature_fraction is set=0.5, colsample_bytree=1.0 will be ignored. Current value: feature_fraction=0.5\n",
      "[LightGBM] [Warning] bagging_freq is set=3, subsample_freq=0 will be ignored. Current value: bagging_freq=3\n",
      "[LightGBM] [Warning] bagging_fraction is set=0.7, subsample=1.0 will be ignored. Current value: bagging_fraction=0.7\n",
      "[LightGBM] [Warning] feature_fraction is set=0.5, colsample_bytree=1.0 will be ignored. Current value: feature_fraction=0.5\n",
      "[LightGBM] [Warning] bagging_freq is set=6, subsample_freq=0 will be ignored. Current value: bagging_freq=6\n",
      "[LightGBM] [Warning] bagging_fraction is set=0.9, subsample=1.0 will be ignored. Current value: bagging_fraction=0.9\n",
      "[LightGBM] [Warning] feature_fraction is set=1.0, colsample_bytree=1.0 will be ignored. Current value: feature_fraction=1.0\n",
      "[LightGBM] [Warning] bagging_freq is set=3, subsample_freq=0 will be ignored. Current value: bagging_freq=3\n"
     ]
    },
    {
     "name": "stderr",
     "output_type": "stream",
     "text": [
      "/home/mladmin/Data/Forexience/venv/lib/python3.8/site-packages/sklearn/utils/deprecation.py:101: FutureWarning: Attribute standard_coef_ was deprecated in version 0.23 and will be removed in 0.25.\n",
      "  warnings.warn(msg, category=FutureWarning)\n",
      "/home/mladmin/Data/Forexience/venv/lib/python3.8/site-packages/sklearn/utils/deprecation.py:101: FutureWarning: Attribute standard_intercept_ was deprecated in version 0.23 and will be removed in 0.25.\n",
      "  warnings.warn(msg, category=FutureWarning)\n",
      "/home/mladmin/Data/Forexience/venv/lib/python3.8/site-packages/sklearn/utils/deprecation.py:101: FutureWarning: Attribute average_coef_ was deprecated in version 0.23 and will be removed in 0.25.\n",
      "  warnings.warn(msg, category=FutureWarning)\n",
      "/home/mladmin/Data/Forexience/venv/lib/python3.8/site-packages/sklearn/utils/deprecation.py:101: FutureWarning: Attribute average_intercept_ was deprecated in version 0.23 and will be removed in 0.25.\n",
      "  warnings.warn(msg, category=FutureWarning)\n"
     ]
    },
    {
     "name": "stdout",
     "output_type": "stream",
     "text": [
      "[LightGBM] [Warning] bagging_fraction is set=0.7, subsample=1.0 will be ignored. Current value: bagging_fraction=0.7\n",
      "[LightGBM] [Warning] feature_fraction is set=0.8, colsample_bytree=1.0 will be ignored. Current value: feature_fraction=0.8\n",
      "[LightGBM] [Warning] bagging_freq is set=2, subsample_freq=0 will be ignored. Current value: bagging_freq=2\n",
      "[LightGBM] [Warning] bagging_fraction is set=0.7, subsample=1.0 will be ignored. Current value: bagging_fraction=0.7\n",
      "[LightGBM] [Warning] feature_fraction is set=0.5, colsample_bytree=1.0 will be ignored. Current value: feature_fraction=0.5\n",
      "[LightGBM] [Warning] bagging_freq is set=6, subsample_freq=0 will be ignored. Current value: bagging_freq=6\n"
     ]
    },
    {
     "name": "stderr",
     "output_type": "stream",
     "text": [
      "/home/mladmin/Data/Forexience/venv/lib/python3.8/site-packages/sklearn/utils/deprecation.py:101: FutureWarning: Attribute standard_coef_ was deprecated in version 0.23 and will be removed in 0.25.\n",
      "  warnings.warn(msg, category=FutureWarning)\n",
      "/home/mladmin/Data/Forexience/venv/lib/python3.8/site-packages/sklearn/utils/deprecation.py:101: FutureWarning: Attribute standard_intercept_ was deprecated in version 0.23 and will be removed in 0.25.\n",
      "  warnings.warn(msg, category=FutureWarning)\n",
      "/home/mladmin/Data/Forexience/venv/lib/python3.8/site-packages/sklearn/utils/deprecation.py:101: FutureWarning: Attribute average_coef_ was deprecated in version 0.23 and will be removed in 0.25.\n",
      "  warnings.warn(msg, category=FutureWarning)\n",
      "/home/mladmin/Data/Forexience/venv/lib/python3.8/site-packages/sklearn/utils/deprecation.py:101: FutureWarning: Attribute average_intercept_ was deprecated in version 0.23 and will be removed in 0.25.\n",
      "  warnings.warn(msg, category=FutureWarning)\n",
      "/home/mladmin/Data/Forexience/venv/lib/python3.8/site-packages/sklearn/utils/deprecation.py:101: FutureWarning: Attribute standard_coef_ was deprecated in version 0.23 and will be removed in 0.25.\n",
      "  warnings.warn(msg, category=FutureWarning)\n",
      "/home/mladmin/Data/Forexience/venv/lib/python3.8/site-packages/sklearn/utils/deprecation.py:101: FutureWarning: Attribute standard_intercept_ was deprecated in version 0.23 and will be removed in 0.25.\n",
      "  warnings.warn(msg, category=FutureWarning)\n",
      "/home/mladmin/Data/Forexience/venv/lib/python3.8/site-packages/sklearn/utils/deprecation.py:101: FutureWarning: Attribute average_coef_ was deprecated in version 0.23 and will be removed in 0.25.\n",
      "  warnings.warn(msg, category=FutureWarning)\n",
      "/home/mladmin/Data/Forexience/venv/lib/python3.8/site-packages/sklearn/utils/deprecation.py:101: FutureWarning: Attribute average_intercept_ was deprecated in version 0.23 and will be removed in 0.25.\n",
      "  warnings.warn(msg, category=FutureWarning)\n"
     ]
    },
    {
     "name": "stdout",
     "output_type": "stream",
     "text": [
      "[LightGBM] [Warning] bagging_fraction is set=0.6, subsample=1.0 will be ignored. Current value: bagging_fraction=0.6\n",
      "[LightGBM] [Warning] feature_fraction is set=0.9, colsample_bytree=1.0 will be ignored. Current value: feature_fraction=0.9\n",
      "[LightGBM] [Warning] bagging_freq is set=4, subsample_freq=0 will be ignored. Current value: bagging_freq=4\n",
      "[LightGBM] [Warning] bagging_fraction is set=0.9, subsample=1.0 will be ignored. Current value: bagging_fraction=0.9\n",
      "[LightGBM] [Warning] feature_fraction is set=1.0, colsample_bytree=1.0 will be ignored. Current value: feature_fraction=1.0\n",
      "[LightGBM] [Warning] bagging_freq is set=3, subsample_freq=0 will be ignored. Current value: bagging_freq=3\n",
      "[LightGBM] [Warning] bagging_fraction is set=0.6, subsample=1.0 will be ignored. Current value: bagging_fraction=0.6\n",
      "[LightGBM] [Warning] feature_fraction is set=0.4, colsample_bytree=1.0 will be ignored. Current value: feature_fraction=0.4\n",
      "[LightGBM] [Warning] bagging_freq is set=2, subsample_freq=0 will be ignored. Current value: bagging_freq=2\n",
      "[LightGBM] [Warning] bagging_fraction is set=0.7, subsample=1.0 will be ignored. Current value: bagging_fraction=0.7\n",
      "[LightGBM] [Warning] feature_fraction is set=0.5, colsample_bytree=1.0 will be ignored. Current value: feature_fraction=0.5\n",
      "[LightGBM] [Warning] bagging_freq is set=6, subsample_freq=0 will be ignored. Current value: bagging_freq=6\n"
     ]
    },
    {
     "name": "stderr",
     "output_type": "stream",
     "text": [
      "/home/mladmin/Data/Forexience/venv/lib/python3.8/site-packages/sklearn/utils/deprecation.py:101: FutureWarning: Attribute standard_coef_ was deprecated in version 0.23 and will be removed in 0.25.\n",
      "  warnings.warn(msg, category=FutureWarning)\n",
      "/home/mladmin/Data/Forexience/venv/lib/python3.8/site-packages/sklearn/utils/deprecation.py:101: FutureWarning: Attribute standard_intercept_ was deprecated in version 0.23 and will be removed in 0.25.\n",
      "  warnings.warn(msg, category=FutureWarning)\n",
      "/home/mladmin/Data/Forexience/venv/lib/python3.8/site-packages/sklearn/utils/deprecation.py:101: FutureWarning: Attribute average_coef_ was deprecated in version 0.23 and will be removed in 0.25.\n",
      "  warnings.warn(msg, category=FutureWarning)\n",
      "/home/mladmin/Data/Forexience/venv/lib/python3.8/site-packages/sklearn/utils/deprecation.py:101: FutureWarning: Attribute average_intercept_ was deprecated in version 0.23 and will be removed in 0.25.\n",
      "  warnings.warn(msg, category=FutureWarning)\n"
     ]
    },
    {
     "name": "stdout",
     "output_type": "stream",
     "text": [
      "[LightGBM] [Warning] bagging_fraction is set=0.6, subsample=1.0 will be ignored. Current value: bagging_fraction=0.6\n",
      "[LightGBM] [Warning] feature_fraction is set=0.4, colsample_bytree=1.0 will be ignored. Current value: feature_fraction=0.4\n",
      "[LightGBM] [Warning] bagging_freq is set=2, subsample_freq=0 will be ignored. Current value: bagging_freq=2\n",
      "[LightGBM] [Warning] bagging_fraction is set=0.6, subsample=1.0 will be ignored. Current value: bagging_fraction=0.6\n",
      "[LightGBM] [Warning] feature_fraction is set=1.0, colsample_bytree=1.0 will be ignored. Current value: feature_fraction=1.0\n",
      "[LightGBM] [Warning] bagging_freq is set=1, subsample_freq=0 will be ignored. Current value: bagging_freq=1\n",
      "[LightGBM] [Warning] bagging_fraction is set=0.5, subsample=1.0 will be ignored. Current value: bagging_fraction=0.5\n",
      "[LightGBM] [Warning] feature_fraction is set=0.9, colsample_bytree=1.0 will be ignored. Current value: feature_fraction=0.9\n",
      "[LightGBM] [Warning] bagging_freq is set=0, subsample_freq=0 will be ignored. Current value: bagging_freq=0\n",
      "[LightGBM] [Warning] bagging_fraction is set=0.6, subsample=1.0 will be ignored. Current value: bagging_fraction=0.6\n",
      "[LightGBM] [Warning] feature_fraction is set=1.0, colsample_bytree=1.0 will be ignored. Current value: feature_fraction=1.0\n",
      "[LightGBM] [Warning] bagging_freq is set=1, subsample_freq=0 will be ignored. Current value: bagging_freq=1\n",
      "[LightGBM] [Warning] bagging_fraction is set=0.7, subsample=1.0 will be ignored. Current value: bagging_fraction=0.7\n",
      "[LightGBM] [Warning] feature_fraction is set=0.5, colsample_bytree=1.0 will be ignored. Current value: feature_fraction=0.5\n",
      "[LightGBM] [Warning] bagging_freq is set=6, subsample_freq=0 will be ignored. Current value: bagging_freq=6\n",
      "[LightGBM] [Warning] bagging_fraction is set=0.6, subsample=1.0 will be ignored. Current value: bagging_fraction=0.6\n",
      "[LightGBM] [Warning] feature_fraction is set=0.9, colsample_bytree=1.0 will be ignored. Current value: feature_fraction=0.9\n",
      "[LightGBM] [Warning] bagging_freq is set=4, subsample_freq=0 will be ignored. Current value: bagging_freq=4\n",
      "[LightGBM] [Warning] bagging_fraction is set=0.6, subsample=1.0 will be ignored. Current value: bagging_fraction=0.6\n",
      "[LightGBM] [Warning] feature_fraction is set=0.9, colsample_bytree=1.0 will be ignored. Current value: feature_fraction=0.9\n",
      "[LightGBM] [Warning] bagging_freq is set=4, subsample_freq=0 will be ignored. Current value: bagging_freq=4\n",
      "[LightGBM] [Warning] bagging_fraction is set=0.7, subsample=1.0 will be ignored. Current value: bagging_fraction=0.7\n",
      "[LightGBM] [Warning] feature_fraction is set=0.5, colsample_bytree=1.0 will be ignored. Current value: feature_fraction=0.5\n",
      "[LightGBM] [Warning] bagging_freq is set=6, subsample_freq=0 will be ignored. Current value: bagging_freq=6\n",
      "[LightGBM] [Warning] bagging_fraction is set=0.6, subsample=1.0 will be ignored. Current value: bagging_fraction=0.6\n",
      "[LightGBM] [Warning] feature_fraction is set=0.4, colsample_bytree=1.0 will be ignored. Current value: feature_fraction=0.4\n",
      "[LightGBM] [Warning] bagging_freq is set=2, subsample_freq=0 will be ignored. Current value: bagging_freq=2\n",
      "[LightGBM] [Warning] bagging_fraction is set=0.6, subsample=1.0 will be ignored. Current value: bagging_fraction=0.6\n",
      "[LightGBM] [Warning] feature_fraction is set=0.4, colsample_bytree=1.0 will be ignored. Current value: feature_fraction=0.4\n",
      "[LightGBM] [Warning] bagging_freq is set=2, subsample_freq=0 will be ignored. Current value: bagging_freq=2\n",
      "[LightGBM] [Warning] bagging_fraction is set=0.5, subsample=1.0 will be ignored. Current value: bagging_fraction=0.5\n",
      "[LightGBM] [Warning] feature_fraction is set=0.9, colsample_bytree=1.0 will be ignored. Current value: feature_fraction=0.9\n",
      "[LightGBM] [Warning] bagging_freq is set=0, subsample_freq=0 will be ignored. Current value: bagging_freq=0\n",
      "[LightGBM] [Warning] bagging_fraction is set=0.8, subsample=1.0 will be ignored. Current value: bagging_fraction=0.8\n",
      "[LightGBM] [Warning] feature_fraction is set=1.0, colsample_bytree=1.0 will be ignored. Current value: feature_fraction=1.0\n",
      "[LightGBM] [Warning] bagging_freq is set=3, subsample_freq=0 will be ignored. Current value: bagging_freq=3\n"
     ]
    },
    {
     "name": "stderr",
     "output_type": "stream",
     "text": [
      "/home/mladmin/Data/Forexience/venv/lib/python3.8/site-packages/sklearn/utils/deprecation.py:101: FutureWarning: Attribute standard_coef_ was deprecated in version 0.23 and will be removed in 0.25.\n",
      "  warnings.warn(msg, category=FutureWarning)\n",
      "/home/mladmin/Data/Forexience/venv/lib/python3.8/site-packages/sklearn/utils/deprecation.py:101: FutureWarning: Attribute standard_intercept_ was deprecated in version 0.23 and will be removed in 0.25.\n",
      "  warnings.warn(msg, category=FutureWarning)\n",
      "/home/mladmin/Data/Forexience/venv/lib/python3.8/site-packages/sklearn/utils/deprecation.py:101: FutureWarning: Attribute average_coef_ was deprecated in version 0.23 and will be removed in 0.25.\n",
      "  warnings.warn(msg, category=FutureWarning)\n",
      "/home/mladmin/Data/Forexience/venv/lib/python3.8/site-packages/sklearn/utils/deprecation.py:101: FutureWarning: Attribute average_intercept_ was deprecated in version 0.23 and will be removed in 0.25.\n",
      "  warnings.warn(msg, category=FutureWarning)\n"
     ]
    },
    {
     "name": "stdout",
     "output_type": "stream",
     "text": [
      "[LightGBM] [Warning] bagging_fraction is set=0.9, subsample=1.0 will be ignored. Current value: bagging_fraction=0.9\n",
      "[LightGBM] [Warning] feature_fraction is set=0.5, colsample_bytree=1.0 will be ignored. Current value: feature_fraction=0.5\n",
      "[LightGBM] [Warning] bagging_freq is set=3, subsample_freq=0 will be ignored. Current value: bagging_freq=3\n",
      "[LightGBM] [Warning] bagging_fraction is set=0.6, subsample=1.0 will be ignored. Current value: bagging_fraction=0.6\n",
      "[LightGBM] [Warning] feature_fraction is set=0.9, colsample_bytree=1.0 will be ignored. Current value: feature_fraction=0.9\n",
      "[LightGBM] [Warning] bagging_freq is set=4, subsample_freq=0 will be ignored. Current value: bagging_freq=4\n",
      "[LightGBM] [Warning] bagging_fraction is set=0.8, subsample=1.0 will be ignored. Current value: bagging_fraction=0.8\n",
      "[LightGBM] [Warning] feature_fraction is set=1.0, colsample_bytree=1.0 will be ignored. Current value: feature_fraction=1.0\n",
      "[LightGBM] [Warning] bagging_freq is set=3, subsample_freq=0 will be ignored. Current value: bagging_freq=3\n",
      "[LightGBM] [Warning] bagging_fraction is set=0.6, subsample=1.0 will be ignored. Current value: bagging_fraction=0.6\n",
      "[LightGBM] [Warning] feature_fraction is set=0.4, colsample_bytree=1.0 will be ignored. Current value: feature_fraction=0.4\n",
      "[LightGBM] [Warning] bagging_freq is set=2, subsample_freq=0 will be ignored. Current value: bagging_freq=2\n"
     ]
    },
    {
     "name": "stderr",
     "output_type": "stream",
     "text": [
      "/home/mladmin/Data/Forexience/venv/lib/python3.8/site-packages/sklearn/utils/deprecation.py:101: FutureWarning: Attribute standard_coef_ was deprecated in version 0.23 and will be removed in 0.25.\n",
      "  warnings.warn(msg, category=FutureWarning)\n",
      "/home/mladmin/Data/Forexience/venv/lib/python3.8/site-packages/sklearn/utils/deprecation.py:101: FutureWarning: Attribute standard_intercept_ was deprecated in version 0.23 and will be removed in 0.25.\n",
      "  warnings.warn(msg, category=FutureWarning)\n",
      "/home/mladmin/Data/Forexience/venv/lib/python3.8/site-packages/sklearn/utils/deprecation.py:101: FutureWarning: Attribute average_coef_ was deprecated in version 0.23 and will be removed in 0.25.\n",
      "  warnings.warn(msg, category=FutureWarning)\n",
      "/home/mladmin/Data/Forexience/venv/lib/python3.8/site-packages/sklearn/utils/deprecation.py:101: FutureWarning: Attribute average_intercept_ was deprecated in version 0.23 and will be removed in 0.25.\n",
      "  warnings.warn(msg, category=FutureWarning)\n",
      "/home/mladmin/Data/Forexience/venv/lib/python3.8/site-packages/sklearn/utils/deprecation.py:101: FutureWarning: Attribute standard_coef_ was deprecated in version 0.23 and will be removed in 0.25.\n",
      "  warnings.warn(msg, category=FutureWarning)\n",
      "/home/mladmin/Data/Forexience/venv/lib/python3.8/site-packages/sklearn/utils/deprecation.py:101: FutureWarning: Attribute standard_intercept_ was deprecated in version 0.23 and will be removed in 0.25.\n",
      "  warnings.warn(msg, category=FutureWarning)\n",
      "/home/mladmin/Data/Forexience/venv/lib/python3.8/site-packages/sklearn/utils/deprecation.py:101: FutureWarning: Attribute average_coef_ was deprecated in version 0.23 and will be removed in 0.25.\n",
      "  warnings.warn(msg, category=FutureWarning)\n",
      "/home/mladmin/Data/Forexience/venv/lib/python3.8/site-packages/sklearn/utils/deprecation.py:101: FutureWarning: Attribute average_intercept_ was deprecated in version 0.23 and will be removed in 0.25.\n",
      "  warnings.warn(msg, category=FutureWarning)\n"
     ]
    },
    {
     "name": "stdout",
     "output_type": "stream",
     "text": [
      "[LightGBM] [Warning] bagging_fraction is set=0.6, subsample=1.0 will be ignored. Current value: bagging_fraction=0.6\n",
      "[LightGBM] [Warning] feature_fraction is set=0.9, colsample_bytree=1.0 will be ignored. Current value: feature_fraction=0.9\n",
      "[LightGBM] [Warning] bagging_freq is set=4, subsample_freq=0 will be ignored. Current value: bagging_freq=4\n",
      "[LightGBM] [Warning] bagging_fraction is set=0.9, subsample=1.0 will be ignored. Current value: bagging_fraction=0.9\n",
      "[LightGBM] [Warning] feature_fraction is set=0.5, colsample_bytree=1.0 will be ignored. Current value: feature_fraction=0.5\n",
      "[LightGBM] [Warning] bagging_freq is set=3, subsample_freq=0 will be ignored. Current value: bagging_freq=3\n",
      "[LightGBM] [Warning] bagging_fraction is set=0.8, subsample=1.0 will be ignored. Current value: bagging_fraction=0.8\n",
      "[LightGBM] [Warning] feature_fraction is set=1.0, colsample_bytree=1.0 will be ignored. Current value: feature_fraction=1.0\n",
      "[LightGBM] [Warning] bagging_freq is set=3, subsample_freq=0 will be ignored. Current value: bagging_freq=3\n"
     ]
    },
    {
     "name": "stderr",
     "output_type": "stream",
     "text": [
      "/home/mladmin/Data/Forexience/venv/lib/python3.8/site-packages/sklearn/utils/deprecation.py:101: FutureWarning: Attribute standard_coef_ was deprecated in version 0.23 and will be removed in 0.25.\n",
      "  warnings.warn(msg, category=FutureWarning)\n",
      "/home/mladmin/Data/Forexience/venv/lib/python3.8/site-packages/sklearn/utils/deprecation.py:101: FutureWarning: Attribute standard_intercept_ was deprecated in version 0.23 and will be removed in 0.25.\n",
      "  warnings.warn(msg, category=FutureWarning)\n",
      "/home/mladmin/Data/Forexience/venv/lib/python3.8/site-packages/sklearn/utils/deprecation.py:101: FutureWarning: Attribute average_coef_ was deprecated in version 0.23 and will be removed in 0.25.\n",
      "  warnings.warn(msg, category=FutureWarning)\n",
      "/home/mladmin/Data/Forexience/venv/lib/python3.8/site-packages/sklearn/utils/deprecation.py:101: FutureWarning: Attribute average_intercept_ was deprecated in version 0.23 and will be removed in 0.25.\n",
      "  warnings.warn(msg, category=FutureWarning)\n"
     ]
    },
    {
     "name": "stdout",
     "output_type": "stream",
     "text": [
      "[LightGBM] [Warning] bagging_fraction is set=0.7, subsample=1.0 will be ignored. Current value: bagging_fraction=0.7\n",
      "[LightGBM] [Warning] feature_fraction is set=0.8, colsample_bytree=1.0 will be ignored. Current value: feature_fraction=0.8\n",
      "[LightGBM] [Warning] bagging_freq is set=2, subsample_freq=0 will be ignored. Current value: bagging_freq=2\n"
     ]
    },
    {
     "name": "stderr",
     "output_type": "stream",
     "text": [
      "/home/mladmin/Data/Forexience/venv/lib/python3.8/site-packages/sklearn/utils/deprecation.py:101: FutureWarning: Attribute standard_coef_ was deprecated in version 0.23 and will be removed in 0.25.\n",
      "  warnings.warn(msg, category=FutureWarning)\n",
      "/home/mladmin/Data/Forexience/venv/lib/python3.8/site-packages/sklearn/utils/deprecation.py:101: FutureWarning: Attribute standard_intercept_ was deprecated in version 0.23 and will be removed in 0.25.\n",
      "  warnings.warn(msg, category=FutureWarning)\n",
      "/home/mladmin/Data/Forexience/venv/lib/python3.8/site-packages/sklearn/utils/deprecation.py:101: FutureWarning: Attribute average_coef_ was deprecated in version 0.23 and will be removed in 0.25.\n",
      "  warnings.warn(msg, category=FutureWarning)\n",
      "/home/mladmin/Data/Forexience/venv/lib/python3.8/site-packages/sklearn/utils/deprecation.py:101: FutureWarning: Attribute average_intercept_ was deprecated in version 0.23 and will be removed in 0.25.\n",
      "  warnings.warn(msg, category=FutureWarning)\n",
      "/home/mladmin/Data/Forexience/venv/lib/python3.8/site-packages/sklearn/utils/deprecation.py:101: FutureWarning: Attribute standard_coef_ was deprecated in version 0.23 and will be removed in 0.25.\n",
      "  warnings.warn(msg, category=FutureWarning)\n",
      "/home/mladmin/Data/Forexience/venv/lib/python3.8/site-packages/sklearn/utils/deprecation.py:101: FutureWarning: Attribute standard_intercept_ was deprecated in version 0.23 and will be removed in 0.25.\n",
      "  warnings.warn(msg, category=FutureWarning)\n",
      "/home/mladmin/Data/Forexience/venv/lib/python3.8/site-packages/sklearn/utils/deprecation.py:101: FutureWarning: Attribute average_coef_ was deprecated in version 0.23 and will be removed in 0.25.\n",
      "  warnings.warn(msg, category=FutureWarning)\n",
      "/home/mladmin/Data/Forexience/venv/lib/python3.8/site-packages/sklearn/utils/deprecation.py:101: FutureWarning: Attribute average_intercept_ was deprecated in version 0.23 and will be removed in 0.25.\n",
      "  warnings.warn(msg, category=FutureWarning)\n"
     ]
    },
    {
     "name": "stdout",
     "output_type": "stream",
     "text": [
      "[LightGBM] [Warning] bagging_fraction is set=0.6, subsample=1.0 will be ignored. Current value: bagging_fraction=0.6\n",
      "[LightGBM] [Warning] feature_fraction is set=0.4, colsample_bytree=1.0 will be ignored. Current value: feature_fraction=0.4\n",
      "[LightGBM] [Warning] bagging_freq is set=2, subsample_freq=0 will be ignored. Current value: bagging_freq=2\n",
      "[LightGBM] [Warning] bagging_fraction is set=0.7, subsample=1.0 will be ignored. Current value: bagging_fraction=0.7\n",
      "[LightGBM] [Warning] feature_fraction is set=0.8, colsample_bytree=1.0 will be ignored. Current value: feature_fraction=0.8\n",
      "[LightGBM] [Warning] bagging_freq is set=2, subsample_freq=0 will be ignored. Current value: bagging_freq=2\n",
      "[LightGBM] [Warning] bagging_fraction is set=0.8, subsample=1.0 will be ignored. Current value: bagging_fraction=0.8\n",
      "[LightGBM] [Warning] feature_fraction is set=1.0, colsample_bytree=1.0 will be ignored. Current value: feature_fraction=1.0\n",
      "[LightGBM] [Warning] bagging_freq is set=3, subsample_freq=0 will be ignored. Current value: bagging_freq=3\n",
      "[LightGBM] [Warning] bagging_fraction is set=0.6, subsample=1.0 will be ignored. Current value: bagging_fraction=0.6\n",
      "[LightGBM] [Warning] feature_fraction is set=0.9, colsample_bytree=1.0 will be ignored. Current value: feature_fraction=0.9\n",
      "[LightGBM] [Warning] bagging_freq is set=4, subsample_freq=0 will be ignored. Current value: bagging_freq=4\n",
      "[LightGBM] [Warning] bagging_fraction is set=0.7, subsample=1.0 will be ignored. Current value: bagging_fraction=0.7\n",
      "[LightGBM] [Warning] feature_fraction is set=0.8, colsample_bytree=1.0 will be ignored. Current value: feature_fraction=0.8\n",
      "[LightGBM] [Warning] bagging_freq is set=2, subsample_freq=0 will be ignored. Current value: bagging_freq=2\n",
      "[LightGBM] [Warning] bagging_fraction is set=0.8, subsample=1.0 will be ignored. Current value: bagging_fraction=0.8\n",
      "[LightGBM] [Warning] feature_fraction is set=1.0, colsample_bytree=1.0 will be ignored. Current value: feature_fraction=1.0\n",
      "[LightGBM] [Warning] bagging_freq is set=3, subsample_freq=0 will be ignored. Current value: bagging_freq=3\n"
     ]
    },
    {
     "name": "stderr",
     "output_type": "stream",
     "text": [
      "/home/mladmin/Data/Forexience/venv/lib/python3.8/site-packages/sklearn/utils/deprecation.py:101: FutureWarning: Attribute standard_coef_ was deprecated in version 0.23 and will be removed in 0.25.\n",
      "  warnings.warn(msg, category=FutureWarning)\n",
      "/home/mladmin/Data/Forexience/venv/lib/python3.8/site-packages/sklearn/utils/deprecation.py:101: FutureWarning: Attribute standard_intercept_ was deprecated in version 0.23 and will be removed in 0.25.\n",
      "  warnings.warn(msg, category=FutureWarning)\n",
      "/home/mladmin/Data/Forexience/venv/lib/python3.8/site-packages/sklearn/utils/deprecation.py:101: FutureWarning: Attribute average_coef_ was deprecated in version 0.23 and will be removed in 0.25.\n",
      "  warnings.warn(msg, category=FutureWarning)\n",
      "/home/mladmin/Data/Forexience/venv/lib/python3.8/site-packages/sklearn/utils/deprecation.py:101: FutureWarning: Attribute average_intercept_ was deprecated in version 0.23 and will be removed in 0.25.\n",
      "  warnings.warn(msg, category=FutureWarning)\n"
     ]
    },
    {
     "name": "stdout",
     "output_type": "stream",
     "text": [
      "[LightGBM] [Warning] bagging_fraction is set=0.9, subsample=1.0 will be ignored. Current value: bagging_fraction=0.9\n",
      "[LightGBM] [Warning] feature_fraction is set=0.5, colsample_bytree=1.0 will be ignored. Current value: feature_fraction=0.5\n",
      "[LightGBM] [Warning] bagging_freq is set=3, subsample_freq=0 will be ignored. Current value: bagging_freq=3\n",
      "[LightGBM] [Warning] bagging_fraction is set=0.8, subsample=1.0 will be ignored. Current value: bagging_fraction=0.8\n",
      "[LightGBM] [Warning] feature_fraction is set=1.0, colsample_bytree=1.0 will be ignored. Current value: feature_fraction=1.0\n",
      "[LightGBM] [Warning] bagging_freq is set=3, subsample_freq=0 will be ignored. Current value: bagging_freq=3\n"
     ]
    },
    {
     "name": "stderr",
     "output_type": "stream",
     "text": [
      "/home/mladmin/Data/Forexience/venv/lib/python3.8/site-packages/sklearn/utils/deprecation.py:101: FutureWarning: Attribute standard_coef_ was deprecated in version 0.23 and will be removed in 0.25.\n",
      "  warnings.warn(msg, category=FutureWarning)\n",
      "/home/mladmin/Data/Forexience/venv/lib/python3.8/site-packages/sklearn/utils/deprecation.py:101: FutureWarning: Attribute standard_intercept_ was deprecated in version 0.23 and will be removed in 0.25.\n",
      "  warnings.warn(msg, category=FutureWarning)\n",
      "/home/mladmin/Data/Forexience/venv/lib/python3.8/site-packages/sklearn/utils/deprecation.py:101: FutureWarning: Attribute average_coef_ was deprecated in version 0.23 and will be removed in 0.25.\n",
      "  warnings.warn(msg, category=FutureWarning)\n",
      "/home/mladmin/Data/Forexience/venv/lib/python3.8/site-packages/sklearn/utils/deprecation.py:101: FutureWarning: Attribute average_intercept_ was deprecated in version 0.23 and will be removed in 0.25.\n",
      "  warnings.warn(msg, category=FutureWarning)\n"
     ]
    },
    {
     "name": "stdout",
     "output_type": "stream",
     "text": [
      "[LightGBM] [Warning] bagging_fraction is set=0.9, subsample=1.0 will be ignored. Current value: bagging_fraction=0.9\n",
      "[LightGBM] [Warning] feature_fraction is set=0.5, colsample_bytree=1.0 will be ignored. Current value: feature_fraction=0.5\n",
      "[LightGBM] [Warning] bagging_freq is set=3, subsample_freq=0 will be ignored. Current value: bagging_freq=3\n",
      "[LightGBM] [Warning] bagging_fraction is set=0.6, subsample=1.0 will be ignored. Current value: bagging_fraction=0.6\n",
      "[LightGBM] [Warning] feature_fraction is set=0.9, colsample_bytree=1.0 will be ignored. Current value: feature_fraction=0.9\n",
      "[LightGBM] [Warning] bagging_freq is set=4, subsample_freq=0 will be ignored. Current value: bagging_freq=4\n",
      "[LightGBM] [Warning] bagging_fraction is set=0.8, subsample=1.0 will be ignored. Current value: bagging_fraction=0.8\n",
      "[LightGBM] [Warning] feature_fraction is set=1.0, colsample_bytree=1.0 will be ignored. Current value: feature_fraction=1.0\n",
      "[LightGBM] [Warning] bagging_freq is set=3, subsample_freq=0 will be ignored. Current value: bagging_freq=3\n",
      "[LightGBM] [Warning] bagging_fraction is set=0.5, subsample=1.0 will be ignored. Current value: bagging_fraction=0.5\n",
      "[LightGBM] [Warning] feature_fraction is set=0.9, colsample_bytree=1.0 will be ignored. Current value: feature_fraction=0.9\n",
      "[LightGBM] [Warning] bagging_freq is set=0, subsample_freq=0 will be ignored. Current value: bagging_freq=0\n",
      "[LightGBM] [Warning] bagging_fraction is set=1.0, subsample=1.0 will be ignored. Current value: bagging_fraction=1.0\n",
      "[LightGBM] [Warning] feature_fraction is set=0.7, colsample_bytree=1.0 will be ignored. Current value: feature_fraction=0.7\n",
      "[LightGBM] [Warning] bagging_freq is set=7, subsample_freq=0 will be ignored. Current value: bagging_freq=7\n"
     ]
    },
    {
     "name": "stderr",
     "output_type": "stream",
     "text": [
      "/home/mladmin/Data/Forexience/venv/lib/python3.8/site-packages/sklearn/utils/deprecation.py:101: FutureWarning: Attribute standard_coef_ was deprecated in version 0.23 and will be removed in 0.25.\n",
      "  warnings.warn(msg, category=FutureWarning)\n",
      "/home/mladmin/Data/Forexience/venv/lib/python3.8/site-packages/sklearn/utils/deprecation.py:101: FutureWarning: Attribute standard_intercept_ was deprecated in version 0.23 and will be removed in 0.25.\n",
      "  warnings.warn(msg, category=FutureWarning)\n",
      "/home/mladmin/Data/Forexience/venv/lib/python3.8/site-packages/sklearn/utils/deprecation.py:101: FutureWarning: Attribute average_coef_ was deprecated in version 0.23 and will be removed in 0.25.\n",
      "  warnings.warn(msg, category=FutureWarning)\n",
      "/home/mladmin/Data/Forexience/venv/lib/python3.8/site-packages/sklearn/utils/deprecation.py:101: FutureWarning: Attribute average_intercept_ was deprecated in version 0.23 and will be removed in 0.25.\n",
      "  warnings.warn(msg, category=FutureWarning)\n"
     ]
    },
    {
     "name": "stdout",
     "output_type": "stream",
     "text": [
      "[LightGBM] [Warning] bagging_fraction is set=0.7, subsample=1.0 will be ignored. Current value: bagging_fraction=0.7\n",
      "[LightGBM] [Warning] feature_fraction is set=0.8, colsample_bytree=1.0 will be ignored. Current value: feature_fraction=0.8\n",
      "[LightGBM] [Warning] bagging_freq is set=2, subsample_freq=0 will be ignored. Current value: bagging_freq=2\n",
      "[LightGBM] [Warning] bagging_fraction is set=1.0, subsample=1.0 will be ignored. Current value: bagging_fraction=1.0\n",
      "[LightGBM] [Warning] feature_fraction is set=0.7, colsample_bytree=1.0 will be ignored. Current value: feature_fraction=0.7\n",
      "[LightGBM] [Warning] bagging_freq is set=7, subsample_freq=0 will be ignored. Current value: bagging_freq=7\n",
      "[LightGBM] [Warning] bagging_fraction is set=0.5, subsample=1.0 will be ignored. Current value: bagging_fraction=0.5\n",
      "[LightGBM] [Warning] feature_fraction is set=0.9, colsample_bytree=1.0 will be ignored. Current value: feature_fraction=0.9\n",
      "[LightGBM] [Warning] bagging_freq is set=0, subsample_freq=0 will be ignored. Current value: bagging_freq=0\n",
      "[LightGBM] [Warning] bagging_fraction is set=0.6, subsample=1.0 will be ignored. Current value: bagging_fraction=0.6\n",
      "[LightGBM] [Warning] feature_fraction is set=1.0, colsample_bytree=1.0 will be ignored. Current value: feature_fraction=1.0\n",
      "[LightGBM] [Warning] bagging_freq is set=1, subsample_freq=0 will be ignored. Current value: bagging_freq=1\n",
      "[LightGBM] [Warning] bagging_fraction is set=1.0, subsample=1.0 will be ignored. Current value: bagging_fraction=1.0\n",
      "[LightGBM] [Warning] feature_fraction is set=0.7, colsample_bytree=1.0 will be ignored. Current value: feature_fraction=0.7\n",
      "[LightGBM] [Warning] bagging_freq is set=7, subsample_freq=0 will be ignored. Current value: bagging_freq=7\n",
      "[LightGBM] [Warning] bagging_fraction is set=0.7, subsample=1.0 will be ignored. Current value: bagging_fraction=0.7\n",
      "[LightGBM] [Warning] feature_fraction is set=0.8, colsample_bytree=1.0 will be ignored. Current value: feature_fraction=0.8\n",
      "[LightGBM] [Warning] bagging_freq is set=2, subsample_freq=0 will be ignored. Current value: bagging_freq=2\n",
      "[LightGBM] [Warning] bagging_fraction is set=0.9, subsample=1.0 will be ignored. Current value: bagging_fraction=0.9\n",
      "[LightGBM] [Warning] feature_fraction is set=1.0, colsample_bytree=1.0 will be ignored. Current value: feature_fraction=1.0\n",
      "[LightGBM] [Warning] bagging_freq is set=3, subsample_freq=0 will be ignored. Current value: bagging_freq=3\n",
      "[LightGBM] [Warning] bagging_fraction is set=1.0, subsample=1.0 will be ignored. Current value: bagging_fraction=1.0\n",
      "[LightGBM] [Warning] feature_fraction is set=0.7, colsample_bytree=1.0 will be ignored. Current value: feature_fraction=0.7\n",
      "[LightGBM] [Warning] bagging_freq is set=7, subsample_freq=0 will be ignored. Current value: bagging_freq=7\n",
      "[LightGBM] [Warning] bagging_fraction is set=0.9, subsample=1.0 will be ignored. Current value: bagging_fraction=0.9\n",
      "[LightGBM] [Warning] feature_fraction is set=1.0, colsample_bytree=1.0 will be ignored. Current value: feature_fraction=1.0\n",
      "[LightGBM] [Warning] bagging_freq is set=3, subsample_freq=0 will be ignored. Current value: bagging_freq=3\n",
      "[LightGBM] [Warning] bagging_fraction is set=1.0, subsample=1.0 will be ignored. Current value: bagging_fraction=1.0\n",
      "[LightGBM] [Warning] feature_fraction is set=0.7, colsample_bytree=1.0 will be ignored. Current value: feature_fraction=0.7\n",
      "[LightGBM] [Warning] bagging_freq is set=7, subsample_freq=0 will be ignored. Current value: bagging_freq=7\n",
      "[LightGBM] [Warning] bagging_fraction is set=0.5, subsample=1.0 will be ignored. Current value: bagging_fraction=0.5\n",
      "[LightGBM] [Warning] feature_fraction is set=0.9, colsample_bytree=1.0 will be ignored. Current value: feature_fraction=0.9\n",
      "[LightGBM] [Warning] bagging_freq is set=0, subsample_freq=0 will be ignored. Current value: bagging_freq=0\n",
      "[LightGBM] [Warning] bagging_fraction is set=0.8, subsample=1.0 will be ignored. Current value: bagging_fraction=0.8\n",
      "[LightGBM] [Warning] feature_fraction is set=1.0, colsample_bytree=1.0 will be ignored. Current value: feature_fraction=1.0\n",
      "[LightGBM] [Warning] bagging_freq is set=3, subsample_freq=0 will be ignored. Current value: bagging_freq=3\n",
      "[LightGBM] [Warning] bagging_fraction is set=0.5, subsample=1.0 will be ignored. Current value: bagging_fraction=0.5\n",
      "[LightGBM] [Warning] feature_fraction is set=0.9, colsample_bytree=1.0 will be ignored. Current value: feature_fraction=0.9\n",
      "[LightGBM] [Warning] bagging_freq is set=0, subsample_freq=0 will be ignored. Current value: bagging_freq=0\n",
      "[LightGBM] [Warning] bagging_fraction is set=1.0, subsample=1.0 will be ignored. Current value: bagging_fraction=1.0\n",
      "[LightGBM] [Warning] feature_fraction is set=0.7, colsample_bytree=1.0 will be ignored. Current value: feature_fraction=0.7\n",
      "[LightGBM] [Warning] bagging_freq is set=7, subsample_freq=0 will be ignored. Current value: bagging_freq=7\n",
      "[LightGBM] [Warning] bagging_fraction is set=0.9, subsample=1.0 will be ignored. Current value: bagging_fraction=0.9\n",
      "[LightGBM] [Warning] feature_fraction is set=0.5, colsample_bytree=1.0 will be ignored. Current value: feature_fraction=0.5\n",
      "[LightGBM] [Warning] bagging_freq is set=3, subsample_freq=0 will be ignored. Current value: bagging_freq=3\n",
      "[LightGBM] [Warning] bagging_fraction is set=0.8, subsample=1.0 will be ignored. Current value: bagging_fraction=0.8\n",
      "[LightGBM] [Warning] feature_fraction is set=1.0, colsample_bytree=1.0 will be ignored. Current value: feature_fraction=1.0\n",
      "[LightGBM] [Warning] bagging_freq is set=3, subsample_freq=0 will be ignored. Current value: bagging_freq=3\n"
     ]
    },
    {
     "name": "stderr",
     "output_type": "stream",
     "text": [
      "/home/mladmin/Data/Forexience/venv/lib/python3.8/site-packages/sklearn/utils/deprecation.py:101: FutureWarning: Attribute standard_coef_ was deprecated in version 0.23 and will be removed in 0.25.\n",
      "  warnings.warn(msg, category=FutureWarning)\n",
      "/home/mladmin/Data/Forexience/venv/lib/python3.8/site-packages/sklearn/utils/deprecation.py:101: FutureWarning: Attribute standard_intercept_ was deprecated in version 0.23 and will be removed in 0.25.\n",
      "  warnings.warn(msg, category=FutureWarning)\n",
      "/home/mladmin/Data/Forexience/venv/lib/python3.8/site-packages/sklearn/utils/deprecation.py:101: FutureWarning: Attribute average_coef_ was deprecated in version 0.23 and will be removed in 0.25.\n",
      "  warnings.warn(msg, category=FutureWarning)\n",
      "/home/mladmin/Data/Forexience/venv/lib/python3.8/site-packages/sklearn/utils/deprecation.py:101: FutureWarning: Attribute average_intercept_ was deprecated in version 0.23 and will be removed in 0.25.\n",
      "  warnings.warn(msg, category=FutureWarning)\n"
     ]
    },
    {
     "name": "stdout",
     "output_type": "stream",
     "text": [
      "[LightGBM] [Warning] bagging_fraction is set=0.5, subsample=1.0 will be ignored. Current value: bagging_fraction=0.5\n",
      "[LightGBM] [Warning] feature_fraction is set=0.9, colsample_bytree=1.0 will be ignored. Current value: feature_fraction=0.9\n",
      "[LightGBM] [Warning] bagging_freq is set=0, subsample_freq=0 will be ignored. Current value: bagging_freq=0\n",
      "[LightGBM] [Warning] bagging_fraction is set=0.6, subsample=1.0 will be ignored. Current value: bagging_fraction=0.6\n",
      "[LightGBM] [Warning] feature_fraction is set=1.0, colsample_bytree=1.0 will be ignored. Current value: feature_fraction=1.0\n",
      "[LightGBM] [Warning] bagging_freq is set=1, subsample_freq=0 will be ignored. Current value: bagging_freq=1\n",
      "[LightGBM] [Warning] bagging_fraction is set=1.0, subsample=1.0 will be ignored. Current value: bagging_fraction=1.0\n",
      "[LightGBM] [Warning] feature_fraction is set=0.7, colsample_bytree=1.0 will be ignored. Current value: feature_fraction=0.7\n",
      "[LightGBM] [Warning] bagging_freq is set=7, subsample_freq=0 will be ignored. Current value: bagging_freq=7\n",
      "[LightGBM] [Warning] bagging_fraction is set=0.7, subsample=1.0 will be ignored. Current value: bagging_fraction=0.7\n",
      "[LightGBM] [Warning] feature_fraction is set=0.8, colsample_bytree=1.0 will be ignored. Current value: feature_fraction=0.8\n",
      "[LightGBM] [Warning] bagging_freq is set=2, subsample_freq=0 will be ignored. Current value: bagging_freq=2\n",
      "[LightGBM] [Warning] bagging_fraction is set=1.0, subsample=1.0 will be ignored. Current value: bagging_fraction=1.0\n",
      "[LightGBM] [Warning] feature_fraction is set=0.7, colsample_bytree=1.0 will be ignored. Current value: feature_fraction=0.7\n",
      "[LightGBM] [Warning] bagging_freq is set=7, subsample_freq=0 will be ignored. Current value: bagging_freq=7\n"
     ]
    },
    {
     "name": "stderr",
     "output_type": "stream",
     "text": [
      "/home/mladmin/Data/Forexience/venv/lib/python3.8/site-packages/sklearn/utils/deprecation.py:101: FutureWarning: Attribute standard_coef_ was deprecated in version 0.23 and will be removed in 0.25.\n",
      "  warnings.warn(msg, category=FutureWarning)\n",
      "/home/mladmin/Data/Forexience/venv/lib/python3.8/site-packages/sklearn/utils/deprecation.py:101: FutureWarning: Attribute standard_intercept_ was deprecated in version 0.23 and will be removed in 0.25.\n",
      "  warnings.warn(msg, category=FutureWarning)\n",
      "/home/mladmin/Data/Forexience/venv/lib/python3.8/site-packages/sklearn/utils/deprecation.py:101: FutureWarning: Attribute average_coef_ was deprecated in version 0.23 and will be removed in 0.25.\n",
      "  warnings.warn(msg, category=FutureWarning)\n",
      "/home/mladmin/Data/Forexience/venv/lib/python3.8/site-packages/sklearn/utils/deprecation.py:101: FutureWarning: Attribute average_intercept_ was deprecated in version 0.23 and will be removed in 0.25.\n",
      "  warnings.warn(msg, category=FutureWarning)\n"
     ]
    },
    {
     "name": "stdout",
     "output_type": "stream",
     "text": [
      "[LightGBM] [Warning] bagging_fraction is set=0.9, subsample=1.0 will be ignored. Current value: bagging_fraction=0.9\n",
      "[LightGBM] [Warning] feature_fraction is set=0.5, colsample_bytree=1.0 will be ignored. Current value: feature_fraction=0.5\n",
      "[LightGBM] [Warning] bagging_freq is set=3, subsample_freq=0 will be ignored. Current value: bagging_freq=3\n",
      "[LightGBM] [Warning] bagging_fraction is set=0.8, subsample=1.0 will be ignored. Current value: bagging_fraction=0.8\n",
      "[LightGBM] [Warning] feature_fraction is set=1.0, colsample_bytree=1.0 will be ignored. Current value: feature_fraction=1.0\n",
      "[LightGBM] [Warning] bagging_freq is set=3, subsample_freq=0 will be ignored. Current value: bagging_freq=3\n",
      "[LightGBM] [Warning] bagging_fraction is set=0.6, subsample=1.0 will be ignored. Current value: bagging_fraction=0.6\n",
      "[LightGBM] [Warning] feature_fraction is set=0.4, colsample_bytree=1.0 will be ignored. Current value: feature_fraction=0.4\n",
      "[LightGBM] [Warning] bagging_freq is set=2, subsample_freq=0 will be ignored. Current value: bagging_freq=2\n",
      "[LightGBM] [Warning] bagging_fraction is set=1.0, subsample=1.0 will be ignored. Current value: bagging_fraction=1.0\n",
      "[LightGBM] [Warning] feature_fraction is set=0.7, colsample_bytree=1.0 will be ignored. Current value: feature_fraction=0.7\n",
      "[LightGBM] [Warning] bagging_freq is set=7, subsample_freq=0 will be ignored. Current value: bagging_freq=7\n",
      "[LightGBM] [Warning] bagging_fraction is set=0.6, subsample=1.0 will be ignored. Current value: bagging_fraction=0.6\n",
      "[LightGBM] [Warning] feature_fraction is set=0.9, colsample_bytree=1.0 will be ignored. Current value: feature_fraction=0.9\n",
      "[LightGBM] [Warning] bagging_freq is set=4, subsample_freq=0 will be ignored. Current value: bagging_freq=4\n",
      "[LightGBM] [Warning] bagging_fraction is set=1.0, subsample=1.0 will be ignored. Current value: bagging_fraction=1.0\n",
      "[LightGBM] [Warning] feature_fraction is set=0.7, colsample_bytree=1.0 will be ignored. Current value: feature_fraction=0.7\n",
      "[LightGBM] [Warning] bagging_freq is set=7, subsample_freq=0 will be ignored. Current value: bagging_freq=7\n",
      "[LightGBM] [Warning] bagging_fraction is set=0.6, subsample=1.0 will be ignored. Current value: bagging_fraction=0.6\n",
      "[LightGBM] [Warning] feature_fraction is set=0.9, colsample_bytree=1.0 will be ignored. Current value: feature_fraction=0.9\n",
      "[LightGBM] [Warning] bagging_freq is set=4, subsample_freq=0 will be ignored. Current value: bagging_freq=4\n",
      "[LightGBM] [Warning] bagging_fraction is set=0.9, subsample=1.0 will be ignored. Current value: bagging_fraction=0.9\n",
      "[LightGBM] [Warning] feature_fraction is set=0.5, colsample_bytree=1.0 will be ignored. Current value: feature_fraction=0.5\n",
      "[LightGBM] [Warning] bagging_freq is set=3, subsample_freq=0 will be ignored. Current value: bagging_freq=3\n",
      "[LightGBM] [Warning] bagging_fraction is set=0.9, subsample=1.0 will be ignored. Current value: bagging_fraction=0.9\n",
      "[LightGBM] [Warning] feature_fraction is set=1.0, colsample_bytree=1.0 will be ignored. Current value: feature_fraction=1.0\n",
      "[LightGBM] [Warning] bagging_freq is set=3, subsample_freq=0 will be ignored. Current value: bagging_freq=3\n",
      "[LightGBM] [Warning] bagging_fraction is set=0.9, subsample=1.0 will be ignored. Current value: bagging_fraction=0.9\n",
      "[LightGBM] [Warning] feature_fraction is set=0.5, colsample_bytree=1.0 will be ignored. Current value: feature_fraction=0.5\n",
      "[LightGBM] [Warning] bagging_freq is set=3, subsample_freq=0 will be ignored. Current value: bagging_freq=3\n",
      "[LightGBM] [Warning] bagging_fraction is set=0.5, subsample=1.0 will be ignored. Current value: bagging_fraction=0.5\n",
      "[LightGBM] [Warning] feature_fraction is set=0.9, colsample_bytree=1.0 will be ignored. Current value: feature_fraction=0.9\n",
      "[LightGBM] [Warning] bagging_freq is set=0, subsample_freq=0 will be ignored. Current value: bagging_freq=0\n",
      "[LightGBM] [Warning] bagging_fraction is set=0.9, subsample=1.0 will be ignored. Current value: bagging_fraction=0.9\n",
      "[LightGBM] [Warning] feature_fraction is set=0.5, colsample_bytree=1.0 will be ignored. Current value: feature_fraction=0.5\n",
      "[LightGBM] [Warning] bagging_freq is set=3, subsample_freq=0 will be ignored. Current value: bagging_freq=3\n",
      "[LightGBM] [Warning] bagging_fraction is set=0.9, subsample=1.0 will be ignored. Current value: bagging_fraction=0.9\n",
      "[LightGBM] [Warning] feature_fraction is set=1.0, colsample_bytree=1.0 will be ignored. Current value: feature_fraction=1.0\n",
      "[LightGBM] [Warning] bagging_freq is set=3, subsample_freq=0 will be ignored. Current value: bagging_freq=3\n",
      "[LightGBM] [Warning] bagging_fraction is set=0.9, subsample=1.0 will be ignored. Current value: bagging_fraction=0.9\n",
      "[LightGBM] [Warning] feature_fraction is set=0.5, colsample_bytree=1.0 will be ignored. Current value: feature_fraction=0.5\n",
      "[LightGBM] [Warning] bagging_freq is set=3, subsample_freq=0 will be ignored. Current value: bagging_freq=3\n"
     ]
    },
    {
     "name": "stderr",
     "output_type": "stream",
     "text": [
      "/home/mladmin/Data/Forexience/venv/lib/python3.8/site-packages/sklearn/utils/deprecation.py:101: FutureWarning: Attribute standard_coef_ was deprecated in version 0.23 and will be removed in 0.25.\n",
      "  warnings.warn(msg, category=FutureWarning)\n",
      "/home/mladmin/Data/Forexience/venv/lib/python3.8/site-packages/sklearn/utils/deprecation.py:101: FutureWarning: Attribute standard_intercept_ was deprecated in version 0.23 and will be removed in 0.25.\n",
      "  warnings.warn(msg, category=FutureWarning)\n",
      "/home/mladmin/Data/Forexience/venv/lib/python3.8/site-packages/sklearn/utils/deprecation.py:101: FutureWarning: Attribute average_coef_ was deprecated in version 0.23 and will be removed in 0.25.\n",
      "  warnings.warn(msg, category=FutureWarning)\n",
      "/home/mladmin/Data/Forexience/venv/lib/python3.8/site-packages/sklearn/utils/deprecation.py:101: FutureWarning: Attribute average_intercept_ was deprecated in version 0.23 and will be removed in 0.25.\n",
      "  warnings.warn(msg, category=FutureWarning)\n"
     ]
    },
    {
     "name": "stdout",
     "output_type": "stream",
     "text": [
      "[LightGBM] [Warning] bagging_fraction is set=0.9, subsample=1.0 will be ignored. Current value: bagging_fraction=0.9\n",
      "[LightGBM] [Warning] feature_fraction is set=0.5, colsample_bytree=1.0 will be ignored. Current value: feature_fraction=0.5\n",
      "[LightGBM] [Warning] bagging_freq is set=3, subsample_freq=0 will be ignored. Current value: bagging_freq=3\n",
      "[LightGBM] [Warning] bagging_fraction is set=0.9, subsample=1.0 will be ignored. Current value: bagging_fraction=0.9\n",
      "[LightGBM] [Warning] feature_fraction is set=0.5, colsample_bytree=1.0 will be ignored. Current value: feature_fraction=0.5\n",
      "[LightGBM] [Warning] bagging_freq is set=3, subsample_freq=0 will be ignored. Current value: bagging_freq=3\n"
     ]
    },
    {
     "name": "stderr",
     "output_type": "stream",
     "text": [
      "/home/mladmin/Data/Forexience/venv/lib/python3.8/site-packages/sklearn/utils/deprecation.py:101: FutureWarning: Attribute standard_coef_ was deprecated in version 0.23 and will be removed in 0.25.\n",
      "  warnings.warn(msg, category=FutureWarning)\n",
      "/home/mladmin/Data/Forexience/venv/lib/python3.8/site-packages/sklearn/utils/deprecation.py:101: FutureWarning: Attribute standard_intercept_ was deprecated in version 0.23 and will be removed in 0.25.\n",
      "  warnings.warn(msg, category=FutureWarning)\n",
      "/home/mladmin/Data/Forexience/venv/lib/python3.8/site-packages/sklearn/utils/deprecation.py:101: FutureWarning: Attribute average_coef_ was deprecated in version 0.23 and will be removed in 0.25.\n",
      "  warnings.warn(msg, category=FutureWarning)\n",
      "/home/mladmin/Data/Forexience/venv/lib/python3.8/site-packages/sklearn/utils/deprecation.py:101: FutureWarning: Attribute average_intercept_ was deprecated in version 0.23 and will be removed in 0.25.\n",
      "  warnings.warn(msg, category=FutureWarning)\n"
     ]
    },
    {
     "name": "stdout",
     "output_type": "stream",
     "text": [
      "[LightGBM] [Warning] bagging_fraction is set=0.5, subsample=1.0 will be ignored. Current value: bagging_fraction=0.5\n",
      "[LightGBM] [Warning] feature_fraction is set=0.9, colsample_bytree=1.0 will be ignored. Current value: feature_fraction=0.9\n",
      "[LightGBM] [Warning] bagging_freq is set=0, subsample_freq=0 will be ignored. Current value: bagging_freq=0\n",
      "[LightGBM] [Warning] bagging_fraction is set=0.6, subsample=1.0 will be ignored. Current value: bagging_fraction=0.6\n",
      "[LightGBM] [Warning] feature_fraction is set=1.0, colsample_bytree=1.0 will be ignored. Current value: feature_fraction=1.0\n",
      "[LightGBM] [Warning] bagging_freq is set=1, subsample_freq=0 will be ignored. Current value: bagging_freq=1\n",
      "[LightGBM] [Warning] bagging_fraction is set=0.9, subsample=1.0 will be ignored. Current value: bagging_fraction=0.9\n",
      "[LightGBM] [Warning] feature_fraction is set=0.5, colsample_bytree=1.0 will be ignored. Current value: feature_fraction=0.5\n",
      "[LightGBM] [Warning] bagging_freq is set=3, subsample_freq=0 will be ignored. Current value: bagging_freq=3\n",
      "[LightGBM] [Warning] bagging_fraction is set=0.6, subsample=1.0 will be ignored. Current value: bagging_fraction=0.6\n",
      "[LightGBM] [Warning] feature_fraction is set=0.4, colsample_bytree=1.0 will be ignored. Current value: feature_fraction=0.4\n",
      "[LightGBM] [Warning] bagging_freq is set=2, subsample_freq=0 will be ignored. Current value: bagging_freq=2\n",
      "[LightGBM] [Warning] bagging_fraction is set=0.9, subsample=1.0 will be ignored. Current value: bagging_fraction=0.9\n",
      "[LightGBM] [Warning] feature_fraction is set=0.5, colsample_bytree=1.0 will be ignored. Current value: feature_fraction=0.5\n",
      "[LightGBM] [Warning] bagging_freq is set=3, subsample_freq=0 will be ignored. Current value: bagging_freq=3\n",
      "[LightGBM] [Warning] bagging_fraction is set=0.9, subsample=1.0 will be ignored. Current value: bagging_fraction=0.9\n",
      "[LightGBM] [Warning] feature_fraction is set=1.0, colsample_bytree=1.0 will be ignored. Current value: feature_fraction=1.0\n",
      "[LightGBM] [Warning] bagging_freq is set=3, subsample_freq=0 will be ignored. Current value: bagging_freq=3\n",
      "[LightGBM] [Warning] bagging_fraction is set=0.9, subsample=1.0 will be ignored. Current value: bagging_fraction=0.9\n",
      "[LightGBM] [Warning] feature_fraction is set=0.5, colsample_bytree=1.0 will be ignored. Current value: feature_fraction=0.5\n",
      "[LightGBM] [Warning] bagging_freq is set=3, subsample_freq=0 will be ignored. Current value: bagging_freq=3\n",
      "[LightGBM] [Warning] bagging_fraction is set=0.7, subsample=1.0 will be ignored. Current value: bagging_fraction=0.7\n",
      "[LightGBM] [Warning] feature_fraction is set=0.8, colsample_bytree=1.0 will be ignored. Current value: feature_fraction=0.8\n",
      "[LightGBM] [Warning] bagging_freq is set=2, subsample_freq=0 will be ignored. Current value: bagging_freq=2\n",
      "[LightGBM] [Warning] bagging_fraction is set=0.9, subsample=1.0 will be ignored. Current value: bagging_fraction=0.9\n",
      "[LightGBM] [Warning] feature_fraction is set=0.5, colsample_bytree=1.0 will be ignored. Current value: feature_fraction=0.5\n",
      "[LightGBM] [Warning] bagging_freq is set=3, subsample_freq=0 will be ignored. Current value: bagging_freq=3\n"
     ]
    },
    {
     "name": "stderr",
     "output_type": "stream",
     "text": [
      "/home/mladmin/Data/Forexience/venv/lib/python3.8/site-packages/sklearn/utils/deprecation.py:101: FutureWarning: Attribute standard_coef_ was deprecated in version 0.23 and will be removed in 0.25.\n",
      "  warnings.warn(msg, category=FutureWarning)\n",
      "/home/mladmin/Data/Forexience/venv/lib/python3.8/site-packages/sklearn/utils/deprecation.py:101: FutureWarning: Attribute standard_intercept_ was deprecated in version 0.23 and will be removed in 0.25.\n",
      "  warnings.warn(msg, category=FutureWarning)\n",
      "/home/mladmin/Data/Forexience/venv/lib/python3.8/site-packages/sklearn/utils/deprecation.py:101: FutureWarning: Attribute average_coef_ was deprecated in version 0.23 and will be removed in 0.25.\n",
      "  warnings.warn(msg, category=FutureWarning)\n",
      "/home/mladmin/Data/Forexience/venv/lib/python3.8/site-packages/sklearn/utils/deprecation.py:101: FutureWarning: Attribute average_intercept_ was deprecated in version 0.23 and will be removed in 0.25.\n",
      "  warnings.warn(msg, category=FutureWarning)\n"
     ]
    },
    {
     "name": "stdout",
     "output_type": "stream",
     "text": [
      "[LightGBM] [Warning] bagging_fraction is set=0.9, subsample=1.0 will be ignored. Current value: bagging_fraction=0.9\n",
      "[LightGBM] [Warning] feature_fraction is set=0.5, colsample_bytree=1.0 will be ignored. Current value: feature_fraction=0.5\n",
      "[LightGBM] [Warning] bagging_freq is set=3, subsample_freq=0 will be ignored. Current value: bagging_freq=3\n",
      "[LightGBM] [Warning] bagging_fraction is set=0.9, subsample=1.0 will be ignored. Current value: bagging_fraction=0.9\n",
      "[LightGBM] [Warning] feature_fraction is set=0.5, colsample_bytree=1.0 will be ignored. Current value: feature_fraction=0.5\n",
      "[LightGBM] [Warning] bagging_freq is set=3, subsample_freq=0 will be ignored. Current value: bagging_freq=3\n"
     ]
    }
   ],
   "source": [
    "#LR_FINAL_MODEL = load_model('FINAL_MODELS/EURUSD/FINAL_LR_25Nov2021_EURUSD')\n",
    "#ET_FINAL_MODEL = load_model('FINAL_MODELS/EURUSD/FINAL_ET_25Nov2021_EURUSD')\n",
    "#KNN_FINAL_MODEL = load_model('02-02-2022_03-29_AM_knn_GBP_USD')\n",
    "#DT_FINAL_MODEL = load_model('FINAL_MODELS/USDCAD/10-01-2022_06-15_AM_dt_USDCAD')\n",
    "#GBC_FINAL_MODEL = load_model('FINAL_MODELS/USDCAD/10-01-2022_07-12_AM_gbc_USDCAD')\n",
    "LIGHTGBM_FINAL_MODEL = load_model('03-02-2022_08-05_PM_lightgbm_GBPUSD')"
   ]
  },
  {
   "cell_type": "code",
   "execution_count": 82,
   "metadata": {},
   "outputs": [
    {
     "name": "stdout",
     "output_type": "stream",
     "text": [
      "Today: 03-02-2022_08-05_PM\n",
      "[LightGBM] [Warning] bagging_fraction is set=0.6, subsample=1.0 will be ignored. Current value: bagging_fraction=0.6\n",
      "[LightGBM] [Warning] feature_fraction is set=0.4, colsample_bytree=1.0 will be ignored. Current value: feature_fraction=0.4\n",
      "[LightGBM] [Warning] bagging_freq is set=2, subsample_freq=0 will be ignored. Current value: bagging_freq=2\n",
      "[LightGBM] [Warning] bagging_fraction is set=0.9, subsample=1.0 will be ignored. Current value: bagging_fraction=0.9\n",
      "[LightGBM] [Warning] feature_fraction is set=0.5, colsample_bytree=1.0 will be ignored. Current value: feature_fraction=0.5\n",
      "[LightGBM] [Warning] bagging_freq is set=3, subsample_freq=0 will be ignored. Current value: bagging_freq=3\n",
      "[LightGBM] [Warning] bagging_fraction is set=0.9, subsample=1.0 will be ignored. Current value: bagging_fraction=0.9\n",
      "[LightGBM] [Warning] feature_fraction is set=1.0, colsample_bytree=1.0 will be ignored. Current value: feature_fraction=1.0\n",
      "[LightGBM] [Warning] bagging_freq is set=3, subsample_freq=0 will be ignored. Current value: bagging_freq=3\n",
      "[LightGBM] [Warning] bagging_fraction is set=0.6, subsample=1.0 will be ignored. Current value: bagging_fraction=0.6\n",
      "[LightGBM] [Warning] feature_fraction is set=1.0, colsample_bytree=1.0 will be ignored. Current value: feature_fraction=1.0\n",
      "[LightGBM] [Warning] bagging_freq is set=1, subsample_freq=0 will be ignored. Current value: bagging_freq=1\n",
      "[LightGBM] [Warning] bagging_fraction is set=0.7, subsample=1.0 will be ignored. Current value: bagging_fraction=0.7\n",
      "[LightGBM] [Warning] feature_fraction is set=0.5, colsample_bytree=1.0 will be ignored. Current value: feature_fraction=0.5\n",
      "[LightGBM] [Warning] bagging_freq is set=6, subsample_freq=0 will be ignored. Current value: bagging_freq=6\n",
      "[LightGBM] [Warning] bagging_fraction is set=0.9, subsample=1.0 will be ignored. Current value: bagging_fraction=0.9\n",
      "[LightGBM] [Warning] feature_fraction is set=0.5, colsample_bytree=1.0 will be ignored. Current value: feature_fraction=0.5\n",
      "[LightGBM] [Warning] bagging_freq is set=3, subsample_freq=0 will be ignored. Current value: bagging_freq=3\n",
      "[LightGBM] [Warning] bagging_fraction is set=0.6, subsample=1.0 will be ignored. Current value: bagging_fraction=0.6\n",
      "[LightGBM] [Warning] feature_fraction is set=1.0, colsample_bytree=1.0 will be ignored. Current value: feature_fraction=1.0\n",
      "[LightGBM] [Warning] bagging_freq is set=1, subsample_freq=0 will be ignored. Current value: bagging_freq=1\n",
      "[LightGBM] [Warning] bagging_fraction is set=0.9, subsample=1.0 will be ignored. Current value: bagging_fraction=0.9\n",
      "[LightGBM] [Warning] feature_fraction is set=0.5, colsample_bytree=1.0 will be ignored. Current value: feature_fraction=0.5\n",
      "[LightGBM] [Warning] bagging_freq is set=3, subsample_freq=0 will be ignored. Current value: bagging_freq=3\n",
      "[LightGBM] [Warning] bagging_fraction is set=0.9, subsample=1.0 will be ignored. Current value: bagging_fraction=0.9\n",
      "[LightGBM] [Warning] feature_fraction is set=1.0, colsample_bytree=1.0 will be ignored. Current value: feature_fraction=1.0\n",
      "[LightGBM] [Warning] bagging_freq is set=3, subsample_freq=0 will be ignored. Current value: bagging_freq=3\n",
      "[LightGBM] [Warning] bagging_fraction is set=0.9, subsample=1.0 will be ignored. Current value: bagging_fraction=0.9\n",
      "[LightGBM] [Warning] feature_fraction is set=0.5, colsample_bytree=1.0 will be ignored. Current value: feature_fraction=0.5\n",
      "[LightGBM] [Warning] bagging_freq is set=3, subsample_freq=0 will be ignored. Current value: bagging_freq=3\n",
      "[LightGBM] [Warning] bagging_fraction is set=0.9, subsample=1.0 will be ignored. Current value: bagging_fraction=0.9\n",
      "[LightGBM] [Warning] feature_fraction is set=0.5, colsample_bytree=1.0 will be ignored. Current value: feature_fraction=0.5\n",
      "[LightGBM] [Warning] bagging_freq is set=3, subsample_freq=0 will be ignored. Current value: bagging_freq=3\n",
      "[LightGBM] [Warning] bagging_fraction is set=0.9, subsample=1.0 will be ignored. Current value: bagging_fraction=0.9\n",
      "[LightGBM] [Warning] feature_fraction is set=0.5, colsample_bytree=1.0 will be ignored. Current value: feature_fraction=0.5\n",
      "[LightGBM] [Warning] bagging_freq is set=3, subsample_freq=0 will be ignored. Current value: bagging_freq=3\n"
     ]
    },
    {
     "name": "stderr",
     "output_type": "stream",
     "text": [
      "/home/mladmin/Data/Forexience/venv/lib/python3.8/site-packages/sklearn/utils/deprecation.py:101: FutureWarning: Attribute standard_coef_ was deprecated in version 0.23 and will be removed in 0.25.\n",
      "  warnings.warn(msg, category=FutureWarning)\n",
      "/home/mladmin/Data/Forexience/venv/lib/python3.8/site-packages/sklearn/utils/deprecation.py:101: FutureWarning: Attribute standard_intercept_ was deprecated in version 0.23 and will be removed in 0.25.\n",
      "  warnings.warn(msg, category=FutureWarning)\n",
      "/home/mladmin/Data/Forexience/venv/lib/python3.8/site-packages/sklearn/utils/deprecation.py:101: FutureWarning: Attribute average_coef_ was deprecated in version 0.23 and will be removed in 0.25.\n",
      "  warnings.warn(msg, category=FutureWarning)\n",
      "/home/mladmin/Data/Forexience/venv/lib/python3.8/site-packages/sklearn/utils/deprecation.py:101: FutureWarning: Attribute average_intercept_ was deprecated in version 0.23 and will be removed in 0.25.\n",
      "  warnings.warn(msg, category=FutureWarning)\n"
     ]
    },
    {
     "name": "stdout",
     "output_type": "stream",
     "text": [
      "[LightGBM] [Warning] bagging_fraction is set=0.6, subsample=1.0 will be ignored. Current value: bagging_fraction=0.6\n",
      "[LightGBM] [Warning] feature_fraction is set=0.4, colsample_bytree=1.0 will be ignored. Current value: feature_fraction=0.4\n",
      "[LightGBM] [Warning] bagging_freq is set=2, subsample_freq=0 will be ignored. Current value: bagging_freq=2\n",
      "[LightGBM] [Warning] bagging_fraction is set=0.9, subsample=1.0 will be ignored. Current value: bagging_fraction=0.9\n",
      "[LightGBM] [Warning] feature_fraction is set=0.5, colsample_bytree=1.0 will be ignored. Current value: feature_fraction=0.5\n",
      "[LightGBM] [Warning] bagging_freq is set=3, subsample_freq=0 will be ignored. Current value: bagging_freq=3\n",
      "[LightGBM] [Warning] bagging_fraction is set=0.6, subsample=1.0 will be ignored. Current value: bagging_fraction=0.6\n",
      "[LightGBM] [Warning] feature_fraction is set=1.0, colsample_bytree=1.0 will be ignored. Current value: feature_fraction=1.0\n",
      "[LightGBM] [Warning] bagging_freq is set=1, subsample_freq=0 will be ignored. Current value: bagging_freq=1\n",
      "[LightGBM] [Warning] bagging_fraction is set=0.9, subsample=1.0 will be ignored. Current value: bagging_fraction=0.9\n",
      "[LightGBM] [Warning] feature_fraction is set=0.5, colsample_bytree=1.0 will be ignored. Current value: feature_fraction=0.5\n",
      "[LightGBM] [Warning] bagging_freq is set=3, subsample_freq=0 will be ignored. Current value: bagging_freq=3\n",
      "[LightGBM] [Warning] bagging_fraction is set=0.7, subsample=1.0 will be ignored. Current value: bagging_fraction=0.7\n",
      "[LightGBM] [Warning] feature_fraction is set=0.8, colsample_bytree=1.0 will be ignored. Current value: feature_fraction=0.8\n",
      "[LightGBM] [Warning] bagging_freq is set=2, subsample_freq=0 will be ignored. Current value: bagging_freq=2\n",
      "[LightGBM] [Warning] bagging_fraction is set=0.7, subsample=1.0 will be ignored. Current value: bagging_fraction=0.7\n",
      "[LightGBM] [Warning] feature_fraction is set=0.5, colsample_bytree=1.0 will be ignored. Current value: feature_fraction=0.5\n",
      "[LightGBM] [Warning] bagging_freq is set=6, subsample_freq=0 will be ignored. Current value: bagging_freq=6\n",
      "[LightGBM] [Warning] bagging_fraction is set=0.9, subsample=1.0 will be ignored. Current value: bagging_fraction=0.9\n",
      "[LightGBM] [Warning] feature_fraction is set=0.5, colsample_bytree=1.0 will be ignored. Current value: feature_fraction=0.5\n",
      "[LightGBM] [Warning] bagging_freq is set=3, subsample_freq=0 will be ignored. Current value: bagging_freq=3\n",
      "[LightGBM] [Warning] bagging_fraction is set=0.6, subsample=1.0 will be ignored. Current value: bagging_fraction=0.6\n",
      "[LightGBM] [Warning] feature_fraction is set=1.0, colsample_bytree=1.0 will be ignored. Current value: feature_fraction=1.0\n",
      "[LightGBM] [Warning] bagging_freq is set=1, subsample_freq=0 will be ignored. Current value: bagging_freq=1\n",
      "[LightGBM] [Warning] bagging_fraction is set=0.9, subsample=1.0 will be ignored. Current value: bagging_fraction=0.9\n",
      "[LightGBM] [Warning] feature_fraction is set=0.5, colsample_bytree=1.0 will be ignored. Current value: feature_fraction=0.5\n",
      "[LightGBM] [Warning] bagging_freq is set=3, subsample_freq=0 will be ignored. Current value: bagging_freq=3\n",
      "[LightGBM] [Warning] bagging_fraction is set=0.7, subsample=1.0 will be ignored. Current value: bagging_fraction=0.7\n",
      "[LightGBM] [Warning] feature_fraction is set=0.8, colsample_bytree=1.0 will be ignored. Current value: feature_fraction=0.8\n",
      "[LightGBM] [Warning] bagging_freq is set=2, subsample_freq=0 will be ignored. Current value: bagging_freq=2\n",
      "[LightGBM] [Warning] bagging_fraction is set=0.9, subsample=1.0 will be ignored. Current value: bagging_fraction=0.9\n",
      "[LightGBM] [Warning] feature_fraction is set=0.5, colsample_bytree=1.0 will be ignored. Current value: feature_fraction=0.5\n",
      "[LightGBM] [Warning] bagging_freq is set=3, subsample_freq=0 will be ignored. Current value: bagging_freq=3\n",
      "CPU times: user 10h 27min 47s, sys: 8h 39min 37s, total: 19h 7min 24s\n",
      "Wall time: 2h 47min 25s\n"
     ]
    }
   ],
   "source": [
    "%%time\n",
    "print ('Today: ' + today)\n",
    "\n",
    "result_output = pd.DataFrame({'Candle_No':[],\n",
    "                              'Current_Market_Fit':[],\n",
    "                              'Current_Market':[],\n",
    "#                              'Rec1':[],\n",
    "#                              'Rec1_P':[],\n",
    "#                              'Rec2':[],\n",
    "#                              'Rec2_P':[],\n",
    "#                              'Rec3':[],\n",
    "#                              'Rec3_P':[],\n",
    "#                              'LR_Label':[],\n",
    "#                              'LR_Score':[],\n",
    "#                              'ET_Label':[],\n",
    "#                              'ET_Score':[],\n",
    "#                              'KNN_Label':[],\n",
    "#                              'KNN_Score':[],\n",
    "#                              'DT_Label':[],\n",
    "#                              'DT_Score':[],\n",
    "                              'LIGHTGBM_Label':[],\n",
    "                              'LIGHTGBM_Score':[],\n",
    "#                              'GBC_Label':[],\n",
    "#                              'GBC_Score':[],                              \n",
    "                             })\n",
    "\n",
    "for candle_no in Test_Candle:\n",
    "    data = pd.read_csv(filename)\n",
    "    data = data.iloc[candle_no:candle_no+candles]\n",
    "    data['candleno'] = range (1, len(data) + 1)\n",
    "    X = data['candleno'].values.reshape(-1, 1)\n",
    "    Y = data['Close'].values.reshape(-1, 1)\n",
    "    linear_regressor = LinearRegression()\n",
    "    linear_regressor.fit(X, Y)\n",
    "    y_pred = linear_regressor.predict(X) \n",
    "    \n",
    "    Current_Market_Fit = r2_score(Y, y_pred)*100\n",
    "    coeficient = (linear_regressor.coef_)\n",
    "\n",
    "    if coeficient > 0:\n",
    "        Current_Market= 1\n",
    "\n",
    "    else:\n",
    "        Current_Market = 0\n",
    "\n",
    "    data = pd.read_csv(filename)\n",
    "    data = data[[feature_9,\n",
    "                 feature_10,\n",
    "                 feature_11,\n",
    "                 feature_12,\n",
    "                 feature_13,\n",
    "                 feature_14,\n",
    "                ]]\n",
    "\n",
    "    indices, distances = find_k_similar_candles (candle_no,data)\n",
    "    indices = indices[0:1][0]\n",
    "    \n",
    "    predicted_output = []\n",
    "    recs = []\n",
    "    for indice in indices[1:5]:\n",
    "             \n",
    "        Predicted_Market_Fit =0\n",
    "        Predicted_Trade=''\n",
    "    \n",
    "        data = pd.read_csv(filename) \n",
    "        data = data.iloc[indice:indice+candles]\n",
    "\n",
    "        data['candleno'] = range (1, len(data) + 1)\n",
    "        X = data['candleno'].values.reshape(-1, 1)\n",
    "        Y = data['Close'].values.reshape(-1, 1)\n",
    "        linear_regressor = LinearRegression()\n",
    "        linear_regressor.fit(X, Y)\n",
    "        y_pred = linear_regressor.predict(X)\n",
    "\n",
    "        Predicted_Market_Fit= r2_score(Y, y_pred)*100\n",
    "        coeficient = (linear_regressor.coef_)\n",
    "\n",
    "        if coeficient > 0:\n",
    "            Predicted_Trade = 'BUY'\n",
    "            recs.append((r2_score(Y, y_pred)*100))\n",
    "        else:\n",
    "            Predicted_Trade = 'SELL'\n",
    "            recs.append((r2_score(Y, y_pred)*100) * -1)\n",
    "        \n",
    "        predicted_output.append([Predicted_Market_Fit,Predicted_Trade])\n",
    "        \n",
    "        \n",
    "    data_unseen = pd.DataFrame ({\n",
    "        'Rec1_Score': [recs[0]],\n",
    "        'Rec2_Score': [recs[1]],\n",
    "        'Rec3_Score': [recs[2]],\n",
    "        'Rec4_Score': [recs[3]],\n",
    "    })\n",
    "    \n",
    "#    lr_prediction = predict_model(LR_FINAL_MODEL, data=data_unseen)\n",
    "#    LR_Label = lr_prediction['Label']\n",
    "#    LR_Score = lr_prediction['Score']\n",
    "    \n",
    "#    et_prediction = predict_model(ET_FINAL_MODEL, data=data_unseen)\n",
    "#    ET_Label = et_prediction['Label']\n",
    "#    ET_Score = et_prediction['Score']\n",
    "    \n",
    "#    knn_prediction = predict_model(KNN_FINAL_MODEL, data=data_unseen)\n",
    "#    KNN_Label = knn_prediction['Label']\n",
    "#    KNN_Score = knn_prediction['Score']\n",
    "    \n",
    "#    dt_prediction = predict_model(DT_FINAL_MODEL, data=data_unseen)\n",
    "#    DT_Label = dt_prediction['Label']\n",
    "#    DT_Score = dt_prediction['Score']\n",
    "    \n",
    "    lightgbm_prediction = predict_model(LIGHTGBM_FINAL_MODEL, data=data_unseen)\n",
    "    LIGHTGBM_Label = lightgbm_prediction['Label']\n",
    "    LIGHTGBM_Score = lightgbm_prediction['Score']\n",
    "\n",
    "#    gbc_prediction = predict_model(GBC_FINAL_MODEL, data=data_unseen)\n",
    "#    GBC_Label = gbc_prediction['Label']\n",
    "#    GBC_Score = gbc_prediction['Score']    \n",
    "    \n",
    "    result = {'Candle_No': candle_no,\n",
    "              'Current_Market_Fit': Current_Market_Fit,\n",
    "              'Current_Market': Current_Market,\n",
    "#              'Rec1': predicted_output[0][0],\n",
    "#              'Rec1_P': predicted_output[0][1],\n",
    "#              'Rec2': predicted_output[1][0],\n",
    "#              'Rec2_P': predicted_output[1][1],\n",
    "#              'Rec3': predicted_output[2][0],\n",
    "#              'Rec3_P': predicted_output[2][1],\n",
    "#              'LR_Label': LR_Label[0],\n",
    "#              'LR_Score': LR_Score[0],\n",
    "#              'ET_Label': ET_Label[0],\n",
    "#              'ET_Score': ET_Score[0],\n",
    "#              'KNN_Label': KNN_Label[0],\n",
    "#              'KNN_Score': KNN_Score[0],\n",
    "#              'DT_Label': DT_Label[0],\n",
    "#              'DT_Score': DT_Score[0],\n",
    "              'LIGHTGBM_Label': LIGHTGBM_Label[0],\n",
    "              'LIGHTGBM_Score': LIGHTGBM_Score[0],\n",
    "#              'GBC_Label': GBC_Label[0],\n",
    "#              'GBC_Score': GBC_Score[0],              \n",
    "             }\n",
    "    \n",
    "    result_output = result_output.append(result, ignore_index = True)"
   ]
  },
  {
   "cell_type": "code",
   "execution_count": 83,
   "metadata": {},
   "outputs": [],
   "source": [
    "result_output.to_csv('03_Back_Test_Final_Result_' + today + '.csv', header = True, index = False)\n",
    "result_output = pd.read_csv('03_Back_Test_Final_Result_' + today + '.csv')"
   ]
  },
  {
   "cell_type": "code",
   "execution_count": 84,
   "metadata": {},
   "outputs": [],
   "source": [
    "result_output = result_output[result_output['Current_Market_Fit'] > 20]\n",
    "result_output = result_output.reset_index()\n",
    "del result_output['index']"
   ]
  },
  {
   "cell_type": "code",
   "execution_count": 85,
   "metadata": {},
   "outputs": [
    {
     "data": {
      "text/plain": [
       "(7361, 5)"
      ]
     },
     "execution_count": 85,
     "metadata": {},
     "output_type": "execute_result"
    }
   ],
   "source": [
    "result_output.shape"
   ]
  },
  {
   "cell_type": "code",
   "execution_count": 86,
   "metadata": {},
   "outputs": [],
   "source": [
    "result_output.to_csv('03_Back_Test_Final_Result_' + today + '.csv', header = True, index = False)\n",
    "result_output = pd.read_csv('03_Back_Test_Final_Result_' + today + '.csv')"
   ]
  },
  {
   "cell_type": "code",
   "execution_count": 87,
   "metadata": {},
   "outputs": [],
   "source": [
    "#result_output['LR_Prediction'] = result_output['Current_Market'] - result_output['LR_Label']\n",
    "#result_output['ET_Prediction'] = result_output['Current_Market'] - result_output['ET_Label']\n",
    "#result_output['KNN_Prediction'] = result_output['Current_Market'] - result_output['KNN_Label']\n",
    "#result_output['DT_Prediction'] = result_output['Current_Market'] - result_output['DT_Label']\n",
    "result_output['LIGHTGBM_Prediction'] = result_output['Current_Market'] - result_output['LIGHTGBM_Label']\n",
    "#result_output['GBC_Prediction'] = result_output['Current_Market'] - result_output['GBC_Label']"
   ]
  },
  {
   "cell_type": "code",
   "execution_count": 88,
   "metadata": {},
   "outputs": [],
   "source": [
    "LIGHTGBM_Result = pd.DataFrame(result_output['LIGHTGBM_Prediction'].value_counts())\n",
    "LIGHTGBM_Result[\"Score\"] = (LIGHTGBM_Result['LIGHTGBM_Prediction'] * 100 / len(result_output)).round(2)"
   ]
  },
  {
   "cell_type": "raw",
   "metadata": {},
   "source": [
    "KNN_Result = pd.DataFrame(result_output['KNN_Prediction'].value_counts())\n",
    "KNN_Result[\"Score\"] = (KNN_Result['KNN_Prediction'] * 100 / len(result_output)).round(2)"
   ]
  },
  {
   "cell_type": "raw",
   "metadata": {},
   "source": [
    "GBC_Result = pd.DataFrame(result_output['GBC_Prediction'].value_counts())\n",
    "GBC_Result[\"Score\"] = (GBC_Result['GBC_Prediction'] * 100 / len(result_output)).round(2)"
   ]
  },
  {
   "cell_type": "code",
   "execution_count": 89,
   "metadata": {},
   "outputs": [
    {
     "data": {
      "text/html": [
       "<div>\n",
       "<style scoped>\n",
       "    .dataframe tbody tr th:only-of-type {\n",
       "        vertical-align: middle;\n",
       "    }\n",
       "\n",
       "    .dataframe tbody tr th {\n",
       "        vertical-align: top;\n",
       "    }\n",
       "\n",
       "    .dataframe thead th {\n",
       "        text-align: right;\n",
       "    }\n",
       "</style>\n",
       "<table border=\"1\" class=\"dataframe\">\n",
       "  <thead>\n",
       "    <tr style=\"text-align: right;\">\n",
       "      <th></th>\n",
       "      <th>LIGHTGBM_Prediction</th>\n",
       "      <th>Score</th>\n",
       "    </tr>\n",
       "  </thead>\n",
       "  <tbody>\n",
       "    <tr>\n",
       "      <th>0.0</th>\n",
       "      <td>5157</td>\n",
       "      <td>70.06</td>\n",
       "    </tr>\n",
       "    <tr>\n",
       "      <th>-1.0</th>\n",
       "      <td>1109</td>\n",
       "      <td>15.07</td>\n",
       "    </tr>\n",
       "    <tr>\n",
       "      <th>1.0</th>\n",
       "      <td>1095</td>\n",
       "      <td>14.88</td>\n",
       "    </tr>\n",
       "  </tbody>\n",
       "</table>\n",
       "</div>"
      ],
      "text/plain": [
       "      LIGHTGBM_Prediction  Score\n",
       " 0.0                 5157  70.06\n",
       "-1.0                 1109  15.07\n",
       " 1.0                 1095  14.88"
      ]
     },
     "execution_count": 89,
     "metadata": {},
     "output_type": "execute_result"
    }
   ],
   "source": [
    "result = pd.concat([\n",
    "#    LR_Result,\n",
    "#    ET_Result,\n",
    "#    KNN_Result,\n",
    "#    DT_Result,\n",
    "#    GBC_Result,\n",
    "    LIGHTGBM_Result,\n",
    "], axis=1)\n",
    "result"
   ]
  },
  {
   "cell_type": "code",
   "execution_count": null,
   "metadata": {},
   "outputs": [],
   "source": []
  }
 ],
 "metadata": {
  "kernelspec": {
   "display_name": "Python 3 (ipykernel)",
   "language": "python",
   "name": "python3"
  },
  "language_info": {
   "codemirror_mode": {
    "name": "ipython",
    "version": 3
   },
   "file_extension": ".py",
   "mimetype": "text/x-python",
   "name": "python",
   "nbconvert_exporter": "python",
   "pygments_lexer": "ipython3",
   "version": "3.8.10"
  }
 },
 "nbformat": 4,
 "nbformat_minor": 2
}
