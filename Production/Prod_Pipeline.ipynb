{
 "cells": [
  {
   "cell_type": "code",
   "execution_count": 1,
   "id": "2e53e8b5",
   "metadata": {},
   "outputs": [],
   "source": [
    "import requests\n",
    "import pandas as pd\n",
    "import numpy as np\n",
    "from datetime import datetime, timezone\n",
    "import dateutil.parser as parser\n",
    "from dateutil.relativedelta import relativedelta\n",
    "import calendar\n",
    "import yaml\n",
    "import warnings\n",
    "warnings.filterwarnings('ignore')\n",
    "from sklearn.neighbors import NearestNeighbors\n",
    "from sklearn.linear_model import LinearRegression\n",
    "from sklearn.metrics import r2_score\n",
    "from pycaret.classification import *"
   ]
  },
  {
   "cell_type": "code",
   "execution_count": 2,
   "id": "fdfd271d",
   "metadata": {},
   "outputs": [],
   "source": [
    "pd.get_option(\"display.max_columns\", None)\n",
    "now = datetime.now()"
   ]
  },
  {
   "cell_type": "code",
   "execution_count": 3,
   "id": "b6a0606e",
   "metadata": {},
   "outputs": [],
   "source": [
    "def convert_date(utc_time): \n",
    "    parsed_date = parser.parse(utc_time)\n",
    "    var_date=parsed_date.date()\n",
    "    var_time=parsed_date.time()\n",
    "    var_f_time=var_time.hour\n",
    "    var_julian_date=parsed_date.timetuple().tm_yday\n",
    "    var_weekday=parsed_date.weekday()\n",
    "    var_weekday_name=calendar.day_name[parsed_date.weekday()]\n",
    "    return var_date, var_time, var_f_time, var_julian_date, var_weekday, var_weekday_name"
   ]
  },
  {
   "cell_type": "code",
   "execution_count": 4,
   "id": "020b4cd6",
   "metadata": {},
   "outputs": [],
   "source": [
    "with open ('config.yml') as ymlfile:\n",
    "    cfg = yaml.safe_load(ymlfile)\n",
    "    oanda_api_key = cfg['creds']['oanda_api']\n",
    "    account_number = cfg['creds']['account_number'] "
   ]
  },
  {
   "cell_type": "code",
   "execution_count": 5,
   "id": "2c1d8ea4",
   "metadata": {},
   "outputs": [],
   "source": [
    "Load_10K_Records=True\n",
    "currency_pairs = [\"EUR_USD\"]\n",
    "timeframe = \"H4\"\n",
    "price_char = \"M\"\n",
    "price_com = \"mid\""
   ]
  },
  {
   "cell_type": "code",
   "execution_count": 6,
   "id": "70c67074",
   "metadata": {},
   "outputs": [],
   "source": [
    "provider_api_url = 'https://api-fxpractice.oanda.com/v3/accounts/{}/orders'.format(account_number)\n",
    "request_headers = {\n",
    "    \"Authorization\": oanda_api_key,\n",
    "    \"Accept-Datetime-Format\": \"RFC3339\",\n",
    "    \"Connection\": \"Keep-Alive\",\n",
    "    \"Content-Type\": \"application/json;charset=UTF-8\"\n",
    "}"
   ]
  },
  {
   "cell_type": "code",
   "execution_count": 7,
   "id": "8fb6d121",
   "metadata": {},
   "outputs": [],
   "source": [
    "provider_authorization = 'Bearer {0}'.format(oanda_api_key)\n",
    "\n",
    "headers = {\n",
    "    'Content-Type': 'application/json',\n",
    "    'Authorization': provider_authorization,\n",
    "}"
   ]
  },
  {
   "cell_type": "code",
   "execution_count": 8,
   "id": "e307a5e9",
   "metadata": {},
   "outputs": [],
   "source": [
    "for pair in currency_pairs:\n",
    "    pricing_params = (\n",
    "        ('instruments', pair),\n",
    "    )\n",
    "    response = requests.get('https://api-fxpractice.oanda.com/v3/accounts/{}/pricing'.format(account_number),\n",
    "                            headers=headers,\n",
    "                            params=pricing_params).json()"
   ]
  },
  {
   "cell_type": "code",
   "execution_count": 9,
   "id": "7eceb53a",
   "metadata": {},
   "outputs": [],
   "source": [
    "response = requests.get('https://api-fxpractice.oanda.com/v3/accounts/{}/openPositions'.format(account_number),\n",
    "                            headers=headers,\n",
    "                            params=pricing_params).json()"
   ]
  },
  {
   "cell_type": "code",
   "execution_count": 10,
   "id": "ec0f3ab7",
   "metadata": {},
   "outputs": [],
   "source": [
    "params_count = (\n",
    "    ('price', price_char),\n",
    "    ('count', '5000'),\n",
    "    ('granularity', timeframe),\n",
    ")"
   ]
  },
  {
   "cell_type": "code",
   "execution_count": 11,
   "id": "f0b026e5",
   "metadata": {},
   "outputs": [],
   "source": [
    "for pair in currency_pairs:\n",
    "    first_response = requests.get('https://api-fxpractice.oanda.com/v3/instruments/{}/candles'.format(pair), \n",
    "                            headers=headers,\n",
    "                            params=params_count).json()"
   ]
  },
  {
   "cell_type": "code",
   "execution_count": 12,
   "id": "d806d25a",
   "metadata": {},
   "outputs": [],
   "source": [
    "if Load_10K_Records:\n",
    "    datetime_object = parser.parse(first_response['candles'][0]['time'])\n",
    "    date= datetime_object - relativedelta(years=3)  \n",
    "    from_date = date.replace(tzinfo=timezone.utc).timestamp()\n",
    "    params_date = (\n",
    "        ('count', '5000'),\n",
    "        ('price', price_char),\n",
    "        ('from', from_date),\n",
    "        ('granularity', timeframe),)\n",
    "\n",
    "    second_response = requests.get('https://api-fxpractice.oanda.com/v3/instruments/{}/candles'.format(pair),\n",
    "                                   headers=headers,\n",
    "                                   params=params_date).json()\n",
    "            \n",
    "    first_response= first_response['candles']  \n",
    "    second_response= second_response['candles']\n",
    "    second_response.extend(first_response)\n",
    "    response=second_response\n",
    "else:\n",
    "    response=first_response['candles']"
   ]
  },
  {
   "cell_type": "code",
   "execution_count": 13,
   "id": "70a1b242",
   "metadata": {},
   "outputs": [],
   "source": [
    "filename = \"{}_{}.csv\".format(pair, timeframe)\n",
    "output = []\n",
    "all_candlesticks = response\n",
    "\n",
    "for i in range (len(all_candlesticks)):\n",
    "    result= (convert_date(response[i]['time']))\n",
    "    output.append([(result[0]),(result[1]),(result[2]),(result[3]),(result[4]),(result[5]),\n",
    "                    response[i]['time'],\n",
    "                    response[i]['volume'], \n",
    "                    response[i][price_com]['o'],\n",
    "                    response[i][price_com]['h'],\n",
    "                    response[i][price_com]['l'],\n",
    "                    response[i][price_com]['c']])\n",
    "    \n",
    "output = pd.DataFrame(output)\n",
    "output.columns = ['Date','Time','f_time','julian_date','Weekday','Weekday_Name','UTC_Time', 'Volume', 'Open', 'High', 'Low', 'Close']\n",
    "data = output.to_csv(filename, header = True, index = False)\n",
    "data = pd.read_csv(filename)"
   ]
  },
  {
   "cell_type": "code",
   "execution_count": 14,
   "id": "a6ec2507",
   "metadata": {},
   "outputs": [],
   "source": [
    "data = data.drop_duplicates()\n",
    "data = data.dropna()\n",
    "data = data.to_csv(filename, header = True, index = False)\n",
    "data = pd.read_csv(filename)"
   ]
  },
  {
   "cell_type": "markdown",
   "id": "e57ca336",
   "metadata": {},
   "source": [
    "## Simple Moving Average (SMA)"
   ]
  },
  {
   "cell_type": "code",
   "execution_count": 15,
   "id": "26a5ba4d",
   "metadata": {},
   "outputs": [],
   "source": [
    "data['SMA_10'] = data['Close'].rolling(window=10).mean().round(5)\n",
    "data['SMA_20'] = data['Close'].rolling(window=20).mean().round(5)"
   ]
  },
  {
   "cell_type": "markdown",
   "id": "f1965535",
   "metadata": {},
   "source": [
    "## Moving Average Range"
   ]
  },
  {
   "cell_type": "code",
   "execution_count": 16,
   "id": "9958ec96",
   "metadata": {},
   "outputs": [],
   "source": [
    "data['F_SMA_10'] = data['Close'] - data['SMA_10']\n",
    "data['F_SMA_20'] = data['Close'] - data['SMA_20']"
   ]
  },
  {
   "cell_type": "markdown",
   "id": "2cb26fd0",
   "metadata": {},
   "source": [
    "## Price Range"
   ]
  },
  {
   "cell_type": "code",
   "execution_count": 17,
   "id": "ed480fcf",
   "metadata": {},
   "outputs": [],
   "source": [
    "data['col_1'] = data['Open'] - data['Close']\n",
    "\n",
    "for value in data['col_1']:   \n",
    "    if value > 0:\n",
    "        data['col_2'] = data['High'] - data['Open']\n",
    "        data['col_3'] = data['Close'] - data['Low']\n",
    "    else:\n",
    "        data['col_2'] = data['High'] - data['Close']\n",
    "        data['col_3'] = data['Open'] - data['Low']"
   ]
  },
  {
   "cell_type": "code",
   "execution_count": 18,
   "id": "5df5d460",
   "metadata": {},
   "outputs": [],
   "source": [
    "data = data.drop_duplicates()\n",
    "data = data.dropna()\n",
    "data = data.to_csv(filename, header = True, index = False)\n",
    "data = pd.read_csv(filename)"
   ]
  },
  {
   "cell_type": "code",
   "execution_count": 19,
   "id": "c234968c",
   "metadata": {},
   "outputs": [
    {
     "data": {
      "text/html": [
       "<div>\n",
       "<style scoped>\n",
       "    .dataframe tbody tr th:only-of-type {\n",
       "        vertical-align: middle;\n",
       "    }\n",
       "\n",
       "    .dataframe tbody tr th {\n",
       "        vertical-align: top;\n",
       "    }\n",
       "\n",
       "    .dataframe thead th {\n",
       "        text-align: right;\n",
       "    }\n",
       "</style>\n",
       "<table border=\"1\" class=\"dataframe\">\n",
       "  <thead>\n",
       "    <tr style=\"text-align: right;\">\n",
       "      <th></th>\n",
       "      <th>Date</th>\n",
       "      <th>Time</th>\n",
       "      <th>f_time</th>\n",
       "      <th>julian_date</th>\n",
       "      <th>Weekday</th>\n",
       "      <th>Weekday_Name</th>\n",
       "      <th>UTC_Time</th>\n",
       "      <th>Volume</th>\n",
       "      <th>Open</th>\n",
       "      <th>High</th>\n",
       "      <th>Low</th>\n",
       "      <th>Close</th>\n",
       "      <th>SMA_10</th>\n",
       "      <th>SMA_20</th>\n",
       "      <th>F_SMA_10</th>\n",
       "      <th>F_SMA_20</th>\n",
       "      <th>col_1</th>\n",
       "      <th>col_2</th>\n",
       "      <th>col_3</th>\n",
       "    </tr>\n",
       "  </thead>\n",
       "  <tbody>\n",
       "    <tr>\n",
       "      <th>9636</th>\n",
       "      <td>2021-12-17</td>\n",
       "      <td>02:00:00</td>\n",
       "      <td>2</td>\n",
       "      <td>351</td>\n",
       "      <td>4</td>\n",
       "      <td>Friday</td>\n",
       "      <td>2021-12-17T02:00:00.000000000Z</td>\n",
       "      <td>4358</td>\n",
       "      <td>1.13210</td>\n",
       "      <td>1.13490</td>\n",
       "      <td>1.13204</td>\n",
       "      <td>1.13484</td>\n",
       "      <td>1.13119</td>\n",
       "      <td>1.12950</td>\n",
       "      <td>0.00365</td>\n",
       "      <td>0.00534</td>\n",
       "      <td>-0.00274</td>\n",
       "      <td>0.00280</td>\n",
       "      <td>0.00280</td>\n",
       "    </tr>\n",
       "    <tr>\n",
       "      <th>9637</th>\n",
       "      <td>2021-12-17</td>\n",
       "      <td>06:00:00</td>\n",
       "      <td>6</td>\n",
       "      <td>351</td>\n",
       "      <td>4</td>\n",
       "      <td>Friday</td>\n",
       "      <td>2021-12-17T06:00:00.000000000Z</td>\n",
       "      <td>12994</td>\n",
       "      <td>1.13482</td>\n",
       "      <td>1.13486</td>\n",
       "      <td>1.13172</td>\n",
       "      <td>1.13344</td>\n",
       "      <td>1.13193</td>\n",
       "      <td>1.12976</td>\n",
       "      <td>0.00151</td>\n",
       "      <td>0.00368</td>\n",
       "      <td>0.00138</td>\n",
       "      <td>0.00004</td>\n",
       "      <td>0.00172</td>\n",
       "    </tr>\n",
       "    <tr>\n",
       "      <th>9638</th>\n",
       "      <td>2021-12-17</td>\n",
       "      <td>10:00:00</td>\n",
       "      <td>10</td>\n",
       "      <td>351</td>\n",
       "      <td>4</td>\n",
       "      <td>Friday</td>\n",
       "      <td>2021-12-17T10:00:00.000000000Z</td>\n",
       "      <td>8470</td>\n",
       "      <td>1.13342</td>\n",
       "      <td>1.13342</td>\n",
       "      <td>1.13116</td>\n",
       "      <td>1.13144</td>\n",
       "      <td>1.13212</td>\n",
       "      <td>1.12994</td>\n",
       "      <td>-0.00068</td>\n",
       "      <td>0.00150</td>\n",
       "      <td>0.00198</td>\n",
       "      <td>0.00000</td>\n",
       "      <td>0.00028</td>\n",
       "    </tr>\n",
       "  </tbody>\n",
       "</table>\n",
       "</div>"
      ],
      "text/plain": [
       "            Date      Time  f_time  julian_date  Weekday Weekday_Name  \\\n",
       "9636  2021-12-17  02:00:00       2          351        4       Friday   \n",
       "9637  2021-12-17  06:00:00       6          351        4       Friday   \n",
       "9638  2021-12-17  10:00:00      10          351        4       Friday   \n",
       "\n",
       "                            UTC_Time  Volume     Open     High      Low  \\\n",
       "9636  2021-12-17T02:00:00.000000000Z    4358  1.13210  1.13490  1.13204   \n",
       "9637  2021-12-17T06:00:00.000000000Z   12994  1.13482  1.13486  1.13172   \n",
       "9638  2021-12-17T10:00:00.000000000Z    8470  1.13342  1.13342  1.13116   \n",
       "\n",
       "        Close   SMA_10   SMA_20  F_SMA_10  F_SMA_20    col_1    col_2    col_3  \n",
       "9636  1.13484  1.13119  1.12950   0.00365   0.00534 -0.00274  0.00280  0.00280  \n",
       "9637  1.13344  1.13193  1.12976   0.00151   0.00368  0.00138  0.00004  0.00172  \n",
       "9638  1.13144  1.13212  1.12994  -0.00068   0.00150  0.00198  0.00000  0.00028  "
      ]
     },
     "execution_count": 19,
     "metadata": {},
     "output_type": "execute_result"
    }
   ],
   "source": [
    "data.tail(3)"
   ]
  },
  {
   "cell_type": "markdown",
   "id": "99499e09",
   "metadata": {},
   "source": [
    "## Candlestick Number"
   ]
  },
  {
   "cell_type": "code",
   "execution_count": 20,
   "id": "ad18f299",
   "metadata": {},
   "outputs": [],
   "source": [
    "candle_no = len(data) - 2\n",
    "#candle_no = 9659"
   ]
  },
  {
   "cell_type": "code",
   "execution_count": 21,
   "id": "9055dc93",
   "metadata": {},
   "outputs": [],
   "source": [
    "def viz(data):\n",
    "    fig = go.Figure(data=[go.Candlestick(x=data['UTC_Time'],\n",
    "                open=data['Open'],\n",
    "                high=data['High'],\n",
    "                low=data['Low'],\n",
    "                close=data['Close'])])\n",
    "\n",
    "    fig.update_layout(xaxis_rangeslider_visible=False)\n",
    "    \n",
    "    fig.update_xaxes(rangebreaks=[dict(bounds=[\"sat\", \"mon\"])])\n",
    "    \n",
    "    fig.show()"
   ]
  },
  {
   "cell_type": "code",
   "execution_count": 22,
   "id": "aa7ec1ec",
   "metadata": {},
   "outputs": [],
   "source": [
    "candle = data.iloc[candle_no-3:candle_no+2]"
   ]
  },
  {
   "cell_type": "code",
   "execution_count": 23,
   "id": "89717bea",
   "metadata": {},
   "outputs": [
    {
     "data": {
      "text/html": [
       "<div>\n",
       "<style scoped>\n",
       "    .dataframe tbody tr th:only-of-type {\n",
       "        vertical-align: middle;\n",
       "    }\n",
       "\n",
       "    .dataframe tbody tr th {\n",
       "        vertical-align: top;\n",
       "    }\n",
       "\n",
       "    .dataframe thead th {\n",
       "        text-align: right;\n",
       "    }\n",
       "</style>\n",
       "<table border=\"1\" class=\"dataframe\">\n",
       "  <thead>\n",
       "    <tr style=\"text-align: right;\">\n",
       "      <th></th>\n",
       "      <th>Date</th>\n",
       "      <th>f_time</th>\n",
       "      <th>Volume</th>\n",
       "    </tr>\n",
       "  </thead>\n",
       "  <tbody>\n",
       "    <tr>\n",
       "      <th>9634</th>\n",
       "      <td>2021-12-16</td>\n",
       "      <td>18</td>\n",
       "      <td>5901</td>\n",
       "    </tr>\n",
       "    <tr>\n",
       "      <th>9635</th>\n",
       "      <td>2021-12-16</td>\n",
       "      <td>22</td>\n",
       "      <td>3329</td>\n",
       "    </tr>\n",
       "    <tr>\n",
       "      <th>9636</th>\n",
       "      <td>2021-12-17</td>\n",
       "      <td>2</td>\n",
       "      <td>4358</td>\n",
       "    </tr>\n",
       "    <tr>\n",
       "      <th>9637</th>\n",
       "      <td>2021-12-17</td>\n",
       "      <td>6</td>\n",
       "      <td>12994</td>\n",
       "    </tr>\n",
       "    <tr>\n",
       "      <th>9638</th>\n",
       "      <td>2021-12-17</td>\n",
       "      <td>10</td>\n",
       "      <td>8470</td>\n",
       "    </tr>\n",
       "  </tbody>\n",
       "</table>\n",
       "</div>"
      ],
      "text/plain": [
       "            Date  f_time  Volume\n",
       "9634  2021-12-16      18    5901\n",
       "9635  2021-12-16      22    3329\n",
       "9636  2021-12-17       2    4358\n",
       "9637  2021-12-17       6   12994\n",
       "9638  2021-12-17      10    8470"
      ]
     },
     "execution_count": 23,
     "metadata": {},
     "output_type": "execute_result"
    }
   ],
   "source": [
    "candle[['Date','f_time','Volume']]"
   ]
  },
  {
   "cell_type": "markdown",
   "id": "5e552517",
   "metadata": {},
   "source": [
    "## Average True Range (ATR)"
   ]
  },
  {
   "cell_type": "code",
   "execution_count": 24,
   "id": "9330310e",
   "metadata": {},
   "outputs": [],
   "source": [
    "high_low = data['High'] - data['Low']\n",
    "high_cp = np.abs(data['High'] - data['Close'].shift())\n",
    "low_cp = np.abs(data['Low'] - data['Close'].shift())\n",
    "df = pd.concat([high_low, high_cp, low_cp], axis=1)\n",
    "true_range = np.max(df, axis=1)\n",
    "data['ATR_14'] = true_range.rolling(14).mean()"
   ]
  },
  {
   "cell_type": "markdown",
   "id": "f69dfa27",
   "metadata": {},
   "source": [
    "## Stop Loss / TakeProfit"
   ]
  },
  {
   "cell_type": "code",
   "execution_count": 25,
   "id": "7ee1de18",
   "metadata": {},
   "outputs": [],
   "source": [
    "ATR = data.iloc[candle_no]['ATR_14']\n",
    "CLOSED_PRICE = data.iloc[candle_no]['Close']\n",
    "BUY_SL = (CLOSED_PRICE - ATR).round(5)\n",
    "SELL_SL = (CLOSED_PRICE + ATR).round(5)\n",
    "BUY_TP = (CLOSED_PRICE + ATR).round(5)\n",
    "SELL_TP = (CLOSED_PRICE - ATR).round(5)"
   ]
  },
  {
   "cell_type": "markdown",
   "id": "c1af3f32",
   "metadata": {},
   "source": [
    "## Feature Selection"
   ]
  },
  {
   "cell_type": "code",
   "execution_count": 26,
   "id": "1f8f5b09",
   "metadata": {},
   "outputs": [],
   "source": [
    "data = data[['col_1','col_2','col_3','F_SMA_10','F_SMA_20']]"
   ]
  },
  {
   "cell_type": "code",
   "execution_count": 27,
   "id": "877240e6",
   "metadata": {},
   "outputs": [
    {
     "data": {
      "text/html": [
       "<div>\n",
       "<style scoped>\n",
       "    .dataframe tbody tr th:only-of-type {\n",
       "        vertical-align: middle;\n",
       "    }\n",
       "\n",
       "    .dataframe tbody tr th {\n",
       "        vertical-align: top;\n",
       "    }\n",
       "\n",
       "    .dataframe thead th {\n",
       "        text-align: right;\n",
       "    }\n",
       "</style>\n",
       "<table border=\"1\" class=\"dataframe\">\n",
       "  <thead>\n",
       "    <tr style=\"text-align: right;\">\n",
       "      <th></th>\n",
       "      <th>col_1</th>\n",
       "      <th>col_2</th>\n",
       "      <th>col_3</th>\n",
       "      <th>F_SMA_10</th>\n",
       "      <th>F_SMA_20</th>\n",
       "    </tr>\n",
       "  </thead>\n",
       "  <tbody>\n",
       "    <tr>\n",
       "      <th>0</th>\n",
       "      <td>-0.00566</td>\n",
       "      <td>0.00681</td>\n",
       "      <td>0.0057</td>\n",
       "      <td>0.00505</td>\n",
       "      <td>0.00547</td>\n",
       "    </tr>\n",
       "  </tbody>\n",
       "</table>\n",
       "</div>"
      ],
      "text/plain": [
       "     col_1    col_2   col_3  F_SMA_10  F_SMA_20\n",
       "0 -0.00566  0.00681  0.0057   0.00505   0.00547"
      ]
     },
     "execution_count": 27,
     "metadata": {},
     "output_type": "execute_result"
    }
   ],
   "source": [
    "data.head(1)"
   ]
  },
  {
   "cell_type": "markdown",
   "id": "948a43c9",
   "metadata": {},
   "source": [
    "## Model"
   ]
  },
  {
   "cell_type": "code",
   "execution_count": 28,
   "id": "6db75a92",
   "metadata": {},
   "outputs": [],
   "source": [
    "def find_k_similar_candles(candle_id, dataset, k=5):\n",
    "    indices=[]\n",
    "    distances = []\n",
    "    output = []\n",
    "    model_knn = NearestNeighbors(metric = 'euclidean', algorithm = 'brute') \n",
    "    model_knn.fit(dataset)\n",
    "    \n",
    "    distances, indices = model_knn.kneighbors(dataset.iloc[candle_id,:].values.reshape(1,-1),\n",
    "                                              n_neighbors = k)\n",
    "\n",
    "    for i in range(0,len(distances.flatten())):\n",
    "        if i==0:\n",
    "            display (pd.DataFrame(data.iloc[candle_id]).transpose())\n",
    "        else:\n",
    "            output.append ([dataset.index[indices.flatten()[i]],\n",
    "                            distances.flatten()[i],\n",
    "                            dataset.iloc[indices.flatten()[i]]['col_1'],\n",
    "                            dataset.iloc[indices.flatten()[i]]['col_2'],\n",
    "                            dataset.iloc[indices.flatten()[i]]['col_3'],\n",
    "                            dataset.iloc[indices.flatten()[i]]['F_SMA_10'],\n",
    "                            dataset.iloc[indices.flatten()[i]]['F_SMA_20'],\n",
    "                           ])\n",
    "    \n",
    "    output = pd.DataFrame(output)\n",
    "    output.columns = ['Indice','Distance',\n",
    "                      'col_1',\n",
    "                      'col_2',\n",
    "                      'col_3',\n",
    "                      'F_SMA_10',\n",
    "                      'F_SMA_20',\n",
    "                     ]\n",
    "    \n",
    "    return indices, distances"
   ]
  },
  {
   "cell_type": "code",
   "execution_count": 29,
   "id": "5abe49eb",
   "metadata": {},
   "outputs": [
    {
     "data": {
      "text/html": [
       "<div>\n",
       "<style scoped>\n",
       "    .dataframe tbody tr th:only-of-type {\n",
       "        vertical-align: middle;\n",
       "    }\n",
       "\n",
       "    .dataframe tbody tr th {\n",
       "        vertical-align: top;\n",
       "    }\n",
       "\n",
       "    .dataframe thead th {\n",
       "        text-align: right;\n",
       "    }\n",
       "</style>\n",
       "<table border=\"1\" class=\"dataframe\">\n",
       "  <thead>\n",
       "    <tr style=\"text-align: right;\">\n",
       "      <th></th>\n",
       "      <th>col_1</th>\n",
       "      <th>col_2</th>\n",
       "      <th>col_3</th>\n",
       "      <th>F_SMA_10</th>\n",
       "      <th>F_SMA_20</th>\n",
       "    </tr>\n",
       "  </thead>\n",
       "  <tbody>\n",
       "    <tr>\n",
       "      <th>9637</th>\n",
       "      <td>0.00138</td>\n",
       "      <td>0.00004</td>\n",
       "      <td>0.00172</td>\n",
       "      <td>0.00151</td>\n",
       "      <td>0.00368</td>\n",
       "    </tr>\n",
       "  </tbody>\n",
       "</table>\n",
       "</div>"
      ],
      "text/plain": [
       "        col_1    col_2    col_3  F_SMA_10  F_SMA_20\n",
       "9637  0.00138  0.00004  0.00172   0.00151   0.00368"
      ]
     },
     "metadata": {},
     "output_type": "display_data"
    }
   ],
   "source": [
    "indices, distances = find_k_similar_candles (candle_no,data)"
   ]
  },
  {
   "cell_type": "markdown",
   "id": "505ac5b5",
   "metadata": {},
   "source": [
    "## Final Action"
   ]
  },
  {
   "cell_type": "code",
   "execution_count": 30,
   "id": "09f252fc",
   "metadata": {},
   "outputs": [],
   "source": [
    "indices = indices[0:1][0]"
   ]
  },
  {
   "cell_type": "code",
   "execution_count": 31,
   "id": "39c96070",
   "metadata": {},
   "outputs": [
    {
     "data": {
      "text/plain": [
       "array([9637, 6715, 8131, 8350, 6808])"
      ]
     },
     "execution_count": 31,
     "metadata": {},
     "output_type": "execute_result"
    }
   ],
   "source": [
    "indices"
   ]
  },
  {
   "cell_type": "code",
   "execution_count": 32,
   "id": "0a5dc6c5",
   "metadata": {},
   "outputs": [],
   "source": [
    "recs = []\n",
    "\n",
    "for indice in indices[1:5]:\n",
    "    \n",
    "    data = pd.read_csv(filename) \n",
    "    data = data.iloc[indice:indice+7]\n",
    "    \n",
    "    data['candleno'] = range (1, len(data) + 1)\n",
    "    X = data['candleno'].values.reshape(-1, 1)\n",
    "    Y = data['Close'].values.reshape(-1, 1)\n",
    "    linear_regressor = LinearRegression()\n",
    "    linear_regressor.fit(X, Y)\n",
    "    y_pred = linear_regressor.predict(X)\n",
    "    \n",
    "    coeficient = (linear_regressor.coef_)\n",
    "    \n",
    "    if coeficient > 0:\n",
    "        recs.append((r2_score(Y, y_pred).round(2)*100))\n",
    "    else:\n",
    "        recs.append((r2_score(Y, y_pred).round(2)*100) * -1)"
   ]
  },
  {
   "cell_type": "code",
   "execution_count": 33,
   "id": "04d4c27a",
   "metadata": {},
   "outputs": [],
   "source": [
    "data_unseen = pd.DataFrame ({'Rec1_Score': [recs[0]], 'Rec2_Score': [recs[1]], 'Rec3_Score':[recs[2]], 'Rec4_Score':[recs[3]]})"
   ]
  },
  {
   "cell_type": "code",
   "execution_count": 34,
   "id": "997ce9b0",
   "metadata": {},
   "outputs": [
    {
     "data": {
      "text/html": [
       "<div>\n",
       "<style scoped>\n",
       "    .dataframe tbody tr th:only-of-type {\n",
       "        vertical-align: middle;\n",
       "    }\n",
       "\n",
       "    .dataframe tbody tr th {\n",
       "        vertical-align: top;\n",
       "    }\n",
       "\n",
       "    .dataframe thead th {\n",
       "        text-align: right;\n",
       "    }\n",
       "</style>\n",
       "<table border=\"1\" class=\"dataframe\">\n",
       "  <thead>\n",
       "    <tr style=\"text-align: right;\">\n",
       "      <th></th>\n",
       "      <th>Rec1_Score</th>\n",
       "      <th>Rec2_Score</th>\n",
       "      <th>Rec3_Score</th>\n",
       "      <th>Rec4_Score</th>\n",
       "    </tr>\n",
       "  </thead>\n",
       "  <tbody>\n",
       "    <tr>\n",
       "      <th>0</th>\n",
       "      <td>-68.0</td>\n",
       "      <td>8.0</td>\n",
       "      <td>62.0</td>\n",
       "      <td>33.0</td>\n",
       "    </tr>\n",
       "  </tbody>\n",
       "</table>\n",
       "</div>"
      ],
      "text/plain": [
       "   Rec1_Score  Rec2_Score  Rec3_Score  Rec4_Score\n",
       "0       -68.0         8.0        62.0        33.0"
      ]
     },
     "execution_count": 34,
     "metadata": {},
     "output_type": "execute_result"
    }
   ],
   "source": [
    "data_unseen"
   ]
  },
  {
   "cell_type": "code",
   "execution_count": 35,
   "id": "c18516cc",
   "metadata": {},
   "outputs": [
    {
     "name": "stdout",
     "output_type": "stream",
     "text": [
      "Transformation Pipeline and Model Successfully Loaded\n"
     ]
    },
    {
     "data": {
      "text/html": [
       "<div>\n",
       "<style scoped>\n",
       "    .dataframe tbody tr th:only-of-type {\n",
       "        vertical-align: middle;\n",
       "    }\n",
       "\n",
       "    .dataframe tbody tr th {\n",
       "        vertical-align: top;\n",
       "    }\n",
       "\n",
       "    .dataframe thead th {\n",
       "        text-align: right;\n",
       "    }\n",
       "</style>\n",
       "<table border=\"1\" class=\"dataframe\">\n",
       "  <thead>\n",
       "    <tr style=\"text-align: right;\">\n",
       "      <th></th>\n",
       "      <th>Rec1_Score</th>\n",
       "      <th>Rec2_Score</th>\n",
       "      <th>Rec3_Score</th>\n",
       "      <th>Rec4_Score</th>\n",
       "      <th>Label</th>\n",
       "      <th>Score</th>\n",
       "    </tr>\n",
       "  </thead>\n",
       "  <tbody>\n",
       "    <tr>\n",
       "      <th>0</th>\n",
       "      <td>-68.0</td>\n",
       "      <td>8.0</td>\n",
       "      <td>62.0</td>\n",
       "      <td>33.0</td>\n",
       "      <td>1</td>\n",
       "      <td>0.5473</td>\n",
       "    </tr>\n",
       "  </tbody>\n",
       "</table>\n",
       "</div>"
      ],
      "text/plain": [
       "   Rec1_Score  Rec2_Score  Rec3_Score  Rec4_Score  Label   Score\n",
       "0       -68.0         8.0        62.0        33.0      1  0.5473"
      ]
     },
     "execution_count": 35,
     "metadata": {},
     "output_type": "execute_result"
    }
   ],
   "source": [
    "SAVED_FINAL_MODEL = load_model('EURUSD/14-12-2021_12-59_AM_knn_EURUSD')\n",
    "new_prediction = predict_model(SAVED_FINAL_MODEL, data=data_unseen)\n",
    "new_prediction.head()"
   ]
  },
  {
   "cell_type": "code",
   "execution_count": 36,
   "id": "e204b7e5",
   "metadata": {},
   "outputs": [
    {
     "data": {
      "text/plain": [
       "1"
      ]
     },
     "execution_count": 36,
     "metadata": {},
     "output_type": "execute_result"
    }
   ],
   "source": [
    "KNN_Pre = new_prediction['Label']\n",
    "KNN_Pre[0]"
   ]
  },
  {
   "cell_type": "code",
   "execution_count": 37,
   "id": "b4b48533",
   "metadata": {},
   "outputs": [
    {
     "name": "stdout",
     "output_type": "stream",
     "text": [
      "Transformation Pipeline and Model Successfully Loaded\n"
     ]
    },
    {
     "data": {
      "text/html": [
       "<div>\n",
       "<style scoped>\n",
       "    .dataframe tbody tr th:only-of-type {\n",
       "        vertical-align: middle;\n",
       "    }\n",
       "\n",
       "    .dataframe tbody tr th {\n",
       "        vertical-align: top;\n",
       "    }\n",
       "\n",
       "    .dataframe thead th {\n",
       "        text-align: right;\n",
       "    }\n",
       "</style>\n",
       "<table border=\"1\" class=\"dataframe\">\n",
       "  <thead>\n",
       "    <tr style=\"text-align: right;\">\n",
       "      <th></th>\n",
       "      <th>Rec1_Score</th>\n",
       "      <th>Rec2_Score</th>\n",
       "      <th>Rec3_Score</th>\n",
       "      <th>Rec4_Score</th>\n",
       "      <th>Label</th>\n",
       "      <th>Score</th>\n",
       "    </tr>\n",
       "  </thead>\n",
       "  <tbody>\n",
       "    <tr>\n",
       "      <th>0</th>\n",
       "      <td>-68.0</td>\n",
       "      <td>8.0</td>\n",
       "      <td>62.0</td>\n",
       "      <td>33.0</td>\n",
       "      <td>1</td>\n",
       "      <td>0.7616</td>\n",
       "    </tr>\n",
       "  </tbody>\n",
       "</table>\n",
       "</div>"
      ],
      "text/plain": [
       "   Rec1_Score  Rec2_Score  Rec3_Score  Rec4_Score  Label   Score\n",
       "0       -68.0         8.0        62.0        33.0      1  0.7616"
      ]
     },
     "execution_count": 37,
     "metadata": {},
     "output_type": "execute_result"
    }
   ],
   "source": [
    "SAVED_FINAL_MODEL = load_model('EURUSD/14-12-2021_09-08_AM_gbc_EURUSD')\n",
    "new_prediction = predict_model(SAVED_FINAL_MODEL, data=data_unseen)\n",
    "new_prediction.head()"
   ]
  },
  {
   "cell_type": "code",
   "execution_count": 38,
   "id": "f030a55e",
   "metadata": {},
   "outputs": [
    {
     "data": {
      "text/plain": [
       "1"
      ]
     },
     "execution_count": 38,
     "metadata": {},
     "output_type": "execute_result"
    }
   ],
   "source": [
    "GBC_Pre = new_prediction['Label']\n",
    "GBC_Pre[0]"
   ]
  },
  {
   "cell_type": "code",
   "execution_count": 43,
   "id": "695e7df2",
   "metadata": {},
   "outputs": [
    {
     "data": {
      "text/plain": [
       "'EUR_USD'"
      ]
     },
     "execution_count": 43,
     "metadata": {},
     "output_type": "execute_result"
    }
   ],
   "source": [
    "pair"
   ]
  },
  {
   "cell_type": "code",
   "execution_count": 39,
   "id": "881a0eba",
   "metadata": {},
   "outputs": [
    {
     "data": {
      "text/plain": [
       "1.13028"
      ]
     },
     "execution_count": 39,
     "metadata": {},
     "output_type": "execute_result"
    }
   ],
   "source": [
    "BUY_SL"
   ]
  },
  {
   "cell_type": "code",
   "execution_count": 40,
   "id": "8e48a21c",
   "metadata": {},
   "outputs": [
    {
     "data": {
      "text/plain": [
       "1.1366"
      ]
     },
     "execution_count": 40,
     "metadata": {},
     "output_type": "execute_result"
    }
   ],
   "source": [
    "BUY_TP"
   ]
  },
  {
   "cell_type": "code",
   "execution_count": 41,
   "id": "537c976c",
   "metadata": {},
   "outputs": [
    {
     "data": {
      "text/plain": [
       "1.1366"
      ]
     },
     "execution_count": 41,
     "metadata": {},
     "output_type": "execute_result"
    }
   ],
   "source": [
    "SELL_SL"
   ]
  },
  {
   "cell_type": "code",
   "execution_count": 42,
   "id": "ded86b38",
   "metadata": {},
   "outputs": [
    {
     "data": {
      "text/plain": [
       "1.13028"
      ]
     },
     "execution_count": 42,
     "metadata": {},
     "output_type": "execute_result"
    }
   ],
   "source": [
    "SELL_TP"
   ]
  }
 ],
 "metadata": {
  "kernelspec": {
   "display_name": "Python 3 (ipykernel)",
   "language": "python",
   "name": "python3"
  },
  "language_info": {
   "codemirror_mode": {
    "name": "ipython",
    "version": 3
   },
   "file_extension": ".py",
   "mimetype": "text/x-python",
   "name": "python",
   "nbconvert_exporter": "python",
   "pygments_lexer": "ipython3",
   "version": "3.8.10"
  }
 },
 "nbformat": 4,
 "nbformat_minor": 5
}
