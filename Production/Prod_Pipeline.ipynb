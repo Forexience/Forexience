{
 "cells": [
  {
   "cell_type": "code",
   "execution_count": 1,
   "id": "2e53e8b5",
   "metadata": {},
   "outputs": [],
   "source": [
    "import requests\n",
    "import pandas as pd\n",
    "import numpy as np\n",
    "from datetime import datetime, timezone\n",
    "import dateutil.parser as parser\n",
    "from dateutil.relativedelta import relativedelta\n",
    "import calendar\n",
    "import yaml\n",
    "import warnings\n",
    "warnings.filterwarnings('ignore')\n",
    "from sklearn.neighbors import NearestNeighbors\n",
    "from sklearn.linear_model import LinearRegression\n",
    "from sklearn.metrics import r2_score\n",
    "from pycaret.classification import *"
   ]
  },
  {
   "cell_type": "code",
   "execution_count": 2,
   "id": "fdfd271d",
   "metadata": {},
   "outputs": [],
   "source": [
    "pd.get_option(\"display.max_columns\", None)\n",
    "now = datetime.now()"
   ]
  },
  {
   "cell_type": "code",
   "execution_count": 3,
   "id": "b6a0606e",
   "metadata": {},
   "outputs": [],
   "source": [
    "def convert_date(utc_time): \n",
    "    parsed_date = parser.parse(utc_time)\n",
    "    var_date=parsed_date.date()\n",
    "    var_time=parsed_date.time()\n",
    "    var_f_time=var_time.hour\n",
    "    var_julian_date=parsed_date.timetuple().tm_yday\n",
    "    var_weekday=parsed_date.weekday()\n",
    "    var_weekday_name=calendar.day_name[parsed_date.weekday()]\n",
    "    return var_date, var_time, var_f_time, var_julian_date, var_weekday, var_weekday_name"
   ]
  },
  {
   "cell_type": "code",
   "execution_count": 4,
   "id": "020b4cd6",
   "metadata": {},
   "outputs": [],
   "source": [
    "with open ('config.yml') as ymlfile:\n",
    "    cfg = yaml.safe_load(ymlfile)\n",
    "    oanda_api_key = cfg['creds']['oanda_api']\n",
    "    account_number = cfg['creds']['account_number'] "
   ]
  },
  {
   "cell_type": "code",
   "execution_count": 5,
   "id": "2c1d8ea4",
   "metadata": {},
   "outputs": [],
   "source": [
    "Load_10K_Records=True\n",
    "currency_pairs = [\"EUR_USD\"]\n",
    "timeframe = \"H4\"\n",
    "price_char = \"M\"\n",
    "price_com = \"mid\""
   ]
  },
  {
   "cell_type": "code",
   "execution_count": 6,
   "id": "70c67074",
   "metadata": {},
   "outputs": [],
   "source": [
    "provider_api_url = 'https://api-fxpractice.oanda.com/v3/accounts/{}/orders'.format(account_number)\n",
    "request_headers = {\n",
    "    \"Authorization\": oanda_api_key,\n",
    "    \"Accept-Datetime-Format\": \"RFC3339\",\n",
    "    \"Connection\": \"Keep-Alive\",\n",
    "    \"Content-Type\": \"application/json;charset=UTF-8\"\n",
    "}"
   ]
  },
  {
   "cell_type": "code",
   "execution_count": 7,
   "id": "8fb6d121",
   "metadata": {},
   "outputs": [],
   "source": [
    "provider_authorization = 'Bearer {0}'.format(oanda_api_key)\n",
    "\n",
    "headers = {\n",
    "    'Content-Type': 'application/json',\n",
    "    'Authorization': provider_authorization,\n",
    "}"
   ]
  },
  {
   "cell_type": "code",
   "execution_count": 8,
   "id": "e307a5e9",
   "metadata": {},
   "outputs": [],
   "source": [
    "for pair in currency_pairs:\n",
    "    pricing_params = (\n",
    "        ('instruments', pair),\n",
    "    )\n",
    "    response = requests.get('https://api-fxpractice.oanda.com/v3/accounts/{}/pricing'.format(account_number),\n",
    "                            headers=headers,\n",
    "                            params=pricing_params).json()"
   ]
  },
  {
   "cell_type": "code",
   "execution_count": 9,
   "id": "7eceb53a",
   "metadata": {},
   "outputs": [],
   "source": [
    "response = requests.get('https://api-fxpractice.oanda.com/v3/accounts/{}/openPositions'.format(account_number),\n",
    "                            headers=headers,\n",
    "                            params=pricing_params).json()"
   ]
  },
  {
   "cell_type": "code",
   "execution_count": 10,
   "id": "63e77f7d",
   "metadata": {},
   "outputs": [
    {
     "data": {
      "text/plain": [
       "[{'instrument': 'EUR_USD',\n",
       "  'long': {'units': '1',\n",
       "   'averagePrice': '1.12273',\n",
       "   'pl': '0.0000',\n",
       "   'resettablePL': '0.0000',\n",
       "   'financing': '0.0000',\n",
       "   'dividendAdjustment': '0.0000',\n",
       "   'guaranteedExecutionFees': '0.0000',\n",
       "   'tradeIDs': ['5'],\n",
       "   'unrealizedPL': '0.0003'},\n",
       "  'short': {'units': '0',\n",
       "   'pl': '0.0000',\n",
       "   'resettablePL': '0.0000',\n",
       "   'financing': '0.0000',\n",
       "   'dividendAdjustment': '0.0000',\n",
       "   'guaranteedExecutionFees': '0.0000',\n",
       "   'unrealizedPL': '0.0000'},\n",
       "  'pl': '0.0000',\n",
       "  'resettablePL': '0.0000',\n",
       "  'financing': '0.0000',\n",
       "  'commission': '0.0000',\n",
       "  'dividendAdjustment': '0.0000',\n",
       "  'guaranteedExecutionFees': '0.0000',\n",
       "  'unrealizedPL': '0.0003',\n",
       "  'marginUsed': '0.0333'}]"
      ]
     },
     "execution_count": 10,
     "metadata": {},
     "output_type": "execute_result"
    }
   ],
   "source": [
    "response['positions']"
   ]
  },
  {
   "cell_type": "code",
   "execution_count": null,
   "id": "ec0f3ab7",
   "metadata": {},
   "outputs": [],
   "source": [
    "params_count = (\n",
    "    ('price', price_char),\n",
    "    ('count', '5000'),\n",
    "    ('granularity', timeframe),\n",
    ")"
   ]
  },
  {
   "cell_type": "code",
   "execution_count": null,
   "id": "f0b026e5",
   "metadata": {},
   "outputs": [],
   "source": [
    "for pair in currency_pairs:\n",
    "    first_response = requests.get('https://api-fxpractice.oanda.com/v3/instruments/{}/candles'.format(pair), \n",
    "                            headers=headers,\n",
    "                            params=params_count).json()"
   ]
  },
  {
   "cell_type": "code",
   "execution_count": null,
   "id": "d806d25a",
   "metadata": {},
   "outputs": [],
   "source": [
    "if Load_10K_Records:\n",
    "    datetime_object = parser.parse(first_response['candles'][0]['time'])\n",
    "    date= datetime_object - relativedelta(years=3)  \n",
    "    from_date = date.replace(tzinfo=timezone.utc).timestamp()\n",
    "    params_date = (\n",
    "        ('count', '5000'),\n",
    "        ('price', price_char),\n",
    "        ('from', from_date),\n",
    "        ('granularity', timeframe),)\n",
    "\n",
    "    second_response = requests.get('https://api-fxpractice.oanda.com/v3/instruments/{}/candles'.format(pair),\n",
    "                                   headers=headers,\n",
    "                                   params=params_date).json()\n",
    "            \n",
    "    first_response= first_response['candles']  \n",
    "    second_response= second_response['candles']\n",
    "    second_response.extend(first_response)\n",
    "    response=second_response\n",
    "else:\n",
    "    response=first_response['candles']"
   ]
  },
  {
   "cell_type": "code",
   "execution_count": null,
   "id": "70a1b242",
   "metadata": {},
   "outputs": [],
   "source": [
    "filename = \"{}_{}.csv\".format(pair, timeframe)\n",
    "output = []\n",
    "all_candlesticks = response\n",
    "\n",
    "for i in range (len(all_candlesticks)):\n",
    "    result= (convert_date(response[i]['time']))\n",
    "    output.append([(result[0]),(result[1]),(result[2]),(result[3]),(result[4]),(result[5]),\n",
    "                    response[i]['time'],\n",
    "                    response[i]['volume'], \n",
    "                    response[i][price_com]['o'],\n",
    "                    response[i][price_com]['h'],\n",
    "                    response[i][price_com]['l'],\n",
    "                    response[i][price_com]['c']])\n",
    "    \n",
    "output = pd.DataFrame(output)\n",
    "output.columns = ['Date','Time','f_time','julian_date','Weekday','Weekday_Name','UTC_Time', 'Volume', 'Open', 'High', 'Low', 'Close']\n",
    "data = output.to_csv(filename, header = True, index = False)\n",
    "data = pd.read_csv(filename)"
   ]
  },
  {
   "cell_type": "code",
   "execution_count": null,
   "id": "a6ec2507",
   "metadata": {},
   "outputs": [],
   "source": [
    "data = data.drop_duplicates()\n",
    "data = data.dropna()\n",
    "data = data.to_csv(filename, header = True, index = False)\n",
    "data = pd.read_csv(filename)"
   ]
  },
  {
   "cell_type": "markdown",
   "id": "e57ca336",
   "metadata": {},
   "source": [
    "## Simple Moving Average (SMA)"
   ]
  },
  {
   "cell_type": "code",
   "execution_count": null,
   "id": "26a5ba4d",
   "metadata": {},
   "outputs": [],
   "source": [
    "data['SMA_10'] = data['Close'].rolling(window=10).mean().round(5)\n",
    "data['SMA_20'] = data['Close'].rolling(window=20).mean().round(5)"
   ]
  },
  {
   "cell_type": "markdown",
   "id": "f1965535",
   "metadata": {},
   "source": [
    "## Moving Average Range"
   ]
  },
  {
   "cell_type": "code",
   "execution_count": null,
   "id": "9958ec96",
   "metadata": {},
   "outputs": [],
   "source": [
    "data['F_SMA_10'] = data['Close'] - data['SMA_10']\n",
    "data['F_SMA_20'] = data['Close'] - data['SMA_20']"
   ]
  },
  {
   "cell_type": "markdown",
   "id": "2cb26fd0",
   "metadata": {},
   "source": [
    "## Price Range"
   ]
  },
  {
   "cell_type": "code",
   "execution_count": null,
   "id": "ed480fcf",
   "metadata": {},
   "outputs": [],
   "source": [
    "data['col_1'] = data['Open'] - data['Close']\n",
    "\n",
    "for value in data['col_1']:   \n",
    "    if value > 0:\n",
    "        data['col_2'] = data['High'] - data['Open']\n",
    "        data['col_3'] = data['Close'] - data['Low']\n",
    "    else:\n",
    "        data['col_2'] = data['High'] - data['Close']\n",
    "        data['col_3'] = data['Open'] - data['Low']"
   ]
  },
  {
   "cell_type": "code",
   "execution_count": null,
   "id": "5df5d460",
   "metadata": {},
   "outputs": [],
   "source": [
    "data = data.drop_duplicates()\n",
    "data = data.dropna()\n",
    "data = data.to_csv(filename, header = True, index = False)\n",
    "data = pd.read_csv(filename)"
   ]
  },
  {
   "cell_type": "code",
   "execution_count": null,
   "id": "c234968c",
   "metadata": {},
   "outputs": [],
   "source": [
    "data.tail(3)"
   ]
  },
  {
   "cell_type": "markdown",
   "id": "99499e09",
   "metadata": {},
   "source": [
    "## Candlestick Number"
   ]
  },
  {
   "cell_type": "code",
   "execution_count": null,
   "id": "ad18f299",
   "metadata": {},
   "outputs": [],
   "source": [
    "candle_no = len(data) - 2\n",
    "#candle_no = 9659"
   ]
  },
  {
   "cell_type": "code",
   "execution_count": null,
   "id": "9055dc93",
   "metadata": {},
   "outputs": [],
   "source": [
    "def viz(data):\n",
    "    fig = go.Figure(data=[go.Candlestick(x=data['UTC_Time'],\n",
    "                open=data['Open'],\n",
    "                high=data['High'],\n",
    "                low=data['Low'],\n",
    "                close=data['Close'])])\n",
    "\n",
    "    fig.update_layout(xaxis_rangeslider_visible=False)\n",
    "    \n",
    "    fig.update_xaxes(rangebreaks=[dict(bounds=[\"sat\", \"mon\"])])\n",
    "    \n",
    "    fig.show()"
   ]
  },
  {
   "cell_type": "code",
   "execution_count": null,
   "id": "aa7ec1ec",
   "metadata": {},
   "outputs": [],
   "source": [
    "candle = data.iloc[candle_no-3:candle_no+2]"
   ]
  },
  {
   "cell_type": "code",
   "execution_count": null,
   "id": "89717bea",
   "metadata": {},
   "outputs": [],
   "source": [
    "candle[['Date','f_time','Volume']]"
   ]
  },
  {
   "cell_type": "markdown",
   "id": "5e552517",
   "metadata": {},
   "source": [
    "## Average True Range (ATR)"
   ]
  },
  {
   "cell_type": "code",
   "execution_count": null,
   "id": "9330310e",
   "metadata": {},
   "outputs": [],
   "source": [
    "high_low = data['High'] - data['Low']\n",
    "high_cp = np.abs(data['High'] - data['Close'].shift())\n",
    "low_cp = np.abs(data['Low'] - data['Close'].shift())\n",
    "df = pd.concat([high_low, high_cp, low_cp], axis=1)\n",
    "true_range = np.max(df, axis=1)\n",
    "data['ATR_14'] = true_range.rolling(14).mean()"
   ]
  },
  {
   "cell_type": "markdown",
   "id": "f69dfa27",
   "metadata": {},
   "source": [
    "## Stop Loss / TakeProfit"
   ]
  },
  {
   "cell_type": "code",
   "execution_count": null,
   "id": "7ee1de18",
   "metadata": {},
   "outputs": [],
   "source": [
    "ATR = data.iloc[candle_no]['ATR_14']\n",
    "CLOSED_PRICE = data.iloc[candle_no]['Close']\n",
    "BUY_SL = (CLOSED_PRICE - ATR).round(5)\n",
    "SELL_SL = (CLOSED_PRICE + ATR).round(5)\n",
    "BUY_TP = (CLOSED_PRICE + ATR).round(5)\n",
    "SELL_TP = (CLOSED_PRICE - ATR).round(5)"
   ]
  },
  {
   "cell_type": "markdown",
   "id": "c1af3f32",
   "metadata": {},
   "source": [
    "## Feature Selection"
   ]
  },
  {
   "cell_type": "code",
   "execution_count": null,
   "id": "1f8f5b09",
   "metadata": {},
   "outputs": [],
   "source": [
    "data = data[['col_1','col_2','col_3','F_SMA_10','F_SMA_20']]"
   ]
  },
  {
   "cell_type": "code",
   "execution_count": null,
   "id": "877240e6",
   "metadata": {},
   "outputs": [],
   "source": [
    "data.head(1)"
   ]
  },
  {
   "cell_type": "markdown",
   "id": "948a43c9",
   "metadata": {},
   "source": [
    "## Model"
   ]
  },
  {
   "cell_type": "code",
   "execution_count": null,
   "id": "6db75a92",
   "metadata": {},
   "outputs": [],
   "source": [
    "def find_k_similar_candles(candle_id, dataset, k=5):\n",
    "    indices=[]\n",
    "    distances = []\n",
    "    output = []\n",
    "    model_knn = NearestNeighbors(metric = 'euclidean', algorithm = 'brute') \n",
    "    model_knn.fit(dataset)\n",
    "    \n",
    "    distances, indices = model_knn.kneighbors(dataset.iloc[candle_id,:].values.reshape(1,-1),\n",
    "                                              n_neighbors = k)\n",
    "\n",
    "    for i in range(0,len(distances.flatten())):\n",
    "        if i==0:\n",
    "            display (pd.DataFrame(data.iloc[candle_id]).transpose())\n",
    "        else:\n",
    "            output.append ([dataset.index[indices.flatten()[i]],\n",
    "                            distances.flatten()[i],\n",
    "                            dataset.iloc[indices.flatten()[i]]['col_1'],\n",
    "                            dataset.iloc[indices.flatten()[i]]['col_2'],\n",
    "                            dataset.iloc[indices.flatten()[i]]['col_3'],\n",
    "                            dataset.iloc[indices.flatten()[i]]['F_SMA_10'],\n",
    "                            dataset.iloc[indices.flatten()[i]]['F_SMA_20'],\n",
    "                           ])\n",
    "    \n",
    "    output = pd.DataFrame(output)\n",
    "    output.columns = ['Indice','Distance',\n",
    "                      'col_1',\n",
    "                      'col_2',\n",
    "                      'col_3',\n",
    "                      'F_SMA_10',\n",
    "                      'F_SMA_20',\n",
    "                     ]\n",
    "    \n",
    "    return indices, distances"
   ]
  },
  {
   "cell_type": "code",
   "execution_count": null,
   "id": "5abe49eb",
   "metadata": {},
   "outputs": [],
   "source": [
    "indices, distances = find_k_similar_candles (candle_no,data)"
   ]
  },
  {
   "cell_type": "markdown",
   "id": "505ac5b5",
   "metadata": {},
   "source": [
    "## Final Action"
   ]
  },
  {
   "cell_type": "code",
   "execution_count": null,
   "id": "09f252fc",
   "metadata": {},
   "outputs": [],
   "source": [
    "indices = indices[0:1][0]"
   ]
  },
  {
   "cell_type": "code",
   "execution_count": null,
   "id": "39c96070",
   "metadata": {},
   "outputs": [],
   "source": [
    "indices"
   ]
  },
  {
   "cell_type": "code",
   "execution_count": null,
   "id": "0a5dc6c5",
   "metadata": {},
   "outputs": [],
   "source": [
    "recs = []\n",
    "\n",
    "for indice in indices[1:5]:\n",
    "    \n",
    "    data = pd.read_csv(filename) \n",
    "    data = data.iloc[indice:indice+7]\n",
    "    \n",
    "    data['candleno'] = range (1, len(data) + 1)\n",
    "    X = data['candleno'].values.reshape(-1, 1)\n",
    "    Y = data['Close'].values.reshape(-1, 1)\n",
    "    linear_regressor = LinearRegression()\n",
    "    linear_regressor.fit(X, Y)\n",
    "    y_pred = linear_regressor.predict(X)\n",
    "    \n",
    "    coeficient = (linear_regressor.coef_)\n",
    "    \n",
    "    if coeficient > 0:\n",
    "        recs.append((r2_score(Y, y_pred).round(2)*100))\n",
    "    else:\n",
    "        recs.append((r2_score(Y, y_pred).round(2)*100) * -1)"
   ]
  },
  {
   "cell_type": "code",
   "execution_count": null,
   "id": "04d4c27a",
   "metadata": {},
   "outputs": [],
   "source": [
    "data_unseen = pd.DataFrame ({'Rec1_Score': [recs[0]], 'Rec2_Score': [recs[1]], 'Rec3_Score':[recs[2]], 'Rec4_Score':[recs[3]]})"
   ]
  },
  {
   "cell_type": "code",
   "execution_count": null,
   "id": "997ce9b0",
   "metadata": {},
   "outputs": [],
   "source": [
    "data_unseen"
   ]
  },
  {
   "cell_type": "code",
   "execution_count": null,
   "id": "c18516cc",
   "metadata": {},
   "outputs": [],
   "source": [
    "SAVED_FINAL_MODEL = load_model('EURUSD/14-12-2021_12-59_AM_knn_EURUSD')\n",
    "new_prediction = predict_model(SAVED_FINAL_MODEL, data=data_unseen)\n",
    "new_prediction.head()"
   ]
  },
  {
   "cell_type": "code",
   "execution_count": null,
   "id": "e204b7e5",
   "metadata": {},
   "outputs": [],
   "source": [
    "KNN_Pre = new_prediction['Label']\n",
    "KNN_Pre[0]"
   ]
  },
  {
   "cell_type": "code",
   "execution_count": null,
   "id": "b4b48533",
   "metadata": {},
   "outputs": [],
   "source": [
    "SAVED_FINAL_MODEL = load_model('EURUSD/14-12-2021_09-08_AM_gbc_EURUSD')\n",
    "new_prediction = predict_model(SAVED_FINAL_MODEL, data=data_unseen)\n",
    "new_prediction.head()"
   ]
  },
  {
   "cell_type": "code",
   "execution_count": null,
   "id": "f030a55e",
   "metadata": {},
   "outputs": [],
   "source": [
    "GBC_Pre = new_prediction['Label']\n",
    "GBC_Pre[0]"
   ]
  },
  {
   "cell_type": "code",
   "execution_count": null,
   "id": "695e7df2",
   "metadata": {},
   "outputs": [],
   "source": [
    "pair"
   ]
  },
  {
   "cell_type": "code",
   "execution_count": null,
   "id": "881a0eba",
   "metadata": {},
   "outputs": [],
   "source": [
    "BUY_SL"
   ]
  },
  {
   "cell_type": "code",
   "execution_count": null,
   "id": "8e48a21c",
   "metadata": {},
   "outputs": [],
   "source": [
    "BUY_TP"
   ]
  },
  {
   "cell_type": "code",
   "execution_count": null,
   "id": "537c976c",
   "metadata": {},
   "outputs": [],
   "source": [
    "SELL_SL"
   ]
  },
  {
   "cell_type": "code",
   "execution_count": null,
   "id": "ded86b38",
   "metadata": {},
   "outputs": [],
   "source": [
    "SELL_TP"
   ]
  }
 ],
 "metadata": {
  "kernelspec": {
   "display_name": "Python 3 (ipykernel)",
   "language": "python",
   "name": "python3"
  },
  "language_info": {
   "codemirror_mode": {
    "name": "ipython",
    "version": 3
   },
   "file_extension": ".py",
   "mimetype": "text/x-python",
   "name": "python",
   "nbconvert_exporter": "python",
   "pygments_lexer": "ipython3",
   "version": "3.8.10"
  }
 },
 "nbformat": 4,
 "nbformat_minor": 5
}
