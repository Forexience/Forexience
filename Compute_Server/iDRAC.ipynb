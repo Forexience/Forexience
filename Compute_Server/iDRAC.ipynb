{
 "cells": [
  {
   "cell_type": "markdown",
   "id": "16640bba",
   "metadata": {},
   "source": [
    "### Power On the Compute Server"
   ]
  },
  {
   "cell_type": "code",
   "execution_count": 1,
   "id": "e43df949",
   "metadata": {},
   "outputs": [],
   "source": [
    "import dracclient.client\n",
    "import getpass\n",
    "import warnings\n",
    "warnings.filterwarnings('ignore')\n",
    "import yaml"
   ]
  },
  {
   "cell_type": "code",
   "execution_count": 2,
   "id": "9d7f3770",
   "metadata": {},
   "outputs": [],
   "source": [
    "with open ('credential.yml') as ymlfile:\n",
    "    cfg = yaml.safe_load(ymlfile)\n",
    "    local_ip = cfg['server']['local_ip']\n",
    "    remote_ip = cfg['server']['remote_ip']\n",
    "    local_port = cfg['server']['local_port']\n",
    "    remote_port = cfg['server']['remote_port']"
   ]
  },
  {
   "cell_type": "code",
   "execution_count": 3,
   "id": "a9817c7e",
   "metadata": {},
   "outputs": [
    {
     "name": "stdout",
     "output_type": "stream",
     "text": [
      "········\n"
     ]
    }
   ],
   "source": [
    "username = getpass.getpass()"
   ]
  },
  {
   "cell_type": "code",
   "execution_count": 4,
   "id": "fd4db307",
   "metadata": {},
   "outputs": [
    {
     "name": "stdout",
     "output_type": "stream",
     "text": [
      "········\n"
     ]
    }
   ],
   "source": [
    "password = getpass.getpass()"
   ]
  },
  {
   "cell_type": "code",
   "execution_count": 6,
   "id": "66853428",
   "metadata": {},
   "outputs": [
    {
     "name": "stdout",
     "output_type": "stream",
     "text": [
      "POWER_ON\n"
     ]
    }
   ],
   "source": [
    "client= dracclient.client.DRACClient(local_ip, username, password, port=local_port)\n",
    "power = client.get_power_state()\n",
    "print(power)"
   ]
  },
  {
   "cell_type": "code",
   "execution_count": null,
   "id": "8591af0c",
   "metadata": {},
   "outputs": [],
   "source": [
    "client.set_power_state(target_state= 'POWER_ON')"
   ]
  },
  {
   "cell_type": "code",
   "execution_count": null,
   "id": "4e9c2b37",
   "metadata": {},
   "outputs": [],
   "source": []
  }
 ],
 "metadata": {
  "kernelspec": {
   "display_name": "Python 3 (ipykernel)",
   "language": "python",
   "name": "python3"
  },
  "language_info": {
   "codemirror_mode": {
    "name": "ipython",
    "version": 3
   },
   "file_extension": ".py",
   "mimetype": "text/x-python",
   "name": "python",
   "nbconvert_exporter": "python",
   "pygments_lexer": "ipython3",
   "version": "3.8.10"
  }
 },
 "nbformat": 4,
 "nbformat_minor": 5
}
