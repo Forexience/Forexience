{
 "cells": [
  {
   "cell_type": "code",
   "execution_count": 1,
   "metadata": {},
   "outputs": [],
   "source": [
    "import requests\n",
    "import json\n",
    "import time\n",
    "import math\n",
    "import re\n",
    "import calendar\n",
    "import dateutil.parser as parser\n",
    "from dateutil.relativedelta import relativedelta\n",
    "from datetime import datetime, timezone\n",
    "import yaml\n",
    "import pandas as pd\n",
    "import numpy as np\n",
    "import warnings\n",
    "warnings.filterwarnings('ignore')\n",
    "import plotly.graph_objects as go\n",
    "import seaborn as sns\n",
    "import matplotlib.pyplot as plt\n",
    "from sklearn.preprocessing import StandardScaler\n",
    "from sklearn.cluster import KMeans\n",
    "from scipy.spatial.distance import cdist\n",
    "from sklearn.neighbors import NearestNeighbors\n",
    "from yellowbrick.cluster import KElbowVisualizer, SilhouetteVisualizer\n",
    "import os, sys, glob\n",
    "import kaleido\n",
    "from PIL import Image\n",
    "from fpdf import FPDF\n",
    "from sklearn.linear_model import LinearRegression\n",
    "from sklearn import linear_model\n",
    "from sklearn.metrics import r2_score\n",
    "from sklearn.metrics import mean_squared_error"
   ]
  },
  {
   "cell_type": "code",
   "execution_count": 2,
   "metadata": {},
   "outputs": [],
   "source": [
    "def convert_date(utc_time): \n",
    "    parsed_date = parser.parse(utc_time)\n",
    "    var_date=parsed_date.date()\n",
    "    var_time=parsed_date.time()\n",
    "    var_f_time=var_time.hour\n",
    "    var_julian_date=parsed_date.timetuple().tm_yday\n",
    "    var_weekday=parsed_date.weekday()\n",
    "    var_weekday_name=calendar.day_name[parsed_date.weekday()]\n",
    "    return var_date, var_time, var_f_time, var_julian_date, var_weekday, var_weekday_name"
   ]
  },
  {
   "cell_type": "code",
   "execution_count": 3,
   "metadata": {},
   "outputs": [],
   "source": [
    "def eda(data):\n",
    "    output=[]\n",
    "    for col in data.columns:\n",
    "        duplicatedvalue = data[col].duplicated().sum()\n",
    "        duplicatedrows = data.duplicated().sum()\n",
    "        missingvalue = np.sum(pd.isna(data[col]))\n",
    "        uniquevalue = data[col].nunique()\n",
    "        datatype = str(data[col].dtype)\n",
    "        \n",
    "        output.append([col, duplicatedvalue, duplicatedrows, missingvalue, uniquevalue, datatype])\n",
    "        \n",
    "    output = pd.DataFrame(output) \n",
    "    output.columns = ['Features', 'Duplicated Values', 'Duplicated Rows', 'Missing Values', 'Unique Values', 'Data Type']\n",
    "    display(output)"
   ]
  },
  {
   "cell_type": "code",
   "execution_count": 4,
   "metadata": {},
   "outputs": [],
   "source": [
    "def get_last_value(value):\n",
    "    last = value\n",
    "    return last"
   ]
  },
  {
   "cell_type": "code",
   "execution_count": 5,
   "metadata": {},
   "outputs": [],
   "source": [
    "def perc_on_bar(plot, feature):\n",
    "    total = len(feature)\n",
    "    for p in ax.patches:\n",
    "        percentage = \"{:.1f}%\".format(100 * p.get_height() / total)\n",
    "        x = p.get_x() + p.get_width() / 2 - 0.05\n",
    "        y = p.get_y() + p.get_height()\n",
    "        ax.annotate(percentage, (x, y), size=12)\n",
    "    plt.show()"
   ]
  },
  {
   "cell_type": "code",
   "execution_count": 6,
   "metadata": {},
   "outputs": [],
   "source": [
    "def viz(data, indice):\n",
    "    fig = go.Figure(data=[go.Candlestick(x=data['UTC_Time'],\n",
    "                open=data['Open'],\n",
    "                high=data['High'],\n",
    "                low=data['Low'],\n",
    "                close=data['Close'])])\n",
    "\n",
    "    fig.update_layout(xaxis_rangeslider_visible=False,\n",
    "                      title=\"Neighbor: \" + indice + \" \" + pair + \" \" + timeframe + \" \" + now.strftime(\"%Y-%m-%d %H:%M:%S\"),\n",
    "                      title_font_color=\"blue\",\n",
    "                      title_font_size = 20)\n",
    "    \n",
    "    fig.update_xaxes(rangebreaks=[dict(bounds=[\"sat\", \"mon\"])])\n",
    "    \n",
    "    fig.write_image(path + \"/\" + indice + \"_chart.png\")\n",
    "    \n",
    "    fig.show()"
   ]
  },
  {
   "cell_type": "markdown",
   "metadata": {},
   "source": [
    "# <font color='red'>Currency Pair</font>"
   ]
  },
  {
   "cell_type": "code",
   "execution_count": 7,
   "metadata": {},
   "outputs": [],
   "source": [
    "Load_10K_Records=True\n",
    "\n",
    "\n",
    "asia = ['EUR_NZD','EUR_AUD','GBP_NZD','GBP_AUD','AUD_USD','AUD_CAD','AUD_CHF','AUD_NZD','NZD_USD','NZD_CHF','NZD_CAD']\n",
    "\n",
    "currency_pairs = ['EUR_USD','EUR_GBP','EUR_NZD','EUR_AUD','EUR_CHF','EUR_CAD',\n",
    "                  'GBP_USD','GBP_CHF','GBP_NZD','GBP_AUD','GBP_CAD','AUD_USD',\n",
    "                  'AUD_CAD','AUD_CHF','AUD_NZD','NZD_USD','NZD_CHF','NZD_CAD',\n",
    "                  'USD_CAD','USD_CHF','CAD_CHF']\n",
    "\n",
    "currency_pairs = [\"EUR_USD\"]\n",
    "\n",
    "\n",
    "timeframe = \"H4\"\n",
    "#D #H1 #H4 M30\n",
    "# https://developer.oanda.com/rest-live-v20/instrument-df/#CandlestickGranularity\n",
    "price_char = \"M\"\n",
    "#M(midpoint candles) #B(bid candles) #A(ask candles) #BA\n",
    "price_com = \"mid\"\n",
    "#mid #bid #ask\n"
   ]
  },
  {
   "cell_type": "markdown",
   "metadata": {},
   "source": [
    "# <font color='red'>Test Configs</font>"
   ]
  },
  {
   "cell_type": "raw",
   "metadata": {},
   "source": [
    "from numpy import random\n",
    "Test_Candle =[]\n",
    "for x in range(100):\n",
    "  rand = random.randint(9500)\n",
    "  Test_Candle.append(rand)\n",
    "\n",
    "print(Test_Candle)"
   ]
  },
  {
   "cell_type": "code",
   "execution_count": 8,
   "metadata": {},
   "outputs": [],
   "source": [
    "Test_Candle = [2108, 8371, 4614, 8207, 2281, 5172, 3342, 121, 8607, 6387, 9303, 3835, 2134, 6930, 6858, 7301, 8099, 985, 5419, 7471, 1457, 8910, 3841, 704, 7308, 8734, 7172, 7385, 1613, 5421, 7061, 1088, 4383, 9123, 166, 9414, 3899, 4915, 988, 5856, 4308, 742, 5213, 6201, 3898, 1346, 9255, 2498, 6305, 4755, 837, 4628, 805, 3896, 5168, 237, 6147, 4220, 3683, 6668, 989, 216, 4455, 3231, 3456, 8141, 629, 8250, 8351, 8648, 2499, 1818, 1253, 22, 3337, 8189, 2423, 5209, 1426, 4332, 3663, 8871, 1620, 8493, 7271, 214, 6443, 97, 2524, 1767, 7839, 3644, 6230, 7605, 4921, 5945, 2162, 3773, 7216, 2936]"
   ]
  },
  {
   "cell_type": "markdown",
   "metadata": {},
   "source": [
    "### Logging"
   ]
  },
  {
   "cell_type": "code",
   "execution_count": 9,
   "metadata": {},
   "outputs": [],
   "source": [
    "filename = \"BackTest_{}.csv\".format(currency_pairs[0])\n",
    "data = pd.read_csv(filename)"
   ]
  },
  {
   "cell_type": "code",
   "execution_count": 10,
   "metadata": {},
   "outputs": [
    {
     "data": {
      "text/plain": [
       "(18, 29)"
      ]
     },
     "execution_count": 10,
     "metadata": {},
     "output_type": "execute_result"
    }
   ],
   "source": [
    "data.shape"
   ]
  },
  {
   "cell_type": "code",
   "execution_count": 11,
   "metadata": {},
   "outputs": [
    {
     "data": {
      "text/html": [
       "<div>\n",
       "<style scoped>\n",
       "    .dataframe tbody tr th:only-of-type {\n",
       "        vertical-align: middle;\n",
       "    }\n",
       "\n",
       "    .dataframe tbody tr th {\n",
       "        vertical-align: top;\n",
       "    }\n",
       "\n",
       "    .dataframe thead th {\n",
       "        text-align: right;\n",
       "    }\n",
       "</style>\n",
       "<table border=\"1\" class=\"dataframe\">\n",
       "  <thead>\n",
       "    <tr style=\"text-align: right;\">\n",
       "      <th></th>\n",
       "      <th>Date</th>\n",
       "      <th>Time</th>\n",
       "      <th>f_time</th>\n",
       "      <th>julian_date</th>\n",
       "      <th>Weekday</th>\n",
       "      <th>Weekday_Name</th>\n",
       "      <th>UTC_Time</th>\n",
       "      <th>Volume</th>\n",
       "      <th>Open</th>\n",
       "      <th>High</th>\n",
       "      <th>...</th>\n",
       "      <th>Direction</th>\n",
       "      <th>col_1</th>\n",
       "      <th>col_2</th>\n",
       "      <th>col_3</th>\n",
       "      <th>col_4</th>\n",
       "      <th>col_5</th>\n",
       "      <th>SMA_10</th>\n",
       "      <th>SMA_20</th>\n",
       "      <th>F_SMA_10</th>\n",
       "      <th>F_SMA_20</th>\n",
       "    </tr>\n",
       "  </thead>\n",
       "  <tbody>\n",
       "    <tr>\n",
       "      <th>0</th>\n",
       "      <td>2021-10-26</td>\n",
       "      <td>17:00:00</td>\n",
       "      <td>17</td>\n",
       "      <td>299</td>\n",
       "      <td>1</td>\n",
       "      <td>Tuesday</td>\n",
       "      <td>2021-10-26T17:00:00.000000000Z</td>\n",
       "      <td>5432</td>\n",
       "      <td>1.15872</td>\n",
       "      <td>1.16010</td>\n",
       "      <td>...</td>\n",
       "      <td>1</td>\n",
       "      <td>-0.00092</td>\n",
       "      <td>0.00138</td>\n",
       "      <td>0.00096</td>\n",
       "      <td>0.00308</td>\n",
       "      <td>-0.00093</td>\n",
       "      <td>1.160292</td>\n",
       "      <td>1.160797</td>\n",
       "      <td>-0.000652</td>\n",
       "      <td>-0.001157</td>\n",
       "    </tr>\n",
       "    <tr>\n",
       "      <th>1</th>\n",
       "      <td>2021-10-26</td>\n",
       "      <td>21:00:00</td>\n",
       "      <td>21</td>\n",
       "      <td>299</td>\n",
       "      <td>1</td>\n",
       "      <td>Tuesday</td>\n",
       "      <td>2021-10-26T21:00:00.000000000Z</td>\n",
       "      <td>2833</td>\n",
       "      <td>1.15925</td>\n",
       "      <td>1.16043</td>\n",
       "      <td>...</td>\n",
       "      <td>1</td>\n",
       "      <td>-0.00099</td>\n",
       "      <td>0.00118</td>\n",
       "      <td>0.00124</td>\n",
       "      <td>-0.00092</td>\n",
       "      <td>0.00308</td>\n",
       "      <td>1.160250</td>\n",
       "      <td>1.160321</td>\n",
       "      <td>-0.000010</td>\n",
       "      <td>-0.000081</td>\n",
       "    </tr>\n",
       "  </tbody>\n",
       "</table>\n",
       "<p>2 rows × 29 columns</p>\n",
       "</div>"
      ],
      "text/plain": [
       "         Date      Time  f_time  julian_date  Weekday Weekday_Name  \\\n",
       "0  2021-10-26  17:00:00      17          299        1      Tuesday   \n",
       "1  2021-10-26  21:00:00      21          299        1      Tuesday   \n",
       "\n",
       "                         UTC_Time  Volume     Open     High  ...  Direction  \\\n",
       "0  2021-10-26T17:00:00.000000000Z    5432  1.15872  1.16010  ...          1   \n",
       "1  2021-10-26T21:00:00.000000000Z    2833  1.15925  1.16043  ...          1   \n",
       "\n",
       "     col_1    col_2    col_3    col_4    col_5    SMA_10    SMA_20  F_SMA_10  \\\n",
       "0 -0.00092  0.00138  0.00096  0.00308 -0.00093  1.160292  1.160797 -0.000652   \n",
       "1 -0.00099  0.00118  0.00124 -0.00092  0.00308  1.160250  1.160321 -0.000010   \n",
       "\n",
       "   F_SMA_20  \n",
       "0 -0.001157  \n",
       "1 -0.000081  \n",
       "\n",
       "[2 rows x 29 columns]"
      ]
     },
     "execution_count": 11,
     "metadata": {},
     "output_type": "execute_result"
    }
   ],
   "source": [
    "data.head(2)"
   ]
  },
  {
   "cell_type": "code",
   "execution_count": 12,
   "metadata": {},
   "outputs": [
    {
     "data": {
      "text/html": [
       "<div>\n",
       "<style scoped>\n",
       "    .dataframe tbody tr th:only-of-type {\n",
       "        vertical-align: middle;\n",
       "    }\n",
       "\n",
       "    .dataframe tbody tr th {\n",
       "        vertical-align: top;\n",
       "    }\n",
       "\n",
       "    .dataframe thead th {\n",
       "        text-align: right;\n",
       "    }\n",
       "</style>\n",
       "<table border=\"1\" class=\"dataframe\">\n",
       "  <thead>\n",
       "    <tr style=\"text-align: right;\">\n",
       "      <th></th>\n",
       "      <th>Date</th>\n",
       "      <th>Time</th>\n",
       "      <th>f_time</th>\n",
       "      <th>julian_date</th>\n",
       "      <th>Weekday</th>\n",
       "      <th>Weekday_Name</th>\n",
       "      <th>UTC_Time</th>\n",
       "      <th>Volume</th>\n",
       "      <th>Open</th>\n",
       "      <th>High</th>\n",
       "      <th>...</th>\n",
       "      <th>Direction</th>\n",
       "      <th>col_1</th>\n",
       "      <th>col_2</th>\n",
       "      <th>col_3</th>\n",
       "      <th>col_4</th>\n",
       "      <th>col_5</th>\n",
       "      <th>SMA_10</th>\n",
       "      <th>SMA_20</th>\n",
       "      <th>F_SMA_10</th>\n",
       "      <th>F_SMA_20</th>\n",
       "    </tr>\n",
       "  </thead>\n",
       "  <tbody>\n",
       "    <tr>\n",
       "      <th>16</th>\n",
       "      <td>2021-10-29</td>\n",
       "      <td>09:00:00</td>\n",
       "      <td>9</td>\n",
       "      <td>302</td>\n",
       "      <td>4</td>\n",
       "      <td>Friday</td>\n",
       "      <td>2021-10-29T09:00:00.000000000Z</td>\n",
       "      <td>24663</td>\n",
       "      <td>1.16511</td>\n",
       "      <td>1.16569</td>\n",
       "      <td>...</td>\n",
       "      <td>0</td>\n",
       "      <td>0.00255</td>\n",
       "      <td>0.00058</td>\n",
       "      <td>0.00045</td>\n",
       "      <td>0.00135</td>\n",
       "      <td>0.00202</td>\n",
       "      <td>1.166164</td>\n",
       "      <td>1.164063</td>\n",
       "      <td>-0.003604</td>\n",
       "      <td>-0.001503</td>\n",
       "    </tr>\n",
       "    <tr>\n",
       "      <th>17</th>\n",
       "      <td>2021-10-29</td>\n",
       "      <td>13:00:00</td>\n",
       "      <td>13</td>\n",
       "      <td>302</td>\n",
       "      <td>4</td>\n",
       "      <td>Friday</td>\n",
       "      <td>2021-10-29T13:00:00.000000000Z</td>\n",
       "      <td>39245</td>\n",
       "      <td>1.16258</td>\n",
       "      <td>1.16360</td>\n",
       "      <td>...</td>\n",
       "      <td>0</td>\n",
       "      <td>0.00872</td>\n",
       "      <td>0.00102</td>\n",
       "      <td>0.00034</td>\n",
       "      <td>0.00255</td>\n",
       "      <td>0.00135</td>\n",
       "      <td>1.163276</td>\n",
       "      <td>1.163522</td>\n",
       "      <td>-0.009416</td>\n",
       "      <td>-0.009662</td>\n",
       "    </tr>\n",
       "  </tbody>\n",
       "</table>\n",
       "<p>2 rows × 29 columns</p>\n",
       "</div>"
      ],
      "text/plain": [
       "          Date      Time  f_time  julian_date  Weekday Weekday_Name  \\\n",
       "16  2021-10-29  09:00:00       9          302        4       Friday   \n",
       "17  2021-10-29  13:00:00      13          302        4       Friday   \n",
       "\n",
       "                          UTC_Time  Volume     Open     High  ...  Direction  \\\n",
       "16  2021-10-29T09:00:00.000000000Z   24663  1.16511  1.16569  ...          0   \n",
       "17  2021-10-29T13:00:00.000000000Z   39245  1.16258  1.16360  ...          0   \n",
       "\n",
       "      col_1    col_2    col_3    col_4    col_5    SMA_10    SMA_20  F_SMA_10  \\\n",
       "16  0.00255  0.00058  0.00045  0.00135  0.00202  1.166164  1.164063 -0.003604   \n",
       "17  0.00872  0.00102  0.00034  0.00255  0.00135  1.163276  1.163522 -0.009416   \n",
       "\n",
       "    F_SMA_20  \n",
       "16 -0.001503  \n",
       "17 -0.009662  \n",
       "\n",
       "[2 rows x 29 columns]"
      ]
     },
     "execution_count": 12,
     "metadata": {},
     "output_type": "execute_result"
    }
   ],
   "source": [
    "data.tail(2)"
   ]
  },
  {
   "cell_type": "markdown",
   "metadata": {},
   "source": [
    "## Calculate Average True Range (ATR)"
   ]
  },
  {
   "cell_type": "code",
   "execution_count": 13,
   "metadata": {},
   "outputs": [],
   "source": [
    "high_low = data['High'] - data['Low']\n",
    "high_cp = np.abs(data['High'] - data['Close'].shift())\n",
    "low_cp = np.abs(data['Low'] - data['Close'].shift())\n",
    "df = pd.concat([high_low, high_cp, low_cp], axis=1)\n",
    "true_range = np.max(df, axis=1)\n",
    "data['ATR_14'] = true_range.rolling(14).mean()"
   ]
  },
  {
   "cell_type": "code",
   "execution_count": 14,
   "metadata": {},
   "outputs": [],
   "source": [
    "data = data.drop_duplicates()\n",
    "data = data.to_csv(filename, header = True, index = False)\n",
    "data = pd.read_csv(filename)"
   ]
  },
  {
   "cell_type": "code",
   "execution_count": 15,
   "metadata": {},
   "outputs": [
    {
     "data": {
      "text/html": [
       "<div>\n",
       "<style scoped>\n",
       "    .dataframe tbody tr th:only-of-type {\n",
       "        vertical-align: middle;\n",
       "    }\n",
       "\n",
       "    .dataframe tbody tr th {\n",
       "        vertical-align: top;\n",
       "    }\n",
       "\n",
       "    .dataframe thead th {\n",
       "        text-align: right;\n",
       "    }\n",
       "</style>\n",
       "<table border=\"1\" class=\"dataframe\">\n",
       "  <thead>\n",
       "    <tr style=\"text-align: right;\">\n",
       "      <th></th>\n",
       "      <th>Date</th>\n",
       "      <th>Time</th>\n",
       "      <th>f_time</th>\n",
       "      <th>julian_date</th>\n",
       "      <th>Weekday</th>\n",
       "      <th>Weekday_Name</th>\n",
       "      <th>UTC_Time</th>\n",
       "      <th>Volume</th>\n",
       "      <th>Open</th>\n",
       "      <th>High</th>\n",
       "      <th>...</th>\n",
       "      <th>Direction</th>\n",
       "      <th>col_1</th>\n",
       "      <th>col_2</th>\n",
       "      <th>col_3</th>\n",
       "      <th>col_4</th>\n",
       "      <th>col_5</th>\n",
       "      <th>SMA_10</th>\n",
       "      <th>SMA_20</th>\n",
       "      <th>F_SMA_10</th>\n",
       "      <th>F_SMA_20</th>\n",
       "    </tr>\n",
       "  </thead>\n",
       "  <tbody>\n",
       "    <tr>\n",
       "      <th>16</th>\n",
       "      <td>2021-10-29</td>\n",
       "      <td>09:00:00</td>\n",
       "      <td>9</td>\n",
       "      <td>302</td>\n",
       "      <td>4</td>\n",
       "      <td>Friday</td>\n",
       "      <td>2021-10-29T09:00:00.000000000Z</td>\n",
       "      <td>24663</td>\n",
       "      <td>1.16511</td>\n",
       "      <td>1.16569</td>\n",
       "      <td>...</td>\n",
       "      <td>0</td>\n",
       "      <td>0.00255</td>\n",
       "      <td>0.00058</td>\n",
       "      <td>0.00045</td>\n",
       "      <td>0.00135</td>\n",
       "      <td>0.00202</td>\n",
       "      <td>1.166164</td>\n",
       "      <td>1.164063</td>\n",
       "      <td>-0.003604</td>\n",
       "      <td>-0.001503</td>\n",
       "    </tr>\n",
       "    <tr>\n",
       "      <th>17</th>\n",
       "      <td>2021-10-29</td>\n",
       "      <td>13:00:00</td>\n",
       "      <td>13</td>\n",
       "      <td>302</td>\n",
       "      <td>4</td>\n",
       "      <td>Friday</td>\n",
       "      <td>2021-10-29T13:00:00.000000000Z</td>\n",
       "      <td>39245</td>\n",
       "      <td>1.16258</td>\n",
       "      <td>1.16360</td>\n",
       "      <td>...</td>\n",
       "      <td>0</td>\n",
       "      <td>0.00872</td>\n",
       "      <td>0.00102</td>\n",
       "      <td>0.00034</td>\n",
       "      <td>0.00255</td>\n",
       "      <td>0.00135</td>\n",
       "      <td>1.163276</td>\n",
       "      <td>1.163522</td>\n",
       "      <td>-0.009416</td>\n",
       "      <td>-0.009662</td>\n",
       "    </tr>\n",
       "  </tbody>\n",
       "</table>\n",
       "<p>2 rows × 29 columns</p>\n",
       "</div>"
      ],
      "text/plain": [
       "          Date      Time  f_time  julian_date  Weekday Weekday_Name  \\\n",
       "16  2021-10-29  09:00:00       9          302        4       Friday   \n",
       "17  2021-10-29  13:00:00      13          302        4       Friday   \n",
       "\n",
       "                          UTC_Time  Volume     Open     High  ...  Direction  \\\n",
       "16  2021-10-29T09:00:00.000000000Z   24663  1.16511  1.16569  ...          0   \n",
       "17  2021-10-29T13:00:00.000000000Z   39245  1.16258  1.16360  ...          0   \n",
       "\n",
       "      col_1    col_2    col_3    col_4    col_5    SMA_10    SMA_20  F_SMA_10  \\\n",
       "16  0.00255  0.00058  0.00045  0.00135  0.00202  1.166164  1.164063 -0.003604   \n",
       "17  0.00872  0.00102  0.00034  0.00255  0.00135  1.163276  1.163522 -0.009416   \n",
       "\n",
       "    F_SMA_20  \n",
       "16 -0.001503  \n",
       "17 -0.009662  \n",
       "\n",
       "[2 rows x 29 columns]"
      ]
     },
     "execution_count": 15,
     "metadata": {},
     "output_type": "execute_result"
    }
   ],
   "source": [
    "data.tail(2)"
   ]
  },
  {
   "cell_type": "markdown",
   "metadata": {},
   "source": [
    "# Feature Engineering"
   ]
  },
  {
   "cell_type": "markdown",
   "metadata": {},
   "source": [
    "### CandleStick Data"
   ]
  },
  {
   "cell_type": "code",
   "execution_count": 16,
   "metadata": {},
   "outputs": [],
   "source": [
    "data['O-H'] = data['Open'] - data['High']\n",
    "data['O-L'] = data['Open'] - data['Low']\n",
    "data['O-C'] = data['Open'] - data['Close']\n",
    "data['H-L'] = data['High'] - data['Low']\n",
    "data['H-C'] = data['High'] - data['Close']\n",
    "data['L-C'] = data['Low'] - data['Close']\n",
    "\n",
    "data['Direction'] = data['O-C'].apply(lambda x: 1 if x<0 else 0)\n",
    "\n",
    "data['col_1'] = data['Open'] - data['Close']\n",
    "\n",
    "for value in data['col_1']:   \n",
    "    if value > 0:\n",
    "        data['col_2'] = data['High'] - data['Open']\n",
    "        data['col_3'] = data['Close'] - data['Low']\n",
    "    else:\n",
    "        data['col_2'] = data['High'] - data['Close']\n",
    "        data['col_3'] = data['Open'] - data['Low']\n",
    "\n",
    "#Two Previous Candlesticks \n",
    "data['col_4'] = data['col_1'].shift(1)\n",
    "data['col_5'] = data['col_1'].shift(2)\n",
    "\n",
    "#Moving Avarage\n",
    "data['SMA_10'] = data['Close'].rolling(window=5).mean()\n",
    "data['SMA_20'] = data['Close'].rolling(window=10).mean()\n",
    "\n",
    "#Feature Engineering Moving Avarage \n",
    "data['F_SMA_10'] = data['Close'] - data['SMA_10']\n",
    "data['F_SMA_20'] = data['Close'] - data['SMA_20']"
   ]
  },
  {
   "cell_type": "code",
   "execution_count": 17,
   "metadata": {},
   "outputs": [],
   "source": [
    "data = data.dropna()"
   ]
  },
  {
   "cell_type": "code",
   "execution_count": 18,
   "metadata": {},
   "outputs": [],
   "source": [
    "data = data.to_csv(filename, header = True, index = False)"
   ]
  },
  {
   "cell_type": "code",
   "execution_count": 19,
   "metadata": {},
   "outputs": [],
   "source": [
    "data = pd.read_csv(filename)"
   ]
  },
  {
   "cell_type": "code",
   "execution_count": 20,
   "metadata": {},
   "outputs": [
    {
     "data": {
      "text/html": [
       "<div>\n",
       "<style scoped>\n",
       "    .dataframe tbody tr th:only-of-type {\n",
       "        vertical-align: middle;\n",
       "    }\n",
       "\n",
       "    .dataframe tbody tr th {\n",
       "        vertical-align: top;\n",
       "    }\n",
       "\n",
       "    .dataframe thead th {\n",
       "        text-align: right;\n",
       "    }\n",
       "</style>\n",
       "<table border=\"1\" class=\"dataframe\">\n",
       "  <thead>\n",
       "    <tr style=\"text-align: right;\">\n",
       "      <th></th>\n",
       "      <th>Date</th>\n",
       "      <th>Time</th>\n",
       "      <th>f_time</th>\n",
       "      <th>julian_date</th>\n",
       "      <th>Weekday</th>\n",
       "      <th>Weekday_Name</th>\n",
       "      <th>UTC_Time</th>\n",
       "      <th>Volume</th>\n",
       "      <th>Open</th>\n",
       "      <th>High</th>\n",
       "      <th>...</th>\n",
       "      <th>Direction</th>\n",
       "      <th>col_1</th>\n",
       "      <th>col_2</th>\n",
       "      <th>col_3</th>\n",
       "      <th>col_4</th>\n",
       "      <th>col_5</th>\n",
       "      <th>SMA_10</th>\n",
       "      <th>SMA_20</th>\n",
       "      <th>F_SMA_10</th>\n",
       "      <th>F_SMA_20</th>\n",
       "    </tr>\n",
       "  </thead>\n",
       "  <tbody>\n",
       "    <tr>\n",
       "      <th>0</th>\n",
       "      <td>2021-10-28</td>\n",
       "      <td>21:00:00</td>\n",
       "      <td>21</td>\n",
       "      <td>301</td>\n",
       "      <td>3</td>\n",
       "      <td>Thursday</td>\n",
       "      <td>2021-10-28T21:00:00.000000000Z</td>\n",
       "      <td>3758</td>\n",
       "      <td>1.16831</td>\n",
       "      <td>1.16902</td>\n",
       "      <td>...</td>\n",
       "      <td>1</td>\n",
       "      <td>-0.00013</td>\n",
       "      <td>0.00071</td>\n",
       "      <td>0.00050</td>\n",
       "      <td>-0.00046</td>\n",
       "      <td>-0.00483</td>\n",
       "      <td>1.165324</td>\n",
       "      <td>1.162958</td>\n",
       "      <td>0.003116</td>\n",
       "      <td>0.005482</td>\n",
       "    </tr>\n",
       "    <tr>\n",
       "      <th>1</th>\n",
       "      <td>2021-10-29</td>\n",
       "      <td>01:00:00</td>\n",
       "      <td>1</td>\n",
       "      <td>302</td>\n",
       "      <td>4</td>\n",
       "      <td>Friday</td>\n",
       "      <td>2021-10-29T01:00:00.000000000Z</td>\n",
       "      <td>5699</td>\n",
       "      <td>1.16846</td>\n",
       "      <td>1.16861</td>\n",
       "      <td>...</td>\n",
       "      <td>0</td>\n",
       "      <td>0.00202</td>\n",
       "      <td>0.00015</td>\n",
       "      <td>0.00005</td>\n",
       "      <td>-0.00013</td>\n",
       "      <td>-0.00046</td>\n",
       "      <td>1.166808</td>\n",
       "      <td>1.163421</td>\n",
       "      <td>-0.000368</td>\n",
       "      <td>0.003019</td>\n",
       "    </tr>\n",
       "    <tr>\n",
       "      <th>2</th>\n",
       "      <td>2021-10-29</td>\n",
       "      <td>05:00:00</td>\n",
       "      <td>5</td>\n",
       "      <td>302</td>\n",
       "      <td>4</td>\n",
       "      <td>Friday</td>\n",
       "      <td>2021-10-29T05:00:00.000000000Z</td>\n",
       "      <td>16354</td>\n",
       "      <td>1.16643</td>\n",
       "      <td>1.16758</td>\n",
       "      <td>...</td>\n",
       "      <td>0</td>\n",
       "      <td>0.00135</td>\n",
       "      <td>0.00115</td>\n",
       "      <td>0.00016</td>\n",
       "      <td>0.00202</td>\n",
       "      <td>-0.00013</td>\n",
       "      <td>1.167224</td>\n",
       "      <td>1.163840</td>\n",
       "      <td>-0.002144</td>\n",
       "      <td>0.001240</td>\n",
       "    </tr>\n",
       "    <tr>\n",
       "      <th>3</th>\n",
       "      <td>2021-10-29</td>\n",
       "      <td>09:00:00</td>\n",
       "      <td>9</td>\n",
       "      <td>302</td>\n",
       "      <td>4</td>\n",
       "      <td>Friday</td>\n",
       "      <td>2021-10-29T09:00:00.000000000Z</td>\n",
       "      <td>24663</td>\n",
       "      <td>1.16511</td>\n",
       "      <td>1.16569</td>\n",
       "      <td>...</td>\n",
       "      <td>0</td>\n",
       "      <td>0.00255</td>\n",
       "      <td>0.00058</td>\n",
       "      <td>0.00045</td>\n",
       "      <td>0.00135</td>\n",
       "      <td>0.00202</td>\n",
       "      <td>1.166164</td>\n",
       "      <td>1.164063</td>\n",
       "      <td>-0.003604</td>\n",
       "      <td>-0.001503</td>\n",
       "    </tr>\n",
       "    <tr>\n",
       "      <th>4</th>\n",
       "      <td>2021-10-29</td>\n",
       "      <td>13:00:00</td>\n",
       "      <td>13</td>\n",
       "      <td>302</td>\n",
       "      <td>4</td>\n",
       "      <td>Friday</td>\n",
       "      <td>2021-10-29T13:00:00.000000000Z</td>\n",
       "      <td>39245</td>\n",
       "      <td>1.16258</td>\n",
       "      <td>1.16360</td>\n",
       "      <td>...</td>\n",
       "      <td>0</td>\n",
       "      <td>0.00872</td>\n",
       "      <td>0.00102</td>\n",
       "      <td>0.00034</td>\n",
       "      <td>0.00255</td>\n",
       "      <td>0.00135</td>\n",
       "      <td>1.163276</td>\n",
       "      <td>1.163522</td>\n",
       "      <td>-0.009416</td>\n",
       "      <td>-0.009662</td>\n",
       "    </tr>\n",
       "  </tbody>\n",
       "</table>\n",
       "<p>5 rows × 29 columns</p>\n",
       "</div>"
      ],
      "text/plain": [
       "         Date      Time  f_time  julian_date  Weekday Weekday_Name  \\\n",
       "0  2021-10-28  21:00:00      21          301        3     Thursday   \n",
       "1  2021-10-29  01:00:00       1          302        4       Friday   \n",
       "2  2021-10-29  05:00:00       5          302        4       Friday   \n",
       "3  2021-10-29  09:00:00       9          302        4       Friday   \n",
       "4  2021-10-29  13:00:00      13          302        4       Friday   \n",
       "\n",
       "                         UTC_Time  Volume     Open     High  ...  Direction  \\\n",
       "0  2021-10-28T21:00:00.000000000Z    3758  1.16831  1.16902  ...          1   \n",
       "1  2021-10-29T01:00:00.000000000Z    5699  1.16846  1.16861  ...          0   \n",
       "2  2021-10-29T05:00:00.000000000Z   16354  1.16643  1.16758  ...          0   \n",
       "3  2021-10-29T09:00:00.000000000Z   24663  1.16511  1.16569  ...          0   \n",
       "4  2021-10-29T13:00:00.000000000Z   39245  1.16258  1.16360  ...          0   \n",
       "\n",
       "     col_1    col_2    col_3    col_4    col_5    SMA_10    SMA_20  F_SMA_10  \\\n",
       "0 -0.00013  0.00071  0.00050 -0.00046 -0.00483  1.165324  1.162958  0.003116   \n",
       "1  0.00202  0.00015  0.00005 -0.00013 -0.00046  1.166808  1.163421 -0.000368   \n",
       "2  0.00135  0.00115  0.00016  0.00202 -0.00013  1.167224  1.163840 -0.002144   \n",
       "3  0.00255  0.00058  0.00045  0.00135  0.00202  1.166164  1.164063 -0.003604   \n",
       "4  0.00872  0.00102  0.00034  0.00255  0.00135  1.163276  1.163522 -0.009416   \n",
       "\n",
       "   F_SMA_20  \n",
       "0  0.005482  \n",
       "1  0.003019  \n",
       "2  0.001240  \n",
       "3 -0.001503  \n",
       "4 -0.009662  \n",
       "\n",
       "[5 rows x 29 columns]"
      ]
     },
     "execution_count": 20,
     "metadata": {},
     "output_type": "execute_result"
    }
   ],
   "source": [
    "data.tail()"
   ]
  },
  {
   "cell_type": "markdown",
   "metadata": {},
   "source": [
    "# <font color='red'>CANDLE INDEX NUMBER</font>"
   ]
  },
  {
   "cell_type": "code",
   "execution_count": 21,
   "metadata": {},
   "outputs": [
    {
     "data": {
      "text/plain": [
       "3"
      ]
     },
     "execution_count": 21,
     "metadata": {},
     "output_type": "execute_result"
    }
   ],
   "source": [
    "candle_no = len(data) - 2\n",
    "candle_no"
   ]
  },
  {
   "cell_type": "markdown",
   "metadata": {},
   "source": [
    "# Calculating Stop Loss"
   ]
  },
  {
   "cell_type": "code",
   "execution_count": 22,
   "metadata": {},
   "outputs": [
    {
     "data": {
      "text/plain": [
       "0.0029842857142857"
      ]
     },
     "execution_count": 22,
     "metadata": {},
     "output_type": "execute_result"
    }
   ],
   "source": [
    "STOP_LOSS = data.iloc[candle_no]['ATR_14']\n",
    "STOP_LOSS"
   ]
  },
  {
   "cell_type": "code",
   "execution_count": 23,
   "metadata": {},
   "outputs": [
    {
     "data": {
      "text/plain": [
       "1.16256"
      ]
     },
     "execution_count": 23,
     "metadata": {},
     "output_type": "execute_result"
    }
   ],
   "source": [
    "CLOSED_PRICE = data.iloc[candle_no]['Close']\n",
    "CLOSED_PRICE"
   ]
  },
  {
   "cell_type": "code",
   "execution_count": 24,
   "metadata": {},
   "outputs": [],
   "source": [
    "BUY_SL = CLOSED_PRICE - STOP_LOSS\n",
    "BUY_SL = BUY_SL.round(5)"
   ]
  },
  {
   "cell_type": "code",
   "execution_count": 25,
   "metadata": {},
   "outputs": [],
   "source": [
    "SELL_SL = CLOSED_PRICE + STOP_LOSS\n",
    "SELL_SL = SELL_SL.round(5)"
   ]
  },
  {
   "cell_type": "markdown",
   "metadata": {},
   "source": [
    "# Modeling"
   ]
  },
  {
   "cell_type": "code",
   "execution_count": 26,
   "metadata": {},
   "outputs": [],
   "source": [
    "data = pd.read_csv(filename)"
   ]
  },
  {
   "cell_type": "markdown",
   "metadata": {},
   "source": [
    "### Feature Selection and Reduction"
   ]
  },
  {
   "cell_type": "code",
   "execution_count": 27,
   "metadata": {},
   "outputs": [],
   "source": [
    "data = data.drop(columns=['Volume','Weekday','Date','Time',\n",
    "                          'Weekday_Name','UTC_Time','Direction',\n",
    "                          'Open', 'High', 'Low', 'Close',\n",
    "                          'O-H','O-L','O-C','H-L','H-C','L-C',\n",
    "                          'SMA_10','SMA_20',\n",
    "                          'f_time','julian_date','ATR_14',\n",
    "#                          'col_1','col_2','col_3',\n",
    "                          'col_4','col_5',\n",
    "#                          'F_SMA_10','F_SMA_20'\n",
    "                         ])\n",
    "\n",
    "# Comment out the features that you want to fit into your model."
   ]
  },
  {
   "cell_type": "markdown",
   "metadata": {},
   "source": [
    "### Feature Being Fit to the Model"
   ]
  },
  {
   "cell_type": "code",
   "execution_count": 28,
   "metadata": {},
   "outputs": [
    {
     "data": {
      "text/html": [
       "<div>\n",
       "<style scoped>\n",
       "    .dataframe tbody tr th:only-of-type {\n",
       "        vertical-align: middle;\n",
       "    }\n",
       "\n",
       "    .dataframe tbody tr th {\n",
       "        vertical-align: top;\n",
       "    }\n",
       "\n",
       "    .dataframe thead th {\n",
       "        text-align: right;\n",
       "    }\n",
       "</style>\n",
       "<table border=\"1\" class=\"dataframe\">\n",
       "  <thead>\n",
       "    <tr style=\"text-align: right;\">\n",
       "      <th></th>\n",
       "      <th>col_1</th>\n",
       "      <th>col_2</th>\n",
       "      <th>col_3</th>\n",
       "      <th>F_SMA_10</th>\n",
       "      <th>F_SMA_20</th>\n",
       "    </tr>\n",
       "  </thead>\n",
       "  <tbody>\n",
       "    <tr>\n",
       "      <th>0</th>\n",
       "      <td>-0.00013</td>\n",
       "      <td>0.00071</td>\n",
       "      <td>0.00050</td>\n",
       "      <td>0.003116</td>\n",
       "      <td>0.005482</td>\n",
       "    </tr>\n",
       "    <tr>\n",
       "      <th>1</th>\n",
       "      <td>0.00202</td>\n",
       "      <td>0.00015</td>\n",
       "      <td>0.00005</td>\n",
       "      <td>-0.000368</td>\n",
       "      <td>0.003019</td>\n",
       "    </tr>\n",
       "    <tr>\n",
       "      <th>2</th>\n",
       "      <td>0.00135</td>\n",
       "      <td>0.00115</td>\n",
       "      <td>0.00016</td>\n",
       "      <td>-0.002144</td>\n",
       "      <td>0.001240</td>\n",
       "    </tr>\n",
       "    <tr>\n",
       "      <th>3</th>\n",
       "      <td>0.00255</td>\n",
       "      <td>0.00058</td>\n",
       "      <td>0.00045</td>\n",
       "      <td>-0.003604</td>\n",
       "      <td>-0.001503</td>\n",
       "    </tr>\n",
       "    <tr>\n",
       "      <th>4</th>\n",
       "      <td>0.00872</td>\n",
       "      <td>0.00102</td>\n",
       "      <td>0.00034</td>\n",
       "      <td>-0.009416</td>\n",
       "      <td>-0.009662</td>\n",
       "    </tr>\n",
       "  </tbody>\n",
       "</table>\n",
       "</div>"
      ],
      "text/plain": [
       "     col_1    col_2    col_3  F_SMA_10  F_SMA_20\n",
       "0 -0.00013  0.00071  0.00050  0.003116  0.005482\n",
       "1  0.00202  0.00015  0.00005 -0.000368  0.003019\n",
       "2  0.00135  0.00115  0.00016 -0.002144  0.001240\n",
       "3  0.00255  0.00058  0.00045 -0.003604 -0.001503\n",
       "4  0.00872  0.00102  0.00034 -0.009416 -0.009662"
      ]
     },
     "execution_count": 28,
     "metadata": {},
     "output_type": "execute_result"
    }
   ],
   "source": [
    "data.head()"
   ]
  },
  {
   "cell_type": "markdown",
   "metadata": {},
   "source": [
    "### Scaling using Standard Scaler"
   ]
  },
  {
   "cell_type": "raw",
   "metadata": {},
   "source": [
    "all_col = data.iloc[:,0:].columns.tolist()\n",
    "scaler=StandardScaler()\n",
    "subset=data[all_col].copy()\n",
    "subset_scaled=scaler.fit_transform(subset)   \n",
    "subset_scaled_df=pd.DataFrame(subset_scaled,columns=subset.columns)\n",
    "subset_scaled_df"
   ]
  },
  {
   "cell_type": "raw",
   "metadata": {},
   "source": [
    "clusters=range(1,10)\n",
    "meanDistortions=[]\n",
    "\n",
    "for k in clusters:\n",
    "    model=KMeans(n_clusters=k)\n",
    "    model.fit(subset_scaled_df)\n",
    "    prediction=model.predict(subset_scaled_df)\n",
    "    distortion=sum(np.min(cdist(subset_scaled_df, model.cluster_centers_, 'euclidean'), axis=1)) / subset_scaled_df.shape[0]\n",
    "                           \n",
    "    meanDistortions.append(distortion)\n",
    "\n",
    "    print('Number of Clusters:', k, '\\tAverage Distortion:', distortion)\n",
    "\n",
    "plt.plot(clusters, meanDistortions, 'bx-')\n",
    "plt.xlabel('k')\n",
    "plt.ylabel('Average Distortion')\n",
    "plt.title('Selecting k with the Elbow Method', fontsize=20)"
   ]
  },
  {
   "cell_type": "raw",
   "metadata": {},
   "source": [
    "visualizer =  KElbowVisualizer(KMeans(random_state = 1))\n",
    "visualizer.fit(subset_scaled_df)    \n",
    "visualizer.show()"
   ]
  },
  {
   "cell_type": "code",
   "execution_count": 29,
   "metadata": {},
   "outputs": [],
   "source": [
    "def find_k_similar_candles(candle_id, dataset, k=4):\n",
    "    indices=[]\n",
    "    distances = []\n",
    "    output = []\n",
    "    model_knn = NearestNeighbors(metric = 'euclidean', algorithm = 'auto') \n",
    "    model_knn.fit(dataset)\n",
    "    \n",
    "    #metric = 'euclidean' or 'cosine' or 'manhattan' or 'mahalanobis'\n",
    "    \n",
    "    distances, indices = model_knn.kneighbors(dataset.iloc[candle_id,:].values.reshape(1,-1),\n",
    "                                              n_neighbors = k)\n",
    "\n",
    "    for i in range(0,len(distances.flatten())):\n",
    "        if i==0:\n",
    "            display (pd.DataFrame(data.iloc[candle_id]).transpose())\n",
    "            #print(\"Recommendation for {0}:\\n\".format(eurusd_data.index[candle_id]))\n",
    "        else:\n",
    "            #print(\"{0}: {1}, with distance of {2}\".format(i,\n",
    "            #                                               dataset.index[indices.flatten()[i]],\n",
    "            #                                               distances.flatten()[i]))\n",
    "            \n",
    "            output.append ([dataset.index[indices.flatten()[i]],\n",
    "                            distances.flatten()[i],\n",
    "#                           dataset.iloc[indices.flatten()[i]]['O-H'],dataset.iloc[indices.flatten()[i]]['O-L'],dataset.iloc[indices.flatten()[i]]['O-C'],dataset.iloc[indices.flatten()[i]]['H-L'],dataset.iloc[indices.flatten()[i]]['H-C'],dataset.iloc[indices.flatten()[i]]['L-C'],\n",
    "                           dataset.iloc[indices.flatten()[i]]['col_1'],dataset.iloc[indices.flatten()[i]]['col_2'],dataset.iloc[indices.flatten()[i]]['col_3'],\n",
    "#                           dataset.iloc[indices.flatten()[i]]['col_4'],dataset.iloc[indices.flatten()[i]]['col_5'],\n",
    "                           dataset.iloc[indices.flatten()[i]]['F_SMA_10'],dataset.iloc[indices.flatten()[i]]['F_SMA_20'],\n",
    "                           ])\n",
    "    \n",
    "    output = pd.DataFrame(output)\n",
    "    output.columns = ['Indice','Distance',\n",
    "#                      'O-H','O-L','O-C','H-L','H-C','L-C',\n",
    "                      'col_1','col_2','col_3',\n",
    "#                      'col_4','col_5',\n",
    "                      'F_SMA_10','F_SMA_20'\n",
    "                     ]\n",
    "    display (output)\n",
    "    \n",
    "    return indices, distances"
   ]
  },
  {
   "cell_type": "markdown",
   "metadata": {},
   "source": [
    "### Top 5 Similar Candlesticks"
   ]
  },
  {
   "cell_type": "code",
   "execution_count": 30,
   "metadata": {},
   "outputs": [
    {
     "data": {
      "text/html": [
       "<div>\n",
       "<style scoped>\n",
       "    .dataframe tbody tr th:only-of-type {\n",
       "        vertical-align: middle;\n",
       "    }\n",
       "\n",
       "    .dataframe tbody tr th {\n",
       "        vertical-align: top;\n",
       "    }\n",
       "\n",
       "    .dataframe thead th {\n",
       "        text-align: right;\n",
       "    }\n",
       "</style>\n",
       "<table border=\"1\" class=\"dataframe\">\n",
       "  <thead>\n",
       "    <tr style=\"text-align: right;\">\n",
       "      <th></th>\n",
       "      <th>col_1</th>\n",
       "      <th>col_2</th>\n",
       "      <th>col_3</th>\n",
       "      <th>F_SMA_10</th>\n",
       "      <th>F_SMA_20</th>\n",
       "    </tr>\n",
       "  </thead>\n",
       "  <tbody>\n",
       "    <tr>\n",
       "      <th>3</th>\n",
       "      <td>0.00255</td>\n",
       "      <td>0.00058</td>\n",
       "      <td>0.00045</td>\n",
       "      <td>-0.003604</td>\n",
       "      <td>-0.001503</td>\n",
       "    </tr>\n",
       "  </tbody>\n",
       "</table>\n",
       "</div>"
      ],
      "text/plain": [
       "     col_1    col_2    col_3  F_SMA_10  F_SMA_20\n",
       "3  0.00255  0.00058  0.00045 -0.003604 -0.001503"
      ]
     },
     "metadata": {},
     "output_type": "display_data"
    },
    {
     "data": {
      "text/html": [
       "<div>\n",
       "<style scoped>\n",
       "    .dataframe tbody tr th:only-of-type {\n",
       "        vertical-align: middle;\n",
       "    }\n",
       "\n",
       "    .dataframe tbody tr th {\n",
       "        vertical-align: top;\n",
       "    }\n",
       "\n",
       "    .dataframe thead th {\n",
       "        text-align: right;\n",
       "    }\n",
       "</style>\n",
       "<table border=\"1\" class=\"dataframe\">\n",
       "  <thead>\n",
       "    <tr style=\"text-align: right;\">\n",
       "      <th></th>\n",
       "      <th>Indice</th>\n",
       "      <th>Distance</th>\n",
       "      <th>col_1</th>\n",
       "      <th>col_2</th>\n",
       "      <th>col_3</th>\n",
       "      <th>F_SMA_10</th>\n",
       "      <th>F_SMA_20</th>\n",
       "    </tr>\n",
       "  </thead>\n",
       "  <tbody>\n",
       "    <tr>\n",
       "      <th>0</th>\n",
       "      <td>2</td>\n",
       "      <td>0.003392</td>\n",
       "      <td>0.00135</td>\n",
       "      <td>0.00115</td>\n",
       "      <td>0.00016</td>\n",
       "      <td>-0.002144</td>\n",
       "      <td>0.001240</td>\n",
       "    </tr>\n",
       "    <tr>\n",
       "      <th>1</th>\n",
       "      <td>1</td>\n",
       "      <td>0.005617</td>\n",
       "      <td>0.00202</td>\n",
       "      <td>0.00015</td>\n",
       "      <td>0.00005</td>\n",
       "      <td>-0.000368</td>\n",
       "      <td>0.003019</td>\n",
       "    </tr>\n",
       "    <tr>\n",
       "      <th>2</th>\n",
       "      <td>0</td>\n",
       "      <td>0.010057</td>\n",
       "      <td>-0.00013</td>\n",
       "      <td>0.00071</td>\n",
       "      <td>0.00050</td>\n",
       "      <td>0.003116</td>\n",
       "      <td>0.005482</td>\n",
       "    </tr>\n",
       "  </tbody>\n",
       "</table>\n",
       "</div>"
      ],
      "text/plain": [
       "   Indice  Distance    col_1    col_2    col_3  F_SMA_10  F_SMA_20\n",
       "0       2  0.003392  0.00135  0.00115  0.00016 -0.002144  0.001240\n",
       "1       1  0.005617  0.00202  0.00015  0.00005 -0.000368  0.003019\n",
       "2       0  0.010057 -0.00013  0.00071  0.00050  0.003116  0.005482"
      ]
     },
     "metadata": {},
     "output_type": "display_data"
    }
   ],
   "source": [
    "indices, distances = find_k_similar_candles (candle_no,data)"
   ]
  },
  {
   "cell_type": "code",
   "execution_count": 31,
   "metadata": {},
   "outputs": [],
   "source": [
    "indices = indices[0:1][0]"
   ]
  },
  {
   "cell_type": "code",
   "execution_count": 32,
   "metadata": {},
   "outputs": [
    {
     "data": {
      "text/plain": [
       "array([3, 2, 1, 0])"
      ]
     },
     "execution_count": 32,
     "metadata": {},
     "output_type": "execute_result"
    }
   ],
   "source": [
    "indices"
   ]
  },
  {
   "cell_type": "markdown",
   "metadata": {},
   "source": [
    "### Currnet Market/Candlestick"
   ]
  },
  {
   "cell_type": "code",
   "execution_count": 37,
   "metadata": {
    "scrolled": true
   },
   "outputs": [
    {
     "ename": "NameError",
     "evalue": "name 'pair' is not defined",
     "output_type": "error",
     "traceback": [
      "\u001b[0;31m---------------------------------------------------------------------------\u001b[0m",
      "\u001b[0;31mNameError\u001b[0m                                 Traceback (most recent call last)",
      "\u001b[0;32m<ipython-input-37-6e4e87b67210>\u001b[0m in \u001b[0;36m<module>\u001b[0;34m\u001b[0m\n\u001b[1;32m      3\u001b[0m \u001b[0mdata\u001b[0m \u001b[0;34m=\u001b[0m \u001b[0mdata\u001b[0m\u001b[0;34m.\u001b[0m\u001b[0miloc\u001b[0m\u001b[0;34m[\u001b[0m\u001b[0mcandle_no\u001b[0m\u001b[0;34m-\u001b[0m\u001b[0;36m30\u001b[0m\u001b[0;34m:\u001b[0m\u001b[0mcandle_no\u001b[0m\u001b[0;34m+\u001b[0m\u001b[0;36m1\u001b[0m\u001b[0;34m]\u001b[0m\u001b[0;34m\u001b[0m\u001b[0;34m\u001b[0m\u001b[0m\n\u001b[1;32m      4\u001b[0m \u001b[0mdata\u001b[0m\u001b[0;34m.\u001b[0m\u001b[0mto_csv\u001b[0m\u001b[0;34m(\u001b[0m\u001b[0mclosed_candle\u001b[0m\u001b[0;34m,\u001b[0m \u001b[0mheader\u001b[0m \u001b[0;34m=\u001b[0m \u001b[0;32mTrue\u001b[0m\u001b[0;34m,\u001b[0m \u001b[0mindex\u001b[0m \u001b[0;34m=\u001b[0m \u001b[0;32mFalse\u001b[0m\u001b[0;34m)\u001b[0m\u001b[0;34m\u001b[0m\u001b[0;34m\u001b[0m\u001b[0m\n\u001b[0;32m----> 5\u001b[0;31m \u001b[0mviz\u001b[0m\u001b[0;34m(\u001b[0m\u001b[0mdata\u001b[0m\u001b[0;34m,\u001b[0m \u001b[0;34m\"current_market\"\u001b[0m\u001b[0;34m)\u001b[0m\u001b[0;34m\u001b[0m\u001b[0;34m\u001b[0m\u001b[0m\n\u001b[0m",
      "\u001b[0;32m<ipython-input-6-6077cdfb20f5>\u001b[0m in \u001b[0;36mviz\u001b[0;34m(data, indice)\u001b[0m\n\u001b[1;32m      7\u001b[0m \u001b[0;34m\u001b[0m\u001b[0m\n\u001b[1;32m      8\u001b[0m     fig.update_layout(xaxis_rangeslider_visible=False,\n\u001b[0;32m----> 9\u001b[0;31m                       \u001b[0mtitle\u001b[0m\u001b[0;34m=\u001b[0m\u001b[0;34m\"Neighbor: \"\u001b[0m \u001b[0;34m+\u001b[0m \u001b[0mindice\u001b[0m \u001b[0;34m+\u001b[0m \u001b[0;34m\" \"\u001b[0m \u001b[0;34m+\u001b[0m \u001b[0mpair\u001b[0m \u001b[0;34m+\u001b[0m \u001b[0;34m\" \"\u001b[0m \u001b[0;34m+\u001b[0m \u001b[0mtimeframe\u001b[0m \u001b[0;34m+\u001b[0m \u001b[0;34m\" \"\u001b[0m \u001b[0;34m+\u001b[0m \u001b[0mnow\u001b[0m\u001b[0;34m.\u001b[0m\u001b[0mstrftime\u001b[0m\u001b[0;34m(\u001b[0m\u001b[0;34m\"%Y-%m-%d %H:%M:%S\"\u001b[0m\u001b[0;34m)\u001b[0m\u001b[0;34m,\u001b[0m\u001b[0;34m\u001b[0m\u001b[0;34m\u001b[0m\u001b[0m\n\u001b[0m\u001b[1;32m     10\u001b[0m                       \u001b[0mtitle_font_color\u001b[0m\u001b[0;34m=\u001b[0m\u001b[0;34m\"blue\"\u001b[0m\u001b[0;34m,\u001b[0m\u001b[0;34m\u001b[0m\u001b[0;34m\u001b[0m\u001b[0m\n\u001b[1;32m     11\u001b[0m                       title_font_size = 20)\n",
      "\u001b[0;31mNameError\u001b[0m: name 'pair' is not defined"
     ]
    }
   ],
   "source": [
    "closed_candle = \"currnet_market_data.csv\"\n",
    "data = pd.read_csv(filename)\n",
    "data = data.iloc[candle_no-30:candle_no+1]\n",
    "data.to_csv(closed_candle, header = True, index = False)\n",
    "viz(data, \"current_market\")"
   ]
  },
  {
   "cell_type": "markdown",
   "metadata": {},
   "source": [
    "### Recommendations"
   ]
  },
  {
   "cell_type": "code",
   "execution_count": 34,
   "metadata": {},
   "outputs": [
    {
     "name": "stdout",
     "output_type": "stream",
     "text": [
      "2021-10-30 01:10:06.918004\n"
     ]
    }
   ],
   "source": [
    "print(datetime.now())"
   ]
  },
  {
   "cell_type": "code",
   "execution_count": 35,
   "metadata": {
    "scrolled": false
   },
   "outputs": [
    {
     "ename": "NameError",
     "evalue": "name 'path' is not defined",
     "output_type": "error",
     "traceback": [
      "\u001b[0;31m---------------------------------------------------------------------------\u001b[0m",
      "\u001b[0;31mNameError\u001b[0m                                 Traceback (most recent call last)",
      "\u001b[0;32m<ipython-input-35-b1b890e053f9>\u001b[0m in \u001b[0;36m<module>\u001b[0;34m\u001b[0m\n\u001b[1;32m      3\u001b[0m     \u001b[0mdata\u001b[0m \u001b[0;34m=\u001b[0m \u001b[0mpd\u001b[0m\u001b[0;34m.\u001b[0m\u001b[0mread_csv\u001b[0m\u001b[0;34m(\u001b[0m\u001b[0mfilename\u001b[0m\u001b[0;34m)\u001b[0m\u001b[0;34m\u001b[0m\u001b[0;34m\u001b[0m\u001b[0m\n\u001b[1;32m      4\u001b[0m     \u001b[0mdata\u001b[0m \u001b[0;34m=\u001b[0m \u001b[0mdata\u001b[0m\u001b[0;34m.\u001b[0m\u001b[0miloc\u001b[0m\u001b[0;34m[\u001b[0m\u001b[0mindice\u001b[0m\u001b[0;34m:\u001b[0m\u001b[0mindice\u001b[0m\u001b[0;34m+\u001b[0m\u001b[0;36m30\u001b[0m\u001b[0;34m]\u001b[0m\u001b[0;34m\u001b[0m\u001b[0;34m\u001b[0m\u001b[0m\n\u001b[0;32m----> 5\u001b[0;31m     \u001b[0mdata\u001b[0m\u001b[0;34m.\u001b[0m\u001b[0mto_csv\u001b[0m\u001b[0;34m(\u001b[0m\u001b[0mpath\u001b[0m \u001b[0;34m+\u001b[0m \u001b[0;34m\"/\"\u001b[0m \u001b[0;34m+\u001b[0m \u001b[0mrecommendation_log\u001b[0m\u001b[0;34m,\u001b[0m \u001b[0mheader\u001b[0m \u001b[0;34m=\u001b[0m \u001b[0;32mTrue\u001b[0m\u001b[0;34m,\u001b[0m \u001b[0mindex\u001b[0m \u001b[0;34m=\u001b[0m \u001b[0;32mFalse\u001b[0m\u001b[0;34m)\u001b[0m\u001b[0;34m\u001b[0m\u001b[0;34m\u001b[0m\u001b[0m\n\u001b[0m\u001b[1;32m      6\u001b[0m \u001b[0;34m\u001b[0m\u001b[0m\n\u001b[1;32m      7\u001b[0m     \u001b[0mprint\u001b[0m \u001b[0;34m(\u001b[0m\u001b[0;34m'Neighbor:'\u001b[0m\u001b[0;34m,\u001b[0m \u001b[0mindice\u001b[0m\u001b[0;34m,\u001b[0m \u001b[0;34m'|'\u001b[0m\u001b[0;34m,\u001b[0m \u001b[0;34m'10K Records:'\u001b[0m\u001b[0;34m,\u001b[0m \u001b[0mLoad_10K_Records\u001b[0m\u001b[0;34m)\u001b[0m\u001b[0;34m\u001b[0m\u001b[0;34m\u001b[0m\u001b[0m\n",
      "\u001b[0;31mNameError\u001b[0m: name 'path' is not defined"
     ]
    }
   ],
   "source": [
    "for indice in indices[1:10]:\n",
    "    recommendation_log = \"{}_data.csv\".format(indice)\n",
    "    data = pd.read_csv(filename) \n",
    "    data = data.iloc[indice:indice+30]\n",
    "    data.to_csv(path + \"/\" + recommendation_log, header = True, index = False)\n",
    "    \n",
    "    print ('Neighbor:', indice, '|', '10K Records:', Load_10K_Records)\n",
    "    viz(data, indice.astype(str))\n",
    "    \n",
    "    data['candleno'] = range (1, len(data) + 1)\n",
    "    X = data['candleno'].values.reshape(-1, 1)\n",
    "    Y = data['Close'].values.reshape(-1, 1)\n",
    "    linear_regressor = LinearRegression()\n",
    "    linear_regressor.fit(X, Y)\n",
    "    y_pred = linear_regressor.predict(X)\n",
    "    plt.scatter(X, Y)\n",
    "    plt.plot(X, y_pred, color='red')\n",
    "    plt.show()\n",
    "    \n",
    "    print(r2_score(Y, y_pred).round(2)*100, '% Fit')\n",
    "    coeficient = (linear_regressor.coef_)\n",
    "    \n",
    "    if coeficient > 0:\n",
    "        print('Action: BUY')\n",
    "        print('STOP LOSS:', BUY_SL)\n",
    "    else:\n",
    "        print('Action: SELL')\n",
    "        print('STOP LOSS:', SELL_SL)\n",
    "\n"
   ]
  },
  {
   "cell_type": "markdown",
   "metadata": {},
   "source": [
    "### Save the Recommendations"
   ]
  },
  {
   "cell_type": "code",
   "execution_count": 47,
   "metadata": {},
   "outputs": [
    {
     "data": {
      "text/plain": [
       "''"
      ]
     },
     "execution_count": 47,
     "metadata": {},
     "output_type": "execute_result"
    }
   ],
   "source": [
    "currentpath = os.path.join(sys.path[0])\n",
    "pngfiles = []\n",
    "pngfiles = glob.glob(currentpath+\"/\"+path+\"/*.png\")\n",
    "pdf = FPDF()\n",
    "\n",
    "for pngfile in pngfiles:\n",
    "    pdf.add_page()\n",
    "    pdf.image(pngfile, w=200, h=130)\n",
    "    \n",
    "pdf.output(path+\"/recommendations.pdf\", \"F\")"
   ]
  },
  {
   "cell_type": "code",
   "execution_count": null,
   "metadata": {},
   "outputs": [],
   "source": []
  }
 ],
 "metadata": {
  "kernelspec": {
   "display_name": "Python 3",
   "language": "python",
   "name": "python3"
  },
  "language_info": {
   "codemirror_mode": {
    "name": "ipython",
    "version": 3
   },
   "file_extension": ".py",
   "mimetype": "text/x-python",
   "name": "python",
   "nbconvert_exporter": "python",
   "pygments_lexer": "ipython3",
   "version": "3.7.3"
  }
 },
 "nbformat": 4,
 "nbformat_minor": 2
}
