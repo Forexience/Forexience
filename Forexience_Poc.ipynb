{
 "cells": [
  {
   "cell_type": "code",
   "execution_count": 1,
   "metadata": {},
   "outputs": [],
   "source": [
    "import requests\n",
    "import json\n",
    "import time\n",
    "import re\n",
    "import datetime\n",
    "import calendar\n",
    "import dateutil.parser as parser\n",
    "from dateutil.relativedelta import relativedelta\n",
    "from datetime import datetime, timezone\n",
    "import yaml\n",
    "import pandas as pd\n",
    "import numpy as np\n",
    "import warnings\n",
    "warnings.filterwarnings('ignore')\n",
    "import plotly.graph_objects as go\n",
    "import seaborn as sns\n",
    "import matplotlib.pyplot as plt\n",
    "from sklearn.preprocessing import StandardScaler\n",
    "from sklearn.cluster import KMeans\n",
    "from scipy.spatial.distance import cdist\n",
    "from sklearn.neighbors import NearestNeighbors\n",
    "from yellowbrick.cluster import KElbowVisualizer, SilhouetteVisualizer\n",
    "import os, sys, glob\n",
    "import kaleido\n",
    "from PIL import Image\n",
    "from fpdf import FPDF"
   ]
  },
  {
   "cell_type": "code",
   "execution_count": 2,
   "metadata": {},
   "outputs": [],
   "source": [
    "def convert_date(utc_time): \n",
    "    parsed_date = parser.parse(utc_time)\n",
    "    var_date=parsed_date.date()\n",
    "    var_time=parsed_date.time()\n",
    "    var_weekday=parsed_date.weekday()\n",
    "    var_weekday_name=calendar.day_name[parsed_date.weekday()]\n",
    "    return var_date, var_time, var_weekday ,var_weekday_name"
   ]
  },
  {
   "cell_type": "code",
   "execution_count": 3,
   "metadata": {},
   "outputs": [],
   "source": [
    "def eda(data):\n",
    "    output=[]\n",
    "    for col in data.columns:\n",
    "        duplicatedvalue = data[col].duplicated().sum()\n",
    "        duplicatedrows = data.duplicated().sum()\n",
    "        missingvalue = np.sum(pd.isna(data[col]))\n",
    "        uniquevalue = data[col].nunique()\n",
    "        datatype = str(data[col].dtype)\n",
    "        \n",
    "        output.append([col, duplicatedvalue, duplicatedrows, missingvalue, uniquevalue, datatype])\n",
    "        \n",
    "    output = pd.DataFrame(output) \n",
    "    output.columns = ['Features', 'Duplicated Values', 'Duplicated Rows', 'Missing Values', 'Unique Values', 'Data Type']\n",
    "    display(output)"
   ]
  },
  {
   "cell_type": "code",
   "execution_count": 4,
   "metadata": {},
   "outputs": [],
   "source": [
    "def perc_on_bar(plot, feature):\n",
    "    total = len(feature)\n",
    "    for p in ax.patches:\n",
    "        percentage = \"{:.1f}%\".format(100 * p.get_height() / total)\n",
    "        x = p.get_x() + p.get_width() / 2 - 0.05\n",
    "        y = p.get_y() + p.get_height()\n",
    "        ax.annotate(percentage, (x, y), size=12)\n",
    "    plt.show()"
   ]
  },
  {
   "cell_type": "code",
   "execution_count": 5,
   "metadata": {},
   "outputs": [],
   "source": [
    "def viz(data, indice):\n",
    "    fig = go.Figure(data=[go.Candlestick(x=data['UTC_Time'],\n",
    "                open=data['Open'],\n",
    "                high=data['High'],\n",
    "                low=data['Low'],\n",
    "                close=data['Close'])])\n",
    "\n",
    "    fig.update_layout(xaxis_rangeslider_visible=False,\n",
    "                      title=\"Neighbor: \" + indice + \" \" + pair + \" \" + timeframe,\n",
    "                      title_font_color=\"blue\",\n",
    "                      title_font_size = 20)\n",
    "    \n",
    "    fig.update_xaxes(rangebreaks=[dict(bounds=[\"sat\", \"mon\"])])\n",
    "    \n",
    "    fig.write_image(path + \"/\" + indice + \"_chart.png\")\n",
    "    \n",
    "    fig.show()"
   ]
  },
  {
   "cell_type": "code",
   "execution_count": 6,
   "metadata": {},
   "outputs": [],
   "source": [
    "def market_order(instrument, units, take_profit, stop_loss):\n",
    "    login_request_body = {\n",
    "        \"order\": {\n",
    "            \"type\": \"MARKET\",\n",
    "            \"instrument\": instrument,\n",
    "            \"units\": units,\n",
    "            \"timeInForce\": \"IOC\",\n",
    "            \"positionFill\": \"DEFAULT\",\n",
    "            \"takeProfitOnFill\": {\n",
    "                \"price\": take_profit\n",
    "            },\n",
    "            \"stopLossOnFill\": {\n",
    "                \"price\": stop_loss\n",
    "            }\n",
    "        }\n",
    "    }\n",
    "    response = requests.post(provider_api_url, data=json.dumps(login_request_body),\n",
    "                             headers=request_headers,\n",
    "                             verify=False)\n",
    "    response\n",
    "    response.status_code"
   ]
  },
  {
   "cell_type": "markdown",
   "metadata": {},
   "source": [
    "### The Configs for Run:"
   ]
  },
  {
   "cell_type": "code",
   "execution_count": 7,
   "metadata": {},
   "outputs": [],
   "source": [
    "with open ('config.yml') as ymlfile:\n",
    "    cfg = yaml.safe_load(ymlfile)\n",
    "    oanda_api_key = cfg['creds']['oanda_api']\n",
    "    account_number = cfg['creds']['account_number'] "
   ]
  },
  {
   "cell_type": "markdown",
   "metadata": {},
   "source": [
    "### <font color='red'>Currency Pair</font>"
   ]
  },
  {
   "cell_type": "code",
   "execution_count": 8,
   "metadata": {},
   "outputs": [],
   "source": [
    "Load_10K_Records=True\n",
    "\n",
    "currency_pairs = ['EUR_USD','EUR_GBP','EUR_NZD','EUR_AUD','EUR_CHF','EUR_CAD',\n",
    "                  'GBP_USD','GBP_CHF','GBP_NZD','GBP_AUD','GBP_CAD','AUD_USD',\n",
    "                  'AUD_CAD','AUD_CHF','AUD_NZD','NZD_USD','NZD_CHF','NZD_CAD',\n",
    "                  'USD_CAD','USD_CHF','CAD_CHF']\n",
    "\n",
    "currency_pairs = [\"EUR_GBP\"]\n",
    "\n",
    "\n",
    "timeframe = \"H4\"\n",
    "#D #H1 #H4 M30\n",
    "# https://developer.oanda.com/rest-live-v20/instrument-df/#CandlestickGranularity\n",
    "price_char = \"M\"\n",
    "#M(midpoint candles) #B(bid candles) #A(ask candles) #BA\n",
    "price_com = \"mid\"\n",
    "#mid #bid #ask\n",
    "\n",
    "# def of OANDA request variable\n",
    "provider_api_url = 'https://api-fxpractice.oanda.com/v3/accounts/101-001-16477519-001/orders'\n",
    "request_headers = {\n",
    "    \"Authorization\": oanda_api_key,\n",
    "    \"Accept-Datetime-Format\": \"RFC3339\",\n",
    "    \"Connection\": \"Keep-Alive\",\n",
    "    \"Content-Type\": \"application/json;charset=UTF-8\"\n",
    "}\n"
   ]
  },
  {
   "cell_type": "code",
   "execution_count": 9,
   "metadata": {},
   "outputs": [],
   "source": [
    "provider_authorization = 'Bearer {0}'.format(oanda_api_key)\n",
    "\n",
    "headers = {\n",
    "    'Content-Type': 'application/json',\n",
    "    'Authorization': provider_authorization,\n",
    "}"
   ]
  },
  {
   "cell_type": "markdown",
   "metadata": {},
   "source": [
    "### Logging"
   ]
  },
  {
   "cell_type": "code",
   "execution_count": 10,
   "metadata": {},
   "outputs": [],
   "source": [
    "now = datetime.now()\n",
    "for pair in currency_pairs:\n",
    "    Log_Folder = now.strftime(\"%d-%m-%Y_%I-%M_%p\")\n",
    "    path = os.path.join(Log_Folder+\"_\"+pair)\n",
    "    os.mkdir(path)"
   ]
  },
  {
   "cell_type": "code",
   "execution_count": 11,
   "metadata": {},
   "outputs": [
    {
     "data": {
      "text/plain": [
       "'01-10-2021_11-22_PM_EUR_GBP'"
      ]
     },
     "execution_count": 11,
     "metadata": {},
     "output_type": "execute_result"
    }
   ],
   "source": [
    "path"
   ]
  },
  {
   "cell_type": "markdown",
   "metadata": {},
   "source": [
    "# Get Candlesticks Data"
   ]
  },
  {
   "cell_type": "markdown",
   "metadata": {},
   "source": [
    "### Pricing & Spread Cost"
   ]
  },
  {
   "cell_type": "code",
   "execution_count": 12,
   "metadata": {},
   "outputs": [],
   "source": [
    "for pair in currency_pairs:\n",
    "    pricing_params = (\n",
    "        ('instruments', pair),\n",
    "    )\n",
    "    response = requests.get('https://api-fxpractice.oanda.com/v3/accounts/{}/pricing'.format(account_number),\n",
    "                            headers=headers,\n",
    "                            params=pricing_params).json()"
   ]
  },
  {
   "cell_type": "code",
   "execution_count": 13,
   "metadata": {},
   "outputs": [
    {
     "name": "stdout",
     "output_type": "stream",
     "text": [
      "Date: 2021-10-01T21:00:18.665716462Z Ask: 0.85629 Bid: 0.85558\n"
     ]
    }
   ],
   "source": [
    "time = response['time']\n",
    "ask = response['prices'][0]['closeoutAsk']\n",
    "bid = response['prices'][0]['closeoutBid']\n",
    "print ('Date:', time, 'Ask:', ask, 'Bid:', bid)"
   ]
  },
  {
   "cell_type": "markdown",
   "metadata": {},
   "source": [
    "### Open Positions"
   ]
  },
  {
   "cell_type": "code",
   "execution_count": 14,
   "metadata": {},
   "outputs": [
    {
     "data": {
      "text/plain": [
       "[{'instrument': 'EUR_USD',\n",
       "  'long': {'units': '0',\n",
       "   'pl': '-43414.1846',\n",
       "   'resettablePL': '-43414.1846',\n",
       "   'financing': '-410.1721',\n",
       "   'dividendAdjustment': '0.0000',\n",
       "   'guaranteedExecutionFees': '0.0000',\n",
       "   'unrealizedPL': '0.0000'},\n",
       "  'short': {'units': '-1000000',\n",
       "   'averagePrice': '1.15667',\n",
       "   'pl': '7208.9485',\n",
       "   'resettablePL': '7208.9485',\n",
       "   'financing': '-80.2932',\n",
       "   'dividendAdjustment': '0.0000',\n",
       "   'guaranteedExecutionFees': '0.0000',\n",
       "   'tradeIDs': ['6177'],\n",
       "   'unrealizedPL': '-2700.0000'},\n",
       "  'pl': '-36205.2361',\n",
       "  'resettablePL': '-36205.2361',\n",
       "  'financing': '-490.4653',\n",
       "  'commission': '2800.0400',\n",
       "  'dividendAdjustment': '0.0000',\n",
       "  'guaranteedExecutionFees': '0.0000',\n",
       "  'unrealizedPL': '-2700.0000',\n",
       "  'marginUsed': '23186.0000'}]"
      ]
     },
     "execution_count": 14,
     "metadata": {},
     "output_type": "execute_result"
    }
   ],
   "source": [
    "response = requests.get('https://api-fxpractice.oanda.com/v3/accounts/{}/openPositions'.format(account_number),\n",
    "                            headers=headers,\n",
    "                            params=pricing_params).json()\n",
    "response['positions']"
   ]
  },
  {
   "cell_type": "markdown",
   "metadata": {},
   "source": [
    "###  Candlestick Data"
   ]
  },
  {
   "cell_type": "code",
   "execution_count": 15,
   "metadata": {},
   "outputs": [],
   "source": [
    "params_count = (\n",
    "    ('price', price_char),\n",
    "    ('count', '5000'),\n",
    "    ('granularity', timeframe),\n",
    ")\n"
   ]
  },
  {
   "cell_type": "code",
   "execution_count": 16,
   "metadata": {
    "scrolled": false
   },
   "outputs": [],
   "source": [
    "for pair in currency_pairs:\n",
    "    first_response = requests.get('https://api-fxpractice.oanda.com/v3/instruments/{}/candles'.format(pair), \n",
    "                            headers=headers,\n",
    "                            params=params_count).json()"
   ]
  },
  {
   "cell_type": "code",
   "execution_count": 17,
   "metadata": {},
   "outputs": [],
   "source": [
    "if Load_10K_Records:\n",
    "    datetime_object = parser.parse(first_response['candles'][0]['time'])\n",
    "    date= datetime_object - relativedelta(years=3)  \n",
    "    from_date = date.replace(tzinfo=timezone.utc).timestamp()\n",
    "    params_date = (\n",
    "        ('count', '5000'),\n",
    "        ('price', price_char),\n",
    "        ('from', from_date),\n",
    "        ('granularity', timeframe),)\n",
    "\n",
    "    second_response = requests.get('https://api-fxpractice.oanda.com/v3/instruments/{}/candles'.format(pair),\n",
    "                                   headers=headers,\n",
    "                                   params=params_date).json()\n",
    "            \n",
    "    first_response= first_response['candles']  \n",
    "    second_response= second_response['candles']\n",
    "    second_response.extend(first_response)\n",
    "    response=second_response\n",
    "else:\n",
    "    response=first_response['candles']"
   ]
  },
  {
   "cell_type": "code",
   "execution_count": 18,
   "metadata": {},
   "outputs": [],
   "source": [
    "filename = \"{}_{}.csv\".format(pair, timeframe)\n",
    "output = []\n",
    "all_candlesticks = response\n",
    "\n",
    "for i in range (len(all_candlesticks)):\n",
    "    result= (convert_date(response[i]['time']))\n",
    "    output.append([(result[0]),(result[1]),(result[2]),(result[3]),\n",
    "                    response[i]['time'],\n",
    "                    response[i]['volume'], \n",
    "                    response[i][price_com]['o'],\n",
    "                    response[i][price_com]['h'],\n",
    "                    response[i][price_com]['l'],\n",
    "                    response[i][price_com]['c']])\n",
    "    \n",
    "output = pd.DataFrame(output)\n",
    "output.columns = ['Date', 'Time', 'Weekday','Weekday_Name','UTC_Time', 'Volume', 'Open', 'High', 'Low', 'Close']\n",
    "data = output.to_csv(filename, header = True, index = False)\n",
    "data = pd.read_csv(filename)"
   ]
  },
  {
   "cell_type": "code",
   "execution_count": 19,
   "metadata": {},
   "outputs": [
    {
     "data": {
      "text/html": [
       "<div>\n",
       "<style scoped>\n",
       "    .dataframe tbody tr th:only-of-type {\n",
       "        vertical-align: middle;\n",
       "    }\n",
       "\n",
       "    .dataframe tbody tr th {\n",
       "        vertical-align: top;\n",
       "    }\n",
       "\n",
       "    .dataframe thead th {\n",
       "        text-align: right;\n",
       "    }\n",
       "</style>\n",
       "<table border=\"1\" class=\"dataframe\">\n",
       "  <thead>\n",
       "    <tr style=\"text-align: right;\">\n",
       "      <th></th>\n",
       "      <th>Date</th>\n",
       "      <th>Time</th>\n",
       "      <th>Weekday</th>\n",
       "      <th>Weekday_Name</th>\n",
       "      <th>UTC_Time</th>\n",
       "      <th>Volume</th>\n",
       "      <th>Open</th>\n",
       "      <th>High</th>\n",
       "      <th>Low</th>\n",
       "      <th>Close</th>\n",
       "    </tr>\n",
       "  </thead>\n",
       "  <tbody>\n",
       "    <tr>\n",
       "      <th>0</th>\n",
       "      <td>2015-07-17</td>\n",
       "      <td>01:00:00</td>\n",
       "      <td>4</td>\n",
       "      <td>Friday</td>\n",
       "      <td>2015-07-17T01:00:00.000000000Z</td>\n",
       "      <td>920</td>\n",
       "      <td>0.69718</td>\n",
       "      <td>0.69758</td>\n",
       "      <td>0.69648</td>\n",
       "      <td>0.69693</td>\n",
       "    </tr>\n",
       "    <tr>\n",
       "      <th>1</th>\n",
       "      <td>2015-07-17</td>\n",
       "      <td>05:00:00</td>\n",
       "      <td>4</td>\n",
       "      <td>Friday</td>\n",
       "      <td>2015-07-17T05:00:00.000000000Z</td>\n",
       "      <td>3198</td>\n",
       "      <td>0.69696</td>\n",
       "      <td>0.69712</td>\n",
       "      <td>0.69444</td>\n",
       "      <td>0.69602</td>\n",
       "    </tr>\n",
       "    <tr>\n",
       "      <th>2</th>\n",
       "      <td>2015-07-17</td>\n",
       "      <td>09:00:00</td>\n",
       "      <td>4</td>\n",
       "      <td>Friday</td>\n",
       "      <td>2015-07-17T09:00:00.000000000Z</td>\n",
       "      <td>3671</td>\n",
       "      <td>0.69600</td>\n",
       "      <td>0.69895</td>\n",
       "      <td>0.69553</td>\n",
       "      <td>0.69728</td>\n",
       "    </tr>\n",
       "    <tr>\n",
       "      <th>3</th>\n",
       "      <td>2015-07-17</td>\n",
       "      <td>13:00:00</td>\n",
       "      <td>4</td>\n",
       "      <td>Friday</td>\n",
       "      <td>2015-07-17T13:00:00.000000000Z</td>\n",
       "      <td>3694</td>\n",
       "      <td>0.69730</td>\n",
       "      <td>0.69765</td>\n",
       "      <td>0.69364</td>\n",
       "      <td>0.69474</td>\n",
       "    </tr>\n",
       "    <tr>\n",
       "      <th>4</th>\n",
       "      <td>2015-07-17</td>\n",
       "      <td>17:00:00</td>\n",
       "      <td>4</td>\n",
       "      <td>Friday</td>\n",
       "      <td>2015-07-17T17:00:00.000000000Z</td>\n",
       "      <td>1204</td>\n",
       "      <td>0.69472</td>\n",
       "      <td>0.69526</td>\n",
       "      <td>0.69381</td>\n",
       "      <td>0.69419</td>\n",
       "    </tr>\n",
       "  </tbody>\n",
       "</table>\n",
       "</div>"
      ],
      "text/plain": [
       "         Date      Time  Weekday Weekday_Name                        UTC_Time  \\\n",
       "0  2015-07-17  01:00:00        4       Friday  2015-07-17T01:00:00.000000000Z   \n",
       "1  2015-07-17  05:00:00        4       Friday  2015-07-17T05:00:00.000000000Z   \n",
       "2  2015-07-17  09:00:00        4       Friday  2015-07-17T09:00:00.000000000Z   \n",
       "3  2015-07-17  13:00:00        4       Friday  2015-07-17T13:00:00.000000000Z   \n",
       "4  2015-07-17  17:00:00        4       Friday  2015-07-17T17:00:00.000000000Z   \n",
       "\n",
       "   Volume     Open     High      Low    Close  \n",
       "0     920  0.69718  0.69758  0.69648  0.69693  \n",
       "1    3198  0.69696  0.69712  0.69444  0.69602  \n",
       "2    3671  0.69600  0.69895  0.69553  0.69728  \n",
       "3    3694  0.69730  0.69765  0.69364  0.69474  \n",
       "4    1204  0.69472  0.69526  0.69381  0.69419  "
      ]
     },
     "execution_count": 19,
     "metadata": {},
     "output_type": "execute_result"
    }
   ],
   "source": [
    "data.head()"
   ]
  },
  {
   "cell_type": "code",
   "execution_count": 20,
   "metadata": {},
   "outputs": [
    {
     "data": {
      "text/html": [
       "<div>\n",
       "<style scoped>\n",
       "    .dataframe tbody tr th:only-of-type {\n",
       "        vertical-align: middle;\n",
       "    }\n",
       "\n",
       "    .dataframe tbody tr th {\n",
       "        vertical-align: top;\n",
       "    }\n",
       "\n",
       "    .dataframe thead th {\n",
       "        text-align: right;\n",
       "    }\n",
       "</style>\n",
       "<table border=\"1\" class=\"dataframe\">\n",
       "  <thead>\n",
       "    <tr style=\"text-align: right;\">\n",
       "      <th></th>\n",
       "      <th>Date</th>\n",
       "      <th>Time</th>\n",
       "      <th>Weekday</th>\n",
       "      <th>Weekday_Name</th>\n",
       "      <th>UTC_Time</th>\n",
       "      <th>Volume</th>\n",
       "      <th>Open</th>\n",
       "      <th>High</th>\n",
       "      <th>Low</th>\n",
       "      <th>Close</th>\n",
       "    </tr>\n",
       "  </thead>\n",
       "  <tbody>\n",
       "    <tr>\n",
       "      <th>9995</th>\n",
       "      <td>2021-10-01</td>\n",
       "      <td>01:00:00</td>\n",
       "      <td>4</td>\n",
       "      <td>Friday</td>\n",
       "      <td>2021-10-01T01:00:00.000000000Z</td>\n",
       "      <td>1344</td>\n",
       "      <td>0.85960</td>\n",
       "      <td>0.86062</td>\n",
       "      <td>0.85954</td>\n",
       "      <td>0.86042</td>\n",
       "    </tr>\n",
       "    <tr>\n",
       "      <th>9996</th>\n",
       "      <td>2021-10-01</td>\n",
       "      <td>05:00:00</td>\n",
       "      <td>4</td>\n",
       "      <td>Friday</td>\n",
       "      <td>2021-10-01T05:00:00.000000000Z</td>\n",
       "      <td>4841</td>\n",
       "      <td>0.86038</td>\n",
       "      <td>0.86240</td>\n",
       "      <td>0.85888</td>\n",
       "      <td>0.85932</td>\n",
       "    </tr>\n",
       "    <tr>\n",
       "      <th>9997</th>\n",
       "      <td>2021-10-01</td>\n",
       "      <td>09:00:00</td>\n",
       "      <td>4</td>\n",
       "      <td>Friday</td>\n",
       "      <td>2021-10-01T09:00:00.000000000Z</td>\n",
       "      <td>4968</td>\n",
       "      <td>0.85930</td>\n",
       "      <td>0.85932</td>\n",
       "      <td>0.85632</td>\n",
       "      <td>0.85684</td>\n",
       "    </tr>\n",
       "    <tr>\n",
       "      <th>9998</th>\n",
       "      <td>2021-10-01</td>\n",
       "      <td>13:00:00</td>\n",
       "      <td>4</td>\n",
       "      <td>Friday</td>\n",
       "      <td>2021-10-01T13:00:00.000000000Z</td>\n",
       "      <td>5967</td>\n",
       "      <td>0.85682</td>\n",
       "      <td>0.85694</td>\n",
       "      <td>0.85444</td>\n",
       "      <td>0.85517</td>\n",
       "    </tr>\n",
       "    <tr>\n",
       "      <th>9999</th>\n",
       "      <td>2021-10-01</td>\n",
       "      <td>17:00:00</td>\n",
       "      <td>4</td>\n",
       "      <td>Friday</td>\n",
       "      <td>2021-10-01T17:00:00.000000000Z</td>\n",
       "      <td>1206</td>\n",
       "      <td>0.85514</td>\n",
       "      <td>0.85606</td>\n",
       "      <td>0.85496</td>\n",
       "      <td>0.85594</td>\n",
       "    </tr>\n",
       "  </tbody>\n",
       "</table>\n",
       "</div>"
      ],
      "text/plain": [
       "            Date      Time  Weekday Weekday_Name  \\\n",
       "9995  2021-10-01  01:00:00        4       Friday   \n",
       "9996  2021-10-01  05:00:00        4       Friday   \n",
       "9997  2021-10-01  09:00:00        4       Friday   \n",
       "9998  2021-10-01  13:00:00        4       Friday   \n",
       "9999  2021-10-01  17:00:00        4       Friday   \n",
       "\n",
       "                            UTC_Time  Volume     Open     High      Low  \\\n",
       "9995  2021-10-01T01:00:00.000000000Z    1344  0.85960  0.86062  0.85954   \n",
       "9996  2021-10-01T05:00:00.000000000Z    4841  0.86038  0.86240  0.85888   \n",
       "9997  2021-10-01T09:00:00.000000000Z    4968  0.85930  0.85932  0.85632   \n",
       "9998  2021-10-01T13:00:00.000000000Z    5967  0.85682  0.85694  0.85444   \n",
       "9999  2021-10-01T17:00:00.000000000Z    1206  0.85514  0.85606  0.85496   \n",
       "\n",
       "        Close  \n",
       "9995  0.86042  \n",
       "9996  0.85932  \n",
       "9997  0.85684  \n",
       "9998  0.85517  \n",
       "9999  0.85594  "
      ]
     },
     "execution_count": 20,
     "metadata": {},
     "output_type": "execute_result"
    }
   ],
   "source": [
    "data.tail()"
   ]
  },
  {
   "cell_type": "raw",
   "metadata": {},
   "source": [
    "data['Open'] = data['Open']\n",
    "data['Close'] = data['Close']\n",
    "data['High'] = data['High']\n",
    "data['Low'] = data['Low']"
   ]
  },
  {
   "cell_type": "code",
   "execution_count": 21,
   "metadata": {},
   "outputs": [],
   "source": [
    "data = data.drop_duplicates()"
   ]
  },
  {
   "cell_type": "code",
   "execution_count": 22,
   "metadata": {},
   "outputs": [],
   "source": [
    "data = data.to_csv(filename, header = True, index = False)"
   ]
  },
  {
   "cell_type": "code",
   "execution_count": 23,
   "metadata": {},
   "outputs": [],
   "source": [
    "data = pd.read_csv(filename)"
   ]
  },
  {
   "cell_type": "code",
   "execution_count": 24,
   "metadata": {},
   "outputs": [
    {
     "data": {
      "text/plain": [
       "(9659, 10)"
      ]
     },
     "execution_count": 24,
     "metadata": {},
     "output_type": "execute_result"
    }
   ],
   "source": [
    "data.shape"
   ]
  },
  {
   "cell_type": "raw",
   "metadata": {},
   "source": [
    "viz(data)"
   ]
  },
  {
   "cell_type": "markdown",
   "metadata": {},
   "source": [
    "# <font color='red'>CANDLE INDEX NUMBER</font>"
   ]
  },
  {
   "cell_type": "code",
   "execution_count": 25,
   "metadata": {},
   "outputs": [
    {
     "data": {
      "text/plain": [
       "9657"
      ]
     },
     "execution_count": 25,
     "metadata": {},
     "output_type": "execute_result"
    }
   ],
   "source": [
    "candle_no = len(data) - 2\n",
    "candle_no"
   ]
  },
  {
   "cell_type": "raw",
   "metadata": {},
   "source": [
    "data = pd.read_csv(filename)\n",
    "data = data.iloc[candle_no:candle_no+1]\n",
    "viz(data)"
   ]
  },
  {
   "cell_type": "markdown",
   "metadata": {},
   "source": [
    "# Feature Engineering"
   ]
  },
  {
   "cell_type": "markdown",
   "metadata": {},
   "source": [
    "### CandleStick Data"
   ]
  },
  {
   "cell_type": "code",
   "execution_count": 26,
   "metadata": {},
   "outputs": [],
   "source": [
    "data['O-H'] = data['Open'] - data['High']\n",
    "data['O-L'] = data['Open'] - data['Low']\n",
    "data['O-C'] = data['Open'] - data['Close']\n",
    "data['H-L'] = data['High'] - data['Low']\n",
    "data['H-C'] = data['High'] - data['Close']\n",
    "data['L-C'] = data['Low'] - data['Close']"
   ]
  },
  {
   "cell_type": "code",
   "execution_count": 37,
   "metadata": {},
   "outputs": [
    {
     "ename": "SyntaxError",
     "evalue": "unexpected EOF while parsing (<ipython-input-37-a630877ba4ad>, line 8)",
     "output_type": "error",
     "traceback": [
      "\u001b[0;36m  File \u001b[0;32m\"<ipython-input-37-a630877ba4ad>\"\u001b[0;36m, line \u001b[0;32m8\u001b[0m\n\u001b[0;31m    \u001b[0m\n\u001b[0m    ^\u001b[0m\n\u001b[0;31mSyntaxError\u001b[0m\u001b[0;31m:\u001b[0m unexpected EOF while parsing\n"
     ]
    }
   ],
   "source": [
    "data['Direction'] = data['O-C'].apply(lambda x: 1 if x<0 else 0)\n",
    "\n",
    "data['col_1'] = data['Open'] - data['Close']\n",
    "\n",
    "for col1 in data['col_1']:\n",
    "    print(name)\n",
    "    \n",
    "if data[data['col_1']] > 0:\n",
    "    data['col_2'] = data['High'] - data['Open']\n",
    "    data['col_3'] = data['Close'] - data['Low']\n",
    "else:\n",
    "    data['col_2'] = data['High'] - data['Close']\n",
    "    data['col_3'] = data['Open'] - data['Low']\n"
   ]
  },
  {
   "cell_type": "code",
   "execution_count": null,
   "metadata": {},
   "outputs": [],
   "source": [
    "data = data.to_csv(filename, header = True, index = False)"
   ]
  },
  {
   "cell_type": "code",
   "execution_count": null,
   "metadata": {},
   "outputs": [],
   "source": [
    "data = pd.read_csv(filename)"
   ]
  },
  {
   "cell_type": "code",
   "execution_count": null,
   "metadata": {},
   "outputs": [],
   "source": [
    "data.head()"
   ]
  },
  {
   "cell_type": "raw",
   "metadata": {},
   "source": [
    "eda (data)"
   ]
  },
  {
   "cell_type": "raw",
   "metadata": {},
   "source": [
    "plt.figure(figsize=(20,10))\n",
    "plt.xticks(rotation = 90)\n",
    "ax = sns.countplot(data['Direction'].tail(30), order=data['Direction'].tail(30).value_counts().index)\n",
    "perc_on_bar(ax, data['Direction'].tail(30))"
   ]
  },
  {
   "cell_type": "raw",
   "metadata": {},
   "source": [
    "data = data.tail(30)\n",
    "viz(data)"
   ]
  },
  {
   "cell_type": "markdown",
   "metadata": {},
   "source": [
    "# Modeling"
   ]
  },
  {
   "cell_type": "code",
   "execution_count": null,
   "metadata": {},
   "outputs": [],
   "source": [
    "data = pd.read_csv(filename)"
   ]
  },
  {
   "cell_type": "code",
   "execution_count": null,
   "metadata": {},
   "outputs": [],
   "source": [
    "data = data.drop(columns=['Volume','Weekday','Date','Time',\n",
    "                          'Weekday_Name','UTC_Time','Direction',\n",
    "                          'Open', 'High', 'Low', 'Close'])\n",
    "\n",
    "#'Volume', 'Direction'"
   ]
  },
  {
   "cell_type": "markdown",
   "metadata": {},
   "source": [
    "### Scaling using Standard Scaler"
   ]
  },
  {
   "cell_type": "raw",
   "metadata": {},
   "source": [
    "all_col = data.iloc[:,1:].columns.tolist()\n",
    "scaler=StandardScaler()\n",
    "subset=data[all_col].copy()\n",
    "subset_scaled=scaler.fit_transform(subset)   \n",
    "subset_scaled_df=pd.DataFrame(subset_scaled,columns=subset.columns)\n",
    "subset_scaled_df"
   ]
  },
  {
   "cell_type": "raw",
   "metadata": {},
   "source": [
    "clusters=range(1,10)\n",
    "meanDistortions=[]\n",
    "\n",
    "for k in clusters:\n",
    "    model=KMeans(n_clusters=k)\n",
    "    model.fit(subset_scaled_df)\n",
    "    prediction=model.predict(subset_scaled_df)\n",
    "    distortion=sum(np.min(cdist(subset_scaled_df, model.cluster_centers_, 'euclidean'), axis=1)) / subset_scaled_df.shape[0]\n",
    "                           \n",
    "    meanDistortions.append(distortion)\n",
    "\n",
    "    print('Number of Clusters:', k, '\\tAverage Distortion:', distortion)\n",
    "\n",
    "plt.plot(clusters, meanDistortions, 'bx-')\n",
    "plt.xlabel('k')\n",
    "plt.ylabel('Average Distortion')\n",
    "plt.title('Selecting k with the Elbow Method', fontsize=20)"
   ]
  },
  {
   "cell_type": "raw",
   "metadata": {},
   "source": [
    "visualizer =  KElbowVisualizer(KMeans(random_state = 1))\n",
    "visualizer.fit(subset_scaled_df)    \n",
    "visualizer.show()"
   ]
  },
  {
   "cell_type": "code",
   "execution_count": null,
   "metadata": {},
   "outputs": [],
   "source": [
    "def find_k_similar_candles(candle_id, dataset, k=6):\n",
    "    indices=[]\n",
    "    distances = []\n",
    "    output = []\n",
    "    model_knn = NearestNeighbors(metric = 'euclidean', algorithm = 'brute') \n",
    "    model_knn.fit(dataset)\n",
    "    \n",
    "    #metric = 'euclidean' or 'cosine'\n",
    "    \n",
    "    distances, indices = model_knn.kneighbors(dataset.iloc[candle_id,:].values.reshape(1,-1),\n",
    "                                              n_neighbors = k)\n",
    "\n",
    "    for i in range(0,len(distances.flatten())):\n",
    "        if i==0:\n",
    "            display (pd.DataFrame(data.iloc[candle_id]).transpose())\n",
    "            #print(\"Recommendation for {0}:\\n\".format(eurusd_data.index[candle_id]))\n",
    "        else:\n",
    "            #print(\"{0}: {1}, with distance of {2}\".format(i,\n",
    "            #                                               dataset.index[indices.flatten()[i]],\n",
    "            #                                               distances.flatten()[i]))\n",
    "            \n",
    "            output.append ([dataset.index[indices.flatten()[i]],\n",
    "                            distances.flatten()[i],\n",
    "                            dataset.iloc[indices.flatten()[i]]['O-H'],\n",
    "                            dataset.iloc[indices.flatten()[i]]['O-L'],\n",
    "                            dataset.iloc[indices.flatten()[i]]['O-C'],\n",
    "                            dataset.iloc[indices.flatten()[i]]['H-L'],\n",
    "                            dataset.iloc[indices.flatten()[i]]['H-C'],\n",
    "                            dataset.iloc[indices.flatten()[i]]['L-C']])\n",
    "    \n",
    "    output = pd.DataFrame(output)\n",
    "    output.columns = ['Indice','Distance','O-H','O-L','O-C','H-L','H-C','L-C']\n",
    "    display (output)\n",
    "    \n",
    "    return indices, distances"
   ]
  },
  {
   "cell_type": "markdown",
   "metadata": {},
   "source": [
    "### Top 5 Similar Candlesticks"
   ]
  },
  {
   "cell_type": "code",
   "execution_count": null,
   "metadata": {},
   "outputs": [],
   "source": [
    "indices, distances = find_k_similar_candles (candle_no,data)"
   ]
  },
  {
   "cell_type": "code",
   "execution_count": null,
   "metadata": {},
   "outputs": [],
   "source": [
    "indices = indices[0:1][0]"
   ]
  },
  {
   "cell_type": "code",
   "execution_count": null,
   "metadata": {},
   "outputs": [],
   "source": [
    "indices"
   ]
  },
  {
   "cell_type": "markdown",
   "metadata": {},
   "source": [
    "### Currnet Market/Candlestick"
   ]
  },
  {
   "cell_type": "code",
   "execution_count": null,
   "metadata": {
    "scrolled": false
   },
   "outputs": [],
   "source": [
    "closed_candle = \"currnet_market_data.csv\"\n",
    "data = pd.read_csv(filename)\n",
    "data = data.iloc[candle_no-60:candle_no+1]\n",
    "data.to_csv(path + \"/\" + closed_candle, header = True, index = False)\n",
    "viz(data, \"current_market\")"
   ]
  },
  {
   "cell_type": "markdown",
   "metadata": {},
   "source": [
    "### Recommendations"
   ]
  },
  {
   "cell_type": "code",
   "execution_count": null,
   "metadata": {
    "scrolled": false
   },
   "outputs": [],
   "source": [
    "for indice in indices[1:6]:\n",
    "    recommendation_log = \"{}_data.csv\".format(indice)\n",
    "    data = pd.read_csv(filename)\n",
    "    data = data.iloc[indice:indice+50]\n",
    "    data.to_csv(path + \"/\" + recommendation_log, header = True, index = False)\n",
    "    print ('Neighbor:', indice, '|', '10K Records:', Load_10K_Records)\n",
    "    viz(data, indice.astype(str))"
   ]
  },
  {
   "cell_type": "code",
   "execution_count": null,
   "metadata": {},
   "outputs": [],
   "source": [
    "currentpath = os.path.join(sys.path[0])\n",
    "pngfiles = []\n",
    "pngfiles = glob.glob(currentpath+\"/\"+path+\"/*.png\")\n",
    "pdf = FPDF()\n",
    "\n",
    "for pngfile in pngfiles:\n",
    "    pdf.add_page()\n",
    "    pdf.image(pngfile, w=200, h=130)\n",
    "    \n",
    "pdf.output(path+\"/recommendations.pdf\", \"F\")"
   ]
  },
  {
   "cell_type": "code",
   "execution_count": null,
   "metadata": {},
   "outputs": [],
   "source": []
  }
 ],
 "metadata": {
  "kernelspec": {
   "display_name": "Python 3",
   "language": "python",
   "name": "python3"
  },
  "language_info": {
   "codemirror_mode": {
    "name": "ipython",
    "version": 3
   },
   "file_extension": ".py",
   "mimetype": "text/x-python",
   "name": "python",
   "nbconvert_exporter": "python",
   "pygments_lexer": "ipython3",
   "version": "3.7.3"
  }
 },
 "nbformat": 4,
 "nbformat_minor": 2
}
