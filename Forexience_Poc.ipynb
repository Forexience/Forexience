{
 "cells": [
  {
   "cell_type": "code",
   "execution_count": 1,
   "metadata": {},
   "outputs": [],
   "source": [
    "import requests\n",
    "import json\n",
    "import time\n",
    "import re\n",
    "import datetime\n",
    "import calendar\n",
    "import dateutil.parser as parser\n",
    "from dateutil.relativedelta import relativedelta\n",
    "from datetime import datetime, timezone\n",
    "import yaml\n",
    "import pandas as pd\n",
    "import numpy as np\n",
    "import warnings\n",
    "warnings.filterwarnings('ignore')\n",
    "import plotly.graph_objects as go\n",
    "import seaborn as sns\n",
    "import matplotlib.pyplot as plt\n",
    "from sklearn.preprocessing import StandardScaler\n",
    "from sklearn.cluster import KMeans\n",
    "from scipy.spatial.distance import cdist\n",
    "from sklearn.neighbors import NearestNeighbors\n",
    "from yellowbrick.cluster import KElbowVisualizer, SilhouetteVisualizer\n",
    "import os, sys, glob\n",
    "import kaleido\n",
    "from PIL import Image\n",
    "from fpdf import FPDF"
   ]
  },
  {
   "cell_type": "code",
   "execution_count": 2,
   "metadata": {},
   "outputs": [],
   "source": [
    "def convert_date(utc_time): \n",
    "    parsed_date = parser.parse(utc_time)\n",
    "    var_date=parsed_date.date()\n",
    "    var_time=parsed_date.time()\n",
    "    var_weekday=parsed_date.weekday()\n",
    "    var_weekday_name=calendar.day_name[parsed_date.weekday()]\n",
    "    return var_date, var_time, var_weekday ,var_weekday_name"
   ]
  },
  {
   "cell_type": "code",
   "execution_count": 3,
   "metadata": {},
   "outputs": [],
   "source": [
    "def eda(data):\n",
    "    output=[]\n",
    "    for col in data.columns:\n",
    "        duplicatedvalue = data[col].duplicated().sum()\n",
    "        duplicatedrows = data.duplicated().sum()\n",
    "        missingvalue = np.sum(pd.isna(data[col]))\n",
    "        uniquevalue = data[col].nunique()\n",
    "        datatype = str(data[col].dtype)\n",
    "        \n",
    "        output.append([col, duplicatedvalue, duplicatedrows, missingvalue, uniquevalue, datatype])\n",
    "        \n",
    "    output = pd.DataFrame(output) \n",
    "    output.columns = ['Features', 'Duplicated Values', 'Duplicated Rows', 'Missing Values', 'Unique Values', 'Data Type']\n",
    "    display(output)"
   ]
  },
  {
   "cell_type": "code",
   "execution_count": 4,
   "metadata": {},
   "outputs": [],
   "source": [
    "def get_last_value(value):\n",
    "    last = value\n",
    "    return last"
   ]
  },
  {
   "cell_type": "code",
   "execution_count": 5,
   "metadata": {},
   "outputs": [],
   "source": [
    "def perc_on_bar(plot, feature):\n",
    "    total = len(feature)\n",
    "    for p in ax.patches:\n",
    "        percentage = \"{:.1f}%\".format(100 * p.get_height() / total)\n",
    "        x = p.get_x() + p.get_width() / 2 - 0.05\n",
    "        y = p.get_y() + p.get_height()\n",
    "        ax.annotate(percentage, (x, y), size=12)\n",
    "    plt.show()"
   ]
  },
  {
   "cell_type": "code",
   "execution_count": 6,
   "metadata": {},
   "outputs": [],
   "source": [
    "def viz(data, indice):\n",
    "    fig = go.Figure(data=[go.Candlestick(x=data['UTC_Time'],\n",
    "                open=data['Open'],\n",
    "                high=data['High'],\n",
    "                low=data['Low'],\n",
    "                close=data['Close'])])\n",
    "\n",
    "    fig.update_layout(xaxis_rangeslider_visible=False,\n",
    "                      title=\"Neighbor: \" + indice + \" \" + pair + \" \" + timeframe,\n",
    "                      title_font_color=\"blue\",\n",
    "                      title_font_size = 20)\n",
    "    \n",
    "    fig.update_xaxes(rangebreaks=[dict(bounds=[\"sat\", \"mon\"])])\n",
    "    \n",
    "    fig.write_image(path + \"/\" + indice + \"_chart.png\")\n",
    "    \n",
    "    fig.show()"
   ]
  },
  {
   "cell_type": "code",
   "execution_count": 7,
   "metadata": {},
   "outputs": [],
   "source": [
    "def market_order(instrument, units, take_profit, stop_loss):\n",
    "    login_request_body = {\n",
    "        \"order\": {\n",
    "            \"type\": \"MARKET\",\n",
    "            \"instrument\": instrument,\n",
    "            \"units\": units,\n",
    "            \"timeInForce\": \"IOC\",\n",
    "            \"positionFill\": \"DEFAULT\",\n",
    "            \"takeProfitOnFill\": {\n",
    "                \"price\": take_profit\n",
    "            },\n",
    "            \"stopLossOnFill\": {\n",
    "                \"price\": stop_loss\n",
    "            }\n",
    "        }\n",
    "    }\n",
    "    response = requests.post(provider_api_url, data=json.dumps(login_request_body),\n",
    "                             headers=request_headers,\n",
    "                             verify=False)\n",
    "    response\n",
    "    response.status_code"
   ]
  },
  {
   "cell_type": "markdown",
   "metadata": {},
   "source": [
    "### The Configs for Run:"
   ]
  },
  {
   "cell_type": "code",
   "execution_count": 8,
   "metadata": {},
   "outputs": [],
   "source": [
    "with open ('config.yml') as ymlfile:\n",
    "    cfg = yaml.safe_load(ymlfile)\n",
    "    oanda_api_key = cfg['creds']['oanda_api']\n",
    "    account_number = cfg['creds']['account_number'] "
   ]
  },
  {
   "cell_type": "markdown",
   "metadata": {},
   "source": [
    "### <font color='red'>Currency Pair</font>"
   ]
  },
  {
   "cell_type": "code",
   "execution_count": 9,
   "metadata": {},
   "outputs": [],
   "source": [
    "Load_10K_Records=True\n",
    "\n",
    "\n",
    "asia = ['EUR_NZD','EUR_AUD','GBP_NZD','GBP_AUD','AUD_USD','AUD_CAD','AUD_CHF','AUD_NZD','NZD_USD','NZD_CHF','NZD_CAD']\n",
    "\n",
    "currency_pairs = ['EUR_USD','EUR_GBP','EUR_NZD','EUR_AUD','EUR_CHF','EUR_CAD',\n",
    "                  'GBP_USD','GBP_CHF','GBP_NZD','GBP_AUD','GBP_CAD','AUD_USD',\n",
    "                  'AUD_CAD','AUD_CHF','AUD_NZD','NZD_USD','NZD_CHF','NZD_CAD',\n",
    "                  'USD_CAD','USD_CHF','CAD_CHF']\n",
    "\n",
    "currency_pairs = [\"EUR_USD\"]\n",
    "\n",
    "\n",
    "timeframe = \"H4\"\n",
    "#D #H1 #H4 M30\n",
    "# https://developer.oanda.com/rest-live-v20/instrument-df/#CandlestickGranularity\n",
    "price_char = \"M\"\n",
    "#M(midpoint candles) #B(bid candles) #A(ask candles) #BA\n",
    "price_com = \"mid\"\n",
    "#mid #bid #ask\n",
    "\n",
    "# def of OANDA request variable\n",
    "provider_api_url = 'https://api-fxpractice.oanda.com/v3/accounts/101-001-16477519-001/orders'\n",
    "request_headers = {\n",
    "    \"Authorization\": oanda_api_key,\n",
    "    \"Accept-Datetime-Format\": \"RFC3339\",\n",
    "    \"Connection\": \"Keep-Alive\",\n",
    "    \"Content-Type\": \"application/json;charset=UTF-8\"\n",
    "}\n"
   ]
  },
  {
   "cell_type": "code",
   "execution_count": 10,
   "metadata": {},
   "outputs": [],
   "source": [
    "provider_authorization = 'Bearer {0}'.format(oanda_api_key)\n",
    "\n",
    "headers = {\n",
    "    'Content-Type': 'application/json',\n",
    "    'Authorization': provider_authorization,\n",
    "}"
   ]
  },
  {
   "cell_type": "markdown",
   "metadata": {},
   "source": [
    "### Logging"
   ]
  },
  {
   "cell_type": "code",
   "execution_count": 11,
   "metadata": {},
   "outputs": [],
   "source": [
    "now = datetime.now()\n",
    "for pair in currency_pairs:\n",
    "    Log_Folder = now.strftime(\"%d-%m-%Y_%I-%M_%p\")\n",
    "    path = os.path.join(Log_Folder+\"_\"+pair)\n",
    "    os.mkdir(path)"
   ]
  },
  {
   "cell_type": "markdown",
   "metadata": {},
   "source": [
    "# Get Candlesticks Data"
   ]
  },
  {
   "cell_type": "markdown",
   "metadata": {},
   "source": [
    "### Pricing & Spread Cost"
   ]
  },
  {
   "cell_type": "code",
   "execution_count": 12,
   "metadata": {},
   "outputs": [],
   "source": [
    "for pair in currency_pairs:\n",
    "    pricing_params = (\n",
    "        ('instruments', pair),\n",
    "    )\n",
    "    response = requests.get('https://api-fxpractice.oanda.com/v3/accounts/{}/pricing'.format(account_number),\n",
    "                            headers=headers,\n",
    "                            params=pricing_params).json()"
   ]
  },
  {
   "cell_type": "code",
   "execution_count": 13,
   "metadata": {},
   "outputs": [
    {
     "name": "stdout",
     "output_type": "stream",
     "text": [
      "Date: 2021-10-19T03:18:03.614190275Z Ask: 1.16403 Bid: 1.16398\n"
     ]
    }
   ],
   "source": [
    "time = response['time']\n",
    "ask = response['prices'][0]['closeoutAsk']\n",
    "bid = response['prices'][0]['closeoutBid']\n",
    "print ('Date:', time, 'Ask:', ask, 'Bid:', bid)"
   ]
  },
  {
   "cell_type": "markdown",
   "metadata": {},
   "source": [
    "### Open Positions"
   ]
  },
  {
   "cell_type": "code",
   "execution_count": 14,
   "metadata": {},
   "outputs": [
    {
     "data": {
      "text/plain": [
       "[]"
      ]
     },
     "execution_count": 14,
     "metadata": {},
     "output_type": "execute_result"
    }
   ],
   "source": [
    "response = requests.get('https://api-fxpractice.oanda.com/v3/accounts/{}/openPositions'.format(account_number),\n",
    "                            headers=headers,\n",
    "                            params=pricing_params).json()\n",
    "response['positions']"
   ]
  },
  {
   "cell_type": "markdown",
   "metadata": {},
   "source": [
    "###  Candlestick Data"
   ]
  },
  {
   "cell_type": "code",
   "execution_count": 15,
   "metadata": {},
   "outputs": [],
   "source": [
    "params_count = (\n",
    "    ('price', price_char),\n",
    "    ('count', '5000'),\n",
    "    ('granularity', timeframe),\n",
    ")\n"
   ]
  },
  {
   "cell_type": "code",
   "execution_count": 16,
   "metadata": {
    "scrolled": false
   },
   "outputs": [],
   "source": [
    "for pair in currency_pairs:\n",
    "    first_response = requests.get('https://api-fxpractice.oanda.com/v3/instruments/{}/candles'.format(pair), \n",
    "                            headers=headers,\n",
    "                            params=params_count).json()"
   ]
  },
  {
   "cell_type": "code",
   "execution_count": 17,
   "metadata": {},
   "outputs": [],
   "source": [
    "if Load_10K_Records:\n",
    "    datetime_object = parser.parse(first_response['candles'][0]['time'])\n",
    "    date= datetime_object - relativedelta(years=3)  \n",
    "    from_date = date.replace(tzinfo=timezone.utc).timestamp()\n",
    "    params_date = (\n",
    "        ('count', '5000'),\n",
    "        ('price', price_char),\n",
    "        ('from', from_date),\n",
    "        ('granularity', timeframe),)\n",
    "\n",
    "    second_response = requests.get('https://api-fxpractice.oanda.com/v3/instruments/{}/candles'.format(pair),\n",
    "                                   headers=headers,\n",
    "                                   params=params_date).json()\n",
    "            \n",
    "    first_response= first_response['candles']  \n",
    "    second_response= second_response['candles']\n",
    "    second_response.extend(first_response)\n",
    "    response=second_response\n",
    "else:\n",
    "    response=first_response['candles']"
   ]
  },
  {
   "cell_type": "code",
   "execution_count": 18,
   "metadata": {},
   "outputs": [],
   "source": [
    "filename = \"{}_{}.csv\".format(pair, timeframe)\n",
    "output = []\n",
    "all_candlesticks = response\n",
    "\n",
    "for i in range (len(all_candlesticks)):\n",
    "    result= (convert_date(response[i]['time']))\n",
    "    output.append([(result[0]),(result[1]),(result[2]),(result[3]),\n",
    "                    response[i]['time'],\n",
    "                    response[i]['volume'], \n",
    "                    response[i][price_com]['o'],\n",
    "                    response[i][price_com]['h'],\n",
    "                    response[i][price_com]['l'],\n",
    "                    response[i][price_com]['c']])\n",
    "    \n",
    "output = pd.DataFrame(output)\n",
    "output.columns = ['Date', 'Time', 'Weekday','Weekday_Name','UTC_Time', 'Volume', 'Open', 'High', 'Low', 'Close']\n",
    "data = output.to_csv(filename, header = True, index = False)\n",
    "data = pd.read_csv(filename)"
   ]
  },
  {
   "cell_type": "code",
   "execution_count": 19,
   "metadata": {},
   "outputs": [
    {
     "data": {
      "text/html": [
       "<div>\n",
       "<style scoped>\n",
       "    .dataframe tbody tr th:only-of-type {\n",
       "        vertical-align: middle;\n",
       "    }\n",
       "\n",
       "    .dataframe tbody tr th {\n",
       "        vertical-align: top;\n",
       "    }\n",
       "\n",
       "    .dataframe thead th {\n",
       "        text-align: right;\n",
       "    }\n",
       "</style>\n",
       "<table border=\"1\" class=\"dataframe\">\n",
       "  <thead>\n",
       "    <tr style=\"text-align: right;\">\n",
       "      <th></th>\n",
       "      <th>Date</th>\n",
       "      <th>Time</th>\n",
       "      <th>Weekday</th>\n",
       "      <th>Weekday_Name</th>\n",
       "      <th>UTC_Time</th>\n",
       "      <th>Volume</th>\n",
       "      <th>Open</th>\n",
       "      <th>High</th>\n",
       "      <th>Low</th>\n",
       "      <th>Close</th>\n",
       "    </tr>\n",
       "  </thead>\n",
       "  <tbody>\n",
       "    <tr>\n",
       "      <th>0</th>\n",
       "      <td>2015-08-02</td>\n",
       "      <td>21:00:00</td>\n",
       "      <td>6</td>\n",
       "      <td>Sunday</td>\n",
       "      <td>2015-08-02T21:00:00.000000000Z</td>\n",
       "      <td>2197</td>\n",
       "      <td>1.09728</td>\n",
       "      <td>1.09834</td>\n",
       "      <td>1.09656</td>\n",
       "      <td>1.09778</td>\n",
       "    </tr>\n",
       "    <tr>\n",
       "      <th>1</th>\n",
       "      <td>2015-08-03</td>\n",
       "      <td>01:00:00</td>\n",
       "      <td>0</td>\n",
       "      <td>Monday</td>\n",
       "      <td>2015-08-03T01:00:00.000000000Z</td>\n",
       "      <td>2186</td>\n",
       "      <td>1.09774</td>\n",
       "      <td>1.09889</td>\n",
       "      <td>1.09708</td>\n",
       "      <td>1.09801</td>\n",
       "    </tr>\n",
       "    <tr>\n",
       "      <th>2</th>\n",
       "      <td>2015-08-03</td>\n",
       "      <td>05:00:00</td>\n",
       "      <td>0</td>\n",
       "      <td>Monday</td>\n",
       "      <td>2015-08-03T05:00:00.000000000Z</td>\n",
       "      <td>6207</td>\n",
       "      <td>1.09804</td>\n",
       "      <td>1.09963</td>\n",
       "      <td>1.09574</td>\n",
       "      <td>1.09706</td>\n",
       "    </tr>\n",
       "    <tr>\n",
       "      <th>3</th>\n",
       "      <td>2015-08-03</td>\n",
       "      <td>09:00:00</td>\n",
       "      <td>0</td>\n",
       "      <td>Monday</td>\n",
       "      <td>2015-08-03T09:00:00.000000000Z</td>\n",
       "      <td>6964</td>\n",
       "      <td>1.09704</td>\n",
       "      <td>1.09807</td>\n",
       "      <td>1.09412</td>\n",
       "      <td>1.09602</td>\n",
       "    </tr>\n",
       "    <tr>\n",
       "      <th>4</th>\n",
       "      <td>2015-08-03</td>\n",
       "      <td>13:00:00</td>\n",
       "      <td>0</td>\n",
       "      <td>Monday</td>\n",
       "      <td>2015-08-03T13:00:00.000000000Z</td>\n",
       "      <td>7750</td>\n",
       "      <td>1.09604</td>\n",
       "      <td>1.09886</td>\n",
       "      <td>1.09457</td>\n",
       "      <td>1.09604</td>\n",
       "    </tr>\n",
       "  </tbody>\n",
       "</table>\n",
       "</div>"
      ],
      "text/plain": [
       "         Date      Time  Weekday Weekday_Name                        UTC_Time  \\\n",
       "0  2015-08-02  21:00:00        6       Sunday  2015-08-02T21:00:00.000000000Z   \n",
       "1  2015-08-03  01:00:00        0       Monday  2015-08-03T01:00:00.000000000Z   \n",
       "2  2015-08-03  05:00:00        0       Monday  2015-08-03T05:00:00.000000000Z   \n",
       "3  2015-08-03  09:00:00        0       Monday  2015-08-03T09:00:00.000000000Z   \n",
       "4  2015-08-03  13:00:00        0       Monday  2015-08-03T13:00:00.000000000Z   \n",
       "\n",
       "   Volume     Open     High      Low    Close  \n",
       "0    2197  1.09728  1.09834  1.09656  1.09778  \n",
       "1    2186  1.09774  1.09889  1.09708  1.09801  \n",
       "2    6207  1.09804  1.09963  1.09574  1.09706  \n",
       "3    6964  1.09704  1.09807  1.09412  1.09602  \n",
       "4    7750  1.09604  1.09886  1.09457  1.09604  "
      ]
     },
     "execution_count": 19,
     "metadata": {},
     "output_type": "execute_result"
    }
   ],
   "source": [
    "data.head()"
   ]
  },
  {
   "cell_type": "code",
   "execution_count": 20,
   "metadata": {},
   "outputs": [
    {
     "data": {
      "text/html": [
       "<div>\n",
       "<style scoped>\n",
       "    .dataframe tbody tr th:only-of-type {\n",
       "        vertical-align: middle;\n",
       "    }\n",
       "\n",
       "    .dataframe tbody tr th {\n",
       "        vertical-align: top;\n",
       "    }\n",
       "\n",
       "    .dataframe thead th {\n",
       "        text-align: right;\n",
       "    }\n",
       "</style>\n",
       "<table border=\"1\" class=\"dataframe\">\n",
       "  <thead>\n",
       "    <tr style=\"text-align: right;\">\n",
       "      <th></th>\n",
       "      <th>Date</th>\n",
       "      <th>Time</th>\n",
       "      <th>Weekday</th>\n",
       "      <th>Weekday_Name</th>\n",
       "      <th>UTC_Time</th>\n",
       "      <th>Volume</th>\n",
       "      <th>Open</th>\n",
       "      <th>High</th>\n",
       "      <th>Low</th>\n",
       "      <th>Close</th>\n",
       "    </tr>\n",
       "  </thead>\n",
       "  <tbody>\n",
       "    <tr>\n",
       "      <th>9995</th>\n",
       "      <td>2021-10-18</td>\n",
       "      <td>09:00:00</td>\n",
       "      <td>0</td>\n",
       "      <td>Monday</td>\n",
       "      <td>2021-10-18T09:00:00.000000000Z</td>\n",
       "      <td>23221</td>\n",
       "      <td>1.15809</td>\n",
       "      <td>1.16099</td>\n",
       "      <td>1.15764</td>\n",
       "      <td>1.16015</td>\n",
       "    </tr>\n",
       "    <tr>\n",
       "      <th>9996</th>\n",
       "      <td>2021-10-18</td>\n",
       "      <td>13:00:00</td>\n",
       "      <td>0</td>\n",
       "      <td>Monday</td>\n",
       "      <td>2021-10-18T13:00:00.000000000Z</td>\n",
       "      <td>21444</td>\n",
       "      <td>1.16014</td>\n",
       "      <td>1.16219</td>\n",
       "      <td>1.15924</td>\n",
       "      <td>1.16218</td>\n",
       "    </tr>\n",
       "    <tr>\n",
       "      <th>9997</th>\n",
       "      <td>2021-10-18</td>\n",
       "      <td>17:00:00</td>\n",
       "      <td>0</td>\n",
       "      <td>Monday</td>\n",
       "      <td>2021-10-18T17:00:00.000000000Z</td>\n",
       "      <td>6954</td>\n",
       "      <td>1.16218</td>\n",
       "      <td>1.16226</td>\n",
       "      <td>1.16086</td>\n",
       "      <td>1.16112</td>\n",
       "    </tr>\n",
       "    <tr>\n",
       "      <th>9998</th>\n",
       "      <td>2021-10-18</td>\n",
       "      <td>21:00:00</td>\n",
       "      <td>0</td>\n",
       "      <td>Monday</td>\n",
       "      <td>2021-10-18T21:00:00.000000000Z</td>\n",
       "      <td>2267</td>\n",
       "      <td>1.16102</td>\n",
       "      <td>1.16254</td>\n",
       "      <td>1.16086</td>\n",
       "      <td>1.16251</td>\n",
       "    </tr>\n",
       "    <tr>\n",
       "      <th>9999</th>\n",
       "      <td>2021-10-19</td>\n",
       "      <td>01:00:00</td>\n",
       "      <td>1</td>\n",
       "      <td>Tuesday</td>\n",
       "      <td>2021-10-19T01:00:00.000000000Z</td>\n",
       "      <td>4366</td>\n",
       "      <td>1.16252</td>\n",
       "      <td>1.16428</td>\n",
       "      <td>1.16243</td>\n",
       "      <td>1.16400</td>\n",
       "    </tr>\n",
       "  </tbody>\n",
       "</table>\n",
       "</div>"
      ],
      "text/plain": [
       "            Date      Time  Weekday Weekday_Name  \\\n",
       "9995  2021-10-18  09:00:00        0       Monday   \n",
       "9996  2021-10-18  13:00:00        0       Monday   \n",
       "9997  2021-10-18  17:00:00        0       Monday   \n",
       "9998  2021-10-18  21:00:00        0       Monday   \n",
       "9999  2021-10-19  01:00:00        1      Tuesday   \n",
       "\n",
       "                            UTC_Time  Volume     Open     High      Low  \\\n",
       "9995  2021-10-18T09:00:00.000000000Z   23221  1.15809  1.16099  1.15764   \n",
       "9996  2021-10-18T13:00:00.000000000Z   21444  1.16014  1.16219  1.15924   \n",
       "9997  2021-10-18T17:00:00.000000000Z    6954  1.16218  1.16226  1.16086   \n",
       "9998  2021-10-18T21:00:00.000000000Z    2267  1.16102  1.16254  1.16086   \n",
       "9999  2021-10-19T01:00:00.000000000Z    4366  1.16252  1.16428  1.16243   \n",
       "\n",
       "        Close  \n",
       "9995  1.16015  \n",
       "9996  1.16218  \n",
       "9997  1.16112  \n",
       "9998  1.16251  \n",
       "9999  1.16400  "
      ]
     },
     "execution_count": 20,
     "metadata": {},
     "output_type": "execute_result"
    }
   ],
   "source": [
    "data.tail()"
   ]
  },
  {
   "cell_type": "raw",
   "metadata": {},
   "source": [
    "data['Open'] = data['Open']\n",
    "data['Close'] = data['Close']\n",
    "data['High'] = data['High']\n",
    "data['Low'] = data['Low']"
   ]
  },
  {
   "cell_type": "code",
   "execution_count": 21,
   "metadata": {},
   "outputs": [],
   "source": [
    "data = data.drop_duplicates()"
   ]
  },
  {
   "cell_type": "code",
   "execution_count": 22,
   "metadata": {},
   "outputs": [],
   "source": [
    "data = data.to_csv(filename, header = True, index = False)"
   ]
  },
  {
   "cell_type": "code",
   "execution_count": 23,
   "metadata": {},
   "outputs": [],
   "source": [
    "data = pd.read_csv(filename)"
   ]
  },
  {
   "cell_type": "code",
   "execution_count": 24,
   "metadata": {},
   "outputs": [
    {
     "data": {
      "text/plain": [
       "(9660, 10)"
      ]
     },
     "execution_count": 24,
     "metadata": {},
     "output_type": "execute_result"
    }
   ],
   "source": [
    "data.shape"
   ]
  },
  {
   "cell_type": "raw",
   "metadata": {},
   "source": [
    "viz(data)"
   ]
  },
  {
   "cell_type": "raw",
   "metadata": {},
   "source": [
    "data = pd.read_csv(filename)\n",
    "data = data.iloc[candle_no:candle_no+1]\n",
    "viz(data)"
   ]
  },
  {
   "cell_type": "markdown",
   "metadata": {},
   "source": [
    "# Feature Engineering"
   ]
  },
  {
   "cell_type": "markdown",
   "metadata": {},
   "source": [
    "### CandleStick Data"
   ]
  },
  {
   "cell_type": "code",
   "execution_count": 25,
   "metadata": {},
   "outputs": [],
   "source": [
    "data['O-H'] = data['Open'] - data['High']\n",
    "data['O-L'] = data['Open'] - data['Low']\n",
    "data['O-C'] = data['Open'] - data['Close']\n",
    "data['H-L'] = data['High'] - data['Low']\n",
    "data['H-C'] = data['High'] - data['Close']\n",
    "data['L-C'] = data['Low'] - data['Close']\n",
    "\n",
    "data['Direction'] = data['O-C'].apply(lambda x: 1 if x<0 else 0)\n",
    "\n",
    "data['col_1'] = data['Open'] - data['Close']\n",
    "\n",
    "for value in data['col_1']:   \n",
    "    if value > 0:\n",
    "        data['col_2'] = data['High'] - data['Open']\n",
    "        data['col_3'] = data['Close'] - data['Low']\n",
    "    else:\n",
    "        data['col_2'] = data['High'] - data['Close']\n",
    "        data['col_3'] = data['Open'] - data['Low']\n",
    "\n",
    "#Two Previous Candlesticks \n",
    "data['col_4'] = data['col_1'].shift(1)\n",
    "data['col_5'] = data['col_1'].shift(2)\n",
    "\n",
    "#Moving Avarage\n",
    "data['SMA_10'] = data['Close'].rolling(window=5).mean()\n",
    "data['SMA_20'] = data['Close'].rolling(window=10).mean()\n",
    "\n",
    "#Feature Engineering Moving Avarage \n",
    "data['F_SMA_10'] = data['Close'] - data['SMA_10']\n",
    "data['F_SMA_20'] = data['Close'] - data['SMA_20']"
   ]
  },
  {
   "cell_type": "code",
   "execution_count": 26,
   "metadata": {},
   "outputs": [
    {
     "data": {
      "text/html": [
       "<div>\n",
       "<style scoped>\n",
       "    .dataframe tbody tr th:only-of-type {\n",
       "        vertical-align: middle;\n",
       "    }\n",
       "\n",
       "    .dataframe tbody tr th {\n",
       "        vertical-align: top;\n",
       "    }\n",
       "\n",
       "    .dataframe thead th {\n",
       "        text-align: right;\n",
       "    }\n",
       "</style>\n",
       "<table border=\"1\" class=\"dataframe\">\n",
       "  <thead>\n",
       "    <tr style=\"text-align: right;\">\n",
       "      <th></th>\n",
       "      <th>Features</th>\n",
       "      <th>Duplicated Values</th>\n",
       "      <th>Duplicated Rows</th>\n",
       "      <th>Missing Values</th>\n",
       "      <th>Unique Values</th>\n",
       "      <th>Data Type</th>\n",
       "    </tr>\n",
       "  </thead>\n",
       "  <tbody>\n",
       "    <tr>\n",
       "      <th>0</th>\n",
       "      <td>Date</td>\n",
       "      <td>7721</td>\n",
       "      <td>0</td>\n",
       "      <td>0</td>\n",
       "      <td>1939</td>\n",
       "      <td>object</td>\n",
       "    </tr>\n",
       "    <tr>\n",
       "      <th>1</th>\n",
       "      <td>Time</td>\n",
       "      <td>9648</td>\n",
       "      <td>0</td>\n",
       "      <td>0</td>\n",
       "      <td>12</td>\n",
       "      <td>object</td>\n",
       "    </tr>\n",
       "    <tr>\n",
       "      <th>2</th>\n",
       "      <td>Weekday</td>\n",
       "      <td>9654</td>\n",
       "      <td>0</td>\n",
       "      <td>0</td>\n",
       "      <td>6</td>\n",
       "      <td>int64</td>\n",
       "    </tr>\n",
       "    <tr>\n",
       "      <th>3</th>\n",
       "      <td>Weekday_Name</td>\n",
       "      <td>9654</td>\n",
       "      <td>0</td>\n",
       "      <td>0</td>\n",
       "      <td>6</td>\n",
       "      <td>object</td>\n",
       "    </tr>\n",
       "    <tr>\n",
       "      <th>4</th>\n",
       "      <td>UTC_Time</td>\n",
       "      <td>0</td>\n",
       "      <td>0</td>\n",
       "      <td>0</td>\n",
       "      <td>9660</td>\n",
       "      <td>object</td>\n",
       "    </tr>\n",
       "    <tr>\n",
       "      <th>5</th>\n",
       "      <td>Volume</td>\n",
       "      <td>2336</td>\n",
       "      <td>0</td>\n",
       "      <td>0</td>\n",
       "      <td>7324</td>\n",
       "      <td>int64</td>\n",
       "    </tr>\n",
       "    <tr>\n",
       "      <th>6</th>\n",
       "      <td>Open</td>\n",
       "      <td>2878</td>\n",
       "      <td>0</td>\n",
       "      <td>0</td>\n",
       "      <td>6782</td>\n",
       "      <td>float64</td>\n",
       "    </tr>\n",
       "    <tr>\n",
       "      <th>7</th>\n",
       "      <td>High</td>\n",
       "      <td>2810</td>\n",
       "      <td>0</td>\n",
       "      <td>0</td>\n",
       "      <td>6850</td>\n",
       "      <td>float64</td>\n",
       "    </tr>\n",
       "    <tr>\n",
       "      <th>8</th>\n",
       "      <td>Low</td>\n",
       "      <td>2857</td>\n",
       "      <td>0</td>\n",
       "      <td>0</td>\n",
       "      <td>6803</td>\n",
       "      <td>float64</td>\n",
       "    </tr>\n",
       "    <tr>\n",
       "      <th>9</th>\n",
       "      <td>Close</td>\n",
       "      <td>2825</td>\n",
       "      <td>0</td>\n",
       "      <td>0</td>\n",
       "      <td>6835</td>\n",
       "      <td>float64</td>\n",
       "    </tr>\n",
       "    <tr>\n",
       "      <th>10</th>\n",
       "      <td>O-H</td>\n",
       "      <td>8539</td>\n",
       "      <td>0</td>\n",
       "      <td>0</td>\n",
       "      <td>1121</td>\n",
       "      <td>float64</td>\n",
       "    </tr>\n",
       "    <tr>\n",
       "      <th>11</th>\n",
       "      <td>O-L</td>\n",
       "      <td>8552</td>\n",
       "      <td>0</td>\n",
       "      <td>0</td>\n",
       "      <td>1108</td>\n",
       "      <td>float64</td>\n",
       "    </tr>\n",
       "    <tr>\n",
       "      <th>12</th>\n",
       "      <td>O-C</td>\n",
       "      <td>7886</td>\n",
       "      <td>0</td>\n",
       "      <td>0</td>\n",
       "      <td>1774</td>\n",
       "      <td>float64</td>\n",
       "    </tr>\n",
       "    <tr>\n",
       "      <th>13</th>\n",
       "      <td>H-L</td>\n",
       "      <td>8197</td>\n",
       "      <td>0</td>\n",
       "      <td>0</td>\n",
       "      <td>1463</td>\n",
       "      <td>float64</td>\n",
       "    </tr>\n",
       "    <tr>\n",
       "      <th>14</th>\n",
       "      <td>H-C</td>\n",
       "      <td>8558</td>\n",
       "      <td>0</td>\n",
       "      <td>0</td>\n",
       "      <td>1102</td>\n",
       "      <td>float64</td>\n",
       "    </tr>\n",
       "    <tr>\n",
       "      <th>15</th>\n",
       "      <td>L-C</td>\n",
       "      <td>8564</td>\n",
       "      <td>0</td>\n",
       "      <td>0</td>\n",
       "      <td>1096</td>\n",
       "      <td>float64</td>\n",
       "    </tr>\n",
       "    <tr>\n",
       "      <th>16</th>\n",
       "      <td>Direction</td>\n",
       "      <td>9658</td>\n",
       "      <td>0</td>\n",
       "      <td>0</td>\n",
       "      <td>2</td>\n",
       "      <td>int64</td>\n",
       "    </tr>\n",
       "    <tr>\n",
       "      <th>17</th>\n",
       "      <td>col_1</td>\n",
       "      <td>7886</td>\n",
       "      <td>0</td>\n",
       "      <td>0</td>\n",
       "      <td>1774</td>\n",
       "      <td>float64</td>\n",
       "    </tr>\n",
       "    <tr>\n",
       "      <th>18</th>\n",
       "      <td>col_2</td>\n",
       "      <td>8558</td>\n",
       "      <td>0</td>\n",
       "      <td>0</td>\n",
       "      <td>1102</td>\n",
       "      <td>float64</td>\n",
       "    </tr>\n",
       "    <tr>\n",
       "      <th>19</th>\n",
       "      <td>col_3</td>\n",
       "      <td>8552</td>\n",
       "      <td>0</td>\n",
       "      <td>0</td>\n",
       "      <td>1108</td>\n",
       "      <td>float64</td>\n",
       "    </tr>\n",
       "    <tr>\n",
       "      <th>20</th>\n",
       "      <td>col_4</td>\n",
       "      <td>7885</td>\n",
       "      <td>0</td>\n",
       "      <td>1</td>\n",
       "      <td>1774</td>\n",
       "      <td>float64</td>\n",
       "    </tr>\n",
       "    <tr>\n",
       "      <th>21</th>\n",
       "      <td>col_5</td>\n",
       "      <td>7885</td>\n",
       "      <td>0</td>\n",
       "      <td>2</td>\n",
       "      <td>1774</td>\n",
       "      <td>float64</td>\n",
       "    </tr>\n",
       "    <tr>\n",
       "      <th>22</th>\n",
       "      <td>SMA_10</td>\n",
       "      <td>387</td>\n",
       "      <td>0</td>\n",
       "      <td>4</td>\n",
       "      <td>9272</td>\n",
       "      <td>float64</td>\n",
       "    </tr>\n",
       "    <tr>\n",
       "      <th>23</th>\n",
       "      <td>SMA_20</td>\n",
       "      <td>206</td>\n",
       "      <td>0</td>\n",
       "      <td>9</td>\n",
       "      <td>9453</td>\n",
       "      <td>float64</td>\n",
       "    </tr>\n",
       "    <tr>\n",
       "      <th>24</th>\n",
       "      <td>F_SMA_10</td>\n",
       "      <td>4170</td>\n",
       "      <td>0</td>\n",
       "      <td>4</td>\n",
       "      <td>5489</td>\n",
       "      <td>float64</td>\n",
       "    </tr>\n",
       "    <tr>\n",
       "      <th>25</th>\n",
       "      <td>F_SMA_20</td>\n",
       "      <td>1860</td>\n",
       "      <td>0</td>\n",
       "      <td>9</td>\n",
       "      <td>7799</td>\n",
       "      <td>float64</td>\n",
       "    </tr>\n",
       "  </tbody>\n",
       "</table>\n",
       "</div>"
      ],
      "text/plain": [
       "        Features  Duplicated Values  Duplicated Rows  Missing Values  \\\n",
       "0           Date               7721                0               0   \n",
       "1           Time               9648                0               0   \n",
       "2        Weekday               9654                0               0   \n",
       "3   Weekday_Name               9654                0               0   \n",
       "4       UTC_Time                  0                0               0   \n",
       "5         Volume               2336                0               0   \n",
       "6           Open               2878                0               0   \n",
       "7           High               2810                0               0   \n",
       "8            Low               2857                0               0   \n",
       "9          Close               2825                0               0   \n",
       "10           O-H               8539                0               0   \n",
       "11           O-L               8552                0               0   \n",
       "12           O-C               7886                0               0   \n",
       "13           H-L               8197                0               0   \n",
       "14           H-C               8558                0               0   \n",
       "15           L-C               8564                0               0   \n",
       "16     Direction               9658                0               0   \n",
       "17         col_1               7886                0               0   \n",
       "18         col_2               8558                0               0   \n",
       "19         col_3               8552                0               0   \n",
       "20         col_4               7885                0               1   \n",
       "21         col_5               7885                0               2   \n",
       "22        SMA_10                387                0               4   \n",
       "23        SMA_20                206                0               9   \n",
       "24      F_SMA_10               4170                0               4   \n",
       "25      F_SMA_20               1860                0               9   \n",
       "\n",
       "    Unique Values Data Type  \n",
       "0            1939    object  \n",
       "1              12    object  \n",
       "2               6     int64  \n",
       "3               6    object  \n",
       "4            9660    object  \n",
       "5            7324     int64  \n",
       "6            6782   float64  \n",
       "7            6850   float64  \n",
       "8            6803   float64  \n",
       "9            6835   float64  \n",
       "10           1121   float64  \n",
       "11           1108   float64  \n",
       "12           1774   float64  \n",
       "13           1463   float64  \n",
       "14           1102   float64  \n",
       "15           1096   float64  \n",
       "16              2     int64  \n",
       "17           1774   float64  \n",
       "18           1102   float64  \n",
       "19           1108   float64  \n",
       "20           1774   float64  \n",
       "21           1774   float64  \n",
       "22           9272   float64  \n",
       "23           9453   float64  \n",
       "24           5489   float64  \n",
       "25           7799   float64  "
      ]
     },
     "metadata": {},
     "output_type": "display_data"
    }
   ],
   "source": [
    "eda(data)"
   ]
  },
  {
   "cell_type": "code",
   "execution_count": 27,
   "metadata": {},
   "outputs": [],
   "source": [
    "data = data.dropna()"
   ]
  },
  {
   "cell_type": "code",
   "execution_count": 28,
   "metadata": {},
   "outputs": [],
   "source": [
    "data = data.to_csv(filename, header = True, index = False)"
   ]
  },
  {
   "cell_type": "code",
   "execution_count": 29,
   "metadata": {},
   "outputs": [],
   "source": [
    "data = pd.read_csv(filename)"
   ]
  },
  {
   "cell_type": "code",
   "execution_count": 30,
   "metadata": {},
   "outputs": [
    {
     "data": {
      "text/html": [
       "<div>\n",
       "<style scoped>\n",
       "    .dataframe tbody tr th:only-of-type {\n",
       "        vertical-align: middle;\n",
       "    }\n",
       "\n",
       "    .dataframe tbody tr th {\n",
       "        vertical-align: top;\n",
       "    }\n",
       "\n",
       "    .dataframe thead th {\n",
       "        text-align: right;\n",
       "    }\n",
       "</style>\n",
       "<table border=\"1\" class=\"dataframe\">\n",
       "  <thead>\n",
       "    <tr style=\"text-align: right;\">\n",
       "      <th></th>\n",
       "      <th>Date</th>\n",
       "      <th>Time</th>\n",
       "      <th>Weekday</th>\n",
       "      <th>Weekday_Name</th>\n",
       "      <th>UTC_Time</th>\n",
       "      <th>Volume</th>\n",
       "      <th>Open</th>\n",
       "      <th>High</th>\n",
       "      <th>Low</th>\n",
       "      <th>Close</th>\n",
       "      <th>...</th>\n",
       "      <th>Direction</th>\n",
       "      <th>col_1</th>\n",
       "      <th>col_2</th>\n",
       "      <th>col_3</th>\n",
       "      <th>col_4</th>\n",
       "      <th>col_5</th>\n",
       "      <th>SMA_10</th>\n",
       "      <th>SMA_20</th>\n",
       "      <th>F_SMA_10</th>\n",
       "      <th>F_SMA_20</th>\n",
       "    </tr>\n",
       "  </thead>\n",
       "  <tbody>\n",
       "    <tr>\n",
       "      <th>0</th>\n",
       "      <td>2015-08-04</td>\n",
       "      <td>09:00:00</td>\n",
       "      <td>1</td>\n",
       "      <td>Tuesday</td>\n",
       "      <td>2015-08-04T09:00:00.000000000Z</td>\n",
       "      <td>4688</td>\n",
       "      <td>1.09704</td>\n",
       "      <td>1.09876</td>\n",
       "      <td>1.09588</td>\n",
       "      <td>1.09697</td>\n",
       "      <td>...</td>\n",
       "      <td>0</td>\n",
       "      <td>0.00007</td>\n",
       "      <td>0.00179</td>\n",
       "      <td>0.00116</td>\n",
       "      <td>-0.00275</td>\n",
       "      <td>-0.00099</td>\n",
       "      <td>1.095322</td>\n",
       "      <td>1.096152</td>\n",
       "      <td>0.001648</td>\n",
       "      <td>0.000818</td>\n",
       "    </tr>\n",
       "    <tr>\n",
       "      <th>1</th>\n",
       "      <td>2015-08-04</td>\n",
       "      <td>13:00:00</td>\n",
       "      <td>1</td>\n",
       "      <td>Tuesday</td>\n",
       "      <td>2015-08-04T13:00:00.000000000Z</td>\n",
       "      <td>6934</td>\n",
       "      <td>1.09694</td>\n",
       "      <td>1.09816</td>\n",
       "      <td>1.09462</td>\n",
       "      <td>1.09623</td>\n",
       "      <td>...</td>\n",
       "      <td>0</td>\n",
       "      <td>0.00071</td>\n",
       "      <td>0.00193</td>\n",
       "      <td>0.00232</td>\n",
       "      <td>0.00007</td>\n",
       "      <td>-0.00275</td>\n",
       "      <td>1.095564</td>\n",
       "      <td>1.095997</td>\n",
       "      <td>0.000666</td>\n",
       "      <td>0.000233</td>\n",
       "    </tr>\n",
       "    <tr>\n",
       "      <th>2</th>\n",
       "      <td>2015-08-04</td>\n",
       "      <td>17:00:00</td>\n",
       "      <td>1</td>\n",
       "      <td>Tuesday</td>\n",
       "      <td>2015-08-04T17:00:00.000000000Z</td>\n",
       "      <td>7139</td>\n",
       "      <td>1.09620</td>\n",
       "      <td>1.09634</td>\n",
       "      <td>1.08792</td>\n",
       "      <td>1.08816</td>\n",
       "      <td>...</td>\n",
       "      <td>0</td>\n",
       "      <td>0.00804</td>\n",
       "      <td>0.00818</td>\n",
       "      <td>0.00828</td>\n",
       "      <td>0.00071</td>\n",
       "      <td>0.00007</td>\n",
       "      <td>1.094542</td>\n",
       "      <td>1.095012</td>\n",
       "      <td>-0.006382</td>\n",
       "      <td>-0.006852</td>\n",
       "    </tr>\n",
       "    <tr>\n",
       "      <th>3</th>\n",
       "      <td>2015-08-04</td>\n",
       "      <td>21:00:00</td>\n",
       "      <td>1</td>\n",
       "      <td>Tuesday</td>\n",
       "      <td>2015-08-04T21:00:00.000000000Z</td>\n",
       "      <td>2213</td>\n",
       "      <td>1.08826</td>\n",
       "      <td>1.08940</td>\n",
       "      <td>1.08716</td>\n",
       "      <td>1.08747</td>\n",
       "      <td>...</td>\n",
       "      <td>0</td>\n",
       "      <td>0.00079</td>\n",
       "      <td>0.00193</td>\n",
       "      <td>0.00110</td>\n",
       "      <td>0.00804</td>\n",
       "      <td>0.00071</td>\n",
       "      <td>1.093180</td>\n",
       "      <td>1.094053</td>\n",
       "      <td>-0.005710</td>\n",
       "      <td>-0.006583</td>\n",
       "    </tr>\n",
       "    <tr>\n",
       "      <th>4</th>\n",
       "      <td>2015-08-05</td>\n",
       "      <td>01:00:00</td>\n",
       "      <td>2</td>\n",
       "      <td>Wednesday</td>\n",
       "      <td>2015-08-05T01:00:00.000000000Z</td>\n",
       "      <td>2348</td>\n",
       "      <td>1.08744</td>\n",
       "      <td>1.08750</td>\n",
       "      <td>1.08484</td>\n",
       "      <td>1.08678</td>\n",
       "      <td>...</td>\n",
       "      <td>0</td>\n",
       "      <td>0.00066</td>\n",
       "      <td>0.00072</td>\n",
       "      <td>0.00260</td>\n",
       "      <td>0.00079</td>\n",
       "      <td>0.00804</td>\n",
       "      <td>1.091122</td>\n",
       "      <td>1.093129</td>\n",
       "      <td>-0.004342</td>\n",
       "      <td>-0.006349</td>\n",
       "    </tr>\n",
       "  </tbody>\n",
       "</table>\n",
       "<p>5 rows × 26 columns</p>\n",
       "</div>"
      ],
      "text/plain": [
       "         Date      Time  Weekday Weekday_Name                        UTC_Time  \\\n",
       "0  2015-08-04  09:00:00        1      Tuesday  2015-08-04T09:00:00.000000000Z   \n",
       "1  2015-08-04  13:00:00        1      Tuesday  2015-08-04T13:00:00.000000000Z   \n",
       "2  2015-08-04  17:00:00        1      Tuesday  2015-08-04T17:00:00.000000000Z   \n",
       "3  2015-08-04  21:00:00        1      Tuesday  2015-08-04T21:00:00.000000000Z   \n",
       "4  2015-08-05  01:00:00        2    Wednesday  2015-08-05T01:00:00.000000000Z   \n",
       "\n",
       "   Volume     Open     High      Low    Close  ...  Direction    col_1  \\\n",
       "0    4688  1.09704  1.09876  1.09588  1.09697  ...          0  0.00007   \n",
       "1    6934  1.09694  1.09816  1.09462  1.09623  ...          0  0.00071   \n",
       "2    7139  1.09620  1.09634  1.08792  1.08816  ...          0  0.00804   \n",
       "3    2213  1.08826  1.08940  1.08716  1.08747  ...          0  0.00079   \n",
       "4    2348  1.08744  1.08750  1.08484  1.08678  ...          0  0.00066   \n",
       "\n",
       "     col_2    col_3    col_4    col_5    SMA_10    SMA_20  F_SMA_10  F_SMA_20  \n",
       "0  0.00179  0.00116 -0.00275 -0.00099  1.095322  1.096152  0.001648  0.000818  \n",
       "1  0.00193  0.00232  0.00007 -0.00275  1.095564  1.095997  0.000666  0.000233  \n",
       "2  0.00818  0.00828  0.00071  0.00007  1.094542  1.095012 -0.006382 -0.006852  \n",
       "3  0.00193  0.00110  0.00804  0.00071  1.093180  1.094053 -0.005710 -0.006583  \n",
       "4  0.00072  0.00260  0.00079  0.00804  1.091122  1.093129 -0.004342 -0.006349  \n",
       "\n",
       "[5 rows x 26 columns]"
      ]
     },
     "execution_count": 30,
     "metadata": {},
     "output_type": "execute_result"
    }
   ],
   "source": [
    "data.head()"
   ]
  },
  {
   "cell_type": "code",
   "execution_count": 31,
   "metadata": {},
   "outputs": [
    {
     "data": {
      "text/html": [
       "<div>\n",
       "<style scoped>\n",
       "    .dataframe tbody tr th:only-of-type {\n",
       "        vertical-align: middle;\n",
       "    }\n",
       "\n",
       "    .dataframe tbody tr th {\n",
       "        vertical-align: top;\n",
       "    }\n",
       "\n",
       "    .dataframe thead th {\n",
       "        text-align: right;\n",
       "    }\n",
       "</style>\n",
       "<table border=\"1\" class=\"dataframe\">\n",
       "  <thead>\n",
       "    <tr style=\"text-align: right;\">\n",
       "      <th></th>\n",
       "      <th>Date</th>\n",
       "      <th>Time</th>\n",
       "      <th>Weekday</th>\n",
       "      <th>Weekday_Name</th>\n",
       "      <th>UTC_Time</th>\n",
       "      <th>Volume</th>\n",
       "      <th>Open</th>\n",
       "      <th>High</th>\n",
       "      <th>Low</th>\n",
       "      <th>Close</th>\n",
       "      <th>...</th>\n",
       "      <th>Direction</th>\n",
       "      <th>col_1</th>\n",
       "      <th>col_2</th>\n",
       "      <th>col_3</th>\n",
       "      <th>col_4</th>\n",
       "      <th>col_5</th>\n",
       "      <th>SMA_10</th>\n",
       "      <th>SMA_20</th>\n",
       "      <th>F_SMA_10</th>\n",
       "      <th>F_SMA_20</th>\n",
       "    </tr>\n",
       "  </thead>\n",
       "  <tbody>\n",
       "    <tr>\n",
       "      <th>9646</th>\n",
       "      <td>2021-10-18</td>\n",
       "      <td>09:00:00</td>\n",
       "      <td>0</td>\n",
       "      <td>Monday</td>\n",
       "      <td>2021-10-18T09:00:00.000000000Z</td>\n",
       "      <td>23221</td>\n",
       "      <td>1.15809</td>\n",
       "      <td>1.16099</td>\n",
       "      <td>1.15764</td>\n",
       "      <td>1.16015</td>\n",
       "      <td>...</td>\n",
       "      <td>1</td>\n",
       "      <td>-0.00206</td>\n",
       "      <td>0.00084</td>\n",
       "      <td>0.00045</td>\n",
       "      <td>-0.00020</td>\n",
       "      <td>0.00054</td>\n",
       "      <td>1.158884</td>\n",
       "      <td>1.159364</td>\n",
       "      <td>0.001266</td>\n",
       "      <td>0.000786</td>\n",
       "    </tr>\n",
       "    <tr>\n",
       "      <th>9647</th>\n",
       "      <td>2021-10-18</td>\n",
       "      <td>13:00:00</td>\n",
       "      <td>0</td>\n",
       "      <td>Monday</td>\n",
       "      <td>2021-10-18T13:00:00.000000000Z</td>\n",
       "      <td>21444</td>\n",
       "      <td>1.16014</td>\n",
       "      <td>1.16219</td>\n",
       "      <td>1.15924</td>\n",
       "      <td>1.16218</td>\n",
       "      <td>...</td>\n",
       "      <td>1</td>\n",
       "      <td>-0.00204</td>\n",
       "      <td>0.00001</td>\n",
       "      <td>0.00090</td>\n",
       "      <td>-0.00206</td>\n",
       "      <td>-0.00020</td>\n",
       "      <td>1.159340</td>\n",
       "      <td>1.159644</td>\n",
       "      <td>0.002840</td>\n",
       "      <td>0.002536</td>\n",
       "    </tr>\n",
       "    <tr>\n",
       "      <th>9648</th>\n",
       "      <td>2021-10-18</td>\n",
       "      <td>17:00:00</td>\n",
       "      <td>0</td>\n",
       "      <td>Monday</td>\n",
       "      <td>2021-10-18T17:00:00.000000000Z</td>\n",
       "      <td>6954</td>\n",
       "      <td>1.16218</td>\n",
       "      <td>1.16226</td>\n",
       "      <td>1.16086</td>\n",
       "      <td>1.16112</td>\n",
       "      <td>...</td>\n",
       "      <td>0</td>\n",
       "      <td>0.00106</td>\n",
       "      <td>0.00114</td>\n",
       "      <td>0.00132</td>\n",
       "      <td>-0.00204</td>\n",
       "      <td>-0.00206</td>\n",
       "      <td>1.159882</td>\n",
       "      <td>1.159675</td>\n",
       "      <td>0.001238</td>\n",
       "      <td>0.001445</td>\n",
       "    </tr>\n",
       "    <tr>\n",
       "      <th>9649</th>\n",
       "      <td>2021-10-18</td>\n",
       "      <td>21:00:00</td>\n",
       "      <td>0</td>\n",
       "      <td>Monday</td>\n",
       "      <td>2021-10-18T21:00:00.000000000Z</td>\n",
       "      <td>2267</td>\n",
       "      <td>1.16102</td>\n",
       "      <td>1.16254</td>\n",
       "      <td>1.16086</td>\n",
       "      <td>1.16251</td>\n",
       "      <td>...</td>\n",
       "      <td>1</td>\n",
       "      <td>-0.00149</td>\n",
       "      <td>0.00003</td>\n",
       "      <td>0.00016</td>\n",
       "      <td>0.00106</td>\n",
       "      <td>-0.00204</td>\n",
       "      <td>1.160808</td>\n",
       "      <td>1.159894</td>\n",
       "      <td>0.001702</td>\n",
       "      <td>0.002616</td>\n",
       "    </tr>\n",
       "    <tr>\n",
       "      <th>9650</th>\n",
       "      <td>2021-10-19</td>\n",
       "      <td>01:00:00</td>\n",
       "      <td>1</td>\n",
       "      <td>Tuesday</td>\n",
       "      <td>2021-10-19T01:00:00.000000000Z</td>\n",
       "      <td>4366</td>\n",
       "      <td>1.16252</td>\n",
       "      <td>1.16428</td>\n",
       "      <td>1.16243</td>\n",
       "      <td>1.16400</td>\n",
       "      <td>...</td>\n",
       "      <td>1</td>\n",
       "      <td>-0.00148</td>\n",
       "      <td>0.00028</td>\n",
       "      <td>0.00009</td>\n",
       "      <td>-0.00149</td>\n",
       "      <td>0.00106</td>\n",
       "      <td>1.161992</td>\n",
       "      <td>1.160373</td>\n",
       "      <td>0.002008</td>\n",
       "      <td>0.003627</td>\n",
       "    </tr>\n",
       "  </tbody>\n",
       "</table>\n",
       "<p>5 rows × 26 columns</p>\n",
       "</div>"
      ],
      "text/plain": [
       "            Date      Time  Weekday Weekday_Name  \\\n",
       "9646  2021-10-18  09:00:00        0       Monday   \n",
       "9647  2021-10-18  13:00:00        0       Monday   \n",
       "9648  2021-10-18  17:00:00        0       Monday   \n",
       "9649  2021-10-18  21:00:00        0       Monday   \n",
       "9650  2021-10-19  01:00:00        1      Tuesday   \n",
       "\n",
       "                            UTC_Time  Volume     Open     High      Low  \\\n",
       "9646  2021-10-18T09:00:00.000000000Z   23221  1.15809  1.16099  1.15764   \n",
       "9647  2021-10-18T13:00:00.000000000Z   21444  1.16014  1.16219  1.15924   \n",
       "9648  2021-10-18T17:00:00.000000000Z    6954  1.16218  1.16226  1.16086   \n",
       "9649  2021-10-18T21:00:00.000000000Z    2267  1.16102  1.16254  1.16086   \n",
       "9650  2021-10-19T01:00:00.000000000Z    4366  1.16252  1.16428  1.16243   \n",
       "\n",
       "        Close  ...  Direction    col_1    col_2    col_3    col_4    col_5  \\\n",
       "9646  1.16015  ...          1 -0.00206  0.00084  0.00045 -0.00020  0.00054   \n",
       "9647  1.16218  ...          1 -0.00204  0.00001  0.00090 -0.00206 -0.00020   \n",
       "9648  1.16112  ...          0  0.00106  0.00114  0.00132 -0.00204 -0.00206   \n",
       "9649  1.16251  ...          1 -0.00149  0.00003  0.00016  0.00106 -0.00204   \n",
       "9650  1.16400  ...          1 -0.00148  0.00028  0.00009 -0.00149  0.00106   \n",
       "\n",
       "        SMA_10    SMA_20  F_SMA_10  F_SMA_20  \n",
       "9646  1.158884  1.159364  0.001266  0.000786  \n",
       "9647  1.159340  1.159644  0.002840  0.002536  \n",
       "9648  1.159882  1.159675  0.001238  0.001445  \n",
       "9649  1.160808  1.159894  0.001702  0.002616  \n",
       "9650  1.161992  1.160373  0.002008  0.003627  \n",
       "\n",
       "[5 rows x 26 columns]"
      ]
     },
     "execution_count": 31,
     "metadata": {},
     "output_type": "execute_result"
    }
   ],
   "source": [
    "data.tail()"
   ]
  },
  {
   "cell_type": "code",
   "execution_count": 32,
   "metadata": {},
   "outputs": [
    {
     "data": {
      "text/plain": [
       "(9651, 26)"
      ]
     },
     "execution_count": 32,
     "metadata": {},
     "output_type": "execute_result"
    }
   ],
   "source": [
    "data.shape"
   ]
  },
  {
   "cell_type": "raw",
   "metadata": {},
   "source": [
    "eda (data)"
   ]
  },
  {
   "cell_type": "raw",
   "metadata": {},
   "source": [
    "plt.figure(figsize=(20,10))\n",
    "plt.xticks(rotation = 90)\n",
    "ax = sns.countplot(data['Direction'].tail(30), order=data['Direction'].tail(30).value_counts().index)\n",
    "perc_on_bar(ax, data['Direction'].tail(30))"
   ]
  },
  {
   "cell_type": "raw",
   "metadata": {},
   "source": [
    "data = data.tail(30)\n",
    "viz(data)"
   ]
  },
  {
   "cell_type": "markdown",
   "metadata": {},
   "source": [
    "# Modeling"
   ]
  },
  {
   "cell_type": "code",
   "execution_count": 33,
   "metadata": {},
   "outputs": [],
   "source": [
    "data = pd.read_csv(filename)"
   ]
  },
  {
   "cell_type": "markdown",
   "metadata": {},
   "source": [
    "### Feature Selection and Reduction"
   ]
  },
  {
   "cell_type": "code",
   "execution_count": 34,
   "metadata": {},
   "outputs": [],
   "source": [
    "data = data.drop(columns=['Volume','Weekday','Date','Time',\n",
    "                          'Weekday_Name','UTC_Time','Direction',\n",
    "                          'Open', 'High', 'Low', 'Close',\n",
    "                          'O-H','O-L','O-C','H-L','H-C','L-C',\n",
    "                          'SMA_10',\n",
    "                          'SMA_20',\n",
    "#                          'col_1',\n",
    "#                          'col_2',\n",
    "#                          'col_3',\n",
    "#                          'col_4',\n",
    "#                          'col_5',\n",
    "#                          'F_SMA_10',\n",
    "#                          'F_SMA_20'\n",
    "                         ])\n",
    "\n",
    "#'Volume', 'Direction'"
   ]
  },
  {
   "cell_type": "code",
   "execution_count": 35,
   "metadata": {},
   "outputs": [
    {
     "data": {
      "text/html": [
       "<div>\n",
       "<style scoped>\n",
       "    .dataframe tbody tr th:only-of-type {\n",
       "        vertical-align: middle;\n",
       "    }\n",
       "\n",
       "    .dataframe tbody tr th {\n",
       "        vertical-align: top;\n",
       "    }\n",
       "\n",
       "    .dataframe thead th {\n",
       "        text-align: right;\n",
       "    }\n",
       "</style>\n",
       "<table border=\"1\" class=\"dataframe\">\n",
       "  <thead>\n",
       "    <tr style=\"text-align: right;\">\n",
       "      <th></th>\n",
       "      <th>col_1</th>\n",
       "      <th>col_2</th>\n",
       "      <th>col_3</th>\n",
       "      <th>col_4</th>\n",
       "      <th>col_5</th>\n",
       "      <th>F_SMA_10</th>\n",
       "      <th>F_SMA_20</th>\n",
       "    </tr>\n",
       "  </thead>\n",
       "  <tbody>\n",
       "    <tr>\n",
       "      <th>0</th>\n",
       "      <td>0.00007</td>\n",
       "      <td>0.00179</td>\n",
       "      <td>0.00116</td>\n",
       "      <td>-0.00275</td>\n",
       "      <td>-0.00099</td>\n",
       "      <td>0.001648</td>\n",
       "      <td>0.000818</td>\n",
       "    </tr>\n",
       "    <tr>\n",
       "      <th>1</th>\n",
       "      <td>0.00071</td>\n",
       "      <td>0.00193</td>\n",
       "      <td>0.00232</td>\n",
       "      <td>0.00007</td>\n",
       "      <td>-0.00275</td>\n",
       "      <td>0.000666</td>\n",
       "      <td>0.000233</td>\n",
       "    </tr>\n",
       "    <tr>\n",
       "      <th>2</th>\n",
       "      <td>0.00804</td>\n",
       "      <td>0.00818</td>\n",
       "      <td>0.00828</td>\n",
       "      <td>0.00071</td>\n",
       "      <td>0.00007</td>\n",
       "      <td>-0.006382</td>\n",
       "      <td>-0.006852</td>\n",
       "    </tr>\n",
       "    <tr>\n",
       "      <th>3</th>\n",
       "      <td>0.00079</td>\n",
       "      <td>0.00193</td>\n",
       "      <td>0.00110</td>\n",
       "      <td>0.00804</td>\n",
       "      <td>0.00071</td>\n",
       "      <td>-0.005710</td>\n",
       "      <td>-0.006583</td>\n",
       "    </tr>\n",
       "    <tr>\n",
       "      <th>4</th>\n",
       "      <td>0.00066</td>\n",
       "      <td>0.00072</td>\n",
       "      <td>0.00260</td>\n",
       "      <td>0.00079</td>\n",
       "      <td>0.00804</td>\n",
       "      <td>-0.004342</td>\n",
       "      <td>-0.006349</td>\n",
       "    </tr>\n",
       "  </tbody>\n",
       "</table>\n",
       "</div>"
      ],
      "text/plain": [
       "     col_1    col_2    col_3    col_4    col_5  F_SMA_10  F_SMA_20\n",
       "0  0.00007  0.00179  0.00116 -0.00275 -0.00099  0.001648  0.000818\n",
       "1  0.00071  0.00193  0.00232  0.00007 -0.00275  0.000666  0.000233\n",
       "2  0.00804  0.00818  0.00828  0.00071  0.00007 -0.006382 -0.006852\n",
       "3  0.00079  0.00193  0.00110  0.00804  0.00071 -0.005710 -0.006583\n",
       "4  0.00066  0.00072  0.00260  0.00079  0.00804 -0.004342 -0.006349"
      ]
     },
     "execution_count": 35,
     "metadata": {},
     "output_type": "execute_result"
    }
   ],
   "source": [
    "data.head()"
   ]
  },
  {
   "cell_type": "code",
   "execution_count": 36,
   "metadata": {},
   "outputs": [
    {
     "data": {
      "text/html": [
       "<div>\n",
       "<style scoped>\n",
       "    .dataframe tbody tr th:only-of-type {\n",
       "        vertical-align: middle;\n",
       "    }\n",
       "\n",
       "    .dataframe tbody tr th {\n",
       "        vertical-align: top;\n",
       "    }\n",
       "\n",
       "    .dataframe thead th {\n",
       "        text-align: right;\n",
       "    }\n",
       "</style>\n",
       "<table border=\"1\" class=\"dataframe\">\n",
       "  <thead>\n",
       "    <tr style=\"text-align: right;\">\n",
       "      <th></th>\n",
       "      <th>col_1</th>\n",
       "      <th>col_2</th>\n",
       "      <th>col_3</th>\n",
       "      <th>col_4</th>\n",
       "      <th>col_5</th>\n",
       "      <th>F_SMA_10</th>\n",
       "      <th>F_SMA_20</th>\n",
       "    </tr>\n",
       "  </thead>\n",
       "  <tbody>\n",
       "    <tr>\n",
       "      <th>9646</th>\n",
       "      <td>-0.00206</td>\n",
       "      <td>0.00084</td>\n",
       "      <td>0.00045</td>\n",
       "      <td>-0.00020</td>\n",
       "      <td>0.00054</td>\n",
       "      <td>0.001266</td>\n",
       "      <td>0.000786</td>\n",
       "    </tr>\n",
       "    <tr>\n",
       "      <th>9647</th>\n",
       "      <td>-0.00204</td>\n",
       "      <td>0.00001</td>\n",
       "      <td>0.00090</td>\n",
       "      <td>-0.00206</td>\n",
       "      <td>-0.00020</td>\n",
       "      <td>0.002840</td>\n",
       "      <td>0.002536</td>\n",
       "    </tr>\n",
       "    <tr>\n",
       "      <th>9648</th>\n",
       "      <td>0.00106</td>\n",
       "      <td>0.00114</td>\n",
       "      <td>0.00132</td>\n",
       "      <td>-0.00204</td>\n",
       "      <td>-0.00206</td>\n",
       "      <td>0.001238</td>\n",
       "      <td>0.001445</td>\n",
       "    </tr>\n",
       "    <tr>\n",
       "      <th>9649</th>\n",
       "      <td>-0.00149</td>\n",
       "      <td>0.00003</td>\n",
       "      <td>0.00016</td>\n",
       "      <td>0.00106</td>\n",
       "      <td>-0.00204</td>\n",
       "      <td>0.001702</td>\n",
       "      <td>0.002616</td>\n",
       "    </tr>\n",
       "    <tr>\n",
       "      <th>9650</th>\n",
       "      <td>-0.00148</td>\n",
       "      <td>0.00028</td>\n",
       "      <td>0.00009</td>\n",
       "      <td>-0.00149</td>\n",
       "      <td>0.00106</td>\n",
       "      <td>0.002008</td>\n",
       "      <td>0.003627</td>\n",
       "    </tr>\n",
       "  </tbody>\n",
       "</table>\n",
       "</div>"
      ],
      "text/plain": [
       "        col_1    col_2    col_3    col_4    col_5  F_SMA_10  F_SMA_20\n",
       "9646 -0.00206  0.00084  0.00045 -0.00020  0.00054  0.001266  0.000786\n",
       "9647 -0.00204  0.00001  0.00090 -0.00206 -0.00020  0.002840  0.002536\n",
       "9648  0.00106  0.00114  0.00132 -0.00204 -0.00206  0.001238  0.001445\n",
       "9649 -0.00149  0.00003  0.00016  0.00106 -0.00204  0.001702  0.002616\n",
       "9650 -0.00148  0.00028  0.00009 -0.00149  0.00106  0.002008  0.003627"
      ]
     },
     "execution_count": 36,
     "metadata": {},
     "output_type": "execute_result"
    }
   ],
   "source": [
    "data.tail()"
   ]
  },
  {
   "cell_type": "markdown",
   "metadata": {},
   "source": [
    "# <font color='red'>CANDLE INDEX NUMBER</font>"
   ]
  },
  {
   "cell_type": "code",
   "execution_count": 37,
   "metadata": {},
   "outputs": [
    {
     "data": {
      "text/plain": [
       "9649"
      ]
     },
     "execution_count": 37,
     "metadata": {},
     "output_type": "execute_result"
    }
   ],
   "source": [
    "candle_no = len(data) - 2\n",
    "candle_no"
   ]
  },
  {
   "cell_type": "markdown",
   "metadata": {},
   "source": [
    "### Scaling using Standard Scaler"
   ]
  },
  {
   "cell_type": "raw",
   "metadata": {},
   "source": [
    "all_col = data.iloc[:,0:].columns.tolist()\n",
    "scaler=StandardScaler()\n",
    "subset=data[all_col].copy()\n",
    "subset_scaled=scaler.fit_transform(subset)   \n",
    "subset_scaled_df=pd.DataFrame(subset_scaled,columns=subset.columns)\n",
    "subset_scaled_df"
   ]
  },
  {
   "cell_type": "raw",
   "metadata": {},
   "source": [
    "clusters=range(1,10)\n",
    "meanDistortions=[]\n",
    "\n",
    "for k in clusters:\n",
    "    model=KMeans(n_clusters=k)\n",
    "    model.fit(subset_scaled_df)\n",
    "    prediction=model.predict(subset_scaled_df)\n",
    "    distortion=sum(np.min(cdist(subset_scaled_df, model.cluster_centers_, 'euclidean'), axis=1)) / subset_scaled_df.shape[0]\n",
    "                           \n",
    "    meanDistortions.append(distortion)\n",
    "\n",
    "    print('Number of Clusters:', k, '\\tAverage Distortion:', distortion)\n",
    "\n",
    "plt.plot(clusters, meanDistortions, 'bx-')\n",
    "plt.xlabel('k')\n",
    "plt.ylabel('Average Distortion')\n",
    "plt.title('Selecting k with the Elbow Method', fontsize=20)"
   ]
  },
  {
   "cell_type": "raw",
   "metadata": {},
   "source": [
    "visualizer =  KElbowVisualizer(KMeans(random_state = 1))\n",
    "visualizer.fit(subset_scaled_df)    \n",
    "visualizer.show()"
   ]
  },
  {
   "cell_type": "code",
   "execution_count": 38,
   "metadata": {},
   "outputs": [],
   "source": [
    "def find_k_similar_candles(candle_id, dataset, k=4):\n",
    "    indices=[]\n",
    "    distances = []\n",
    "    output = []\n",
    "    model_knn = NearestNeighbors(metric = 'euclidean', algorithm = 'brute') \n",
    "    model_knn.fit(dataset)\n",
    "    \n",
    "    #metric = 'euclidean' or 'cosine' or 'manhattan' or 'mahalanobis'\n",
    "    \n",
    "    distances, indices = model_knn.kneighbors(dataset.iloc[candle_id,:].values.reshape(1,-1),\n",
    "                                              n_neighbors = k)\n",
    "\n",
    "    for i in range(0,len(distances.flatten())):\n",
    "        if i==0:\n",
    "            display (pd.DataFrame(data.iloc[candle_id]).transpose())\n",
    "            #print(\"Recommendation for {0}:\\n\".format(eurusd_data.index[candle_id]))\n",
    "        else:\n",
    "            #print(\"{0}: {1}, with distance of {2}\".format(i,\n",
    "            #                                               dataset.index[indices.flatten()[i]],\n",
    "            #                                               distances.flatten()[i]))\n",
    "            \n",
    "            output.append ([dataset.index[indices.flatten()[i]],\n",
    "                            distances.flatten()[i],\n",
    " #                           dataset.iloc[indices.flatten()[i]]['O-H'],\n",
    " #                           dataset.iloc[indices.flatten()[i]]['O-L'],\n",
    " #                           dataset.iloc[indices.flatten()[i]]['O-C'],\n",
    " #                           dataset.iloc[indices.flatten()[i]]['H-L'],\n",
    " #                           dataset.iloc[indices.flatten()[i]]['H-C'],\n",
    " #                           dataset.iloc[indices.flatten()[i]]['L-C'],\n",
    "                           dataset.iloc[indices.flatten()[i]]['col_1'],\n",
    "                           dataset.iloc[indices.flatten()[i]]['col_2'],\n",
    "                           dataset.iloc[indices.flatten()[i]]['col_3'],\n",
    "                           dataset.iloc[indices.flatten()[i]]['col_4'],\n",
    "                           dataset.iloc[indices.flatten()[i]]['col_5'],\n",
    "                           dataset.iloc[indices.flatten()[i]]['F_SMA_10'],\n",
    "                           dataset.iloc[indices.flatten()[i]]['F_SMA_20'],\n",
    "                           ])\n",
    "    \n",
    "    output = pd.DataFrame(output)\n",
    "    output.columns = ['Indice','Distance',\n",
    "                      'col_1',\n",
    "                      'col_2',\n",
    "                      'col_3',\n",
    "                      'col_4',\n",
    "                      'col_5',\n",
    "                      'F_SMA_10',\n",
    "                      'F_SMA_20']\n",
    "    display (output)\n",
    "    \n",
    "    return indices, distances"
   ]
  },
  {
   "cell_type": "markdown",
   "metadata": {},
   "source": [
    "### Top 5 Similar Candlesticks"
   ]
  },
  {
   "cell_type": "code",
   "execution_count": 39,
   "metadata": {},
   "outputs": [
    {
     "data": {
      "text/html": [
       "<div>\n",
       "<style scoped>\n",
       "    .dataframe tbody tr th:only-of-type {\n",
       "        vertical-align: middle;\n",
       "    }\n",
       "\n",
       "    .dataframe tbody tr th {\n",
       "        vertical-align: top;\n",
       "    }\n",
       "\n",
       "    .dataframe thead th {\n",
       "        text-align: right;\n",
       "    }\n",
       "</style>\n",
       "<table border=\"1\" class=\"dataframe\">\n",
       "  <thead>\n",
       "    <tr style=\"text-align: right;\">\n",
       "      <th></th>\n",
       "      <th>col_1</th>\n",
       "      <th>col_2</th>\n",
       "      <th>col_3</th>\n",
       "      <th>col_4</th>\n",
       "      <th>col_5</th>\n",
       "      <th>F_SMA_10</th>\n",
       "      <th>F_SMA_20</th>\n",
       "    </tr>\n",
       "  </thead>\n",
       "  <tbody>\n",
       "    <tr>\n",
       "      <th>9649</th>\n",
       "      <td>-0.00149</td>\n",
       "      <td>0.00003</td>\n",
       "      <td>0.00016</td>\n",
       "      <td>0.00106</td>\n",
       "      <td>-0.00204</td>\n",
       "      <td>0.001702</td>\n",
       "      <td>0.002616</td>\n",
       "    </tr>\n",
       "  </tbody>\n",
       "</table>\n",
       "</div>"
      ],
      "text/plain": [
       "        col_1    col_2    col_3    col_4    col_5  F_SMA_10  F_SMA_20\n",
       "9649 -0.00149  0.00003  0.00016  0.00106 -0.00204  0.001702  0.002616"
      ]
     },
     "metadata": {},
     "output_type": "display_data"
    },
    {
     "data": {
      "text/html": [
       "<div>\n",
       "<style scoped>\n",
       "    .dataframe tbody tr th:only-of-type {\n",
       "        vertical-align: middle;\n",
       "    }\n",
       "\n",
       "    .dataframe tbody tr th {\n",
       "        vertical-align: top;\n",
       "    }\n",
       "\n",
       "    .dataframe thead th {\n",
       "        text-align: right;\n",
       "    }\n",
       "</style>\n",
       "<table border=\"1\" class=\"dataframe\">\n",
       "  <thead>\n",
       "    <tr style=\"text-align: right;\">\n",
       "      <th></th>\n",
       "      <th>Indice</th>\n",
       "      <th>Distance</th>\n",
       "      <th>col_1</th>\n",
       "      <th>col_2</th>\n",
       "      <th>col_3</th>\n",
       "      <th>col_4</th>\n",
       "      <th>col_5</th>\n",
       "      <th>F_SMA_10</th>\n",
       "      <th>F_SMA_20</th>\n",
       "    </tr>\n",
       "  </thead>\n",
       "  <tbody>\n",
       "    <tr>\n",
       "      <th>0</th>\n",
       "      <td>8987</td>\n",
       "      <td>0.000571</td>\n",
       "      <td>-0.00162</td>\n",
       "      <td>0.00017</td>\n",
       "      <td>0.00018</td>\n",
       "      <td>0.00080</td>\n",
       "      <td>-0.00183</td>\n",
       "      <td>0.001440</td>\n",
       "      <td>0.002287</td>\n",
       "    </tr>\n",
       "    <tr>\n",
       "      <th>1</th>\n",
       "      <td>4169</td>\n",
       "      <td>0.000860</td>\n",
       "      <td>-0.00154</td>\n",
       "      <td>0.00054</td>\n",
       "      <td>0.00007</td>\n",
       "      <td>0.00086</td>\n",
       "      <td>-0.00243</td>\n",
       "      <td>0.001820</td>\n",
       "      <td>0.003128</td>\n",
       "    </tr>\n",
       "    <tr>\n",
       "      <th>2</th>\n",
       "      <td>8124</td>\n",
       "      <td>0.000951</td>\n",
       "      <td>-0.00178</td>\n",
       "      <td>0.00038</td>\n",
       "      <td>0.00010</td>\n",
       "      <td>0.00097</td>\n",
       "      <td>-0.00148</td>\n",
       "      <td>0.002154</td>\n",
       "      <td>0.003026</td>\n",
       "    </tr>\n",
       "  </tbody>\n",
       "</table>\n",
       "</div>"
      ],
      "text/plain": [
       "   Indice  Distance    col_1    col_2    col_3    col_4    col_5  F_SMA_10  \\\n",
       "0    8987  0.000571 -0.00162  0.00017  0.00018  0.00080 -0.00183  0.001440   \n",
       "1    4169  0.000860 -0.00154  0.00054  0.00007  0.00086 -0.00243  0.001820   \n",
       "2    8124  0.000951 -0.00178  0.00038  0.00010  0.00097 -0.00148  0.002154   \n",
       "\n",
       "   F_SMA_20  \n",
       "0  0.002287  \n",
       "1  0.003128  \n",
       "2  0.003026  "
      ]
     },
     "metadata": {},
     "output_type": "display_data"
    }
   ],
   "source": [
    "indices, distances = find_k_similar_candles (candle_no,data)"
   ]
  },
  {
   "cell_type": "code",
   "execution_count": 40,
   "metadata": {},
   "outputs": [],
   "source": [
    "indices = indices[0:1][0]"
   ]
  },
  {
   "cell_type": "code",
   "execution_count": 41,
   "metadata": {},
   "outputs": [
    {
     "data": {
      "text/plain": [
       "array([9649, 8987, 4169, 8124])"
      ]
     },
     "execution_count": 41,
     "metadata": {},
     "output_type": "execute_result"
    }
   ],
   "source": [
    "indices"
   ]
  },
  {
   "cell_type": "markdown",
   "metadata": {},
   "source": [
    "### Currnet Market/Candlestick"
   ]
  },
  {
   "cell_type": "code",
   "execution_count": 45,
   "metadata": {
    "scrolled": false
   },
   "outputs": [
    {
     "data": {
      "application/vnd.plotly.v1+json": {
       "config": {
        "plotlyServerURL": "https://plot.ly"
       },
       "data": [
        {
         "close": [
          1.15433,
          1.15567,
          1.15585,
          1.15556,
          1.15602,
          1.1556,
          1.15557,
          1.15536,
          1.15586,
          1.15482,
          1.15536,
          1.1571,
          1.15642,
          1.15744,
          1.15746,
          1.15725,
          1.157,
          1.15614,
          1.15634,
          1.15532,
          1.15494,
          1.15563,
          1.15619,
          1.15416,
          1.15282,
          1.15302,
          1.15412,
          1.15525,
          1.15564,
          1.1543,
          1.1578,
          1.15958,
          1.1599,
          1.15898,
          1.16162,
          1.16063,
          1.15882,
          1.15971,
          1.15938,
          1.16081,
          1.16032,
          1.15921,
          1.1595,
          1.1599,
          1.15841,
          1.15788,
          1.15808,
          1.16015,
          1.16218,
          1.16112,
          1.16251,
          1.164
         ],
         "high": [
          1.15557,
          1.15598,
          1.15612,
          1.15592,
          1.15706,
          1.15724,
          1.1569,
          1.15648,
          1.15602,
          1.15591,
          1.15564,
          1.15862,
          1.15797,
          1.15784,
          1.1578,
          1.15793,
          1.15869,
          1.1574,
          1.15838,
          1.15646,
          1.15562,
          1.15609,
          1.15702,
          1.1567,
          1.15501,
          1.15349,
          1.15427,
          1.15558,
          1.15605,
          1.15669,
          1.15788,
          1.15974,
          1.16012,
          1.16008,
          1.16188,
          1.16244,
          1.1607,
          1.16023,
          1.15994,
          1.16118,
          1.16188,
          1.16122,
          1.16104,
          1.1606,
          1.16054,
          1.1594,
          1.15964,
          1.16099,
          1.16219,
          1.16226,
          1.16254,
          1.16428
         ],
         "low": [
          1.15322,
          1.15432,
          1.15524,
          1.15512,
          1.1549,
          1.15504,
          1.15474,
          1.15493,
          1.1552,
          1.15474,
          1.15414,
          1.15534,
          1.15557,
          1.15596,
          1.15637,
          1.15684,
          1.15642,
          1.15522,
          1.15612,
          1.15491,
          1.15472,
          1.15478,
          1.15554,
          1.1533,
          1.1525,
          1.15244,
          1.15285,
          1.15406,
          1.15456,
          1.15361,
          1.15403,
          1.15778,
          1.15906,
          1.15888,
          1.15877,
          1.15978,
          1.1584,
          1.15846,
          1.15882,
          1.15936,
          1.15994,
          1.1589,
          1.15892,
          1.15931,
          1.1583,
          1.1578,
          1.15718,
          1.15764,
          1.15924,
          1.16086,
          1.16086,
          1.16243
         ],
         "open": [
          1.15452,
          1.15432,
          1.15574,
          1.15584,
          1.15558,
          1.15602,
          1.15559,
          1.15558,
          1.1554,
          1.15584,
          1.15484,
          1.15537,
          1.15711,
          1.15644,
          1.15715,
          1.15748,
          1.15723,
          1.157,
          1.15616,
          1.15636,
          1.15532,
          1.15496,
          1.15564,
          1.15622,
          1.15418,
          1.15281,
          1.15306,
          1.15414,
          1.15526,
          1.15562,
          1.15428,
          1.15778,
          1.15943,
          1.15991,
          1.159,
          1.16161,
          1.16065,
          1.15881,
          1.15966,
          1.1594,
          1.1608,
          1.16031,
          1.15922,
          1.15952,
          1.15931,
          1.15842,
          1.15788,
          1.15809,
          1.16014,
          1.16218,
          1.16102,
          1.16252
         ],
         "type": "candlestick",
         "x": [
          "2021-10-06T13:00:00.000000000Z",
          "2021-10-06T17:00:00.000000000Z",
          "2021-10-06T21:00:00.000000000Z",
          "2021-10-07T01:00:00.000000000Z",
          "2021-10-07T05:00:00.000000000Z",
          "2021-10-07T09:00:00.000000000Z",
          "2021-10-07T13:00:00.000000000Z",
          "2021-10-07T17:00:00.000000000Z",
          "2021-10-07T21:00:00.000000000Z",
          "2021-10-08T01:00:00.000000000Z",
          "2021-10-08T05:00:00.000000000Z",
          "2021-10-08T09:00:00.000000000Z",
          "2021-10-08T13:00:00.000000000Z",
          "2021-10-08T17:00:00.000000000Z",
          "2021-10-10T21:00:00.000000000Z",
          "2021-10-11T01:00:00.000000000Z",
          "2021-10-11T05:00:00.000000000Z",
          "2021-10-11T09:00:00.000000000Z",
          "2021-10-11T13:00:00.000000000Z",
          "2021-10-11T17:00:00.000000000Z",
          "2021-10-11T21:00:00.000000000Z",
          "2021-10-12T01:00:00.000000000Z",
          "2021-10-12T05:00:00.000000000Z",
          "2021-10-12T09:00:00.000000000Z",
          "2021-10-12T13:00:00.000000000Z",
          "2021-10-12T17:00:00.000000000Z",
          "2021-10-12T21:00:00.000000000Z",
          "2021-10-13T01:00:00.000000000Z",
          "2021-10-13T05:00:00.000000000Z",
          "2021-10-13T09:00:00.000000000Z",
          "2021-10-13T13:00:00.000000000Z",
          "2021-10-13T17:00:00.000000000Z",
          "2021-10-13T21:00:00.000000000Z",
          "2021-10-14T01:00:00.000000000Z",
          "2021-10-14T05:00:00.000000000Z",
          "2021-10-14T09:00:00.000000000Z",
          "2021-10-14T13:00:00.000000000Z",
          "2021-10-14T17:00:00.000000000Z",
          "2021-10-14T21:00:00.000000000Z",
          "2021-10-15T01:00:00.000000000Z",
          "2021-10-15T05:00:00.000000000Z",
          "2021-10-15T09:00:00.000000000Z",
          "2021-10-15T13:00:00.000000000Z",
          "2021-10-15T17:00:00.000000000Z",
          "2021-10-17T21:00:00.000000000Z",
          "2021-10-18T01:00:00.000000000Z",
          "2021-10-18T05:00:00.000000000Z",
          "2021-10-18T09:00:00.000000000Z",
          "2021-10-18T13:00:00.000000000Z",
          "2021-10-18T17:00:00.000000000Z",
          "2021-10-18T21:00:00.000000000Z",
          "2021-10-19T01:00:00.000000000Z"
         ]
        }
       ],
       "layout": {
        "template": {
         "data": {
          "bar": [
           {
            "error_x": {
             "color": "#2a3f5f"
            },
            "error_y": {
             "color": "#2a3f5f"
            },
            "marker": {
             "line": {
              "color": "#E5ECF6",
              "width": 0.5
             },
             "pattern": {
              "fillmode": "overlay",
              "size": 10,
              "solidity": 0.2
             }
            },
            "type": "bar"
           }
          ],
          "barpolar": [
           {
            "marker": {
             "line": {
              "color": "#E5ECF6",
              "width": 0.5
             },
             "pattern": {
              "fillmode": "overlay",
              "size": 10,
              "solidity": 0.2
             }
            },
            "type": "barpolar"
           }
          ],
          "carpet": [
           {
            "aaxis": {
             "endlinecolor": "#2a3f5f",
             "gridcolor": "white",
             "linecolor": "white",
             "minorgridcolor": "white",
             "startlinecolor": "#2a3f5f"
            },
            "baxis": {
             "endlinecolor": "#2a3f5f",
             "gridcolor": "white",
             "linecolor": "white",
             "minorgridcolor": "white",
             "startlinecolor": "#2a3f5f"
            },
            "type": "carpet"
           }
          ],
          "choropleth": [
           {
            "colorbar": {
             "outlinewidth": 0,
             "ticks": ""
            },
            "type": "choropleth"
           }
          ],
          "contour": [
           {
            "colorbar": {
             "outlinewidth": 0,
             "ticks": ""
            },
            "colorscale": [
             [
              0,
              "#0d0887"
             ],
             [
              0.1111111111111111,
              "#46039f"
             ],
             [
              0.2222222222222222,
              "#7201a8"
             ],
             [
              0.3333333333333333,
              "#9c179e"
             ],
             [
              0.4444444444444444,
              "#bd3786"
             ],
             [
              0.5555555555555556,
              "#d8576b"
             ],
             [
              0.6666666666666666,
              "#ed7953"
             ],
             [
              0.7777777777777778,
              "#fb9f3a"
             ],
             [
              0.8888888888888888,
              "#fdca26"
             ],
             [
              1,
              "#f0f921"
             ]
            ],
            "type": "contour"
           }
          ],
          "contourcarpet": [
           {
            "colorbar": {
             "outlinewidth": 0,
             "ticks": ""
            },
            "type": "contourcarpet"
           }
          ],
          "heatmap": [
           {
            "colorbar": {
             "outlinewidth": 0,
             "ticks": ""
            },
            "colorscale": [
             [
              0,
              "#0d0887"
             ],
             [
              0.1111111111111111,
              "#46039f"
             ],
             [
              0.2222222222222222,
              "#7201a8"
             ],
             [
              0.3333333333333333,
              "#9c179e"
             ],
             [
              0.4444444444444444,
              "#bd3786"
             ],
             [
              0.5555555555555556,
              "#d8576b"
             ],
             [
              0.6666666666666666,
              "#ed7953"
             ],
             [
              0.7777777777777778,
              "#fb9f3a"
             ],
             [
              0.8888888888888888,
              "#fdca26"
             ],
             [
              1,
              "#f0f921"
             ]
            ],
            "type": "heatmap"
           }
          ],
          "heatmapgl": [
           {
            "colorbar": {
             "outlinewidth": 0,
             "ticks": ""
            },
            "colorscale": [
             [
              0,
              "#0d0887"
             ],
             [
              0.1111111111111111,
              "#46039f"
             ],
             [
              0.2222222222222222,
              "#7201a8"
             ],
             [
              0.3333333333333333,
              "#9c179e"
             ],
             [
              0.4444444444444444,
              "#bd3786"
             ],
             [
              0.5555555555555556,
              "#d8576b"
             ],
             [
              0.6666666666666666,
              "#ed7953"
             ],
             [
              0.7777777777777778,
              "#fb9f3a"
             ],
             [
              0.8888888888888888,
              "#fdca26"
             ],
             [
              1,
              "#f0f921"
             ]
            ],
            "type": "heatmapgl"
           }
          ],
          "histogram": [
           {
            "marker": {
             "pattern": {
              "fillmode": "overlay",
              "size": 10,
              "solidity": 0.2
             }
            },
            "type": "histogram"
           }
          ],
          "histogram2d": [
           {
            "colorbar": {
             "outlinewidth": 0,
             "ticks": ""
            },
            "colorscale": [
             [
              0,
              "#0d0887"
             ],
             [
              0.1111111111111111,
              "#46039f"
             ],
             [
              0.2222222222222222,
              "#7201a8"
             ],
             [
              0.3333333333333333,
              "#9c179e"
             ],
             [
              0.4444444444444444,
              "#bd3786"
             ],
             [
              0.5555555555555556,
              "#d8576b"
             ],
             [
              0.6666666666666666,
              "#ed7953"
             ],
             [
              0.7777777777777778,
              "#fb9f3a"
             ],
             [
              0.8888888888888888,
              "#fdca26"
             ],
             [
              1,
              "#f0f921"
             ]
            ],
            "type": "histogram2d"
           }
          ],
          "histogram2dcontour": [
           {
            "colorbar": {
             "outlinewidth": 0,
             "ticks": ""
            },
            "colorscale": [
             [
              0,
              "#0d0887"
             ],
             [
              0.1111111111111111,
              "#46039f"
             ],
             [
              0.2222222222222222,
              "#7201a8"
             ],
             [
              0.3333333333333333,
              "#9c179e"
             ],
             [
              0.4444444444444444,
              "#bd3786"
             ],
             [
              0.5555555555555556,
              "#d8576b"
             ],
             [
              0.6666666666666666,
              "#ed7953"
             ],
             [
              0.7777777777777778,
              "#fb9f3a"
             ],
             [
              0.8888888888888888,
              "#fdca26"
             ],
             [
              1,
              "#f0f921"
             ]
            ],
            "type": "histogram2dcontour"
           }
          ],
          "mesh3d": [
           {
            "colorbar": {
             "outlinewidth": 0,
             "ticks": ""
            },
            "type": "mesh3d"
           }
          ],
          "parcoords": [
           {
            "line": {
             "colorbar": {
              "outlinewidth": 0,
              "ticks": ""
             }
            },
            "type": "parcoords"
           }
          ],
          "pie": [
           {
            "automargin": true,
            "type": "pie"
           }
          ],
          "scatter": [
           {
            "marker": {
             "colorbar": {
              "outlinewidth": 0,
              "ticks": ""
             }
            },
            "type": "scatter"
           }
          ],
          "scatter3d": [
           {
            "line": {
             "colorbar": {
              "outlinewidth": 0,
              "ticks": ""
             }
            },
            "marker": {
             "colorbar": {
              "outlinewidth": 0,
              "ticks": ""
             }
            },
            "type": "scatter3d"
           }
          ],
          "scattercarpet": [
           {
            "marker": {
             "colorbar": {
              "outlinewidth": 0,
              "ticks": ""
             }
            },
            "type": "scattercarpet"
           }
          ],
          "scattergeo": [
           {
            "marker": {
             "colorbar": {
              "outlinewidth": 0,
              "ticks": ""
             }
            },
            "type": "scattergeo"
           }
          ],
          "scattergl": [
           {
            "marker": {
             "colorbar": {
              "outlinewidth": 0,
              "ticks": ""
             }
            },
            "type": "scattergl"
           }
          ],
          "scattermapbox": [
           {
            "marker": {
             "colorbar": {
              "outlinewidth": 0,
              "ticks": ""
             }
            },
            "type": "scattermapbox"
           }
          ],
          "scatterpolar": [
           {
            "marker": {
             "colorbar": {
              "outlinewidth": 0,
              "ticks": ""
             }
            },
            "type": "scatterpolar"
           }
          ],
          "scatterpolargl": [
           {
            "marker": {
             "colorbar": {
              "outlinewidth": 0,
              "ticks": ""
             }
            },
            "type": "scatterpolargl"
           }
          ],
          "scatterternary": [
           {
            "marker": {
             "colorbar": {
              "outlinewidth": 0,
              "ticks": ""
             }
            },
            "type": "scatterternary"
           }
          ],
          "surface": [
           {
            "colorbar": {
             "outlinewidth": 0,
             "ticks": ""
            },
            "colorscale": [
             [
              0,
              "#0d0887"
             ],
             [
              0.1111111111111111,
              "#46039f"
             ],
             [
              0.2222222222222222,
              "#7201a8"
             ],
             [
              0.3333333333333333,
              "#9c179e"
             ],
             [
              0.4444444444444444,
              "#bd3786"
             ],
             [
              0.5555555555555556,
              "#d8576b"
             ],
             [
              0.6666666666666666,
              "#ed7953"
             ],
             [
              0.7777777777777778,
              "#fb9f3a"
             ],
             [
              0.8888888888888888,
              "#fdca26"
             ],
             [
              1,
              "#f0f921"
             ]
            ],
            "type": "surface"
           }
          ],
          "table": [
           {
            "cells": {
             "fill": {
              "color": "#EBF0F8"
             },
             "line": {
              "color": "white"
             }
            },
            "header": {
             "fill": {
              "color": "#C8D4E3"
             },
             "line": {
              "color": "white"
             }
            },
            "type": "table"
           }
          ]
         },
         "layout": {
          "annotationdefaults": {
           "arrowcolor": "#2a3f5f",
           "arrowhead": 0,
           "arrowwidth": 1
          },
          "autotypenumbers": "strict",
          "coloraxis": {
           "colorbar": {
            "outlinewidth": 0,
            "ticks": ""
           }
          },
          "colorscale": {
           "diverging": [
            [
             0,
             "#8e0152"
            ],
            [
             0.1,
             "#c51b7d"
            ],
            [
             0.2,
             "#de77ae"
            ],
            [
             0.3,
             "#f1b6da"
            ],
            [
             0.4,
             "#fde0ef"
            ],
            [
             0.5,
             "#f7f7f7"
            ],
            [
             0.6,
             "#e6f5d0"
            ],
            [
             0.7,
             "#b8e186"
            ],
            [
             0.8,
             "#7fbc41"
            ],
            [
             0.9,
             "#4d9221"
            ],
            [
             1,
             "#276419"
            ]
           ],
           "sequential": [
            [
             0,
             "#0d0887"
            ],
            [
             0.1111111111111111,
             "#46039f"
            ],
            [
             0.2222222222222222,
             "#7201a8"
            ],
            [
             0.3333333333333333,
             "#9c179e"
            ],
            [
             0.4444444444444444,
             "#bd3786"
            ],
            [
             0.5555555555555556,
             "#d8576b"
            ],
            [
             0.6666666666666666,
             "#ed7953"
            ],
            [
             0.7777777777777778,
             "#fb9f3a"
            ],
            [
             0.8888888888888888,
             "#fdca26"
            ],
            [
             1,
             "#f0f921"
            ]
           ],
           "sequentialminus": [
            [
             0,
             "#0d0887"
            ],
            [
             0.1111111111111111,
             "#46039f"
            ],
            [
             0.2222222222222222,
             "#7201a8"
            ],
            [
             0.3333333333333333,
             "#9c179e"
            ],
            [
             0.4444444444444444,
             "#bd3786"
            ],
            [
             0.5555555555555556,
             "#d8576b"
            ],
            [
             0.6666666666666666,
             "#ed7953"
            ],
            [
             0.7777777777777778,
             "#fb9f3a"
            ],
            [
             0.8888888888888888,
             "#fdca26"
            ],
            [
             1,
             "#f0f921"
            ]
           ]
          },
          "colorway": [
           "#636efa",
           "#EF553B",
           "#00cc96",
           "#ab63fa",
           "#FFA15A",
           "#19d3f3",
           "#FF6692",
           "#B6E880",
           "#FF97FF",
           "#FECB52"
          ],
          "font": {
           "color": "#2a3f5f"
          },
          "geo": {
           "bgcolor": "white",
           "lakecolor": "white",
           "landcolor": "#E5ECF6",
           "showlakes": true,
           "showland": true,
           "subunitcolor": "white"
          },
          "hoverlabel": {
           "align": "left"
          },
          "hovermode": "closest",
          "mapbox": {
           "style": "light"
          },
          "paper_bgcolor": "white",
          "plot_bgcolor": "#E5ECF6",
          "polar": {
           "angularaxis": {
            "gridcolor": "white",
            "linecolor": "white",
            "ticks": ""
           },
           "bgcolor": "#E5ECF6",
           "radialaxis": {
            "gridcolor": "white",
            "linecolor": "white",
            "ticks": ""
           }
          },
          "scene": {
           "xaxis": {
            "backgroundcolor": "#E5ECF6",
            "gridcolor": "white",
            "gridwidth": 2,
            "linecolor": "white",
            "showbackground": true,
            "ticks": "",
            "zerolinecolor": "white"
           },
           "yaxis": {
            "backgroundcolor": "#E5ECF6",
            "gridcolor": "white",
            "gridwidth": 2,
            "linecolor": "white",
            "showbackground": true,
            "ticks": "",
            "zerolinecolor": "white"
           },
           "zaxis": {
            "backgroundcolor": "#E5ECF6",
            "gridcolor": "white",
            "gridwidth": 2,
            "linecolor": "white",
            "showbackground": true,
            "ticks": "",
            "zerolinecolor": "white"
           }
          },
          "shapedefaults": {
           "line": {
            "color": "#2a3f5f"
           }
          },
          "ternary": {
           "aaxis": {
            "gridcolor": "white",
            "linecolor": "white",
            "ticks": ""
           },
           "baxis": {
            "gridcolor": "white",
            "linecolor": "white",
            "ticks": ""
           },
           "bgcolor": "#E5ECF6",
           "caxis": {
            "gridcolor": "white",
            "linecolor": "white",
            "ticks": ""
           }
          },
          "title": {
           "x": 0.05
          },
          "xaxis": {
           "automargin": true,
           "gridcolor": "white",
           "linecolor": "white",
           "ticks": "",
           "title": {
            "standoff": 15
           },
           "zerolinecolor": "white",
           "zerolinewidth": 2
          },
          "yaxis": {
           "automargin": true,
           "gridcolor": "white",
           "linecolor": "white",
           "ticks": "",
           "title": {
            "standoff": 15
           },
           "zerolinecolor": "white",
           "zerolinewidth": 2
          }
         }
        },
        "title": {
         "font": {
          "color": "blue",
          "size": 20
         },
         "text": "Neighbor: current_market EUR_USD H4"
        },
        "xaxis": {
         "rangebreaks": [
          {
           "bounds": [
            "sat",
            "mon"
           ]
          }
         ],
         "rangeslider": {
          "visible": false
         }
        }
       }
      },
      "text/html": [
       "<div>                            <div id=\"12db8f06-7735-4333-adb4-496d817bfae0\" class=\"plotly-graph-div\" style=\"height:525px; width:100%;\"></div>            <script type=\"text/javascript\">                require([\"plotly\"], function(Plotly) {                    window.PLOTLYENV=window.PLOTLYENV || {};                                    if (document.getElementById(\"12db8f06-7735-4333-adb4-496d817bfae0\")) {                    Plotly.newPlot(                        \"12db8f06-7735-4333-adb4-496d817bfae0\",                        [{\"close\":[1.15433,1.15567,1.15585,1.15556,1.15602,1.1556,1.15557,1.15536,1.15586,1.15482,1.15536,1.1571,1.15642,1.15744,1.15746,1.15725,1.157,1.15614,1.15634,1.15532,1.15494,1.15563,1.15619,1.15416,1.15282,1.15302,1.15412,1.15525,1.15564,1.1543,1.1578,1.15958,1.1599,1.15898,1.16162,1.16063,1.15882,1.15971,1.15938,1.16081,1.16032,1.15921,1.1595,1.1599,1.15841,1.15788,1.15808,1.16015,1.16218,1.16112,1.16251,1.164],\"high\":[1.15557,1.15598,1.15612,1.15592,1.15706,1.15724,1.1569,1.15648,1.15602,1.15591,1.15564,1.15862,1.15797,1.15784,1.1578,1.15793,1.15869,1.1574,1.15838,1.15646,1.15562,1.15609,1.15702,1.1567,1.15501,1.15349,1.15427,1.15558,1.15605,1.15669,1.15788,1.15974,1.16012,1.16008,1.16188,1.16244,1.1607,1.16023,1.15994,1.16118,1.16188,1.16122,1.16104,1.1606,1.16054,1.1594,1.15964,1.16099,1.16219,1.16226,1.16254,1.16428],\"low\":[1.15322,1.15432,1.15524,1.15512,1.1549,1.15504,1.15474,1.15493,1.1552,1.15474,1.15414,1.15534,1.15557,1.15596,1.15637,1.15684,1.15642,1.15522,1.15612,1.15491,1.15472,1.15478,1.15554,1.1533,1.1525,1.15244,1.15285,1.15406,1.15456,1.15361,1.15403,1.15778,1.15906,1.15888,1.15877,1.15978,1.1584,1.15846,1.15882,1.15936,1.15994,1.1589,1.15892,1.15931,1.1583,1.1578,1.15718,1.15764,1.15924,1.16086,1.16086,1.16243],\"open\":[1.15452,1.15432,1.15574,1.15584,1.15558,1.15602,1.15559,1.15558,1.1554,1.15584,1.15484,1.15537,1.15711,1.15644,1.15715,1.15748,1.15723,1.157,1.15616,1.15636,1.15532,1.15496,1.15564,1.15622,1.15418,1.15281,1.15306,1.15414,1.15526,1.15562,1.15428,1.15778,1.15943,1.15991,1.159,1.16161,1.16065,1.15881,1.15966,1.1594,1.1608,1.16031,1.15922,1.15952,1.15931,1.15842,1.15788,1.15809,1.16014,1.16218,1.16102,1.16252],\"type\":\"candlestick\",\"x\":[\"2021-10-06T13:00:00.000000000Z\",\"2021-10-06T17:00:00.000000000Z\",\"2021-10-06T21:00:00.000000000Z\",\"2021-10-07T01:00:00.000000000Z\",\"2021-10-07T05:00:00.000000000Z\",\"2021-10-07T09:00:00.000000000Z\",\"2021-10-07T13:00:00.000000000Z\",\"2021-10-07T17:00:00.000000000Z\",\"2021-10-07T21:00:00.000000000Z\",\"2021-10-08T01:00:00.000000000Z\",\"2021-10-08T05:00:00.000000000Z\",\"2021-10-08T09:00:00.000000000Z\",\"2021-10-08T13:00:00.000000000Z\",\"2021-10-08T17:00:00.000000000Z\",\"2021-10-10T21:00:00.000000000Z\",\"2021-10-11T01:00:00.000000000Z\",\"2021-10-11T05:00:00.000000000Z\",\"2021-10-11T09:00:00.000000000Z\",\"2021-10-11T13:00:00.000000000Z\",\"2021-10-11T17:00:00.000000000Z\",\"2021-10-11T21:00:00.000000000Z\",\"2021-10-12T01:00:00.000000000Z\",\"2021-10-12T05:00:00.000000000Z\",\"2021-10-12T09:00:00.000000000Z\",\"2021-10-12T13:00:00.000000000Z\",\"2021-10-12T17:00:00.000000000Z\",\"2021-10-12T21:00:00.000000000Z\",\"2021-10-13T01:00:00.000000000Z\",\"2021-10-13T05:00:00.000000000Z\",\"2021-10-13T09:00:00.000000000Z\",\"2021-10-13T13:00:00.000000000Z\",\"2021-10-13T17:00:00.000000000Z\",\"2021-10-13T21:00:00.000000000Z\",\"2021-10-14T01:00:00.000000000Z\",\"2021-10-14T05:00:00.000000000Z\",\"2021-10-14T09:00:00.000000000Z\",\"2021-10-14T13:00:00.000000000Z\",\"2021-10-14T17:00:00.000000000Z\",\"2021-10-14T21:00:00.000000000Z\",\"2021-10-15T01:00:00.000000000Z\",\"2021-10-15T05:00:00.000000000Z\",\"2021-10-15T09:00:00.000000000Z\",\"2021-10-15T13:00:00.000000000Z\",\"2021-10-15T17:00:00.000000000Z\",\"2021-10-17T21:00:00.000000000Z\",\"2021-10-18T01:00:00.000000000Z\",\"2021-10-18T05:00:00.000000000Z\",\"2021-10-18T09:00:00.000000000Z\",\"2021-10-18T13:00:00.000000000Z\",\"2021-10-18T17:00:00.000000000Z\",\"2021-10-18T21:00:00.000000000Z\",\"2021-10-19T01:00:00.000000000Z\"]}],                        {\"template\":{\"data\":{\"bar\":[{\"error_x\":{\"color\":\"#2a3f5f\"},\"error_y\":{\"color\":\"#2a3f5f\"},\"marker\":{\"line\":{\"color\":\"#E5ECF6\",\"width\":0.5},\"pattern\":{\"fillmode\":\"overlay\",\"size\":10,\"solidity\":0.2}},\"type\":\"bar\"}],\"barpolar\":[{\"marker\":{\"line\":{\"color\":\"#E5ECF6\",\"width\":0.5},\"pattern\":{\"fillmode\":\"overlay\",\"size\":10,\"solidity\":0.2}},\"type\":\"barpolar\"}],\"carpet\":[{\"aaxis\":{\"endlinecolor\":\"#2a3f5f\",\"gridcolor\":\"white\",\"linecolor\":\"white\",\"minorgridcolor\":\"white\",\"startlinecolor\":\"#2a3f5f\"},\"baxis\":{\"endlinecolor\":\"#2a3f5f\",\"gridcolor\":\"white\",\"linecolor\":\"white\",\"minorgridcolor\":\"white\",\"startlinecolor\":\"#2a3f5f\"},\"type\":\"carpet\"}],\"choropleth\":[{\"colorbar\":{\"outlinewidth\":0,\"ticks\":\"\"},\"type\":\"choropleth\"}],\"contour\":[{\"colorbar\":{\"outlinewidth\":0,\"ticks\":\"\"},\"colorscale\":[[0.0,\"#0d0887\"],[0.1111111111111111,\"#46039f\"],[0.2222222222222222,\"#7201a8\"],[0.3333333333333333,\"#9c179e\"],[0.4444444444444444,\"#bd3786\"],[0.5555555555555556,\"#d8576b\"],[0.6666666666666666,\"#ed7953\"],[0.7777777777777778,\"#fb9f3a\"],[0.8888888888888888,\"#fdca26\"],[1.0,\"#f0f921\"]],\"type\":\"contour\"}],\"contourcarpet\":[{\"colorbar\":{\"outlinewidth\":0,\"ticks\":\"\"},\"type\":\"contourcarpet\"}],\"heatmap\":[{\"colorbar\":{\"outlinewidth\":0,\"ticks\":\"\"},\"colorscale\":[[0.0,\"#0d0887\"],[0.1111111111111111,\"#46039f\"],[0.2222222222222222,\"#7201a8\"],[0.3333333333333333,\"#9c179e\"],[0.4444444444444444,\"#bd3786\"],[0.5555555555555556,\"#d8576b\"],[0.6666666666666666,\"#ed7953\"],[0.7777777777777778,\"#fb9f3a\"],[0.8888888888888888,\"#fdca26\"],[1.0,\"#f0f921\"]],\"type\":\"heatmap\"}],\"heatmapgl\":[{\"colorbar\":{\"outlinewidth\":0,\"ticks\":\"\"},\"colorscale\":[[0.0,\"#0d0887\"],[0.1111111111111111,\"#46039f\"],[0.2222222222222222,\"#7201a8\"],[0.3333333333333333,\"#9c179e\"],[0.4444444444444444,\"#bd3786\"],[0.5555555555555556,\"#d8576b\"],[0.6666666666666666,\"#ed7953\"],[0.7777777777777778,\"#fb9f3a\"],[0.8888888888888888,\"#fdca26\"],[1.0,\"#f0f921\"]],\"type\":\"heatmapgl\"}],\"histogram\":[{\"marker\":{\"pattern\":{\"fillmode\":\"overlay\",\"size\":10,\"solidity\":0.2}},\"type\":\"histogram\"}],\"histogram2d\":[{\"colorbar\":{\"outlinewidth\":0,\"ticks\":\"\"},\"colorscale\":[[0.0,\"#0d0887\"],[0.1111111111111111,\"#46039f\"],[0.2222222222222222,\"#7201a8\"],[0.3333333333333333,\"#9c179e\"],[0.4444444444444444,\"#bd3786\"],[0.5555555555555556,\"#d8576b\"],[0.6666666666666666,\"#ed7953\"],[0.7777777777777778,\"#fb9f3a\"],[0.8888888888888888,\"#fdca26\"],[1.0,\"#f0f921\"]],\"type\":\"histogram2d\"}],\"histogram2dcontour\":[{\"colorbar\":{\"outlinewidth\":0,\"ticks\":\"\"},\"colorscale\":[[0.0,\"#0d0887\"],[0.1111111111111111,\"#46039f\"],[0.2222222222222222,\"#7201a8\"],[0.3333333333333333,\"#9c179e\"],[0.4444444444444444,\"#bd3786\"],[0.5555555555555556,\"#d8576b\"],[0.6666666666666666,\"#ed7953\"],[0.7777777777777778,\"#fb9f3a\"],[0.8888888888888888,\"#fdca26\"],[1.0,\"#f0f921\"]],\"type\":\"histogram2dcontour\"}],\"mesh3d\":[{\"colorbar\":{\"outlinewidth\":0,\"ticks\":\"\"},\"type\":\"mesh3d\"}],\"parcoords\":[{\"line\":{\"colorbar\":{\"outlinewidth\":0,\"ticks\":\"\"}},\"type\":\"parcoords\"}],\"pie\":[{\"automargin\":true,\"type\":\"pie\"}],\"scatter\":[{\"marker\":{\"colorbar\":{\"outlinewidth\":0,\"ticks\":\"\"}},\"type\":\"scatter\"}],\"scatter3d\":[{\"line\":{\"colorbar\":{\"outlinewidth\":0,\"ticks\":\"\"}},\"marker\":{\"colorbar\":{\"outlinewidth\":0,\"ticks\":\"\"}},\"type\":\"scatter3d\"}],\"scattercarpet\":[{\"marker\":{\"colorbar\":{\"outlinewidth\":0,\"ticks\":\"\"}},\"type\":\"scattercarpet\"}],\"scattergeo\":[{\"marker\":{\"colorbar\":{\"outlinewidth\":0,\"ticks\":\"\"}},\"type\":\"scattergeo\"}],\"scattergl\":[{\"marker\":{\"colorbar\":{\"outlinewidth\":0,\"ticks\":\"\"}},\"type\":\"scattergl\"}],\"scattermapbox\":[{\"marker\":{\"colorbar\":{\"outlinewidth\":0,\"ticks\":\"\"}},\"type\":\"scattermapbox\"}],\"scatterpolar\":[{\"marker\":{\"colorbar\":{\"outlinewidth\":0,\"ticks\":\"\"}},\"type\":\"scatterpolar\"}],\"scatterpolargl\":[{\"marker\":{\"colorbar\":{\"outlinewidth\":0,\"ticks\":\"\"}},\"type\":\"scatterpolargl\"}],\"scatterternary\":[{\"marker\":{\"colorbar\":{\"outlinewidth\":0,\"ticks\":\"\"}},\"type\":\"scatterternary\"}],\"surface\":[{\"colorbar\":{\"outlinewidth\":0,\"ticks\":\"\"},\"colorscale\":[[0.0,\"#0d0887\"],[0.1111111111111111,\"#46039f\"],[0.2222222222222222,\"#7201a8\"],[0.3333333333333333,\"#9c179e\"],[0.4444444444444444,\"#bd3786\"],[0.5555555555555556,\"#d8576b\"],[0.6666666666666666,\"#ed7953\"],[0.7777777777777778,\"#fb9f3a\"],[0.8888888888888888,\"#fdca26\"],[1.0,\"#f0f921\"]],\"type\":\"surface\"}],\"table\":[{\"cells\":{\"fill\":{\"color\":\"#EBF0F8\"},\"line\":{\"color\":\"white\"}},\"header\":{\"fill\":{\"color\":\"#C8D4E3\"},\"line\":{\"color\":\"white\"}},\"type\":\"table\"}]},\"layout\":{\"annotationdefaults\":{\"arrowcolor\":\"#2a3f5f\",\"arrowhead\":0,\"arrowwidth\":1},\"autotypenumbers\":\"strict\",\"coloraxis\":{\"colorbar\":{\"outlinewidth\":0,\"ticks\":\"\"}},\"colorscale\":{\"diverging\":[[0,\"#8e0152\"],[0.1,\"#c51b7d\"],[0.2,\"#de77ae\"],[0.3,\"#f1b6da\"],[0.4,\"#fde0ef\"],[0.5,\"#f7f7f7\"],[0.6,\"#e6f5d0\"],[0.7,\"#b8e186\"],[0.8,\"#7fbc41\"],[0.9,\"#4d9221\"],[1,\"#276419\"]],\"sequential\":[[0.0,\"#0d0887\"],[0.1111111111111111,\"#46039f\"],[0.2222222222222222,\"#7201a8\"],[0.3333333333333333,\"#9c179e\"],[0.4444444444444444,\"#bd3786\"],[0.5555555555555556,\"#d8576b\"],[0.6666666666666666,\"#ed7953\"],[0.7777777777777778,\"#fb9f3a\"],[0.8888888888888888,\"#fdca26\"],[1.0,\"#f0f921\"]],\"sequentialminus\":[[0.0,\"#0d0887\"],[0.1111111111111111,\"#46039f\"],[0.2222222222222222,\"#7201a8\"],[0.3333333333333333,\"#9c179e\"],[0.4444444444444444,\"#bd3786\"],[0.5555555555555556,\"#d8576b\"],[0.6666666666666666,\"#ed7953\"],[0.7777777777777778,\"#fb9f3a\"],[0.8888888888888888,\"#fdca26\"],[1.0,\"#f0f921\"]]},\"colorway\":[\"#636efa\",\"#EF553B\",\"#00cc96\",\"#ab63fa\",\"#FFA15A\",\"#19d3f3\",\"#FF6692\",\"#B6E880\",\"#FF97FF\",\"#FECB52\"],\"font\":{\"color\":\"#2a3f5f\"},\"geo\":{\"bgcolor\":\"white\",\"lakecolor\":\"white\",\"landcolor\":\"#E5ECF6\",\"showlakes\":true,\"showland\":true,\"subunitcolor\":\"white\"},\"hoverlabel\":{\"align\":\"left\"},\"hovermode\":\"closest\",\"mapbox\":{\"style\":\"light\"},\"paper_bgcolor\":\"white\",\"plot_bgcolor\":\"#E5ECF6\",\"polar\":{\"angularaxis\":{\"gridcolor\":\"white\",\"linecolor\":\"white\",\"ticks\":\"\"},\"bgcolor\":\"#E5ECF6\",\"radialaxis\":{\"gridcolor\":\"white\",\"linecolor\":\"white\",\"ticks\":\"\"}},\"scene\":{\"xaxis\":{\"backgroundcolor\":\"#E5ECF6\",\"gridcolor\":\"white\",\"gridwidth\":2,\"linecolor\":\"white\",\"showbackground\":true,\"ticks\":\"\",\"zerolinecolor\":\"white\"},\"yaxis\":{\"backgroundcolor\":\"#E5ECF6\",\"gridcolor\":\"white\",\"gridwidth\":2,\"linecolor\":\"white\",\"showbackground\":true,\"ticks\":\"\",\"zerolinecolor\":\"white\"},\"zaxis\":{\"backgroundcolor\":\"#E5ECF6\",\"gridcolor\":\"white\",\"gridwidth\":2,\"linecolor\":\"white\",\"showbackground\":true,\"ticks\":\"\",\"zerolinecolor\":\"white\"}},\"shapedefaults\":{\"line\":{\"color\":\"#2a3f5f\"}},\"ternary\":{\"aaxis\":{\"gridcolor\":\"white\",\"linecolor\":\"white\",\"ticks\":\"\"},\"baxis\":{\"gridcolor\":\"white\",\"linecolor\":\"white\",\"ticks\":\"\"},\"bgcolor\":\"#E5ECF6\",\"caxis\":{\"gridcolor\":\"white\",\"linecolor\":\"white\",\"ticks\":\"\"}},\"title\":{\"x\":0.05},\"xaxis\":{\"automargin\":true,\"gridcolor\":\"white\",\"linecolor\":\"white\",\"ticks\":\"\",\"title\":{\"standoff\":15},\"zerolinecolor\":\"white\",\"zerolinewidth\":2},\"yaxis\":{\"automargin\":true,\"gridcolor\":\"white\",\"linecolor\":\"white\",\"ticks\":\"\",\"title\":{\"standoff\":15},\"zerolinecolor\":\"white\",\"zerolinewidth\":2}}},\"title\":{\"font\":{\"color\":\"blue\",\"size\":20},\"text\":\"Neighbor: current_market EUR_USD H4\"},\"xaxis\":{\"rangebreaks\":[{\"bounds\":[\"sat\",\"mon\"]}],\"rangeslider\":{\"visible\":false}}},                        {\"responsive\": true}                    ).then(function(){\n",
       "                            \n",
       "var gd = document.getElementById('12db8f06-7735-4333-adb4-496d817bfae0');\n",
       "var x = new MutationObserver(function (mutations, observer) {{\n",
       "        var display = window.getComputedStyle(gd).display;\n",
       "        if (!display || display === 'none') {{\n",
       "            console.log([gd, 'removed!']);\n",
       "            Plotly.purge(gd);\n",
       "            observer.disconnect();\n",
       "        }}\n",
       "}});\n",
       "\n",
       "// Listen for the removal of the full notebook cells\n",
       "var notebookContainer = gd.closest('#notebook-container');\n",
       "if (notebookContainer) {{\n",
       "    x.observe(notebookContainer, {childList: true});\n",
       "}}\n",
       "\n",
       "// Listen for the clearing of the current output cell\n",
       "var outputEl = gd.closest('.output');\n",
       "if (outputEl) {{\n",
       "    x.observe(outputEl, {childList: true});\n",
       "}}\n",
       "\n",
       "                        })                };                });            </script>        </div>"
      ]
     },
     "metadata": {},
     "output_type": "display_data"
    }
   ],
   "source": [
    "closed_candle = \"currnet_market_data.csv\"\n",
    "data = pd.read_csv(filename)\n",
    "data = data.iloc[candle_no-50:candle_no+2]\n",
    "data.to_csv(path + \"/\" + closed_candle, header = True, index = False)\n",
    "viz(data, \"current_market\")"
   ]
  },
  {
   "cell_type": "markdown",
   "metadata": {},
   "source": [
    "### Recommendations"
   ]
  },
  {
   "cell_type": "code",
   "execution_count": 47,
   "metadata": {
    "scrolled": false
   },
   "outputs": [
    {
     "name": "stdout",
     "output_type": "stream",
     "text": [
      "Neighbor: 8987 | 10K Records: True\n"
     ]
    },
    {
     "data": {
      "application/vnd.plotly.v1+json": {
       "config": {
        "plotlyServerURL": "https://plot.ly"
       },
       "data": [
        {
         "close": [
          1.21481,
          1.214,
          1.2156,
          1.215,
          1.21564,
          1.21646,
          1.22186,
          1.22212,
          1.2217,
          1.22225,
          1.22264,
          1.22314,
          1.22165,
          1.22078,
          1.2211,
          1.21758,
          1.21851,
          1.21822,
          1.21882,
          1.22,
          1.22183,
          1.22286,
          1.2234,
          1.2233,
          1.22239,
          1.22059,
          1.21644,
          1.21817,
          1.21804,
          1.21796,
          1.21968,
          1.22104,
          1.22153,
          1.22166,
          1.22218,
          1.22294,
          1.2259,
          1.22536,
          1.22399,
          1.22522,
          1.22452,
          1.22596,
          1.22409,
          1.222,
          1.21999,
          1.21929,
          1.21883,
          1.21936,
          1.21826,
          1.21862,
          1.21878,
          1.21941
         ],
         "high": [
          1.215,
          1.2169,
          1.21577,
          1.21615,
          1.2159,
          1.21693,
          1.22198,
          1.2234,
          1.22238,
          1.22302,
          1.22329,
          1.22354,
          1.22454,
          1.22207,
          1.22388,
          1.22149,
          1.21851,
          1.21853,
          1.22048,
          1.22082,
          1.22264,
          1.22293,
          1.22379,
          1.22395,
          1.22399,
          1.2238,
          1.22103,
          1.2188,
          1.21872,
          1.21854,
          1.22044,
          1.22194,
          1.223,
          1.22182,
          1.2222,
          1.22316,
          1.22623,
          1.22664,
          1.22571,
          1.22571,
          1.22574,
          1.22612,
          1.2263,
          1.22471,
          1.224,
          1.22022,
          1.21972,
          1.21956,
          1.22152,
          1.22109,
          1.22117,
          1.22048
         ],
         "low": [
          1.21262,
          1.21346,
          1.2138,
          1.21496,
          1.21508,
          1.21556,
          1.21638,
          1.22064,
          1.21975,
          1.22148,
          1.2221,
          1.22174,
          1.22045,
          1.21888,
          1.22036,
          1.21597,
          1.2169,
          1.21696,
          1.21772,
          1.2181,
          1.21975,
          1.22122,
          1.2224,
          1.22276,
          1.22098,
          1.21784,
          1.21608,
          1.21627,
          1.21724,
          1.21752,
          1.21749,
          1.2193,
          1.22036,
          1.22057,
          1.22116,
          1.22212,
          1.22204,
          1.22462,
          1.22263,
          1.22378,
          1.22447,
          1.2242,
          1.22326,
          1.2217,
          1.21956,
          1.21819,
          1.21798,
          1.21752,
          1.218,
          1.21822,
          1.21797,
          1.21873
         ],
         "open": [
          1.21298,
          1.2148,
          1.21398,
          1.21561,
          1.21528,
          1.21566,
          1.21648,
          1.22185,
          1.22215,
          1.22168,
          1.22239,
          1.22265,
          1.22312,
          1.22167,
          1.22079,
          1.22108,
          1.2169,
          1.21848,
          1.2182,
          1.21883,
          1.22002,
          1.22184,
          1.22282,
          1.22341,
          1.22331,
          1.2224,
          1.22061,
          1.21644,
          1.21768,
          1.21806,
          1.21798,
          1.21969,
          1.22102,
          1.22152,
          1.22174,
          1.2222,
          1.22296,
          1.22591,
          1.22538,
          1.22398,
          1.22542,
          1.22453,
          1.22598,
          1.2241,
          1.22201,
          1.21998,
          1.2192,
          1.21884,
          1.21936,
          1.21827,
          1.21864,
          1.21878
         ],
         "type": "candlestick",
         "x": [
          "2021-05-17T05:00:00.000000000Z",
          "2021-05-17T09:00:00.000000000Z",
          "2021-05-17T13:00:00.000000000Z",
          "2021-05-17T17:00:00.000000000Z",
          "2021-05-17T21:00:00.000000000Z",
          "2021-05-18T01:00:00.000000000Z",
          "2021-05-18T05:00:00.000000000Z",
          "2021-05-18T09:00:00.000000000Z",
          "2021-05-18T13:00:00.000000000Z",
          "2021-05-18T17:00:00.000000000Z",
          "2021-05-18T21:00:00.000000000Z",
          "2021-05-19T01:00:00.000000000Z",
          "2021-05-19T05:00:00.000000000Z",
          "2021-05-19T09:00:00.000000000Z",
          "2021-05-19T13:00:00.000000000Z",
          "2021-05-19T17:00:00.000000000Z",
          "2021-05-19T21:00:00.000000000Z",
          "2021-05-20T01:00:00.000000000Z",
          "2021-05-20T05:00:00.000000000Z",
          "2021-05-20T09:00:00.000000000Z",
          "2021-05-20T13:00:00.000000000Z",
          "2021-05-20T17:00:00.000000000Z",
          "2021-05-20T21:00:00.000000000Z",
          "2021-05-21T01:00:00.000000000Z",
          "2021-05-21T05:00:00.000000000Z",
          "2021-05-21T09:00:00.000000000Z",
          "2021-05-21T13:00:00.000000000Z",
          "2021-05-21T17:00:00.000000000Z",
          "2021-05-23T21:00:00.000000000Z",
          "2021-05-24T01:00:00.000000000Z",
          "2021-05-24T05:00:00.000000000Z",
          "2021-05-24T09:00:00.000000000Z",
          "2021-05-24T13:00:00.000000000Z",
          "2021-05-24T17:00:00.000000000Z",
          "2021-05-24T21:00:00.000000000Z",
          "2021-05-25T01:00:00.000000000Z",
          "2021-05-25T05:00:00.000000000Z",
          "2021-05-25T09:00:00.000000000Z",
          "2021-05-25T13:00:00.000000000Z",
          "2021-05-25T17:00:00.000000000Z",
          "2021-05-25T21:00:00.000000000Z",
          "2021-05-26T01:00:00.000000000Z",
          "2021-05-26T05:00:00.000000000Z",
          "2021-05-26T09:00:00.000000000Z",
          "2021-05-26T13:00:00.000000000Z",
          "2021-05-26T17:00:00.000000000Z",
          "2021-05-26T21:00:00.000000000Z",
          "2021-05-27T01:00:00.000000000Z",
          "2021-05-27T05:00:00.000000000Z",
          "2021-05-27T09:00:00.000000000Z",
          "2021-05-27T13:00:00.000000000Z",
          "2021-05-27T17:00:00.000000000Z"
         ]
        }
       ],
       "layout": {
        "template": {
         "data": {
          "bar": [
           {
            "error_x": {
             "color": "#2a3f5f"
            },
            "error_y": {
             "color": "#2a3f5f"
            },
            "marker": {
             "line": {
              "color": "#E5ECF6",
              "width": 0.5
             },
             "pattern": {
              "fillmode": "overlay",
              "size": 10,
              "solidity": 0.2
             }
            },
            "type": "bar"
           }
          ],
          "barpolar": [
           {
            "marker": {
             "line": {
              "color": "#E5ECF6",
              "width": 0.5
             },
             "pattern": {
              "fillmode": "overlay",
              "size": 10,
              "solidity": 0.2
             }
            },
            "type": "barpolar"
           }
          ],
          "carpet": [
           {
            "aaxis": {
             "endlinecolor": "#2a3f5f",
             "gridcolor": "white",
             "linecolor": "white",
             "minorgridcolor": "white",
             "startlinecolor": "#2a3f5f"
            },
            "baxis": {
             "endlinecolor": "#2a3f5f",
             "gridcolor": "white",
             "linecolor": "white",
             "minorgridcolor": "white",
             "startlinecolor": "#2a3f5f"
            },
            "type": "carpet"
           }
          ],
          "choropleth": [
           {
            "colorbar": {
             "outlinewidth": 0,
             "ticks": ""
            },
            "type": "choropleth"
           }
          ],
          "contour": [
           {
            "colorbar": {
             "outlinewidth": 0,
             "ticks": ""
            },
            "colorscale": [
             [
              0,
              "#0d0887"
             ],
             [
              0.1111111111111111,
              "#46039f"
             ],
             [
              0.2222222222222222,
              "#7201a8"
             ],
             [
              0.3333333333333333,
              "#9c179e"
             ],
             [
              0.4444444444444444,
              "#bd3786"
             ],
             [
              0.5555555555555556,
              "#d8576b"
             ],
             [
              0.6666666666666666,
              "#ed7953"
             ],
             [
              0.7777777777777778,
              "#fb9f3a"
             ],
             [
              0.8888888888888888,
              "#fdca26"
             ],
             [
              1,
              "#f0f921"
             ]
            ],
            "type": "contour"
           }
          ],
          "contourcarpet": [
           {
            "colorbar": {
             "outlinewidth": 0,
             "ticks": ""
            },
            "type": "contourcarpet"
           }
          ],
          "heatmap": [
           {
            "colorbar": {
             "outlinewidth": 0,
             "ticks": ""
            },
            "colorscale": [
             [
              0,
              "#0d0887"
             ],
             [
              0.1111111111111111,
              "#46039f"
             ],
             [
              0.2222222222222222,
              "#7201a8"
             ],
             [
              0.3333333333333333,
              "#9c179e"
             ],
             [
              0.4444444444444444,
              "#bd3786"
             ],
             [
              0.5555555555555556,
              "#d8576b"
             ],
             [
              0.6666666666666666,
              "#ed7953"
             ],
             [
              0.7777777777777778,
              "#fb9f3a"
             ],
             [
              0.8888888888888888,
              "#fdca26"
             ],
             [
              1,
              "#f0f921"
             ]
            ],
            "type": "heatmap"
           }
          ],
          "heatmapgl": [
           {
            "colorbar": {
             "outlinewidth": 0,
             "ticks": ""
            },
            "colorscale": [
             [
              0,
              "#0d0887"
             ],
             [
              0.1111111111111111,
              "#46039f"
             ],
             [
              0.2222222222222222,
              "#7201a8"
             ],
             [
              0.3333333333333333,
              "#9c179e"
             ],
             [
              0.4444444444444444,
              "#bd3786"
             ],
             [
              0.5555555555555556,
              "#d8576b"
             ],
             [
              0.6666666666666666,
              "#ed7953"
             ],
             [
              0.7777777777777778,
              "#fb9f3a"
             ],
             [
              0.8888888888888888,
              "#fdca26"
             ],
             [
              1,
              "#f0f921"
             ]
            ],
            "type": "heatmapgl"
           }
          ],
          "histogram": [
           {
            "marker": {
             "pattern": {
              "fillmode": "overlay",
              "size": 10,
              "solidity": 0.2
             }
            },
            "type": "histogram"
           }
          ],
          "histogram2d": [
           {
            "colorbar": {
             "outlinewidth": 0,
             "ticks": ""
            },
            "colorscale": [
             [
              0,
              "#0d0887"
             ],
             [
              0.1111111111111111,
              "#46039f"
             ],
             [
              0.2222222222222222,
              "#7201a8"
             ],
             [
              0.3333333333333333,
              "#9c179e"
             ],
             [
              0.4444444444444444,
              "#bd3786"
             ],
             [
              0.5555555555555556,
              "#d8576b"
             ],
             [
              0.6666666666666666,
              "#ed7953"
             ],
             [
              0.7777777777777778,
              "#fb9f3a"
             ],
             [
              0.8888888888888888,
              "#fdca26"
             ],
             [
              1,
              "#f0f921"
             ]
            ],
            "type": "histogram2d"
           }
          ],
          "histogram2dcontour": [
           {
            "colorbar": {
             "outlinewidth": 0,
             "ticks": ""
            },
            "colorscale": [
             [
              0,
              "#0d0887"
             ],
             [
              0.1111111111111111,
              "#46039f"
             ],
             [
              0.2222222222222222,
              "#7201a8"
             ],
             [
              0.3333333333333333,
              "#9c179e"
             ],
             [
              0.4444444444444444,
              "#bd3786"
             ],
             [
              0.5555555555555556,
              "#d8576b"
             ],
             [
              0.6666666666666666,
              "#ed7953"
             ],
             [
              0.7777777777777778,
              "#fb9f3a"
             ],
             [
              0.8888888888888888,
              "#fdca26"
             ],
             [
              1,
              "#f0f921"
             ]
            ],
            "type": "histogram2dcontour"
           }
          ],
          "mesh3d": [
           {
            "colorbar": {
             "outlinewidth": 0,
             "ticks": ""
            },
            "type": "mesh3d"
           }
          ],
          "parcoords": [
           {
            "line": {
             "colorbar": {
              "outlinewidth": 0,
              "ticks": ""
             }
            },
            "type": "parcoords"
           }
          ],
          "pie": [
           {
            "automargin": true,
            "type": "pie"
           }
          ],
          "scatter": [
           {
            "marker": {
             "colorbar": {
              "outlinewidth": 0,
              "ticks": ""
             }
            },
            "type": "scatter"
           }
          ],
          "scatter3d": [
           {
            "line": {
             "colorbar": {
              "outlinewidth": 0,
              "ticks": ""
             }
            },
            "marker": {
             "colorbar": {
              "outlinewidth": 0,
              "ticks": ""
             }
            },
            "type": "scatter3d"
           }
          ],
          "scattercarpet": [
           {
            "marker": {
             "colorbar": {
              "outlinewidth": 0,
              "ticks": ""
             }
            },
            "type": "scattercarpet"
           }
          ],
          "scattergeo": [
           {
            "marker": {
             "colorbar": {
              "outlinewidth": 0,
              "ticks": ""
             }
            },
            "type": "scattergeo"
           }
          ],
          "scattergl": [
           {
            "marker": {
             "colorbar": {
              "outlinewidth": 0,
              "ticks": ""
             }
            },
            "type": "scattergl"
           }
          ],
          "scattermapbox": [
           {
            "marker": {
             "colorbar": {
              "outlinewidth": 0,
              "ticks": ""
             }
            },
            "type": "scattermapbox"
           }
          ],
          "scatterpolar": [
           {
            "marker": {
             "colorbar": {
              "outlinewidth": 0,
              "ticks": ""
             }
            },
            "type": "scatterpolar"
           }
          ],
          "scatterpolargl": [
           {
            "marker": {
             "colorbar": {
              "outlinewidth": 0,
              "ticks": ""
             }
            },
            "type": "scatterpolargl"
           }
          ],
          "scatterternary": [
           {
            "marker": {
             "colorbar": {
              "outlinewidth": 0,
              "ticks": ""
             }
            },
            "type": "scatterternary"
           }
          ],
          "surface": [
           {
            "colorbar": {
             "outlinewidth": 0,
             "ticks": ""
            },
            "colorscale": [
             [
              0,
              "#0d0887"
             ],
             [
              0.1111111111111111,
              "#46039f"
             ],
             [
              0.2222222222222222,
              "#7201a8"
             ],
             [
              0.3333333333333333,
              "#9c179e"
             ],
             [
              0.4444444444444444,
              "#bd3786"
             ],
             [
              0.5555555555555556,
              "#d8576b"
             ],
             [
              0.6666666666666666,
              "#ed7953"
             ],
             [
              0.7777777777777778,
              "#fb9f3a"
             ],
             [
              0.8888888888888888,
              "#fdca26"
             ],
             [
              1,
              "#f0f921"
             ]
            ],
            "type": "surface"
           }
          ],
          "table": [
           {
            "cells": {
             "fill": {
              "color": "#EBF0F8"
             },
             "line": {
              "color": "white"
             }
            },
            "header": {
             "fill": {
              "color": "#C8D4E3"
             },
             "line": {
              "color": "white"
             }
            },
            "type": "table"
           }
          ]
         },
         "layout": {
          "annotationdefaults": {
           "arrowcolor": "#2a3f5f",
           "arrowhead": 0,
           "arrowwidth": 1
          },
          "autotypenumbers": "strict",
          "coloraxis": {
           "colorbar": {
            "outlinewidth": 0,
            "ticks": ""
           }
          },
          "colorscale": {
           "diverging": [
            [
             0,
             "#8e0152"
            ],
            [
             0.1,
             "#c51b7d"
            ],
            [
             0.2,
             "#de77ae"
            ],
            [
             0.3,
             "#f1b6da"
            ],
            [
             0.4,
             "#fde0ef"
            ],
            [
             0.5,
             "#f7f7f7"
            ],
            [
             0.6,
             "#e6f5d0"
            ],
            [
             0.7,
             "#b8e186"
            ],
            [
             0.8,
             "#7fbc41"
            ],
            [
             0.9,
             "#4d9221"
            ],
            [
             1,
             "#276419"
            ]
           ],
           "sequential": [
            [
             0,
             "#0d0887"
            ],
            [
             0.1111111111111111,
             "#46039f"
            ],
            [
             0.2222222222222222,
             "#7201a8"
            ],
            [
             0.3333333333333333,
             "#9c179e"
            ],
            [
             0.4444444444444444,
             "#bd3786"
            ],
            [
             0.5555555555555556,
             "#d8576b"
            ],
            [
             0.6666666666666666,
             "#ed7953"
            ],
            [
             0.7777777777777778,
             "#fb9f3a"
            ],
            [
             0.8888888888888888,
             "#fdca26"
            ],
            [
             1,
             "#f0f921"
            ]
           ],
           "sequentialminus": [
            [
             0,
             "#0d0887"
            ],
            [
             0.1111111111111111,
             "#46039f"
            ],
            [
             0.2222222222222222,
             "#7201a8"
            ],
            [
             0.3333333333333333,
             "#9c179e"
            ],
            [
             0.4444444444444444,
             "#bd3786"
            ],
            [
             0.5555555555555556,
             "#d8576b"
            ],
            [
             0.6666666666666666,
             "#ed7953"
            ],
            [
             0.7777777777777778,
             "#fb9f3a"
            ],
            [
             0.8888888888888888,
             "#fdca26"
            ],
            [
             1,
             "#f0f921"
            ]
           ]
          },
          "colorway": [
           "#636efa",
           "#EF553B",
           "#00cc96",
           "#ab63fa",
           "#FFA15A",
           "#19d3f3",
           "#FF6692",
           "#B6E880",
           "#FF97FF",
           "#FECB52"
          ],
          "font": {
           "color": "#2a3f5f"
          },
          "geo": {
           "bgcolor": "white",
           "lakecolor": "white",
           "landcolor": "#E5ECF6",
           "showlakes": true,
           "showland": true,
           "subunitcolor": "white"
          },
          "hoverlabel": {
           "align": "left"
          },
          "hovermode": "closest",
          "mapbox": {
           "style": "light"
          },
          "paper_bgcolor": "white",
          "plot_bgcolor": "#E5ECF6",
          "polar": {
           "angularaxis": {
            "gridcolor": "white",
            "linecolor": "white",
            "ticks": ""
           },
           "bgcolor": "#E5ECF6",
           "radialaxis": {
            "gridcolor": "white",
            "linecolor": "white",
            "ticks": ""
           }
          },
          "scene": {
           "xaxis": {
            "backgroundcolor": "#E5ECF6",
            "gridcolor": "white",
            "gridwidth": 2,
            "linecolor": "white",
            "showbackground": true,
            "ticks": "",
            "zerolinecolor": "white"
           },
           "yaxis": {
            "backgroundcolor": "#E5ECF6",
            "gridcolor": "white",
            "gridwidth": 2,
            "linecolor": "white",
            "showbackground": true,
            "ticks": "",
            "zerolinecolor": "white"
           },
           "zaxis": {
            "backgroundcolor": "#E5ECF6",
            "gridcolor": "white",
            "gridwidth": 2,
            "linecolor": "white",
            "showbackground": true,
            "ticks": "",
            "zerolinecolor": "white"
           }
          },
          "shapedefaults": {
           "line": {
            "color": "#2a3f5f"
           }
          },
          "ternary": {
           "aaxis": {
            "gridcolor": "white",
            "linecolor": "white",
            "ticks": ""
           },
           "baxis": {
            "gridcolor": "white",
            "linecolor": "white",
            "ticks": ""
           },
           "bgcolor": "#E5ECF6",
           "caxis": {
            "gridcolor": "white",
            "linecolor": "white",
            "ticks": ""
           }
          },
          "title": {
           "x": 0.05
          },
          "xaxis": {
           "automargin": true,
           "gridcolor": "white",
           "linecolor": "white",
           "ticks": "",
           "title": {
            "standoff": 15
           },
           "zerolinecolor": "white",
           "zerolinewidth": 2
          },
          "yaxis": {
           "automargin": true,
           "gridcolor": "white",
           "linecolor": "white",
           "ticks": "",
           "title": {
            "standoff": 15
           },
           "zerolinecolor": "white",
           "zerolinewidth": 2
          }
         }
        },
        "title": {
         "font": {
          "color": "blue",
          "size": 20
         },
         "text": "Neighbor: 8987 EUR_USD H4"
        },
        "xaxis": {
         "rangebreaks": [
          {
           "bounds": [
            "sat",
            "mon"
           ]
          }
         ],
         "rangeslider": {
          "visible": false
         }
        }
       }
      },
      "text/html": [
       "<div>                            <div id=\"773ecf1e-2930-466f-803d-c3f603ce88cc\" class=\"plotly-graph-div\" style=\"height:525px; width:100%;\"></div>            <script type=\"text/javascript\">                require([\"plotly\"], function(Plotly) {                    window.PLOTLYENV=window.PLOTLYENV || {};                                    if (document.getElementById(\"773ecf1e-2930-466f-803d-c3f603ce88cc\")) {                    Plotly.newPlot(                        \"773ecf1e-2930-466f-803d-c3f603ce88cc\",                        [{\"close\":[1.21481,1.214,1.2156,1.215,1.21564,1.21646,1.22186,1.22212,1.2217,1.22225,1.22264,1.22314,1.22165,1.22078,1.2211,1.21758,1.21851,1.21822,1.21882,1.22,1.22183,1.22286,1.2234,1.2233,1.22239,1.22059,1.21644,1.21817,1.21804,1.21796,1.21968,1.22104,1.22153,1.22166,1.22218,1.22294,1.2259,1.22536,1.22399,1.22522,1.22452,1.22596,1.22409,1.222,1.21999,1.21929,1.21883,1.21936,1.21826,1.21862,1.21878,1.21941],\"high\":[1.215,1.2169,1.21577,1.21615,1.2159,1.21693,1.22198,1.2234,1.22238,1.22302,1.22329,1.22354,1.22454,1.22207,1.22388,1.22149,1.21851,1.21853,1.22048,1.22082,1.22264,1.22293,1.22379,1.22395,1.22399,1.2238,1.22103,1.2188,1.21872,1.21854,1.22044,1.22194,1.223,1.22182,1.2222,1.22316,1.22623,1.22664,1.22571,1.22571,1.22574,1.22612,1.2263,1.22471,1.224,1.22022,1.21972,1.21956,1.22152,1.22109,1.22117,1.22048],\"low\":[1.21262,1.21346,1.2138,1.21496,1.21508,1.21556,1.21638,1.22064,1.21975,1.22148,1.2221,1.22174,1.22045,1.21888,1.22036,1.21597,1.2169,1.21696,1.21772,1.2181,1.21975,1.22122,1.2224,1.22276,1.22098,1.21784,1.21608,1.21627,1.21724,1.21752,1.21749,1.2193,1.22036,1.22057,1.22116,1.22212,1.22204,1.22462,1.22263,1.22378,1.22447,1.2242,1.22326,1.2217,1.21956,1.21819,1.21798,1.21752,1.218,1.21822,1.21797,1.21873],\"open\":[1.21298,1.2148,1.21398,1.21561,1.21528,1.21566,1.21648,1.22185,1.22215,1.22168,1.22239,1.22265,1.22312,1.22167,1.22079,1.22108,1.2169,1.21848,1.2182,1.21883,1.22002,1.22184,1.22282,1.22341,1.22331,1.2224,1.22061,1.21644,1.21768,1.21806,1.21798,1.21969,1.22102,1.22152,1.22174,1.2222,1.22296,1.22591,1.22538,1.22398,1.22542,1.22453,1.22598,1.2241,1.22201,1.21998,1.2192,1.21884,1.21936,1.21827,1.21864,1.21878],\"type\":\"candlestick\",\"x\":[\"2021-05-17T05:00:00.000000000Z\",\"2021-05-17T09:00:00.000000000Z\",\"2021-05-17T13:00:00.000000000Z\",\"2021-05-17T17:00:00.000000000Z\",\"2021-05-17T21:00:00.000000000Z\",\"2021-05-18T01:00:00.000000000Z\",\"2021-05-18T05:00:00.000000000Z\",\"2021-05-18T09:00:00.000000000Z\",\"2021-05-18T13:00:00.000000000Z\",\"2021-05-18T17:00:00.000000000Z\",\"2021-05-18T21:00:00.000000000Z\",\"2021-05-19T01:00:00.000000000Z\",\"2021-05-19T05:00:00.000000000Z\",\"2021-05-19T09:00:00.000000000Z\",\"2021-05-19T13:00:00.000000000Z\",\"2021-05-19T17:00:00.000000000Z\",\"2021-05-19T21:00:00.000000000Z\",\"2021-05-20T01:00:00.000000000Z\",\"2021-05-20T05:00:00.000000000Z\",\"2021-05-20T09:00:00.000000000Z\",\"2021-05-20T13:00:00.000000000Z\",\"2021-05-20T17:00:00.000000000Z\",\"2021-05-20T21:00:00.000000000Z\",\"2021-05-21T01:00:00.000000000Z\",\"2021-05-21T05:00:00.000000000Z\",\"2021-05-21T09:00:00.000000000Z\",\"2021-05-21T13:00:00.000000000Z\",\"2021-05-21T17:00:00.000000000Z\",\"2021-05-23T21:00:00.000000000Z\",\"2021-05-24T01:00:00.000000000Z\",\"2021-05-24T05:00:00.000000000Z\",\"2021-05-24T09:00:00.000000000Z\",\"2021-05-24T13:00:00.000000000Z\",\"2021-05-24T17:00:00.000000000Z\",\"2021-05-24T21:00:00.000000000Z\",\"2021-05-25T01:00:00.000000000Z\",\"2021-05-25T05:00:00.000000000Z\",\"2021-05-25T09:00:00.000000000Z\",\"2021-05-25T13:00:00.000000000Z\",\"2021-05-25T17:00:00.000000000Z\",\"2021-05-25T21:00:00.000000000Z\",\"2021-05-26T01:00:00.000000000Z\",\"2021-05-26T05:00:00.000000000Z\",\"2021-05-26T09:00:00.000000000Z\",\"2021-05-26T13:00:00.000000000Z\",\"2021-05-26T17:00:00.000000000Z\",\"2021-05-26T21:00:00.000000000Z\",\"2021-05-27T01:00:00.000000000Z\",\"2021-05-27T05:00:00.000000000Z\",\"2021-05-27T09:00:00.000000000Z\",\"2021-05-27T13:00:00.000000000Z\",\"2021-05-27T17:00:00.000000000Z\"]}],                        {\"template\":{\"data\":{\"bar\":[{\"error_x\":{\"color\":\"#2a3f5f\"},\"error_y\":{\"color\":\"#2a3f5f\"},\"marker\":{\"line\":{\"color\":\"#E5ECF6\",\"width\":0.5},\"pattern\":{\"fillmode\":\"overlay\",\"size\":10,\"solidity\":0.2}},\"type\":\"bar\"}],\"barpolar\":[{\"marker\":{\"line\":{\"color\":\"#E5ECF6\",\"width\":0.5},\"pattern\":{\"fillmode\":\"overlay\",\"size\":10,\"solidity\":0.2}},\"type\":\"barpolar\"}],\"carpet\":[{\"aaxis\":{\"endlinecolor\":\"#2a3f5f\",\"gridcolor\":\"white\",\"linecolor\":\"white\",\"minorgridcolor\":\"white\",\"startlinecolor\":\"#2a3f5f\"},\"baxis\":{\"endlinecolor\":\"#2a3f5f\",\"gridcolor\":\"white\",\"linecolor\":\"white\",\"minorgridcolor\":\"white\",\"startlinecolor\":\"#2a3f5f\"},\"type\":\"carpet\"}],\"choropleth\":[{\"colorbar\":{\"outlinewidth\":0,\"ticks\":\"\"},\"type\":\"choropleth\"}],\"contour\":[{\"colorbar\":{\"outlinewidth\":0,\"ticks\":\"\"},\"colorscale\":[[0.0,\"#0d0887\"],[0.1111111111111111,\"#46039f\"],[0.2222222222222222,\"#7201a8\"],[0.3333333333333333,\"#9c179e\"],[0.4444444444444444,\"#bd3786\"],[0.5555555555555556,\"#d8576b\"],[0.6666666666666666,\"#ed7953\"],[0.7777777777777778,\"#fb9f3a\"],[0.8888888888888888,\"#fdca26\"],[1.0,\"#f0f921\"]],\"type\":\"contour\"}],\"contourcarpet\":[{\"colorbar\":{\"outlinewidth\":0,\"ticks\":\"\"},\"type\":\"contourcarpet\"}],\"heatmap\":[{\"colorbar\":{\"outlinewidth\":0,\"ticks\":\"\"},\"colorscale\":[[0.0,\"#0d0887\"],[0.1111111111111111,\"#46039f\"],[0.2222222222222222,\"#7201a8\"],[0.3333333333333333,\"#9c179e\"],[0.4444444444444444,\"#bd3786\"],[0.5555555555555556,\"#d8576b\"],[0.6666666666666666,\"#ed7953\"],[0.7777777777777778,\"#fb9f3a\"],[0.8888888888888888,\"#fdca26\"],[1.0,\"#f0f921\"]],\"type\":\"heatmap\"}],\"heatmapgl\":[{\"colorbar\":{\"outlinewidth\":0,\"ticks\":\"\"},\"colorscale\":[[0.0,\"#0d0887\"],[0.1111111111111111,\"#46039f\"],[0.2222222222222222,\"#7201a8\"],[0.3333333333333333,\"#9c179e\"],[0.4444444444444444,\"#bd3786\"],[0.5555555555555556,\"#d8576b\"],[0.6666666666666666,\"#ed7953\"],[0.7777777777777778,\"#fb9f3a\"],[0.8888888888888888,\"#fdca26\"],[1.0,\"#f0f921\"]],\"type\":\"heatmapgl\"}],\"histogram\":[{\"marker\":{\"pattern\":{\"fillmode\":\"overlay\",\"size\":10,\"solidity\":0.2}},\"type\":\"histogram\"}],\"histogram2d\":[{\"colorbar\":{\"outlinewidth\":0,\"ticks\":\"\"},\"colorscale\":[[0.0,\"#0d0887\"],[0.1111111111111111,\"#46039f\"],[0.2222222222222222,\"#7201a8\"],[0.3333333333333333,\"#9c179e\"],[0.4444444444444444,\"#bd3786\"],[0.5555555555555556,\"#d8576b\"],[0.6666666666666666,\"#ed7953\"],[0.7777777777777778,\"#fb9f3a\"],[0.8888888888888888,\"#fdca26\"],[1.0,\"#f0f921\"]],\"type\":\"histogram2d\"}],\"histogram2dcontour\":[{\"colorbar\":{\"outlinewidth\":0,\"ticks\":\"\"},\"colorscale\":[[0.0,\"#0d0887\"],[0.1111111111111111,\"#46039f\"],[0.2222222222222222,\"#7201a8\"],[0.3333333333333333,\"#9c179e\"],[0.4444444444444444,\"#bd3786\"],[0.5555555555555556,\"#d8576b\"],[0.6666666666666666,\"#ed7953\"],[0.7777777777777778,\"#fb9f3a\"],[0.8888888888888888,\"#fdca26\"],[1.0,\"#f0f921\"]],\"type\":\"histogram2dcontour\"}],\"mesh3d\":[{\"colorbar\":{\"outlinewidth\":0,\"ticks\":\"\"},\"type\":\"mesh3d\"}],\"parcoords\":[{\"line\":{\"colorbar\":{\"outlinewidth\":0,\"ticks\":\"\"}},\"type\":\"parcoords\"}],\"pie\":[{\"automargin\":true,\"type\":\"pie\"}],\"scatter\":[{\"marker\":{\"colorbar\":{\"outlinewidth\":0,\"ticks\":\"\"}},\"type\":\"scatter\"}],\"scatter3d\":[{\"line\":{\"colorbar\":{\"outlinewidth\":0,\"ticks\":\"\"}},\"marker\":{\"colorbar\":{\"outlinewidth\":0,\"ticks\":\"\"}},\"type\":\"scatter3d\"}],\"scattercarpet\":[{\"marker\":{\"colorbar\":{\"outlinewidth\":0,\"ticks\":\"\"}},\"type\":\"scattercarpet\"}],\"scattergeo\":[{\"marker\":{\"colorbar\":{\"outlinewidth\":0,\"ticks\":\"\"}},\"type\":\"scattergeo\"}],\"scattergl\":[{\"marker\":{\"colorbar\":{\"outlinewidth\":0,\"ticks\":\"\"}},\"type\":\"scattergl\"}],\"scattermapbox\":[{\"marker\":{\"colorbar\":{\"outlinewidth\":0,\"ticks\":\"\"}},\"type\":\"scattermapbox\"}],\"scatterpolar\":[{\"marker\":{\"colorbar\":{\"outlinewidth\":0,\"ticks\":\"\"}},\"type\":\"scatterpolar\"}],\"scatterpolargl\":[{\"marker\":{\"colorbar\":{\"outlinewidth\":0,\"ticks\":\"\"}},\"type\":\"scatterpolargl\"}],\"scatterternary\":[{\"marker\":{\"colorbar\":{\"outlinewidth\":0,\"ticks\":\"\"}},\"type\":\"scatterternary\"}],\"surface\":[{\"colorbar\":{\"outlinewidth\":0,\"ticks\":\"\"},\"colorscale\":[[0.0,\"#0d0887\"],[0.1111111111111111,\"#46039f\"],[0.2222222222222222,\"#7201a8\"],[0.3333333333333333,\"#9c179e\"],[0.4444444444444444,\"#bd3786\"],[0.5555555555555556,\"#d8576b\"],[0.6666666666666666,\"#ed7953\"],[0.7777777777777778,\"#fb9f3a\"],[0.8888888888888888,\"#fdca26\"],[1.0,\"#f0f921\"]],\"type\":\"surface\"}],\"table\":[{\"cells\":{\"fill\":{\"color\":\"#EBF0F8\"},\"line\":{\"color\":\"white\"}},\"header\":{\"fill\":{\"color\":\"#C8D4E3\"},\"line\":{\"color\":\"white\"}},\"type\":\"table\"}]},\"layout\":{\"annotationdefaults\":{\"arrowcolor\":\"#2a3f5f\",\"arrowhead\":0,\"arrowwidth\":1},\"autotypenumbers\":\"strict\",\"coloraxis\":{\"colorbar\":{\"outlinewidth\":0,\"ticks\":\"\"}},\"colorscale\":{\"diverging\":[[0,\"#8e0152\"],[0.1,\"#c51b7d\"],[0.2,\"#de77ae\"],[0.3,\"#f1b6da\"],[0.4,\"#fde0ef\"],[0.5,\"#f7f7f7\"],[0.6,\"#e6f5d0\"],[0.7,\"#b8e186\"],[0.8,\"#7fbc41\"],[0.9,\"#4d9221\"],[1,\"#276419\"]],\"sequential\":[[0.0,\"#0d0887\"],[0.1111111111111111,\"#46039f\"],[0.2222222222222222,\"#7201a8\"],[0.3333333333333333,\"#9c179e\"],[0.4444444444444444,\"#bd3786\"],[0.5555555555555556,\"#d8576b\"],[0.6666666666666666,\"#ed7953\"],[0.7777777777777778,\"#fb9f3a\"],[0.8888888888888888,\"#fdca26\"],[1.0,\"#f0f921\"]],\"sequentialminus\":[[0.0,\"#0d0887\"],[0.1111111111111111,\"#46039f\"],[0.2222222222222222,\"#7201a8\"],[0.3333333333333333,\"#9c179e\"],[0.4444444444444444,\"#bd3786\"],[0.5555555555555556,\"#d8576b\"],[0.6666666666666666,\"#ed7953\"],[0.7777777777777778,\"#fb9f3a\"],[0.8888888888888888,\"#fdca26\"],[1.0,\"#f0f921\"]]},\"colorway\":[\"#636efa\",\"#EF553B\",\"#00cc96\",\"#ab63fa\",\"#FFA15A\",\"#19d3f3\",\"#FF6692\",\"#B6E880\",\"#FF97FF\",\"#FECB52\"],\"font\":{\"color\":\"#2a3f5f\"},\"geo\":{\"bgcolor\":\"white\",\"lakecolor\":\"white\",\"landcolor\":\"#E5ECF6\",\"showlakes\":true,\"showland\":true,\"subunitcolor\":\"white\"},\"hoverlabel\":{\"align\":\"left\"},\"hovermode\":\"closest\",\"mapbox\":{\"style\":\"light\"},\"paper_bgcolor\":\"white\",\"plot_bgcolor\":\"#E5ECF6\",\"polar\":{\"angularaxis\":{\"gridcolor\":\"white\",\"linecolor\":\"white\",\"ticks\":\"\"},\"bgcolor\":\"#E5ECF6\",\"radialaxis\":{\"gridcolor\":\"white\",\"linecolor\":\"white\",\"ticks\":\"\"}},\"scene\":{\"xaxis\":{\"backgroundcolor\":\"#E5ECF6\",\"gridcolor\":\"white\",\"gridwidth\":2,\"linecolor\":\"white\",\"showbackground\":true,\"ticks\":\"\",\"zerolinecolor\":\"white\"},\"yaxis\":{\"backgroundcolor\":\"#E5ECF6\",\"gridcolor\":\"white\",\"gridwidth\":2,\"linecolor\":\"white\",\"showbackground\":true,\"ticks\":\"\",\"zerolinecolor\":\"white\"},\"zaxis\":{\"backgroundcolor\":\"#E5ECF6\",\"gridcolor\":\"white\",\"gridwidth\":2,\"linecolor\":\"white\",\"showbackground\":true,\"ticks\":\"\",\"zerolinecolor\":\"white\"}},\"shapedefaults\":{\"line\":{\"color\":\"#2a3f5f\"}},\"ternary\":{\"aaxis\":{\"gridcolor\":\"white\",\"linecolor\":\"white\",\"ticks\":\"\"},\"baxis\":{\"gridcolor\":\"white\",\"linecolor\":\"white\",\"ticks\":\"\"},\"bgcolor\":\"#E5ECF6\",\"caxis\":{\"gridcolor\":\"white\",\"linecolor\":\"white\",\"ticks\":\"\"}},\"title\":{\"x\":0.05},\"xaxis\":{\"automargin\":true,\"gridcolor\":\"white\",\"linecolor\":\"white\",\"ticks\":\"\",\"title\":{\"standoff\":15},\"zerolinecolor\":\"white\",\"zerolinewidth\":2},\"yaxis\":{\"automargin\":true,\"gridcolor\":\"white\",\"linecolor\":\"white\",\"ticks\":\"\",\"title\":{\"standoff\":15},\"zerolinecolor\":\"white\",\"zerolinewidth\":2}}},\"title\":{\"font\":{\"color\":\"blue\",\"size\":20},\"text\":\"Neighbor: 8987 EUR_USD H4\"},\"xaxis\":{\"rangebreaks\":[{\"bounds\":[\"sat\",\"mon\"]}],\"rangeslider\":{\"visible\":false}}},                        {\"responsive\": true}                    ).then(function(){\n",
       "                            \n",
       "var gd = document.getElementById('773ecf1e-2930-466f-803d-c3f603ce88cc');\n",
       "var x = new MutationObserver(function (mutations, observer) {{\n",
       "        var display = window.getComputedStyle(gd).display;\n",
       "        if (!display || display === 'none') {{\n",
       "            console.log([gd, 'removed!']);\n",
       "            Plotly.purge(gd);\n",
       "            observer.disconnect();\n",
       "        }}\n",
       "}});\n",
       "\n",
       "// Listen for the removal of the full notebook cells\n",
       "var notebookContainer = gd.closest('#notebook-container');\n",
       "if (notebookContainer) {{\n",
       "    x.observe(notebookContainer, {childList: true});\n",
       "}}\n",
       "\n",
       "// Listen for the clearing of the current output cell\n",
       "var outputEl = gd.closest('.output');\n",
       "if (outputEl) {{\n",
       "    x.observe(outputEl, {childList: true});\n",
       "}}\n",
       "\n",
       "                        })                };                });            </script>        </div>"
      ]
     },
     "metadata": {},
     "output_type": "display_data"
    },
    {
     "name": "stdout",
     "output_type": "stream",
     "text": [
      "Neighbor: 4169 | 10K Records: True\n"
     ]
    },
    {
     "data": {
      "application/vnd.plotly.v1+json": {
       "config": {
        "plotlyServerURL": "https://plot.ly"
       },
       "data": [
        {
         "close": [
          1.2349,
          1.23402,
          1.2356,
          1.23612,
          1.23642,
          1.23772,
          1.23755,
          1.23746,
          1.23674,
          1.23762,
          1.2358,
          1.23459,
          1.2316,
          1.23342,
          1.2326,
          1.23282,
          1.23292,
          1.23348,
          1.2316,
          1.2342,
          1.23306,
          1.23389,
          1.23311,
          1.2365,
          1.23816,
          1.23828,
          1.23792,
          1.23836,
          1.23824,
          1.23854,
          1.2348,
          1.2355,
          1.23698,
          1.237,
          1.23774,
          1.23594,
          1.23916,
          1.23898,
          1.23742,
          1.23723,
          1.2378,
          1.23664,
          1.23795,
          1.23448,
          1.23451,
          1.2347,
          1.23408,
          1.23146,
          1.22906,
          1.22968,
          1.22884,
          1.22707
         ],
         "high": [
          1.23776,
          1.23684,
          1.23614,
          1.23656,
          1.23644,
          1.23872,
          1.23976,
          1.2393,
          1.23782,
          1.23799,
          1.23784,
          1.2374,
          1.23519,
          1.23361,
          1.23407,
          1.23327,
          1.23336,
          1.23462,
          1.23396,
          1.23442,
          1.23428,
          1.23406,
          1.23432,
          1.23686,
          1.23832,
          1.23948,
          1.23842,
          1.23876,
          1.23878,
          1.2414,
          1.23868,
          1.23615,
          1.23762,
          1.23755,
          1.23825,
          1.23806,
          1.23954,
          1.23973,
          1.23932,
          1.23835,
          1.23856,
          1.24004,
          1.23856,
          1.2385,
          1.23588,
          1.23495,
          1.23486,
          1.23528,
          1.23162,
          1.23006,
          1.22966,
          1.22886
         ],
         "low": [
          1.23177,
          1.23242,
          1.23399,
          1.23502,
          1.23528,
          1.2362,
          1.23622,
          1.23684,
          1.2347,
          1.23637,
          1.23569,
          1.2345,
          1.2312,
          1.22991,
          1.23244,
          1.23244,
          1.23215,
          1.23174,
          1.2307,
          1.23161,
          1.23276,
          1.23246,
          1.23308,
          1.2324,
          1.23565,
          1.23622,
          1.23746,
          1.23788,
          1.23758,
          1.23816,
          1.23454,
          1.23362,
          1.23537,
          1.23672,
          1.23644,
          1.23486,
          1.23416,
          1.23712,
          1.23724,
          1.23704,
          1.23644,
          1.23599,
          1.23542,
          1.23292,
          1.23356,
          1.2338,
          1.23362,
          1.23121,
          1.22898,
          1.22498,
          1.228,
          1.22682
         ],
         "open": [
          1.23247,
          1.23488,
          1.23406,
          1.23543,
          1.23613,
          1.2364,
          1.2377,
          1.23752,
          1.23746,
          1.23658,
          1.23762,
          1.23582,
          1.23458,
          1.23159,
          1.23337,
          1.23278,
          1.23282,
          1.23292,
          1.23344,
          1.23163,
          1.2342,
          1.23342,
          1.23389,
          1.23314,
          1.23647,
          1.23814,
          1.23824,
          1.23815,
          1.23841,
          1.2383,
          1.23852,
          1.23479,
          1.23549,
          1.23733,
          1.23702,
          1.23774,
          1.23594,
          1.23916,
          1.23899,
          1.23742,
          1.23729,
          1.2378,
          1.23664,
          1.238,
          1.23451,
          1.23472,
          1.23464,
          1.2341,
          1.23146,
          1.22904,
          1.22965,
          1.22735
         ],
         "type": "candlestick",
         "x": [
          "2018-04-10T09:00:00.000000000Z",
          "2018-04-10T13:00:00.000000000Z",
          "2018-04-10T17:00:00.000000000Z",
          "2018-04-10T21:00:00.000000000Z",
          "2018-04-11T01:00:00.000000000Z",
          "2018-04-11T05:00:00.000000000Z",
          "2018-04-11T09:00:00.000000000Z",
          "2018-04-11T13:00:00.000000000Z",
          "2018-04-11T17:00:00.000000000Z",
          "2018-04-11T21:00:00.000000000Z",
          "2018-04-12T01:00:00.000000000Z",
          "2018-04-12T05:00:00.000000000Z",
          "2018-04-12T09:00:00.000000000Z",
          "2018-04-12T13:00:00.000000000Z",
          "2018-04-12T17:00:00.000000000Z",
          "2018-04-12T21:00:00.000000000Z",
          "2018-04-13T01:00:00.000000000Z",
          "2018-04-13T05:00:00.000000000Z",
          "2018-04-13T09:00:00.000000000Z",
          "2018-04-13T13:00:00.000000000Z",
          "2018-04-13T17:00:00.000000000Z",
          "2018-04-15T21:00:00.000000000Z",
          "2018-04-16T01:00:00.000000000Z",
          "2018-04-16T05:00:00.000000000Z",
          "2018-04-16T09:00:00.000000000Z",
          "2018-04-16T13:00:00.000000000Z",
          "2018-04-16T17:00:00.000000000Z",
          "2018-04-16T21:00:00.000000000Z",
          "2018-04-17T01:00:00.000000000Z",
          "2018-04-17T05:00:00.000000000Z",
          "2018-04-17T09:00:00.000000000Z",
          "2018-04-17T13:00:00.000000000Z",
          "2018-04-17T17:00:00.000000000Z",
          "2018-04-17T21:00:00.000000000Z",
          "2018-04-18T01:00:00.000000000Z",
          "2018-04-18T05:00:00.000000000Z",
          "2018-04-18T09:00:00.000000000Z",
          "2018-04-18T13:00:00.000000000Z",
          "2018-04-18T17:00:00.000000000Z",
          "2018-04-18T21:00:00.000000000Z",
          "2018-04-19T01:00:00.000000000Z",
          "2018-04-19T05:00:00.000000000Z",
          "2018-04-19T09:00:00.000000000Z",
          "2018-04-19T13:00:00.000000000Z",
          "2018-04-19T17:00:00.000000000Z",
          "2018-04-19T21:00:00.000000000Z",
          "2018-04-20T01:00:00.000000000Z",
          "2018-04-20T05:00:00.000000000Z",
          "2018-04-20T09:00:00.000000000Z",
          "2018-04-20T13:00:00.000000000Z",
          "2018-04-20T17:00:00.000000000Z",
          "2018-04-22T21:00:00.000000000Z"
         ]
        }
       ],
       "layout": {
        "template": {
         "data": {
          "bar": [
           {
            "error_x": {
             "color": "#2a3f5f"
            },
            "error_y": {
             "color": "#2a3f5f"
            },
            "marker": {
             "line": {
              "color": "#E5ECF6",
              "width": 0.5
             },
             "pattern": {
              "fillmode": "overlay",
              "size": 10,
              "solidity": 0.2
             }
            },
            "type": "bar"
           }
          ],
          "barpolar": [
           {
            "marker": {
             "line": {
              "color": "#E5ECF6",
              "width": 0.5
             },
             "pattern": {
              "fillmode": "overlay",
              "size": 10,
              "solidity": 0.2
             }
            },
            "type": "barpolar"
           }
          ],
          "carpet": [
           {
            "aaxis": {
             "endlinecolor": "#2a3f5f",
             "gridcolor": "white",
             "linecolor": "white",
             "minorgridcolor": "white",
             "startlinecolor": "#2a3f5f"
            },
            "baxis": {
             "endlinecolor": "#2a3f5f",
             "gridcolor": "white",
             "linecolor": "white",
             "minorgridcolor": "white",
             "startlinecolor": "#2a3f5f"
            },
            "type": "carpet"
           }
          ],
          "choropleth": [
           {
            "colorbar": {
             "outlinewidth": 0,
             "ticks": ""
            },
            "type": "choropleth"
           }
          ],
          "contour": [
           {
            "colorbar": {
             "outlinewidth": 0,
             "ticks": ""
            },
            "colorscale": [
             [
              0,
              "#0d0887"
             ],
             [
              0.1111111111111111,
              "#46039f"
             ],
             [
              0.2222222222222222,
              "#7201a8"
             ],
             [
              0.3333333333333333,
              "#9c179e"
             ],
             [
              0.4444444444444444,
              "#bd3786"
             ],
             [
              0.5555555555555556,
              "#d8576b"
             ],
             [
              0.6666666666666666,
              "#ed7953"
             ],
             [
              0.7777777777777778,
              "#fb9f3a"
             ],
             [
              0.8888888888888888,
              "#fdca26"
             ],
             [
              1,
              "#f0f921"
             ]
            ],
            "type": "contour"
           }
          ],
          "contourcarpet": [
           {
            "colorbar": {
             "outlinewidth": 0,
             "ticks": ""
            },
            "type": "contourcarpet"
           }
          ],
          "heatmap": [
           {
            "colorbar": {
             "outlinewidth": 0,
             "ticks": ""
            },
            "colorscale": [
             [
              0,
              "#0d0887"
             ],
             [
              0.1111111111111111,
              "#46039f"
             ],
             [
              0.2222222222222222,
              "#7201a8"
             ],
             [
              0.3333333333333333,
              "#9c179e"
             ],
             [
              0.4444444444444444,
              "#bd3786"
             ],
             [
              0.5555555555555556,
              "#d8576b"
             ],
             [
              0.6666666666666666,
              "#ed7953"
             ],
             [
              0.7777777777777778,
              "#fb9f3a"
             ],
             [
              0.8888888888888888,
              "#fdca26"
             ],
             [
              1,
              "#f0f921"
             ]
            ],
            "type": "heatmap"
           }
          ],
          "heatmapgl": [
           {
            "colorbar": {
             "outlinewidth": 0,
             "ticks": ""
            },
            "colorscale": [
             [
              0,
              "#0d0887"
             ],
             [
              0.1111111111111111,
              "#46039f"
             ],
             [
              0.2222222222222222,
              "#7201a8"
             ],
             [
              0.3333333333333333,
              "#9c179e"
             ],
             [
              0.4444444444444444,
              "#bd3786"
             ],
             [
              0.5555555555555556,
              "#d8576b"
             ],
             [
              0.6666666666666666,
              "#ed7953"
             ],
             [
              0.7777777777777778,
              "#fb9f3a"
             ],
             [
              0.8888888888888888,
              "#fdca26"
             ],
             [
              1,
              "#f0f921"
             ]
            ],
            "type": "heatmapgl"
           }
          ],
          "histogram": [
           {
            "marker": {
             "pattern": {
              "fillmode": "overlay",
              "size": 10,
              "solidity": 0.2
             }
            },
            "type": "histogram"
           }
          ],
          "histogram2d": [
           {
            "colorbar": {
             "outlinewidth": 0,
             "ticks": ""
            },
            "colorscale": [
             [
              0,
              "#0d0887"
             ],
             [
              0.1111111111111111,
              "#46039f"
             ],
             [
              0.2222222222222222,
              "#7201a8"
             ],
             [
              0.3333333333333333,
              "#9c179e"
             ],
             [
              0.4444444444444444,
              "#bd3786"
             ],
             [
              0.5555555555555556,
              "#d8576b"
             ],
             [
              0.6666666666666666,
              "#ed7953"
             ],
             [
              0.7777777777777778,
              "#fb9f3a"
             ],
             [
              0.8888888888888888,
              "#fdca26"
             ],
             [
              1,
              "#f0f921"
             ]
            ],
            "type": "histogram2d"
           }
          ],
          "histogram2dcontour": [
           {
            "colorbar": {
             "outlinewidth": 0,
             "ticks": ""
            },
            "colorscale": [
             [
              0,
              "#0d0887"
             ],
             [
              0.1111111111111111,
              "#46039f"
             ],
             [
              0.2222222222222222,
              "#7201a8"
             ],
             [
              0.3333333333333333,
              "#9c179e"
             ],
             [
              0.4444444444444444,
              "#bd3786"
             ],
             [
              0.5555555555555556,
              "#d8576b"
             ],
             [
              0.6666666666666666,
              "#ed7953"
             ],
             [
              0.7777777777777778,
              "#fb9f3a"
             ],
             [
              0.8888888888888888,
              "#fdca26"
             ],
             [
              1,
              "#f0f921"
             ]
            ],
            "type": "histogram2dcontour"
           }
          ],
          "mesh3d": [
           {
            "colorbar": {
             "outlinewidth": 0,
             "ticks": ""
            },
            "type": "mesh3d"
           }
          ],
          "parcoords": [
           {
            "line": {
             "colorbar": {
              "outlinewidth": 0,
              "ticks": ""
             }
            },
            "type": "parcoords"
           }
          ],
          "pie": [
           {
            "automargin": true,
            "type": "pie"
           }
          ],
          "scatter": [
           {
            "marker": {
             "colorbar": {
              "outlinewidth": 0,
              "ticks": ""
             }
            },
            "type": "scatter"
           }
          ],
          "scatter3d": [
           {
            "line": {
             "colorbar": {
              "outlinewidth": 0,
              "ticks": ""
             }
            },
            "marker": {
             "colorbar": {
              "outlinewidth": 0,
              "ticks": ""
             }
            },
            "type": "scatter3d"
           }
          ],
          "scattercarpet": [
           {
            "marker": {
             "colorbar": {
              "outlinewidth": 0,
              "ticks": ""
             }
            },
            "type": "scattercarpet"
           }
          ],
          "scattergeo": [
           {
            "marker": {
             "colorbar": {
              "outlinewidth": 0,
              "ticks": ""
             }
            },
            "type": "scattergeo"
           }
          ],
          "scattergl": [
           {
            "marker": {
             "colorbar": {
              "outlinewidth": 0,
              "ticks": ""
             }
            },
            "type": "scattergl"
           }
          ],
          "scattermapbox": [
           {
            "marker": {
             "colorbar": {
              "outlinewidth": 0,
              "ticks": ""
             }
            },
            "type": "scattermapbox"
           }
          ],
          "scatterpolar": [
           {
            "marker": {
             "colorbar": {
              "outlinewidth": 0,
              "ticks": ""
             }
            },
            "type": "scatterpolar"
           }
          ],
          "scatterpolargl": [
           {
            "marker": {
             "colorbar": {
              "outlinewidth": 0,
              "ticks": ""
             }
            },
            "type": "scatterpolargl"
           }
          ],
          "scatterternary": [
           {
            "marker": {
             "colorbar": {
              "outlinewidth": 0,
              "ticks": ""
             }
            },
            "type": "scatterternary"
           }
          ],
          "surface": [
           {
            "colorbar": {
             "outlinewidth": 0,
             "ticks": ""
            },
            "colorscale": [
             [
              0,
              "#0d0887"
             ],
             [
              0.1111111111111111,
              "#46039f"
             ],
             [
              0.2222222222222222,
              "#7201a8"
             ],
             [
              0.3333333333333333,
              "#9c179e"
             ],
             [
              0.4444444444444444,
              "#bd3786"
             ],
             [
              0.5555555555555556,
              "#d8576b"
             ],
             [
              0.6666666666666666,
              "#ed7953"
             ],
             [
              0.7777777777777778,
              "#fb9f3a"
             ],
             [
              0.8888888888888888,
              "#fdca26"
             ],
             [
              1,
              "#f0f921"
             ]
            ],
            "type": "surface"
           }
          ],
          "table": [
           {
            "cells": {
             "fill": {
              "color": "#EBF0F8"
             },
             "line": {
              "color": "white"
             }
            },
            "header": {
             "fill": {
              "color": "#C8D4E3"
             },
             "line": {
              "color": "white"
             }
            },
            "type": "table"
           }
          ]
         },
         "layout": {
          "annotationdefaults": {
           "arrowcolor": "#2a3f5f",
           "arrowhead": 0,
           "arrowwidth": 1
          },
          "autotypenumbers": "strict",
          "coloraxis": {
           "colorbar": {
            "outlinewidth": 0,
            "ticks": ""
           }
          },
          "colorscale": {
           "diverging": [
            [
             0,
             "#8e0152"
            ],
            [
             0.1,
             "#c51b7d"
            ],
            [
             0.2,
             "#de77ae"
            ],
            [
             0.3,
             "#f1b6da"
            ],
            [
             0.4,
             "#fde0ef"
            ],
            [
             0.5,
             "#f7f7f7"
            ],
            [
             0.6,
             "#e6f5d0"
            ],
            [
             0.7,
             "#b8e186"
            ],
            [
             0.8,
             "#7fbc41"
            ],
            [
             0.9,
             "#4d9221"
            ],
            [
             1,
             "#276419"
            ]
           ],
           "sequential": [
            [
             0,
             "#0d0887"
            ],
            [
             0.1111111111111111,
             "#46039f"
            ],
            [
             0.2222222222222222,
             "#7201a8"
            ],
            [
             0.3333333333333333,
             "#9c179e"
            ],
            [
             0.4444444444444444,
             "#bd3786"
            ],
            [
             0.5555555555555556,
             "#d8576b"
            ],
            [
             0.6666666666666666,
             "#ed7953"
            ],
            [
             0.7777777777777778,
             "#fb9f3a"
            ],
            [
             0.8888888888888888,
             "#fdca26"
            ],
            [
             1,
             "#f0f921"
            ]
           ],
           "sequentialminus": [
            [
             0,
             "#0d0887"
            ],
            [
             0.1111111111111111,
             "#46039f"
            ],
            [
             0.2222222222222222,
             "#7201a8"
            ],
            [
             0.3333333333333333,
             "#9c179e"
            ],
            [
             0.4444444444444444,
             "#bd3786"
            ],
            [
             0.5555555555555556,
             "#d8576b"
            ],
            [
             0.6666666666666666,
             "#ed7953"
            ],
            [
             0.7777777777777778,
             "#fb9f3a"
            ],
            [
             0.8888888888888888,
             "#fdca26"
            ],
            [
             1,
             "#f0f921"
            ]
           ]
          },
          "colorway": [
           "#636efa",
           "#EF553B",
           "#00cc96",
           "#ab63fa",
           "#FFA15A",
           "#19d3f3",
           "#FF6692",
           "#B6E880",
           "#FF97FF",
           "#FECB52"
          ],
          "font": {
           "color": "#2a3f5f"
          },
          "geo": {
           "bgcolor": "white",
           "lakecolor": "white",
           "landcolor": "#E5ECF6",
           "showlakes": true,
           "showland": true,
           "subunitcolor": "white"
          },
          "hoverlabel": {
           "align": "left"
          },
          "hovermode": "closest",
          "mapbox": {
           "style": "light"
          },
          "paper_bgcolor": "white",
          "plot_bgcolor": "#E5ECF6",
          "polar": {
           "angularaxis": {
            "gridcolor": "white",
            "linecolor": "white",
            "ticks": ""
           },
           "bgcolor": "#E5ECF6",
           "radialaxis": {
            "gridcolor": "white",
            "linecolor": "white",
            "ticks": ""
           }
          },
          "scene": {
           "xaxis": {
            "backgroundcolor": "#E5ECF6",
            "gridcolor": "white",
            "gridwidth": 2,
            "linecolor": "white",
            "showbackground": true,
            "ticks": "",
            "zerolinecolor": "white"
           },
           "yaxis": {
            "backgroundcolor": "#E5ECF6",
            "gridcolor": "white",
            "gridwidth": 2,
            "linecolor": "white",
            "showbackground": true,
            "ticks": "",
            "zerolinecolor": "white"
           },
           "zaxis": {
            "backgroundcolor": "#E5ECF6",
            "gridcolor": "white",
            "gridwidth": 2,
            "linecolor": "white",
            "showbackground": true,
            "ticks": "",
            "zerolinecolor": "white"
           }
          },
          "shapedefaults": {
           "line": {
            "color": "#2a3f5f"
           }
          },
          "ternary": {
           "aaxis": {
            "gridcolor": "white",
            "linecolor": "white",
            "ticks": ""
           },
           "baxis": {
            "gridcolor": "white",
            "linecolor": "white",
            "ticks": ""
           },
           "bgcolor": "#E5ECF6",
           "caxis": {
            "gridcolor": "white",
            "linecolor": "white",
            "ticks": ""
           }
          },
          "title": {
           "x": 0.05
          },
          "xaxis": {
           "automargin": true,
           "gridcolor": "white",
           "linecolor": "white",
           "ticks": "",
           "title": {
            "standoff": 15
           },
           "zerolinecolor": "white",
           "zerolinewidth": 2
          },
          "yaxis": {
           "automargin": true,
           "gridcolor": "white",
           "linecolor": "white",
           "ticks": "",
           "title": {
            "standoff": 15
           },
           "zerolinecolor": "white",
           "zerolinewidth": 2
          }
         }
        },
        "title": {
         "font": {
          "color": "blue",
          "size": 20
         },
         "text": "Neighbor: 4169 EUR_USD H4"
        },
        "xaxis": {
         "rangebreaks": [
          {
           "bounds": [
            "sat",
            "mon"
           ]
          }
         ],
         "rangeslider": {
          "visible": false
         }
        }
       }
      },
      "text/html": [
       "<div>                            <div id=\"9dc40bcf-87b7-4851-bfbb-31158fd945d9\" class=\"plotly-graph-div\" style=\"height:525px; width:100%;\"></div>            <script type=\"text/javascript\">                require([\"plotly\"], function(Plotly) {                    window.PLOTLYENV=window.PLOTLYENV || {};                                    if (document.getElementById(\"9dc40bcf-87b7-4851-bfbb-31158fd945d9\")) {                    Plotly.newPlot(                        \"9dc40bcf-87b7-4851-bfbb-31158fd945d9\",                        [{\"close\":[1.2349,1.23402,1.2356,1.23612,1.23642,1.23772,1.23755,1.23746,1.23674,1.23762,1.2358,1.23459,1.2316,1.23342,1.2326,1.23282,1.23292,1.23348,1.2316,1.2342,1.23306,1.23389,1.23311,1.2365,1.23816,1.23828,1.23792,1.23836,1.23824,1.23854,1.2348,1.2355,1.23698,1.237,1.23774,1.23594,1.23916,1.23898,1.23742,1.23723,1.2378,1.23664,1.23795,1.23448,1.23451,1.2347,1.23408,1.23146,1.22906,1.22968,1.22884,1.22707],\"high\":[1.23776,1.23684,1.23614,1.23656,1.23644,1.23872,1.23976,1.2393,1.23782,1.23799,1.23784,1.2374,1.23519,1.23361,1.23407,1.23327,1.23336,1.23462,1.23396,1.23442,1.23428,1.23406,1.23432,1.23686,1.23832,1.23948,1.23842,1.23876,1.23878,1.2414,1.23868,1.23615,1.23762,1.23755,1.23825,1.23806,1.23954,1.23973,1.23932,1.23835,1.23856,1.24004,1.23856,1.2385,1.23588,1.23495,1.23486,1.23528,1.23162,1.23006,1.22966,1.22886],\"low\":[1.23177,1.23242,1.23399,1.23502,1.23528,1.2362,1.23622,1.23684,1.2347,1.23637,1.23569,1.2345,1.2312,1.22991,1.23244,1.23244,1.23215,1.23174,1.2307,1.23161,1.23276,1.23246,1.23308,1.2324,1.23565,1.23622,1.23746,1.23788,1.23758,1.23816,1.23454,1.23362,1.23537,1.23672,1.23644,1.23486,1.23416,1.23712,1.23724,1.23704,1.23644,1.23599,1.23542,1.23292,1.23356,1.2338,1.23362,1.23121,1.22898,1.22498,1.228,1.22682],\"open\":[1.23247,1.23488,1.23406,1.23543,1.23613,1.2364,1.2377,1.23752,1.23746,1.23658,1.23762,1.23582,1.23458,1.23159,1.23337,1.23278,1.23282,1.23292,1.23344,1.23163,1.2342,1.23342,1.23389,1.23314,1.23647,1.23814,1.23824,1.23815,1.23841,1.2383,1.23852,1.23479,1.23549,1.23733,1.23702,1.23774,1.23594,1.23916,1.23899,1.23742,1.23729,1.2378,1.23664,1.238,1.23451,1.23472,1.23464,1.2341,1.23146,1.22904,1.22965,1.22735],\"type\":\"candlestick\",\"x\":[\"2018-04-10T09:00:00.000000000Z\",\"2018-04-10T13:00:00.000000000Z\",\"2018-04-10T17:00:00.000000000Z\",\"2018-04-10T21:00:00.000000000Z\",\"2018-04-11T01:00:00.000000000Z\",\"2018-04-11T05:00:00.000000000Z\",\"2018-04-11T09:00:00.000000000Z\",\"2018-04-11T13:00:00.000000000Z\",\"2018-04-11T17:00:00.000000000Z\",\"2018-04-11T21:00:00.000000000Z\",\"2018-04-12T01:00:00.000000000Z\",\"2018-04-12T05:00:00.000000000Z\",\"2018-04-12T09:00:00.000000000Z\",\"2018-04-12T13:00:00.000000000Z\",\"2018-04-12T17:00:00.000000000Z\",\"2018-04-12T21:00:00.000000000Z\",\"2018-04-13T01:00:00.000000000Z\",\"2018-04-13T05:00:00.000000000Z\",\"2018-04-13T09:00:00.000000000Z\",\"2018-04-13T13:00:00.000000000Z\",\"2018-04-13T17:00:00.000000000Z\",\"2018-04-15T21:00:00.000000000Z\",\"2018-04-16T01:00:00.000000000Z\",\"2018-04-16T05:00:00.000000000Z\",\"2018-04-16T09:00:00.000000000Z\",\"2018-04-16T13:00:00.000000000Z\",\"2018-04-16T17:00:00.000000000Z\",\"2018-04-16T21:00:00.000000000Z\",\"2018-04-17T01:00:00.000000000Z\",\"2018-04-17T05:00:00.000000000Z\",\"2018-04-17T09:00:00.000000000Z\",\"2018-04-17T13:00:00.000000000Z\",\"2018-04-17T17:00:00.000000000Z\",\"2018-04-17T21:00:00.000000000Z\",\"2018-04-18T01:00:00.000000000Z\",\"2018-04-18T05:00:00.000000000Z\",\"2018-04-18T09:00:00.000000000Z\",\"2018-04-18T13:00:00.000000000Z\",\"2018-04-18T17:00:00.000000000Z\",\"2018-04-18T21:00:00.000000000Z\",\"2018-04-19T01:00:00.000000000Z\",\"2018-04-19T05:00:00.000000000Z\",\"2018-04-19T09:00:00.000000000Z\",\"2018-04-19T13:00:00.000000000Z\",\"2018-04-19T17:00:00.000000000Z\",\"2018-04-19T21:00:00.000000000Z\",\"2018-04-20T01:00:00.000000000Z\",\"2018-04-20T05:00:00.000000000Z\",\"2018-04-20T09:00:00.000000000Z\",\"2018-04-20T13:00:00.000000000Z\",\"2018-04-20T17:00:00.000000000Z\",\"2018-04-22T21:00:00.000000000Z\"]}],                        {\"template\":{\"data\":{\"bar\":[{\"error_x\":{\"color\":\"#2a3f5f\"},\"error_y\":{\"color\":\"#2a3f5f\"},\"marker\":{\"line\":{\"color\":\"#E5ECF6\",\"width\":0.5},\"pattern\":{\"fillmode\":\"overlay\",\"size\":10,\"solidity\":0.2}},\"type\":\"bar\"}],\"barpolar\":[{\"marker\":{\"line\":{\"color\":\"#E5ECF6\",\"width\":0.5},\"pattern\":{\"fillmode\":\"overlay\",\"size\":10,\"solidity\":0.2}},\"type\":\"barpolar\"}],\"carpet\":[{\"aaxis\":{\"endlinecolor\":\"#2a3f5f\",\"gridcolor\":\"white\",\"linecolor\":\"white\",\"minorgridcolor\":\"white\",\"startlinecolor\":\"#2a3f5f\"},\"baxis\":{\"endlinecolor\":\"#2a3f5f\",\"gridcolor\":\"white\",\"linecolor\":\"white\",\"minorgridcolor\":\"white\",\"startlinecolor\":\"#2a3f5f\"},\"type\":\"carpet\"}],\"choropleth\":[{\"colorbar\":{\"outlinewidth\":0,\"ticks\":\"\"},\"type\":\"choropleth\"}],\"contour\":[{\"colorbar\":{\"outlinewidth\":0,\"ticks\":\"\"},\"colorscale\":[[0.0,\"#0d0887\"],[0.1111111111111111,\"#46039f\"],[0.2222222222222222,\"#7201a8\"],[0.3333333333333333,\"#9c179e\"],[0.4444444444444444,\"#bd3786\"],[0.5555555555555556,\"#d8576b\"],[0.6666666666666666,\"#ed7953\"],[0.7777777777777778,\"#fb9f3a\"],[0.8888888888888888,\"#fdca26\"],[1.0,\"#f0f921\"]],\"type\":\"contour\"}],\"contourcarpet\":[{\"colorbar\":{\"outlinewidth\":0,\"ticks\":\"\"},\"type\":\"contourcarpet\"}],\"heatmap\":[{\"colorbar\":{\"outlinewidth\":0,\"ticks\":\"\"},\"colorscale\":[[0.0,\"#0d0887\"],[0.1111111111111111,\"#46039f\"],[0.2222222222222222,\"#7201a8\"],[0.3333333333333333,\"#9c179e\"],[0.4444444444444444,\"#bd3786\"],[0.5555555555555556,\"#d8576b\"],[0.6666666666666666,\"#ed7953\"],[0.7777777777777778,\"#fb9f3a\"],[0.8888888888888888,\"#fdca26\"],[1.0,\"#f0f921\"]],\"type\":\"heatmap\"}],\"heatmapgl\":[{\"colorbar\":{\"outlinewidth\":0,\"ticks\":\"\"},\"colorscale\":[[0.0,\"#0d0887\"],[0.1111111111111111,\"#46039f\"],[0.2222222222222222,\"#7201a8\"],[0.3333333333333333,\"#9c179e\"],[0.4444444444444444,\"#bd3786\"],[0.5555555555555556,\"#d8576b\"],[0.6666666666666666,\"#ed7953\"],[0.7777777777777778,\"#fb9f3a\"],[0.8888888888888888,\"#fdca26\"],[1.0,\"#f0f921\"]],\"type\":\"heatmapgl\"}],\"histogram\":[{\"marker\":{\"pattern\":{\"fillmode\":\"overlay\",\"size\":10,\"solidity\":0.2}},\"type\":\"histogram\"}],\"histogram2d\":[{\"colorbar\":{\"outlinewidth\":0,\"ticks\":\"\"},\"colorscale\":[[0.0,\"#0d0887\"],[0.1111111111111111,\"#46039f\"],[0.2222222222222222,\"#7201a8\"],[0.3333333333333333,\"#9c179e\"],[0.4444444444444444,\"#bd3786\"],[0.5555555555555556,\"#d8576b\"],[0.6666666666666666,\"#ed7953\"],[0.7777777777777778,\"#fb9f3a\"],[0.8888888888888888,\"#fdca26\"],[1.0,\"#f0f921\"]],\"type\":\"histogram2d\"}],\"histogram2dcontour\":[{\"colorbar\":{\"outlinewidth\":0,\"ticks\":\"\"},\"colorscale\":[[0.0,\"#0d0887\"],[0.1111111111111111,\"#46039f\"],[0.2222222222222222,\"#7201a8\"],[0.3333333333333333,\"#9c179e\"],[0.4444444444444444,\"#bd3786\"],[0.5555555555555556,\"#d8576b\"],[0.6666666666666666,\"#ed7953\"],[0.7777777777777778,\"#fb9f3a\"],[0.8888888888888888,\"#fdca26\"],[1.0,\"#f0f921\"]],\"type\":\"histogram2dcontour\"}],\"mesh3d\":[{\"colorbar\":{\"outlinewidth\":0,\"ticks\":\"\"},\"type\":\"mesh3d\"}],\"parcoords\":[{\"line\":{\"colorbar\":{\"outlinewidth\":0,\"ticks\":\"\"}},\"type\":\"parcoords\"}],\"pie\":[{\"automargin\":true,\"type\":\"pie\"}],\"scatter\":[{\"marker\":{\"colorbar\":{\"outlinewidth\":0,\"ticks\":\"\"}},\"type\":\"scatter\"}],\"scatter3d\":[{\"line\":{\"colorbar\":{\"outlinewidth\":0,\"ticks\":\"\"}},\"marker\":{\"colorbar\":{\"outlinewidth\":0,\"ticks\":\"\"}},\"type\":\"scatter3d\"}],\"scattercarpet\":[{\"marker\":{\"colorbar\":{\"outlinewidth\":0,\"ticks\":\"\"}},\"type\":\"scattercarpet\"}],\"scattergeo\":[{\"marker\":{\"colorbar\":{\"outlinewidth\":0,\"ticks\":\"\"}},\"type\":\"scattergeo\"}],\"scattergl\":[{\"marker\":{\"colorbar\":{\"outlinewidth\":0,\"ticks\":\"\"}},\"type\":\"scattergl\"}],\"scattermapbox\":[{\"marker\":{\"colorbar\":{\"outlinewidth\":0,\"ticks\":\"\"}},\"type\":\"scattermapbox\"}],\"scatterpolar\":[{\"marker\":{\"colorbar\":{\"outlinewidth\":0,\"ticks\":\"\"}},\"type\":\"scatterpolar\"}],\"scatterpolargl\":[{\"marker\":{\"colorbar\":{\"outlinewidth\":0,\"ticks\":\"\"}},\"type\":\"scatterpolargl\"}],\"scatterternary\":[{\"marker\":{\"colorbar\":{\"outlinewidth\":0,\"ticks\":\"\"}},\"type\":\"scatterternary\"}],\"surface\":[{\"colorbar\":{\"outlinewidth\":0,\"ticks\":\"\"},\"colorscale\":[[0.0,\"#0d0887\"],[0.1111111111111111,\"#46039f\"],[0.2222222222222222,\"#7201a8\"],[0.3333333333333333,\"#9c179e\"],[0.4444444444444444,\"#bd3786\"],[0.5555555555555556,\"#d8576b\"],[0.6666666666666666,\"#ed7953\"],[0.7777777777777778,\"#fb9f3a\"],[0.8888888888888888,\"#fdca26\"],[1.0,\"#f0f921\"]],\"type\":\"surface\"}],\"table\":[{\"cells\":{\"fill\":{\"color\":\"#EBF0F8\"},\"line\":{\"color\":\"white\"}},\"header\":{\"fill\":{\"color\":\"#C8D4E3\"},\"line\":{\"color\":\"white\"}},\"type\":\"table\"}]},\"layout\":{\"annotationdefaults\":{\"arrowcolor\":\"#2a3f5f\",\"arrowhead\":0,\"arrowwidth\":1},\"autotypenumbers\":\"strict\",\"coloraxis\":{\"colorbar\":{\"outlinewidth\":0,\"ticks\":\"\"}},\"colorscale\":{\"diverging\":[[0,\"#8e0152\"],[0.1,\"#c51b7d\"],[0.2,\"#de77ae\"],[0.3,\"#f1b6da\"],[0.4,\"#fde0ef\"],[0.5,\"#f7f7f7\"],[0.6,\"#e6f5d0\"],[0.7,\"#b8e186\"],[0.8,\"#7fbc41\"],[0.9,\"#4d9221\"],[1,\"#276419\"]],\"sequential\":[[0.0,\"#0d0887\"],[0.1111111111111111,\"#46039f\"],[0.2222222222222222,\"#7201a8\"],[0.3333333333333333,\"#9c179e\"],[0.4444444444444444,\"#bd3786\"],[0.5555555555555556,\"#d8576b\"],[0.6666666666666666,\"#ed7953\"],[0.7777777777777778,\"#fb9f3a\"],[0.8888888888888888,\"#fdca26\"],[1.0,\"#f0f921\"]],\"sequentialminus\":[[0.0,\"#0d0887\"],[0.1111111111111111,\"#46039f\"],[0.2222222222222222,\"#7201a8\"],[0.3333333333333333,\"#9c179e\"],[0.4444444444444444,\"#bd3786\"],[0.5555555555555556,\"#d8576b\"],[0.6666666666666666,\"#ed7953\"],[0.7777777777777778,\"#fb9f3a\"],[0.8888888888888888,\"#fdca26\"],[1.0,\"#f0f921\"]]},\"colorway\":[\"#636efa\",\"#EF553B\",\"#00cc96\",\"#ab63fa\",\"#FFA15A\",\"#19d3f3\",\"#FF6692\",\"#B6E880\",\"#FF97FF\",\"#FECB52\"],\"font\":{\"color\":\"#2a3f5f\"},\"geo\":{\"bgcolor\":\"white\",\"lakecolor\":\"white\",\"landcolor\":\"#E5ECF6\",\"showlakes\":true,\"showland\":true,\"subunitcolor\":\"white\"},\"hoverlabel\":{\"align\":\"left\"},\"hovermode\":\"closest\",\"mapbox\":{\"style\":\"light\"},\"paper_bgcolor\":\"white\",\"plot_bgcolor\":\"#E5ECF6\",\"polar\":{\"angularaxis\":{\"gridcolor\":\"white\",\"linecolor\":\"white\",\"ticks\":\"\"},\"bgcolor\":\"#E5ECF6\",\"radialaxis\":{\"gridcolor\":\"white\",\"linecolor\":\"white\",\"ticks\":\"\"}},\"scene\":{\"xaxis\":{\"backgroundcolor\":\"#E5ECF6\",\"gridcolor\":\"white\",\"gridwidth\":2,\"linecolor\":\"white\",\"showbackground\":true,\"ticks\":\"\",\"zerolinecolor\":\"white\"},\"yaxis\":{\"backgroundcolor\":\"#E5ECF6\",\"gridcolor\":\"white\",\"gridwidth\":2,\"linecolor\":\"white\",\"showbackground\":true,\"ticks\":\"\",\"zerolinecolor\":\"white\"},\"zaxis\":{\"backgroundcolor\":\"#E5ECF6\",\"gridcolor\":\"white\",\"gridwidth\":2,\"linecolor\":\"white\",\"showbackground\":true,\"ticks\":\"\",\"zerolinecolor\":\"white\"}},\"shapedefaults\":{\"line\":{\"color\":\"#2a3f5f\"}},\"ternary\":{\"aaxis\":{\"gridcolor\":\"white\",\"linecolor\":\"white\",\"ticks\":\"\"},\"baxis\":{\"gridcolor\":\"white\",\"linecolor\":\"white\",\"ticks\":\"\"},\"bgcolor\":\"#E5ECF6\",\"caxis\":{\"gridcolor\":\"white\",\"linecolor\":\"white\",\"ticks\":\"\"}},\"title\":{\"x\":0.05},\"xaxis\":{\"automargin\":true,\"gridcolor\":\"white\",\"linecolor\":\"white\",\"ticks\":\"\",\"title\":{\"standoff\":15},\"zerolinecolor\":\"white\",\"zerolinewidth\":2},\"yaxis\":{\"automargin\":true,\"gridcolor\":\"white\",\"linecolor\":\"white\",\"ticks\":\"\",\"title\":{\"standoff\":15},\"zerolinecolor\":\"white\",\"zerolinewidth\":2}}},\"title\":{\"font\":{\"color\":\"blue\",\"size\":20},\"text\":\"Neighbor: 4169 EUR_USD H4\"},\"xaxis\":{\"rangebreaks\":[{\"bounds\":[\"sat\",\"mon\"]}],\"rangeslider\":{\"visible\":false}}},                        {\"responsive\": true}                    ).then(function(){\n",
       "                            \n",
       "var gd = document.getElementById('9dc40bcf-87b7-4851-bfbb-31158fd945d9');\n",
       "var x = new MutationObserver(function (mutations, observer) {{\n",
       "        var display = window.getComputedStyle(gd).display;\n",
       "        if (!display || display === 'none') {{\n",
       "            console.log([gd, 'removed!']);\n",
       "            Plotly.purge(gd);\n",
       "            observer.disconnect();\n",
       "        }}\n",
       "}});\n",
       "\n",
       "// Listen for the removal of the full notebook cells\n",
       "var notebookContainer = gd.closest('#notebook-container');\n",
       "if (notebookContainer) {{\n",
       "    x.observe(notebookContainer, {childList: true});\n",
       "}}\n",
       "\n",
       "// Listen for the clearing of the current output cell\n",
       "var outputEl = gd.closest('.output');\n",
       "if (outputEl) {{\n",
       "    x.observe(outputEl, {childList: true});\n",
       "}}\n",
       "\n",
       "                        })                };                });            </script>        </div>"
      ]
     },
     "metadata": {},
     "output_type": "display_data"
    },
    {
     "name": "stdout",
     "output_type": "stream",
     "text": [
      "Neighbor: 8124 | 10K Records: True\n"
     ]
    },
    {
     "data": {
      "application/vnd.plotly.v1+json": {
       "config": {
        "plotlyServerURL": "https://plot.ly"
       },
       "data": [
        {
         "close": [
          1.18532,
          1.18433,
          1.18612,
          1.18445,
          1.1833,
          1.18182,
          1.18135,
          1.18242,
          1.18094,
          1.18208,
          1.18246,
          1.18094,
          1.18272,
          1.18292,
          1.17954,
          1.17791,
          1.17794,
          1.17648,
          1.17268,
          1.17512,
          1.1746,
          1.17515,
          1.17529,
          1.17292,
          1.17043,
          1.16606,
          1.16728,
          1.16743,
          1.16816,
          1.16688,
          1.16994,
          1.1651,
          1.1648,
          1.16419,
          1.16374,
          1.16402,
          1.16372,
          1.16277,
          1.16404,
          1.16501,
          1.1655,
          1.16968,
          1.17045,
          1.17096,
          1.17196,
          1.16842,
          1.1659,
          1.16758,
          1.17104,
          1.17151,
          1.17226,
          1.17214
         ],
         "high": [
          1.18602,
          1.18547,
          1.1865,
          1.18605,
          1.18494,
          1.18476,
          1.18279,
          1.1825,
          1.18264,
          1.1821,
          1.18253,
          1.1836,
          1.18334,
          1.18388,
          1.18305,
          1.17976,
          1.1788,
          1.17853,
          1.17649,
          1.17606,
          1.17582,
          1.17564,
          1.17589,
          1.17576,
          1.17386,
          1.17146,
          1.16784,
          1.16789,
          1.16946,
          1.16845,
          1.17043,
          1.1703,
          1.16513,
          1.16506,
          1.16472,
          1.16492,
          1.16558,
          1.16408,
          1.1641,
          1.16514,
          1.16598,
          1.16978,
          1.17182,
          1.17399,
          1.17228,
          1.17707,
          1.1686,
          1.16954,
          1.17457,
          1.17342,
          1.17286,
          1.17396
         ],
         "low": [
          1.18343,
          1.18254,
          1.18424,
          1.18394,
          1.18324,
          1.18131,
          1.18033,
          1.18078,
          1.18062,
          1.18068,
          1.18156,
          1.17963,
          1.18008,
          1.18198,
          1.17928,
          1.17694,
          1.17745,
          1.17499,
          1.17178,
          1.17207,
          1.17447,
          1.1744,
          1.17442,
          1.17247,
          1.1695,
          1.16549,
          1.16502,
          1.16682,
          1.16725,
          1.16605,
          1.16646,
          1.16421,
          1.164,
          1.16378,
          1.163,
          1.16222,
          1.16362,
          1.16238,
          1.16227,
          1.16236,
          1.16473,
          1.16533,
          1.16918,
          1.17024,
          1.16956,
          1.16738,
          1.16027,
          1.16284,
          1.16722,
          1.16803,
          1.17102,
          1.17178
         ],
         "open": [
          1.18384,
          1.1853,
          1.18434,
          1.18529,
          1.18446,
          1.1833,
          1.1818,
          1.18134,
          1.18241,
          1.18094,
          1.18209,
          1.18246,
          1.18092,
          1.18274,
          1.18291,
          1.17972,
          1.17792,
          1.17794,
          1.17647,
          1.17268,
          1.1751,
          1.1746,
          1.17516,
          1.1753,
          1.1729,
          1.17042,
          1.16606,
          1.16745,
          1.16744,
          1.16818,
          1.16689,
          1.16995,
          1.16508,
          1.16501,
          1.1642,
          1.16373,
          1.16404,
          1.16371,
          1.16278,
          1.16387,
          1.16502,
          1.1655,
          1.16966,
          1.17046,
          1.17097,
          1.17178,
          1.16843,
          1.16588,
          1.1676,
          1.17106,
          1.1715,
          1.17226
         ],
         "type": "candlestick",
         "x": [
          "2020-10-23T09:00:00.000000000Z",
          "2020-10-23T13:00:00.000000000Z",
          "2020-10-23T17:00:00.000000000Z",
          "2020-10-25T21:00:00.000000000Z",
          "2020-10-26T01:00:00.000000000Z",
          "2020-10-26T05:00:00.000000000Z",
          "2020-10-26T09:00:00.000000000Z",
          "2020-10-26T13:00:00.000000000Z",
          "2020-10-26T17:00:00.000000000Z",
          "2020-10-26T21:00:00.000000000Z",
          "2020-10-27T01:00:00.000000000Z",
          "2020-10-27T05:00:00.000000000Z",
          "2020-10-27T09:00:00.000000000Z",
          "2020-10-27T13:00:00.000000000Z",
          "2020-10-27T17:00:00.000000000Z",
          "2020-10-27T21:00:00.000000000Z",
          "2020-10-28T01:00:00.000000000Z",
          "2020-10-28T05:00:00.000000000Z",
          "2020-10-28T09:00:00.000000000Z",
          "2020-10-28T13:00:00.000000000Z",
          "2020-10-28T17:00:00.000000000Z",
          "2020-10-28T21:00:00.000000000Z",
          "2020-10-29T01:00:00.000000000Z",
          "2020-10-29T05:00:00.000000000Z",
          "2020-10-29T09:00:00.000000000Z",
          "2020-10-29T13:00:00.000000000Z",
          "2020-10-29T17:00:00.000000000Z",
          "2020-10-29T21:00:00.000000000Z",
          "2020-10-30T01:00:00.000000000Z",
          "2020-10-30T05:00:00.000000000Z",
          "2020-10-30T09:00:00.000000000Z",
          "2020-10-30T13:00:00.000000000Z",
          "2020-10-30T17:00:00.000000000Z",
          "2020-11-01T22:00:00.000000000Z",
          "2020-11-02T02:00:00.000000000Z",
          "2020-11-02T06:00:00.000000000Z",
          "2020-11-02T10:00:00.000000000Z",
          "2020-11-02T14:00:00.000000000Z",
          "2020-11-02T18:00:00.000000000Z",
          "2020-11-02T22:00:00.000000000Z",
          "2020-11-03T02:00:00.000000000Z",
          "2020-11-03T06:00:00.000000000Z",
          "2020-11-03T10:00:00.000000000Z",
          "2020-11-03T14:00:00.000000000Z",
          "2020-11-03T18:00:00.000000000Z",
          "2020-11-03T22:00:00.000000000Z",
          "2020-11-04T02:00:00.000000000Z",
          "2020-11-04T06:00:00.000000000Z",
          "2020-11-04T10:00:00.000000000Z",
          "2020-11-04T14:00:00.000000000Z",
          "2020-11-04T18:00:00.000000000Z",
          "2020-11-04T22:00:00.000000000Z"
         ]
        }
       ],
       "layout": {
        "template": {
         "data": {
          "bar": [
           {
            "error_x": {
             "color": "#2a3f5f"
            },
            "error_y": {
             "color": "#2a3f5f"
            },
            "marker": {
             "line": {
              "color": "#E5ECF6",
              "width": 0.5
             },
             "pattern": {
              "fillmode": "overlay",
              "size": 10,
              "solidity": 0.2
             }
            },
            "type": "bar"
           }
          ],
          "barpolar": [
           {
            "marker": {
             "line": {
              "color": "#E5ECF6",
              "width": 0.5
             },
             "pattern": {
              "fillmode": "overlay",
              "size": 10,
              "solidity": 0.2
             }
            },
            "type": "barpolar"
           }
          ],
          "carpet": [
           {
            "aaxis": {
             "endlinecolor": "#2a3f5f",
             "gridcolor": "white",
             "linecolor": "white",
             "minorgridcolor": "white",
             "startlinecolor": "#2a3f5f"
            },
            "baxis": {
             "endlinecolor": "#2a3f5f",
             "gridcolor": "white",
             "linecolor": "white",
             "minorgridcolor": "white",
             "startlinecolor": "#2a3f5f"
            },
            "type": "carpet"
           }
          ],
          "choropleth": [
           {
            "colorbar": {
             "outlinewidth": 0,
             "ticks": ""
            },
            "type": "choropleth"
           }
          ],
          "contour": [
           {
            "colorbar": {
             "outlinewidth": 0,
             "ticks": ""
            },
            "colorscale": [
             [
              0,
              "#0d0887"
             ],
             [
              0.1111111111111111,
              "#46039f"
             ],
             [
              0.2222222222222222,
              "#7201a8"
             ],
             [
              0.3333333333333333,
              "#9c179e"
             ],
             [
              0.4444444444444444,
              "#bd3786"
             ],
             [
              0.5555555555555556,
              "#d8576b"
             ],
             [
              0.6666666666666666,
              "#ed7953"
             ],
             [
              0.7777777777777778,
              "#fb9f3a"
             ],
             [
              0.8888888888888888,
              "#fdca26"
             ],
             [
              1,
              "#f0f921"
             ]
            ],
            "type": "contour"
           }
          ],
          "contourcarpet": [
           {
            "colorbar": {
             "outlinewidth": 0,
             "ticks": ""
            },
            "type": "contourcarpet"
           }
          ],
          "heatmap": [
           {
            "colorbar": {
             "outlinewidth": 0,
             "ticks": ""
            },
            "colorscale": [
             [
              0,
              "#0d0887"
             ],
             [
              0.1111111111111111,
              "#46039f"
             ],
             [
              0.2222222222222222,
              "#7201a8"
             ],
             [
              0.3333333333333333,
              "#9c179e"
             ],
             [
              0.4444444444444444,
              "#bd3786"
             ],
             [
              0.5555555555555556,
              "#d8576b"
             ],
             [
              0.6666666666666666,
              "#ed7953"
             ],
             [
              0.7777777777777778,
              "#fb9f3a"
             ],
             [
              0.8888888888888888,
              "#fdca26"
             ],
             [
              1,
              "#f0f921"
             ]
            ],
            "type": "heatmap"
           }
          ],
          "heatmapgl": [
           {
            "colorbar": {
             "outlinewidth": 0,
             "ticks": ""
            },
            "colorscale": [
             [
              0,
              "#0d0887"
             ],
             [
              0.1111111111111111,
              "#46039f"
             ],
             [
              0.2222222222222222,
              "#7201a8"
             ],
             [
              0.3333333333333333,
              "#9c179e"
             ],
             [
              0.4444444444444444,
              "#bd3786"
             ],
             [
              0.5555555555555556,
              "#d8576b"
             ],
             [
              0.6666666666666666,
              "#ed7953"
             ],
             [
              0.7777777777777778,
              "#fb9f3a"
             ],
             [
              0.8888888888888888,
              "#fdca26"
             ],
             [
              1,
              "#f0f921"
             ]
            ],
            "type": "heatmapgl"
           }
          ],
          "histogram": [
           {
            "marker": {
             "pattern": {
              "fillmode": "overlay",
              "size": 10,
              "solidity": 0.2
             }
            },
            "type": "histogram"
           }
          ],
          "histogram2d": [
           {
            "colorbar": {
             "outlinewidth": 0,
             "ticks": ""
            },
            "colorscale": [
             [
              0,
              "#0d0887"
             ],
             [
              0.1111111111111111,
              "#46039f"
             ],
             [
              0.2222222222222222,
              "#7201a8"
             ],
             [
              0.3333333333333333,
              "#9c179e"
             ],
             [
              0.4444444444444444,
              "#bd3786"
             ],
             [
              0.5555555555555556,
              "#d8576b"
             ],
             [
              0.6666666666666666,
              "#ed7953"
             ],
             [
              0.7777777777777778,
              "#fb9f3a"
             ],
             [
              0.8888888888888888,
              "#fdca26"
             ],
             [
              1,
              "#f0f921"
             ]
            ],
            "type": "histogram2d"
           }
          ],
          "histogram2dcontour": [
           {
            "colorbar": {
             "outlinewidth": 0,
             "ticks": ""
            },
            "colorscale": [
             [
              0,
              "#0d0887"
             ],
             [
              0.1111111111111111,
              "#46039f"
             ],
             [
              0.2222222222222222,
              "#7201a8"
             ],
             [
              0.3333333333333333,
              "#9c179e"
             ],
             [
              0.4444444444444444,
              "#bd3786"
             ],
             [
              0.5555555555555556,
              "#d8576b"
             ],
             [
              0.6666666666666666,
              "#ed7953"
             ],
             [
              0.7777777777777778,
              "#fb9f3a"
             ],
             [
              0.8888888888888888,
              "#fdca26"
             ],
             [
              1,
              "#f0f921"
             ]
            ],
            "type": "histogram2dcontour"
           }
          ],
          "mesh3d": [
           {
            "colorbar": {
             "outlinewidth": 0,
             "ticks": ""
            },
            "type": "mesh3d"
           }
          ],
          "parcoords": [
           {
            "line": {
             "colorbar": {
              "outlinewidth": 0,
              "ticks": ""
             }
            },
            "type": "parcoords"
           }
          ],
          "pie": [
           {
            "automargin": true,
            "type": "pie"
           }
          ],
          "scatter": [
           {
            "marker": {
             "colorbar": {
              "outlinewidth": 0,
              "ticks": ""
             }
            },
            "type": "scatter"
           }
          ],
          "scatter3d": [
           {
            "line": {
             "colorbar": {
              "outlinewidth": 0,
              "ticks": ""
             }
            },
            "marker": {
             "colorbar": {
              "outlinewidth": 0,
              "ticks": ""
             }
            },
            "type": "scatter3d"
           }
          ],
          "scattercarpet": [
           {
            "marker": {
             "colorbar": {
              "outlinewidth": 0,
              "ticks": ""
             }
            },
            "type": "scattercarpet"
           }
          ],
          "scattergeo": [
           {
            "marker": {
             "colorbar": {
              "outlinewidth": 0,
              "ticks": ""
             }
            },
            "type": "scattergeo"
           }
          ],
          "scattergl": [
           {
            "marker": {
             "colorbar": {
              "outlinewidth": 0,
              "ticks": ""
             }
            },
            "type": "scattergl"
           }
          ],
          "scattermapbox": [
           {
            "marker": {
             "colorbar": {
              "outlinewidth": 0,
              "ticks": ""
             }
            },
            "type": "scattermapbox"
           }
          ],
          "scatterpolar": [
           {
            "marker": {
             "colorbar": {
              "outlinewidth": 0,
              "ticks": ""
             }
            },
            "type": "scatterpolar"
           }
          ],
          "scatterpolargl": [
           {
            "marker": {
             "colorbar": {
              "outlinewidth": 0,
              "ticks": ""
             }
            },
            "type": "scatterpolargl"
           }
          ],
          "scatterternary": [
           {
            "marker": {
             "colorbar": {
              "outlinewidth": 0,
              "ticks": ""
             }
            },
            "type": "scatterternary"
           }
          ],
          "surface": [
           {
            "colorbar": {
             "outlinewidth": 0,
             "ticks": ""
            },
            "colorscale": [
             [
              0,
              "#0d0887"
             ],
             [
              0.1111111111111111,
              "#46039f"
             ],
             [
              0.2222222222222222,
              "#7201a8"
             ],
             [
              0.3333333333333333,
              "#9c179e"
             ],
             [
              0.4444444444444444,
              "#bd3786"
             ],
             [
              0.5555555555555556,
              "#d8576b"
             ],
             [
              0.6666666666666666,
              "#ed7953"
             ],
             [
              0.7777777777777778,
              "#fb9f3a"
             ],
             [
              0.8888888888888888,
              "#fdca26"
             ],
             [
              1,
              "#f0f921"
             ]
            ],
            "type": "surface"
           }
          ],
          "table": [
           {
            "cells": {
             "fill": {
              "color": "#EBF0F8"
             },
             "line": {
              "color": "white"
             }
            },
            "header": {
             "fill": {
              "color": "#C8D4E3"
             },
             "line": {
              "color": "white"
             }
            },
            "type": "table"
           }
          ]
         },
         "layout": {
          "annotationdefaults": {
           "arrowcolor": "#2a3f5f",
           "arrowhead": 0,
           "arrowwidth": 1
          },
          "autotypenumbers": "strict",
          "coloraxis": {
           "colorbar": {
            "outlinewidth": 0,
            "ticks": ""
           }
          },
          "colorscale": {
           "diverging": [
            [
             0,
             "#8e0152"
            ],
            [
             0.1,
             "#c51b7d"
            ],
            [
             0.2,
             "#de77ae"
            ],
            [
             0.3,
             "#f1b6da"
            ],
            [
             0.4,
             "#fde0ef"
            ],
            [
             0.5,
             "#f7f7f7"
            ],
            [
             0.6,
             "#e6f5d0"
            ],
            [
             0.7,
             "#b8e186"
            ],
            [
             0.8,
             "#7fbc41"
            ],
            [
             0.9,
             "#4d9221"
            ],
            [
             1,
             "#276419"
            ]
           ],
           "sequential": [
            [
             0,
             "#0d0887"
            ],
            [
             0.1111111111111111,
             "#46039f"
            ],
            [
             0.2222222222222222,
             "#7201a8"
            ],
            [
             0.3333333333333333,
             "#9c179e"
            ],
            [
             0.4444444444444444,
             "#bd3786"
            ],
            [
             0.5555555555555556,
             "#d8576b"
            ],
            [
             0.6666666666666666,
             "#ed7953"
            ],
            [
             0.7777777777777778,
             "#fb9f3a"
            ],
            [
             0.8888888888888888,
             "#fdca26"
            ],
            [
             1,
             "#f0f921"
            ]
           ],
           "sequentialminus": [
            [
             0,
             "#0d0887"
            ],
            [
             0.1111111111111111,
             "#46039f"
            ],
            [
             0.2222222222222222,
             "#7201a8"
            ],
            [
             0.3333333333333333,
             "#9c179e"
            ],
            [
             0.4444444444444444,
             "#bd3786"
            ],
            [
             0.5555555555555556,
             "#d8576b"
            ],
            [
             0.6666666666666666,
             "#ed7953"
            ],
            [
             0.7777777777777778,
             "#fb9f3a"
            ],
            [
             0.8888888888888888,
             "#fdca26"
            ],
            [
             1,
             "#f0f921"
            ]
           ]
          },
          "colorway": [
           "#636efa",
           "#EF553B",
           "#00cc96",
           "#ab63fa",
           "#FFA15A",
           "#19d3f3",
           "#FF6692",
           "#B6E880",
           "#FF97FF",
           "#FECB52"
          ],
          "font": {
           "color": "#2a3f5f"
          },
          "geo": {
           "bgcolor": "white",
           "lakecolor": "white",
           "landcolor": "#E5ECF6",
           "showlakes": true,
           "showland": true,
           "subunitcolor": "white"
          },
          "hoverlabel": {
           "align": "left"
          },
          "hovermode": "closest",
          "mapbox": {
           "style": "light"
          },
          "paper_bgcolor": "white",
          "plot_bgcolor": "#E5ECF6",
          "polar": {
           "angularaxis": {
            "gridcolor": "white",
            "linecolor": "white",
            "ticks": ""
           },
           "bgcolor": "#E5ECF6",
           "radialaxis": {
            "gridcolor": "white",
            "linecolor": "white",
            "ticks": ""
           }
          },
          "scene": {
           "xaxis": {
            "backgroundcolor": "#E5ECF6",
            "gridcolor": "white",
            "gridwidth": 2,
            "linecolor": "white",
            "showbackground": true,
            "ticks": "",
            "zerolinecolor": "white"
           },
           "yaxis": {
            "backgroundcolor": "#E5ECF6",
            "gridcolor": "white",
            "gridwidth": 2,
            "linecolor": "white",
            "showbackground": true,
            "ticks": "",
            "zerolinecolor": "white"
           },
           "zaxis": {
            "backgroundcolor": "#E5ECF6",
            "gridcolor": "white",
            "gridwidth": 2,
            "linecolor": "white",
            "showbackground": true,
            "ticks": "",
            "zerolinecolor": "white"
           }
          },
          "shapedefaults": {
           "line": {
            "color": "#2a3f5f"
           }
          },
          "ternary": {
           "aaxis": {
            "gridcolor": "white",
            "linecolor": "white",
            "ticks": ""
           },
           "baxis": {
            "gridcolor": "white",
            "linecolor": "white",
            "ticks": ""
           },
           "bgcolor": "#E5ECF6",
           "caxis": {
            "gridcolor": "white",
            "linecolor": "white",
            "ticks": ""
           }
          },
          "title": {
           "x": 0.05
          },
          "xaxis": {
           "automargin": true,
           "gridcolor": "white",
           "linecolor": "white",
           "ticks": "",
           "title": {
            "standoff": 15
           },
           "zerolinecolor": "white",
           "zerolinewidth": 2
          },
          "yaxis": {
           "automargin": true,
           "gridcolor": "white",
           "linecolor": "white",
           "ticks": "",
           "title": {
            "standoff": 15
           },
           "zerolinecolor": "white",
           "zerolinewidth": 2
          }
         }
        },
        "title": {
         "font": {
          "color": "blue",
          "size": 20
         },
         "text": "Neighbor: 8124 EUR_USD H4"
        },
        "xaxis": {
         "rangebreaks": [
          {
           "bounds": [
            "sat",
            "mon"
           ]
          }
         ],
         "rangeslider": {
          "visible": false
         }
        }
       }
      },
      "text/html": [
       "<div>                            <div id=\"754ca8fc-38ef-4a8c-9262-a4280be59727\" class=\"plotly-graph-div\" style=\"height:525px; width:100%;\"></div>            <script type=\"text/javascript\">                require([\"plotly\"], function(Plotly) {                    window.PLOTLYENV=window.PLOTLYENV || {};                                    if (document.getElementById(\"754ca8fc-38ef-4a8c-9262-a4280be59727\")) {                    Plotly.newPlot(                        \"754ca8fc-38ef-4a8c-9262-a4280be59727\",                        [{\"close\":[1.18532,1.18433,1.18612,1.18445,1.1833,1.18182,1.18135,1.18242,1.18094,1.18208,1.18246,1.18094,1.18272,1.18292,1.17954,1.17791,1.17794,1.17648,1.17268,1.17512,1.1746,1.17515,1.17529,1.17292,1.17043,1.16606,1.16728,1.16743,1.16816,1.16688,1.16994,1.1651,1.1648,1.16419,1.16374,1.16402,1.16372,1.16277,1.16404,1.16501,1.1655,1.16968,1.17045,1.17096,1.17196,1.16842,1.1659,1.16758,1.17104,1.17151,1.17226,1.17214],\"high\":[1.18602,1.18547,1.1865,1.18605,1.18494,1.18476,1.18279,1.1825,1.18264,1.1821,1.18253,1.1836,1.18334,1.18388,1.18305,1.17976,1.1788,1.17853,1.17649,1.17606,1.17582,1.17564,1.17589,1.17576,1.17386,1.17146,1.16784,1.16789,1.16946,1.16845,1.17043,1.1703,1.16513,1.16506,1.16472,1.16492,1.16558,1.16408,1.1641,1.16514,1.16598,1.16978,1.17182,1.17399,1.17228,1.17707,1.1686,1.16954,1.17457,1.17342,1.17286,1.17396],\"low\":[1.18343,1.18254,1.18424,1.18394,1.18324,1.18131,1.18033,1.18078,1.18062,1.18068,1.18156,1.17963,1.18008,1.18198,1.17928,1.17694,1.17745,1.17499,1.17178,1.17207,1.17447,1.1744,1.17442,1.17247,1.1695,1.16549,1.16502,1.16682,1.16725,1.16605,1.16646,1.16421,1.164,1.16378,1.163,1.16222,1.16362,1.16238,1.16227,1.16236,1.16473,1.16533,1.16918,1.17024,1.16956,1.16738,1.16027,1.16284,1.16722,1.16803,1.17102,1.17178],\"open\":[1.18384,1.1853,1.18434,1.18529,1.18446,1.1833,1.1818,1.18134,1.18241,1.18094,1.18209,1.18246,1.18092,1.18274,1.18291,1.17972,1.17792,1.17794,1.17647,1.17268,1.1751,1.1746,1.17516,1.1753,1.1729,1.17042,1.16606,1.16745,1.16744,1.16818,1.16689,1.16995,1.16508,1.16501,1.1642,1.16373,1.16404,1.16371,1.16278,1.16387,1.16502,1.1655,1.16966,1.17046,1.17097,1.17178,1.16843,1.16588,1.1676,1.17106,1.1715,1.17226],\"type\":\"candlestick\",\"x\":[\"2020-10-23T09:00:00.000000000Z\",\"2020-10-23T13:00:00.000000000Z\",\"2020-10-23T17:00:00.000000000Z\",\"2020-10-25T21:00:00.000000000Z\",\"2020-10-26T01:00:00.000000000Z\",\"2020-10-26T05:00:00.000000000Z\",\"2020-10-26T09:00:00.000000000Z\",\"2020-10-26T13:00:00.000000000Z\",\"2020-10-26T17:00:00.000000000Z\",\"2020-10-26T21:00:00.000000000Z\",\"2020-10-27T01:00:00.000000000Z\",\"2020-10-27T05:00:00.000000000Z\",\"2020-10-27T09:00:00.000000000Z\",\"2020-10-27T13:00:00.000000000Z\",\"2020-10-27T17:00:00.000000000Z\",\"2020-10-27T21:00:00.000000000Z\",\"2020-10-28T01:00:00.000000000Z\",\"2020-10-28T05:00:00.000000000Z\",\"2020-10-28T09:00:00.000000000Z\",\"2020-10-28T13:00:00.000000000Z\",\"2020-10-28T17:00:00.000000000Z\",\"2020-10-28T21:00:00.000000000Z\",\"2020-10-29T01:00:00.000000000Z\",\"2020-10-29T05:00:00.000000000Z\",\"2020-10-29T09:00:00.000000000Z\",\"2020-10-29T13:00:00.000000000Z\",\"2020-10-29T17:00:00.000000000Z\",\"2020-10-29T21:00:00.000000000Z\",\"2020-10-30T01:00:00.000000000Z\",\"2020-10-30T05:00:00.000000000Z\",\"2020-10-30T09:00:00.000000000Z\",\"2020-10-30T13:00:00.000000000Z\",\"2020-10-30T17:00:00.000000000Z\",\"2020-11-01T22:00:00.000000000Z\",\"2020-11-02T02:00:00.000000000Z\",\"2020-11-02T06:00:00.000000000Z\",\"2020-11-02T10:00:00.000000000Z\",\"2020-11-02T14:00:00.000000000Z\",\"2020-11-02T18:00:00.000000000Z\",\"2020-11-02T22:00:00.000000000Z\",\"2020-11-03T02:00:00.000000000Z\",\"2020-11-03T06:00:00.000000000Z\",\"2020-11-03T10:00:00.000000000Z\",\"2020-11-03T14:00:00.000000000Z\",\"2020-11-03T18:00:00.000000000Z\",\"2020-11-03T22:00:00.000000000Z\",\"2020-11-04T02:00:00.000000000Z\",\"2020-11-04T06:00:00.000000000Z\",\"2020-11-04T10:00:00.000000000Z\",\"2020-11-04T14:00:00.000000000Z\",\"2020-11-04T18:00:00.000000000Z\",\"2020-11-04T22:00:00.000000000Z\"]}],                        {\"template\":{\"data\":{\"bar\":[{\"error_x\":{\"color\":\"#2a3f5f\"},\"error_y\":{\"color\":\"#2a3f5f\"},\"marker\":{\"line\":{\"color\":\"#E5ECF6\",\"width\":0.5},\"pattern\":{\"fillmode\":\"overlay\",\"size\":10,\"solidity\":0.2}},\"type\":\"bar\"}],\"barpolar\":[{\"marker\":{\"line\":{\"color\":\"#E5ECF6\",\"width\":0.5},\"pattern\":{\"fillmode\":\"overlay\",\"size\":10,\"solidity\":0.2}},\"type\":\"barpolar\"}],\"carpet\":[{\"aaxis\":{\"endlinecolor\":\"#2a3f5f\",\"gridcolor\":\"white\",\"linecolor\":\"white\",\"minorgridcolor\":\"white\",\"startlinecolor\":\"#2a3f5f\"},\"baxis\":{\"endlinecolor\":\"#2a3f5f\",\"gridcolor\":\"white\",\"linecolor\":\"white\",\"minorgridcolor\":\"white\",\"startlinecolor\":\"#2a3f5f\"},\"type\":\"carpet\"}],\"choropleth\":[{\"colorbar\":{\"outlinewidth\":0,\"ticks\":\"\"},\"type\":\"choropleth\"}],\"contour\":[{\"colorbar\":{\"outlinewidth\":0,\"ticks\":\"\"},\"colorscale\":[[0.0,\"#0d0887\"],[0.1111111111111111,\"#46039f\"],[0.2222222222222222,\"#7201a8\"],[0.3333333333333333,\"#9c179e\"],[0.4444444444444444,\"#bd3786\"],[0.5555555555555556,\"#d8576b\"],[0.6666666666666666,\"#ed7953\"],[0.7777777777777778,\"#fb9f3a\"],[0.8888888888888888,\"#fdca26\"],[1.0,\"#f0f921\"]],\"type\":\"contour\"}],\"contourcarpet\":[{\"colorbar\":{\"outlinewidth\":0,\"ticks\":\"\"},\"type\":\"contourcarpet\"}],\"heatmap\":[{\"colorbar\":{\"outlinewidth\":0,\"ticks\":\"\"},\"colorscale\":[[0.0,\"#0d0887\"],[0.1111111111111111,\"#46039f\"],[0.2222222222222222,\"#7201a8\"],[0.3333333333333333,\"#9c179e\"],[0.4444444444444444,\"#bd3786\"],[0.5555555555555556,\"#d8576b\"],[0.6666666666666666,\"#ed7953\"],[0.7777777777777778,\"#fb9f3a\"],[0.8888888888888888,\"#fdca26\"],[1.0,\"#f0f921\"]],\"type\":\"heatmap\"}],\"heatmapgl\":[{\"colorbar\":{\"outlinewidth\":0,\"ticks\":\"\"},\"colorscale\":[[0.0,\"#0d0887\"],[0.1111111111111111,\"#46039f\"],[0.2222222222222222,\"#7201a8\"],[0.3333333333333333,\"#9c179e\"],[0.4444444444444444,\"#bd3786\"],[0.5555555555555556,\"#d8576b\"],[0.6666666666666666,\"#ed7953\"],[0.7777777777777778,\"#fb9f3a\"],[0.8888888888888888,\"#fdca26\"],[1.0,\"#f0f921\"]],\"type\":\"heatmapgl\"}],\"histogram\":[{\"marker\":{\"pattern\":{\"fillmode\":\"overlay\",\"size\":10,\"solidity\":0.2}},\"type\":\"histogram\"}],\"histogram2d\":[{\"colorbar\":{\"outlinewidth\":0,\"ticks\":\"\"},\"colorscale\":[[0.0,\"#0d0887\"],[0.1111111111111111,\"#46039f\"],[0.2222222222222222,\"#7201a8\"],[0.3333333333333333,\"#9c179e\"],[0.4444444444444444,\"#bd3786\"],[0.5555555555555556,\"#d8576b\"],[0.6666666666666666,\"#ed7953\"],[0.7777777777777778,\"#fb9f3a\"],[0.8888888888888888,\"#fdca26\"],[1.0,\"#f0f921\"]],\"type\":\"histogram2d\"}],\"histogram2dcontour\":[{\"colorbar\":{\"outlinewidth\":0,\"ticks\":\"\"},\"colorscale\":[[0.0,\"#0d0887\"],[0.1111111111111111,\"#46039f\"],[0.2222222222222222,\"#7201a8\"],[0.3333333333333333,\"#9c179e\"],[0.4444444444444444,\"#bd3786\"],[0.5555555555555556,\"#d8576b\"],[0.6666666666666666,\"#ed7953\"],[0.7777777777777778,\"#fb9f3a\"],[0.8888888888888888,\"#fdca26\"],[1.0,\"#f0f921\"]],\"type\":\"histogram2dcontour\"}],\"mesh3d\":[{\"colorbar\":{\"outlinewidth\":0,\"ticks\":\"\"},\"type\":\"mesh3d\"}],\"parcoords\":[{\"line\":{\"colorbar\":{\"outlinewidth\":0,\"ticks\":\"\"}},\"type\":\"parcoords\"}],\"pie\":[{\"automargin\":true,\"type\":\"pie\"}],\"scatter\":[{\"marker\":{\"colorbar\":{\"outlinewidth\":0,\"ticks\":\"\"}},\"type\":\"scatter\"}],\"scatter3d\":[{\"line\":{\"colorbar\":{\"outlinewidth\":0,\"ticks\":\"\"}},\"marker\":{\"colorbar\":{\"outlinewidth\":0,\"ticks\":\"\"}},\"type\":\"scatter3d\"}],\"scattercarpet\":[{\"marker\":{\"colorbar\":{\"outlinewidth\":0,\"ticks\":\"\"}},\"type\":\"scattercarpet\"}],\"scattergeo\":[{\"marker\":{\"colorbar\":{\"outlinewidth\":0,\"ticks\":\"\"}},\"type\":\"scattergeo\"}],\"scattergl\":[{\"marker\":{\"colorbar\":{\"outlinewidth\":0,\"ticks\":\"\"}},\"type\":\"scattergl\"}],\"scattermapbox\":[{\"marker\":{\"colorbar\":{\"outlinewidth\":0,\"ticks\":\"\"}},\"type\":\"scattermapbox\"}],\"scatterpolar\":[{\"marker\":{\"colorbar\":{\"outlinewidth\":0,\"ticks\":\"\"}},\"type\":\"scatterpolar\"}],\"scatterpolargl\":[{\"marker\":{\"colorbar\":{\"outlinewidth\":0,\"ticks\":\"\"}},\"type\":\"scatterpolargl\"}],\"scatterternary\":[{\"marker\":{\"colorbar\":{\"outlinewidth\":0,\"ticks\":\"\"}},\"type\":\"scatterternary\"}],\"surface\":[{\"colorbar\":{\"outlinewidth\":0,\"ticks\":\"\"},\"colorscale\":[[0.0,\"#0d0887\"],[0.1111111111111111,\"#46039f\"],[0.2222222222222222,\"#7201a8\"],[0.3333333333333333,\"#9c179e\"],[0.4444444444444444,\"#bd3786\"],[0.5555555555555556,\"#d8576b\"],[0.6666666666666666,\"#ed7953\"],[0.7777777777777778,\"#fb9f3a\"],[0.8888888888888888,\"#fdca26\"],[1.0,\"#f0f921\"]],\"type\":\"surface\"}],\"table\":[{\"cells\":{\"fill\":{\"color\":\"#EBF0F8\"},\"line\":{\"color\":\"white\"}},\"header\":{\"fill\":{\"color\":\"#C8D4E3\"},\"line\":{\"color\":\"white\"}},\"type\":\"table\"}]},\"layout\":{\"annotationdefaults\":{\"arrowcolor\":\"#2a3f5f\",\"arrowhead\":0,\"arrowwidth\":1},\"autotypenumbers\":\"strict\",\"coloraxis\":{\"colorbar\":{\"outlinewidth\":0,\"ticks\":\"\"}},\"colorscale\":{\"diverging\":[[0,\"#8e0152\"],[0.1,\"#c51b7d\"],[0.2,\"#de77ae\"],[0.3,\"#f1b6da\"],[0.4,\"#fde0ef\"],[0.5,\"#f7f7f7\"],[0.6,\"#e6f5d0\"],[0.7,\"#b8e186\"],[0.8,\"#7fbc41\"],[0.9,\"#4d9221\"],[1,\"#276419\"]],\"sequential\":[[0.0,\"#0d0887\"],[0.1111111111111111,\"#46039f\"],[0.2222222222222222,\"#7201a8\"],[0.3333333333333333,\"#9c179e\"],[0.4444444444444444,\"#bd3786\"],[0.5555555555555556,\"#d8576b\"],[0.6666666666666666,\"#ed7953\"],[0.7777777777777778,\"#fb9f3a\"],[0.8888888888888888,\"#fdca26\"],[1.0,\"#f0f921\"]],\"sequentialminus\":[[0.0,\"#0d0887\"],[0.1111111111111111,\"#46039f\"],[0.2222222222222222,\"#7201a8\"],[0.3333333333333333,\"#9c179e\"],[0.4444444444444444,\"#bd3786\"],[0.5555555555555556,\"#d8576b\"],[0.6666666666666666,\"#ed7953\"],[0.7777777777777778,\"#fb9f3a\"],[0.8888888888888888,\"#fdca26\"],[1.0,\"#f0f921\"]]},\"colorway\":[\"#636efa\",\"#EF553B\",\"#00cc96\",\"#ab63fa\",\"#FFA15A\",\"#19d3f3\",\"#FF6692\",\"#B6E880\",\"#FF97FF\",\"#FECB52\"],\"font\":{\"color\":\"#2a3f5f\"},\"geo\":{\"bgcolor\":\"white\",\"lakecolor\":\"white\",\"landcolor\":\"#E5ECF6\",\"showlakes\":true,\"showland\":true,\"subunitcolor\":\"white\"},\"hoverlabel\":{\"align\":\"left\"},\"hovermode\":\"closest\",\"mapbox\":{\"style\":\"light\"},\"paper_bgcolor\":\"white\",\"plot_bgcolor\":\"#E5ECF6\",\"polar\":{\"angularaxis\":{\"gridcolor\":\"white\",\"linecolor\":\"white\",\"ticks\":\"\"},\"bgcolor\":\"#E5ECF6\",\"radialaxis\":{\"gridcolor\":\"white\",\"linecolor\":\"white\",\"ticks\":\"\"}},\"scene\":{\"xaxis\":{\"backgroundcolor\":\"#E5ECF6\",\"gridcolor\":\"white\",\"gridwidth\":2,\"linecolor\":\"white\",\"showbackground\":true,\"ticks\":\"\",\"zerolinecolor\":\"white\"},\"yaxis\":{\"backgroundcolor\":\"#E5ECF6\",\"gridcolor\":\"white\",\"gridwidth\":2,\"linecolor\":\"white\",\"showbackground\":true,\"ticks\":\"\",\"zerolinecolor\":\"white\"},\"zaxis\":{\"backgroundcolor\":\"#E5ECF6\",\"gridcolor\":\"white\",\"gridwidth\":2,\"linecolor\":\"white\",\"showbackground\":true,\"ticks\":\"\",\"zerolinecolor\":\"white\"}},\"shapedefaults\":{\"line\":{\"color\":\"#2a3f5f\"}},\"ternary\":{\"aaxis\":{\"gridcolor\":\"white\",\"linecolor\":\"white\",\"ticks\":\"\"},\"baxis\":{\"gridcolor\":\"white\",\"linecolor\":\"white\",\"ticks\":\"\"},\"bgcolor\":\"#E5ECF6\",\"caxis\":{\"gridcolor\":\"white\",\"linecolor\":\"white\",\"ticks\":\"\"}},\"title\":{\"x\":0.05},\"xaxis\":{\"automargin\":true,\"gridcolor\":\"white\",\"linecolor\":\"white\",\"ticks\":\"\",\"title\":{\"standoff\":15},\"zerolinecolor\":\"white\",\"zerolinewidth\":2},\"yaxis\":{\"automargin\":true,\"gridcolor\":\"white\",\"linecolor\":\"white\",\"ticks\":\"\",\"title\":{\"standoff\":15},\"zerolinecolor\":\"white\",\"zerolinewidth\":2}}},\"title\":{\"font\":{\"color\":\"blue\",\"size\":20},\"text\":\"Neighbor: 8124 EUR_USD H4\"},\"xaxis\":{\"rangebreaks\":[{\"bounds\":[\"sat\",\"mon\"]}],\"rangeslider\":{\"visible\":false}}},                        {\"responsive\": true}                    ).then(function(){\n",
       "                            \n",
       "var gd = document.getElementById('754ca8fc-38ef-4a8c-9262-a4280be59727');\n",
       "var x = new MutationObserver(function (mutations, observer) {{\n",
       "        var display = window.getComputedStyle(gd).display;\n",
       "        if (!display || display === 'none') {{\n",
       "            console.log([gd, 'removed!']);\n",
       "            Plotly.purge(gd);\n",
       "            observer.disconnect();\n",
       "        }}\n",
       "}});\n",
       "\n",
       "// Listen for the removal of the full notebook cells\n",
       "var notebookContainer = gd.closest('#notebook-container');\n",
       "if (notebookContainer) {{\n",
       "    x.observe(notebookContainer, {childList: true});\n",
       "}}\n",
       "\n",
       "// Listen for the clearing of the current output cell\n",
       "var outputEl = gd.closest('.output');\n",
       "if (outputEl) {{\n",
       "    x.observe(outputEl, {childList: true});\n",
       "}}\n",
       "\n",
       "                        })                };                });            </script>        </div>"
      ]
     },
     "metadata": {},
     "output_type": "display_data"
    }
   ],
   "source": [
    "for indice in indices[1:6]:\n",
    "    recommendation_log = \"{}_data.csv\".format(indice)\n",
    "    data = pd.read_csv(filename)\n",
    "    data = data.iloc[indice-2:indice+50]\n",
    "    data.to_csv(path + \"/\" + recommendation_log, header = True, index = False)\n",
    "    print ('Neighbor:', indice, '|', '10K Records:', Load_10K_Records)\n",
    "    viz(data, indice.astype(str))"
   ]
  },
  {
   "cell_type": "code",
   "execution_count": 44,
   "metadata": {},
   "outputs": [
    {
     "data": {
      "text/plain": [
       "''"
      ]
     },
     "execution_count": 44,
     "metadata": {},
     "output_type": "execute_result"
    }
   ],
   "source": [
    "currentpath = os.path.join(sys.path[0])\n",
    "pngfiles = []\n",
    "pngfiles = glob.glob(currentpath+\"/\"+path+\"/*.png\")\n",
    "pdf = FPDF()\n",
    "\n",
    "for pngfile in pngfiles:\n",
    "    pdf.add_page()\n",
    "    pdf.image(pngfile, w=200, h=130)\n",
    "    \n",
    "pdf.output(path+\"/recommendations.pdf\", \"F\")"
   ]
  }
 ],
 "metadata": {
  "kernelspec": {
   "display_name": "Python 3 (ipykernel)",
   "language": "python",
   "name": "python3"
  },
  "language_info": {
   "codemirror_mode": {
    "name": "ipython",
    "version": 3
   },
   "file_extension": ".py",
   "mimetype": "text/x-python",
   "name": "python",
   "nbconvert_exporter": "python",
   "pygments_lexer": "ipython3",
   "version": "3.9.7"
  }
 },
 "nbformat": 4,
 "nbformat_minor": 2
}
