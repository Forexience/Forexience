{
 "cells": [
  {
   "cell_type": "code",
   "execution_count": 1,
   "metadata": {},
   "outputs": [],
   "source": [
    "import requests\n",
    "import json\n",
    "import time\n",
    "import re\n",
    "import datetime\n",
    "import calendar\n",
    "import dateutil.parser as parser\n",
    "from dateutil.relativedelta import relativedelta\n",
    "from datetime import datetime, timezone\n",
    "import yaml\n",
    "import pandas as pd\n",
    "import numpy as np\n",
    "import warnings\n",
    "warnings.filterwarnings('ignore')\n",
    "import plotly.graph_objects as go\n",
    "import seaborn as sns\n",
    "import matplotlib.pyplot as plt\n",
    "from sklearn.preprocessing import StandardScaler\n",
    "from sklearn.cluster import KMeans\n",
    "from scipy.spatial.distance import cdist\n",
    "from sklearn.neighbors import NearestNeighbors\n",
    "from yellowbrick.cluster import KElbowVisualizer, SilhouetteVisualizer\n",
    "import os\n",
    "import kaleido"
   ]
  },
  {
   "cell_type": "code",
   "execution_count": 2,
   "metadata": {},
   "outputs": [],
   "source": [
    "def convert_date(utc_time): \n",
    "    parsed_date = parser.parse(utc_time)\n",
    "    var_date=parsed_date.date()\n",
    "    var_time=parsed_date.time()\n",
    "    var_weekday=parsed_date.weekday()\n",
    "    var_weekday_name=calendar.day_name[parsed_date.weekday()]\n",
    "    return var_date, var_time, var_weekday ,var_weekday_name"
   ]
  },
  {
   "cell_type": "code",
   "execution_count": 3,
   "metadata": {},
   "outputs": [],
   "source": [
    "def eda(data):\n",
    "    output=[]\n",
    "    for col in data.columns:\n",
    "        duplicatedvalue = data[col].duplicated().sum()\n",
    "        duplicatedrows = data.duplicated().sum()\n",
    "        missingvalue = np.sum(pd.isna(data[col]))\n",
    "        uniquevalue = data[col].nunique()\n",
    "        datatype = str(data[col].dtype)\n",
    "        \n",
    "        output.append([col, duplicatedvalue, duplicatedrows, missingvalue, uniquevalue, datatype])\n",
    "        \n",
    "    output = pd.DataFrame(output) \n",
    "    output.columns = ['Features', 'Duplicated Values', 'Duplicated Rows', 'Missing Values', 'Unique Values', 'Data Type']\n",
    "    display(output)"
   ]
  },
  {
   "cell_type": "code",
   "execution_count": 4,
   "metadata": {},
   "outputs": [],
   "source": [
    "def perc_on_bar(plot, feature):\n",
    "    total = len(feature)\n",
    "    for p in ax.patches:\n",
    "        percentage = \"{:.1f}%\".format(100 * p.get_height() / total)\n",
    "        x = p.get_x() + p.get_width() / 2 - 0.05\n",
    "        y = p.get_y() + p.get_height()\n",
    "        ax.annotate(percentage, (x, y), size=12)\n",
    "    plt.show()"
   ]
  },
  {
   "cell_type": "code",
   "execution_count": 5,
   "metadata": {},
   "outputs": [],
   "source": [
    "def viz(data, candle_no):\n",
    "    fig = go.Figure(data=[go.Candlestick(x=data['UTC_Time'],\n",
    "                open=data['Open'],\n",
    "                high=data['High'],\n",
    "                low=data['Low'],\n",
    "                close=data['Close'])])\n",
    "\n",
    "    fig.update_layout(xaxis_rangeslider_visible=False,\n",
    "                      title=pair + \" \" + timeframe,\n",
    "                      title_font_color=\"blue\",\n",
    "                      title_font_size = 30)\n",
    "    \n",
    "    fig.update_xaxes(rangebreaks=[dict(bounds=[\"sat\", \"mon\"])])\n",
    "    \n",
    "    fig.write_image(path + \"/\" + candle_no + \"_chart.png\")\n",
    "    \n",
    "    fig.show()"
   ]
  },
  {
   "cell_type": "code",
   "execution_count": 6,
   "metadata": {},
   "outputs": [],
   "source": [
    "def market_order(instrument, units, take_profit, stop_loss):\n",
    "    login_request_body = {\n",
    "        \"order\": {\n",
    "            \"type\": \"MARKET\",\n",
    "            \"instrument\": instrument,\n",
    "            \"units\": units,\n",
    "            \"timeInForce\": \"IOC\",\n",
    "            \"positionFill\": \"DEFAULT\",\n",
    "            \"takeProfitOnFill\": {\n",
    "                \"price\": take_profit\n",
    "            },\n",
    "            \"stopLossOnFill\": {\n",
    "                \"price\": stop_loss\n",
    "            }\n",
    "        }\n",
    "    }\n",
    "    response = requests.post(provider_api_url, data=json.dumps(login_request_body),\n",
    "                             headers=request_headers,\n",
    "                             verify=False)\n",
    "    response\n",
    "    response.status_code"
   ]
  },
  {
   "cell_type": "markdown",
   "metadata": {},
   "source": [
    "### The Configs for Run:"
   ]
  },
  {
   "cell_type": "code",
   "execution_count": 7,
   "metadata": {},
   "outputs": [],
   "source": [
    "with open ('config.yml') as ymlfile:\n",
    "    cfg = yaml.safe_load(ymlfile)\n",
    "    oanda_api_key = cfg['creds']['oanda_api']\n",
    "    account_number = cfg['creds']['account_number'] "
   ]
  },
  {
   "cell_type": "markdown",
   "metadata": {},
   "source": [
    "### <font color='red'>Currency Pair</font>"
   ]
  },
  {
   "cell_type": "code",
   "execution_count": 8,
   "metadata": {},
   "outputs": [],
   "source": [
    "Load_10K_Records=True\n",
    "\n",
    "currency_pairs = ['EUR_USD','EUR_GBP','EUR_NZD','EUR_AUD','EUR_CHF','EUR_CAD',\n",
    "                  'GBP_USD','GBP_CHF','GBP_NZD','GBP_AUD','GBP_CAD','AUD_USD',\n",
    "                  'AUD_CAD','AUD_CHF','AUD_NZD','NZD_USD','NZD_CHF','NZD_CAD',\n",
    "                  'USD_CAD','USD_CHF','CAD_CHF']\n",
    "\n",
    "currency_pairs = [\"EUR_USD\"]\n",
    "\n",
    "\n",
    "timeframe = \"H4\"\n",
    "#D #H1 #H4 M30\n",
    "# https://developer.oanda.com/rest-live-v20/instrument-df/#CandlestickGranularity\n",
    "price_char = \"M\"\n",
    "#M(midpoint candles) #B(bid candles) #A(ask candles) #BA\n",
    "price_com = \"mid\"\n",
    "#mid #bid #ask\n",
    "\n",
    "# def of OANDA request variable\n",
    "provider_api_url = 'https://api-fxpractice.oanda.com/v3/accounts/101-001-16477519-001/orders'\n",
    "request_headers = {\n",
    "    \"Authorization\": oanda_api_key,\n",
    "    \"Accept-Datetime-Format\": \"RFC3339\",\n",
    "    \"Connection\": \"Keep-Alive\",\n",
    "    \"Content-Type\": \"application/json;charset=UTF-8\"\n",
    "}\n"
   ]
  },
  {
   "cell_type": "code",
   "execution_count": 9,
   "metadata": {},
   "outputs": [],
   "source": [
    "provider_authorization = 'Bearer {0}'.format(oanda_api_key)\n",
    "\n",
    "headers = {\n",
    "    'Content-Type': 'application/json',\n",
    "    'Authorization': provider_authorization,\n",
    "}"
   ]
  },
  {
   "cell_type": "markdown",
   "metadata": {},
   "source": [
    "### Logging"
   ]
  },
  {
   "cell_type": "code",
   "execution_count": 10,
   "metadata": {},
   "outputs": [],
   "source": [
    "now = datetime.now()\n",
    "for pair in currency_pairs:\n",
    "    Log_Folder = now.strftime(\"%d-%m-%Y_%I-%M_%p\")\n",
    "    path = os.path.join(Log_Folder+\"_\"+pair)\n",
    "    os.mkdir(path)"
   ]
  },
  {
   "cell_type": "markdown",
   "metadata": {},
   "source": [
    "# Get Candlesticks Data"
   ]
  },
  {
   "cell_type": "markdown",
   "metadata": {},
   "source": [
    "### Pricing & Spread Cost"
   ]
  },
  {
   "cell_type": "code",
   "execution_count": 11,
   "metadata": {},
   "outputs": [],
   "source": [
    "for pair in currency_pairs:\n",
    "    pricing_params = (\n",
    "        ('instruments', pair),\n",
    "    )\n",
    "    response = requests.get('https://api-fxpractice.oanda.com/v3/accounts/{}/pricing'.format(account_number),\n",
    "                            headers=headers,\n",
    "                            params=pricing_params).json()"
   ]
  },
  {
   "cell_type": "code",
   "execution_count": 12,
   "metadata": {},
   "outputs": [
    {
     "name": "stdout",
     "output_type": "stream",
     "text": [
      "Date: 2021-09-26T22:46:49.410051834Z Ask: 1.17211 Bid: 1.17207\n"
     ]
    }
   ],
   "source": [
    "time = response['time']\n",
    "ask = response['prices'][0]['closeoutAsk']\n",
    "bid = response['prices'][0]['closeoutBid']\n",
    "print ('Date:', time, 'Ask:', ask, 'Bid:', bid)"
   ]
  },
  {
   "cell_type": "markdown",
   "metadata": {},
   "source": [
    "### Open Positions"
   ]
  },
  {
   "cell_type": "code",
   "execution_count": 13,
   "metadata": {},
   "outputs": [
    {
     "data": {
      "text/plain": [
       "[{'instrument': 'EUR_USD',\n",
       "  'long': {'units': '0',\n",
       "   'pl': '-44894.1846',\n",
       "   'resettablePL': '-44894.1846',\n",
       "   'financing': '-354.9302',\n",
       "   'dividendAdjustment': '0.0000',\n",
       "   'guaranteedExecutionFees': '0.0000',\n",
       "   'unrealizedPL': '0.0000'},\n",
       "  'short': {'units': '-1000000',\n",
       "   'averagePrice': '1.16879',\n",
       "   'pl': '5318.9488',\n",
       "   'resettablePL': '5318.9488',\n",
       "   'financing': '-53.9916',\n",
       "   'dividendAdjustment': '0.0000',\n",
       "   'guaranteedExecutionFees': '0.0000',\n",
       "   'tradeIDs': ['5851'],\n",
       "   'unrealizedPL': '-3320.0000'},\n",
       "  'pl': '-39575.2358',\n",
       "  'resettablePL': '-39575.2358',\n",
       "  'financing': '-408.9218',\n",
       "  'commission': '1700.0200',\n",
       "  'dividendAdjustment': '0.0000',\n",
       "  'guaranteedExecutionFees': '0.0000',\n",
       "  'unrealizedPL': '-3320.0000',\n",
       "  'marginUsed': '23441.8000'}]"
      ]
     },
     "execution_count": 13,
     "metadata": {},
     "output_type": "execute_result"
    }
   ],
   "source": [
    "response = requests.get('https://api-fxpractice.oanda.com/v3/accounts/{}/openPositions'.format(account_number),\n",
    "                            headers=headers,\n",
    "                            params=pricing_params).json()\n",
    "response['positions']"
   ]
  },
  {
   "cell_type": "markdown",
   "metadata": {},
   "source": [
    "###  Candlestick Data"
   ]
  },
  {
   "cell_type": "code",
   "execution_count": 14,
   "metadata": {},
   "outputs": [],
   "source": [
    "params_count = (\n",
    "    ('price', price_char),\n",
    "    ('count', '5000'),\n",
    "    ('granularity', timeframe),\n",
    ")\n"
   ]
  },
  {
   "cell_type": "code",
   "execution_count": 15,
   "metadata": {
    "scrolled": false
   },
   "outputs": [],
   "source": [
    "for pair in currency_pairs:\n",
    "    first_response = requests.get('https://api-fxpractice.oanda.com/v3/instruments/{}/candles'.format(pair), \n",
    "                            headers=headers,\n",
    "                            params=params_count).json()"
   ]
  },
  {
   "cell_type": "code",
   "execution_count": 16,
   "metadata": {},
   "outputs": [],
   "source": [
    "if Load_10K_Records:\n",
    "    datetime_object = parser.parse(first_response['candles'][0]['time'])\n",
    "    date= datetime_object - relativedelta(years=3)  \n",
    "    from_date = date.replace(tzinfo=timezone.utc).timestamp()\n",
    "    params_date = (\n",
    "        ('count', '5000'),\n",
    "        ('price', price_char),\n",
    "        ('from', from_date),\n",
    "        ('granularity', timeframe),)\n",
    "\n",
    "    second_response = requests.get('https://api-fxpractice.oanda.com/v3/instruments/{}/candles'.format(pair),\n",
    "                                   headers=headers,\n",
    "                                   params=params_date).json()\n",
    "            \n",
    "    first_response= first_response['candles']  \n",
    "    second_response= second_response['candles']\n",
    "    second_response.extend(first_response)\n",
    "    response=second_response\n",
    "else:\n",
    "    response=first_response['candles']"
   ]
  },
  {
   "cell_type": "code",
   "execution_count": 17,
   "metadata": {},
   "outputs": [],
   "source": [
    "filename = \"{}_{}.csv\".format(pair, timeframe)\n",
    "output = []\n",
    "all_candlesticks = response\n",
    "\n",
    "for i in range (len(all_candlesticks)):\n",
    "    result= (convert_date(response[i]['time']))\n",
    "    output.append([(result[0]),(result[1]),(result[2]),(result[3]),\n",
    "                    response[i]['time'],\n",
    "                    response[i]['volume'], \n",
    "                    response[i][price_com]['o'],\n",
    "                    response[i][price_com]['h'],\n",
    "                    response[i][price_com]['l'],\n",
    "                    response[i][price_com]['c']])\n",
    "    \n",
    "output = pd.DataFrame(output)\n",
    "output.columns = ['Date', 'Time', 'Weekday','Weekday_Name','UTC_Time', 'Volume', 'Open', 'High', 'Low', 'Close']\n",
    "data = output.to_csv(filename, header = True, index = False)\n",
    "data = pd.read_csv(filename)"
   ]
  },
  {
   "cell_type": "code",
   "execution_count": 18,
   "metadata": {},
   "outputs": [
    {
     "data": {
      "text/html": [
       "<div>\n",
       "<style scoped>\n",
       "    .dataframe tbody tr th:only-of-type {\n",
       "        vertical-align: middle;\n",
       "    }\n",
       "\n",
       "    .dataframe tbody tr th {\n",
       "        vertical-align: top;\n",
       "    }\n",
       "\n",
       "    .dataframe thead th {\n",
       "        text-align: right;\n",
       "    }\n",
       "</style>\n",
       "<table border=\"1\" class=\"dataframe\">\n",
       "  <thead>\n",
       "    <tr style=\"text-align: right;\">\n",
       "      <th></th>\n",
       "      <th>Date</th>\n",
       "      <th>Time</th>\n",
       "      <th>Weekday</th>\n",
       "      <th>Weekday_Name</th>\n",
       "      <th>UTC_Time</th>\n",
       "      <th>Volume</th>\n",
       "      <th>Open</th>\n",
       "      <th>High</th>\n",
       "      <th>Low</th>\n",
       "      <th>Close</th>\n",
       "    </tr>\n",
       "  </thead>\n",
       "  <tbody>\n",
       "    <tr>\n",
       "      <th>0</th>\n",
       "      <td>2015-07-09</td>\n",
       "      <td>21:00:00</td>\n",
       "      <td>3</td>\n",
       "      <td>Thursday</td>\n",
       "      <td>2015-07-09T21:00:00.000000000Z</td>\n",
       "      <td>3928</td>\n",
       "      <td>1.10354</td>\n",
       "      <td>1.10833</td>\n",
       "      <td>1.10312</td>\n",
       "      <td>1.10731</td>\n",
       "    </tr>\n",
       "    <tr>\n",
       "      <th>1</th>\n",
       "      <td>2015-07-10</td>\n",
       "      <td>01:00:00</td>\n",
       "      <td>4</td>\n",
       "      <td>Friday</td>\n",
       "      <td>2015-07-10T01:00:00.000000000Z</td>\n",
       "      <td>3573</td>\n",
       "      <td>1.10733</td>\n",
       "      <td>1.11040</td>\n",
       "      <td>1.10718</td>\n",
       "      <td>1.10970</td>\n",
       "    </tr>\n",
       "    <tr>\n",
       "      <th>2</th>\n",
       "      <td>2015-07-10</td>\n",
       "      <td>05:00:00</td>\n",
       "      <td>4</td>\n",
       "      <td>Friday</td>\n",
       "      <td>2015-07-10T05:00:00.000000000Z</td>\n",
       "      <td>12003</td>\n",
       "      <td>1.10968</td>\n",
       "      <td>1.11340</td>\n",
       "      <td>1.10786</td>\n",
       "      <td>1.11136</td>\n",
       "    </tr>\n",
       "    <tr>\n",
       "      <th>3</th>\n",
       "      <td>2015-07-10</td>\n",
       "      <td>09:00:00</td>\n",
       "      <td>4</td>\n",
       "      <td>Friday</td>\n",
       "      <td>2015-07-10T09:00:00.000000000Z</td>\n",
       "      <td>13740</td>\n",
       "      <td>1.11133</td>\n",
       "      <td>1.12159</td>\n",
       "      <td>1.11092</td>\n",
       "      <td>1.11974</td>\n",
       "    </tr>\n",
       "    <tr>\n",
       "      <th>4</th>\n",
       "      <td>2015-07-10</td>\n",
       "      <td>13:00:00</td>\n",
       "      <td>4</td>\n",
       "      <td>Friday</td>\n",
       "      <td>2015-07-10T13:00:00.000000000Z</td>\n",
       "      <td>11703</td>\n",
       "      <td>1.11971</td>\n",
       "      <td>1.12078</td>\n",
       "      <td>1.11262</td>\n",
       "      <td>1.11285</td>\n",
       "    </tr>\n",
       "  </tbody>\n",
       "</table>\n",
       "</div>"
      ],
      "text/plain": [
       "         Date      Time  Weekday Weekday_Name                        UTC_Time  \\\n",
       "0  2015-07-09  21:00:00        3     Thursday  2015-07-09T21:00:00.000000000Z   \n",
       "1  2015-07-10  01:00:00        4       Friday  2015-07-10T01:00:00.000000000Z   \n",
       "2  2015-07-10  05:00:00        4       Friday  2015-07-10T05:00:00.000000000Z   \n",
       "3  2015-07-10  09:00:00        4       Friday  2015-07-10T09:00:00.000000000Z   \n",
       "4  2015-07-10  13:00:00        4       Friday  2015-07-10T13:00:00.000000000Z   \n",
       "\n",
       "   Volume     Open     High      Low    Close  \n",
       "0    3928  1.10354  1.10833  1.10312  1.10731  \n",
       "1    3573  1.10733  1.11040  1.10718  1.10970  \n",
       "2   12003  1.10968  1.11340  1.10786  1.11136  \n",
       "3   13740  1.11133  1.12159  1.11092  1.11974  \n",
       "4   11703  1.11971  1.12078  1.11262  1.11285  "
      ]
     },
     "execution_count": 18,
     "metadata": {},
     "output_type": "execute_result"
    }
   ],
   "source": [
    "data.head()"
   ]
  },
  {
   "cell_type": "code",
   "execution_count": 19,
   "metadata": {},
   "outputs": [
    {
     "data": {
      "text/html": [
       "<div>\n",
       "<style scoped>\n",
       "    .dataframe tbody tr th:only-of-type {\n",
       "        vertical-align: middle;\n",
       "    }\n",
       "\n",
       "    .dataframe tbody tr th {\n",
       "        vertical-align: top;\n",
       "    }\n",
       "\n",
       "    .dataframe thead th {\n",
       "        text-align: right;\n",
       "    }\n",
       "</style>\n",
       "<table border=\"1\" class=\"dataframe\">\n",
       "  <thead>\n",
       "    <tr style=\"text-align: right;\">\n",
       "      <th></th>\n",
       "      <th>Date</th>\n",
       "      <th>Time</th>\n",
       "      <th>Weekday</th>\n",
       "      <th>Weekday_Name</th>\n",
       "      <th>UTC_Time</th>\n",
       "      <th>Volume</th>\n",
       "      <th>Open</th>\n",
       "      <th>High</th>\n",
       "      <th>Low</th>\n",
       "      <th>Close</th>\n",
       "    </tr>\n",
       "  </thead>\n",
       "  <tbody>\n",
       "    <tr>\n",
       "      <th>9995</th>\n",
       "      <td>2021-09-24</td>\n",
       "      <td>05:00:00</td>\n",
       "      <td>4</td>\n",
       "      <td>Friday</td>\n",
       "      <td>2021-09-24T05:00:00.000000000Z</td>\n",
       "      <td>13270</td>\n",
       "      <td>1.17373</td>\n",
       "      <td>1.17416</td>\n",
       "      <td>1.17309</td>\n",
       "      <td>1.17359</td>\n",
       "    </tr>\n",
       "    <tr>\n",
       "      <th>9996</th>\n",
       "      <td>2021-09-24</td>\n",
       "      <td>09:00:00</td>\n",
       "      <td>4</td>\n",
       "      <td>Friday</td>\n",
       "      <td>2021-09-24T09:00:00.000000000Z</td>\n",
       "      <td>15460</td>\n",
       "      <td>1.17360</td>\n",
       "      <td>1.17382</td>\n",
       "      <td>1.17066</td>\n",
       "      <td>1.17066</td>\n",
       "    </tr>\n",
       "    <tr>\n",
       "      <th>9997</th>\n",
       "      <td>2021-09-24</td>\n",
       "      <td>13:00:00</td>\n",
       "      <td>4</td>\n",
       "      <td>Friday</td>\n",
       "      <td>2021-09-24T13:00:00.000000000Z</td>\n",
       "      <td>20795</td>\n",
       "      <td>1.17066</td>\n",
       "      <td>1.17255</td>\n",
       "      <td>1.17008</td>\n",
       "      <td>1.17162</td>\n",
       "    </tr>\n",
       "    <tr>\n",
       "      <th>9998</th>\n",
       "      <td>2021-09-24</td>\n",
       "      <td>17:00:00</td>\n",
       "      <td>4</td>\n",
       "      <td>Friday</td>\n",
       "      <td>2021-09-24T17:00:00.000000000Z</td>\n",
       "      <td>5123</td>\n",
       "      <td>1.17163</td>\n",
       "      <td>1.17227</td>\n",
       "      <td>1.17132</td>\n",
       "      <td>1.17206</td>\n",
       "    </tr>\n",
       "    <tr>\n",
       "      <th>9999</th>\n",
       "      <td>2021-09-26</td>\n",
       "      <td>21:00:00</td>\n",
       "      <td>6</td>\n",
       "      <td>Sunday</td>\n",
       "      <td>2021-09-26T21:00:00.000000000Z</td>\n",
       "      <td>9687</td>\n",
       "      <td>1.17281</td>\n",
       "      <td>1.17281</td>\n",
       "      <td>1.17157</td>\n",
       "      <td>1.17209</td>\n",
       "    </tr>\n",
       "  </tbody>\n",
       "</table>\n",
       "</div>"
      ],
      "text/plain": [
       "            Date      Time  Weekday Weekday_Name  \\\n",
       "9995  2021-09-24  05:00:00        4       Friday   \n",
       "9996  2021-09-24  09:00:00        4       Friday   \n",
       "9997  2021-09-24  13:00:00        4       Friday   \n",
       "9998  2021-09-24  17:00:00        4       Friday   \n",
       "9999  2021-09-26  21:00:00        6       Sunday   \n",
       "\n",
       "                            UTC_Time  Volume     Open     High      Low  \\\n",
       "9995  2021-09-24T05:00:00.000000000Z   13270  1.17373  1.17416  1.17309   \n",
       "9996  2021-09-24T09:00:00.000000000Z   15460  1.17360  1.17382  1.17066   \n",
       "9997  2021-09-24T13:00:00.000000000Z   20795  1.17066  1.17255  1.17008   \n",
       "9998  2021-09-24T17:00:00.000000000Z    5123  1.17163  1.17227  1.17132   \n",
       "9999  2021-09-26T21:00:00.000000000Z    9687  1.17281  1.17281  1.17157   \n",
       "\n",
       "        Close  \n",
       "9995  1.17359  \n",
       "9996  1.17066  \n",
       "9997  1.17162  \n",
       "9998  1.17206  \n",
       "9999  1.17209  "
      ]
     },
     "execution_count": 19,
     "metadata": {},
     "output_type": "execute_result"
    }
   ],
   "source": [
    "data.tail()"
   ]
  },
  {
   "cell_type": "raw",
   "metadata": {},
   "source": [
    "data['Open'] = data['Open']\n",
    "data['Close'] = data['Close']\n",
    "data['High'] = data['High']\n",
    "data['Low'] = data['Low']"
   ]
  },
  {
   "cell_type": "code",
   "execution_count": 20,
   "metadata": {},
   "outputs": [],
   "source": [
    "data = data.drop_duplicates()"
   ]
  },
  {
   "cell_type": "code",
   "execution_count": 21,
   "metadata": {},
   "outputs": [],
   "source": [
    "data = data.to_csv(filename, header = True, index = False)"
   ]
  },
  {
   "cell_type": "code",
   "execution_count": 22,
   "metadata": {},
   "outputs": [],
   "source": [
    "data = pd.read_csv(filename)"
   ]
  },
  {
   "cell_type": "code",
   "execution_count": 23,
   "metadata": {},
   "outputs": [
    {
     "data": {
      "text/plain": [
       "(9659, 10)"
      ]
     },
     "execution_count": 23,
     "metadata": {},
     "output_type": "execute_result"
    }
   ],
   "source": [
    "data.shape"
   ]
  },
  {
   "cell_type": "raw",
   "metadata": {},
   "source": [
    "viz(data)"
   ]
  },
  {
   "cell_type": "markdown",
   "metadata": {},
   "source": [
    "# <font color='red'>CANDLE INDEX NUMBER</font>"
   ]
  },
  {
   "cell_type": "code",
   "execution_count": 24,
   "metadata": {},
   "outputs": [
    {
     "data": {
      "text/plain": [
       "9657"
      ]
     },
     "execution_count": 24,
     "metadata": {},
     "output_type": "execute_result"
    }
   ],
   "source": [
    "candle_no = len(data) - 2\n",
    "candle_no"
   ]
  },
  {
   "cell_type": "raw",
   "metadata": {},
   "source": [
    "data = pd.read_csv(filename)\n",
    "data = data.iloc[candle_no:candle_no+1]\n",
    "viz(data)"
   ]
  },
  {
   "cell_type": "markdown",
   "metadata": {},
   "source": [
    "# Feature Engineering"
   ]
  },
  {
   "cell_type": "markdown",
   "metadata": {},
   "source": [
    "### CandleStick Data"
   ]
  },
  {
   "cell_type": "code",
   "execution_count": 25,
   "metadata": {},
   "outputs": [],
   "source": [
    "data['O-H'] = data['Open'] - data['High']\n",
    "data['O-L'] = data['Open'] - data['Low']\n",
    "data['O-C'] = data['Open'] - data['Close']\n",
    "data['H-L'] = data['High'] - data['Low']\n",
    "data['H-C'] = data['High'] - data['Close']\n",
    "data['L-C'] = data['Low'] - data['Close']"
   ]
  },
  {
   "cell_type": "code",
   "execution_count": 26,
   "metadata": {},
   "outputs": [],
   "source": [
    "data['Direction'] = data['O-C'].apply(lambda x: 1 if x<0 else 0)"
   ]
  },
  {
   "cell_type": "code",
   "execution_count": 27,
   "metadata": {},
   "outputs": [],
   "source": [
    "data = data.to_csv(filename, header = True, index = False)"
   ]
  },
  {
   "cell_type": "code",
   "execution_count": 28,
   "metadata": {},
   "outputs": [],
   "source": [
    "data = pd.read_csv(filename)"
   ]
  },
  {
   "cell_type": "code",
   "execution_count": 29,
   "metadata": {},
   "outputs": [
    {
     "data": {
      "text/html": [
       "<div>\n",
       "<style scoped>\n",
       "    .dataframe tbody tr th:only-of-type {\n",
       "        vertical-align: middle;\n",
       "    }\n",
       "\n",
       "    .dataframe tbody tr th {\n",
       "        vertical-align: top;\n",
       "    }\n",
       "\n",
       "    .dataframe thead th {\n",
       "        text-align: right;\n",
       "    }\n",
       "</style>\n",
       "<table border=\"1\" class=\"dataframe\">\n",
       "  <thead>\n",
       "    <tr style=\"text-align: right;\">\n",
       "      <th></th>\n",
       "      <th>Date</th>\n",
       "      <th>Time</th>\n",
       "      <th>Weekday</th>\n",
       "      <th>Weekday_Name</th>\n",
       "      <th>UTC_Time</th>\n",
       "      <th>Volume</th>\n",
       "      <th>Open</th>\n",
       "      <th>High</th>\n",
       "      <th>Low</th>\n",
       "      <th>Close</th>\n",
       "      <th>O-H</th>\n",
       "      <th>O-L</th>\n",
       "      <th>O-C</th>\n",
       "      <th>H-L</th>\n",
       "      <th>H-C</th>\n",
       "      <th>L-C</th>\n",
       "      <th>Direction</th>\n",
       "    </tr>\n",
       "  </thead>\n",
       "  <tbody>\n",
       "    <tr>\n",
       "      <th>0</th>\n",
       "      <td>2015-07-09</td>\n",
       "      <td>21:00:00</td>\n",
       "      <td>3</td>\n",
       "      <td>Thursday</td>\n",
       "      <td>2015-07-09T21:00:00.000000000Z</td>\n",
       "      <td>3928</td>\n",
       "      <td>1.10354</td>\n",
       "      <td>1.10833</td>\n",
       "      <td>1.10312</td>\n",
       "      <td>1.10731</td>\n",
       "      <td>-0.00479</td>\n",
       "      <td>0.00042</td>\n",
       "      <td>-0.00377</td>\n",
       "      <td>0.00521</td>\n",
       "      <td>0.00102</td>\n",
       "      <td>-0.00419</td>\n",
       "      <td>1</td>\n",
       "    </tr>\n",
       "    <tr>\n",
       "      <th>1</th>\n",
       "      <td>2015-07-10</td>\n",
       "      <td>01:00:00</td>\n",
       "      <td>4</td>\n",
       "      <td>Friday</td>\n",
       "      <td>2015-07-10T01:00:00.000000000Z</td>\n",
       "      <td>3573</td>\n",
       "      <td>1.10733</td>\n",
       "      <td>1.11040</td>\n",
       "      <td>1.10718</td>\n",
       "      <td>1.10970</td>\n",
       "      <td>-0.00307</td>\n",
       "      <td>0.00015</td>\n",
       "      <td>-0.00237</td>\n",
       "      <td>0.00322</td>\n",
       "      <td>0.00070</td>\n",
       "      <td>-0.00252</td>\n",
       "      <td>1</td>\n",
       "    </tr>\n",
       "    <tr>\n",
       "      <th>2</th>\n",
       "      <td>2015-07-10</td>\n",
       "      <td>05:00:00</td>\n",
       "      <td>4</td>\n",
       "      <td>Friday</td>\n",
       "      <td>2015-07-10T05:00:00.000000000Z</td>\n",
       "      <td>12003</td>\n",
       "      <td>1.10968</td>\n",
       "      <td>1.11340</td>\n",
       "      <td>1.10786</td>\n",
       "      <td>1.11136</td>\n",
       "      <td>-0.00372</td>\n",
       "      <td>0.00182</td>\n",
       "      <td>-0.00168</td>\n",
       "      <td>0.00554</td>\n",
       "      <td>0.00204</td>\n",
       "      <td>-0.00350</td>\n",
       "      <td>1</td>\n",
       "    </tr>\n",
       "    <tr>\n",
       "      <th>3</th>\n",
       "      <td>2015-07-10</td>\n",
       "      <td>09:00:00</td>\n",
       "      <td>4</td>\n",
       "      <td>Friday</td>\n",
       "      <td>2015-07-10T09:00:00.000000000Z</td>\n",
       "      <td>13740</td>\n",
       "      <td>1.11133</td>\n",
       "      <td>1.12159</td>\n",
       "      <td>1.11092</td>\n",
       "      <td>1.11974</td>\n",
       "      <td>-0.01026</td>\n",
       "      <td>0.00041</td>\n",
       "      <td>-0.00841</td>\n",
       "      <td>0.01067</td>\n",
       "      <td>0.00185</td>\n",
       "      <td>-0.00882</td>\n",
       "      <td>1</td>\n",
       "    </tr>\n",
       "    <tr>\n",
       "      <th>4</th>\n",
       "      <td>2015-07-10</td>\n",
       "      <td>13:00:00</td>\n",
       "      <td>4</td>\n",
       "      <td>Friday</td>\n",
       "      <td>2015-07-10T13:00:00.000000000Z</td>\n",
       "      <td>11703</td>\n",
       "      <td>1.11971</td>\n",
       "      <td>1.12078</td>\n",
       "      <td>1.11262</td>\n",
       "      <td>1.11285</td>\n",
       "      <td>-0.00107</td>\n",
       "      <td>0.00709</td>\n",
       "      <td>0.00686</td>\n",
       "      <td>0.00816</td>\n",
       "      <td>0.00793</td>\n",
       "      <td>-0.00023</td>\n",
       "      <td>0</td>\n",
       "    </tr>\n",
       "  </tbody>\n",
       "</table>\n",
       "</div>"
      ],
      "text/plain": [
       "         Date      Time  Weekday Weekday_Name                        UTC_Time  \\\n",
       "0  2015-07-09  21:00:00        3     Thursday  2015-07-09T21:00:00.000000000Z   \n",
       "1  2015-07-10  01:00:00        4       Friday  2015-07-10T01:00:00.000000000Z   \n",
       "2  2015-07-10  05:00:00        4       Friday  2015-07-10T05:00:00.000000000Z   \n",
       "3  2015-07-10  09:00:00        4       Friday  2015-07-10T09:00:00.000000000Z   \n",
       "4  2015-07-10  13:00:00        4       Friday  2015-07-10T13:00:00.000000000Z   \n",
       "\n",
       "   Volume     Open     High      Low    Close      O-H      O-L      O-C  \\\n",
       "0    3928  1.10354  1.10833  1.10312  1.10731 -0.00479  0.00042 -0.00377   \n",
       "1    3573  1.10733  1.11040  1.10718  1.10970 -0.00307  0.00015 -0.00237   \n",
       "2   12003  1.10968  1.11340  1.10786  1.11136 -0.00372  0.00182 -0.00168   \n",
       "3   13740  1.11133  1.12159  1.11092  1.11974 -0.01026  0.00041 -0.00841   \n",
       "4   11703  1.11971  1.12078  1.11262  1.11285 -0.00107  0.00709  0.00686   \n",
       "\n",
       "       H-L      H-C      L-C  Direction  \n",
       "0  0.00521  0.00102 -0.00419          1  \n",
       "1  0.00322  0.00070 -0.00252          1  \n",
       "2  0.00554  0.00204 -0.00350          1  \n",
       "3  0.01067  0.00185 -0.00882          1  \n",
       "4  0.00816  0.00793 -0.00023          0  "
      ]
     },
     "execution_count": 29,
     "metadata": {},
     "output_type": "execute_result"
    }
   ],
   "source": [
    "data.head()"
   ]
  },
  {
   "cell_type": "raw",
   "metadata": {},
   "source": [
    "eda (data)"
   ]
  },
  {
   "cell_type": "raw",
   "metadata": {},
   "source": [
    "plt.figure(figsize=(20,10))\n",
    "plt.xticks(rotation = 90)\n",
    "ax = sns.countplot(data['Direction'].tail(30), order=data['Direction'].tail(30).value_counts().index)\n",
    "perc_on_bar(ax, data['Direction'].tail(30))"
   ]
  },
  {
   "cell_type": "raw",
   "metadata": {},
   "source": [
    "data = data.tail(30)\n",
    "viz(data)"
   ]
  },
  {
   "cell_type": "markdown",
   "metadata": {},
   "source": [
    "# Modeling"
   ]
  },
  {
   "cell_type": "code",
   "execution_count": 30,
   "metadata": {},
   "outputs": [],
   "source": [
    "data = pd.read_csv(filename)"
   ]
  },
  {
   "cell_type": "code",
   "execution_count": 31,
   "metadata": {},
   "outputs": [],
   "source": [
    "data = data.drop(columns=['Volume','Weekday','Date','Time',\n",
    "                          'Weekday_Name','UTC_Time','Direction',\n",
    "                          'Open', 'High', 'Low', 'Close'])\n",
    "\n",
    "#'Volume', 'Direction'"
   ]
  },
  {
   "cell_type": "markdown",
   "metadata": {},
   "source": [
    "### Scaling using Standard Scaler"
   ]
  },
  {
   "cell_type": "raw",
   "metadata": {},
   "source": [
    "all_col = data.iloc[:,1:].columns.tolist()\n",
    "scaler=StandardScaler()\n",
    "subset=data[all_col].copy()\n",
    "subset_scaled=scaler.fit_transform(subset)   \n",
    "subset_scaled_df=pd.DataFrame(subset_scaled,columns=subset.columns)\n",
    "subset_scaled_df"
   ]
  },
  {
   "cell_type": "raw",
   "metadata": {},
   "source": [
    "clusters=range(1,10)\n",
    "meanDistortions=[]\n",
    "\n",
    "for k in clusters:\n",
    "    model=KMeans(n_clusters=k)\n",
    "    model.fit(subset_scaled_df)\n",
    "    prediction=model.predict(subset_scaled_df)\n",
    "    distortion=sum(np.min(cdist(subset_scaled_df, model.cluster_centers_, 'euclidean'), axis=1)) / subset_scaled_df.shape[0]\n",
    "                           \n",
    "    meanDistortions.append(distortion)\n",
    "\n",
    "    print('Number of Clusters:', k, '\\tAverage Distortion:', distortion)\n",
    "\n",
    "plt.plot(clusters, meanDistortions, 'bx-')\n",
    "plt.xlabel('k')\n",
    "plt.ylabel('Average Distortion')\n",
    "plt.title('Selecting k with the Elbow Method', fontsize=20)"
   ]
  },
  {
   "cell_type": "raw",
   "metadata": {},
   "source": [
    "visualizer =  KElbowVisualizer(KMeans(random_state = 1))\n",
    "visualizer.fit(subset_scaled_df)    \n",
    "visualizer.show()"
   ]
  },
  {
   "cell_type": "code",
   "execution_count": 32,
   "metadata": {},
   "outputs": [],
   "source": [
    "def find_k_similar_candles(candle_id, dataset, k=6):\n",
    "    indices=[]\n",
    "    distances = []\n",
    "    output = []\n",
    "    model_knn = NearestNeighbors(metric = 'euclidean', algorithm = 'brute') \n",
    "    model_knn.fit(dataset)\n",
    "    \n",
    "    #metric = 'euclidean' or 'cosine'\n",
    "    \n",
    "    distances, indices = model_knn.kneighbors(dataset.iloc[candle_id,:].values.reshape(1,-1),\n",
    "                                              n_neighbors = k)\n",
    "\n",
    "    for i in range(0,len(distances.flatten())):\n",
    "        if i==0:\n",
    "            display (pd.DataFrame(data.iloc[candle_id]).transpose())\n",
    "            #print(\"Recommendation for {0}:\\n\".format(eurusd_data.index[candle_id]))\n",
    "        else:\n",
    "            #print(\"{0}: {1}, with distance of {2}\".format(i,\n",
    "            #                                               dataset.index[indices.flatten()[i]],\n",
    "            #                                               distances.flatten()[i]))\n",
    "            \n",
    "            output.append ([dataset.index[indices.flatten()[i]],\n",
    "                            distances.flatten()[i],\n",
    "                            dataset.iloc[indices.flatten()[i]]['O-H'],\n",
    "                            dataset.iloc[indices.flatten()[i]]['O-L'],\n",
    "                            dataset.iloc[indices.flatten()[i]]['O-C'],\n",
    "                            dataset.iloc[indices.flatten()[i]]['H-L'],\n",
    "                            dataset.iloc[indices.flatten()[i]]['H-C'],\n",
    "                            dataset.iloc[indices.flatten()[i]]['L-C']])\n",
    "    \n",
    "    output = pd.DataFrame(output)\n",
    "    output.columns = ['Indice','Distance','O-H','O-L','O-C','H-L','H-C','L-C']\n",
    "    display (output)\n",
    "    \n",
    "    return indices, distances"
   ]
  },
  {
   "cell_type": "markdown",
   "metadata": {},
   "source": [
    "### Top 5 Similar Candlesticks"
   ]
  },
  {
   "cell_type": "code",
   "execution_count": 33,
   "metadata": {},
   "outputs": [
    {
     "data": {
      "text/html": [
       "<div>\n",
       "<style scoped>\n",
       "    .dataframe tbody tr th:only-of-type {\n",
       "        vertical-align: middle;\n",
       "    }\n",
       "\n",
       "    .dataframe tbody tr th {\n",
       "        vertical-align: top;\n",
       "    }\n",
       "\n",
       "    .dataframe thead th {\n",
       "        text-align: right;\n",
       "    }\n",
       "</style>\n",
       "<table border=\"1\" class=\"dataframe\">\n",
       "  <thead>\n",
       "    <tr style=\"text-align: right;\">\n",
       "      <th></th>\n",
       "      <th>O-H</th>\n",
       "      <th>O-L</th>\n",
       "      <th>O-C</th>\n",
       "      <th>H-L</th>\n",
       "      <th>H-C</th>\n",
       "      <th>L-C</th>\n",
       "    </tr>\n",
       "  </thead>\n",
       "  <tbody>\n",
       "    <tr>\n",
       "      <th>9657</th>\n",
       "      <td>-0.00064</td>\n",
       "      <td>0.00031</td>\n",
       "      <td>-0.00043</td>\n",
       "      <td>0.00095</td>\n",
       "      <td>0.00021</td>\n",
       "      <td>-0.00074</td>\n",
       "    </tr>\n",
       "  </tbody>\n",
       "</table>\n",
       "</div>"
      ],
      "text/plain": [
       "          O-H      O-L      O-C      H-L      H-C      L-C\n",
       "9657 -0.00064  0.00031 -0.00043  0.00095  0.00021 -0.00074"
      ]
     },
     "metadata": {},
     "output_type": "display_data"
    },
    {
     "data": {
      "text/html": [
       "<div>\n",
       "<style scoped>\n",
       "    .dataframe tbody tr th:only-of-type {\n",
       "        vertical-align: middle;\n",
       "    }\n",
       "\n",
       "    .dataframe tbody tr th {\n",
       "        vertical-align: top;\n",
       "    }\n",
       "\n",
       "    .dataframe thead th {\n",
       "        text-align: right;\n",
       "    }\n",
       "</style>\n",
       "<table border=\"1\" class=\"dataframe\">\n",
       "  <thead>\n",
       "    <tr style=\"text-align: right;\">\n",
       "      <th></th>\n",
       "      <th>Indice</th>\n",
       "      <th>Distance</th>\n",
       "      <th>O-H</th>\n",
       "      <th>O-L</th>\n",
       "      <th>O-C</th>\n",
       "      <th>H-L</th>\n",
       "      <th>H-C</th>\n",
       "      <th>L-C</th>\n",
       "    </tr>\n",
       "  </thead>\n",
       "  <tbody>\n",
       "    <tr>\n",
       "      <th>0</th>\n",
       "      <td>5907</td>\n",
       "      <td>0.000100</td>\n",
       "      <td>-0.00060</td>\n",
       "      <td>0.00032</td>\n",
       "      <td>-0.00046</td>\n",
       "      <td>0.00092</td>\n",
       "      <td>0.00014</td>\n",
       "      <td>-0.00078</td>\n",
       "    </tr>\n",
       "    <tr>\n",
       "      <th>1</th>\n",
       "      <td>4905</td>\n",
       "      <td>0.000118</td>\n",
       "      <td>-0.00072</td>\n",
       "      <td>0.00025</td>\n",
       "      <td>-0.00048</td>\n",
       "      <td>0.00097</td>\n",
       "      <td>0.00024</td>\n",
       "      <td>-0.00073</td>\n",
       "    </tr>\n",
       "    <tr>\n",
       "      <th>2</th>\n",
       "      <td>3652</td>\n",
       "      <td>0.000131</td>\n",
       "      <td>-0.00064</td>\n",
       "      <td>0.00038</td>\n",
       "      <td>-0.00037</td>\n",
       "      <td>0.00102</td>\n",
       "      <td>0.00027</td>\n",
       "      <td>-0.00075</td>\n",
       "    </tr>\n",
       "    <tr>\n",
       "      <th>3</th>\n",
       "      <td>7030</td>\n",
       "      <td>0.000141</td>\n",
       "      <td>-0.00056</td>\n",
       "      <td>0.00038</td>\n",
       "      <td>-0.00034</td>\n",
       "      <td>0.00094</td>\n",
       "      <td>0.00022</td>\n",
       "      <td>-0.00072</td>\n",
       "    </tr>\n",
       "    <tr>\n",
       "      <th>4</th>\n",
       "      <td>5906</td>\n",
       "      <td>0.000142</td>\n",
       "      <td>-0.00060</td>\n",
       "      <td>0.00039</td>\n",
       "      <td>-0.00044</td>\n",
       "      <td>0.00099</td>\n",
       "      <td>0.00016</td>\n",
       "      <td>-0.00083</td>\n",
       "    </tr>\n",
       "  </tbody>\n",
       "</table>\n",
       "</div>"
      ],
      "text/plain": [
       "   Indice  Distance      O-H      O-L      O-C      H-L      H-C      L-C\n",
       "0    5907  0.000100 -0.00060  0.00032 -0.00046  0.00092  0.00014 -0.00078\n",
       "1    4905  0.000118 -0.00072  0.00025 -0.00048  0.00097  0.00024 -0.00073\n",
       "2    3652  0.000131 -0.00064  0.00038 -0.00037  0.00102  0.00027 -0.00075\n",
       "3    7030  0.000141 -0.00056  0.00038 -0.00034  0.00094  0.00022 -0.00072\n",
       "4    5906  0.000142 -0.00060  0.00039 -0.00044  0.00099  0.00016 -0.00083"
      ]
     },
     "metadata": {},
     "output_type": "display_data"
    }
   ],
   "source": [
    "indices, distances = find_k_similar_candles (candle_no,data)"
   ]
  },
  {
   "cell_type": "code",
   "execution_count": 34,
   "metadata": {},
   "outputs": [],
   "source": [
    "indices = indices[0:1][0]"
   ]
  },
  {
   "cell_type": "code",
   "execution_count": 35,
   "metadata": {},
   "outputs": [
    {
     "data": {
      "text/plain": [
       "array([9657, 5907, 4905, 3652, 7030, 5906], dtype=int64)"
      ]
     },
     "execution_count": 35,
     "metadata": {},
     "output_type": "execute_result"
    }
   ],
   "source": [
    "indices"
   ]
  },
  {
   "cell_type": "markdown",
   "metadata": {},
   "source": [
    "### Currnet Market/Candlestick"
   ]
  },
  {
   "cell_type": "code",
   "execution_count": null,
   "metadata": {
    "scrolled": false
   },
   "outputs": [],
   "source": [
    "closed_candle = \"currnet_market_data.csv\"\n",
    "data = pd.read_csv(filename)\n",
    "data = data.iloc[candle_no-60:candle_no+1]\n",
    "data.to_csv(path + \"/\" + closed_candle, header = True, index = False)\n",
    "viz(data, \"current_market\")"
   ]
  },
  {
   "cell_type": "markdown",
   "metadata": {},
   "source": [
    "### Recommendations"
   ]
  },
  {
   "cell_type": "code",
   "execution_count": null,
   "metadata": {
    "scrolled": false
   },
   "outputs": [],
   "source": [
    "for indice in indices[1:6]:\n",
    "    recommendation_log = \"{}_data.csv\".format(indice)\n",
    "    data = pd.read_csv(filename)\n",
    "    data = data.iloc[indice:indice+50]\n",
    "    data.to_csv(path + \"/\" + recommendation_log, header = True, index = False)\n",
    "    print ('Neighbor:', indice, '|', '10K Records:', Load_10K_Records)\n",
    "    viz(data, indice.astype(str))"
   ]
  },
  {
   "cell_type": "code",
   "execution_count": null,
   "metadata": {},
   "outputs": [],
   "source": []
  }
 ],
 "metadata": {
  "kernelspec": {
   "display_name": "Python 3 (ipykernel)",
   "language": "python",
   "name": "python3"
  },
  "language_info": {
   "codemirror_mode": {
    "name": "ipython",
    "version": 3
   },
   "file_extension": ".py",
   "mimetype": "text/x-python",
   "name": "python",
   "nbconvert_exporter": "python",
   "pygments_lexer": "ipython3",
   "version": "3.9.7"
  }
 },
 "nbformat": 4,
 "nbformat_minor": 2
}
