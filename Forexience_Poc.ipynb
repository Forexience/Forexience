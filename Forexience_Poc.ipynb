{
 "cells": [
  {
   "cell_type": "code",
   "execution_count": 33,
   "metadata": {
    "scrolled": true
   },
   "outputs": [],
   "source": [
    "import requests\n",
    "import json\n",
    "import time\n",
    "import re\n",
    "import datetime\n",
    "import yaml\n",
    "import pandas as pd"
   ]
  },
  {
   "cell_type": "code",
   "execution_count": 2,
   "metadata": {},
   "outputs": [],
   "source": [
    "with open ('config.yml') as ymlfile:\n",
    "    cfg = yaml.safe_load(ymlfile)\n",
    "    oanda_api_key = cfg['creds']['oanda_api']"
   ]
  },
  {
   "cell_type": "code",
   "execution_count": 3,
   "metadata": {},
   "outputs": [],
   "source": [
    "provider_authorization = 'Bearer {0}'.format(oanda_api_key)"
   ]
  },
  {
   "cell_type": "code",
   "execution_count": 4,
   "metadata": {},
   "outputs": [],
   "source": [
    "headers = {\n",
    "    'Content-Type': 'application/json',\n",
    "    'Authorization': provider_authorization,\n",
    "}"
   ]
  },
  {
   "cell_type": "markdown",
   "metadata": {},
   "source": [
    "### Daily Candlesticks"
   ]
  },
  {
   "cell_type": "code",
   "execution_count": 5,
   "metadata": {
    "scrolled": true
   },
   "outputs": [],
   "source": [
    "params_D = (\n",
    "    ('price', 'BA'),\n",
    "    ('from', '2016-10-17T15:00:00.000000000Z'),\n",
    "    ('granularity', 'D'),\n",
    ")\n"
   ]
  },
  {
   "cell_type": "markdown",
   "metadata": {},
   "source": [
    "### H4 Candlesticks"
   ]
  },
  {
   "cell_type": "code",
   "execution_count": 43,
   "metadata": {},
   "outputs": [],
   "source": [
    "params_4H = (\n",
    "    ('price', 'BA'),\n",
    "    ('count', '5000'),\n",
    "    ('granularity', 'H4'),\n",
    ")"
   ]
  },
  {
   "cell_type": "markdown",
   "metadata": {},
   "source": [
    "### Get the Candlestick Data"
   ]
  },
  {
   "cell_type": "code",
   "execution_count": 44,
   "metadata": {},
   "outputs": [],
   "source": [
    "response = requests.get('https://api-fxpractice.oanda.com/v3/instruments/EUR_USD/candles', \n",
    "                        headers=headers, \n",
    "                        params=params_4H).json()"
   ]
  },
  {
   "cell_type": "raw",
   "metadata": {},
   "source": [
    "response.keys()"
   ]
  },
  {
   "cell_type": "raw",
   "metadata": {},
   "source": [
    "response['candles'][0]"
   ]
  },
  {
   "cell_type": "markdown",
   "metadata": {},
   "source": [
    "### Save as CSV"
   ]
  },
  {
   "cell_type": "code",
   "execution_count": 45,
   "metadata": {},
   "outputs": [],
   "source": [
    "output = []\n",
    "all_candlesticks = response['candles']\n",
    "\n",
    "for i in range (len(all_candlesticks)):\n",
    "    output.append([response['candles'][i]['time'], \n",
    "                  response['candles'][i]['volume'], \n",
    "                  response['candles'][i]['bid']['o'],\n",
    "                  response['candles'][i]['bid']['h'],\n",
    "                  response['candles'][i]['bid']['l'],\n",
    "                  response['candles'][i]['bid']['c']])\n",
    "\n",
    "output = pd.DataFrame(output)\n",
    "output.columns = ['Time', 'Volume', 'Open', 'High', 'Low', 'Close']"
   ]
  },
  {
   "cell_type": "code",
   "execution_count": 46,
   "metadata": {},
   "outputs": [],
   "source": [
    "eurusd_data = output.to_csv('EURUSD_4H.csv', header = True, index = False)"
   ]
  },
  {
   "cell_type": "code",
   "execution_count": 48,
   "metadata": {},
   "outputs": [],
   "source": [
    "eurusd_data = pd.read_csv('EURUSD_4H.csv')"
   ]
  },
  {
   "cell_type": "code",
   "execution_count": 49,
   "metadata": {},
   "outputs": [
    {
     "data": {
      "text/plain": [
       "(5000, 6)"
      ]
     },
     "execution_count": 49,
     "metadata": {},
     "output_type": "execute_result"
    }
   ],
   "source": [
    "eurusd_data.shape"
   ]
  },
  {
   "cell_type": "code",
   "execution_count": 50,
   "metadata": {},
   "outputs": [
    {
     "data": {
      "text/html": [
       "<div>\n",
       "<style scoped>\n",
       "    .dataframe tbody tr th:only-of-type {\n",
       "        vertical-align: middle;\n",
       "    }\n",
       "\n",
       "    .dataframe tbody tr th {\n",
       "        vertical-align: top;\n",
       "    }\n",
       "\n",
       "    .dataframe thead th {\n",
       "        text-align: right;\n",
       "    }\n",
       "</style>\n",
       "<table border=\"1\" class=\"dataframe\">\n",
       "  <thead>\n",
       "    <tr style=\"text-align: right;\">\n",
       "      <th></th>\n",
       "      <th>Time</th>\n",
       "      <th>Volume</th>\n",
       "      <th>Open</th>\n",
       "      <th>High</th>\n",
       "      <th>Low</th>\n",
       "      <th>Close</th>\n",
       "    </tr>\n",
       "  </thead>\n",
       "  <tbody>\n",
       "    <tr>\n",
       "      <th>0</th>\n",
       "      <td>2018-06-04T17:00:00.000000000Z</td>\n",
       "      <td>4014</td>\n",
       "      <td>1.16852</td>\n",
       "      <td>1.17016</td>\n",
       "      <td>1.16848</td>\n",
       "      <td>1.16956</td>\n",
       "    </tr>\n",
       "    <tr>\n",
       "      <th>1</th>\n",
       "      <td>2018-06-04T21:00:00.000000000Z</td>\n",
       "      <td>4032</td>\n",
       "      <td>1.16939</td>\n",
       "      <td>1.17029</td>\n",
       "      <td>1.16901</td>\n",
       "      <td>1.16930</td>\n",
       "    </tr>\n",
       "    <tr>\n",
       "      <th>2</th>\n",
       "      <td>2018-06-05T01:00:00.000000000Z</td>\n",
       "      <td>3802</td>\n",
       "      <td>1.16928</td>\n",
       "      <td>1.16968</td>\n",
       "      <td>1.16853</td>\n",
       "      <td>1.16865</td>\n",
       "    </tr>\n",
       "    <tr>\n",
       "      <th>3</th>\n",
       "      <td>2018-06-05T05:00:00.000000000Z</td>\n",
       "      <td>12695</td>\n",
       "      <td>1.16862</td>\n",
       "      <td>1.17162</td>\n",
       "      <td>1.16825</td>\n",
       "      <td>1.17039</td>\n",
       "    </tr>\n",
       "    <tr>\n",
       "      <th>4</th>\n",
       "      <td>2018-06-05T09:00:00.000000000Z</td>\n",
       "      <td>13544</td>\n",
       "      <td>1.17034</td>\n",
       "      <td>1.17058</td>\n",
       "      <td>1.16615</td>\n",
       "      <td>1.16657</td>\n",
       "    </tr>\n",
       "    <tr>\n",
       "      <th>...</th>\n",
       "      <td>...</td>\n",
       "      <td>...</td>\n",
       "      <td>...</td>\n",
       "      <td>...</td>\n",
       "      <td>...</td>\n",
       "      <td>...</td>\n",
       "    </tr>\n",
       "    <tr>\n",
       "      <th>4995</th>\n",
       "      <td>2021-08-20T01:00:00.000000000Z</td>\n",
       "      <td>5024</td>\n",
       "      <td>1.16814</td>\n",
       "      <td>1.16869</td>\n",
       "      <td>1.16751</td>\n",
       "      <td>1.16853</td>\n",
       "    </tr>\n",
       "    <tr>\n",
       "      <th>4996</th>\n",
       "      <td>2021-08-20T05:00:00.000000000Z</td>\n",
       "      <td>15320</td>\n",
       "      <td>1.16851</td>\n",
       "      <td>1.16886</td>\n",
       "      <td>1.16701</td>\n",
       "      <td>1.16734</td>\n",
       "    </tr>\n",
       "    <tr>\n",
       "      <th>4997</th>\n",
       "      <td>2021-08-20T09:00:00.000000000Z</td>\n",
       "      <td>13877</td>\n",
       "      <td>1.16733</td>\n",
       "      <td>1.16828</td>\n",
       "      <td>1.16643</td>\n",
       "      <td>1.16678</td>\n",
       "    </tr>\n",
       "    <tr>\n",
       "      <th>4998</th>\n",
       "      <td>2021-08-20T13:00:00.000000000Z</td>\n",
       "      <td>23033</td>\n",
       "      <td>1.16676</td>\n",
       "      <td>1.17039</td>\n",
       "      <td>1.16634</td>\n",
       "      <td>1.17026</td>\n",
       "    </tr>\n",
       "    <tr>\n",
       "      <th>4999</th>\n",
       "      <td>2021-08-20T17:00:00.000000000Z</td>\n",
       "      <td>6450</td>\n",
       "      <td>1.17024</td>\n",
       "      <td>1.17039</td>\n",
       "      <td>1.16915</td>\n",
       "      <td>1.16981</td>\n",
       "    </tr>\n",
       "  </tbody>\n",
       "</table>\n",
       "<p>5000 rows × 6 columns</p>\n",
       "</div>"
      ],
      "text/plain": [
       "                                Time  Volume     Open     High      Low  \\\n",
       "0     2018-06-04T17:00:00.000000000Z    4014  1.16852  1.17016  1.16848   \n",
       "1     2018-06-04T21:00:00.000000000Z    4032  1.16939  1.17029  1.16901   \n",
       "2     2018-06-05T01:00:00.000000000Z    3802  1.16928  1.16968  1.16853   \n",
       "3     2018-06-05T05:00:00.000000000Z   12695  1.16862  1.17162  1.16825   \n",
       "4     2018-06-05T09:00:00.000000000Z   13544  1.17034  1.17058  1.16615   \n",
       "...                              ...     ...      ...      ...      ...   \n",
       "4995  2021-08-20T01:00:00.000000000Z    5024  1.16814  1.16869  1.16751   \n",
       "4996  2021-08-20T05:00:00.000000000Z   15320  1.16851  1.16886  1.16701   \n",
       "4997  2021-08-20T09:00:00.000000000Z   13877  1.16733  1.16828  1.16643   \n",
       "4998  2021-08-20T13:00:00.000000000Z   23033  1.16676  1.17039  1.16634   \n",
       "4999  2021-08-20T17:00:00.000000000Z    6450  1.17024  1.17039  1.16915   \n",
       "\n",
       "        Close  \n",
       "0     1.16956  \n",
       "1     1.16930  \n",
       "2     1.16865  \n",
       "3     1.17039  \n",
       "4     1.16657  \n",
       "...       ...  \n",
       "4995  1.16853  \n",
       "4996  1.16734  \n",
       "4997  1.16678  \n",
       "4998  1.17026  \n",
       "4999  1.16981  \n",
       "\n",
       "[5000 rows x 6 columns]"
      ]
     },
     "execution_count": 50,
     "metadata": {},
     "output_type": "execute_result"
    }
   ],
   "source": [
    "eurusd_data"
   ]
  },
  {
   "cell_type": "code",
   "execution_count": null,
   "metadata": {},
   "outputs": [],
   "source": []
  }
 ],
 "metadata": {
  "kernelspec": {
   "display_name": "Python 3",
   "language": "python",
   "name": "python3"
  },
  "language_info": {
   "codemirror_mode": {
    "name": "ipython",
    "version": 3
   },
   "file_extension": ".py",
   "mimetype": "text/x-python",
   "name": "python",
   "nbconvert_exporter": "python",
   "pygments_lexer": "ipython3",
   "version": "3.8.5"
  }
 },
 "nbformat": 4,
 "nbformat_minor": 2
}
